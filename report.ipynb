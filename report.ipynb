{
 "cells": [
  {
   "cell_type": "markdown",
   "id": "f1b19628",
   "metadata": {},
   "source": [
    "# Report"
   ]
  },
  {
   "cell_type": "code",
   "execution_count": 1,
   "id": "3d4c4913",
   "metadata": {},
   "outputs": [
    {
     "name": "stdout",
     "output_type": "stream",
     "text": [
      "INFO:openml.config:No config file found at /home/uriel/.config/openml/config, using default configuration.\n"
     ]
    }
   ],
   "source": [
    "from config import ASSETS_DIR, HYPERPARAMETERS_FILE, DATA_BASE_DIR, SEED\n",
    "from utils import log, reporting, attention\n",
    "import os\n",
    "import json\n",
    "import numpy as np\n",
    "import plotly\n",
    "import plotly.graph_objects as go\n",
    "import pandas as pd\n",
    "from sklearn import cluster, decomposition, manifold\n",
    "import torch\n",
    "\n",
    "logger = log.get_logger()"
   ]
  },
  {
   "cell_type": "markdown",
   "id": "42547e49",
   "metadata": {},
   "source": [
    "## General configurations and functions"
   ]
  },
  {
   "cell_type": "code",
   "execution_count": 2,
   "id": "5beccf8b",
   "metadata": {},
   "outputs": [],
   "source": [
    "OPTIMIZATION_METRIC = \"log_loss\"\n",
    "OPTIMIZATION_MODE = \"min\"\n",
    "EVALUATION_METRIC = \"balanced_accuracy\"\n",
    "\n",
    "MAPPINGS = {\n",
    "    \"dataset_name\": {\n",
    "            \"jasmine\": \"jasmine\",\n",
    "            \"anneal\": \"anneal\",\n",
    "            \"australian\": \"australian\",\n",
    "            \"kr-vs-kp\": \"kr-vs-kp\",\n",
    "            \"sylvine\": \"sylvine\",\n",
    "            \"nomao\": \"nomao\",\n",
    "            \"volkert\": \"volkert\",\n",
    "            \"adult\": \"adult\",\n",
    "            \"ldpa\": \"ldpa\"\n",
    "        },\n",
    "    \"aggregator_name\": {\n",
    "        \"cls\": \"CLS\",\n",
    "        \"concatenate\": \"CAT\",\n",
    "        \"max\": \"MAX\",\n",
    "        \"mean\": \"AVG\",\n",
    "        \"rnn\": \"RNN\",\n",
    "        \"sum\": \"SUM\",\n",
    "    }\n",
    "}\n",
    "\n",
    "DATASET_ORDER = [\"jasmine\", \"anneal\", \"australian\", \"kr-vs-kp\", \"sylvine\", \"nomao\", \"volkert\", \"adult\", \"ldpa\"]\n",
    "AGGREGATOR_ORDER = [\"CLS\", \"CAT\", \"RNN\", \"MAX\", \"AVG\", \"SUM\"]\n",
    "FEATURE_SELECTION_ORDER = [\"attention\", \"decision_tree\", \"linear_model\", \"f_classif\", \"random\"]\n",
    "    \n",
    "COLORS = [\"#ffc5de\", \"#ffefd8\", \"#c7f7f7\", \"#d1d1d1\", \"#bedfff\", \"#e1c5ff\"]\n",
    "COLORS = plotly.colors.qualitative.Plotly\n",
    "\n",
    "COLORS = [\"rgba({}, {}, {}, 0.8)\".format(*plotly.colors.hex_to_rgb(c)) for c in COLORS ]\n",
    "\n",
    "HP_IMPORTANCE_TOP_K = [1, 5]\n",
    "IMG_SCALE = 2.5"
   ]
  },
  {
   "cell_type": "code",
   "execution_count": 3,
   "id": "a7c6f9c4",
   "metadata": {},
   "outputs": [],
   "source": [
    "if not os.path.exists(ASSETS_DIR):\n",
    "    os.makedirs(ASSETS_DIR)"
   ]
  },
  {
   "cell_type": "markdown",
   "id": "7ab6926a",
   "metadata": {},
   "source": [
    "## Best validation models"
   ]
  },
  {
   "cell_type": "code",
   "execution_count": 4,
   "id": "37c7b0cb",
   "metadata": {},
   "outputs": [],
   "source": [
    "def num_as_str(x):\n",
    "    return \"{0:.3f}\".format(x)"
   ]
  },
  {
   "cell_type": "code",
   "execution_count": 5,
   "id": "6bf43595",
   "metadata": {},
   "outputs": [
    {
     "data": {
      "text/html": [
       "<div>\n",
       "<style scoped>\n",
       "    .dataframe tbody tr th:only-of-type {\n",
       "        vertical-align: middle;\n",
       "    }\n",
       "\n",
       "    .dataframe tbody tr th {\n",
       "        vertical-align: top;\n",
       "    }\n",
       "\n",
       "    .dataframe thead th {\n",
       "        text-align: right;\n",
       "    }\n",
       "</style>\n",
       "<table border=\"1\" class=\"dataframe\">\n",
       "  <thead>\n",
       "    <tr style=\"text-align: right;\">\n",
       "      <th></th>\n",
       "      <th>dataset</th>\n",
       "      <th>aggregator</th>\n",
       "      <th>architecture_name</th>\n",
       "      <th>attn_dropout</th>\n",
       "      <th>embed_dim</th>\n",
       "      <th>ff_dropout</th>\n",
       "      <th>n_head</th>\n",
       "      <th>n_layers</th>\n",
       "      <th>numerical_passthrough</th>\n",
       "      <th>optimizer__lr</th>\n",
       "      <th>...</th>\n",
       "      <th>log_loss_mean</th>\n",
       "      <th>log_loss_std</th>\n",
       "      <th>roc_auc_mean</th>\n",
       "      <th>roc_auc_std</th>\n",
       "      <th>f1_mean</th>\n",
       "      <th>f1_std</th>\n",
       "      <th>precision_mean</th>\n",
       "      <th>precision_std</th>\n",
       "      <th>recall_mean</th>\n",
       "      <th>recall_std</th>\n",
       "    </tr>\n",
       "  </thead>\n",
       "  <tbody>\n",
       "    <tr>\n",
       "      <th>0</th>\n",
       "      <td>adult</td>\n",
       "      <td>CLS</td>\n",
       "      <td>A0</td>\n",
       "      <td>0.3</td>\n",
       "      <td>128</td>\n",
       "      <td>0.1</td>\n",
       "      <td>4</td>\n",
       "      <td>2</td>\n",
       "      <td>True</td>\n",
       "      <td>0.0001</td>\n",
       "      <td>...</td>\n",
       "      <td>0.313841</td>\n",
       "      <td>0.005949</td>\n",
       "      <td>0.782128</td>\n",
       "      <td>0.007264</td>\n",
       "      <td>0.905666</td>\n",
       "      <td>0.002347</td>\n",
       "      <td>0.891128</td>\n",
       "      <td>0.004609</td>\n",
       "      <td>0.920736</td>\n",
       "      <td>0.006608</td>\n",
       "    </tr>\n",
       "    <tr>\n",
       "      <th>1</th>\n",
       "      <td>adult</td>\n",
       "      <td>CLS</td>\n",
       "      <td>A1</td>\n",
       "      <td>0.3</td>\n",
       "      <td>128</td>\n",
       "      <td>0.1</td>\n",
       "      <td>4</td>\n",
       "      <td>2</td>\n",
       "      <td>False</td>\n",
       "      <td>0.0001</td>\n",
       "      <td>...</td>\n",
       "      <td>0.298849</td>\n",
       "      <td>0.006955</td>\n",
       "      <td>0.786045</td>\n",
       "      <td>0.006501</td>\n",
       "      <td>0.910700</td>\n",
       "      <td>0.002980</td>\n",
       "      <td>0.891587</td>\n",
       "      <td>0.004097</td>\n",
       "      <td>0.930703</td>\n",
       "      <td>0.007685</td>\n",
       "    </tr>\n",
       "    <tr>\n",
       "      <th>2</th>\n",
       "      <td>adult</td>\n",
       "      <td>CLS</td>\n",
       "      <td>A10</td>\n",
       "      <td>0.3</td>\n",
       "      <td>128</td>\n",
       "      <td>0.1</td>\n",
       "      <td>8</td>\n",
       "      <td>3</td>\n",
       "      <td>True</td>\n",
       "      <td>0.0001</td>\n",
       "      <td>...</td>\n",
       "      <td>0.316315</td>\n",
       "      <td>0.005494</td>\n",
       "      <td>0.781634</td>\n",
       "      <td>0.011839</td>\n",
       "      <td>0.904706</td>\n",
       "      <td>0.002698</td>\n",
       "      <td>0.891279</td>\n",
       "      <td>0.007803</td>\n",
       "      <td>0.918682</td>\n",
       "      <td>0.010316</td>\n",
       "    </tr>\n",
       "    <tr>\n",
       "      <th>3</th>\n",
       "      <td>adult</td>\n",
       "      <td>CLS</td>\n",
       "      <td>A11</td>\n",
       "      <td>0.3</td>\n",
       "      <td>128</td>\n",
       "      <td>0.1</td>\n",
       "      <td>8</td>\n",
       "      <td>3</td>\n",
       "      <td>False</td>\n",
       "      <td>0.0001</td>\n",
       "      <td>...</td>\n",
       "      <td>0.299645</td>\n",
       "      <td>0.006269</td>\n",
       "      <td>0.790115</td>\n",
       "      <td>0.006428</td>\n",
       "      <td>0.910603</td>\n",
       "      <td>0.002414</td>\n",
       "      <td>0.894338</td>\n",
       "      <td>0.004550</td>\n",
       "      <td>0.927537</td>\n",
       "      <td>0.008208</td>\n",
       "    </tr>\n",
       "    <tr>\n",
       "      <th>4</th>\n",
       "      <td>adult</td>\n",
       "      <td>CLS</td>\n",
       "      <td>A12</td>\n",
       "      <td>0.3</td>\n",
       "      <td>128</td>\n",
       "      <td>0.1</td>\n",
       "      <td>8</td>\n",
       "      <td>4</td>\n",
       "      <td>True</td>\n",
       "      <td>0.0001</td>\n",
       "      <td>...</td>\n",
       "      <td>0.317639</td>\n",
       "      <td>0.006076</td>\n",
       "      <td>0.781732</td>\n",
       "      <td>0.010861</td>\n",
       "      <td>0.904602</td>\n",
       "      <td>0.002478</td>\n",
       "      <td>0.891367</td>\n",
       "      <td>0.007112</td>\n",
       "      <td>0.918345</td>\n",
       "      <td>0.009063</td>\n",
       "    </tr>\n",
       "    <tr>\n",
       "      <th>...</th>\n",
       "      <td>...</td>\n",
       "      <td>...</td>\n",
       "      <td>...</td>\n",
       "      <td>...</td>\n",
       "      <td>...</td>\n",
       "      <td>...</td>\n",
       "      <td>...</td>\n",
       "      <td>...</td>\n",
       "      <td>...</td>\n",
       "      <td>...</td>\n",
       "      <td>...</td>\n",
       "      <td>...</td>\n",
       "      <td>...</td>\n",
       "      <td>...</td>\n",
       "      <td>...</td>\n",
       "      <td>...</td>\n",
       "      <td>...</td>\n",
       "      <td>...</td>\n",
       "      <td>...</td>\n",
       "      <td>...</td>\n",
       "      <td>...</td>\n",
       "    </tr>\n",
       "    <tr>\n",
       "      <th>3067</th>\n",
       "      <td>volkert</td>\n",
       "      <td>SUM</td>\n",
       "      <td>A59</td>\n",
       "      <td>0.3</td>\n",
       "      <td>256</td>\n",
       "      <td>0.1</td>\n",
       "      <td>32</td>\n",
       "      <td>3</td>\n",
       "      <td>False</td>\n",
       "      <td>0.0001</td>\n",
       "      <td>...</td>\n",
       "      <td>0.986028</td>\n",
       "      <td>0.016224</td>\n",
       "      <td>NaN</td>\n",
       "      <td>NaN</td>\n",
       "      <td>NaN</td>\n",
       "      <td>NaN</td>\n",
       "      <td>NaN</td>\n",
       "      <td>NaN</td>\n",
       "      <td>NaN</td>\n",
       "      <td>NaN</td>\n",
       "    </tr>\n",
       "    <tr>\n",
       "      <th>3068</th>\n",
       "      <td>volkert</td>\n",
       "      <td>SUM</td>\n",
       "      <td>A61</td>\n",
       "      <td>0.3</td>\n",
       "      <td>256</td>\n",
       "      <td>0.1</td>\n",
       "      <td>32</td>\n",
       "      <td>4</td>\n",
       "      <td>False</td>\n",
       "      <td>0.0001</td>\n",
       "      <td>...</td>\n",
       "      <td>0.989968</td>\n",
       "      <td>0.018868</td>\n",
       "      <td>NaN</td>\n",
       "      <td>NaN</td>\n",
       "      <td>NaN</td>\n",
       "      <td>NaN</td>\n",
       "      <td>NaN</td>\n",
       "      <td>NaN</td>\n",
       "      <td>NaN</td>\n",
       "      <td>NaN</td>\n",
       "    </tr>\n",
       "    <tr>\n",
       "      <th>3069</th>\n",
       "      <td>volkert</td>\n",
       "      <td>SUM</td>\n",
       "      <td>A63</td>\n",
       "      <td>0.3</td>\n",
       "      <td>256</td>\n",
       "      <td>0.1</td>\n",
       "      <td>32</td>\n",
       "      <td>5</td>\n",
       "      <td>False</td>\n",
       "      <td>0.0001</td>\n",
       "      <td>...</td>\n",
       "      <td>1.002055</td>\n",
       "      <td>0.019389</td>\n",
       "      <td>NaN</td>\n",
       "      <td>NaN</td>\n",
       "      <td>NaN</td>\n",
       "      <td>NaN</td>\n",
       "      <td>NaN</td>\n",
       "      <td>NaN</td>\n",
       "      <td>NaN</td>\n",
       "      <td>NaN</td>\n",
       "    </tr>\n",
       "    <tr>\n",
       "      <th>3070</th>\n",
       "      <td>volkert</td>\n",
       "      <td>SUM</td>\n",
       "      <td>A7</td>\n",
       "      <td>0.3</td>\n",
       "      <td>128</td>\n",
       "      <td>0.1</td>\n",
       "      <td>4</td>\n",
       "      <td>5</td>\n",
       "      <td>False</td>\n",
       "      <td>0.0001</td>\n",
       "      <td>...</td>\n",
       "      <td>0.995919</td>\n",
       "      <td>0.014608</td>\n",
       "      <td>NaN</td>\n",
       "      <td>NaN</td>\n",
       "      <td>NaN</td>\n",
       "      <td>NaN</td>\n",
       "      <td>NaN</td>\n",
       "      <td>NaN</td>\n",
       "      <td>NaN</td>\n",
       "      <td>NaN</td>\n",
       "    </tr>\n",
       "    <tr>\n",
       "      <th>3071</th>\n",
       "      <td>volkert</td>\n",
       "      <td>SUM</td>\n",
       "      <td>A9</td>\n",
       "      <td>0.3</td>\n",
       "      <td>128</td>\n",
       "      <td>0.1</td>\n",
       "      <td>8</td>\n",
       "      <td>2</td>\n",
       "      <td>False</td>\n",
       "      <td>0.0001</td>\n",
       "      <td>...</td>\n",
       "      <td>0.976823</td>\n",
       "      <td>0.016513</td>\n",
       "      <td>NaN</td>\n",
       "      <td>NaN</td>\n",
       "      <td>NaN</td>\n",
       "      <td>NaN</td>\n",
       "      <td>NaN</td>\n",
       "      <td>NaN</td>\n",
       "      <td>NaN</td>\n",
       "      <td>NaN</td>\n",
       "    </tr>\n",
       "  </tbody>\n",
       "</table>\n",
       "<p>3072 rows × 29 columns</p>\n",
       "</div>"
      ],
      "text/plain": [
       "      dataset aggregator architecture_name  attn_dropout  embed_dim  \\\n",
       "0       adult        CLS                A0           0.3        128   \n",
       "1       adult        CLS                A1           0.3        128   \n",
       "2       adult        CLS               A10           0.3        128   \n",
       "3       adult        CLS               A11           0.3        128   \n",
       "4       adult        CLS               A12           0.3        128   \n",
       "...       ...        ...               ...           ...        ...   \n",
       "3067  volkert        SUM               A59           0.3        256   \n",
       "3068  volkert        SUM               A61           0.3        256   \n",
       "3069  volkert        SUM               A63           0.3        256   \n",
       "3070  volkert        SUM                A7           0.3        128   \n",
       "3071  volkert        SUM                A9           0.3        128   \n",
       "\n",
       "      ff_dropout  n_head  n_layers  numerical_passthrough  optimizer__lr  ...  \\\n",
       "0            0.1       4         2                   True         0.0001  ...   \n",
       "1            0.1       4         2                  False         0.0001  ...   \n",
       "2            0.1       8         3                   True         0.0001  ...   \n",
       "3            0.1       8         3                  False         0.0001  ...   \n",
       "4            0.1       8         4                   True         0.0001  ...   \n",
       "...          ...     ...       ...                    ...            ...  ...   \n",
       "3067         0.1      32         3                  False         0.0001  ...   \n",
       "3068         0.1      32         4                  False         0.0001  ...   \n",
       "3069         0.1      32         5                  False         0.0001  ...   \n",
       "3070         0.1       4         5                  False         0.0001  ...   \n",
       "3071         0.1       8         2                  False         0.0001  ...   \n",
       "\n",
       "      log_loss_mean log_loss_std  roc_auc_mean  roc_auc_std   f1_mean  \\\n",
       "0          0.313841     0.005949      0.782128     0.007264  0.905666   \n",
       "1          0.298849     0.006955      0.786045     0.006501  0.910700   \n",
       "2          0.316315     0.005494      0.781634     0.011839  0.904706   \n",
       "3          0.299645     0.006269      0.790115     0.006428  0.910603   \n",
       "4          0.317639     0.006076      0.781732     0.010861  0.904602   \n",
       "...             ...          ...           ...          ...       ...   \n",
       "3067       0.986028     0.016224           NaN          NaN       NaN   \n",
       "3068       0.989968     0.018868           NaN          NaN       NaN   \n",
       "3069       1.002055     0.019389           NaN          NaN       NaN   \n",
       "3070       0.995919     0.014608           NaN          NaN       NaN   \n",
       "3071       0.976823     0.016513           NaN          NaN       NaN   \n",
       "\n",
       "        f1_std  precision_mean  precision_std  recall_mean  recall_std  \n",
       "0     0.002347        0.891128       0.004609     0.920736    0.006608  \n",
       "1     0.002980        0.891587       0.004097     0.930703    0.007685  \n",
       "2     0.002698        0.891279       0.007803     0.918682    0.010316  \n",
       "3     0.002414        0.894338       0.004550     0.927537    0.008208  \n",
       "4     0.002478        0.891367       0.007112     0.918345    0.009063  \n",
       "...        ...             ...            ...          ...         ...  \n",
       "3067       NaN             NaN            NaN          NaN         NaN  \n",
       "3068       NaN             NaN            NaN          NaN         NaN  \n",
       "3069       NaN             NaN            NaN          NaN         NaN  \n",
       "3070       NaN             NaN            NaN          NaN         NaN  \n",
       "3071       NaN             NaN            NaN          NaN         NaN  \n",
       "\n",
       "[3072 rows x 29 columns]"
      ]
     },
     "execution_count": 5,
     "metadata": {},
     "output_type": "execute_result"
    }
   ],
   "source": [
    "# Compute mean and std for each metric\n",
    "# Compute mean and std for each metric\n",
    "best_archs = pd.read_csv(\"cross_validation_scores.csv\")\n",
    "\n",
    "best_archs[\"dataset\"] = best_archs[\"dataset\"].replace(MAPPINGS[\"dataset_name\"])\n",
    "best_archs[\"aggregator\"] = best_archs[\"aggregator\"].replace(MAPPINGS[\"aggregator_name\"])\n",
    "best_archs[f\"{EVALUATION_METRIC}_mean\"] = best_archs[f\"{EVALUATION_METRIC}_mean\"] * 100\n",
    "best_archs[f\"{EVALUATION_METRIC}_std\"] = best_archs[f\"{EVALUATION_METRIC}_std\"] * 100\n",
    "\n",
    "assert best_archs.shape[0] == 3072, \"The number of aggregated executions is wrong\"\n",
    "best_archs"
   ]
  },
  {
   "cell_type": "code",
   "execution_count": 6,
   "id": "5ab8ed6b",
   "metadata": {},
   "outputs": [],
   "source": [
    "# Load hyperparameter space\n",
    "with open(HYPERPARAMETERS_FILE, \"r\") as f:\n",
    "    hyperparameters = json.load(f)\n",
    "    \n",
    "hyperparameters = {\n",
    "    **hyperparameters[\"parameters\"],\n",
    "    **hyperparameters[\"rnn_parameters\"],\n",
    "}\n",
    "\n",
    "fixed_hyperparameters = { k: v[0] for k, v in hyperparameters.items() if len(v) == 1 }\n",
    "search_hyperparameters = { k: v for k, v in hyperparameters.items() if len(v) > 1 }"
   ]
  },
  {
   "cell_type": "markdown",
   "id": "54850230",
   "metadata": {},
   "source": [
    "### Per dataset & aggregator"
   ]
  },
  {
   "cell_type": "code",
   "execution_count": 7,
   "id": "65a19f2e",
   "metadata": {},
   "outputs": [
    {
     "data": {
      "text/html": [
       "<div>\n",
       "<style scoped>\n",
       "    .dataframe tbody tr th:only-of-type {\n",
       "        vertical-align: middle;\n",
       "    }\n",
       "\n",
       "    .dataframe tbody tr th {\n",
       "        vertical-align: top;\n",
       "    }\n",
       "\n",
       "    .dataframe thead th {\n",
       "        text-align: right;\n",
       "    }\n",
       "</style>\n",
       "<table border=\"1\" class=\"dataframe\">\n",
       "  <thead>\n",
       "    <tr style=\"text-align: right;\">\n",
       "      <th></th>\n",
       "      <th></th>\n",
       "      <th>CLS</th>\n",
       "      <th>CAT</th>\n",
       "      <th>RNN</th>\n",
       "      <th>MAX</th>\n",
       "      <th>AVG</th>\n",
       "      <th>SUM</th>\n",
       "    </tr>\n",
       "  </thead>\n",
       "  <tbody>\n",
       "    <tr>\n",
       "      <th>3</th>\n",
       "      <td>jasmine</td>\n",
       "      <td>$81.201 \\pm 1.161$</td>\n",
       "      <td>$80.352 \\pm 1.511$</td>\n",
       "      <td>$82.381 \\pm 0.795$</td>\n",
       "      <td>$81.763 \\pm 1.771$</td>\n",
       "      <td>$81.421 \\pm 1.468$</td>\n",
       "      <td>$80.560 \\pm 1.277$</td>\n",
       "    </tr>\n",
       "    <tr>\n",
       "      <th>1</th>\n",
       "      <td>anneal</td>\n",
       "      <td>$95.677 \\pm 8.887$</td>\n",
       "      <td>$95.260 \\pm 8.680$</td>\n",
       "      <td>$90.594 \\pm 11.434$</td>\n",
       "      <td>$91.224 \\pm 10.439$</td>\n",
       "      <td>$91.391 \\pm 11.575$</td>\n",
       "      <td>$90.477 \\pm 10.815$</td>\n",
       "    </tr>\n",
       "    <tr>\n",
       "      <th>2</th>\n",
       "      <td>australian</td>\n",
       "      <td>$85.082 \\pm 2.604$</td>\n",
       "      <td>$86.107 \\pm 3.312$</td>\n",
       "      <td>$85.565 \\pm 3.405$</td>\n",
       "      <td>$86.261 \\pm 3.544$</td>\n",
       "      <td>$86.008 \\pm 3.801$</td>\n",
       "      <td>$86.679 \\pm 2.629$</td>\n",
       "    </tr>\n",
       "    <tr>\n",
       "      <th>4</th>\n",
       "      <td>kr-vs-kp</td>\n",
       "      <td>$99.802 \\pm 0.245$</td>\n",
       "      <td>$99.884 \\pm 0.169$</td>\n",
       "      <td>$99.649 \\pm 0.167$</td>\n",
       "      <td>$99.760 \\pm 0.219$</td>\n",
       "      <td>$99.756 \\pm 0.168$</td>\n",
       "      <td>$99.715 \\pm 0.108$</td>\n",
       "    </tr>\n",
       "    <tr>\n",
       "      <th>7</th>\n",
       "      <td>sylvine</td>\n",
       "      <td>$94.890 \\pm 0.404$</td>\n",
       "      <td>$94.110 \\pm 0.327$</td>\n",
       "      <td>$94.621 \\pm 0.632$</td>\n",
       "      <td>$94.524 \\pm 0.454$</td>\n",
       "      <td>$94.276 \\pm 0.714$</td>\n",
       "      <td>$94.060 \\pm 0.493$</td>\n",
       "    </tr>\n",
       "    <tr>\n",
       "      <th>6</th>\n",
       "      <td>nomao</td>\n",
       "      <td>$nan \\pm nan$</td>\n",
       "      <td>$nan \\pm nan$</td>\n",
       "      <td>$nan \\pm nan$</td>\n",
       "      <td>$nan \\pm nan$</td>\n",
       "      <td>$nan \\pm nan$</td>\n",
       "      <td>$nan \\pm nan$</td>\n",
       "    </tr>\n",
       "    <tr>\n",
       "      <th>8</th>\n",
       "      <td>volkert</td>\n",
       "      <td>$61.911 \\pm 0.487$</td>\n",
       "      <td>$56.803 \\pm 0.580$</td>\n",
       "      <td>$60.847 \\pm 0.879$</td>\n",
       "      <td>$60.319 \\pm 0.381$</td>\n",
       "      <td>$59.238 \\pm 0.503$</td>\n",
       "      <td>$57.954 \\pm 1.138$</td>\n",
       "    </tr>\n",
       "    <tr>\n",
       "      <th>0</th>\n",
       "      <td>adult</td>\n",
       "      <td>$78.604 \\pm 0.650$</td>\n",
       "      <td>$79.006 \\pm 1.302$</td>\n",
       "      <td>$79.007 \\pm 1.168$</td>\n",
       "      <td>$78.759 \\pm 1.269$</td>\n",
       "      <td>$78.900 \\pm 1.124$</td>\n",
       "      <td>$78.311 \\pm 1.142$</td>\n",
       "    </tr>\n",
       "    <tr>\n",
       "      <th>5</th>\n",
       "      <td>ldpa</td>\n",
       "      <td>$56.023 \\pm 0.431$</td>\n",
       "      <td>$nan \\pm nan$</td>\n",
       "      <td>$nan \\pm nan$</td>\n",
       "      <td>$nan \\pm nan$</td>\n",
       "      <td>$nan \\pm nan$</td>\n",
       "      <td>$nan \\pm nan$</td>\n",
       "    </tr>\n",
       "  </tbody>\n",
       "</table>\n",
       "</div>"
      ],
      "text/plain": [
       "                              CLS                 CAT                  RNN  \\\n",
       "3     jasmine  $81.201 \\pm 1.161$  $80.352 \\pm 1.511$   $82.381 \\pm 0.795$   \n",
       "1      anneal  $95.677 \\pm 8.887$  $95.260 \\pm 8.680$  $90.594 \\pm 11.434$   \n",
       "2  australian  $85.082 \\pm 2.604$  $86.107 \\pm 3.312$   $85.565 \\pm 3.405$   \n",
       "4    kr-vs-kp  $99.802 \\pm 0.245$  $99.884 \\pm 0.169$   $99.649 \\pm 0.167$   \n",
       "7     sylvine  $94.890 \\pm 0.404$  $94.110 \\pm 0.327$   $94.621 \\pm 0.632$   \n",
       "6       nomao       $nan \\pm nan$       $nan \\pm nan$        $nan \\pm nan$   \n",
       "8     volkert  $61.911 \\pm 0.487$  $56.803 \\pm 0.580$   $60.847 \\pm 0.879$   \n",
       "0       adult  $78.604 \\pm 0.650$  $79.006 \\pm 1.302$   $79.007 \\pm 1.168$   \n",
       "5        ldpa  $56.023 \\pm 0.431$       $nan \\pm nan$        $nan \\pm nan$   \n",
       "\n",
       "                   MAX                  AVG                  SUM  \n",
       "3   $81.763 \\pm 1.771$   $81.421 \\pm 1.468$   $80.560 \\pm 1.277$  \n",
       "1  $91.224 \\pm 10.439$  $91.391 \\pm 11.575$  $90.477 \\pm 10.815$  \n",
       "2   $86.261 \\pm 3.544$   $86.008 \\pm 3.801$   $86.679 \\pm 2.629$  \n",
       "4   $99.760 \\pm 0.219$   $99.756 \\pm 0.168$   $99.715 \\pm 0.108$  \n",
       "7   $94.524 \\pm 0.454$   $94.276 \\pm 0.714$   $94.060 \\pm 0.493$  \n",
       "6        $nan \\pm nan$        $nan \\pm nan$        $nan \\pm nan$  \n",
       "8   $60.319 \\pm 0.381$   $59.238 \\pm 0.503$   $57.954 \\pm 1.138$  \n",
       "0   $78.759 \\pm 1.269$   $78.900 \\pm 1.124$   $78.311 \\pm 1.142$  \n",
       "5        $nan \\pm nan$        $nan \\pm nan$        $nan \\pm nan$  "
      ]
     },
     "execution_count": 7,
     "metadata": {},
     "output_type": "execute_result"
    }
   ],
   "source": [
    "# Get registers with the lowest optimization metric\n",
    "best_archs_ds_agg = best_archs.loc[reporting.get_top_k_indices(\n",
    "                                        best_archs.groupby([\"dataset\", \"aggregator\"]),\n",
    "                                        1,\n",
    "                                        f\"{OPTIMIZATION_METRIC}_mean\",\n",
    "                                        OPTIMIZATION_MODE\n",
    "                                        )\n",
    "                                  ]\n",
    "\n",
    "assert best_archs_ds_agg.shape[0] == 54, \"The number of optimal architectures is wrong\"\n",
    "\n",
    "\n",
    "# Adds a column to format Latex\n",
    "best_archs_ds_agg[EVALUATION_METRIC] = \"$\" + best_archs_ds_agg[f\"{EVALUATION_METRIC}_mean\"].apply(num_as_str) \\\n",
    "                                + \" \\pm \" + best_archs_ds_agg[f\"{EVALUATION_METRIC}_std\"].apply(num_as_str) + \"$\"\n",
    "\n",
    "# Exports best dataset-aggregator configuration\n",
    "\n",
    "best_archs_ds_agg = best_archs_ds_agg[[\"dataset\", \"aggregator\", EVALUATION_METRIC]] \\\n",
    "                        .pivot(index=\"dataset\", columns=\"aggregator\") \\\n",
    "                        .reset_index()\n",
    "best_archs_ds_agg.columns = [col[1] for col in best_archs_ds_agg.columns]\n",
    "\n",
    "best_archs_ds_agg = best_archs_ds_agg.sort_values(\"\", key=lambda x: x.apply(DATASET_ORDER.index))\n",
    "best_archs_ds_agg = best_archs_ds_agg[[\"\"] + AGGREGATOR_ORDER]\n",
    "\n",
    "with open(os.path.join(ASSETS_DIR, \"ds_agg_baccuracy_cv.tex\"), \"w\") as f:\n",
    "    f.write(best_archs_ds_agg.to_latex(index=False))\n",
    "    \n",
    "best_archs_ds_agg"
   ]
  },
  {
   "cell_type": "code",
   "execution_count": 8,
   "id": "edb90505",
   "metadata": {},
   "outputs": [
    {
     "data": {
      "text/html": [
       "<div>\n",
       "<style scoped>\n",
       "    .dataframe tbody tr th:only-of-type {\n",
       "        vertical-align: middle;\n",
       "    }\n",
       "\n",
       "    .dataframe tbody tr th {\n",
       "        vertical-align: top;\n",
       "    }\n",
       "\n",
       "    .dataframe thead th {\n",
       "        text-align: right;\n",
       "    }\n",
       "</style>\n",
       "<table border=\"1\" class=\"dataframe\">\n",
       "  <thead>\n",
       "    <tr style=\"text-align: right;\">\n",
       "      <th></th>\n",
       "      <th></th>\n",
       "      <th>CLS</th>\n",
       "      <th>CAT</th>\n",
       "      <th>RNN</th>\n",
       "      <th>MAX</th>\n",
       "      <th>AVG</th>\n",
       "      <th>SUM</th>\n",
       "    </tr>\n",
       "  </thead>\n",
       "  <tbody>\n",
       "    <tr>\n",
       "      <th>3</th>\n",
       "      <td>jasmine</td>\n",
       "      <td>$0.406 \\pm 0.025$</td>\n",
       "      <td>$0.415 \\pm 0.025$</td>\n",
       "      <td>$0.401 \\pm 0.022$</td>\n",
       "      <td>$0.408 \\pm 0.035$</td>\n",
       "      <td>$0.414 \\pm 0.036$</td>\n",
       "      <td>$0.417 \\pm 0.033$</td>\n",
       "    </tr>\n",
       "    <tr>\n",
       "      <th>1</th>\n",
       "      <td>anneal</td>\n",
       "      <td>$0.033 \\pm 0.048$</td>\n",
       "      <td>$0.022 \\pm 0.025$</td>\n",
       "      <td>$0.033 \\pm 0.029$</td>\n",
       "      <td>$0.030 \\pm 0.023$</td>\n",
       "      <td>$0.030 \\pm 0.027$</td>\n",
       "      <td>$0.028 \\pm 0.018$</td>\n",
       "    </tr>\n",
       "    <tr>\n",
       "      <th>2</th>\n",
       "      <td>australian</td>\n",
       "      <td>$0.318 \\pm 0.054$</td>\n",
       "      <td>$0.323 \\pm 0.055$</td>\n",
       "      <td>$0.332 \\pm 0.052$</td>\n",
       "      <td>$0.323 \\pm 0.051$</td>\n",
       "      <td>$0.329 \\pm 0.061$</td>\n",
       "      <td>$0.318 \\pm 0.060$</td>\n",
       "    </tr>\n",
       "    <tr>\n",
       "      <th>4</th>\n",
       "      <td>kr-vs-kp</td>\n",
       "      <td>$0.005 \\pm 0.005$</td>\n",
       "      <td>$0.005 \\pm 0.004$</td>\n",
       "      <td>$0.008 \\pm 0.004$</td>\n",
       "      <td>$0.006 \\pm 0.005$</td>\n",
       "      <td>$0.006 \\pm 0.004$</td>\n",
       "      <td>$0.006 \\pm 0.002$</td>\n",
       "    </tr>\n",
       "    <tr>\n",
       "      <th>7</th>\n",
       "      <td>sylvine</td>\n",
       "      <td>$0.147 \\pm 0.009$</td>\n",
       "      <td>$0.164 \\pm 0.013$</td>\n",
       "      <td>$0.154 \\pm 0.015$</td>\n",
       "      <td>$0.164 \\pm 0.013$</td>\n",
       "      <td>$0.161 \\pm 0.014$</td>\n",
       "      <td>$0.170 \\pm 0.013$</td>\n",
       "    </tr>\n",
       "    <tr>\n",
       "      <th>6</th>\n",
       "      <td>nomao</td>\n",
       "      <td>$nan \\pm nan$</td>\n",
       "      <td>$nan \\pm nan$</td>\n",
       "      <td>$nan \\pm nan$</td>\n",
       "      <td>$nan \\pm nan$</td>\n",
       "      <td>$nan \\pm nan$</td>\n",
       "      <td>$nan \\pm nan$</td>\n",
       "    </tr>\n",
       "    <tr>\n",
       "      <th>8</th>\n",
       "      <td>volkert</td>\n",
       "      <td>$0.888 \\pm 0.012$</td>\n",
       "      <td>$0.977 \\pm 0.013$</td>\n",
       "      <td>$0.923 \\pm 0.010$</td>\n",
       "      <td>$0.925 \\pm 0.015$</td>\n",
       "      <td>$0.954 \\pm 0.008$</td>\n",
       "      <td>$0.968 \\pm 0.011$</td>\n",
       "    </tr>\n",
       "    <tr>\n",
       "      <th>0</th>\n",
       "      <td>adult</td>\n",
       "      <td>$0.299 \\pm 0.007$</td>\n",
       "      <td>$0.301 \\pm 0.004$</td>\n",
       "      <td>$0.299 \\pm 0.006$</td>\n",
       "      <td>$0.299 \\pm 0.005$</td>\n",
       "      <td>$0.299 \\pm 0.007$</td>\n",
       "      <td>$0.301 \\pm 0.005$</td>\n",
       "    </tr>\n",
       "    <tr>\n",
       "      <th>5</th>\n",
       "      <td>ldpa</td>\n",
       "      <td>$0.638 \\pm 0.008$</td>\n",
       "      <td>$nan \\pm nan$</td>\n",
       "      <td>$nan \\pm nan$</td>\n",
       "      <td>$nan \\pm nan$</td>\n",
       "      <td>$nan \\pm nan$</td>\n",
       "      <td>$nan \\pm nan$</td>\n",
       "    </tr>\n",
       "  </tbody>\n",
       "</table>\n",
       "</div>"
      ],
      "text/plain": [
       "                             CLS                CAT                RNN  \\\n",
       "3     jasmine  $0.406 \\pm 0.025$  $0.415 \\pm 0.025$  $0.401 \\pm 0.022$   \n",
       "1      anneal  $0.033 \\pm 0.048$  $0.022 \\pm 0.025$  $0.033 \\pm 0.029$   \n",
       "2  australian  $0.318 \\pm 0.054$  $0.323 \\pm 0.055$  $0.332 \\pm 0.052$   \n",
       "4    kr-vs-kp  $0.005 \\pm 0.005$  $0.005 \\pm 0.004$  $0.008 \\pm 0.004$   \n",
       "7     sylvine  $0.147 \\pm 0.009$  $0.164 \\pm 0.013$  $0.154 \\pm 0.015$   \n",
       "6       nomao      $nan \\pm nan$      $nan \\pm nan$      $nan \\pm nan$   \n",
       "8     volkert  $0.888 \\pm 0.012$  $0.977 \\pm 0.013$  $0.923 \\pm 0.010$   \n",
       "0       adult  $0.299 \\pm 0.007$  $0.301 \\pm 0.004$  $0.299 \\pm 0.006$   \n",
       "5        ldpa  $0.638 \\pm 0.008$      $nan \\pm nan$      $nan \\pm nan$   \n",
       "\n",
       "                 MAX                AVG                SUM  \n",
       "3  $0.408 \\pm 0.035$  $0.414 \\pm 0.036$  $0.417 \\pm 0.033$  \n",
       "1  $0.030 \\pm 0.023$  $0.030 \\pm 0.027$  $0.028 \\pm 0.018$  \n",
       "2  $0.323 \\pm 0.051$  $0.329 \\pm 0.061$  $0.318 \\pm 0.060$  \n",
       "4  $0.006 \\pm 0.005$  $0.006 \\pm 0.004$  $0.006 \\pm 0.002$  \n",
       "7  $0.164 \\pm 0.013$  $0.161 \\pm 0.014$  $0.170 \\pm 0.013$  \n",
       "6      $nan \\pm nan$      $nan \\pm nan$      $nan \\pm nan$  \n",
       "8  $0.925 \\pm 0.015$  $0.954 \\pm 0.008$  $0.968 \\pm 0.011$  \n",
       "0  $0.299 \\pm 0.005$  $0.299 \\pm 0.007$  $0.301 \\pm 0.005$  \n",
       "5      $nan \\pm nan$      $nan \\pm nan$      $nan \\pm nan$  "
      ]
     },
     "execution_count": 8,
     "metadata": {},
     "output_type": "execute_result"
    }
   ],
   "source": [
    "# Get registers with the lowest optimization metric\n",
    "best_archs_ds_agg = best_archs.loc[reporting.get_top_k_indices(\n",
    "                                        best_archs.groupby([\"dataset\", \"aggregator\"]),\n",
    "                                        1,\n",
    "                                        f\"{OPTIMIZATION_METRIC}_mean\",\n",
    "                                        OPTIMIZATION_MODE\n",
    "                                        )\n",
    "                                  ]\n",
    "\n",
    "assert best_archs_ds_agg.shape[0] == 54, \"The number of optimal architectures is wrong\"\n",
    "\n",
    "\n",
    "# Adds a column to format Latex\n",
    "best_archs_ds_agg[OPTIMIZATION_METRIC] = \"$\" + best_archs_ds_agg[f\"{OPTIMIZATION_METRIC}_mean\"].apply(num_as_str) \\\n",
    "                                + \" \\pm \" + best_archs_ds_agg[f\"{OPTIMIZATION_METRIC}_std\"].apply(num_as_str) + \"$\"\n",
    "\n",
    "# Exports best dataset-aggregator configuration\n",
    "\n",
    "best_archs_ds_agg = best_archs_ds_agg[[\"dataset\", \"aggregator\", OPTIMIZATION_METRIC]] \\\n",
    "                        .pivot(index=\"dataset\", columns=\"aggregator\") \\\n",
    "                        .reset_index()\n",
    "best_archs_ds_agg.columns = [col[1] for col in best_archs_ds_agg.columns]\n",
    "\n",
    "best_archs_ds_agg = best_archs_ds_agg.sort_values(\"\", key=lambda x: x.apply(DATASET_ORDER.index))\n",
    "best_archs_ds_agg = best_archs_ds_agg[[\"\"] + AGGREGATOR_ORDER]\n",
    "\n",
    "with open(os.path.join(ASSETS_DIR, \"ds_agg_opt_cv.tex\"), \"w\") as f:\n",
    "    f.write(best_archs_ds_agg.to_latex(index=False))\n",
    "    \n",
    "best_archs_ds_agg"
   ]
  },
  {
   "cell_type": "markdown",
   "id": "13bced51",
   "metadata": {},
   "source": [
    "### Per dataset"
   ]
  },
  {
   "cell_type": "code",
   "execution_count": 9,
   "id": "0fafbc74",
   "metadata": {},
   "outputs": [
    {
     "data": {
      "text/html": [
       "<div>\n",
       "<style scoped>\n",
       "    .dataframe tbody tr th:only-of-type {\n",
       "        vertical-align: middle;\n",
       "    }\n",
       "\n",
       "    .dataframe tbody tr th {\n",
       "        vertical-align: top;\n",
       "    }\n",
       "\n",
       "    .dataframe thead th {\n",
       "        text-align: right;\n",
       "    }\n",
       "</style>\n",
       "<table border=\"1\" class=\"dataframe\">\n",
       "  <thead>\n",
       "    <tr style=\"text-align: right;\">\n",
       "      <th></th>\n",
       "      <th>dataset</th>\n",
       "      <th>aggregator</th>\n",
       "      <th>n_layers</th>\n",
       "      <th>n_head</th>\n",
       "      <th>embed_dim</th>\n",
       "      <th>numerical_passthrough</th>\n",
       "      <th>balanced_accuracy</th>\n",
       "    </tr>\n",
       "  </thead>\n",
       "  <tbody>\n",
       "    <tr>\n",
       "      <th>1441</th>\n",
       "      <td>jasmine</td>\n",
       "      <td>RNN</td>\n",
       "      <td>5</td>\n",
       "      <td>4</td>\n",
       "      <td>256</td>\n",
       "      <td>False</td>\n",
       "      <td>$82.381 \\pm 0.795$</td>\n",
       "    </tr>\n",
       "    <tr>\n",
       "      <th>479</th>\n",
       "      <td>anneal</td>\n",
       "      <td>CAT</td>\n",
       "      <td>4</td>\n",
       "      <td>4</td>\n",
       "      <td>256</td>\n",
       "      <td>False</td>\n",
       "      <td>$95.260 \\pm 8.680$</td>\n",
       "    </tr>\n",
       "    <tr>\n",
       "      <th>1117</th>\n",
       "      <td>australian</td>\n",
       "      <td>SUM</td>\n",
       "      <td>3</td>\n",
       "      <td>4</td>\n",
       "      <td>256</td>\n",
       "      <td>False</td>\n",
       "      <td>$86.679 \\pm 2.629$</td>\n",
       "    </tr>\n",
       "    <tr>\n",
       "      <th>1633</th>\n",
       "      <td>kr-vs-kp</td>\n",
       "      <td>CAT</td>\n",
       "      <td>5</td>\n",
       "      <td>4</td>\n",
       "      <td>256</td>\n",
       "      <td>False</td>\n",
       "      <td>$99.884 \\pm 0.169$</td>\n",
       "    </tr>\n",
       "    <tr>\n",
       "      <th>2712</th>\n",
       "      <td>sylvine</td>\n",
       "      <td>CLS</td>\n",
       "      <td>4</td>\n",
       "      <td>16</td>\n",
       "      <td>256</td>\n",
       "      <td>False</td>\n",
       "      <td>$94.890 \\pm 0.404$</td>\n",
       "    </tr>\n",
       "    <tr>\n",
       "      <th>2304</th>\n",
       "      <td>nomao</td>\n",
       "      <td>CLS</td>\n",
       "      <td>2</td>\n",
       "      <td>4</td>\n",
       "      <td>128</td>\n",
       "      <td>True</td>\n",
       "      <td>$nan \\pm nan$</td>\n",
       "    </tr>\n",
       "    <tr>\n",
       "      <th>2880</th>\n",
       "      <td>volkert</td>\n",
       "      <td>CLS</td>\n",
       "      <td>2</td>\n",
       "      <td>4</td>\n",
       "      <td>128</td>\n",
       "      <td>False</td>\n",
       "      <td>$61.911 \\pm 0.487$</td>\n",
       "    </tr>\n",
       "    <tr>\n",
       "      <th>1</th>\n",
       "      <td>adult</td>\n",
       "      <td>CLS</td>\n",
       "      <td>2</td>\n",
       "      <td>4</td>\n",
       "      <td>128</td>\n",
       "      <td>False</td>\n",
       "      <td>$78.604 \\pm 0.650$</td>\n",
       "    </tr>\n",
       "    <tr>\n",
       "      <th>2303</th>\n",
       "      <td>ldpa</td>\n",
       "      <td>SUM</td>\n",
       "      <td>2</td>\n",
       "      <td>8</td>\n",
       "      <td>128</td>\n",
       "      <td>False</td>\n",
       "      <td>$nan \\pm nan$</td>\n",
       "    </tr>\n",
       "  </tbody>\n",
       "</table>\n",
       "</div>"
      ],
      "text/plain": [
       "         dataset aggregator  n_layers  n_head  embed_dim  \\\n",
       "1441     jasmine        RNN         5       4        256   \n",
       "479       anneal        CAT         4       4        256   \n",
       "1117  australian        SUM         3       4        256   \n",
       "1633    kr-vs-kp        CAT         5       4        256   \n",
       "2712     sylvine        CLS         4      16        256   \n",
       "2304       nomao        CLS         2       4        128   \n",
       "2880     volkert        CLS         2       4        128   \n",
       "1          adult        CLS         2       4        128   \n",
       "2303        ldpa        SUM         2       8        128   \n",
       "\n",
       "      numerical_passthrough   balanced_accuracy  \n",
       "1441                  False  $82.381 \\pm 0.795$  \n",
       "479                   False  $95.260 \\pm 8.680$  \n",
       "1117                  False  $86.679 \\pm 2.629$  \n",
       "1633                  False  $99.884 \\pm 0.169$  \n",
       "2712                  False  $94.890 \\pm 0.404$  \n",
       "2304                   True       $nan \\pm nan$  \n",
       "2880                  False  $61.911 \\pm 0.487$  \n",
       "1                     False  $78.604 \\pm 0.650$  \n",
       "2303                  False       $nan \\pm nan$  "
      ]
     },
     "execution_count": 9,
     "metadata": {},
     "output_type": "execute_result"
    }
   ],
   "source": [
    "# Exports best dataset configuration\n",
    "best_archs_ds = best_archs.loc[reporting.get_top_k_indices(\n",
    "                                        best_archs.groupby([\"dataset\"]),\n",
    "                                        1,\n",
    "                                        f\"{OPTIMIZATION_METRIC}_mean\",\n",
    "                                        OPTIMIZATION_MODE\n",
    "                                        )\n",
    "                                  ]\n",
    "\n",
    "assert best_archs_ds.shape[0] == 9, \"The number of optimal architectures is wrong\"\n",
    "\n",
    "\n",
    "# Adds a column to format Latex\n",
    "best_archs_ds[EVALUATION_METRIC] = \"$\" + best_archs_ds[f\"{EVALUATION_METRIC}_mean\"].apply(num_as_str) \\\n",
    "                                + \" \\pm \" + best_archs_ds[f\"{EVALUATION_METRIC}_std\"].apply(num_as_str) + \"$\"\n",
    "\n",
    "# Exports best dataset configuration\n",
    "best_archs_ds = best_archs_ds[[\"dataset\", \"aggregator\"] + list(search_hyperparameters.keys()) + [EVALUATION_METRIC]]\n",
    "\n",
    "best_archs_ds = best_archs_ds.sort_values(\"dataset\", key=lambda x: x.apply(DATASET_ORDER.index))\n",
    "\n",
    "with open(os.path.join(ASSETS_DIR, \"ds_baccuracy_cv.tex\"), \"w\") as f:\n",
    "    f.write(best_archs_ds.drop(EVALUATION_METRIC, axis=1).to_latex(index=False))\n",
    "\n",
    "best_archs_ds"
   ]
  },
  {
   "cell_type": "markdown",
   "id": "47b18ee9-413b-4447-b309-448ac57ea2a7",
   "metadata": {},
   "source": [
    "## Best test models"
   ]
  },
  {
   "cell_type": "code",
   "execution_count": 10,
   "id": "6e71b057-d9ae-4e40-8557-5fdd89db49c1",
   "metadata": {},
   "outputs": [
    {
     "data": {
      "text/html": [
       "<div>\n",
       "<style scoped>\n",
       "    .dataframe tbody tr th:only-of-type {\n",
       "        vertical-align: middle;\n",
       "    }\n",
       "\n",
       "    .dataframe tbody tr th {\n",
       "        vertical-align: top;\n",
       "    }\n",
       "\n",
       "    .dataframe thead th {\n",
       "        text-align: right;\n",
       "    }\n",
       "</style>\n",
       "<table border=\"1\" class=\"dataframe\">\n",
       "  <thead>\n",
       "    <tr style=\"text-align: right;\">\n",
       "      <th></th>\n",
       "      <th>dataset</th>\n",
       "      <th>balanced_accuracy_test_mean</th>\n",
       "      <th>balanced_accuracy_test_std</th>\n",
       "      <th>balanced_accuracy_test_max</th>\n",
       "      <th>balanced_accuracy_test_min</th>\n",
       "    </tr>\n",
       "  </thead>\n",
       "  <tbody>\n",
       "    <tr>\n",
       "      <th>3</th>\n",
       "      <td>jasmine</td>\n",
       "      <td>79.543885</td>\n",
       "      <td>2.100097</td>\n",
       "      <td>82.868908</td>\n",
       "      <td>77.661327</td>\n",
       "    </tr>\n",
       "    <tr>\n",
       "      <th>1</th>\n",
       "      <td>anneal</td>\n",
       "      <td>99.636364</td>\n",
       "      <td>0.813116</td>\n",
       "      <td>100.000000</td>\n",
       "      <td>98.181818</td>\n",
       "    </tr>\n",
       "    <tr>\n",
       "      <th>2</th>\n",
       "      <td>australian</td>\n",
       "      <td>87.900788</td>\n",
       "      <td>2.752097</td>\n",
       "      <td>90.195870</td>\n",
       "      <td>83.329785</td>\n",
       "    </tr>\n",
       "    <tr>\n",
       "      <th>4</th>\n",
       "      <td>kr-vs-kp</td>\n",
       "      <td>99.593421</td>\n",
       "      <td>0.207034</td>\n",
       "      <td>99.687473</td>\n",
       "      <td>99.223076</td>\n",
       "    </tr>\n",
       "    <tr>\n",
       "      <th>5</th>\n",
       "      <td>sylvine</td>\n",
       "      <td>95.202399</td>\n",
       "      <td>0.355764</td>\n",
       "      <td>95.661653</td>\n",
       "      <td>94.801980</td>\n",
       "    </tr>\n",
       "    <tr>\n",
       "      <th>6</th>\n",
       "      <td>volkert</td>\n",
       "      <td>56.147338</td>\n",
       "      <td>0.852821</td>\n",
       "      <td>57.103495</td>\n",
       "      <td>55.008948</td>\n",
       "    </tr>\n",
       "    <tr>\n",
       "      <th>0</th>\n",
       "      <td>adult</td>\n",
       "      <td>78.222632</td>\n",
       "      <td>0.119212</td>\n",
       "      <td>78.384178</td>\n",
       "      <td>78.069983</td>\n",
       "    </tr>\n",
       "  </tbody>\n",
       "</table>\n",
       "</div>"
      ],
      "text/plain": [
       "      dataset  balanced_accuracy_test_mean  balanced_accuracy_test_std  \\\n",
       "3     jasmine                    79.543885                    2.100097   \n",
       "1      anneal                    99.636364                    0.813116   \n",
       "2  australian                    87.900788                    2.752097   \n",
       "4    kr-vs-kp                    99.593421                    0.207034   \n",
       "5     sylvine                    95.202399                    0.355764   \n",
       "6     volkert                    56.147338                    0.852821   \n",
       "0       adult                    78.222632                    0.119212   \n",
       "\n",
       "   balanced_accuracy_test_max  balanced_accuracy_test_min  \n",
       "3                   82.868908                   77.661327  \n",
       "1                  100.000000                   98.181818  \n",
       "2                   90.195870                   83.329785  \n",
       "4                   99.687473                   99.223076  \n",
       "5                   95.661653                   94.801980  \n",
       "6                   57.103495                   55.008948  \n",
       "0                   78.384178                   78.069983  "
      ]
     },
     "execution_count": 10,
     "metadata": {},
     "output_type": "execute_result"
    }
   ],
   "source": [
    "best_archs_test = pd.read_csv(\"selected_architectures.csv\")\n",
    "best_archs_test[\"dataset\"] = best_archs_test[\"dataset\"].replace(MAPPINGS[\"dataset_name\"])\n",
    "best_archs_test[\"aggregator\"] = best_archs_test[\"aggregator\"].replace(MAPPINGS[\"aggregator_name\"])\n",
    "best_archs_test = best_archs_test.query(\"selection_metric == @OPTIMIZATION_METRIC\")\n",
    "best_archs_test[f\"{EVALUATION_METRIC}_test_mean\"] = best_archs_test[f\"{EVALUATION_METRIC}_test_mean\"] * 100\n",
    "best_archs_test[f\"{EVALUATION_METRIC}_test_std\"] = best_archs_test[f\"{EVALUATION_METRIC}_test_std\"] * 100\n",
    "best_archs_test[f\"{EVALUATION_METRIC}_test_max\"] = best_archs_test[f\"{EVALUATION_METRIC}_test_max\"] * 100\n",
    "best_archs_test[f\"{EVALUATION_METRIC}_test_min\"] = best_archs_test[f\"{EVALUATION_METRIC}_test_min\"] * 100\n",
    "best_archs_test = best_archs_test.sort_values(\"dataset\", key=lambda x: x.apply(DATASET_ORDER.index))\n",
    "best_archs_test[[\"dataset\", f\"{EVALUATION_METRIC}_test_mean\", f\"{EVALUATION_METRIC}_test_std\", f\"{EVALUATION_METRIC}_test_max\", f\"{EVALUATION_METRIC}_test_min\"]]"
   ]
  },
  {
   "cell_type": "markdown",
   "id": "76035bbb",
   "metadata": {},
   "source": [
    "## Hyperparameters importance"
   ]
  },
  {
   "cell_type": "code",
   "execution_count": 11,
   "id": "ec36e840",
   "metadata": {},
   "outputs": [],
   "source": [
    "color_map = {}\n",
    "color_map[\"aggregator\"] = { agg: color for agg, color in zip(MAPPINGS[\"aggregator_name\"].values(), COLORS) }\n",
    "\n",
    "for k, v in search_hyperparameters.items():\n",
    "    color_map[k] = {agg: color for agg, color in zip(v, COLORS) }\n",
    "    \n",
    "label_map = {\n",
    "    \"aggregator\": \"{}\",\n",
    "    \"n_layers\": \"{} layers\",\n",
    "    \"n_head\": \"{} heads\",\n",
    "    \"embed_dim\": \"{} dims\",\n",
    "    \"numerical_passthrough\": \"{}\"    \n",
    "}"
   ]
  },
  {
   "cell_type": "code",
   "execution_count": 12,
   "id": "6c47ba01",
   "metadata": {},
   "outputs": [
    {
     "name": "stdout",
     "output_type": "stream",
     "text": [
      "Done!\n"
     ]
    }
   ],
   "source": [
    "layout = go.Layout(\n",
    "    margin={\"l\": 0, \"r\": 0, \"b\": 0, \"t\": 0},    \n",
    "    template=\"plotly_white\",\n",
    "    font={\"size\": 22}\n",
    ")\n",
    "\n",
    "for top_k_value in HP_IMPORTANCE_TOP_K:\n",
    "\n",
    "    best_archs_indices = reporting.get_top_k_indices(\n",
    "        best_archs.groupby([\"dataset\"]),\n",
    "        top_k_value,\n",
    "        f\"{OPTIMIZATION_METRIC}_mean\",\n",
    "        OPTIMIZATION_MODE\n",
    "    )\n",
    "\n",
    "    assert len(best_archs_indices) == 9 * top_k_value, \"Best architectures indices got wrong\"\n",
    "    \n",
    "    top_k_archs_df = best_archs[[\"aggregator\"] + list(search_hyperparameters.keys()) ].loc[best_archs_indices]\n",
    "    \n",
    "    for c in top_k_archs_df.columns:\n",
    "        \n",
    "        labels = []\n",
    "        values = []\n",
    "        \n",
    "        for prop, value in top_k_archs_df[c].value_counts(normalize=True).items():\n",
    "            labels.append(prop)\n",
    "            values.append(value)\n",
    "            \n",
    "        common_props = dict(\n",
    "                            labels=[label_map[c].format(l) for l in labels], \n",
    "                            values=values, \n",
    "                            showlegend=False\n",
    "                        )\n",
    "        \n",
    "        label_trace = go.Pie(**common_props, textinfo=\"label\", textposition=\"outside\")\n",
    "        percent_trace = go.Pie(**common_props, textinfo=\"percent\", textposition=\"inside\")\n",
    "            \n",
    "        fig = go.Figure(data=[label_trace, percent_trace], layout=layout)\n",
    "        fig.update_traces(\n",
    "            marker=dict(\n",
    "                    colors=[color_map[c][l] for l in labels]\n",
    "            )\n",
    "        )\n",
    "        \n",
    "        fig.write_image(os.path.join(ASSETS_DIR, f\"t{top_k_value}_{c}_importance.svg\"), scale=IMG_SCALE)\n",
    "        \n",
    "print(\"Done!\")"
   ]
  },
  {
   "cell_type": "markdown",
   "id": "4c1fc8bd",
   "metadata": {},
   "source": [
    "## Cumulative attention"
   ]
  },
  {
   "cell_type": "code",
   "execution_count": 13,
   "id": "36ddcb6c-36d0-464b-96f4-9b359633fcaf",
   "metadata": {},
   "outputs": [],
   "source": [
    "def load_attention_with_meta(dataset, selection_metric):\n",
    "    data_dir = os.path.join(DATA_BASE_DIR, dataset)\n",
    "    attention_file = os.path.join(data_dir, \"feature_selection_cluster\", selection_metric, \"attention.npy\")\n",
    "    attention_file_info = os.path.join(data_dir, \"feature_selection_cluster\", selection_metric, \"feature_selection_info.json\")\n",
    "    \n",
    "    attn = np.load(attention_file)\n",
    "\n",
    "    with open(attention_file_info, \"r\") as f:\n",
    "        data_meta = json.load(f)\n",
    "        \n",
    "    return attn, data_meta"
   ]
  },
  {
   "cell_type": "markdown",
   "id": "bb7f00e9-d817-4c07-9b8c-ab094b5d52fc",
   "metadata": {},
   "source": [
    "### Attention matrices"
   ]
  },
  {
   "cell_type": "code",
   "execution_count": 114,
   "id": "ec97516a-86cf-49be-ba12-d9a18bf8c85d",
   "metadata": {},
   "outputs": [
    {
     "data": {
      "application/vnd.plotly.v1+json": {
       "config": {
        "plotlyServerURL": "https://plot.ly"
       },
       "data": [
        {
         "marker": {
          "color": "rgba(99, 110, 250, 0.8)",
          "size": 6
         },
         "mode": "markers",
         "name": "Label 0",
         "type": "scatter",
         "x": [
          -8.265398878844746,
          -5.456710818316305,
          -5.558578675365341,
          -2.9248408029605826,
          3.8313808448460422,
          -3.9980235937535085,
          -2.4009085083330532,
          -8.920105125185195,
          -13.060350497055982,
          -6.163446846563333,
          -8.217299224776744,
          -6.828160364081638,
          8.362847347800988,
          -4.587471096962184,
          -6.420218747756506,
          2.5817897471774733,
          -3.31267190939849,
          -11.63811317031189,
          -11.661539519135104,
          2.3148451060340203,
          -10.272321221363828,
          1.3347804627411168,
          3.909519367645374,
          -13.45693551039979,
          -1.750049205459998,
          -5.887716936699916,
          -8.766672385767178,
          -8.541033743043926,
          -3.946582873868829,
          -7.653722337701057,
          -3.112141292948897,
          -4.236640896932032,
          1.9828300952401265,
          -3.1446724838826143,
          0.9190568838778169,
          2.6519769133659783,
          5.064435997826313,
          -4.468539835979042,
          -1.3183968993068753,
          2.1814072472022876,
          -7.884936585416149,
          -3.060105174465767,
          0.7217865187797642,
          -2.797265592164566,
          -2.495725104466172,
          -9.707131045692114,
          -7.12995783649076,
          -7.359066333547993,
          9.741908278392799,
          4.136650460362984,
          3.1660598365155526,
          -6.1761108610883335,
          -4.0762473058363,
          -2.798712961318055,
          -1.017680952552232,
          -11.08205256708355,
          -3.8814796546176886,
          -9.385939407365726,
          4.95255318692891,
          -13.271419275007355,
          -11.244911065371374,
          0.41061197668816857,
          -4.469998933914423,
          -2.5683138448848473,
          -5.052743700140646,
          -6.470850420020172,
          4.786234233397627
         ],
         "y": [
          17.8487639189403,
          11.543720995747604,
          11.901850520712532,
          7.89463190243622,
          10.494806293396065,
          8.478069775346732,
          14.454724696584737,
          8.061150124207366,
          3.1039584955565624,
          9.001759608861612,
          10.60356221096648,
          4.546006029406198,
          7.873088334936436,
          11.870030676923866,
          13.150003919347087,
          26.34878895032393,
          12.07874472507855,
          2.0666441855073474,
          5.654021633339944,
          18.622404780217828,
          13.87618057208068,
          14.607520916175641,
          17.7201874879324,
          12.120960277458613,
          16.77970462147453,
          11.423568384713114,
          13.41010273693767,
          19.369773152341153,
          15.877108479065566,
          9.037194422911636,
          5.684491973055827,
          19.90972414444687,
          13.520416399189768,
          -0.41302602370927394,
          8.245890685046723,
          18.053196052172446,
          14.600002390061826,
          5.807300626329994,
          11.704989991822604,
          12.003477098856923,
          11.25937249969767,
          13.903770191261795,
          10.783326097235085,
          22.49568742553519,
          14.010849074973832,
          13.270051549349361,
          11.836594592842934,
          14.100184505716356,
          11.606337430879522,
          15.271834877197724,
          16.43993059477277,
          17.24932104167691,
          19.911187658601435,
          13.259062429537034,
          13.064842576199672,
          5.674511805137912,
          16.621244637445752,
          9.338796280468408,
          12.11952992588522,
          15.558998845829276,
          2.668219481789651,
          16.020499667428783,
          14.977150972980619,
          6.2789241720796785,
          18.993043808390606,
          16.6591897847951,
          6.085438239838803
         ]
        },
        {
         "marker": {
          "color": "rgba(239, 85, 59, 0.8)",
          "size": 6
         },
         "mode": "markers",
         "name": "Label 1",
         "type": "scatter",
         "x": [
          15.423150646024478,
          10.249738061648026,
          20.235341961360536,
          20.485724057938192,
          10.19264786813955,
          11.535909304803424,
          12.390798008712656,
          15.91289106480679,
          13.169448024954848,
          11.540450635926542,
          18.040432358905687,
          13.83765407578955,
          14.33195230984953,
          15.826169305574567,
          10.461409402290663,
          10.431879263022214,
          12.473833717585425,
          16.1926458487074,
          10.241827533513764,
          13.311397758141322,
          8.721336649469569,
          11.164000092247262,
          16.73141273593718,
          21.146276801543458,
          21.762032436636492,
          16.320753894576242,
          14.492825669496007,
          13.97832125781685,
          13.284432492211788,
          22.18844810438486,
          13.879298279221175,
          16.21546778501708,
          17.8677725387742,
          14.240126565871892,
          12.984197858567788,
          9.353099759597097,
          12.48925316056969,
          18.07707966336566,
          17.20780271720296,
          12.473820020084977,
          15.655912168945152,
          21.556775664560256,
          15.56157010005109,
          17.765779539326626,
          20.757660284889532,
          14.619379704599169,
          13.846932728743328,
          9.899295731717748,
          21.4247356446078,
          19.013864308766035,
          12.592294286612086,
          11.892656233691582,
          13.041316424816413,
          13.88564926716569,
          8.857712517601067,
          18.85652309955049,
          16.956742866939937,
          21.97845989042766,
          20.017248900879988,
          7.750830566531042,
          16.361346084026135,
          21.626784299328456,
          16.298683448244397,
          12.90152135165128,
          16.126795551447064,
          10.490017858505112,
          21.510628190438176
         ],
         "y": [
          -8.628732422346234,
          -3.1574261121883995,
          -7.251689380275088,
          -4.038957317948588,
          -7.493400430108587,
          -3.0241144116876075,
          -1.0328709388674076,
          -7.061386065965405,
          -3.1597143856744307,
          -3.1545947116666704,
          -1.969857487551106,
          -12.504496605158716,
          -2.6541414832884485,
          -4.471337359551602,
          -5.906259103945302,
          -0.6957116224059986,
          -6.068248544531476,
          0.7780193980003958,
          -4.030224985260905,
          -4.032156044322809,
          -4.250152488310509,
          -4.227481052061314,
          -4.1407700223286685,
          -11.018261335469246,
          -2.419973805403157,
          0.25538616360461375,
          -3.7968938186526584,
          -6.838511307943595,
          -12.406687590543335,
          -7.527698166202498,
          0.37838252702650466,
          -2.281826509197752,
          -4.725460976481944,
          -4.556050952336834,
          -4.60227077632271,
          -6.785634998192635,
          -6.401324282454122,
          1.442697120963178,
          -4.626022171869926,
          -7.085751003539829,
          -3.2709757551346463,
          -5.995302438359561,
          1.3713778720135423,
          -3.1628388190692833,
          5.656605542945116,
          1.860875885703234,
          -1.0601393262486694,
          -5.100919538062103,
          -7.441888756234069,
          -3.834730975746681,
          -5.286828107148393,
          -10.280892563024064,
          -4.8902030572981365,
          -7.345466761860494,
          -2.4269502690552436,
          -3.7169866406872383,
          -2.0188307541560673,
          2.611455151698806,
          0.24970770506883816,
          -7.022347949415795,
          3.7548863809675677,
          -1.1998125517142193,
          1.4788921061372904,
          -4.146483636880954,
          -7.533155195246442,
          -4.366697539687681,
          -4.958699686017645
         ]
        },
        {
         "marker": {
          "color": "rgba(0, 204, 150, 0.8)",
          "size": 6
         },
         "mode": "markers",
         "name": "Label 2",
         "type": "scatter",
         "x": [
          -15.602468432059858,
          -10.513655198632245,
          -2.9030255305703143,
          -11.606652449554238,
          -13.328079820647542,
          -9.009225207585663,
          -9.909565264658085,
          -15.401594803066871,
          -14.314638041529415,
          -11.153286070954975,
          -5.093863501580143,
          -7.790996250333131,
          -9.808909350214716,
          -9.073401367323395,
          -13.408853035775113,
          -14.098412743473721,
          -14.549268574746785,
          -8.693366146144902,
          -11.65453502537252,
          -8.099328637888688,
          -7.371288893219261,
          -17.051972410567053,
          -11.36012156466463,
          -8.779836629628079,
          -14.85054711835819,
          -11.701476942910809,
          -10.74713417787174,
          -14.255594014955594,
          -15.66852926722642,
          -17.000786156270603,
          -12.724638356407485,
          -9.491809027593613,
          -6.495150830769426,
          -12.556167811375841,
          -13.005834313923708,
          -11.682151980730621,
          -13.692767454112863,
          -10.539059855976543,
          -13.336157423700255,
          -12.016287345491689,
          -11.505381937919633,
          -12.940387215345988,
          -11.885491485458639,
          -8.09766287031956,
          -10.437300142467471,
          -16.989390737494567,
          -10.031833701717003,
          -10.076318766769287,
          -10.885571162196404,
          -9.95998624178704,
          -6.803505603548229,
          -13.173710585041905,
          -16.72921651318857,
          -16.9056740238739,
          -15.036420255319989,
          -8.778433984351212,
          -13.454842129624323,
          -10.018511033629109,
          -13.188867648241871,
          -12.980476265916323,
          -12.228366062050782,
          -12.42925180330306,
          -9.909586975002084,
          -12.886830138791053,
          -10.004698487061237,
          -9.58278608728925
         ],
         "y": [
          -6.082052244715441,
          -11.990491349058727,
          -6.004349229602594,
          -7.005236950509208,
          -3.2364883751846114,
          -9.968384864090973,
          -10.77959856624603,
          -1.828777139606903,
          -8.799142875091801,
          -10.456155813718668,
          -8.346716288641575,
          -12.898151154707671,
          -8.351997846868677,
          -11.158715742511543,
          -11.023729347858508,
          -5.152044191676455,
          -3.2347985575673963,
          -14.354477516655836,
          -8.600304010115956,
          -15.625900997577455,
          -10.478760619240584,
          -7.087882650118642,
          -11.498803336307278,
          -8.076789845316087,
          -7.788850748827189,
          -8.639189379913336,
          -6.513691704338477,
          -4.9307211110703815,
          -8.289380102998688,
          -7.593381103925424,
          -9.948801884109612,
          -9.052332674732245,
          -5.714163183032917,
          -10.950012093231342,
          -8.938280845612953,
          -10.382364772670774,
          -6.3775832242008885,
          -5.85032857306972,
          -11.30699603865751,
          -7.764810896463079,
          -8.695857559234106,
          -3.1612448594402234,
          -7.739119577157126,
          -7.85021535101874,
          -7.637656531715896,
          -7.838816555554111,
          -3.489955563823133,
          -11.054902528099696,
          -8.966181360922109,
          -13.020614824542093,
          -10.333541253515456,
          -9.725455120114082,
          -8.523768223269817,
          -7.201489593830057,
          -6.943541161355902,
          -14.78826247713865,
          -4.150979722162325,
          -12.18074002924188,
          -12.605949314657314,
          -5.19648107240503,
          -4.55233898929754,
          -12.479924139855237,
          -7.258279673399537,
          -12.534474212960564,
          -2.9990469036136966,
          -12.135966748608267
         ]
        },
        {
         "line": {
          "color": "rgba(99, 110, 250, 0.8)",
          "dash": "dot",
          "width": 3
         },
         "mode": "lines",
         "name": "Cluster 0",
         "type": "scatter",
         "x": [
          -0.6524250603471162,
          0.5300101401434576,
          1.7028316251296607,
          2.861316856431488,
          4.00080102290263,
          5.116695823978545,
          6.204507945143417,
          7.259857150921823,
          8.27849392254102,
          9.256316569243202,
          10.189387744346504,
          11.073950299550447,
          11.906442413646065,
          12.683511934712797,
          13.402029878051152,
          14.059103025499745,
          14.652085575403666,
          15.17858979632395,
          15.636495641589333,
          16.02395928597595,
          16.33942055014073,
          16.581609182912977,
          16.749549976147485,
          16.842566691543546,
          16.860284783617935,
          16.802632907867356,
          16.669843208047595,
          16.462450381412523,
          16.181289525676988,
          15.827492776373076,
          15.402484748139871,
          14.907976798303133,
          14.34596013584335,
          13.718697803499973,
          13.028715565297025,
          12.278791736182802,
          11.471945994736219,
          10.61142722398689,
          9.700700429309904,
          8.743432786072056,
          7.743478873211034,
          6.704865152206409,
          5.631773753940444,
          4.528525638733017,
          3.3995631973595355,
          2.249432363111138,
          1.082764306925844,
          -0.09574321070232195,
          -1.28134475594675,
          -2.469266329835409,
          -3.6547245914597837,
          -4.832946118800402,
          -5.999186629612628,
          -7.148750084976722,
          -8.277007598589211,
          -9.379416075654222,
          -10.451536506322826,
          -11.489051840018938,
          -12.487784368678343,
          -13.443712548904545,
          -14.352987195304678,
          -15.211946979800498,
          -16.01713317450435,
          -16.76530357879561,
          -17.453445574518284,
          -18.078788256731016,
          -18.638813591163355,
          -19.13126655345097,
          -19.554164209322956,
          -19.905803699178193,
          -20.184769094900012,
          -20.389937101298933,
          -20.520481579225958,
          -20.57587687214334,
          -20.555899922757924,
          -20.46063117119413,
          -20.29045423109001,
          -20.04605434492047,
          -19.728415624767692,
          -19.338817089649126,
          -18.87882751535932,
          -18.35029911756348,
          -17.755360093578744,
          -17.09640605287466,
          -16.376090370799425,
          -15.59731350437381,
          -14.763211313174496,
          -13.87714243233426,
          -12.942674748503753,
          -11.963571033231203,
          -10.943773791609482,
          -9.887389387199507,
          -8.798671507153543,
          -7.682004034118328,
          -6.54188339388698,
          -5.3829004498792195,
          -4.209722017354739,
          -3.0270720717953328,
          -1.839712727122822,
          -0.6524250603471209
         ],
         "y": [
          29.16229638358334,
          29.041521701156537,
          28.85602414258308,
          28.60655064106114,
          28.29410573833122,
          27.919947539741138,
          27.48558264829981,
          26.992760098118683,
          26.4434643116687,
          25.839907109211357,
          25.184518802579205,
          24.479938409167826,
          23.729003025544234,
          22.934736403460313,
          22.100336774271746,
          21.229163970789116,
          20.324725898417043,
          19.390664410057184,
          18.43074064165198,
          17.448819867417694,
          16.44885593574934,
          15.434875348468712,
          14.410961047522658,
          13.381235974416917,
          12.349846468585833,
          11.320945571546895,
          10.298676304068316,
          9.287154983686664,
          8.29045464974897,
          7.3125886627208265,
          6.357494543800289,
          5.429018119909735,
          4.530898037908203,
          3.6667507103800236,
          2.8400557536177438,
          2.054141976435405,
          1.3121739762303584,
          0.6171393962664364,
          -0.028163104510960935,
          -0.621135120686704,
          -1.1593889632374292,
          -1.6407572739125271,
          -2.06330175242085,
          -2.4253209612818942,
          -2.7253571769139917,
          -2.9622022593727095,
          -3.1349025171039813,
          -3.2427625471234016,
          -3.2853480351586093,
          -3.2624875044795694,
          -3.174273006374843,
          -3.021059749493542,
          -2.803464669545461,
          -2.5223639451187267,
          -2.178889469617854,
          -1.7744242935285097,
          -1.3105970553613417,
          -0.7892754236995145,
          -0.21255857675651058,
          0.4172312502736446,
          1.0975581160379058,
          1.8256825843649551,
          2.598672755007847,
          3.413416069371454,
          4.266631843687422,
          5.154884479169758,
          6.07459729595863,
          7.022066935147707,
          7.993478270903497,
          8.984919772630484,
          9.992399255324333,
          11.01185995469181,
          12.039196862308879,
          13.070273255040725,
          14.10093735216582,
          15.127039033131483,
          16.144446548624675,
          17.149063157668145,
          18.136843623750465,
          19.103810503565654,
          20.046070162773642,
          20.959828454291486,
          21.841405995984516,
          22.687252986239645,
          23.493963497763545,
          24.25828919204976,
          24.977152399291377,
          25.64765851107113,
          26.267107635927836,
          26.833005470866414,
          27.343073345035666,
          27.7952573951316,
          28.18773683558002,
          28.51893129019742,
          28.787507155808058,
          28.99238297219331,
          29.13273377675024,
          29.207994426324827,
          29.217861872844022,
          29.16229638358334
         ]
        },
        {
         "line": {
          "color": "rgba(254, 203, 82, 0.8)",
          "dash": "dot",
          "width": 3
         },
         "mode": "lines",
         "name": "Cluster 1",
         "type": "scatter",
         "x": [
          16.536610906440703,
          17.329999260932368,
          18.113883279078475,
          18.885106536604933,
          19.640563589652118,
          20.377212479301274,
          21.092086980469418,
          21.78230854585085,
          22.445097896811173,
          23.077786214561446,
          23.677825886549485,
          24.242800764796463,
          24.770435894872037,
          25.258606676332924,
          25.705347417739013,
          26.108859251799032,
          26.467517378774204,
          26.779877608973354,
          27.04468217799506,
          27.260864811300998,
          27.427555017727162,
          27.54408159464454,
          27.60997533065521,
          27.624970894941047,
          27.58900790565726,
          27.50223117306879,
          27.36499011645045,
          27.177837357098877,
          26.941526493121575,
          26.657009064963333,
          26.325430723888694,
          25.948126618848654,
          25.52661602030708,
          25.06259620267475,
          24.557935609984384,
          24.014666332325913,
          23.434975923336975,
          22.821198591696447,
          22.175805802089965,
          21.5013963234939,
          20.800685764849952,
          20.076495640266337,
          19.331742007776374,
          18.569423727401936,
          17.792610385802618,
          17.004429936133597,
          16.208056102882324,
          15.406695602400108,
          14.603575230587202,
          13.801928869724572,
          13.004984466771312,
          12.215951035561565,
          11.438005735238368,
          10.674281076955188,
          9.92785231035906,
          9.2017250406457,
          8.498823126048134,
          7.821976904491603,
          7.173911796821654,
          6.55723733249634,
          5.97443664193208,
          5.427856457813913,
          4.919697665631206,
          4.4520064414886065,
          4.026666012877024,
          3.6453890755812317,
          3.3097108972583964,
          3.0209831354571044,
          2.780368394969466,
          2.58883554643195,
          2.4471558250252894,
          2.355899724982619,
          2.315434702410535,
          2.3259236956730582,
          2.3873244692963453,
          2.4993897840360386,
          2.661668392422431,
          2.873506855774778,
          3.1340521753682253,
          3.442255227158615,
          3.796874986234732,
          4.196483523987618,
          4.63947175787508,
          5.124055930629188,
          5.648284792817231,
          6.21004745983449,
          6.807081911691508,
          7.436984101370255,
          8.097217635072944,
          8.78512398538468,
          9.497933196224992,
          10.23277503648341,
          10.98669055742706,
          11.7566440073429,
          12.539535055438368,
          13.332211275779311,
          14.131480840996561,
          14.934125374648177,
          15.736912910485543,
          16.5366109064407
         ],
         "y": [
          -13.40806052336878,
          -13.262944632836437,
          -13.078210565534848,
          -12.854602180352307,
          -12.593019869334755,
          -12.294516932124811,
          -11.960295334695868,
          -11.591700869459343,
          -11.190217736233626,
          -10.757462565895244,
          -10.295177910776912,
          -9.805225228024295,
          -9.289577384165101,
          -8.750310711071855,
          -8.189596645306288,
          -7.609692984510705,
          -7.012934796053745,
          -6.401725014538242,
          -5.778524766031675,
          -5.145843457980133,
          -4.506228674710217,
          -3.8622559192061017,
          -3.2165182424680303,
          -2.571615802211138,
          -1.9301453929480399,
          -1.2946899896138584,
          -0.667808346837794,
          -0.05202469574133506,
          0.5501814202495541,
          1.1363851296506748,
          1.7042259970212168,
          2.251417527604173,
          2.775756374233726,
          3.2751312094366316,
          3.7475312270027565,
          4.191054238792015,
          4.603914334174602,
          4.984449071262823,
          5.331126170977779,
          5.642549686996443,
          5.917465626734797,
          6.154767000733383,
          6.3534982801131505,
          6.512859244153002,
          6.63220820249621,
          6.711064579010996,
          6.749110846901004,
          6.746193807273633,
          6.70232520601791,
          6.617681686507943,
          6.4926040783223975,
          6.327596024844073,
          6.123321955265762,
          5.880604409168399,
          5.600420724444467,
          5.2838991019032715,
          4.932314062404444,
          4.5470813148123,
          4.1297520554358975,
          3.6820067219089827,
          3.20564822666074,
          2.702594697223777,
          2.174871752611522,
          1.6246043468654099,
          1.0540082126149182,
          0.4653809391043362,
          -0.13890727938825176,
          -0.7564231874867229,
          -1.3846802665775613,
          -2.021148747142691,
          -2.663265795248469,
          -3.3084458321733674,
          -3.9540909456209707,
          -4.597601350595847,
          -5.236385857820157,
          -5.867872307538304,
          -6.489517926696489,
          -7.098819567792308,
          -7.693323788166295,
          -8.27063672914955,
          -8.82843375528774,
          -9.364468814827607,
          -9.876583483774597,
          -10.362715657104554,
          -10.820907852132795,
          -11.249315090606029,
          -11.64621232777858,
          -12.010001398558765,
          -12.339217452755637,
          -12.632534853513706,
          -12.888772515184657,
          -13.106898659142436,
          -13.286034968391583,
          -13.425460124239804,
          -13.524612710793729,
          -13.583093475582595,
          -13.600666937207022,
          -13.577262333539489,
          -13.512973906658459,
          -13.40806052336878
         ]
        },
        {
         "line": {
          "color": "rgba(255, 151, 255, 0.8)",
          "dash": "dot",
          "width": 3
         },
         "mode": "lines",
         "name": "Cluster 2",
         "type": "scatter",
         "x": [
          -9.188866421938577,
          -8.579851755522435,
          -7.976464921150409,
          -7.381135544642891,
          -6.796260807281284,
          -6.224195793205048,
          -5.667244006319088,
          -5.127648094896528,
          -4.607580821225655,
          -4.109136312663036,
          -3.6343216293217697,
          -3.185048682348789,
          -2.7631265353334626,
          -2.3702541198470346,
          -2.008013394444794,
          -1.677862974677332,
          -1.3811322597605127,
          -1.119016079554056,
          -0.8925698834033788,
          -0.7027054902176015,
          -0.5501874168966339,
          -0.4356297998914336,
          -0.3594939222932858,
          -0.3220863564095957,
          -0.32355772930540105,
          -0.3639021162813716,
          -0.44295706473045193,
          -0.5604042482771874,
          -0.7157707485656886,
          -0.9084309595349325,
          -1.1376091065135654,
          -1.4023823699907059,
          -1.701684601484402,
          -2.03431061654529,
          -2.39892104760899,
          -2.7940477371566006,
          -3.218099649466806,
          -3.669369277155221,
          -4.14603951670394,
          -4.6461909852961005,
          -5.167809749493015,
          -5.708795434633365,
          -6.26696968230061,
          -6.840084921803523,
          -7.42583342035007,
          -8.021856575472896,
          -8.625754412288972,
          -9.235095247351424,
          -9.847425480180505,
          -10.460279473046747,
          -11.071189479223884,
          -11.677695579733912,
          -12.277355588572636,
          -12.867754886530715,
          -13.446516144013035,
          -14.011308893705884,
          -14.559858914546343,
          -15.08995738920779,
          -15.59946979822772,
          -16.086344514964235,
          -16.548621066772444,
          -16.984438029135834,
          -17.392040520965857,
          -17.769787270888663,
          -18.11615722606569,
          -18.429755676936537,
          -18.709319873222185,
          -18.953724108574626,
          -19.16198425339904,
          -19.33326171759635,
          -19.46686682726955,
          -19.56226160179706,
          -19.619061920090864,
          -19.637039067316508,
          -19.616120655847034,
          -19.5563909167424,
          -19.45809036058076,
          -19.321614809007194,
          -19.14751380089969,
          -18.936488379570044,
          -18.689388269909834,
          -18.407208456848217,
          -18.091085178898787,
          -17.742291352928113,
          -17.362231448568764,
          -16.952435832915814,
          -16.5145546082787,
          -16.050350967801585,
          -15.561694095706882,
          -15.050551640750113,
          -14.51898179319286,
          -13.969124997196962,
          -13.403195332011368,
          -12.823471596656418,
          -12.232288134004527,
          -11.632025431205264,
          -11.025100534303814,
          -10.413957315649656,
          -9.801056633285109,
          -9.18886642193858
         ],
         "y": [
          -18.600154301928423,
          -18.531502698494627,
          -18.42337318844168,
          -18.27620117114292,
          -18.090579256368564,
          -17.867254878055313,
          -17.607127284653686,
          -17.3112439181719,
          -16.980796196496584,
          -16.617114715973464,
          -16.221663893565488,
          -15.796036070162595,
          -15.341945098786937,
          -14.861219443511665,
          -14.35579481688145,
          -13.827706385481259,
          -13.279080575038819,
          -12.712126508058718,
          -12.129127108465784,
          -11.532429909076171,
          -10.924437598911261,
          -10.307598348416992,
          -9.684395951545532,
          -9.057339824393685,
          -8.428954900669932,
          -7.801771464677572,
          -7.178314962752858,
          -6.561095834183953,
          -5.952599402557959,
          -5.355275868240009,
          -4.771530442281183,
          -4.203713661482506,
          -3.6541119236128594,
          -3.1249382808921347,
          -2.6183235288110334,
          -2.1363076261696587,
          -1.6808314808834472,
          -1.253729134631989,
          -0.8567203778205341,
          -0.49140382459099285,
          -0.15925047576702234,
          0.13840220434712336,
          0.40035567346328094,
          0.6255551374161623,
          0.8130937974471788,
          0.9622165015629882,
          1.0723227852660404,
          1.1429692894131946,
          1.1738715454664916,
          1.1649051209475623,
          1.1161061204833054,
          1.0276710404252842,
          0.8999559776282808,
          0.7334751955739467,
          0.5288990536132552,
          0.2870513076660117,
          0.008905793246485771,
          -0.3044174958284742,
          -0.6516569172592739,
          -1.0314142604517897,
          -1.442160376617987,
          -1.8822413361183372,
          -2.34988508825277,
          -2.843208596683384,
          -3.3602254217571943,
          -3.8988537191974864,
          -4.456924622955983,
          -5.032190978470879,
          -5.6223363911652005,
          -6.224984553750174,
          -6.83770881477599,
          -7.458041949900693,
          -8.083486096531857,
          -8.711522811837614,
          -9.339623213627082,
          -9.965258163266359,
          -10.585908449627212,
          -11.19907493306112,
          -11.802288608552592,
          -12.393120547530915,
          -12.969191678308281,
          -13.528182365761776,
          -14.067841751685286,
          -14.585996818201124,
          -15.080561137736037,
          -15.549543274328654,
          -15.991054802439226,
          -16.403317910972802,
          -16.784672561897015,
          -17.133583174629344,
          -17.448644809278132,
          -17.728588823839694,
          -17.972287982571885,
          -18.1787609949746,
          -18.347176467100244,
          -18.47685624928376,
          -18.56727816681197,
          -18.618078122536836,
          -18.62905156296619,
          -18.600154301928423
         ]
        }
       ],
       "layout": {
        "autosize": true,
        "font": {
         "size": 22
        },
        "margin": {
         "b": 0,
         "l": 0,
         "r": 0,
         "t": 0
        },
        "template": {
         "data": {
          "bar": [
           {
            "error_x": {
             "color": "#2a3f5f"
            },
            "error_y": {
             "color": "#2a3f5f"
            },
            "marker": {
             "line": {
              "color": "white",
              "width": 0.5
             },
             "pattern": {
              "fillmode": "overlay",
              "size": 10,
              "solidity": 0.2
             }
            },
            "type": "bar"
           }
          ],
          "barpolar": [
           {
            "marker": {
             "line": {
              "color": "white",
              "width": 0.5
             },
             "pattern": {
              "fillmode": "overlay",
              "size": 10,
              "solidity": 0.2
             }
            },
            "type": "barpolar"
           }
          ],
          "carpet": [
           {
            "aaxis": {
             "endlinecolor": "#2a3f5f",
             "gridcolor": "#C8D4E3",
             "linecolor": "#C8D4E3",
             "minorgridcolor": "#C8D4E3",
             "startlinecolor": "#2a3f5f"
            },
            "baxis": {
             "endlinecolor": "#2a3f5f",
             "gridcolor": "#C8D4E3",
             "linecolor": "#C8D4E3",
             "minorgridcolor": "#C8D4E3",
             "startlinecolor": "#2a3f5f"
            },
            "type": "carpet"
           }
          ],
          "choropleth": [
           {
            "colorbar": {
             "outlinewidth": 0,
             "ticks": ""
            },
            "type": "choropleth"
           }
          ],
          "contour": [
           {
            "colorbar": {
             "outlinewidth": 0,
             "ticks": ""
            },
            "colorscale": [
             [
              0,
              "#0d0887"
             ],
             [
              0.1111111111111111,
              "#46039f"
             ],
             [
              0.2222222222222222,
              "#7201a8"
             ],
             [
              0.3333333333333333,
              "#9c179e"
             ],
             [
              0.4444444444444444,
              "#bd3786"
             ],
             [
              0.5555555555555556,
              "#d8576b"
             ],
             [
              0.6666666666666666,
              "#ed7953"
             ],
             [
              0.7777777777777778,
              "#fb9f3a"
             ],
             [
              0.8888888888888888,
              "#fdca26"
             ],
             [
              1,
              "#f0f921"
             ]
            ],
            "type": "contour"
           }
          ],
          "contourcarpet": [
           {
            "colorbar": {
             "outlinewidth": 0,
             "ticks": ""
            },
            "type": "contourcarpet"
           }
          ],
          "heatmap": [
           {
            "colorbar": {
             "outlinewidth": 0,
             "ticks": ""
            },
            "colorscale": [
             [
              0,
              "#0d0887"
             ],
             [
              0.1111111111111111,
              "#46039f"
             ],
             [
              0.2222222222222222,
              "#7201a8"
             ],
             [
              0.3333333333333333,
              "#9c179e"
             ],
             [
              0.4444444444444444,
              "#bd3786"
             ],
             [
              0.5555555555555556,
              "#d8576b"
             ],
             [
              0.6666666666666666,
              "#ed7953"
             ],
             [
              0.7777777777777778,
              "#fb9f3a"
             ],
             [
              0.8888888888888888,
              "#fdca26"
             ],
             [
              1,
              "#f0f921"
             ]
            ],
            "type": "heatmap"
           }
          ],
          "heatmapgl": [
           {
            "colorbar": {
             "outlinewidth": 0,
             "ticks": ""
            },
            "colorscale": [
             [
              0,
              "#0d0887"
             ],
             [
              0.1111111111111111,
              "#46039f"
             ],
             [
              0.2222222222222222,
              "#7201a8"
             ],
             [
              0.3333333333333333,
              "#9c179e"
             ],
             [
              0.4444444444444444,
              "#bd3786"
             ],
             [
              0.5555555555555556,
              "#d8576b"
             ],
             [
              0.6666666666666666,
              "#ed7953"
             ],
             [
              0.7777777777777778,
              "#fb9f3a"
             ],
             [
              0.8888888888888888,
              "#fdca26"
             ],
             [
              1,
              "#f0f921"
             ]
            ],
            "type": "heatmapgl"
           }
          ],
          "histogram": [
           {
            "marker": {
             "pattern": {
              "fillmode": "overlay",
              "size": 10,
              "solidity": 0.2
             }
            },
            "type": "histogram"
           }
          ],
          "histogram2d": [
           {
            "colorbar": {
             "outlinewidth": 0,
             "ticks": ""
            },
            "colorscale": [
             [
              0,
              "#0d0887"
             ],
             [
              0.1111111111111111,
              "#46039f"
             ],
             [
              0.2222222222222222,
              "#7201a8"
             ],
             [
              0.3333333333333333,
              "#9c179e"
             ],
             [
              0.4444444444444444,
              "#bd3786"
             ],
             [
              0.5555555555555556,
              "#d8576b"
             ],
             [
              0.6666666666666666,
              "#ed7953"
             ],
             [
              0.7777777777777778,
              "#fb9f3a"
             ],
             [
              0.8888888888888888,
              "#fdca26"
             ],
             [
              1,
              "#f0f921"
             ]
            ],
            "type": "histogram2d"
           }
          ],
          "histogram2dcontour": [
           {
            "colorbar": {
             "outlinewidth": 0,
             "ticks": ""
            },
            "colorscale": [
             [
              0,
              "#0d0887"
             ],
             [
              0.1111111111111111,
              "#46039f"
             ],
             [
              0.2222222222222222,
              "#7201a8"
             ],
             [
              0.3333333333333333,
              "#9c179e"
             ],
             [
              0.4444444444444444,
              "#bd3786"
             ],
             [
              0.5555555555555556,
              "#d8576b"
             ],
             [
              0.6666666666666666,
              "#ed7953"
             ],
             [
              0.7777777777777778,
              "#fb9f3a"
             ],
             [
              0.8888888888888888,
              "#fdca26"
             ],
             [
              1,
              "#f0f921"
             ]
            ],
            "type": "histogram2dcontour"
           }
          ],
          "mesh3d": [
           {
            "colorbar": {
             "outlinewidth": 0,
             "ticks": ""
            },
            "type": "mesh3d"
           }
          ],
          "parcoords": [
           {
            "line": {
             "colorbar": {
              "outlinewidth": 0,
              "ticks": ""
             }
            },
            "type": "parcoords"
           }
          ],
          "pie": [
           {
            "automargin": true,
            "type": "pie"
           }
          ],
          "scatter": [
           {
            "fillpattern": {
             "fillmode": "overlay",
             "size": 10,
             "solidity": 0.2
            },
            "type": "scatter"
           }
          ],
          "scatter3d": [
           {
            "line": {
             "colorbar": {
              "outlinewidth": 0,
              "ticks": ""
             }
            },
            "marker": {
             "colorbar": {
              "outlinewidth": 0,
              "ticks": ""
             }
            },
            "type": "scatter3d"
           }
          ],
          "scattercarpet": [
           {
            "marker": {
             "colorbar": {
              "outlinewidth": 0,
              "ticks": ""
             }
            },
            "type": "scattercarpet"
           }
          ],
          "scattergeo": [
           {
            "marker": {
             "colorbar": {
              "outlinewidth": 0,
              "ticks": ""
             }
            },
            "type": "scattergeo"
           }
          ],
          "scattergl": [
           {
            "marker": {
             "colorbar": {
              "outlinewidth": 0,
              "ticks": ""
             }
            },
            "type": "scattergl"
           }
          ],
          "scattermapbox": [
           {
            "marker": {
             "colorbar": {
              "outlinewidth": 0,
              "ticks": ""
             }
            },
            "type": "scattermapbox"
           }
          ],
          "scatterpolar": [
           {
            "marker": {
             "colorbar": {
              "outlinewidth": 0,
              "ticks": ""
             }
            },
            "type": "scatterpolar"
           }
          ],
          "scatterpolargl": [
           {
            "marker": {
             "colorbar": {
              "outlinewidth": 0,
              "ticks": ""
             }
            },
            "type": "scatterpolargl"
           }
          ],
          "scatterternary": [
           {
            "marker": {
             "colorbar": {
              "outlinewidth": 0,
              "ticks": ""
             }
            },
            "type": "scatterternary"
           }
          ],
          "surface": [
           {
            "colorbar": {
             "outlinewidth": 0,
             "ticks": ""
            },
            "colorscale": [
             [
              0,
              "#0d0887"
             ],
             [
              0.1111111111111111,
              "#46039f"
             ],
             [
              0.2222222222222222,
              "#7201a8"
             ],
             [
              0.3333333333333333,
              "#9c179e"
             ],
             [
              0.4444444444444444,
              "#bd3786"
             ],
             [
              0.5555555555555556,
              "#d8576b"
             ],
             [
              0.6666666666666666,
              "#ed7953"
             ],
             [
              0.7777777777777778,
              "#fb9f3a"
             ],
             [
              0.8888888888888888,
              "#fdca26"
             ],
             [
              1,
              "#f0f921"
             ]
            ],
            "type": "surface"
           }
          ],
          "table": [
           {
            "cells": {
             "fill": {
              "color": "#EBF0F8"
             },
             "line": {
              "color": "white"
             }
            },
            "header": {
             "fill": {
              "color": "#C8D4E3"
             },
             "line": {
              "color": "white"
             }
            },
            "type": "table"
           }
          ]
         },
         "layout": {
          "annotationdefaults": {
           "arrowcolor": "#2a3f5f",
           "arrowhead": 0,
           "arrowwidth": 1
          },
          "autotypenumbers": "strict",
          "coloraxis": {
           "colorbar": {
            "outlinewidth": 0,
            "ticks": ""
           }
          },
          "colorscale": {
           "diverging": [
            [
             0,
             "#8e0152"
            ],
            [
             0.1,
             "#c51b7d"
            ],
            [
             0.2,
             "#de77ae"
            ],
            [
             0.3,
             "#f1b6da"
            ],
            [
             0.4,
             "#fde0ef"
            ],
            [
             0.5,
             "#f7f7f7"
            ],
            [
             0.6,
             "#e6f5d0"
            ],
            [
             0.7,
             "#b8e186"
            ],
            [
             0.8,
             "#7fbc41"
            ],
            [
             0.9,
             "#4d9221"
            ],
            [
             1,
             "#276419"
            ]
           ],
           "sequential": [
            [
             0,
             "#0d0887"
            ],
            [
             0.1111111111111111,
             "#46039f"
            ],
            [
             0.2222222222222222,
             "#7201a8"
            ],
            [
             0.3333333333333333,
             "#9c179e"
            ],
            [
             0.4444444444444444,
             "#bd3786"
            ],
            [
             0.5555555555555556,
             "#d8576b"
            ],
            [
             0.6666666666666666,
             "#ed7953"
            ],
            [
             0.7777777777777778,
             "#fb9f3a"
            ],
            [
             0.8888888888888888,
             "#fdca26"
            ],
            [
             1,
             "#f0f921"
            ]
           ],
           "sequentialminus": [
            [
             0,
             "#0d0887"
            ],
            [
             0.1111111111111111,
             "#46039f"
            ],
            [
             0.2222222222222222,
             "#7201a8"
            ],
            [
             0.3333333333333333,
             "#9c179e"
            ],
            [
             0.4444444444444444,
             "#bd3786"
            ],
            [
             0.5555555555555556,
             "#d8576b"
            ],
            [
             0.6666666666666666,
             "#ed7953"
            ],
            [
             0.7777777777777778,
             "#fb9f3a"
            ],
            [
             0.8888888888888888,
             "#fdca26"
            ],
            [
             1,
             "#f0f921"
            ]
           ]
          },
          "colorway": [
           "#636efa",
           "#EF553B",
           "#00cc96",
           "#ab63fa",
           "#FFA15A",
           "#19d3f3",
           "#FF6692",
           "#B6E880",
           "#FF97FF",
           "#FECB52"
          ],
          "font": {
           "color": "#2a3f5f"
          },
          "geo": {
           "bgcolor": "white",
           "lakecolor": "white",
           "landcolor": "white",
           "showlakes": true,
           "showland": true,
           "subunitcolor": "#C8D4E3"
          },
          "hoverlabel": {
           "align": "left"
          },
          "hovermode": "closest",
          "mapbox": {
           "style": "light"
          },
          "paper_bgcolor": "white",
          "plot_bgcolor": "white",
          "polar": {
           "angularaxis": {
            "gridcolor": "#EBF0F8",
            "linecolor": "#EBF0F8",
            "ticks": ""
           },
           "bgcolor": "white",
           "radialaxis": {
            "gridcolor": "#EBF0F8",
            "linecolor": "#EBF0F8",
            "ticks": ""
           }
          },
          "scene": {
           "xaxis": {
            "backgroundcolor": "white",
            "gridcolor": "#DFE8F3",
            "gridwidth": 2,
            "linecolor": "#EBF0F8",
            "showbackground": true,
            "ticks": "",
            "zerolinecolor": "#EBF0F8"
           },
           "yaxis": {
            "backgroundcolor": "white",
            "gridcolor": "#DFE8F3",
            "gridwidth": 2,
            "linecolor": "#EBF0F8",
            "showbackground": true,
            "ticks": "",
            "zerolinecolor": "#EBF0F8"
           },
           "zaxis": {
            "backgroundcolor": "white",
            "gridcolor": "#DFE8F3",
            "gridwidth": 2,
            "linecolor": "#EBF0F8",
            "showbackground": true,
            "ticks": "",
            "zerolinecolor": "#EBF0F8"
           }
          },
          "shapedefaults": {
           "line": {
            "color": "#2a3f5f"
           }
          },
          "ternary": {
           "aaxis": {
            "gridcolor": "#DFE8F3",
            "linecolor": "#A2B1C6",
            "ticks": ""
           },
           "baxis": {
            "gridcolor": "#DFE8F3",
            "linecolor": "#A2B1C6",
            "ticks": ""
           },
           "bgcolor": "white",
           "caxis": {
            "gridcolor": "#DFE8F3",
            "linecolor": "#A2B1C6",
            "ticks": ""
           }
          },
          "title": {
           "x": 0.05
          },
          "xaxis": {
           "automargin": true,
           "gridcolor": "#EBF0F8",
           "linecolor": "#EBF0F8",
           "ticks": "",
           "title": {
            "standoff": 15
           },
           "zerolinecolor": "#EBF0F8",
           "zerolinewidth": 2
          },
          "yaxis": {
           "automargin": true,
           "gridcolor": "#EBF0F8",
           "linecolor": "#EBF0F8",
           "ticks": "",
           "title": {
            "standoff": 15
           },
           "zerolinecolor": "#EBF0F8",
           "zerolinewidth": 2
          }
         }
        },
        "xaxis": {
         "autorange": true,
         "range": [
          -20.57587687214334,
          27.624970894941047
         ],
         "showgrid": false,
         "showticklabels": false,
         "ticks": "",
         "type": "linear",
         "zeroline": false
        },
        "yaxis": {
         "autorange": true,
         "range": [
          -21.2872134205112,
          31.876023730389033
         ],
         "showgrid": false,
         "showticklabels": false,
         "ticks": "",
         "type": "linear",
         "zeroline": false
        }
       }
      },
      "image/png": "[encoded data removed]",
      "text/html": [
       "<div>                            <div id=\"57a8095c-c1ff-48b9-97e0-eb5cc9f00048\" class=\"plotly-graph-div\" style=\"height:525px; width:100%;\"></div>            <script type=\"text/javascript\">                require([\"plotly\"], function(Plotly) {                    window.PLOTLYENV=window.PLOTLYENV || {};                                    if (document.getElementById(\"57a8095c-c1ff-48b9-97e0-eb5cc9f00048\")) {                    Plotly.newPlot(                        \"57a8095c-c1ff-48b9-97e0-eb5cc9f00048\",                        [{\"marker\":{\"color\":\"rgba(99, 110, 250, 0.8)\",\"size\":6},\"mode\":\"markers\",\"name\":\"Label 0\",\"x\":[-8.265398878844746,-5.456710818316305,-5.558578675365341,-2.9248408029605826,3.8313808448460422,-3.9980235937535085,-2.4009085083330532,-8.920105125185195,-13.060350497055982,-6.163446846563333,-8.217299224776744,-6.828160364081638,8.362847347800988,-4.587471096962184,-6.420218747756506,2.5817897471774733,-3.31267190939849,-11.63811317031189,-11.661539519135104,2.3148451060340203,-10.272321221363828,1.3347804627411168,3.909519367645374,-13.45693551039979,-1.750049205459998,-5.887716936699916,-8.766672385767178,-8.541033743043926,-3.946582873868829,-7.653722337701057,-3.112141292948897,-4.236640896932032,1.9828300952401265,-3.1446724838826143,0.9190568838778169,2.6519769133659783,5.064435997826313,-4.468539835979042,-1.3183968993068753,2.1814072472022876,-7.884936585416149,-3.060105174465767,0.7217865187797642,-2.797265592164566,-2.495725104466172,-9.707131045692114,-7.12995783649076,-7.359066333547993,9.741908278392799,4.136650460362984,3.1660598365155526,-6.1761108610883335,-4.0762473058363,-2.798712961318055,-1.017680952552232,-11.08205256708355,-3.8814796546176886,-9.385939407365726,4.95255318692891,-13.271419275007355,-11.244911065371374,0.41061197668816857,-4.469998933914423,-2.5683138448848473,-5.052743700140646,-6.470850420020172,4.786234233397627],\"y\":[17.8487639189403,11.543720995747604,11.901850520712532,7.89463190243622,10.494806293396065,8.478069775346732,14.454724696584737,8.061150124207366,3.1039584955565624,9.001759608861612,10.60356221096648,4.546006029406198,7.873088334936436,11.870030676923866,13.150003919347087,26.34878895032393,12.07874472507855,2.0666441855073474,5.654021633339944,18.622404780217828,13.87618057208068,14.607520916175641,17.7201874879324,12.120960277458613,16.77970462147453,11.423568384713114,13.41010273693767,19.369773152341153,15.877108479065566,9.037194422911636,5.684491973055827,19.90972414444687,13.520416399189768,-0.41302602370927394,8.245890685046723,18.053196052172446,14.600002390061826,5.807300626329994,11.704989991822604,12.003477098856923,11.25937249969767,13.903770191261795,10.783326097235085,22.49568742553519,14.010849074973832,13.270051549349361,11.836594592842934,14.100184505716356,11.606337430879522,15.271834877197724,16.43993059477277,17.24932104167691,19.911187658601435,13.259062429537034,13.064842576199672,5.674511805137912,16.621244637445752,9.338796280468408,12.11952992588522,15.558998845829276,2.668219481789651,16.020499667428783,14.977150972980619,6.2789241720796785,18.993043808390606,16.6591897847951,6.085438239838803],\"type\":\"scatter\"},{\"marker\":{\"color\":\"rgba(239, 85, 59, 0.8)\",\"size\":6},\"mode\":\"markers\",\"name\":\"Label 1\",\"x\":[15.423150646024478,10.249738061648026,20.235341961360536,20.485724057938192,10.19264786813955,11.535909304803424,12.390798008712656,15.91289106480679,13.169448024954848,11.540450635926542,18.040432358905687,13.83765407578955,14.33195230984953,15.826169305574567,10.461409402290663,10.431879263022214,12.473833717585425,16.1926458487074,10.241827533513764,13.311397758141322,8.721336649469569,11.164000092247262,16.73141273593718,21.146276801543458,21.762032436636492,16.320753894576242,14.492825669496007,13.97832125781685,13.284432492211788,22.18844810438486,13.879298279221175,16.21546778501708,17.8677725387742,14.240126565871892,12.984197858567788,9.353099759597097,12.48925316056969,18.07707966336566,17.20780271720296,12.473820020084977,15.655912168945152,21.556775664560256,15.56157010005109,17.765779539326626,20.757660284889532,14.619379704599169,13.846932728743328,9.899295731717748,21.4247356446078,19.013864308766035,12.592294286612086,11.892656233691582,13.041316424816413,13.88564926716569,8.857712517601067,18.85652309955049,16.956742866939937,21.97845989042766,20.017248900879988,7.750830566531042,16.361346084026135,21.626784299328456,16.298683448244397,12.90152135165128,16.126795551447064,10.490017858505112,21.510628190438176],\"y\":[-8.628732422346234,-3.1574261121883995,-7.251689380275088,-4.038957317948588,-7.493400430108587,-3.0241144116876075,-1.0328709388674076,-7.061386065965405,-3.1597143856744307,-3.1545947116666704,-1.969857487551106,-12.504496605158716,-2.6541414832884485,-4.471337359551602,-5.906259103945302,-0.6957116224059986,-6.068248544531476,0.7780193980003958,-4.030224985260905,-4.032156044322809,-4.250152488310509,-4.227481052061314,-4.1407700223286685,-11.018261335469246,-2.419973805403157,0.25538616360461375,-3.7968938186526584,-6.838511307943595,-12.406687590543335,-7.527698166202498,0.37838252702650466,-2.281826509197752,-4.725460976481944,-4.556050952336834,-4.60227077632271,-6.785634998192635,-6.401324282454122,1.442697120963178,-4.626022171869926,-7.085751003539829,-3.2709757551346463,-5.995302438359561,1.3713778720135423,-3.1628388190692833,5.656605542945116,1.860875885703234,-1.0601393262486694,-5.100919538062103,-7.441888756234069,-3.834730975746681,-5.286828107148393,-10.280892563024064,-4.8902030572981365,-7.345466761860494,-2.4269502690552436,-3.7169866406872383,-2.0188307541560673,2.611455151698806,0.24970770506883816,-7.022347949415795,3.7548863809675677,-1.1998125517142193,1.4788921061372904,-4.146483636880954,-7.533155195246442,-4.366697539687681,-4.958699686017645],\"type\":\"scatter\"},{\"marker\":{\"color\":\"rgba(0, 204, 150, 0.8)\",\"size\":6},\"mode\":\"markers\",\"name\":\"Label 2\",\"x\":[-15.602468432059858,-10.513655198632245,-2.9030255305703143,-11.606652449554238,-13.328079820647542,-9.009225207585663,-9.909565264658085,-15.401594803066871,-14.314638041529415,-11.153286070954975,-5.093863501580143,-7.790996250333131,-9.808909350214716,-9.073401367323395,-13.408853035775113,-14.098412743473721,-14.549268574746785,-8.693366146144902,-11.65453502537252,-8.099328637888688,-7.371288893219261,-17.051972410567053,-11.36012156466463,-8.779836629628079,-14.85054711835819,-11.701476942910809,-10.74713417787174,-14.255594014955594,-15.66852926722642,-17.000786156270603,-12.724638356407485,-9.491809027593613,-6.495150830769426,-12.556167811375841,-13.005834313923708,-11.682151980730621,-13.692767454112863,-10.539059855976543,-13.336157423700255,-12.016287345491689,-11.505381937919633,-12.940387215345988,-11.885491485458639,-8.09766287031956,-10.437300142467471,-16.989390737494567,-10.031833701717003,-10.076318766769287,-10.885571162196404,-9.95998624178704,-6.803505603548229,-13.173710585041905,-16.72921651318857,-16.9056740238739,-15.036420255319989,-8.778433984351212,-13.454842129624323,-10.018511033629109,-13.188867648241871,-12.980476265916323,-12.228366062050782,-12.42925180330306,-9.909586975002084,-12.886830138791053,-10.004698487061237,-9.58278608728925],\"y\":[-6.082052244715441,-11.990491349058727,-6.004349229602594,-7.005236950509208,-3.2364883751846114,-9.968384864090973,-10.77959856624603,-1.828777139606903,-8.799142875091801,-10.456155813718668,-8.346716288641575,-12.898151154707671,-8.351997846868677,-11.158715742511543,-11.023729347858508,-5.152044191676455,-3.2347985575673963,-14.354477516655836,-8.600304010115956,-15.625900997577455,-10.478760619240584,-7.087882650118642,-11.498803336307278,-8.076789845316087,-7.788850748827189,-8.639189379913336,-6.513691704338477,-4.9307211110703815,-8.289380102998688,-7.593381103925424,-9.948801884109612,-9.052332674732245,-5.714163183032917,-10.950012093231342,-8.938280845612953,-10.382364772670774,-6.3775832242008885,-5.85032857306972,-11.30699603865751,-7.764810896463079,-8.695857559234106,-3.1612448594402234,-7.739119577157126,-7.85021535101874,-7.637656531715896,-7.838816555554111,-3.489955563823133,-11.054902528099696,-8.966181360922109,-13.020614824542093,-10.333541253515456,-9.725455120114082,-8.523768223269817,-7.201489593830057,-6.943541161355902,-14.78826247713865,-4.150979722162325,-12.18074002924188,-12.605949314657314,-5.19648107240503,-4.55233898929754,-12.479924139855237,-7.258279673399537,-12.534474212960564,-2.9990469036136966,-12.135966748608267],\"type\":\"scatter\"},{\"line\":{\"color\":\"rgba(99, 110, 250, 0.8)\",\"dash\":\"dot\",\"width\":3},\"mode\":\"lines\",\"name\":\"Cluster 0\",\"x\":[-0.6524250603471162,0.5300101401434576,1.7028316251296607,2.861316856431488,4.00080102290263,5.116695823978545,6.204507945143417,7.259857150921823,8.27849392254102,9.256316569243202,10.189387744346504,11.073950299550447,11.906442413646065,12.683511934712797,13.402029878051152,14.059103025499745,14.652085575403666,15.17858979632395,15.636495641589333,16.02395928597595,16.33942055014073,16.581609182912977,16.749549976147485,16.842566691543546,16.860284783617935,16.802632907867356,16.669843208047595,16.462450381412523,16.181289525676988,15.827492776373076,15.402484748139871,14.907976798303133,14.34596013584335,13.718697803499973,13.028715565297025,12.278791736182802,11.471945994736219,10.61142722398689,9.700700429309904,8.743432786072056,7.743478873211034,6.704865152206409,5.631773753940444,4.528525638733017,3.3995631973595355,2.249432363111138,1.082764306925844,-0.09574321070232195,-1.28134475594675,-2.469266329835409,-3.6547245914597837,-4.832946118800402,-5.999186629612628,-7.148750084976722,-8.277007598589211,-9.379416075654222,-10.451536506322826,-11.489051840018938,-12.487784368678343,-13.443712548904545,-14.352987195304678,-15.211946979800498,-16.01713317450435,-16.76530357879561,-17.453445574518284,-18.078788256731016,-18.638813591163355,-19.13126655345097,-19.554164209322956,-19.905803699178193,-20.184769094900012,-20.389937101298933,-20.520481579225958,-20.57587687214334,-20.555899922757924,-20.46063117119413,-20.29045423109001,-20.04605434492047,-19.728415624767692,-19.338817089649126,-18.87882751535932,-18.35029911756348,-17.755360093578744,-17.09640605287466,-16.376090370799425,-15.59731350437381,-14.763211313174496,-13.87714243233426,-12.942674748503753,-11.963571033231203,-10.943773791609482,-9.887389387199507,-8.798671507153543,-7.682004034118328,-6.54188339388698,-5.3829004498792195,-4.209722017354739,-3.0270720717953328,-1.839712727122822,-0.6524250603471209],\"y\":[29.16229638358334,29.041521701156537,28.85602414258308,28.60655064106114,28.29410573833122,27.919947539741138,27.48558264829981,26.992760098118683,26.4434643116687,25.839907109211357,25.184518802579205,24.479938409167826,23.729003025544234,22.934736403460313,22.100336774271746,21.229163970789116,20.324725898417043,19.390664410057184,18.43074064165198,17.448819867417694,16.44885593574934,15.434875348468712,14.410961047522658,13.381235974416917,12.349846468585833,11.320945571546895,10.298676304068316,9.287154983686664,8.29045464974897,7.3125886627208265,6.357494543800289,5.429018119909735,4.530898037908203,3.6667507103800236,2.8400557536177438,2.054141976435405,1.3121739762303584,0.6171393962664364,-0.028163104510960935,-0.621135120686704,-1.1593889632374292,-1.6407572739125271,-2.06330175242085,-2.4253209612818942,-2.7253571769139917,-2.9622022593727095,-3.1349025171039813,-3.2427625471234016,-3.2853480351586093,-3.2624875044795694,-3.174273006374843,-3.021059749493542,-2.803464669545461,-2.5223639451187267,-2.178889469617854,-1.7744242935285097,-1.3105970553613417,-0.7892754236995145,-0.21255857675651058,0.4172312502736446,1.0975581160379058,1.8256825843649551,2.598672755007847,3.413416069371454,4.266631843687422,5.154884479169758,6.07459729595863,7.022066935147707,7.993478270903497,8.984919772630484,9.992399255324333,11.01185995469181,12.039196862308879,13.070273255040725,14.10093735216582,15.127039033131483,16.144446548624675,17.149063157668145,18.136843623750465,19.103810503565654,20.046070162773642,20.959828454291486,21.841405995984516,22.687252986239645,23.493963497763545,24.25828919204976,24.977152399291377,25.64765851107113,26.267107635927836,26.833005470866414,27.343073345035666,27.7952573951316,28.18773683558002,28.51893129019742,28.787507155808058,28.99238297219331,29.13273377675024,29.207994426324827,29.217861872844022,29.16229638358334],\"type\":\"scatter\"},{\"line\":{\"color\":\"rgba(254, 203, 82, 0.8)\",\"dash\":\"dot\",\"width\":3},\"mode\":\"lines\",\"name\":\"Cluster 1\",\"x\":[16.536610906440703,17.329999260932368,18.113883279078475,18.885106536604933,19.640563589652118,20.377212479301274,21.092086980469418,21.78230854585085,22.445097896811173,23.077786214561446,23.677825886549485,24.242800764796463,24.770435894872037,25.258606676332924,25.705347417739013,26.108859251799032,26.467517378774204,26.779877608973354,27.04468217799506,27.260864811300998,27.427555017727162,27.54408159464454,27.60997533065521,27.624970894941047,27.58900790565726,27.50223117306879,27.36499011645045,27.177837357098877,26.941526493121575,26.657009064963333,26.325430723888694,25.948126618848654,25.52661602030708,25.06259620267475,24.557935609984384,24.014666332325913,23.434975923336975,22.821198591696447,22.175805802089965,21.5013963234939,20.800685764849952,20.076495640266337,19.331742007776374,18.569423727401936,17.792610385802618,17.004429936133597,16.208056102882324,15.406695602400108,14.603575230587202,13.801928869724572,13.004984466771312,12.215951035561565,11.438005735238368,10.674281076955188,9.92785231035906,9.2017250406457,8.498823126048134,7.821976904491603,7.173911796821654,6.55723733249634,5.97443664193208,5.427856457813913,4.919697665631206,4.4520064414886065,4.026666012877024,3.6453890755812317,3.3097108972583964,3.0209831354571044,2.780368394969466,2.58883554643195,2.4471558250252894,2.355899724982619,2.315434702410535,2.3259236956730582,2.3873244692963453,2.4993897840360386,2.661668392422431,2.873506855774778,3.1340521753682253,3.442255227158615,3.796874986234732,4.196483523987618,4.63947175787508,5.124055930629188,5.648284792817231,6.21004745983449,6.807081911691508,7.436984101370255,8.097217635072944,8.78512398538468,9.497933196224992,10.23277503648341,10.98669055742706,11.7566440073429,12.539535055438368,13.332211275779311,14.131480840996561,14.934125374648177,15.736912910485543,16.5366109064407],\"y\":[-13.40806052336878,-13.262944632836437,-13.078210565534848,-12.854602180352307,-12.593019869334755,-12.294516932124811,-11.960295334695868,-11.591700869459343,-11.190217736233626,-10.757462565895244,-10.295177910776912,-9.805225228024295,-9.289577384165101,-8.750310711071855,-8.189596645306288,-7.609692984510705,-7.012934796053745,-6.401725014538242,-5.778524766031675,-5.145843457980133,-4.506228674710217,-3.8622559192061017,-3.2165182424680303,-2.571615802211138,-1.9301453929480399,-1.2946899896138584,-0.667808346837794,-0.05202469574133506,0.5501814202495541,1.1363851296506748,1.7042259970212168,2.251417527604173,2.775756374233726,3.2751312094366316,3.7475312270027565,4.191054238792015,4.603914334174602,4.984449071262823,5.331126170977779,5.642549686996443,5.917465626734797,6.154767000733383,6.3534982801131505,6.512859244153002,6.63220820249621,6.711064579010996,6.749110846901004,6.746193807273633,6.70232520601791,6.617681686507943,6.4926040783223975,6.327596024844073,6.123321955265762,5.880604409168399,5.600420724444467,5.2838991019032715,4.932314062404444,4.5470813148123,4.1297520554358975,3.6820067219089827,3.20564822666074,2.702594697223777,2.174871752611522,1.6246043468654099,1.0540082126149182,0.4653809391043362,-0.13890727938825176,-0.7564231874867229,-1.3846802665775613,-2.021148747142691,-2.663265795248469,-3.3084458321733674,-3.9540909456209707,-4.597601350595847,-5.236385857820157,-5.867872307538304,-6.489517926696489,-7.098819567792308,-7.693323788166295,-8.27063672914955,-8.82843375528774,-9.364468814827607,-9.876583483774597,-10.362715657104554,-10.820907852132795,-11.249315090606029,-11.64621232777858,-12.010001398558765,-12.339217452755637,-12.632534853513706,-12.888772515184657,-13.106898659142436,-13.286034968391583,-13.425460124239804,-13.524612710793729,-13.583093475582595,-13.600666937207022,-13.577262333539489,-13.512973906658459,-13.40806052336878],\"type\":\"scatter\"},{\"line\":{\"color\":\"rgba(255, 151, 255, 0.8)\",\"dash\":\"dot\",\"width\":3},\"mode\":\"lines\",\"name\":\"Cluster 2\",\"x\":[-9.188866421938577,-8.579851755522435,-7.976464921150409,-7.381135544642891,-6.796260807281284,-6.224195793205048,-5.667244006319088,-5.127648094896528,-4.607580821225655,-4.109136312663036,-3.6343216293217697,-3.185048682348789,-2.7631265353334626,-2.3702541198470346,-2.008013394444794,-1.677862974677332,-1.3811322597605127,-1.119016079554056,-0.8925698834033788,-0.7027054902176015,-0.5501874168966339,-0.4356297998914336,-0.3594939222932858,-0.3220863564095957,-0.32355772930540105,-0.3639021162813716,-0.44295706473045193,-0.5604042482771874,-0.7157707485656886,-0.9084309595349325,-1.1376091065135654,-1.4023823699907059,-1.701684601484402,-2.03431061654529,-2.39892104760899,-2.7940477371566006,-3.218099649466806,-3.669369277155221,-4.14603951670394,-4.6461909852961005,-5.167809749493015,-5.708795434633365,-6.26696968230061,-6.840084921803523,-7.42583342035007,-8.021856575472896,-8.625754412288972,-9.235095247351424,-9.847425480180505,-10.460279473046747,-11.071189479223884,-11.677695579733912,-12.277355588572636,-12.867754886530715,-13.446516144013035,-14.011308893705884,-14.559858914546343,-15.08995738920779,-15.59946979822772,-16.086344514964235,-16.548621066772444,-16.984438029135834,-17.392040520965857,-17.769787270888663,-18.11615722606569,-18.429755676936537,-18.709319873222185,-18.953724108574626,-19.16198425339904,-19.33326171759635,-19.46686682726955,-19.56226160179706,-19.619061920090864,-19.637039067316508,-19.616120655847034,-19.5563909167424,-19.45809036058076,-19.321614809007194,-19.14751380089969,-18.936488379570044,-18.689388269909834,-18.407208456848217,-18.091085178898787,-17.742291352928113,-17.362231448568764,-16.952435832915814,-16.5145546082787,-16.050350967801585,-15.561694095706882,-15.050551640750113,-14.51898179319286,-13.969124997196962,-13.403195332011368,-12.823471596656418,-12.232288134004527,-11.632025431205264,-11.025100534303814,-10.413957315649656,-9.801056633285109,-9.18886642193858],\"y\":[-18.600154301928423,-18.531502698494627,-18.42337318844168,-18.27620117114292,-18.090579256368564,-17.867254878055313,-17.607127284653686,-17.3112439181719,-16.980796196496584,-16.617114715973464,-16.221663893565488,-15.796036070162595,-15.341945098786937,-14.861219443511665,-14.35579481688145,-13.827706385481259,-13.279080575038819,-12.712126508058718,-12.129127108465784,-11.532429909076171,-10.924437598911261,-10.307598348416992,-9.684395951545532,-9.057339824393685,-8.428954900669932,-7.801771464677572,-7.178314962752858,-6.561095834183953,-5.952599402557959,-5.355275868240009,-4.771530442281183,-4.203713661482506,-3.6541119236128594,-3.1249382808921347,-2.6183235288110334,-2.1363076261696587,-1.6808314808834472,-1.253729134631989,-0.8567203778205341,-0.49140382459099285,-0.15925047576702234,0.13840220434712336,0.40035567346328094,0.6255551374161623,0.8130937974471788,0.9622165015629882,1.0723227852660404,1.1429692894131946,1.1738715454664916,1.1649051209475623,1.1161061204833054,1.0276710404252842,0.8999559776282808,0.7334751955739467,0.5288990536132552,0.2870513076660117,0.008905793246485771,-0.3044174958284742,-0.6516569172592739,-1.0314142604517897,-1.442160376617987,-1.8822413361183372,-2.34988508825277,-2.843208596683384,-3.3602254217571943,-3.8988537191974864,-4.456924622955983,-5.032190978470879,-5.6223363911652005,-6.224984553750174,-6.83770881477599,-7.458041949900693,-8.083486096531857,-8.711522811837614,-9.339623213627082,-9.965258163266359,-10.585908449627212,-11.19907493306112,-11.802288608552592,-12.393120547530915,-12.969191678308281,-13.528182365761776,-14.067841751685286,-14.585996818201124,-15.080561137736037,-15.549543274328654,-15.991054802439226,-16.403317910972802,-16.784672561897015,-17.133583174629344,-17.448644809278132,-17.728588823839694,-17.972287982571885,-18.1787609949746,-18.347176467100244,-18.47685624928376,-18.56727816681197,-18.618078122536836,-18.62905156296619,-18.600154301928423],\"type\":\"scatter\"}],                        {\"font\":{\"size\":22},\"margin\":{\"b\":0,\"l\":0,\"r\":0,\"t\":0},\"template\":{\"data\":{\"barpolar\":[{\"marker\":{\"line\":{\"color\":\"white\",\"width\":0.5},\"pattern\":{\"fillmode\":\"overlay\",\"size\":10,\"solidity\":0.2}},\"type\":\"barpolar\"}],\"bar\":[{\"error_x\":{\"color\":\"#2a3f5f\"},\"error_y\":{\"color\":\"#2a3f5f\"},\"marker\":{\"line\":{\"color\":\"white\",\"width\":0.5},\"pattern\":{\"fillmode\":\"overlay\",\"size\":10,\"solidity\":0.2}},\"type\":\"bar\"}],\"carpet\":[{\"aaxis\":{\"endlinecolor\":\"#2a3f5f\",\"gridcolor\":\"#C8D4E3\",\"linecolor\":\"#C8D4E3\",\"minorgridcolor\":\"#C8D4E3\",\"startlinecolor\":\"#2a3f5f\"},\"baxis\":{\"endlinecolor\":\"#2a3f5f\",\"gridcolor\":\"#C8D4E3\",\"linecolor\":\"#C8D4E3\",\"minorgridcolor\":\"#C8D4E3\",\"startlinecolor\":\"#2a3f5f\"},\"type\":\"carpet\"}],\"choropleth\":[{\"colorbar\":{\"outlinewidth\":0,\"ticks\":\"\"},\"type\":\"choropleth\"}],\"contourcarpet\":[{\"colorbar\":{\"outlinewidth\":0,\"ticks\":\"\"},\"type\":\"contourcarpet\"}],\"contour\":[{\"colorbar\":{\"outlinewidth\":0,\"ticks\":\"\"},\"colorscale\":[[0.0,\"#0d0887\"],[0.1111111111111111,\"#46039f\"],[0.2222222222222222,\"#7201a8\"],[0.3333333333333333,\"#9c179e\"],[0.4444444444444444,\"#bd3786\"],[0.5555555555555556,\"#d8576b\"],[0.6666666666666666,\"#ed7953\"],[0.7777777777777778,\"#fb9f3a\"],[0.8888888888888888,\"#fdca26\"],[1.0,\"#f0f921\"]],\"type\":\"contour\"}],\"heatmapgl\":[{\"colorbar\":{\"outlinewidth\":0,\"ticks\":\"\"},\"colorscale\":[[0.0,\"#0d0887\"],[0.1111111111111111,\"#46039f\"],[0.2222222222222222,\"#7201a8\"],[0.3333333333333333,\"#9c179e\"],[0.4444444444444444,\"#bd3786\"],[0.5555555555555556,\"#d8576b\"],[0.6666666666666666,\"#ed7953\"],[0.7777777777777778,\"#fb9f3a\"],[0.8888888888888888,\"#fdca26\"],[1.0,\"#f0f921\"]],\"type\":\"heatmapgl\"}],\"heatmap\":[{\"colorbar\":{\"outlinewidth\":0,\"ticks\":\"\"},\"colorscale\":[[0.0,\"#0d0887\"],[0.1111111111111111,\"#46039f\"],[0.2222222222222222,\"#7201a8\"],[0.3333333333333333,\"#9c179e\"],[0.4444444444444444,\"#bd3786\"],[0.5555555555555556,\"#d8576b\"],[0.6666666666666666,\"#ed7953\"],[0.7777777777777778,\"#fb9f3a\"],[0.8888888888888888,\"#fdca26\"],[1.0,\"#f0f921\"]],\"type\":\"heatmap\"}],\"histogram2dcontour\":[{\"colorbar\":{\"outlinewidth\":0,\"ticks\":\"\"},\"colorscale\":[[0.0,\"#0d0887\"],[0.1111111111111111,\"#46039f\"],[0.2222222222222222,\"#7201a8\"],[0.3333333333333333,\"#9c179e\"],[0.4444444444444444,\"#bd3786\"],[0.5555555555555556,\"#d8576b\"],[0.6666666666666666,\"#ed7953\"],[0.7777777777777778,\"#fb9f3a\"],[0.8888888888888888,\"#fdca26\"],[1.0,\"#f0f921\"]],\"type\":\"histogram2dcontour\"}],\"histogram2d\":[{\"colorbar\":{\"outlinewidth\":0,\"ticks\":\"\"},\"colorscale\":[[0.0,\"#0d0887\"],[0.1111111111111111,\"#46039f\"],[0.2222222222222222,\"#7201a8\"],[0.3333333333333333,\"#9c179e\"],[0.4444444444444444,\"#bd3786\"],[0.5555555555555556,\"#d8576b\"],[0.6666666666666666,\"#ed7953\"],[0.7777777777777778,\"#fb9f3a\"],[0.8888888888888888,\"#fdca26\"],[1.0,\"#f0f921\"]],\"type\":\"histogram2d\"}],\"histogram\":[{\"marker\":{\"pattern\":{\"fillmode\":\"overlay\",\"size\":10,\"solidity\":0.2}},\"type\":\"histogram\"}],\"mesh3d\":[{\"colorbar\":{\"outlinewidth\":0,\"ticks\":\"\"},\"type\":\"mesh3d\"}],\"parcoords\":[{\"line\":{\"colorbar\":{\"outlinewidth\":0,\"ticks\":\"\"}},\"type\":\"parcoords\"}],\"pie\":[{\"automargin\":true,\"type\":\"pie\"}],\"scatter3d\":[{\"line\":{\"colorbar\":{\"outlinewidth\":0,\"ticks\":\"\"}},\"marker\":{\"colorbar\":{\"outlinewidth\":0,\"ticks\":\"\"}},\"type\":\"scatter3d\"}],\"scattercarpet\":[{\"marker\":{\"colorbar\":{\"outlinewidth\":0,\"ticks\":\"\"}},\"type\":\"scattercarpet\"}],\"scattergeo\":[{\"marker\":{\"colorbar\":{\"outlinewidth\":0,\"ticks\":\"\"}},\"type\":\"scattergeo\"}],\"scattergl\":[{\"marker\":{\"colorbar\":{\"outlinewidth\":0,\"ticks\":\"\"}},\"type\":\"scattergl\"}],\"scattermapbox\":[{\"marker\":{\"colorbar\":{\"outlinewidth\":0,\"ticks\":\"\"}},\"type\":\"scattermapbox\"}],\"scatterpolargl\":[{\"marker\":{\"colorbar\":{\"outlinewidth\":0,\"ticks\":\"\"}},\"type\":\"scatterpolargl\"}],\"scatterpolar\":[{\"marker\":{\"colorbar\":{\"outlinewidth\":0,\"ticks\":\"\"}},\"type\":\"scatterpolar\"}],\"scatter\":[{\"fillpattern\":{\"fillmode\":\"overlay\",\"size\":10,\"solidity\":0.2},\"type\":\"scatter\"}],\"scatterternary\":[{\"marker\":{\"colorbar\":{\"outlinewidth\":0,\"ticks\":\"\"}},\"type\":\"scatterternary\"}],\"surface\":[{\"colorbar\":{\"outlinewidth\":0,\"ticks\":\"\"},\"colorscale\":[[0.0,\"#0d0887\"],[0.1111111111111111,\"#46039f\"],[0.2222222222222222,\"#7201a8\"],[0.3333333333333333,\"#9c179e\"],[0.4444444444444444,\"#bd3786\"],[0.5555555555555556,\"#d8576b\"],[0.6666666666666666,\"#ed7953\"],[0.7777777777777778,\"#fb9f3a\"],[0.8888888888888888,\"#fdca26\"],[1.0,\"#f0f921\"]],\"type\":\"surface\"}],\"table\":[{\"cells\":{\"fill\":{\"color\":\"#EBF0F8\"},\"line\":{\"color\":\"white\"}},\"header\":{\"fill\":{\"color\":\"#C8D4E3\"},\"line\":{\"color\":\"white\"}},\"type\":\"table\"}]},\"layout\":{\"annotationdefaults\":{\"arrowcolor\":\"#2a3f5f\",\"arrowhead\":0,\"arrowwidth\":1},\"autotypenumbers\":\"strict\",\"coloraxis\":{\"colorbar\":{\"outlinewidth\":0,\"ticks\":\"\"}},\"colorscale\":{\"diverging\":[[0,\"#8e0152\"],[0.1,\"#c51b7d\"],[0.2,\"#de77ae\"],[0.3,\"#f1b6da\"],[0.4,\"#fde0ef\"],[0.5,\"#f7f7f7\"],[0.6,\"#e6f5d0\"],[0.7,\"#b8e186\"],[0.8,\"#7fbc41\"],[0.9,\"#4d9221\"],[1,\"#276419\"]],\"sequential\":[[0.0,\"#0d0887\"],[0.1111111111111111,\"#46039f\"],[0.2222222222222222,\"#7201a8\"],[0.3333333333333333,\"#9c179e\"],[0.4444444444444444,\"#bd3786\"],[0.5555555555555556,\"#d8576b\"],[0.6666666666666666,\"#ed7953\"],[0.7777777777777778,\"#fb9f3a\"],[0.8888888888888888,\"#fdca26\"],[1.0,\"#f0f921\"]],\"sequentialminus\":[[0.0,\"#0d0887\"],[0.1111111111111111,\"#46039f\"],[0.2222222222222222,\"#7201a8\"],[0.3333333333333333,\"#9c179e\"],[0.4444444444444444,\"#bd3786\"],[0.5555555555555556,\"#d8576b\"],[0.6666666666666666,\"#ed7953\"],[0.7777777777777778,\"#fb9f3a\"],[0.8888888888888888,\"#fdca26\"],[1.0,\"#f0f921\"]]},\"colorway\":[\"#636efa\",\"#EF553B\",\"#00cc96\",\"#ab63fa\",\"#FFA15A\",\"#19d3f3\",\"#FF6692\",\"#B6E880\",\"#FF97FF\",\"#FECB52\"],\"font\":{\"color\":\"#2a3f5f\"},\"geo\":{\"bgcolor\":\"white\",\"lakecolor\":\"white\",\"landcolor\":\"white\",\"showlakes\":true,\"showland\":true,\"subunitcolor\":\"#C8D4E3\"},\"hoverlabel\":{\"align\":\"left\"},\"hovermode\":\"closest\",\"mapbox\":{\"style\":\"light\"},\"paper_bgcolor\":\"white\",\"plot_bgcolor\":\"white\",\"polar\":{\"angularaxis\":{\"gridcolor\":\"#EBF0F8\",\"linecolor\":\"#EBF0F8\",\"ticks\":\"\"},\"bgcolor\":\"white\",\"radialaxis\":{\"gridcolor\":\"#EBF0F8\",\"linecolor\":\"#EBF0F8\",\"ticks\":\"\"}},\"scene\":{\"xaxis\":{\"backgroundcolor\":\"white\",\"gridcolor\":\"#DFE8F3\",\"gridwidth\":2,\"linecolor\":\"#EBF0F8\",\"showbackground\":true,\"ticks\":\"\",\"zerolinecolor\":\"#EBF0F8\"},\"yaxis\":{\"backgroundcolor\":\"white\",\"gridcolor\":\"#DFE8F3\",\"gridwidth\":2,\"linecolor\":\"#EBF0F8\",\"showbackground\":true,\"ticks\":\"\",\"zerolinecolor\":\"#EBF0F8\"},\"zaxis\":{\"backgroundcolor\":\"white\",\"gridcolor\":\"#DFE8F3\",\"gridwidth\":2,\"linecolor\":\"#EBF0F8\",\"showbackground\":true,\"ticks\":\"\",\"zerolinecolor\":\"#EBF0F8\"}},\"shapedefaults\":{\"line\":{\"color\":\"#2a3f5f\"}},\"ternary\":{\"aaxis\":{\"gridcolor\":\"#DFE8F3\",\"linecolor\":\"#A2B1C6\",\"ticks\":\"\"},\"baxis\":{\"gridcolor\":\"#DFE8F3\",\"linecolor\":\"#A2B1C6\",\"ticks\":\"\"},\"bgcolor\":\"white\",\"caxis\":{\"gridcolor\":\"#DFE8F3\",\"linecolor\":\"#A2B1C6\",\"ticks\":\"\"}},\"title\":{\"x\":0.05},\"xaxis\":{\"automargin\":true,\"gridcolor\":\"#EBF0F8\",\"linecolor\":\"#EBF0F8\",\"ticks\":\"\",\"title\":{\"standoff\":15},\"zerolinecolor\":\"#EBF0F8\",\"zerolinewidth\":2},\"yaxis\":{\"automargin\":true,\"gridcolor\":\"#EBF0F8\",\"linecolor\":\"#EBF0F8\",\"ticks\":\"\",\"title\":{\"standoff\":15},\"zerolinecolor\":\"#EBF0F8\",\"zerolinewidth\":2}}},\"xaxis\":{\"showticklabels\":false,\"ticks\":\"\",\"zeroline\":false,\"showgrid\":false},\"yaxis\":{\"showticklabels\":false,\"ticks\":\"\",\"zeroline\":false,\"showgrid\":false}},                        {\"responsive\": true}                    ).then(function(){\n",
       "                            \n",
       "var gd = document.getElementById('57a8095c-c1ff-48b9-97e0-eb5cc9f00048');\n",
       "var x = new MutationObserver(function (mutations, observer) {{\n",
       "        var display = window.getComputedStyle(gd).display;\n",
       "        if (!display || display === 'none') {{\n",
       "            console.log([gd, 'removed!']);\n",
       "            Plotly.purge(gd);\n",
       "            observer.disconnect();\n",
       "        }}\n",
       "}});\n",
       "\n",
       "// Listen for the removal of the full notebook cells\n",
       "var notebookContainer = gd.closest('#notebook-container');\n",
       "if (notebookContainer) {{\n",
       "    x.observe(notebookContainer, {childList: true});\n",
       "}}\n",
       "\n",
       "// Listen for the clearing of the current output cell\n",
       "var outputEl = gd.closest('.output');\n",
       "if (outputEl) {{\n",
       "    x.observe(outputEl, {childList: true});\n",
       "}}\n",
       "\n",
       "                        })                };                });            </script>        </div>"
      ]
     },
     "metadata": {},
     "output_type": "display_data"
    }
   ],
   "source": [
    "from sklearn import datasets\n",
    "\n",
    "def ellipse_arc(x_center=0, y_center=0, ax1 = [1, 0],  ax2 = [0,1], a=1, b =1,  N=100):\n",
    "    # x_center, y_center the coordinates of ellipse center\n",
    "    # ax1 ax2 two orthonormal vectors representing the ellipse axis directions\n",
    "    # a, b the ellipse parameters\n",
    "    if not np.isclose(np.linalg.norm(ax1), 1) or not np.isclose(np.linalg.norm(ax2), 1):\n",
    "        raise ValueError(\"ax1, ax2 must be unit vectors\")\n",
    "    if  abs(np.dot(ax1, ax2)) > 1e-06:\n",
    "        raise ValueError(\"ax1, ax2 must be orthogonal vectors\")\n",
    "    t = np.linspace(0, 2*np.pi, N)\n",
    "    #ellipse parameterization with respect to a system of axes of directions a1, a2\n",
    "    xs = a * np.cos(t)\n",
    "    ys = b * np.sin(t)\n",
    "    #rotation matrix\n",
    "    R = np.array([ax1, ax2]).T\n",
    "    # coordinate of the  ellipse points with respect to the system of axes [1, 0], [0,1] with origin (0,0)\n",
    "    xp, yp = np.dot(R, [xs, ys])\n",
    "    x = xp + x_center \n",
    "    y = yp + y_center\n",
    "    return x, y\n",
    "\n",
    "def plot_attn_scatter(attn, labels, figure, cluster_labels=None, reduction_method=decomposition.PCA(n_components=2)):\n",
    "    attn_plottable = reduction_method.fit_transform(attn)\n",
    "    \n",
    "    for l in np.unique(labels).astype(int):\n",
    "        l_mask = (labels == l)\n",
    "        fig.add_trace(go.Scatter(\n",
    "                        name=f\"Label {l}\",\n",
    "                        x=attn_plottable[l_mask, 0],\n",
    "                        y=attn_plottable[l_mask, 1],\n",
    "                        mode=\"markers\",\n",
    "                        marker=dict(\n",
    "                            color=COLORS[l],\n",
    "                            size=6\n",
    "                        )\n",
    "        ))\n",
    "\n",
    "    if cluster_labels is not None:\n",
    "        for c_l in np.unique(cluster_labels).astype(int):\n",
    "            c_l_mask = (cluster_labels == c_l)\n",
    "\n",
    "            c_attn = attn_plottable[c_l_mask]\n",
    "            xs = c_attn[:, 0]\n",
    "            ys = c_attn[:, 1]\n",
    "\n",
    "            coefs = np.linalg.lstsq(\n",
    "                            np.concatenate([xs[:, None], np.ones((xs.shape[0], 1))], axis=1), \n",
    "                            ys, rcond=None)[0]\n",
    "\n",
    "            ax1 = np.array([1, 1 * coefs[0] + coefs[1]])\n",
    "            ax1 = ax1 / np.linalg.norm(ax1)\n",
    "\n",
    "            ax2 = np.array([1, -ax1[0] / ax1[1]])\n",
    "            ax2 = ax2 / np.linalg.norm(ax2)\n",
    "            \n",
    "            x, y = ellipse_arc(\n",
    "                    x_center=np.min(xs) + (np.max(xs) - np.min(xs)) / 2, \n",
    "                    y_center=np.min(ys) + (np.max(ys) - np.min(ys)) / 2, \n",
    "                    ax1=ax1,#[np.cos(np.pi/6), np.sin(np.pi/6)],  \n",
    "                    ax2=ax2,#[-np.sin(np.pi/6), np.cos(np.pi/6)],\n",
    "                    a=(np.max(xs) - np.min(xs)) * 0.7, \n",
    "                    b=(np.max(ys) - np.min(ys)) * 0.7\n",
    "                )\n",
    "            \n",
    "            fig.add_trace(go.Scatter(\n",
    "                        name=f\"Cluster {c_l}\",\n",
    "                        x=x,\n",
    "                        y=y,\n",
    "                        mode=\"lines\",\n",
    "                        line=dict(\n",
    "                            color=COLORS[-c_l],\n",
    "                            width=3,\n",
    "                            dash=\"dot\"\n",
    "                        )\n",
    "                ))\n",
    "        \n",
    "\n",
    "    return fig\n",
    "    \n",
    "    \n",
    "axis_template = dict(\n",
    "                    showticklabels = False,\n",
    "                    ticks=\"\",\n",
    "                    zeroline=False,\n",
    "                    showgrid=False\n",
    "                )\n",
    "\n",
    "sim_attn, labels = datasets.make_blobs(n_samples=200, n_features=10, cluster_std=[6, 4, 3])\n",
    "\n",
    "fig = go.Figure(layout=layout)\n",
    "fig = plot_attn_scatter(sim_attn, labels, fig, cluster_labels=labels)\n",
    "\n",
    "fig.update_layout(\n",
    "        xaxis=axis_template,\n",
    "        yaxis=axis_template\n",
    "    )\n",
    "fig.show()"
   ]
  },
  {
   "cell_type": "code",
   "execution_count": 18,
   "id": "66ef22a1",
   "metadata": {},
   "outputs": [
    {
     "name": "stdout",
     "output_type": "stream",
     "text": [
      "jasmine\n",
      "anneal\n",
      "australian\n",
      "kr-vs-kp\n",
      "sylvine\n",
      "volkert\n",
      "adult\n",
      "Done!\n"
     ]
    }
   ],
   "source": [
    "dataset_labels_values = {\n",
    "    \"jasmine\": -5,\n",
    "    \"anneal\": -1.5,\n",
    "    \"australian\": -0.8,\n",
    "    \"kr-vs-kp\": -2,\n",
    "    \"sylvine\": -1,\n",
    "    \"nomao\": -1,\n",
    "    \"volkert\": -1,\n",
    "    \"adult\": -0.8,\n",
    "    \"ldpa\": -1\n",
    "}\n",
    "\n",
    "axis_template = dict(\n",
    "                    showticklabels = False,\n",
    "                    ticks=\"\",\n",
    "                    zeroline=False,\n",
    "                    showgrid=False\n",
    "                )\n",
    "\n",
    "line_style = dict(\n",
    "                            color='#000',\n",
    "                            width=2\n",
    "                        )\n",
    "\n",
    "for r in best_archs_test.iloc:\n",
    "    dataset = r[\"dataset\"]\n",
    "    selection_metric = r[\"selection_metric\"]\n",
    "    \n",
    "    print(dataset)\n",
    "    \n",
    "    attn, data_meta = load_attention_with_meta(dataset, selection_metric)\n",
    "    labels, cluster_labels = data_meta[\"labels\"], data_meta[\"cluster_labels\"]\n",
    "    n_instances, n_features = attn.shape\n",
    "    \n",
    "    # Plotting as 2D points colored by cluster\n",
    "    if dataset not in []: # Add ommited datasets in list\n",
    "        fig = go.Figure(layout=layout)\n",
    "        \n",
    "        fig = plot_attn_scatter(sim_attn, labels, fig, cluster_labels=labels)\n",
    "        \n",
    "        fig.update_layout(\n",
    "            xaxis=axis_template,\n",
    "            yaxis=axis_template\n",
    "        )\n",
    "        \n",
    "        fig.write_image(os.path.join(ASSETS_DIR, f\"{dataset}_clusters.svg\"), scale=IMG_SCALE)\n",
    "\n",
    "\n",
    "    if dataset not in [\"volkert\"]: # Add ommited datasets in list\n",
    "        \n",
    "        # Adding blank rows for clusters\n",
    "        sep = np.ones((1, n_features)) * np.nan\n",
    "        sep_width = int(n_instances * 0.01)\n",
    "        sep_indices = np.unique(cluster_labels, return_index=True)[1]\n",
    "        rep_sep_indices = np.repeat(sep_indices[1:], sep_width)\n",
    "        attn = np.insert(attn, rep_sep_indices, sep, axis=0)\n",
    "        brace_labels = np.insert(labels, rep_sep_indices, -1, axis=0)\n",
    "                \n",
    "        # Adding blank rows for labels\n",
    "        l_sep_width = int(n_instances * 0.01)\n",
    "        original_clusters_limits = np.array(sep_indices.tolist() + [n_instances])\n",
    "        l_sep_indices = []\n",
    "        for s_i, (s_i_s, s_i_e) in enumerate(zip(original_clusters_limits[:-1], original_clusters_limits[1:])):\n",
    "            l_sep_indices += (\n",
    "                            np.unique(labels[s_i_s:s_i_e], return_index=True)[1] \\\n",
    "                            + s_i_s \n",
    "                            + s_i * sep_width\n",
    "                        ).tolist()\n",
    "        \n",
    "        l_rep_sep_indices = np.repeat(l_sep_indices[1:], l_sep_width)\n",
    "        attn = np.insert(attn, l_rep_sep_indices, sep, axis=0)\n",
    "        brace_labels = np.insert(brace_labels, l_rep_sep_indices, -1, axis=0)\n",
    "    \n",
    "        \n",
    "        # Adding braces \n",
    "        braces_indices = np.concatenate([sep_indices, [n_instances]])\n",
    "        data = []\n",
    "        annotations = []\n",
    "        for i, (s, f) in enumerate(zip(braces_indices[:-1], braces_indices[1:])):\n",
    "            e_offset = (l_sep_indices < f).sum()\n",
    "            s_offset = (l_sep_indices < s).sum()\n",
    "            \n",
    "            lower_val = s + i * sep_width + s_offset * l_sep_width\n",
    "            upper_val = f + i * sep_width + e_offset * l_sep_width\n",
    "            middle_val = lower_val + (upper_val - lower_val) // 2\n",
    "            \n",
    "            center_val = dataset_labels_values[dataset]\n",
    "            right_val = center_val - 0.3 * dataset_labels_values[dataset]\n",
    "            left_val = center_val + 0.3 * dataset_labels_values[dataset]\n",
    "            \n",
    "            brace = go.Scatter(\n",
    "                            x=[right_val, center_val, center_val, left_val, center_val, center_val, right_val], \n",
    "                            y=[lower_val, lower_val, middle_val, middle_val, middle_val, upper_val, upper_val], \n",
    "                            mode=\"lines\", \n",
    "                            line=line_style\n",
    "                        )\n",
    "            data.append(brace)\n",
    "            \n",
    "            ann_color = \"#000\"\n",
    "            \n",
    "            annotations.append(dict(\n",
    "                                text=f\"C{cluster_labels[s]}\", \n",
    "                                x=left_val * 1.5, \n",
    "                                y=middle_val,\n",
    "                                color=ann_color\n",
    "                                ))\n",
    "        \n",
    "        l_sep_indices = np.array(l_sep_indices + [n_instances + (len(np.unique(cluster_labels)) - 1) * sep_width ])\n",
    "        for i, (s, f) in enumerate(zip(l_sep_indices[:-1], l_sep_indices[1:])):\n",
    "            lower_val = s + i * l_sep_width\n",
    "            upper_val = f + i * l_sep_width\n",
    "            middle_val = lower_val + (upper_val - lower_val) // 2\n",
    "            \n",
    "            center_val = n_features - 1 - dataset_labels_values[dataset]\n",
    "            right_val = center_val - 0.3 * dataset_labels_values[dataset]\n",
    "            left_val = center_val + 0.3 * dataset_labels_values[dataset]\n",
    "            \n",
    "            brace = go.Scatter(\n",
    "                            x=[left_val, center_val, center_val, right_val, center_val, center_val, left_val], \n",
    "                            y=[lower_val, lower_val, middle_val, middle_val, middle_val, upper_val, upper_val], \n",
    "                            mode=\"lines\", \n",
    "                            line=line_style\n",
    "                        )\n",
    "            data.append(brace)\n",
    "            annotations.append(dict(\n",
    "                                text=f\"L{int(brace_labels[lower_val])}\", \n",
    "                                x=right_val - 0.5 * dataset_labels_values[dataset], \n",
    "                                y=middle_val,\n",
    "                                color=\"#000\"\n",
    "                                ))\n",
    "        \n",
    "        \n",
    "           \n",
    "        heatmap_trace = go.Heatmap(x=np.arange(n_features), y=np.arange(n_instances), z=attn, colorscale=\"Inferno\", zsmooth=False)\n",
    "        data = [heatmap_trace] + data\n",
    "        fig = go.Figure(data=data, layout=layout)\n",
    "        \n",
    "        fig.update_layout(\n",
    "            xaxis=axis_template,\n",
    "            yaxis=axis_template,\n",
    "            showlegend=False\n",
    "        )\n",
    "        \n",
    "        fig.update_yaxes(autorange=\"reversed\")\n",
    "        \n",
    "        for a in annotations:\n",
    "            fig.add_annotation(x=a[\"x\"], y=a[\"y\"], text=a[\"text\"], showarrow=False, font=dict(color=a[\"color\"], size=15))\n",
    "            \n",
    "        fig.write_image(os.path.join(ASSETS_DIR, f\"{dataset}_attention.png\"), scale=IMG_SCALE)\n",
    "            \n",
    "    \n",
    "print(\"Done!\")"
   ]
  },
  {
   "cell_type": "markdown",
   "id": "50ed2617-ce1f-48db-843e-1b74a3f2cdc7",
   "metadata": {},
   "source": [
    "### Attention graph"
   ]
  },
  {
   "cell_type": "code",
   "execution_count": 33,
   "id": "59b0b3a2",
   "metadata": {
    "scrolled": true
   },
   "outputs": [],
   "source": [
    "dataset = \"anneal\"\n",
    "instance_index = 604\n",
    "\n",
    "attn, data_meta = load_attention_with_meta(dataset, OPTIMIZATION_METRIC)\n",
    "labels, cluster_labels = data_meta[\"labels\"], data_meta[\"cluster_labels\"]\n",
    "\n",
    "sep = np.ones((1, attn.shape[1])) * np.nan\n",
    "sep_width = int(attn.shape[0] * 0.01)\n",
    "rep_sep_indices = np.repeat([instance_index, instance_index + 1], sep_width)\n",
    "rep_inst_index = np.repeat([instance_index + sep_width], 3 * sep_width)\n",
    "attn = np.insert(attn, rep_sep_indices, sep, axis=0)\n",
    "attn = np.insert(attn, rep_inst_index, attn[instance_index + sep_width][None, :], axis=0)\n",
    "\n",
    "data = []\n",
    "heatmap_trace = go.Heatmap(z=attn, zmin=np.nanmin(attn), zmax=np.nanmax(attn), colorscale=\"Inferno\")\n",
    "data += [heatmap_trace] \n",
    "\n",
    "fig = go.Figure(data=data, layout=go.Layout(\n",
    "                            margin={\"l\": 50, \"r\": 0, \"b\": 50, \"t\": 0},    \n",
    "                            template=\"plotly_white\",\n",
    "                            font={\"size\": 22}\n",
    "                        ))\n",
    "\n",
    "fig.update_layout(\n",
    "    xaxis=dict(\n",
    "        tickmode = \"array\",\n",
    "        tickvals = np.arange(0, attn.shape[-1], 5),\n",
    "        ticktext = [str(i) for i in np.arange(0, attn.shape[-1], 5) + 1],\n",
    "        zeroline=False, \n",
    "        showgrid=False\n",
    "    ),\n",
    "    yaxis=dict(showticklabels=False, ticks=\"\", zeroline=False, showgrid=False),\n",
    "    xaxis_title=\"Features\",\n",
    "    yaxis_title=\"Instances\",\n",
    "    showlegend=False\n",
    ")\n",
    "\n",
    "fig.update_yaxes(autorange=\"reversed\")\n",
    "fig.write_image(os.path.join(ASSETS_DIR, f\"{dataset}_attention_graph_instance.png\"), scale=IMG_SCALE)"
   ]
  },
  {
   "cell_type": "code",
   "execution_count": 34,
   "id": "670bc1c9",
   "metadata": {},
   "outputs": [
    {
     "name": "stdout",
     "output_type": "stream",
     "text": [
      "INFO:root:++++++++++++++++++++++++++++++++++++++++ Extracting anneal-log_loss\n",
      "INFO:root:Loading preprocessor\n",
      "INFO:root:Reading data\n",
      "INFO:root:Training size: (718, 33)\n",
      "INFO:root:Test size: (180, 33)\n",
      "INFO:root:Total size: (898, 33)\n",
      "INFO:root:Sorting dataset as original\n",
      "INFO:root:Preprocessing data\n",
      "INFO:root:Building model\n",
      "INFO:root:Loading checkpoint\n"
     ]
    },
    {
     "name": "stderr",
     "output_type": "stream",
     "text": [
      "/home/uriel/Miniconda3/envs/TT/lib/python3.11/site-packages/torch/nn/modules/transformer.py:286: UserWarning:\n",
      "\n",
      "enable_nested_tensor is True, but self.use_nested_tensor is False because encoder_layer was not TransformerEncoderLayer\n",
      "\n"
     ]
    }
   ],
   "source": [
    "d_job = best_archs_test.query(\"dataset==@dataset\").to_dict()\n",
    "d_job = {k: list(v.values())[0] for k, v in d_job.items()}\n",
    "d_job[\"aggregator\"] = list(MAPPINGS[\"aggregator_name\"].keys())[list(MAPPINGS[\"aggregator_name\"].values()).index(d_job[\"aggregator\"])]\n",
    "\n",
    "result = attention.extract_attention(\n",
    "        dataset,\n",
    "        d_job[\"checkpoint_dir\"],\n",
    "        d_job[\"aggregator\"],\n",
    "        OPTIMIZATION_METRIC,\n",
    "        d_job, \n",
    "        only_last=False,\n",
    "        return_cubes=True\n",
    "    )\n",
    "\n",
    "layers_attn = result[\"cumulated_attention\"][:, data_meta[\"data_required_sort\"]]\n",
    "cubes_attn = result[\"attention_cubes\"][:, data_meta[\"data_required_sort\"]]"
   ]
  },
  {
   "cell_type": "code",
   "execution_count": 35,
   "id": "16995285",
   "metadata": {},
   "outputs": [],
   "source": [
    "instance_attn = layers_attn[:, instance_index]\n",
    "instance_cube = cubes_attn[:, instance_index]\n",
    "assert np.allclose(instance_attn[-1], attn[instance_index + sep_width]), \"Error selecting instance\"\n",
    "\n",
    "instance_cube[instance_cube < 0.3] = np.nan"
   ]
  },
  {
   "cell_type": "code",
   "execution_count": 175,
   "id": "4b3a9c68",
   "metadata": {},
   "outputs": [
    {
     "ename": "NameError",
     "evalue": "name 'instance_cube' is not defined",
     "output_type": "error",
     "traceback": [
      "\u001b[0;31m---------------------------------------------------------------------------\u001b[0m",
      "\u001b[0;31mNameError\u001b[0m                                 Traceback (most recent call last)",
      "Cell \u001b[0;32mIn[175], line 7\u001b[0m\n\u001b[1;32m      1\u001b[0m fig \u001b[38;5;241m=\u001b[39m go\u001b[38;5;241m.\u001b[39mFigure(layout\u001b[38;5;241m=\u001b[39mgo\u001b[38;5;241m.\u001b[39mLayout(\n\u001b[1;32m      2\u001b[0m                             margin\u001b[38;5;241m=\u001b[39m{\u001b[38;5;124m\"\u001b[39m\u001b[38;5;124ml\u001b[39m\u001b[38;5;124m\"\u001b[39m: \u001b[38;5;241m70\u001b[39m, \u001b[38;5;124m\"\u001b[39m\u001b[38;5;124mr\u001b[39m\u001b[38;5;124m\"\u001b[39m: \u001b[38;5;241m0\u001b[39m, \u001b[38;5;124m\"\u001b[39m\u001b[38;5;124mb\u001b[39m\u001b[38;5;124m\"\u001b[39m: \u001b[38;5;241m0\u001b[39m, \u001b[38;5;124m\"\u001b[39m\u001b[38;5;124mt\u001b[39m\u001b[38;5;124m\"\u001b[39m: \u001b[38;5;241m0\u001b[39m},    \n\u001b[1;32m      3\u001b[0m                             template\u001b[38;5;241m=\u001b[39m\u001b[38;5;124m\"\u001b[39m\u001b[38;5;124mplotly_white\u001b[39m\u001b[38;5;124m\"\u001b[39m,\n\u001b[1;32m      4\u001b[0m                             font\u001b[38;5;241m=\u001b[39m{\u001b[38;5;124m\"\u001b[39m\u001b[38;5;124msize\u001b[39m\u001b[38;5;124m\"\u001b[39m: \u001b[38;5;241m22\u001b[39m}\n\u001b[1;32m      5\u001b[0m                         ))\n\u001b[0;32m----> 7\u001b[0m n_layers, n_heads, n_features, _ \u001b[38;5;241m=\u001b[39m instance_cube\u001b[38;5;241m.\u001b[39mshape\n\u001b[1;32m      9\u001b[0m fig\u001b[38;5;241m.\u001b[39madd_trace(go\u001b[38;5;241m.\u001b[39mScatter(\n\u001b[1;32m     10\u001b[0m     x \u001b[38;5;241m=\u001b[39m np\u001b[38;5;241m.\u001b[39mrepeat(np\u001b[38;5;241m.\u001b[39marange(n_features)[\u001b[38;5;28;01mNone\u001b[39;00m], n_layers \u001b[38;5;241m+\u001b[39m \u001b[38;5;241m1\u001b[39m, \u001b[38;5;241m0\u001b[39m)\u001b[38;5;241m.\u001b[39mflatten(),\n\u001b[1;32m     11\u001b[0m     y \u001b[38;5;241m=\u001b[39m np\u001b[38;5;241m.\u001b[39mrepeat(np\u001b[38;5;241m.\u001b[39marange(n_layers \u001b[38;5;241m+\u001b[39m \u001b[38;5;241m1\u001b[39m), n_features, \u001b[38;5;241m0\u001b[39m),\n\u001b[0;32m   (...)\u001b[0m\n\u001b[1;32m     22\u001b[0m     \n\u001b[1;32m     23\u001b[0m ))\n\u001b[1;32m     26\u001b[0m \u001b[38;5;28;01mfor\u001b[39;00m l \u001b[38;5;129;01min\u001b[39;00m \u001b[38;5;28mrange\u001b[39m(n_layers):\n",
      "\u001b[0;31mNameError\u001b[0m: name 'instance_cube' is not defined"
     ]
    }
   ],
   "source": [
    "fig = go.Figure(layout=go.Layout(\n",
    "                            margin={\"l\": 70, \"r\": 0, \"b\": 70, \"t\": 0},    \n",
    "                            template=\"plotly_white\",\n",
    "                            font={\"size\": 22}\n",
    "                        ))\n",
    "\n",
    "n_layers, n_heads, n_features, _ = instance_cube.shape\n",
    "\n",
    "fig.add_trace(go.Scatter(\n",
    "    x = np.repeat(np.arange(n_features)[None], n_layers + 1, 0).flatten(),\n",
    "    y = np.repeat(np.arange(n_layers + 1), n_features, 0),\n",
    "    mode=\"markers\",\n",
    "    marker=dict(\n",
    "        color = np.concatenate([np.zeros(n_features), instance_attn.flatten()]),\n",
    "        colorscale=\"Inferno\",\n",
    "        cmax=np.nanmax(attn),\n",
    "        cmin=np.nanmin(attn),\n",
    "        size=14,\n",
    "        symbol=\"square\",\n",
    "        showscale=False\n",
    "    )\n",
    "    \n",
    "))\n",
    "\n",
    "\n",
    "for l in range(n_layers):\n",
    "    for h in range(n_heads):\n",
    "        for o in range(n_features):\n",
    "            for i in range(n_features):\n",
    "                if not np.isnan(instance_cube[l, h, o, i]):\n",
    "                    fig.add_shape(\n",
    "                        type=\"line\",\n",
    "                        x0=i, y0=l + 0.08, \n",
    "                        x1=o, y1=l + 1 - 0.08,\n",
    "                        line=dict(\n",
    "                            color=COLORS[h],\n",
    "                            width=instance_cube[l, h, o, i],\n",
    "                        )\n",
    "                    )\n",
    "                    \n",
    "fig.update_layout(\n",
    "    xaxis=dict(\n",
    "        tickmode = \"array\",\n",
    "        tickvals = np.arange(0, attn.shape[-1], 5),\n",
    "        ticktext = [str(i) for i in np.arange(0, attn.shape[-1], 5) + 1],\n",
    "        zeroline=False, \n",
    "        showgrid=False\n",
    "    ),\n",
    "    yaxis=dict(\n",
    "        tickmode = \"array\",\n",
    "        tickvals = np.arange(n_layers + 1),\n",
    "        ticktext = [str(i) if i > 0 else \"Input\" for i in np.arange(n_layers + 1)],\n",
    "        zeroline=False, \n",
    "        showgrid=False\n",
    "    ),\n",
    "    xaxis_title=\"Features\",\n",
    "    yaxis_title=\"Layers\",\n",
    "    showlegend=False\n",
    ")\n",
    "\n",
    "fig.write_image(os.path.join(ASSETS_DIR, f\"{dataset}_attention_graph.svg\"), scale=IMG_SCALE)\n",
    "print(\"Done!\")"
   ]
  },
  {
   "cell_type": "markdown",
   "id": "46fedfd8",
   "metadata": {},
   "source": [
    "## Feature selection"
   ]
  },
  {
   "cell_type": "markdown",
   "id": "737b9e89",
   "metadata": {},
   "source": [
    "### Cases of study - Clustering mode"
   ]
  },
  {
   "cell_type": "code",
   "execution_count": 183,
   "id": "61e07ff5-a473-4966-a3b5-fe74684b3a48",
   "metadata": {},
   "outputs": [],
   "source": [
    "fs_name_mapping = {\n",
    "    \"attention\": \"Attention\",\n",
    "    \"linear_model\": \"Linear model\",\n",
    "    \"decision_tree\": \"Decision tree\",\n",
    "    \"f_classif\": \"F test\",\n",
    "    \"random\": \"Random\"\n",
    "}"
   ]
  },
  {
   "cell_type": "code",
   "execution_count": 184,
   "id": "b3f1c15d",
   "metadata": {},
   "outputs": [
    {
     "data": {
      "text/html": [
       "<div>\n",
       "<style scoped>\n",
       "    .dataframe tbody tr th:only-of-type {\n",
       "        vertical-align: middle;\n",
       "    }\n",
       "\n",
       "    .dataframe tbody tr th {\n",
       "        vertical-align: top;\n",
       "    }\n",
       "\n",
       "    .dataframe thead th {\n",
       "        text-align: right;\n",
       "    }\n",
       "</style>\n",
       "<table border=\"1\" class=\"dataframe\">\n",
       "  <thead>\n",
       "    <tr style=\"text-align: right;\">\n",
       "      <th></th>\n",
       "      <th>dataset</th>\n",
       "      <th>cluster</th>\n",
       "    </tr>\n",
       "  </thead>\n",
       "  <tbody>\n",
       "    <tr>\n",
       "      <th>0</th>\n",
       "      <td>adult</td>\n",
       "      <td>C0</td>\n",
       "    </tr>\n",
       "    <tr>\n",
       "      <th>18</th>\n",
       "      <td>adult</td>\n",
       "      <td>C1</td>\n",
       "    </tr>\n",
       "    <tr>\n",
       "      <th>36</th>\n",
       "      <td>adult</td>\n",
       "      <td>C2</td>\n",
       "    </tr>\n",
       "    <tr>\n",
       "      <th>54</th>\n",
       "      <td>adult</td>\n",
       "      <td>C3</td>\n",
       "    </tr>\n",
       "    <tr>\n",
       "      <th>72</th>\n",
       "      <td>anneal</td>\n",
       "      <td>C0</td>\n",
       "    </tr>\n",
       "    <tr>\n",
       "      <th>90</th>\n",
       "      <td>anneal</td>\n",
       "      <td>C1</td>\n",
       "    </tr>\n",
       "    <tr>\n",
       "      <th>108</th>\n",
       "      <td>anneal</td>\n",
       "      <td>C2</td>\n",
       "    </tr>\n",
       "    <tr>\n",
       "      <th>126</th>\n",
       "      <td>anneal</td>\n",
       "      <td>C3</td>\n",
       "    </tr>\n",
       "    <tr>\n",
       "      <th>144</th>\n",
       "      <td>australian</td>\n",
       "      <td>C0</td>\n",
       "    </tr>\n",
       "    <tr>\n",
       "      <th>162</th>\n",
       "      <td>australian</td>\n",
       "      <td>C1</td>\n",
       "    </tr>\n",
       "    <tr>\n",
       "      <th>180</th>\n",
       "      <td>australian</td>\n",
       "      <td>C2</td>\n",
       "    </tr>\n",
       "    <tr>\n",
       "      <th>198</th>\n",
       "      <td>australian</td>\n",
       "      <td>C3</td>\n",
       "    </tr>\n",
       "    <tr>\n",
       "      <th>216</th>\n",
       "      <td>jasmine</td>\n",
       "      <td>C0</td>\n",
       "    </tr>\n",
       "    <tr>\n",
       "      <th>234</th>\n",
       "      <td>jasmine</td>\n",
       "      <td>C1</td>\n",
       "    </tr>\n",
       "    <tr>\n",
       "      <th>252</th>\n",
       "      <td>jasmine</td>\n",
       "      <td>C2</td>\n",
       "    </tr>\n",
       "    <tr>\n",
       "      <th>270</th>\n",
       "      <td>jasmine</td>\n",
       "      <td>C3</td>\n",
       "    </tr>\n",
       "    <tr>\n",
       "      <th>288</th>\n",
       "      <td>kr-vs-kp</td>\n",
       "      <td>C0</td>\n",
       "    </tr>\n",
       "    <tr>\n",
       "      <th>306</th>\n",
       "      <td>sylvine</td>\n",
       "      <td>C0</td>\n",
       "    </tr>\n",
       "    <tr>\n",
       "      <th>324</th>\n",
       "      <td>sylvine</td>\n",
       "      <td>C1</td>\n",
       "    </tr>\n",
       "    <tr>\n",
       "      <th>342</th>\n",
       "      <td>sylvine</td>\n",
       "      <td>C2</td>\n",
       "    </tr>\n",
       "    <tr>\n",
       "      <th>360</th>\n",
       "      <td>sylvine</td>\n",
       "      <td>C3</td>\n",
       "    </tr>\n",
       "    <tr>\n",
       "      <th>378</th>\n",
       "      <td>volkert</td>\n",
       "      <td>C0</td>\n",
       "    </tr>\n",
       "    <tr>\n",
       "      <th>396</th>\n",
       "      <td>volkert</td>\n",
       "      <td>C1</td>\n",
       "    </tr>\n",
       "    <tr>\n",
       "      <th>414</th>\n",
       "      <td>volkert</td>\n",
       "      <td>C2</td>\n",
       "    </tr>\n",
       "    <tr>\n",
       "      <th>432</th>\n",
       "      <td>volkert</td>\n",
       "      <td>C3</td>\n",
       "    </tr>\n",
       "  </tbody>\n",
       "</table>\n",
       "</div>"
      ],
      "text/plain": [
       "        dataset cluster\n",
       "0         adult      C0\n",
       "18        adult      C1\n",
       "36        adult      C2\n",
       "54        adult      C3\n",
       "72       anneal      C0\n",
       "90       anneal      C1\n",
       "108      anneal      C2\n",
       "126      anneal      C3\n",
       "144  australian      C0\n",
       "162  australian      C1\n",
       "180  australian      C2\n",
       "198  australian      C3\n",
       "216     jasmine      C0\n",
       "234     jasmine      C1\n",
       "252     jasmine      C2\n",
       "270     jasmine      C3\n",
       "288    kr-vs-kp      C0\n",
       "306     sylvine      C0\n",
       "324     sylvine      C1\n",
       "342     sylvine      C2\n",
       "360     sylvine      C3\n",
       "378     volkert      C0\n",
       "396     volkert      C1\n",
       "414     volkert      C2\n",
       "432     volkert      C3"
      ]
     },
     "execution_count": 184,
     "metadata": {},
     "output_type": "execute_result"
    }
   ],
   "source": [
    "fs_scores_df = pd.read_csv(\"feature_selection_cluster_scores.csv\")\n",
    "fs_scores_df[[\"dataset\", \"cluster\"]].drop_duplicates()"
   ]
  },
  {
   "cell_type": "code",
   "execution_count": 185,
   "id": "e410e602",
   "metadata": {},
   "outputs": [],
   "source": [
    "# Unify random scores\n",
    "random_scores = fs_scores_df.query(\"selection_method.str.contains('random')\")\n",
    "\n",
    "random_scores = random_scores.drop([\"selection_method\"], axis=1)\n",
    "random_scores = random_scores.groupby(\n",
    "                    [\"dataset\", \"cluster\", \"model\", \"opt_metric\", \"features_percent\", \"n_features_selected\"], \n",
    "                    as_index=False).agg([\"mean\", \"std\"])\n",
    "\n",
    "random_scores.columns = [\"_\".join(col) if col[1] else col[0] for col in random_scores.columns] \n",
    "random_scores = random_scores[[\n",
    "                    \"dataset\", \"cluster\", \"model\", \"opt_metric\", \"features_percent\", \"n_features_selected\", \n",
    "                    \"balanced_accuracy_mean_mean\", \"balanced_accuracy_mean_std\",\n",
    "                    \"accuracy_mean_mean\", \"accuracy_mean_std\"\n",
    "                ]]\n",
    "\n",
    "random_scores.columns = [\n",
    "                    \"dataset\", \"cluster\", \"model\", \"opt_metric\", \"features_percent\", \"n_features_selected\",\n",
    "                    \"balanced_accuracy_mean\", \"balanced_accuracy_std\",\n",
    "                    \"accuracy_mean\", \"accuracy_std\"\n",
    "                ]\n",
    "random_scores[\"selection_method\"] = \"random\""
   ]
  },
  {
   "cell_type": "code",
   "execution_count": 186,
   "id": "0c340ccc",
   "metadata": {},
   "outputs": [],
   "source": [
    "# Set to original dataset\n",
    "fs_scores_df = pd.concat([\n",
    "        fs_scores_df.query(\"not selection_method.str.contains('random')\"),\n",
    "        random_scores\n",
    "])"
   ]
  },
  {
   "cell_type": "markdown",
   "id": "242ed58d",
   "metadata": {},
   "source": [
    "#### Executions per dataset"
   ]
  },
  {
   "cell_type": "code",
   "execution_count": 187,
   "id": "43f954ea-00cf-4f82-ab2c-783f33bd9694",
   "metadata": {},
   "outputs": [],
   "source": [
    "layout = go.Layout(\n",
    "    margin={\"l\": 80, \"r\": 0, \"b\": 0, \"t\": 0},    \n",
    "    template=\"plotly_white\",\n",
    "    font={\"size\": 22}\n",
    ")"
   ]
  },
  {
   "cell_type": "code",
   "execution_count": 188,
   "id": "4280e872",
   "metadata": {},
   "outputs": [
    {
     "data": {
      "application/vnd.plotly.v1+json": {
       "config": {
        "plotlyServerURL": "https://plot.ly"
       },
       "data": [
        {
         "error_y": {
          "array": [
           0.0006744734806339,
           0.1426741139021994,
           0.1398837848848187,
           0.1020307535652618,
           0.1068766133481727,
           0.0140547048164596,
           0.0265374884371932
          ],
          "color": "rgba(0, 0, 0, 0.7)",
          "type": "data"
         },
         "marker": {
          "color": "rgba(99, 110, 250, 0.8)"
         },
         "name": "Attention",
         "type": "bar",
         "x": [
          "adult",
          "anneal",
          "australian",
          "jasmine",
          "kr-vs-kp",
          "sylvine",
          "volkert"
         ],
         "y": [
          0.5003968253968254,
          0.9104166666666668,
          0.6131818181818182,
          0.510897435897436,
          0.619905681058389,
          0.9288392050587172,
          0.4593271297696806
         ]
        },
        {
         "error_y": {
          "array": [
           0.0095894175690819,
           0.1405456737852612,
           0.1560224547383121,
           0.0520508610146754,
           0,
           0.0140547048164596,
           0.0355590561490599
          ],
          "color": "rgba(0, 0, 0, 0.7)",
          "type": "data"
         },
         "marker": {
          "color": "rgba(239, 85, 59, 0.8)"
         },
         "name": "Decision tree",
         "type": "bar",
         "x": [
          "adult",
          "anneal",
          "australian",
          "jasmine",
          "kr-vs-kp",
          "sylvine",
          "volkert"
         ],
         "y": [
          0.5078819670850032,
          0.9333333333333332,
          0.5737878787878788,
          0.4846153846153845,
          0.5,
          0.9288392050587172,
          0.5401502523480894
         ]
        },
        {
         "error_y": {
          "array": [
           0.0095894175690819,
           0.1405456737852612,
           0.1560224547383121,
           0.1124005757848866,
           0,
           0.0130737989864552,
           0.011421646933858
          ],
          "color": "rgba(0, 0, 0, 0.7)",
          "type": "data"
         },
         "marker": {
          "color": "rgba(0, 204, 150, 0.8)"
         },
         "name": "F test",
         "type": "bar",
         "x": [
          "adult",
          "anneal",
          "australian",
          "jasmine",
          "kr-vs-kp",
          "sylvine",
          "volkert"
         ],
         "y": [
          0.5078819670850032,
          0.9333333333333332,
          0.5737878787878788,
          0.5464743589743589,
          0.5,
          0.9143341076267906,
          0.2984965277263788
         ]
        },
        {
         "error_y": {
          "array": [
           0.007562345958321,
           0.1660482353441474,
           0.1560224547383121,
           0.0872157468167557,
           0,
           0.0201386585441844,
           0.020311145341061
          ],
          "color": "rgba(0, 0, 0, 0.7)",
          "type": "data"
         },
         "marker": {
          "color": "rgba(171, 99, 250, 0.8)"
         },
         "name": "Linear model",
         "type": "bar",
         "x": [
          "adult",
          "anneal",
          "australian",
          "jasmine",
          "kr-vs-kp",
          "sylvine",
          "volkert"
         ],
         "y": [
          0.5134851034281774,
          0.9222222222222222,
          0.5737878787878788,
          0.510576923076923,
          0.5,
          0.9330569535854089,
          0.3476348861454107
         ]
        },
        {
         "error_y": {
          "array": [
           0.0028020361304408902,
           0.21291910636525593,
           0.06240117786777574,
           0.04102902129503781,
           0.010593009697598903,
           0.17665177258821987,
           0.0356501801676207
          ],
          "color": "rgba(0, 0, 0, 0.7)",
          "type": "data"
         },
         "marker": {
          "color": "rgba(255, 161, 90, 0.8)"
         },
         "name": "Random",
         "type": "bar",
         "x": [
          "adult",
          "anneal",
          "australian",
          "jasmine",
          "kr-vs-kp",
          "sylvine",
          "volkert"
         ],
         "y": [
          0.5038067536226929,
          0.6015873015873016,
          0.554969696969697,
          0.5169230769230768,
          0.505982396720485,
          0.6213218909966878,
          0.3533273306044912
         ]
        }
       ],
       "layout": {
        "autosize": true,
        "font": {
         "size": 22
        },
        "margin": {
         "b": 0,
         "l": 80,
         "r": 0,
         "t": 0
        },
        "shapes": [
         {
          "line": {
           "color": "rgba(254, 203, 82, 0.8)",
           "dash": "dot",
           "width": 2.5
          },
          "name": "No feature selection",
          "showlegend": true,
          "type": "line",
          "x0": -0.45,
          "x1": 0.45,
          "xref": "x",
          "y0": 0.6549648252209922,
          "y1": 0.6549648252209922,
          "yref": "y"
         },
         {
          "line": {
           "color": "rgba(254, 203, 82, 0.8)",
           "dash": "dot",
           "width": 2.5
          },
          "name": "No feature selection",
          "showlegend": false,
          "type": "line",
          "x0": 0.55,
          "x1": 1.45,
          "xref": "x",
          "y0": 0.9333333333333332,
          "y1": 0.9333333333333332,
          "yref": "y"
         },
         {
          "line": {
           "color": "rgba(254, 203, 82, 0.8)",
           "dash": "dot",
           "width": 2.5
          },
          "name": "No feature selection",
          "showlegend": false,
          "type": "line",
          "x0": 1.55,
          "x1": 2.45,
          "xref": "x",
          "y0": 0.7387878787878788,
          "y1": 0.7387878787878788,
          "yref": "y"
         },
         {
          "line": {
           "color": "rgba(254, 203, 82, 0.8)",
           "dash": "dot",
           "width": 2.5
          },
          "name": "No feature selection",
          "showlegend": false,
          "type": "line",
          "x0": 2.55,
          "x1": 3.45,
          "xref": "x",
          "y0": 0.5214743589743589,
          "y1": 0.5214743589743589,
          "yref": "y"
         },
         {
          "line": {
           "color": "rgba(254, 203, 82, 0.8)",
           "dash": "dot",
           "width": 2.5
          },
          "name": "No feature selection",
          "showlegend": false,
          "type": "line",
          "x0": 3.55,
          "x1": 4.45,
          "xref": "x",
          "y0": 0.86805256869773,
          "y1": 0.86805256869773,
          "yref": "y"
         },
         {
          "line": {
           "color": "rgba(254, 203, 82, 0.8)",
           "dash": "dot",
           "width": 2.5
          },
          "name": "No feature selection",
          "showlegend": false,
          "type": "line",
          "x0": 4.55,
          "x1": 5.45,
          "xref": "x",
          "y0": 0.8344280982492365,
          "y1": 0.8344280982492365,
          "yref": "y"
         },
         {
          "line": {
           "color": "rgba(254, 203, 82, 0.8)",
           "dash": "dot",
           "width": 2.5
          },
          "name": "No feature selection",
          "showlegend": false,
          "type": "line",
          "x0": 5.55,
          "x1": 6.45,
          "xref": "x",
          "y0": 0.5563542037140665,
          "y1": 0.5563542037140665,
          "yref": "y"
         }
        ],
        "template": {
         "data": {
          "bar": [
           {
            "error_x": {
             "color": "#2a3f5f"
            },
            "error_y": {
             "color": "#2a3f5f"
            },
            "marker": {
             "line": {
              "color": "white",
              "width": 0.5
             },
             "pattern": {
              "fillmode": "overlay",
              "size": 10,
              "solidity": 0.2
             }
            },
            "type": "bar"
           }
          ],
          "barpolar": [
           {
            "marker": {
             "line": {
              "color": "white",
              "width": 0.5
             },
             "pattern": {
              "fillmode": "overlay",
              "size": 10,
              "solidity": 0.2
             }
            },
            "type": "barpolar"
           }
          ],
          "carpet": [
           {
            "aaxis": {
             "endlinecolor": "#2a3f5f",
             "gridcolor": "#C8D4E3",
             "linecolor": "#C8D4E3",
             "minorgridcolor": "#C8D4E3",
             "startlinecolor": "#2a3f5f"
            },
            "baxis": {
             "endlinecolor": "#2a3f5f",
             "gridcolor": "#C8D4E3",
             "linecolor": "#C8D4E3",
             "minorgridcolor": "#C8D4E3",
             "startlinecolor": "#2a3f5f"
            },
            "type": "carpet"
           }
          ],
          "choropleth": [
           {
            "colorbar": {
             "outlinewidth": 0,
             "ticks": ""
            },
            "type": "choropleth"
           }
          ],
          "contour": [
           {
            "colorbar": {
             "outlinewidth": 0,
             "ticks": ""
            },
            "colorscale": [
             [
              0,
              "#0d0887"
             ],
             [
              0.1111111111111111,
              "#46039f"
             ],
             [
              0.2222222222222222,
              "#7201a8"
             ],
             [
              0.3333333333333333,
              "#9c179e"
             ],
             [
              0.4444444444444444,
              "#bd3786"
             ],
             [
              0.5555555555555556,
              "#d8576b"
             ],
             [
              0.6666666666666666,
              "#ed7953"
             ],
             [
              0.7777777777777778,
              "#fb9f3a"
             ],
             [
              0.8888888888888888,
              "#fdca26"
             ],
             [
              1,
              "#f0f921"
             ]
            ],
            "type": "contour"
           }
          ],
          "contourcarpet": [
           {
            "colorbar": {
             "outlinewidth": 0,
             "ticks": ""
            },
            "type": "contourcarpet"
           }
          ],
          "heatmap": [
           {
            "colorbar": {
             "outlinewidth": 0,
             "ticks": ""
            },
            "colorscale": [
             [
              0,
              "#0d0887"
             ],
             [
              0.1111111111111111,
              "#46039f"
             ],
             [
              0.2222222222222222,
              "#7201a8"
             ],
             [
              0.3333333333333333,
              "#9c179e"
             ],
             [
              0.4444444444444444,
              "#bd3786"
             ],
             [
              0.5555555555555556,
              "#d8576b"
             ],
             [
              0.6666666666666666,
              "#ed7953"
             ],
             [
              0.7777777777777778,
              "#fb9f3a"
             ],
             [
              0.8888888888888888,
              "#fdca26"
             ],
             [
              1,
              "#f0f921"
             ]
            ],
            "type": "heatmap"
           }
          ],
          "heatmapgl": [
           {
            "colorbar": {
             "outlinewidth": 0,
             "ticks": ""
            },
            "colorscale": [
             [
              0,
              "#0d0887"
             ],
             [
              0.1111111111111111,
              "#46039f"
             ],
             [
              0.2222222222222222,
              "#7201a8"
             ],
             [
              0.3333333333333333,
              "#9c179e"
             ],
             [
              0.4444444444444444,
              "#bd3786"
             ],
             [
              0.5555555555555556,
              "#d8576b"
             ],
             [
              0.6666666666666666,
              "#ed7953"
             ],
             [
              0.7777777777777778,
              "#fb9f3a"
             ],
             [
              0.8888888888888888,
              "#fdca26"
             ],
             [
              1,
              "#f0f921"
             ]
            ],
            "type": "heatmapgl"
           }
          ],
          "histogram": [
           {
            "marker": {
             "pattern": {
              "fillmode": "overlay",
              "size": 10,
              "solidity": 0.2
             }
            },
            "type": "histogram"
           }
          ],
          "histogram2d": [
           {
            "colorbar": {
             "outlinewidth": 0,
             "ticks": ""
            },
            "colorscale": [
             [
              0,
              "#0d0887"
             ],
             [
              0.1111111111111111,
              "#46039f"
             ],
             [
              0.2222222222222222,
              "#7201a8"
             ],
             [
              0.3333333333333333,
              "#9c179e"
             ],
             [
              0.4444444444444444,
              "#bd3786"
             ],
             [
              0.5555555555555556,
              "#d8576b"
             ],
             [
              0.6666666666666666,
              "#ed7953"
             ],
             [
              0.7777777777777778,
              "#fb9f3a"
             ],
             [
              0.8888888888888888,
              "#fdca26"
             ],
             [
              1,
              "#f0f921"
             ]
            ],
            "type": "histogram2d"
           }
          ],
          "histogram2dcontour": [
           {
            "colorbar": {
             "outlinewidth": 0,
             "ticks": ""
            },
            "colorscale": [
             [
              0,
              "#0d0887"
             ],
             [
              0.1111111111111111,
              "#46039f"
             ],
             [
              0.2222222222222222,
              "#7201a8"
             ],
             [
              0.3333333333333333,
              "#9c179e"
             ],
             [
              0.4444444444444444,
              "#bd3786"
             ],
             [
              0.5555555555555556,
              "#d8576b"
             ],
             [
              0.6666666666666666,
              "#ed7953"
             ],
             [
              0.7777777777777778,
              "#fb9f3a"
             ],
             [
              0.8888888888888888,
              "#fdca26"
             ],
             [
              1,
              "#f0f921"
             ]
            ],
            "type": "histogram2dcontour"
           }
          ],
          "mesh3d": [
           {
            "colorbar": {
             "outlinewidth": 0,
             "ticks": ""
            },
            "type": "mesh3d"
           }
          ],
          "parcoords": [
           {
            "line": {
             "colorbar": {
              "outlinewidth": 0,
              "ticks": ""
             }
            },
            "type": "parcoords"
           }
          ],
          "pie": [
           {
            "automargin": true,
            "type": "pie"
           }
          ],
          "scatter": [
           {
            "fillpattern": {
             "fillmode": "overlay",
             "size": 10,
             "solidity": 0.2
            },
            "type": "scatter"
           }
          ],
          "scatter3d": [
           {
            "line": {
             "colorbar": {
              "outlinewidth": 0,
              "ticks": ""
             }
            },
            "marker": {
             "colorbar": {
              "outlinewidth": 0,
              "ticks": ""
             }
            },
            "type": "scatter3d"
           }
          ],
          "scattercarpet": [
           {
            "marker": {
             "colorbar": {
              "outlinewidth": 0,
              "ticks": ""
             }
            },
            "type": "scattercarpet"
           }
          ],
          "scattergeo": [
           {
            "marker": {
             "colorbar": {
              "outlinewidth": 0,
              "ticks": ""
             }
            },
            "type": "scattergeo"
           }
          ],
          "scattergl": [
           {
            "marker": {
             "colorbar": {
              "outlinewidth": 0,
              "ticks": ""
             }
            },
            "type": "scattergl"
           }
          ],
          "scattermapbox": [
           {
            "marker": {
             "colorbar": {
              "outlinewidth": 0,
              "ticks": ""
             }
            },
            "type": "scattermapbox"
           }
          ],
          "scatterpolar": [
           {
            "marker": {
             "colorbar": {
              "outlinewidth": 0,
              "ticks": ""
             }
            },
            "type": "scatterpolar"
           }
          ],
          "scatterpolargl": [
           {
            "marker": {
             "colorbar": {
              "outlinewidth": 0,
              "ticks": ""
             }
            },
            "type": "scatterpolargl"
           }
          ],
          "scatterternary": [
           {
            "marker": {
             "colorbar": {
              "outlinewidth": 0,
              "ticks": ""
             }
            },
            "type": "scatterternary"
           }
          ],
          "surface": [
           {
            "colorbar": {
             "outlinewidth": 0,
             "ticks": ""
            },
            "colorscale": [
             [
              0,
              "#0d0887"
             ],
             [
              0.1111111111111111,
              "#46039f"
             ],
             [
              0.2222222222222222,
              "#7201a8"
             ],
             [
              0.3333333333333333,
              "#9c179e"
             ],
             [
              0.4444444444444444,
              "#bd3786"
             ],
             [
              0.5555555555555556,
              "#d8576b"
             ],
             [
              0.6666666666666666,
              "#ed7953"
             ],
             [
              0.7777777777777778,
              "#fb9f3a"
             ],
             [
              0.8888888888888888,
              "#fdca26"
             ],
             [
              1,
              "#f0f921"
             ]
            ],
            "type": "surface"
           }
          ],
          "table": [
           {
            "cells": {
             "fill": {
              "color": "#EBF0F8"
             },
             "line": {
              "color": "white"
             }
            },
            "header": {
             "fill": {
              "color": "#C8D4E3"
             },
             "line": {
              "color": "white"
             }
            },
            "type": "table"
           }
          ]
         },
         "layout": {
          "annotationdefaults": {
           "arrowcolor": "#2a3f5f",
           "arrowhead": 0,
           "arrowwidth": 1
          },
          "autotypenumbers": "strict",
          "coloraxis": {
           "colorbar": {
            "outlinewidth": 0,
            "ticks": ""
           }
          },
          "colorscale": {
           "diverging": [
            [
             0,
             "#8e0152"
            ],
            [
             0.1,
             "#c51b7d"
            ],
            [
             0.2,
             "#de77ae"
            ],
            [
             0.3,
             "#f1b6da"
            ],
            [
             0.4,
             "#fde0ef"
            ],
            [
             0.5,
             "#f7f7f7"
            ],
            [
             0.6,
             "#e6f5d0"
            ],
            [
             0.7,
             "#b8e186"
            ],
            [
             0.8,
             "#7fbc41"
            ],
            [
             0.9,
             "#4d9221"
            ],
            [
             1,
             "#276419"
            ]
           ],
           "sequential": [
            [
             0,
             "#0d0887"
            ],
            [
             0.1111111111111111,
             "#46039f"
            ],
            [
             0.2222222222222222,
             "#7201a8"
            ],
            [
             0.3333333333333333,
             "#9c179e"
            ],
            [
             0.4444444444444444,
             "#bd3786"
            ],
            [
             0.5555555555555556,
             "#d8576b"
            ],
            [
             0.6666666666666666,
             "#ed7953"
            ],
            [
             0.7777777777777778,
             "#fb9f3a"
            ],
            [
             0.8888888888888888,
             "#fdca26"
            ],
            [
             1,
             "#f0f921"
            ]
           ],
           "sequentialminus": [
            [
             0,
             "#0d0887"
            ],
            [
             0.1111111111111111,
             "#46039f"
            ],
            [
             0.2222222222222222,
             "#7201a8"
            ],
            [
             0.3333333333333333,
             "#9c179e"
            ],
            [
             0.4444444444444444,
             "#bd3786"
            ],
            [
             0.5555555555555556,
             "#d8576b"
            ],
            [
             0.6666666666666666,
             "#ed7953"
            ],
            [
             0.7777777777777778,
             "#fb9f3a"
            ],
            [
             0.8888888888888888,
             "#fdca26"
            ],
            [
             1,
             "#f0f921"
            ]
           ]
          },
          "colorway": [
           "#636efa",
           "#EF553B",
           "#00cc96",
           "#ab63fa",
           "#FFA15A",
           "#19d3f3",
           "#FF6692",
           "#B6E880",
           "#FF97FF",
           "#FECB52"
          ],
          "font": {
           "color": "#2a3f5f"
          },
          "geo": {
           "bgcolor": "white",
           "lakecolor": "white",
           "landcolor": "white",
           "showlakes": true,
           "showland": true,
           "subunitcolor": "#C8D4E3"
          },
          "hoverlabel": {
           "align": "left"
          },
          "hovermode": "closest",
          "mapbox": {
           "style": "light"
          },
          "paper_bgcolor": "white",
          "plot_bgcolor": "white",
          "polar": {
           "angularaxis": {
            "gridcolor": "#EBF0F8",
            "linecolor": "#EBF0F8",
            "ticks": ""
           },
           "bgcolor": "white",
           "radialaxis": {
            "gridcolor": "#EBF0F8",
            "linecolor": "#EBF0F8",
            "ticks": ""
           }
          },
          "scene": {
           "xaxis": {
            "backgroundcolor": "white",
            "gridcolor": "#DFE8F3",
            "gridwidth": 2,
            "linecolor": "#EBF0F8",
            "showbackground": true,
            "ticks": "",
            "zerolinecolor": "#EBF0F8"
           },
           "yaxis": {
            "backgroundcolor": "white",
            "gridcolor": "#DFE8F3",
            "gridwidth": 2,
            "linecolor": "#EBF0F8",
            "showbackground": true,
            "ticks": "",
            "zerolinecolor": "#EBF0F8"
           },
           "zaxis": {
            "backgroundcolor": "white",
            "gridcolor": "#DFE8F3",
            "gridwidth": 2,
            "linecolor": "#EBF0F8",
            "showbackground": true,
            "ticks": "",
            "zerolinecolor": "#EBF0F8"
           }
          },
          "shapedefaults": {
           "line": {
            "color": "#2a3f5f"
           }
          },
          "ternary": {
           "aaxis": {
            "gridcolor": "#DFE8F3",
            "linecolor": "#A2B1C6",
            "ticks": ""
           },
           "baxis": {
            "gridcolor": "#DFE8F3",
            "linecolor": "#A2B1C6",
            "ticks": ""
           },
           "bgcolor": "white",
           "caxis": {
            "gridcolor": "#DFE8F3",
            "linecolor": "#A2B1C6",
            "ticks": ""
           }
          },
          "title": {
           "x": 0.05
          },
          "xaxis": {
           "automargin": true,
           "gridcolor": "#EBF0F8",
           "linecolor": "#EBF0F8",
           "ticks": "",
           "title": {
            "standoff": 15
           },
           "zerolinecolor": "#EBF0F8",
           "zerolinewidth": 2
          },
          "yaxis": {
           "automargin": true,
           "gridcolor": "#EBF0F8",
           "linecolor": "#EBF0F8",
           "ticks": "",
           "title": {
            "standoff": 15
           },
           "zerolinecolor": "#EBF0F8",
           "zerolinewidth": 2
          }
         }
        },
        "xaxis": {
         "autorange": true,
         "range": [
          -0.5,
          6.5
         ],
         "type": "category"
        },
        "yaxis": {
         "autorange": true,
         "range": [
          0,
          1.1455478500698626
         ],
         "title": {
          "text": "Balanced accuracy"
         },
         "type": "linear"
        }
       }
      },
      "image/png": "[encoded data removed]",
      "text/html": [
       "<div>                            <div id=\"aa0337a5-53c2-4674-9ce9-038a4d2a8c88\" class=\"plotly-graph-div\" style=\"height:525px; width:100%;\"></div>            <script type=\"text/javascript\">                require([\"plotly\"], function(Plotly) {                    window.PLOTLYENV=window.PLOTLYENV || {};                                    if (document.getElementById(\"aa0337a5-53c2-4674-9ce9-038a4d2a8c88\")) {                    Plotly.newPlot(                        \"aa0337a5-53c2-4674-9ce9-038a4d2a8c88\",                        [{\"error_y\":{\"array\":[0.0006744734806339,0.1426741139021994,0.1398837848848187,0.1020307535652618,0.1068766133481727,0.0140547048164596,0.0265374884371932],\"color\":\"rgba(0, 0, 0, 0.7)\",\"type\":\"data\"},\"marker\":{\"color\":\"rgba(99, 110, 250, 0.8)\"},\"name\":\"Attention\",\"x\":[\"adult\",\"anneal\",\"australian\",\"jasmine\",\"kr-vs-kp\",\"sylvine\",\"volkert\"],\"y\":[0.5003968253968254,0.9104166666666668,0.6131818181818182,0.510897435897436,0.619905681058389,0.9288392050587172,0.4593271297696806],\"type\":\"bar\"},{\"error_y\":{\"array\":[0.0095894175690819,0.1405456737852612,0.1560224547383121,0.0520508610146754,0.0,0.0140547048164596,0.0355590561490599],\"color\":\"rgba(0, 0, 0, 0.7)\",\"type\":\"data\"},\"marker\":{\"color\":\"rgba(239, 85, 59, 0.8)\"},\"name\":\"Decision tree\",\"x\":[\"adult\",\"anneal\",\"australian\",\"jasmine\",\"kr-vs-kp\",\"sylvine\",\"volkert\"],\"y\":[0.5078819670850032,0.9333333333333332,0.5737878787878788,0.4846153846153845,0.5,0.9288392050587172,0.5401502523480894],\"type\":\"bar\"},{\"error_y\":{\"array\":[0.0095894175690819,0.1405456737852612,0.1560224547383121,0.1124005757848866,0.0,0.0130737989864552,0.011421646933858],\"color\":\"rgba(0, 0, 0, 0.7)\",\"type\":\"data\"},\"marker\":{\"color\":\"rgba(0, 204, 150, 0.8)\"},\"name\":\"F test\",\"x\":[\"adult\",\"anneal\",\"australian\",\"jasmine\",\"kr-vs-kp\",\"sylvine\",\"volkert\"],\"y\":[0.5078819670850032,0.9333333333333332,0.5737878787878788,0.5464743589743589,0.5,0.9143341076267906,0.2984965277263788],\"type\":\"bar\"},{\"error_y\":{\"array\":[0.007562345958321,0.1660482353441474,0.1560224547383121,0.0872157468167557,0.0,0.0201386585441844,0.020311145341061],\"color\":\"rgba(0, 0, 0, 0.7)\",\"type\":\"data\"},\"marker\":{\"color\":\"rgba(171, 99, 250, 0.8)\"},\"name\":\"Linear model\",\"x\":[\"adult\",\"anneal\",\"australian\",\"jasmine\",\"kr-vs-kp\",\"sylvine\",\"volkert\"],\"y\":[0.5134851034281774,0.9222222222222222,0.5737878787878788,0.510576923076923,0.5,0.9330569535854089,0.3476348861454107],\"type\":\"bar\"},{\"error_y\":{\"array\":[0.0028020361304408902,0.21291910636525593,0.06240117786777574,0.04102902129503781,0.010593009697598903,0.17665177258821987,0.0356501801676207],\"color\":\"rgba(0, 0, 0, 0.7)\",\"type\":\"data\"},\"marker\":{\"color\":\"rgba(255, 161, 90, 0.8)\"},\"name\":\"Random\",\"x\":[\"adult\",\"anneal\",\"australian\",\"jasmine\",\"kr-vs-kp\",\"sylvine\",\"volkert\"],\"y\":[0.5038067536226929,0.6015873015873016,0.554969696969697,0.5169230769230768,0.505982396720485,0.6213218909966878,0.3533273306044912],\"type\":\"bar\"}],                        {\"font\":{\"size\":22},\"margin\":{\"b\":0,\"l\":80,\"r\":0,\"t\":0},\"template\":{\"data\":{\"barpolar\":[{\"marker\":{\"line\":{\"color\":\"white\",\"width\":0.5},\"pattern\":{\"fillmode\":\"overlay\",\"size\":10,\"solidity\":0.2}},\"type\":\"barpolar\"}],\"bar\":[{\"error_x\":{\"color\":\"#2a3f5f\"},\"error_y\":{\"color\":\"#2a3f5f\"},\"marker\":{\"line\":{\"color\":\"white\",\"width\":0.5},\"pattern\":{\"fillmode\":\"overlay\",\"size\":10,\"solidity\":0.2}},\"type\":\"bar\"}],\"carpet\":[{\"aaxis\":{\"endlinecolor\":\"#2a3f5f\",\"gridcolor\":\"#C8D4E3\",\"linecolor\":\"#C8D4E3\",\"minorgridcolor\":\"#C8D4E3\",\"startlinecolor\":\"#2a3f5f\"},\"baxis\":{\"endlinecolor\":\"#2a3f5f\",\"gridcolor\":\"#C8D4E3\",\"linecolor\":\"#C8D4E3\",\"minorgridcolor\":\"#C8D4E3\",\"startlinecolor\":\"#2a3f5f\"},\"type\":\"carpet\"}],\"choropleth\":[{\"colorbar\":{\"outlinewidth\":0,\"ticks\":\"\"},\"type\":\"choropleth\"}],\"contourcarpet\":[{\"colorbar\":{\"outlinewidth\":0,\"ticks\":\"\"},\"type\":\"contourcarpet\"}],\"contour\":[{\"colorbar\":{\"outlinewidth\":0,\"ticks\":\"\"},\"colorscale\":[[0.0,\"#0d0887\"],[0.1111111111111111,\"#46039f\"],[0.2222222222222222,\"#7201a8\"],[0.3333333333333333,\"#9c179e\"],[0.4444444444444444,\"#bd3786\"],[0.5555555555555556,\"#d8576b\"],[0.6666666666666666,\"#ed7953\"],[0.7777777777777778,\"#fb9f3a\"],[0.8888888888888888,\"#fdca26\"],[1.0,\"#f0f921\"]],\"type\":\"contour\"}],\"heatmapgl\":[{\"colorbar\":{\"outlinewidth\":0,\"ticks\":\"\"},\"colorscale\":[[0.0,\"#0d0887\"],[0.1111111111111111,\"#46039f\"],[0.2222222222222222,\"#7201a8\"],[0.3333333333333333,\"#9c179e\"],[0.4444444444444444,\"#bd3786\"],[0.5555555555555556,\"#d8576b\"],[0.6666666666666666,\"#ed7953\"],[0.7777777777777778,\"#fb9f3a\"],[0.8888888888888888,\"#fdca26\"],[1.0,\"#f0f921\"]],\"type\":\"heatmapgl\"}],\"heatmap\":[{\"colorbar\":{\"outlinewidth\":0,\"ticks\":\"\"},\"colorscale\":[[0.0,\"#0d0887\"],[0.1111111111111111,\"#46039f\"],[0.2222222222222222,\"#7201a8\"],[0.3333333333333333,\"#9c179e\"],[0.4444444444444444,\"#bd3786\"],[0.5555555555555556,\"#d8576b\"],[0.6666666666666666,\"#ed7953\"],[0.7777777777777778,\"#fb9f3a\"],[0.8888888888888888,\"#fdca26\"],[1.0,\"#f0f921\"]],\"type\":\"heatmap\"}],\"histogram2dcontour\":[{\"colorbar\":{\"outlinewidth\":0,\"ticks\":\"\"},\"colorscale\":[[0.0,\"#0d0887\"],[0.1111111111111111,\"#46039f\"],[0.2222222222222222,\"#7201a8\"],[0.3333333333333333,\"#9c179e\"],[0.4444444444444444,\"#bd3786\"],[0.5555555555555556,\"#d8576b\"],[0.6666666666666666,\"#ed7953\"],[0.7777777777777778,\"#fb9f3a\"],[0.8888888888888888,\"#fdca26\"],[1.0,\"#f0f921\"]],\"type\":\"histogram2dcontour\"}],\"histogram2d\":[{\"colorbar\":{\"outlinewidth\":0,\"ticks\":\"\"},\"colorscale\":[[0.0,\"#0d0887\"],[0.1111111111111111,\"#46039f\"],[0.2222222222222222,\"#7201a8\"],[0.3333333333333333,\"#9c179e\"],[0.4444444444444444,\"#bd3786\"],[0.5555555555555556,\"#d8576b\"],[0.6666666666666666,\"#ed7953\"],[0.7777777777777778,\"#fb9f3a\"],[0.8888888888888888,\"#fdca26\"],[1.0,\"#f0f921\"]],\"type\":\"histogram2d\"}],\"histogram\":[{\"marker\":{\"pattern\":{\"fillmode\":\"overlay\",\"size\":10,\"solidity\":0.2}},\"type\":\"histogram\"}],\"mesh3d\":[{\"colorbar\":{\"outlinewidth\":0,\"ticks\":\"\"},\"type\":\"mesh3d\"}],\"parcoords\":[{\"line\":{\"colorbar\":{\"outlinewidth\":0,\"ticks\":\"\"}},\"type\":\"parcoords\"}],\"pie\":[{\"automargin\":true,\"type\":\"pie\"}],\"scatter3d\":[{\"line\":{\"colorbar\":{\"outlinewidth\":0,\"ticks\":\"\"}},\"marker\":{\"colorbar\":{\"outlinewidth\":0,\"ticks\":\"\"}},\"type\":\"scatter3d\"}],\"scattercarpet\":[{\"marker\":{\"colorbar\":{\"outlinewidth\":0,\"ticks\":\"\"}},\"type\":\"scattercarpet\"}],\"scattergeo\":[{\"marker\":{\"colorbar\":{\"outlinewidth\":0,\"ticks\":\"\"}},\"type\":\"scattergeo\"}],\"scattergl\":[{\"marker\":{\"colorbar\":{\"outlinewidth\":0,\"ticks\":\"\"}},\"type\":\"scattergl\"}],\"scattermapbox\":[{\"marker\":{\"colorbar\":{\"outlinewidth\":0,\"ticks\":\"\"}},\"type\":\"scattermapbox\"}],\"scatterpolargl\":[{\"marker\":{\"colorbar\":{\"outlinewidth\":0,\"ticks\":\"\"}},\"type\":\"scatterpolargl\"}],\"scatterpolar\":[{\"marker\":{\"colorbar\":{\"outlinewidth\":0,\"ticks\":\"\"}},\"type\":\"scatterpolar\"}],\"scatter\":[{\"fillpattern\":{\"fillmode\":\"overlay\",\"size\":10,\"solidity\":0.2},\"type\":\"scatter\"}],\"scatterternary\":[{\"marker\":{\"colorbar\":{\"outlinewidth\":0,\"ticks\":\"\"}},\"type\":\"scatterternary\"}],\"surface\":[{\"colorbar\":{\"outlinewidth\":0,\"ticks\":\"\"},\"colorscale\":[[0.0,\"#0d0887\"],[0.1111111111111111,\"#46039f\"],[0.2222222222222222,\"#7201a8\"],[0.3333333333333333,\"#9c179e\"],[0.4444444444444444,\"#bd3786\"],[0.5555555555555556,\"#d8576b\"],[0.6666666666666666,\"#ed7953\"],[0.7777777777777778,\"#fb9f3a\"],[0.8888888888888888,\"#fdca26\"],[1.0,\"#f0f921\"]],\"type\":\"surface\"}],\"table\":[{\"cells\":{\"fill\":{\"color\":\"#EBF0F8\"},\"line\":{\"color\":\"white\"}},\"header\":{\"fill\":{\"color\":\"#C8D4E3\"},\"line\":{\"color\":\"white\"}},\"type\":\"table\"}]},\"layout\":{\"annotationdefaults\":{\"arrowcolor\":\"#2a3f5f\",\"arrowhead\":0,\"arrowwidth\":1},\"autotypenumbers\":\"strict\",\"coloraxis\":{\"colorbar\":{\"outlinewidth\":0,\"ticks\":\"\"}},\"colorscale\":{\"diverging\":[[0,\"#8e0152\"],[0.1,\"#c51b7d\"],[0.2,\"#de77ae\"],[0.3,\"#f1b6da\"],[0.4,\"#fde0ef\"],[0.5,\"#f7f7f7\"],[0.6,\"#e6f5d0\"],[0.7,\"#b8e186\"],[0.8,\"#7fbc41\"],[0.9,\"#4d9221\"],[1,\"#276419\"]],\"sequential\":[[0.0,\"#0d0887\"],[0.1111111111111111,\"#46039f\"],[0.2222222222222222,\"#7201a8\"],[0.3333333333333333,\"#9c179e\"],[0.4444444444444444,\"#bd3786\"],[0.5555555555555556,\"#d8576b\"],[0.6666666666666666,\"#ed7953\"],[0.7777777777777778,\"#fb9f3a\"],[0.8888888888888888,\"#fdca26\"],[1.0,\"#f0f921\"]],\"sequentialminus\":[[0.0,\"#0d0887\"],[0.1111111111111111,\"#46039f\"],[0.2222222222222222,\"#7201a8\"],[0.3333333333333333,\"#9c179e\"],[0.4444444444444444,\"#bd3786\"],[0.5555555555555556,\"#d8576b\"],[0.6666666666666666,\"#ed7953\"],[0.7777777777777778,\"#fb9f3a\"],[0.8888888888888888,\"#fdca26\"],[1.0,\"#f0f921\"]]},\"colorway\":[\"#636efa\",\"#EF553B\",\"#00cc96\",\"#ab63fa\",\"#FFA15A\",\"#19d3f3\",\"#FF6692\",\"#B6E880\",\"#FF97FF\",\"#FECB52\"],\"font\":{\"color\":\"#2a3f5f\"},\"geo\":{\"bgcolor\":\"white\",\"lakecolor\":\"white\",\"landcolor\":\"white\",\"showlakes\":true,\"showland\":true,\"subunitcolor\":\"#C8D4E3\"},\"hoverlabel\":{\"align\":\"left\"},\"hovermode\":\"closest\",\"mapbox\":{\"style\":\"light\"},\"paper_bgcolor\":\"white\",\"plot_bgcolor\":\"white\",\"polar\":{\"angularaxis\":{\"gridcolor\":\"#EBF0F8\",\"linecolor\":\"#EBF0F8\",\"ticks\":\"\"},\"bgcolor\":\"white\",\"radialaxis\":{\"gridcolor\":\"#EBF0F8\",\"linecolor\":\"#EBF0F8\",\"ticks\":\"\"}},\"scene\":{\"xaxis\":{\"backgroundcolor\":\"white\",\"gridcolor\":\"#DFE8F3\",\"gridwidth\":2,\"linecolor\":\"#EBF0F8\",\"showbackground\":true,\"ticks\":\"\",\"zerolinecolor\":\"#EBF0F8\"},\"yaxis\":{\"backgroundcolor\":\"white\",\"gridcolor\":\"#DFE8F3\",\"gridwidth\":2,\"linecolor\":\"#EBF0F8\",\"showbackground\":true,\"ticks\":\"\",\"zerolinecolor\":\"#EBF0F8\"},\"zaxis\":{\"backgroundcolor\":\"white\",\"gridcolor\":\"#DFE8F3\",\"gridwidth\":2,\"linecolor\":\"#EBF0F8\",\"showbackground\":true,\"ticks\":\"\",\"zerolinecolor\":\"#EBF0F8\"}},\"shapedefaults\":{\"line\":{\"color\":\"#2a3f5f\"}},\"ternary\":{\"aaxis\":{\"gridcolor\":\"#DFE8F3\",\"linecolor\":\"#A2B1C6\",\"ticks\":\"\"},\"baxis\":{\"gridcolor\":\"#DFE8F3\",\"linecolor\":\"#A2B1C6\",\"ticks\":\"\"},\"bgcolor\":\"white\",\"caxis\":{\"gridcolor\":\"#DFE8F3\",\"linecolor\":\"#A2B1C6\",\"ticks\":\"\"}},\"title\":{\"x\":0.05},\"xaxis\":{\"automargin\":true,\"gridcolor\":\"#EBF0F8\",\"linecolor\":\"#EBF0F8\",\"ticks\":\"\",\"title\":{\"standoff\":15},\"zerolinecolor\":\"#EBF0F8\",\"zerolinewidth\":2},\"yaxis\":{\"automargin\":true,\"gridcolor\":\"#EBF0F8\",\"linecolor\":\"#EBF0F8\",\"ticks\":\"\",\"title\":{\"standoff\":15},\"zerolinecolor\":\"#EBF0F8\",\"zerolinewidth\":2}}},\"shapes\":[{\"line\":{\"color\":\"rgba(254, 203, 82, 0.8)\",\"dash\":\"dot\",\"width\":2.5},\"name\":\"No feature selection\",\"showlegend\":true,\"type\":\"line\",\"x0\":-0.45,\"x1\":0.45,\"xref\":\"x\",\"y0\":0.6549648252209922,\"y1\":0.6549648252209922,\"yref\":\"y\"},{\"line\":{\"color\":\"rgba(254, 203, 82, 0.8)\",\"dash\":\"dot\",\"width\":2.5},\"name\":\"No feature selection\",\"showlegend\":false,\"type\":\"line\",\"x0\":0.55,\"x1\":1.45,\"xref\":\"x\",\"y0\":0.9333333333333332,\"y1\":0.9333333333333332,\"yref\":\"y\"},{\"line\":{\"color\":\"rgba(254, 203, 82, 0.8)\",\"dash\":\"dot\",\"width\":2.5},\"name\":\"No feature selection\",\"showlegend\":false,\"type\":\"line\",\"x0\":1.55,\"x1\":2.45,\"xref\":\"x\",\"y0\":0.7387878787878788,\"y1\":0.7387878787878788,\"yref\":\"y\"},{\"line\":{\"color\":\"rgba(254, 203, 82, 0.8)\",\"dash\":\"dot\",\"width\":2.5},\"name\":\"No feature selection\",\"showlegend\":false,\"type\":\"line\",\"x0\":2.55,\"x1\":3.45,\"xref\":\"x\",\"y0\":0.5214743589743589,\"y1\":0.5214743589743589,\"yref\":\"y\"},{\"line\":{\"color\":\"rgba(254, 203, 82, 0.8)\",\"dash\":\"dot\",\"width\":2.5},\"name\":\"No feature selection\",\"showlegend\":false,\"type\":\"line\",\"x0\":3.55,\"x1\":4.45,\"xref\":\"x\",\"y0\":0.86805256869773,\"y1\":0.86805256869773,\"yref\":\"y\"},{\"line\":{\"color\":\"rgba(254, 203, 82, 0.8)\",\"dash\":\"dot\",\"width\":2.5},\"name\":\"No feature selection\",\"showlegend\":false,\"type\":\"line\",\"x0\":4.55,\"x1\":5.45,\"xref\":\"x\",\"y0\":0.8344280982492365,\"y1\":0.8344280982492365,\"yref\":\"y\"},{\"line\":{\"color\":\"rgba(254, 203, 82, 0.8)\",\"dash\":\"dot\",\"width\":2.5},\"name\":\"No feature selection\",\"showlegend\":false,\"type\":\"line\",\"x0\":5.55,\"x1\":6.45,\"xref\":\"x\",\"y0\":0.5563542037140665,\"y1\":0.5563542037140665,\"yref\":\"y\"}],\"yaxis\":{\"title\":{\"text\":\"Balanced accuracy\"}}},                        {\"responsive\": true}                    ).then(function(){\n",
       "                            \n",
       "var gd = document.getElementById('aa0337a5-53c2-4674-9ce9-038a4d2a8c88');\n",
       "var x = new MutationObserver(function (mutations, observer) {{\n",
       "        var display = window.getComputedStyle(gd).display;\n",
       "        if (!display || display === 'none') {{\n",
       "            console.log([gd, 'removed!']);\n",
       "            Plotly.purge(gd);\n",
       "            observer.disconnect();\n",
       "        }}\n",
       "}});\n",
       "\n",
       "// Listen for the removal of the full notebook cells\n",
       "var notebookContainer = gd.closest('#notebook-container');\n",
       "if (notebookContainer) {{\n",
       "    x.observe(notebookContainer, {childList: true});\n",
       "}}\n",
       "\n",
       "// Listen for the clearing of the current output cell\n",
       "var outputEl = gd.closest('.output');\n",
       "if (outputEl) {{\n",
       "    x.observe(outputEl, {childList: true});\n",
       "}}\n",
       "\n",
       "                        })                };                });            </script>        </div>"
      ]
     },
     "metadata": {},
     "output_type": "display_data"
    }
   ],
   "source": [
    "cos_model = \"KNN\"\n",
    "cos_feat_percent = 0.1\n",
    "cos_cluster = \"C0\"\n",
    "\n",
    "cos_df = fs_scores_df.query(\n",
    "    \"opt_metric==@OPTIMIZATION_METRIC \"\n",
    "    \"and model==@cos_model \"\n",
    "    \"and features_percent==@cos_feat_percent \"\n",
    "    \"and cluster==@cos_cluster \"\n",
    ")\n",
    "\n",
    "cos_df = cos_df[[\n",
    "        \"dataset\",\n",
    "        \"cluster\",\n",
    "        \"selection_method\",\n",
    "        \"features_percent\",        \n",
    "        f\"{EVALUATION_METRIC}_mean\", \n",
    "        f\"{EVALUATION_METRIC}_std\", \n",
    "]].replace({\"selection_method\": fs_name_mapping})\n",
    "\n",
    "\n",
    "fig = go.Figure(layout=layout)\n",
    "\n",
    "\n",
    "for sel_method_i, sel_method in enumerate(cos_df[\"selection_method\"].unique()):\n",
    "    plot_data = cos_df.query(\"selection_method==@sel_method\")\n",
    "    fig.add_trace(go.Bar(\n",
    "        name=sel_method, \n",
    "        x=plot_data[\"dataset\"], \n",
    "        y=plot_data[f\"{EVALUATION_METRIC}_mean\"],\n",
    "        error_y=dict(\n",
    "                    type=\"data\", \n",
    "                    array=plot_data[f\"{EVALUATION_METRIC}_std\"],\n",
    "                    color=\"rgba(0, 0, 0, 0.7)\"\n",
    "                    ),\n",
    "        marker_color=COLORS[sel_method_i]\n",
    "    ))\n",
    "    \n",
    "    \n",
    "# Adding lines of non feature selection scores    \n",
    "cos_df = fs_scores_df.query(\n",
    "    \"opt_metric==@OPTIMIZATION_METRIC \"\n",
    "    \"and model==@cos_model \"\n",
    "    \"and features_percent==1 \"\n",
    "    \"and cluster==@cos_cluster \"\n",
    ")\n",
    "plot_data = cos_df.drop([\"selection_method\"], axis=1).drop_duplicates()\n",
    "\n",
    "for ds_i, ds in enumerate(cos_df[\"dataset\"].unique()):\n",
    "    nfs_metric = plot_data.query(\"dataset==@ds\")[f\"{EVALUATION_METRIC}_mean\"].values[0]\n",
    "    fig.add_shape(type=\"line\",\n",
    "                    x0=ds_i - 0.45,\n",
    "                    y0=nfs_metric,\n",
    "                    x1=ds_i + 0.45,\n",
    "                    y1=nfs_metric,\n",
    "                    line=dict(color=COLORS[-1], width=2.5, dash=\"dot\"),\n",
    "                    xref=\"x\",\n",
    "                    yref=\"y\",\n",
    "                    name=\"No feature selection\",\n",
    "                    showlegend=True if ds_i == 0 else False\n",
    "    )\n",
    "    \n",
    "fig.update_layout(\n",
    "    yaxis_title = \"Balanced accuracy\"\n",
    ")\n",
    "\n",
    "fig.show()\n",
    "fig.write_image(os.path.join(ASSETS_DIR, f\"results_cluster_{cos_model}_{cos_feat_percent}_{cos_cluster}.svg\"), scale=IMG_SCALE)"
   ]
  },
  {
   "cell_type": "code",
   "execution_count": 189,
   "id": "14fd2ac3-c1ea-478c-8e7c-e1e513e0eaac",
   "metadata": {},
   "outputs": [
    {
     "data": {
      "application/vnd.plotly.v1+json": {
       "config": {
        "plotlyServerURL": "https://plot.ly"
       },
       "data": [
        {
         "error_y": {
          "array": [
           0.1426741139021994,
           0.1405456737852612
          ],
          "color": "rgba(0, 0, 0, 0.7)",
          "type": "data"
         },
         "marker": {
          "color": "rgba(99, 110, 250, 0.8)"
         },
         "name": "Attention",
         "type": "bar",
         "x": [
          "KNN",
          "MLP"
         ],
         "y": [
          0.9104166666666668,
          0.9333333333333332
         ]
        },
        {
         "error_y": {
          "array": [
           0.1405456737852612,
           0.1405456737852612
          ],
          "color": "rgba(0, 0, 0, 0.7)",
          "type": "data"
         },
         "marker": {
          "color": "rgba(239, 85, 59, 0.8)"
         },
         "name": "Decision tree",
         "type": "bar",
         "x": [
          "KNN",
          "MLP"
         ],
         "y": [
          0.9333333333333332,
          0.9333333333333332
         ]
        },
        {
         "error_y": {
          "array": [
           0.1405456737852612,
           0.1405456737852612
          ],
          "color": "rgba(0, 0, 0, 0.7)",
          "type": "data"
         },
         "marker": {
          "color": "rgba(0, 204, 150, 0.8)"
         },
         "name": "F test",
         "type": "bar",
         "x": [
          "KNN",
          "MLP"
         ],
         "y": [
          0.9333333333333332,
          0.9333333333333332
         ]
        },
        {
         "error_y": {
          "array": [
           0.1660482353441474,
           0.1405456737852612
          ],
          "color": "rgba(0, 0, 0, 0.7)",
          "type": "data"
         },
         "marker": {
          "color": "rgba(171, 99, 250, 0.8)"
         },
         "name": "Linear model",
         "type": "bar",
         "x": [
          "KNN",
          "MLP"
         ],
         "y": [
          0.9222222222222222,
          0.9333333333333332
         ]
        },
        {
         "error_y": {
          "array": [
           0.21291910636525593,
           0.2263759334384087
          ],
          "color": "rgba(0, 0, 0, 0.7)",
          "type": "data"
         },
         "marker": {
          "color": "rgba(255, 161, 90, 0.8)"
         },
         "name": "Random",
         "type": "bar",
         "x": [
          "KNN",
          "MLP"
         ],
         "y": [
          0.6015873015873016,
          0.628968253968254
         ]
        }
       ],
       "layout": {
        "autosize": true,
        "font": {
         "size": 22
        },
        "margin": {
         "b": 0,
         "l": 80,
         "r": 0,
         "t": 0
        },
        "shapes": [
         {
          "line": {
           "color": "rgba(254, 203, 82, 0.8)",
           "dash": "dot",
           "width": 2.5
          },
          "name": "No feature selection",
          "showlegend": true,
          "type": "line",
          "x0": -0.45,
          "x1": 0.45,
          "xref": "x",
          "y0": 0.9333333333333332,
          "y1": 0.9333333333333332,
          "yref": "y"
         },
         {
          "line": {
           "color": "rgba(254, 203, 82, 0.8)",
           "dash": "dot",
           "width": 2.5
          },
          "name": "No feature selection",
          "showlegend": false,
          "type": "line",
          "x0": 0.55,
          "x1": 1.45,
          "xref": "x",
          "y0": 0.9333333333333332,
          "y1": 0.9333333333333332,
          "yref": "y"
         }
        ],
        "template": {
         "data": {
          "bar": [
           {
            "error_x": {
             "color": "#2a3f5f"
            },
            "error_y": {
             "color": "#2a3f5f"
            },
            "marker": {
             "line": {
              "color": "white",
              "width": 0.5
             },
             "pattern": {
              "fillmode": "overlay",
              "size": 10,
              "solidity": 0.2
             }
            },
            "type": "bar"
           }
          ],
          "barpolar": [
           {
            "marker": {
             "line": {
              "color": "white",
              "width": 0.5
             },
             "pattern": {
              "fillmode": "overlay",
              "size": 10,
              "solidity": 0.2
             }
            },
            "type": "barpolar"
           }
          ],
          "carpet": [
           {
            "aaxis": {
             "endlinecolor": "#2a3f5f",
             "gridcolor": "#C8D4E3",
             "linecolor": "#C8D4E3",
             "minorgridcolor": "#C8D4E3",
             "startlinecolor": "#2a3f5f"
            },
            "baxis": {
             "endlinecolor": "#2a3f5f",
             "gridcolor": "#C8D4E3",
             "linecolor": "#C8D4E3",
             "minorgridcolor": "#C8D4E3",
             "startlinecolor": "#2a3f5f"
            },
            "type": "carpet"
           }
          ],
          "choropleth": [
           {
            "colorbar": {
             "outlinewidth": 0,
             "ticks": ""
            },
            "type": "choropleth"
           }
          ],
          "contour": [
           {
            "colorbar": {
             "outlinewidth": 0,
             "ticks": ""
            },
            "colorscale": [
             [
              0,
              "#0d0887"
             ],
             [
              0.1111111111111111,
              "#46039f"
             ],
             [
              0.2222222222222222,
              "#7201a8"
             ],
             [
              0.3333333333333333,
              "#9c179e"
             ],
             [
              0.4444444444444444,
              "#bd3786"
             ],
             [
              0.5555555555555556,
              "#d8576b"
             ],
             [
              0.6666666666666666,
              "#ed7953"
             ],
             [
              0.7777777777777778,
              "#fb9f3a"
             ],
             [
              0.8888888888888888,
              "#fdca26"
             ],
             [
              1,
              "#f0f921"
             ]
            ],
            "type": "contour"
           }
          ],
          "contourcarpet": [
           {
            "colorbar": {
             "outlinewidth": 0,
             "ticks": ""
            },
            "type": "contourcarpet"
           }
          ],
          "heatmap": [
           {
            "colorbar": {
             "outlinewidth": 0,
             "ticks": ""
            },
            "colorscale": [
             [
              0,
              "#0d0887"
             ],
             [
              0.1111111111111111,
              "#46039f"
             ],
             [
              0.2222222222222222,
              "#7201a8"
             ],
             [
              0.3333333333333333,
              "#9c179e"
             ],
             [
              0.4444444444444444,
              "#bd3786"
             ],
             [
              0.5555555555555556,
              "#d8576b"
             ],
             [
              0.6666666666666666,
              "#ed7953"
             ],
             [
              0.7777777777777778,
              "#fb9f3a"
             ],
             [
              0.8888888888888888,
              "#fdca26"
             ],
             [
              1,
              "#f0f921"
             ]
            ],
            "type": "heatmap"
           }
          ],
          "heatmapgl": [
           {
            "colorbar": {
             "outlinewidth": 0,
             "ticks": ""
            },
            "colorscale": [
             [
              0,
              "#0d0887"
             ],
             [
              0.1111111111111111,
              "#46039f"
             ],
             [
              0.2222222222222222,
              "#7201a8"
             ],
             [
              0.3333333333333333,
              "#9c179e"
             ],
             [
              0.4444444444444444,
              "#bd3786"
             ],
             [
              0.5555555555555556,
              "#d8576b"
             ],
             [
              0.6666666666666666,
              "#ed7953"
             ],
             [
              0.7777777777777778,
              "#fb9f3a"
             ],
             [
              0.8888888888888888,
              "#fdca26"
             ],
             [
              1,
              "#f0f921"
             ]
            ],
            "type": "heatmapgl"
           }
          ],
          "histogram": [
           {
            "marker": {
             "pattern": {
              "fillmode": "overlay",
              "size": 10,
              "solidity": 0.2
             }
            },
            "type": "histogram"
           }
          ],
          "histogram2d": [
           {
            "colorbar": {
             "outlinewidth": 0,
             "ticks": ""
            },
            "colorscale": [
             [
              0,
              "#0d0887"
             ],
             [
              0.1111111111111111,
              "#46039f"
             ],
             [
              0.2222222222222222,
              "#7201a8"
             ],
             [
              0.3333333333333333,
              "#9c179e"
             ],
             [
              0.4444444444444444,
              "#bd3786"
             ],
             [
              0.5555555555555556,
              "#d8576b"
             ],
             [
              0.6666666666666666,
              "#ed7953"
             ],
             [
              0.7777777777777778,
              "#fb9f3a"
             ],
             [
              0.8888888888888888,
              "#fdca26"
             ],
             [
              1,
              "#f0f921"
             ]
            ],
            "type": "histogram2d"
           }
          ],
          "histogram2dcontour": [
           {
            "colorbar": {
             "outlinewidth": 0,
             "ticks": ""
            },
            "colorscale": [
             [
              0,
              "#0d0887"
             ],
             [
              0.1111111111111111,
              "#46039f"
             ],
             [
              0.2222222222222222,
              "#7201a8"
             ],
             [
              0.3333333333333333,
              "#9c179e"
             ],
             [
              0.4444444444444444,
              "#bd3786"
             ],
             [
              0.5555555555555556,
              "#d8576b"
             ],
             [
              0.6666666666666666,
              "#ed7953"
             ],
             [
              0.7777777777777778,
              "#fb9f3a"
             ],
             [
              0.8888888888888888,
              "#fdca26"
             ],
             [
              1,
              "#f0f921"
             ]
            ],
            "type": "histogram2dcontour"
           }
          ],
          "mesh3d": [
           {
            "colorbar": {
             "outlinewidth": 0,
             "ticks": ""
            },
            "type": "mesh3d"
           }
          ],
          "parcoords": [
           {
            "line": {
             "colorbar": {
              "outlinewidth": 0,
              "ticks": ""
             }
            },
            "type": "parcoords"
           }
          ],
          "pie": [
           {
            "automargin": true,
            "type": "pie"
           }
          ],
          "scatter": [
           {
            "fillpattern": {
             "fillmode": "overlay",
             "size": 10,
             "solidity": 0.2
            },
            "type": "scatter"
           }
          ],
          "scatter3d": [
           {
            "line": {
             "colorbar": {
              "outlinewidth": 0,
              "ticks": ""
             }
            },
            "marker": {
             "colorbar": {
              "outlinewidth": 0,
              "ticks": ""
             }
            },
            "type": "scatter3d"
           }
          ],
          "scattercarpet": [
           {
            "marker": {
             "colorbar": {
              "outlinewidth": 0,
              "ticks": ""
             }
            },
            "type": "scattercarpet"
           }
          ],
          "scattergeo": [
           {
            "marker": {
             "colorbar": {
              "outlinewidth": 0,
              "ticks": ""
             }
            },
            "type": "scattergeo"
           }
          ],
          "scattergl": [
           {
            "marker": {
             "colorbar": {
              "outlinewidth": 0,
              "ticks": ""
             }
            },
            "type": "scattergl"
           }
          ],
          "scattermapbox": [
           {
            "marker": {
             "colorbar": {
              "outlinewidth": 0,
              "ticks": ""
             }
            },
            "type": "scattermapbox"
           }
          ],
          "scatterpolar": [
           {
            "marker": {
             "colorbar": {
              "outlinewidth": 0,
              "ticks": ""
             }
            },
            "type": "scatterpolar"
           }
          ],
          "scatterpolargl": [
           {
            "marker": {
             "colorbar": {
              "outlinewidth": 0,
              "ticks": ""
             }
            },
            "type": "scatterpolargl"
           }
          ],
          "scatterternary": [
           {
            "marker": {
             "colorbar": {
              "outlinewidth": 0,
              "ticks": ""
             }
            },
            "type": "scatterternary"
           }
          ],
          "surface": [
           {
            "colorbar": {
             "outlinewidth": 0,
             "ticks": ""
            },
            "colorscale": [
             [
              0,
              "#0d0887"
             ],
             [
              0.1111111111111111,
              "#46039f"
             ],
             [
              0.2222222222222222,
              "#7201a8"
             ],
             [
              0.3333333333333333,
              "#9c179e"
             ],
             [
              0.4444444444444444,
              "#bd3786"
             ],
             [
              0.5555555555555556,
              "#d8576b"
             ],
             [
              0.6666666666666666,
              "#ed7953"
             ],
             [
              0.7777777777777778,
              "#fb9f3a"
             ],
             [
              0.8888888888888888,
              "#fdca26"
             ],
             [
              1,
              "#f0f921"
             ]
            ],
            "type": "surface"
           }
          ],
          "table": [
           {
            "cells": {
             "fill": {
              "color": "#EBF0F8"
             },
             "line": {
              "color": "white"
             }
            },
            "header": {
             "fill": {
              "color": "#C8D4E3"
             },
             "line": {
              "color": "white"
             }
            },
            "type": "table"
           }
          ]
         },
         "layout": {
          "annotationdefaults": {
           "arrowcolor": "#2a3f5f",
           "arrowhead": 0,
           "arrowwidth": 1
          },
          "autotypenumbers": "strict",
          "coloraxis": {
           "colorbar": {
            "outlinewidth": 0,
            "ticks": ""
           }
          },
          "colorscale": {
           "diverging": [
            [
             0,
             "#8e0152"
            ],
            [
             0.1,
             "#c51b7d"
            ],
            [
             0.2,
             "#de77ae"
            ],
            [
             0.3,
             "#f1b6da"
            ],
            [
             0.4,
             "#fde0ef"
            ],
            [
             0.5,
             "#f7f7f7"
            ],
            [
             0.6,
             "#e6f5d0"
            ],
            [
             0.7,
             "#b8e186"
            ],
            [
             0.8,
             "#7fbc41"
            ],
            [
             0.9,
             "#4d9221"
            ],
            [
             1,
             "#276419"
            ]
           ],
           "sequential": [
            [
             0,
             "#0d0887"
            ],
            [
             0.1111111111111111,
             "#46039f"
            ],
            [
             0.2222222222222222,
             "#7201a8"
            ],
            [
             0.3333333333333333,
             "#9c179e"
            ],
            [
             0.4444444444444444,
             "#bd3786"
            ],
            [
             0.5555555555555556,
             "#d8576b"
            ],
            [
             0.6666666666666666,
             "#ed7953"
            ],
            [
             0.7777777777777778,
             "#fb9f3a"
            ],
            [
             0.8888888888888888,
             "#fdca26"
            ],
            [
             1,
             "#f0f921"
            ]
           ],
           "sequentialminus": [
            [
             0,
             "#0d0887"
            ],
            [
             0.1111111111111111,
             "#46039f"
            ],
            [
             0.2222222222222222,
             "#7201a8"
            ],
            [
             0.3333333333333333,
             "#9c179e"
            ],
            [
             0.4444444444444444,
             "#bd3786"
            ],
            [
             0.5555555555555556,
             "#d8576b"
            ],
            [
             0.6666666666666666,
             "#ed7953"
            ],
            [
             0.7777777777777778,
             "#fb9f3a"
            ],
            [
             0.8888888888888888,
             "#fdca26"
            ],
            [
             1,
             "#f0f921"
            ]
           ]
          },
          "colorway": [
           "#636efa",
           "#EF553B",
           "#00cc96",
           "#ab63fa",
           "#FFA15A",
           "#19d3f3",
           "#FF6692",
           "#B6E880",
           "#FF97FF",
           "#FECB52"
          ],
          "font": {
           "color": "#2a3f5f"
          },
          "geo": {
           "bgcolor": "white",
           "lakecolor": "white",
           "landcolor": "white",
           "showlakes": true,
           "showland": true,
           "subunitcolor": "#C8D4E3"
          },
          "hoverlabel": {
           "align": "left"
          },
          "hovermode": "closest",
          "mapbox": {
           "style": "light"
          },
          "paper_bgcolor": "white",
          "plot_bgcolor": "white",
          "polar": {
           "angularaxis": {
            "gridcolor": "#EBF0F8",
            "linecolor": "#EBF0F8",
            "ticks": ""
           },
           "bgcolor": "white",
           "radialaxis": {
            "gridcolor": "#EBF0F8",
            "linecolor": "#EBF0F8",
            "ticks": ""
           }
          },
          "scene": {
           "xaxis": {
            "backgroundcolor": "white",
            "gridcolor": "#DFE8F3",
            "gridwidth": 2,
            "linecolor": "#EBF0F8",
            "showbackground": true,
            "ticks": "",
            "zerolinecolor": "#EBF0F8"
           },
           "yaxis": {
            "backgroundcolor": "white",
            "gridcolor": "#DFE8F3",
            "gridwidth": 2,
            "linecolor": "#EBF0F8",
            "showbackground": true,
            "ticks": "",
            "zerolinecolor": "#EBF0F8"
           },
           "zaxis": {
            "backgroundcolor": "white",
            "gridcolor": "#DFE8F3",
            "gridwidth": 2,
            "linecolor": "#EBF0F8",
            "showbackground": true,
            "ticks": "",
            "zerolinecolor": "#EBF0F8"
           }
          },
          "shapedefaults": {
           "line": {
            "color": "#2a3f5f"
           }
          },
          "ternary": {
           "aaxis": {
            "gridcolor": "#DFE8F3",
            "linecolor": "#A2B1C6",
            "ticks": ""
           },
           "baxis": {
            "gridcolor": "#DFE8F3",
            "linecolor": "#A2B1C6",
            "ticks": ""
           },
           "bgcolor": "white",
           "caxis": {
            "gridcolor": "#DFE8F3",
            "linecolor": "#A2B1C6",
            "ticks": ""
           }
          },
          "title": {
           "x": 0.05
          },
          "xaxis": {
           "automargin": true,
           "gridcolor": "#EBF0F8",
           "linecolor": "#EBF0F8",
           "ticks": "",
           "title": {
            "standoff": 15
           },
           "zerolinecolor": "#EBF0F8",
           "zerolinewidth": 2
          },
          "yaxis": {
           "automargin": true,
           "gridcolor": "#EBF0F8",
           "linecolor": "#EBF0F8",
           "ticks": "",
           "title": {
            "standoff": 15
           },
           "zerolinecolor": "#EBF0F8",
           "zerolinewidth": 2
          }
         }
        },
        "xaxis": {
         "autorange": true,
         "range": [
          -0.5,
          1.5
         ],
         "type": "category"
        },
        "yaxis": {
         "autorange": true,
         "range": [
          0,
          1.1455478500698626
         ],
         "title": {
          "text": "Balanced accuracy"
         },
         "type": "linear"
        }
       }
      },
      "image/png": "[encoded data removed]",
      "text/html": [
       "<div>                            <div id=\"5494a64e-8861-4d51-8faf-59810d18628d\" class=\"plotly-graph-div\" style=\"height:525px; width:100%;\"></div>            <script type=\"text/javascript\">                require([\"plotly\"], function(Plotly) {                    window.PLOTLYENV=window.PLOTLYENV || {};                                    if (document.getElementById(\"5494a64e-8861-4d51-8faf-59810d18628d\")) {                    Plotly.newPlot(                        \"5494a64e-8861-4d51-8faf-59810d18628d\",                        [{\"error_y\":{\"array\":[0.1426741139021994,0.1405456737852612],\"color\":\"rgba(0, 0, 0, 0.7)\",\"type\":\"data\"},\"marker\":{\"color\":\"rgba(99, 110, 250, 0.8)\"},\"name\":\"Attention\",\"x\":[\"KNN\",\"MLP\"],\"y\":[0.9104166666666668,0.9333333333333332],\"type\":\"bar\"},{\"error_y\":{\"array\":[0.1405456737852612,0.1405456737852612],\"color\":\"rgba(0, 0, 0, 0.7)\",\"type\":\"data\"},\"marker\":{\"color\":\"rgba(239, 85, 59, 0.8)\"},\"name\":\"Decision tree\",\"x\":[\"KNN\",\"MLP\"],\"y\":[0.9333333333333332,0.9333333333333332],\"type\":\"bar\"},{\"error_y\":{\"array\":[0.1405456737852612,0.1405456737852612],\"color\":\"rgba(0, 0, 0, 0.7)\",\"type\":\"data\"},\"marker\":{\"color\":\"rgba(0, 204, 150, 0.8)\"},\"name\":\"F test\",\"x\":[\"KNN\",\"MLP\"],\"y\":[0.9333333333333332,0.9333333333333332],\"type\":\"bar\"},{\"error_y\":{\"array\":[0.1660482353441474,0.1405456737852612],\"color\":\"rgba(0, 0, 0, 0.7)\",\"type\":\"data\"},\"marker\":{\"color\":\"rgba(171, 99, 250, 0.8)\"},\"name\":\"Linear model\",\"x\":[\"KNN\",\"MLP\"],\"y\":[0.9222222222222222,0.9333333333333332],\"type\":\"bar\"},{\"error_y\":{\"array\":[0.21291910636525593,0.2263759334384087],\"color\":\"rgba(0, 0, 0, 0.7)\",\"type\":\"data\"},\"marker\":{\"color\":\"rgba(255, 161, 90, 0.8)\"},\"name\":\"Random\",\"x\":[\"KNN\",\"MLP\"],\"y\":[0.6015873015873016,0.628968253968254],\"type\":\"bar\"}],                        {\"font\":{\"size\":22},\"margin\":{\"b\":0,\"l\":80,\"r\":0,\"t\":0},\"template\":{\"data\":{\"barpolar\":[{\"marker\":{\"line\":{\"color\":\"white\",\"width\":0.5},\"pattern\":{\"fillmode\":\"overlay\",\"size\":10,\"solidity\":0.2}},\"type\":\"barpolar\"}],\"bar\":[{\"error_x\":{\"color\":\"#2a3f5f\"},\"error_y\":{\"color\":\"#2a3f5f\"},\"marker\":{\"line\":{\"color\":\"white\",\"width\":0.5},\"pattern\":{\"fillmode\":\"overlay\",\"size\":10,\"solidity\":0.2}},\"type\":\"bar\"}],\"carpet\":[{\"aaxis\":{\"endlinecolor\":\"#2a3f5f\",\"gridcolor\":\"#C8D4E3\",\"linecolor\":\"#C8D4E3\",\"minorgridcolor\":\"#C8D4E3\",\"startlinecolor\":\"#2a3f5f\"},\"baxis\":{\"endlinecolor\":\"#2a3f5f\",\"gridcolor\":\"#C8D4E3\",\"linecolor\":\"#C8D4E3\",\"minorgridcolor\":\"#C8D4E3\",\"startlinecolor\":\"#2a3f5f\"},\"type\":\"carpet\"}],\"choropleth\":[{\"colorbar\":{\"outlinewidth\":0,\"ticks\":\"\"},\"type\":\"choropleth\"}],\"contourcarpet\":[{\"colorbar\":{\"outlinewidth\":0,\"ticks\":\"\"},\"type\":\"contourcarpet\"}],\"contour\":[{\"colorbar\":{\"outlinewidth\":0,\"ticks\":\"\"},\"colorscale\":[[0.0,\"#0d0887\"],[0.1111111111111111,\"#46039f\"],[0.2222222222222222,\"#7201a8\"],[0.3333333333333333,\"#9c179e\"],[0.4444444444444444,\"#bd3786\"],[0.5555555555555556,\"#d8576b\"],[0.6666666666666666,\"#ed7953\"],[0.7777777777777778,\"#fb9f3a\"],[0.8888888888888888,\"#fdca26\"],[1.0,\"#f0f921\"]],\"type\":\"contour\"}],\"heatmapgl\":[{\"colorbar\":{\"outlinewidth\":0,\"ticks\":\"\"},\"colorscale\":[[0.0,\"#0d0887\"],[0.1111111111111111,\"#46039f\"],[0.2222222222222222,\"#7201a8\"],[0.3333333333333333,\"#9c179e\"],[0.4444444444444444,\"#bd3786\"],[0.5555555555555556,\"#d8576b\"],[0.6666666666666666,\"#ed7953\"],[0.7777777777777778,\"#fb9f3a\"],[0.8888888888888888,\"#fdca26\"],[1.0,\"#f0f921\"]],\"type\":\"heatmapgl\"}],\"heatmap\":[{\"colorbar\":{\"outlinewidth\":0,\"ticks\":\"\"},\"colorscale\":[[0.0,\"#0d0887\"],[0.1111111111111111,\"#46039f\"],[0.2222222222222222,\"#7201a8\"],[0.3333333333333333,\"#9c179e\"],[0.4444444444444444,\"#bd3786\"],[0.5555555555555556,\"#d8576b\"],[0.6666666666666666,\"#ed7953\"],[0.7777777777777778,\"#fb9f3a\"],[0.8888888888888888,\"#fdca26\"],[1.0,\"#f0f921\"]],\"type\":\"heatmap\"}],\"histogram2dcontour\":[{\"colorbar\":{\"outlinewidth\":0,\"ticks\":\"\"},\"colorscale\":[[0.0,\"#0d0887\"],[0.1111111111111111,\"#46039f\"],[0.2222222222222222,\"#7201a8\"],[0.3333333333333333,\"#9c179e\"],[0.4444444444444444,\"#bd3786\"],[0.5555555555555556,\"#d8576b\"],[0.6666666666666666,\"#ed7953\"],[0.7777777777777778,\"#fb9f3a\"],[0.8888888888888888,\"#fdca26\"],[1.0,\"#f0f921\"]],\"type\":\"histogram2dcontour\"}],\"histogram2d\":[{\"colorbar\":{\"outlinewidth\":0,\"ticks\":\"\"},\"colorscale\":[[0.0,\"#0d0887\"],[0.1111111111111111,\"#46039f\"],[0.2222222222222222,\"#7201a8\"],[0.3333333333333333,\"#9c179e\"],[0.4444444444444444,\"#bd3786\"],[0.5555555555555556,\"#d8576b\"],[0.6666666666666666,\"#ed7953\"],[0.7777777777777778,\"#fb9f3a\"],[0.8888888888888888,\"#fdca26\"],[1.0,\"#f0f921\"]],\"type\":\"histogram2d\"}],\"histogram\":[{\"marker\":{\"pattern\":{\"fillmode\":\"overlay\",\"size\":10,\"solidity\":0.2}},\"type\":\"histogram\"}],\"mesh3d\":[{\"colorbar\":{\"outlinewidth\":0,\"ticks\":\"\"},\"type\":\"mesh3d\"}],\"parcoords\":[{\"line\":{\"colorbar\":{\"outlinewidth\":0,\"ticks\":\"\"}},\"type\":\"parcoords\"}],\"pie\":[{\"automargin\":true,\"type\":\"pie\"}],\"scatter3d\":[{\"line\":{\"colorbar\":{\"outlinewidth\":0,\"ticks\":\"\"}},\"marker\":{\"colorbar\":{\"outlinewidth\":0,\"ticks\":\"\"}},\"type\":\"scatter3d\"}],\"scattercarpet\":[{\"marker\":{\"colorbar\":{\"outlinewidth\":0,\"ticks\":\"\"}},\"type\":\"scattercarpet\"}],\"scattergeo\":[{\"marker\":{\"colorbar\":{\"outlinewidth\":0,\"ticks\":\"\"}},\"type\":\"scattergeo\"}],\"scattergl\":[{\"marker\":{\"colorbar\":{\"outlinewidth\":0,\"ticks\":\"\"}},\"type\":\"scattergl\"}],\"scattermapbox\":[{\"marker\":{\"colorbar\":{\"outlinewidth\":0,\"ticks\":\"\"}},\"type\":\"scattermapbox\"}],\"scatterpolargl\":[{\"marker\":{\"colorbar\":{\"outlinewidth\":0,\"ticks\":\"\"}},\"type\":\"scatterpolargl\"}],\"scatterpolar\":[{\"marker\":{\"colorbar\":{\"outlinewidth\":0,\"ticks\":\"\"}},\"type\":\"scatterpolar\"}],\"scatter\":[{\"fillpattern\":{\"fillmode\":\"overlay\",\"size\":10,\"solidity\":0.2},\"type\":\"scatter\"}],\"scatterternary\":[{\"marker\":{\"colorbar\":{\"outlinewidth\":0,\"ticks\":\"\"}},\"type\":\"scatterternary\"}],\"surface\":[{\"colorbar\":{\"outlinewidth\":0,\"ticks\":\"\"},\"colorscale\":[[0.0,\"#0d0887\"],[0.1111111111111111,\"#46039f\"],[0.2222222222222222,\"#7201a8\"],[0.3333333333333333,\"#9c179e\"],[0.4444444444444444,\"#bd3786\"],[0.5555555555555556,\"#d8576b\"],[0.6666666666666666,\"#ed7953\"],[0.7777777777777778,\"#fb9f3a\"],[0.8888888888888888,\"#fdca26\"],[1.0,\"#f0f921\"]],\"type\":\"surface\"}],\"table\":[{\"cells\":{\"fill\":{\"color\":\"#EBF0F8\"},\"line\":{\"color\":\"white\"}},\"header\":{\"fill\":{\"color\":\"#C8D4E3\"},\"line\":{\"color\":\"white\"}},\"type\":\"table\"}]},\"layout\":{\"annotationdefaults\":{\"arrowcolor\":\"#2a3f5f\",\"arrowhead\":0,\"arrowwidth\":1},\"autotypenumbers\":\"strict\",\"coloraxis\":{\"colorbar\":{\"outlinewidth\":0,\"ticks\":\"\"}},\"colorscale\":{\"diverging\":[[0,\"#8e0152\"],[0.1,\"#c51b7d\"],[0.2,\"#de77ae\"],[0.3,\"#f1b6da\"],[0.4,\"#fde0ef\"],[0.5,\"#f7f7f7\"],[0.6,\"#e6f5d0\"],[0.7,\"#b8e186\"],[0.8,\"#7fbc41\"],[0.9,\"#4d9221\"],[1,\"#276419\"]],\"sequential\":[[0.0,\"#0d0887\"],[0.1111111111111111,\"#46039f\"],[0.2222222222222222,\"#7201a8\"],[0.3333333333333333,\"#9c179e\"],[0.4444444444444444,\"#bd3786\"],[0.5555555555555556,\"#d8576b\"],[0.6666666666666666,\"#ed7953\"],[0.7777777777777778,\"#fb9f3a\"],[0.8888888888888888,\"#fdca26\"],[1.0,\"#f0f921\"]],\"sequentialminus\":[[0.0,\"#0d0887\"],[0.1111111111111111,\"#46039f\"],[0.2222222222222222,\"#7201a8\"],[0.3333333333333333,\"#9c179e\"],[0.4444444444444444,\"#bd3786\"],[0.5555555555555556,\"#d8576b\"],[0.6666666666666666,\"#ed7953\"],[0.7777777777777778,\"#fb9f3a\"],[0.8888888888888888,\"#fdca26\"],[1.0,\"#f0f921\"]]},\"colorway\":[\"#636efa\",\"#EF553B\",\"#00cc96\",\"#ab63fa\",\"#FFA15A\",\"#19d3f3\",\"#FF6692\",\"#B6E880\",\"#FF97FF\",\"#FECB52\"],\"font\":{\"color\":\"#2a3f5f\"},\"geo\":{\"bgcolor\":\"white\",\"lakecolor\":\"white\",\"landcolor\":\"white\",\"showlakes\":true,\"showland\":true,\"subunitcolor\":\"#C8D4E3\"},\"hoverlabel\":{\"align\":\"left\"},\"hovermode\":\"closest\",\"mapbox\":{\"style\":\"light\"},\"paper_bgcolor\":\"white\",\"plot_bgcolor\":\"white\",\"polar\":{\"angularaxis\":{\"gridcolor\":\"#EBF0F8\",\"linecolor\":\"#EBF0F8\",\"ticks\":\"\"},\"bgcolor\":\"white\",\"radialaxis\":{\"gridcolor\":\"#EBF0F8\",\"linecolor\":\"#EBF0F8\",\"ticks\":\"\"}},\"scene\":{\"xaxis\":{\"backgroundcolor\":\"white\",\"gridcolor\":\"#DFE8F3\",\"gridwidth\":2,\"linecolor\":\"#EBF0F8\",\"showbackground\":true,\"ticks\":\"\",\"zerolinecolor\":\"#EBF0F8\"},\"yaxis\":{\"backgroundcolor\":\"white\",\"gridcolor\":\"#DFE8F3\",\"gridwidth\":2,\"linecolor\":\"#EBF0F8\",\"showbackground\":true,\"ticks\":\"\",\"zerolinecolor\":\"#EBF0F8\"},\"zaxis\":{\"backgroundcolor\":\"white\",\"gridcolor\":\"#DFE8F3\",\"gridwidth\":2,\"linecolor\":\"#EBF0F8\",\"showbackground\":true,\"ticks\":\"\",\"zerolinecolor\":\"#EBF0F8\"}},\"shapedefaults\":{\"line\":{\"color\":\"#2a3f5f\"}},\"ternary\":{\"aaxis\":{\"gridcolor\":\"#DFE8F3\",\"linecolor\":\"#A2B1C6\",\"ticks\":\"\"},\"baxis\":{\"gridcolor\":\"#DFE8F3\",\"linecolor\":\"#A2B1C6\",\"ticks\":\"\"},\"bgcolor\":\"white\",\"caxis\":{\"gridcolor\":\"#DFE8F3\",\"linecolor\":\"#A2B1C6\",\"ticks\":\"\"}},\"title\":{\"x\":0.05},\"xaxis\":{\"automargin\":true,\"gridcolor\":\"#EBF0F8\",\"linecolor\":\"#EBF0F8\",\"ticks\":\"\",\"title\":{\"standoff\":15},\"zerolinecolor\":\"#EBF0F8\",\"zerolinewidth\":2},\"yaxis\":{\"automargin\":true,\"gridcolor\":\"#EBF0F8\",\"linecolor\":\"#EBF0F8\",\"ticks\":\"\",\"title\":{\"standoff\":15},\"zerolinecolor\":\"#EBF0F8\",\"zerolinewidth\":2}}},\"shapes\":[{\"line\":{\"color\":\"rgba(254, 203, 82, 0.8)\",\"dash\":\"dot\",\"width\":2.5},\"name\":\"No feature selection\",\"showlegend\":true,\"type\":\"line\",\"x0\":-0.45,\"x1\":0.45,\"xref\":\"x\",\"y0\":0.9333333333333332,\"y1\":0.9333333333333332,\"yref\":\"y\"},{\"line\":{\"color\":\"rgba(254, 203, 82, 0.8)\",\"dash\":\"dot\",\"width\":2.5},\"name\":\"No feature selection\",\"showlegend\":false,\"type\":\"line\",\"x0\":0.55,\"x1\":1.45,\"xref\":\"x\",\"y0\":0.9333333333333332,\"y1\":0.9333333333333332,\"yref\":\"y\"}],\"yaxis\":{\"title\":{\"text\":\"Balanced accuracy\"}}},                        {\"responsive\": true}                    ).then(function(){\n",
       "                            \n",
       "var gd = document.getElementById('5494a64e-8861-4d51-8faf-59810d18628d');\n",
       "var x = new MutationObserver(function (mutations, observer) {{\n",
       "        var display = window.getComputedStyle(gd).display;\n",
       "        if (!display || display === 'none') {{\n",
       "            console.log([gd, 'removed!']);\n",
       "            Plotly.purge(gd);\n",
       "            observer.disconnect();\n",
       "        }}\n",
       "}});\n",
       "\n",
       "// Listen for the removal of the full notebook cells\n",
       "var notebookContainer = gd.closest('#notebook-container');\n",
       "if (notebookContainer) {{\n",
       "    x.observe(notebookContainer, {childList: true});\n",
       "}}\n",
       "\n",
       "// Listen for the clearing of the current output cell\n",
       "var outputEl = gd.closest('.output');\n",
       "if (outputEl) {{\n",
       "    x.observe(outputEl, {childList: true});\n",
       "}}\n",
       "\n",
       "                        })                };                });            </script>        </div>"
      ]
     },
     "metadata": {},
     "output_type": "display_data"
    }
   ],
   "source": [
    "cos_dataset = \"anneal\"\n",
    "cos_feat_percent = 0.1\n",
    "cos_cluster = \"C0\"\n",
    "\n",
    "cos_df = fs_scores_df.query(\n",
    "    \"opt_metric==@OPTIMIZATION_METRIC \"\n",
    "    \"and dataset==@cos_dataset \"\n",
    "    \"and features_percent==@cos_feat_percent \"\n",
    "    \"and cluster==@cos_cluster \"\n",
    ")\n",
    "\n",
    "cos_df = cos_df[[\n",
    "        \"dataset\",\n",
    "        \"model\",\n",
    "        \"cluster\",\n",
    "        \"selection_method\",\n",
    "        \"features_percent\",        \n",
    "        f\"{EVALUATION_METRIC}_mean\", \n",
    "        f\"{EVALUATION_METRIC}_std\", \n",
    "]].replace({\"selection_method\": fs_name_mapping})\n",
    "\n",
    "\n",
    "fig = go.Figure(layout=layout)\n",
    "\n",
    "for sel_method_i, sel_method in enumerate(cos_df[\"selection_method\"].unique()):\n",
    "    plot_data = cos_df.query(\"selection_method==@sel_method\")\n",
    "    fig.add_trace(go.Bar(\n",
    "        name=sel_method, \n",
    "        x=plot_data[\"model\"], \n",
    "        y=plot_data[f\"{EVALUATION_METRIC}_mean\"],\n",
    "        error_y=dict(\n",
    "                    type=\"data\", \n",
    "                    array=plot_data[f\"{EVALUATION_METRIC}_std\"],\n",
    "                    color=\"rgba(0, 0, 0, 0.7)\"\n",
    "                    ),\n",
    "        marker_color=COLORS[sel_method_i]\n",
    "    ))\n",
    "    \n",
    "    \n",
    "# Adding lines of non feature selection scores    \n",
    "cos_df = fs_scores_df.query(\n",
    "    \"opt_metric==@OPTIMIZATION_METRIC \"\n",
    "    \"and dataset==@cos_dataset \"\n",
    "    \"and features_percent==1 \"\n",
    "    \"and cluster==@cos_cluster \"\n",
    ")\n",
    "plot_data = cos_df.drop([\"selection_method\"], axis=1).drop_duplicates()\n",
    "\n",
    "for mod_i, mod in enumerate(cos_df[\"model\"].unique()):\n",
    "    nfs_metric = plot_data.query(\"model==@mod\")[f\"{EVALUATION_METRIC}_mean\"].values[0]\n",
    "    fig.add_shape(type=\"line\",\n",
    "                    x0=mod_i - 0.45,\n",
    "                    y0=nfs_metric,\n",
    "                    x1=mod_i + 0.45,\n",
    "                    y1=nfs_metric,\n",
    "                    line=dict(color=COLORS[-1], width=2.5, dash=\"dot\"),\n",
    "                    xref=\"x\",\n",
    "                    yref=\"y\",\n",
    "                    name=\"No feature selection\",\n",
    "                    showlegend=True if mod_i == 0 else False\n",
    "    )\n",
    "\n",
    "fig.update_layout(\n",
    "    yaxis_title = \"Balanced accuracy\"\n",
    ")\n",
    "\n",
    "fig.show()\n",
    "fig.write_image(os.path.join(ASSETS_DIR, f\"results_cluster_{cos_dataset}_{cos_feat_percent}_{cos_cluster}.svg\"), scale=IMG_SCALE)"
   ]
  },
  {
   "cell_type": "markdown",
   "id": "9b0529ac",
   "metadata": {},
   "source": [
    "### Cases of study - Full dataset mode"
   ]
  },
  {
   "cell_type": "code",
   "execution_count": 191,
   "id": "ba22a2a9",
   "metadata": {},
   "outputs": [
    {
     "data": {
      "text/html": [
       "<div>\n",
       "<style scoped>\n",
       "    .dataframe tbody tr th:only-of-type {\n",
       "        vertical-align: middle;\n",
       "    }\n",
       "\n",
       "    .dataframe tbody tr th {\n",
       "        vertical-align: top;\n",
       "    }\n",
       "\n",
       "    .dataframe thead th {\n",
       "        text-align: right;\n",
       "    }\n",
       "</style>\n",
       "<table border=\"1\" class=\"dataframe\">\n",
       "  <thead>\n",
       "    <tr style=\"text-align: right;\">\n",
       "      <th></th>\n",
       "      <th>dataset</th>\n",
       "      <th>cluster</th>\n",
       "    </tr>\n",
       "  </thead>\n",
       "  <tbody>\n",
       "    <tr>\n",
       "      <th>0</th>\n",
       "      <td>adult</td>\n",
       "      <td>C0</td>\n",
       "    </tr>\n",
       "    <tr>\n",
       "      <th>18</th>\n",
       "      <td>anneal</td>\n",
       "      <td>C0</td>\n",
       "    </tr>\n",
       "    <tr>\n",
       "      <th>36</th>\n",
       "      <td>australian</td>\n",
       "      <td>C0</td>\n",
       "    </tr>\n",
       "    <tr>\n",
       "      <th>54</th>\n",
       "      <td>jasmine</td>\n",
       "      <td>C0</td>\n",
       "    </tr>\n",
       "    <tr>\n",
       "      <th>72</th>\n",
       "      <td>kr-vs-kp</td>\n",
       "      <td>C0</td>\n",
       "    </tr>\n",
       "    <tr>\n",
       "      <th>90</th>\n",
       "      <td>sylvine</td>\n",
       "      <td>C0</td>\n",
       "    </tr>\n",
       "    <tr>\n",
       "      <th>108</th>\n",
       "      <td>volkert</td>\n",
       "      <td>C0</td>\n",
       "    </tr>\n",
       "  </tbody>\n",
       "</table>\n",
       "</div>"
      ],
      "text/plain": [
       "        dataset cluster\n",
       "0         adult      C0\n",
       "18       anneal      C0\n",
       "36   australian      C0\n",
       "54      jasmine      C0\n",
       "72     kr-vs-kp      C0\n",
       "90      sylvine      C0\n",
       "108     volkert      C0"
      ]
     },
     "execution_count": 191,
     "metadata": {},
     "output_type": "execute_result"
    }
   ],
   "source": [
    "fs_ds_scores_df = pd.read_csv(\"feature_selection_dataset_scores.csv\")\n",
    "fs_ds_scores_df[[\"dataset\", \"cluster\"]].drop_duplicates()"
   ]
  },
  {
   "cell_type": "code",
   "execution_count": 192,
   "id": "7dce2888",
   "metadata": {},
   "outputs": [],
   "source": [
    "# Unify random scores\n",
    "random_scores = fs_ds_scores_df.query(\"selection_method.str.contains('random')\")\n",
    "\n",
    "random_scores = random_scores.drop([\"selection_method\"], axis=1)\n",
    "random_scores = random_scores.groupby(\n",
    "                    [\"dataset\", \"cluster\", \"model\", \"opt_metric\", \"features_percent\", \"n_features_selected\"], \n",
    "                    as_index=False).agg([\"mean\", \"std\"])\n",
    "\n",
    "random_scores.columns = [\"_\".join(col) if col[1] else col[0] for col in random_scores.columns] \n",
    "random_scores = random_scores[[\n",
    "                    \"dataset\", \"cluster\", \"model\", \"opt_metric\", \"features_percent\", \"n_features_selected\", \n",
    "                    \"balanced_accuracy_mean_mean\", \"balanced_accuracy_mean_std\",\n",
    "                    \"accuracy_mean_mean\", \"accuracy_mean_std\"\n",
    "                ]]\n",
    "\n",
    "random_scores.columns = [\n",
    "                    \"dataset\", \"cluster\", \"model\", \"opt_metric\", \"features_percent\", \"n_features_selected\",\n",
    "                    \"balanced_accuracy_mean\", \"balanced_accuracy_std\",\n",
    "                    \"accuracy_mean\", \"accuracy_std\"\n",
    "                ]\n",
    "random_scores[\"selection_method\"] = \"random\""
   ]
  },
  {
   "cell_type": "code",
   "execution_count": 193,
   "id": "eda51aba",
   "metadata": {},
   "outputs": [],
   "source": [
    "# Set to original dataset\n",
    "fs_ds_scores_df = pd.concat([\n",
    "        fs_ds_scores_df.query(\"not selection_method.str.contains('random')\"),\n",
    "        random_scores\n",
    "])"
   ]
  },
  {
   "cell_type": "markdown",
   "id": "05af5b9e",
   "metadata": {},
   "source": [
    "#### Executions per dataset"
   ]
  },
  {
   "cell_type": "code",
   "execution_count": 195,
   "id": "c216c1da",
   "metadata": {},
   "outputs": [
    {
     "data": {
      "application/vnd.plotly.v1+json": {
       "config": {
        "plotlyServerURL": "https://plot.ly"
       },
       "data": [
        {
         "error_y": {
          "array": [
           0.000245199009593,
           0.0613219422316944,
           0.0619097143793858,
           0.0126249917959991,
           0.0197435340998641,
           0.0107018570098702,
           0.0071601064875627
          ],
          "color": "rgba(0, 0, 0, 0.7)",
          "type": "data"
         },
         "marker": {
          "color": "rgba(99, 110, 250, 0.8)"
         },
         "name": "Attention",
         "type": "bar",
         "x": [
          "adult",
          "anneal",
          "australian",
          "jasmine",
          "kr-vs-kp",
          "sylvine",
          "volkert"
         ],
         "y": [
          0.4998962047304863,
          0.4148106604960825,
          0.618575595315833,
          0.5227919463087248,
          0.7432555039559683,
          0.91900079036965,
          0.4996264808317732
         ]
        },
        {
         "error_y": {
          "array": [
           0.000245199009593,
           0.0886538368239876,
           0,
           0.0233871345319496,
           0.0197435340998641,
           0.0107018570098702,
           0.0078113497548498
          ],
          "color": "rgba(0, 0, 0, 0.7)",
          "type": "data"
         },
         "marker": {
          "color": "rgba(239, 85, 59, 0.8)"
         },
         "name": "Decision tree",
         "type": "bar",
         "x": [
          "adult",
          "anneal",
          "australian",
          "jasmine",
          "kr-vs-kp",
          "sylvine",
          "volkert"
         ],
         "y": [
          0.4998962047304863,
          0.8555285592497869,
          0.5,
          0.7845212527964206,
          0.7432555039559683,
          0.91900079036965,
          0.5760850560807186
         ]
        },
        {
         "error_y": {
          "array": [
           0.000245199009593,
           0.08802583259353,
           0,
           0.0233118733370733,
           0.0197435340998641,
           0.0125720796203839,
           0.0070251010112035
          ],
          "color": "rgba(0, 0, 0, 0.7)",
          "type": "data"
         },
         "marker": {
          "color": "rgba(0, 204, 150, 0.8)"
         },
         "name": "F test",
         "type": "bar",
         "x": [
          "adult",
          "anneal",
          "australian",
          "jasmine",
          "kr-vs-kp",
          "sylvine",
          "volkert"
         ],
         "y": [
          0.4998962047304863,
          0.6517945439045183,
          0.5,
          0.7664496644295301,
          0.7432555039559683,
          0.910218567607004,
          0.3254886490763871
         ]
        },
        {
         "error_y": {
          "array": [
           0.0017896148780223,
           0.0388653245533755,
           0,
           0.0312990950324303,
           0.0197435340998641,
           0.0133752812500006,
           0.0080390362898167
          ],
          "color": "rgba(0, 0, 0, 0.7)",
          "type": "data"
         },
         "marker": {
          "color": "rgba(171, 99, 250, 0.8)"
         },
         "name": "Linear model",
         "type": "bar",
         "x": [
          "adult",
          "anneal",
          "australian",
          "jasmine",
          "kr-vs-kp",
          "sylvine",
          "volkert"
         ],
         "y": [
          0.5202481815397995,
          0.7097072220192425,
          0.5,
          0.793565995525727,
          0.7432555039559683,
          0.9139264652237354,
          0.3676548269509674
         ]
        },
        {
         "error_y": {
          "array": [
           0.02117328958538591,
           0.07409425954817385,
           0.061467946015856284,
           0.0728015941952653,
           0.004961450975385105,
           0.06739075553027321,
           0.04830921134066863
          ],
          "color": "rgba(0, 0, 0, 0.7)",
          "type": "data"
         },
         "marker": {
          "color": "rgba(255, 161, 90, 0.8)"
         },
         "name": "Random",
         "type": "bar",
         "x": [
          "adult",
          "anneal",
          "australian",
          "jasmine",
          "kr-vs-kp",
          "sylvine",
          "volkert"
         ],
         "y": [
          0.5267184052346365,
          0.27030695408598215,
          0.5327165991902834,
          0.5912814317673378,
          0.5021097330622553,
          0.5968768239299611,
          0.3631652580553871
         ]
        }
       ],
       "layout": {
        "autosize": true,
        "font": {
         "size": 22
        },
        "margin": {
         "b": 0,
         "l": 80,
         "r": 0,
         "t": 0
        },
        "shapes": [
         {
          "line": {
           "color": "rgba(254, 203, 82, 0.8)",
           "dash": "dot",
           "width": 2.5
          },
          "name": "No feature selection",
          "showlegend": true,
          "type": "line",
          "x0": -0.45,
          "x1": 0.45,
          "xref": "x",
          "y0": 0.7526819006133763,
          "y1": 0.7526819006133763,
          "yref": "y"
         },
         {
          "line": {
           "color": "rgba(254, 203, 82, 0.8)",
           "dash": "dot",
           "width": 2.5
          },
          "name": "No feature selection",
          "showlegend": false,
          "type": "line",
          "x0": 0.55,
          "x1": 1.45,
          "xref": "x",
          "y0": 0.8501987577639752,
          "y1": 0.8501987577639752,
          "yref": "y"
         },
         {
          "line": {
           "color": "rgba(254, 203, 82, 0.8)",
           "dash": "dot",
           "width": 2.5
          },
          "name": "No feature selection",
          "showlegend": false,
          "type": "line",
          "x0": 1.55,
          "x1": 2.45,
          "xref": "x",
          "y0": 0.8542083496582646,
          "y1": 0.8542083496582646,
          "yref": "y"
         },
         {
          "line": {
           "color": "rgba(254, 203, 82, 0.8)",
           "dash": "dot",
           "width": 2.5
          },
          "name": "No feature selection",
          "showlegend": false,
          "type": "line",
          "x0": 2.55,
          "x1": 3.45,
          "xref": "x",
          "y0": 0.7794944071588368,
          "y1": 0.7794944071588368,
          "yref": "y"
         },
         {
          "line": {
           "color": "rgba(254, 203, 82, 0.8)",
           "dash": "dot",
           "width": 2.5
          },
          "name": "No feature selection",
          "showlegend": false,
          "type": "line",
          "x0": 3.55,
          "x1": 4.45,
          "xref": "x",
          "y0": 0.934810731993186,
          "y1": 0.934810731993186,
          "yref": "y"
         },
         {
          "line": {
           "color": "rgba(254, 203, 82, 0.8)",
           "dash": "dot",
           "width": 2.5
          },
          "name": "No feature selection",
          "showlegend": false,
          "type": "line",
          "x0": 4.55,
          "x1": 5.45,
          "xref": "x",
          "y0": 0.826506262159533,
          "y1": 0.826506262159533,
          "yref": "y"
         },
         {
          "line": {
           "color": "rgba(254, 203, 82, 0.8)",
           "dash": "dot",
           "width": 2.5
          },
          "name": "No feature selection",
          "showlegend": false,
          "type": "line",
          "x0": 5.55,
          "x1": 6.45,
          "xref": "x",
          "y0": 0.6144772903747607,
          "y1": 0.6144772903747607,
          "yref": "y"
         }
        ],
        "template": {
         "data": {
          "bar": [
           {
            "error_x": {
             "color": "#2a3f5f"
            },
            "error_y": {
             "color": "#2a3f5f"
            },
            "marker": {
             "line": {
              "color": "white",
              "width": 0.5
             },
             "pattern": {
              "fillmode": "overlay",
              "size": 10,
              "solidity": 0.2
             }
            },
            "type": "bar"
           }
          ],
          "barpolar": [
           {
            "marker": {
             "line": {
              "color": "white",
              "width": 0.5
             },
             "pattern": {
              "fillmode": "overlay",
              "size": 10,
              "solidity": 0.2
             }
            },
            "type": "barpolar"
           }
          ],
          "carpet": [
           {
            "aaxis": {
             "endlinecolor": "#2a3f5f",
             "gridcolor": "#C8D4E3",
             "linecolor": "#C8D4E3",
             "minorgridcolor": "#C8D4E3",
             "startlinecolor": "#2a3f5f"
            },
            "baxis": {
             "endlinecolor": "#2a3f5f",
             "gridcolor": "#C8D4E3",
             "linecolor": "#C8D4E3",
             "minorgridcolor": "#C8D4E3",
             "startlinecolor": "#2a3f5f"
            },
            "type": "carpet"
           }
          ],
          "choropleth": [
           {
            "colorbar": {
             "outlinewidth": 0,
             "ticks": ""
            },
            "type": "choropleth"
           }
          ],
          "contour": [
           {
            "colorbar": {
             "outlinewidth": 0,
             "ticks": ""
            },
            "colorscale": [
             [
              0,
              "#0d0887"
             ],
             [
              0.1111111111111111,
              "#46039f"
             ],
             [
              0.2222222222222222,
              "#7201a8"
             ],
             [
              0.3333333333333333,
              "#9c179e"
             ],
             [
              0.4444444444444444,
              "#bd3786"
             ],
             [
              0.5555555555555556,
              "#d8576b"
             ],
             [
              0.6666666666666666,
              "#ed7953"
             ],
             [
              0.7777777777777778,
              "#fb9f3a"
             ],
             [
              0.8888888888888888,
              "#fdca26"
             ],
             [
              1,
              "#f0f921"
             ]
            ],
            "type": "contour"
           }
          ],
          "contourcarpet": [
           {
            "colorbar": {
             "outlinewidth": 0,
             "ticks": ""
            },
            "type": "contourcarpet"
           }
          ],
          "heatmap": [
           {
            "colorbar": {
             "outlinewidth": 0,
             "ticks": ""
            },
            "colorscale": [
             [
              0,
              "#0d0887"
             ],
             [
              0.1111111111111111,
              "#46039f"
             ],
             [
              0.2222222222222222,
              "#7201a8"
             ],
             [
              0.3333333333333333,
              "#9c179e"
             ],
             [
              0.4444444444444444,
              "#bd3786"
             ],
             [
              0.5555555555555556,
              "#d8576b"
             ],
             [
              0.6666666666666666,
              "#ed7953"
             ],
             [
              0.7777777777777778,
              "#fb9f3a"
             ],
             [
              0.8888888888888888,
              "#fdca26"
             ],
             [
              1,
              "#f0f921"
             ]
            ],
            "type": "heatmap"
           }
          ],
          "heatmapgl": [
           {
            "colorbar": {
             "outlinewidth": 0,
             "ticks": ""
            },
            "colorscale": [
             [
              0,
              "#0d0887"
             ],
             [
              0.1111111111111111,
              "#46039f"
             ],
             [
              0.2222222222222222,
              "#7201a8"
             ],
             [
              0.3333333333333333,
              "#9c179e"
             ],
             [
              0.4444444444444444,
              "#bd3786"
             ],
             [
              0.5555555555555556,
              "#d8576b"
             ],
             [
              0.6666666666666666,
              "#ed7953"
             ],
             [
              0.7777777777777778,
              "#fb9f3a"
             ],
             [
              0.8888888888888888,
              "#fdca26"
             ],
             [
              1,
              "#f0f921"
             ]
            ],
            "type": "heatmapgl"
           }
          ],
          "histogram": [
           {
            "marker": {
             "pattern": {
              "fillmode": "overlay",
              "size": 10,
              "solidity": 0.2
             }
            },
            "type": "histogram"
           }
          ],
          "histogram2d": [
           {
            "colorbar": {
             "outlinewidth": 0,
             "ticks": ""
            },
            "colorscale": [
             [
              0,
              "#0d0887"
             ],
             [
              0.1111111111111111,
              "#46039f"
             ],
             [
              0.2222222222222222,
              "#7201a8"
             ],
             [
              0.3333333333333333,
              "#9c179e"
             ],
             [
              0.4444444444444444,
              "#bd3786"
             ],
             [
              0.5555555555555556,
              "#d8576b"
             ],
             [
              0.6666666666666666,
              "#ed7953"
             ],
             [
              0.7777777777777778,
              "#fb9f3a"
             ],
             [
              0.8888888888888888,
              "#fdca26"
             ],
             [
              1,
              "#f0f921"
             ]
            ],
            "type": "histogram2d"
           }
          ],
          "histogram2dcontour": [
           {
            "colorbar": {
             "outlinewidth": 0,
             "ticks": ""
            },
            "colorscale": [
             [
              0,
              "#0d0887"
             ],
             [
              0.1111111111111111,
              "#46039f"
             ],
             [
              0.2222222222222222,
              "#7201a8"
             ],
             [
              0.3333333333333333,
              "#9c179e"
             ],
             [
              0.4444444444444444,
              "#bd3786"
             ],
             [
              0.5555555555555556,
              "#d8576b"
             ],
             [
              0.6666666666666666,
              "#ed7953"
             ],
             [
              0.7777777777777778,
              "#fb9f3a"
             ],
             [
              0.8888888888888888,
              "#fdca26"
             ],
             [
              1,
              "#f0f921"
             ]
            ],
            "type": "histogram2dcontour"
           }
          ],
          "mesh3d": [
           {
            "colorbar": {
             "outlinewidth": 0,
             "ticks": ""
            },
            "type": "mesh3d"
           }
          ],
          "parcoords": [
           {
            "line": {
             "colorbar": {
              "outlinewidth": 0,
              "ticks": ""
             }
            },
            "type": "parcoords"
           }
          ],
          "pie": [
           {
            "automargin": true,
            "type": "pie"
           }
          ],
          "scatter": [
           {
            "fillpattern": {
             "fillmode": "overlay",
             "size": 10,
             "solidity": 0.2
            },
            "type": "scatter"
           }
          ],
          "scatter3d": [
           {
            "line": {
             "colorbar": {
              "outlinewidth": 0,
              "ticks": ""
             }
            },
            "marker": {
             "colorbar": {
              "outlinewidth": 0,
              "ticks": ""
             }
            },
            "type": "scatter3d"
           }
          ],
          "scattercarpet": [
           {
            "marker": {
             "colorbar": {
              "outlinewidth": 0,
              "ticks": ""
             }
            },
            "type": "scattercarpet"
           }
          ],
          "scattergeo": [
           {
            "marker": {
             "colorbar": {
              "outlinewidth": 0,
              "ticks": ""
             }
            },
            "type": "scattergeo"
           }
          ],
          "scattergl": [
           {
            "marker": {
             "colorbar": {
              "outlinewidth": 0,
              "ticks": ""
             }
            },
            "type": "scattergl"
           }
          ],
          "scattermapbox": [
           {
            "marker": {
             "colorbar": {
              "outlinewidth": 0,
              "ticks": ""
             }
            },
            "type": "scattermapbox"
           }
          ],
          "scatterpolar": [
           {
            "marker": {
             "colorbar": {
              "outlinewidth": 0,
              "ticks": ""
             }
            },
            "type": "scatterpolar"
           }
          ],
          "scatterpolargl": [
           {
            "marker": {
             "colorbar": {
              "outlinewidth": 0,
              "ticks": ""
             }
            },
            "type": "scatterpolargl"
           }
          ],
          "scatterternary": [
           {
            "marker": {
             "colorbar": {
              "outlinewidth": 0,
              "ticks": ""
             }
            },
            "type": "scatterternary"
           }
          ],
          "surface": [
           {
            "colorbar": {
             "outlinewidth": 0,
             "ticks": ""
            },
            "colorscale": [
             [
              0,
              "#0d0887"
             ],
             [
              0.1111111111111111,
              "#46039f"
             ],
             [
              0.2222222222222222,
              "#7201a8"
             ],
             [
              0.3333333333333333,
              "#9c179e"
             ],
             [
              0.4444444444444444,
              "#bd3786"
             ],
             [
              0.5555555555555556,
              "#d8576b"
             ],
             [
              0.6666666666666666,
              "#ed7953"
             ],
             [
              0.7777777777777778,
              "#fb9f3a"
             ],
             [
              0.8888888888888888,
              "#fdca26"
             ],
             [
              1,
              "#f0f921"
             ]
            ],
            "type": "surface"
           }
          ],
          "table": [
           {
            "cells": {
             "fill": {
              "color": "#EBF0F8"
             },
             "line": {
              "color": "white"
             }
            },
            "header": {
             "fill": {
              "color": "#C8D4E3"
             },
             "line": {
              "color": "white"
             }
            },
            "type": "table"
           }
          ]
         },
         "layout": {
          "annotationdefaults": {
           "arrowcolor": "#2a3f5f",
           "arrowhead": 0,
           "arrowwidth": 1
          },
          "autotypenumbers": "strict",
          "coloraxis": {
           "colorbar": {
            "outlinewidth": 0,
            "ticks": ""
           }
          },
          "colorscale": {
           "diverging": [
            [
             0,
             "#8e0152"
            ],
            [
             0.1,
             "#c51b7d"
            ],
            [
             0.2,
             "#de77ae"
            ],
            [
             0.3,
             "#f1b6da"
            ],
            [
             0.4,
             "#fde0ef"
            ],
            [
             0.5,
             "#f7f7f7"
            ],
            [
             0.6,
             "#e6f5d0"
            ],
            [
             0.7,
             "#b8e186"
            ],
            [
             0.8,
             "#7fbc41"
            ],
            [
             0.9,
             "#4d9221"
            ],
            [
             1,
             "#276419"
            ]
           ],
           "sequential": [
            [
             0,
             "#0d0887"
            ],
            [
             0.1111111111111111,
             "#46039f"
            ],
            [
             0.2222222222222222,
             "#7201a8"
            ],
            [
             0.3333333333333333,
             "#9c179e"
            ],
            [
             0.4444444444444444,
             "#bd3786"
            ],
            [
             0.5555555555555556,
             "#d8576b"
            ],
            [
             0.6666666666666666,
             "#ed7953"
            ],
            [
             0.7777777777777778,
             "#fb9f3a"
            ],
            [
             0.8888888888888888,
             "#fdca26"
            ],
            [
             1,
             "#f0f921"
            ]
           ],
           "sequentialminus": [
            [
             0,
             "#0d0887"
            ],
            [
             0.1111111111111111,
             "#46039f"
            ],
            [
             0.2222222222222222,
             "#7201a8"
            ],
            [
             0.3333333333333333,
             "#9c179e"
            ],
            [
             0.4444444444444444,
             "#bd3786"
            ],
            [
             0.5555555555555556,
             "#d8576b"
            ],
            [
             0.6666666666666666,
             "#ed7953"
            ],
            [
             0.7777777777777778,
             "#fb9f3a"
            ],
            [
             0.8888888888888888,
             "#fdca26"
            ],
            [
             1,
             "#f0f921"
            ]
           ]
          },
          "colorway": [
           "#636efa",
           "#EF553B",
           "#00cc96",
           "#ab63fa",
           "#FFA15A",
           "#19d3f3",
           "#FF6692",
           "#B6E880",
           "#FF97FF",
           "#FECB52"
          ],
          "font": {
           "color": "#2a3f5f"
          },
          "geo": {
           "bgcolor": "white",
           "lakecolor": "white",
           "landcolor": "white",
           "showlakes": true,
           "showland": true,
           "subunitcolor": "#C8D4E3"
          },
          "hoverlabel": {
           "align": "left"
          },
          "hovermode": "closest",
          "mapbox": {
           "style": "light"
          },
          "paper_bgcolor": "white",
          "plot_bgcolor": "white",
          "polar": {
           "angularaxis": {
            "gridcolor": "#EBF0F8",
            "linecolor": "#EBF0F8",
            "ticks": ""
           },
           "bgcolor": "white",
           "radialaxis": {
            "gridcolor": "#EBF0F8",
            "linecolor": "#EBF0F8",
            "ticks": ""
           }
          },
          "scene": {
           "xaxis": {
            "backgroundcolor": "white",
            "gridcolor": "#DFE8F3",
            "gridwidth": 2,
            "linecolor": "#EBF0F8",
            "showbackground": true,
            "ticks": "",
            "zerolinecolor": "#EBF0F8"
           },
           "yaxis": {
            "backgroundcolor": "white",
            "gridcolor": "#DFE8F3",
            "gridwidth": 2,
            "linecolor": "#EBF0F8",
            "showbackground": true,
            "ticks": "",
            "zerolinecolor": "#EBF0F8"
           },
           "zaxis": {
            "backgroundcolor": "white",
            "gridcolor": "#DFE8F3",
            "gridwidth": 2,
            "linecolor": "#EBF0F8",
            "showbackground": true,
            "ticks": "",
            "zerolinecolor": "#EBF0F8"
           }
          },
          "shapedefaults": {
           "line": {
            "color": "#2a3f5f"
           }
          },
          "ternary": {
           "aaxis": {
            "gridcolor": "#DFE8F3",
            "linecolor": "#A2B1C6",
            "ticks": ""
           },
           "baxis": {
            "gridcolor": "#DFE8F3",
            "linecolor": "#A2B1C6",
            "ticks": ""
           },
           "bgcolor": "white",
           "caxis": {
            "gridcolor": "#DFE8F3",
            "linecolor": "#A2B1C6",
            "ticks": ""
           }
          },
          "title": {
           "x": 0.05
          },
          "xaxis": {
           "automargin": true,
           "gridcolor": "#EBF0F8",
           "linecolor": "#EBF0F8",
           "ticks": "",
           "title": {
            "standoff": 15
           },
           "zerolinecolor": "#EBF0F8",
           "zerolinewidth": 2
          },
          "yaxis": {
           "automargin": true,
           "gridcolor": "#EBF0F8",
           "linecolor": "#EBF0F8",
           "ticks": "",
           "title": {
            "standoff": 15
           },
           "zerolinecolor": "#EBF0F8",
           "zerolinewidth": 2
          }
         }
        },
        "xaxis": {
         "autorange": true,
         "range": [
          -0.5,
          6.5
         ],
         "type": "category"
        },
        "yaxis": {
         "autorange": true,
         "range": [
          0,
          0.9938762063934469
         ],
         "title": {
          "text": "Balanced accuracy"
         },
         "type": "linear"
        }
       }
      },
      "image/png": "[encoded data removed]",
      "text/html": [
       "<div>                            <div id=\"62ac3898-90d1-4919-8d0f-2b9590706e3a\" class=\"plotly-graph-div\" style=\"height:525px; width:100%;\"></div>            <script type=\"text/javascript\">                require([\"plotly\"], function(Plotly) {                    window.PLOTLYENV=window.PLOTLYENV || {};                                    if (document.getElementById(\"62ac3898-90d1-4919-8d0f-2b9590706e3a\")) {                    Plotly.newPlot(                        \"62ac3898-90d1-4919-8d0f-2b9590706e3a\",                        [{\"error_y\":{\"array\":[0.000245199009593,0.0613219422316944,0.0619097143793858,0.0126249917959991,0.0197435340998641,0.0107018570098702,0.0071601064875627],\"color\":\"rgba(0, 0, 0, 0.7)\",\"type\":\"data\"},\"marker\":{\"color\":\"rgba(99, 110, 250, 0.8)\"},\"name\":\"Attention\",\"x\":[\"adult\",\"anneal\",\"australian\",\"jasmine\",\"kr-vs-kp\",\"sylvine\",\"volkert\"],\"y\":[0.4998962047304863,0.4148106604960825,0.618575595315833,0.5227919463087248,0.7432555039559683,0.91900079036965,0.4996264808317732],\"type\":\"bar\"},{\"error_y\":{\"array\":[0.000245199009593,0.0886538368239876,0.0,0.0233871345319496,0.0197435340998641,0.0107018570098702,0.0078113497548498],\"color\":\"rgba(0, 0, 0, 0.7)\",\"type\":\"data\"},\"marker\":{\"color\":\"rgba(239, 85, 59, 0.8)\"},\"name\":\"Decision tree\",\"x\":[\"adult\",\"anneal\",\"australian\",\"jasmine\",\"kr-vs-kp\",\"sylvine\",\"volkert\"],\"y\":[0.4998962047304863,0.8555285592497869,0.5,0.7845212527964206,0.7432555039559683,0.91900079036965,0.5760850560807186],\"type\":\"bar\"},{\"error_y\":{\"array\":[0.000245199009593,0.08802583259353,0.0,0.0233118733370733,0.0197435340998641,0.0125720796203839,0.0070251010112035],\"color\":\"rgba(0, 0, 0, 0.7)\",\"type\":\"data\"},\"marker\":{\"color\":\"rgba(0, 204, 150, 0.8)\"},\"name\":\"F test\",\"x\":[\"adult\",\"anneal\",\"australian\",\"jasmine\",\"kr-vs-kp\",\"sylvine\",\"volkert\"],\"y\":[0.4998962047304863,0.6517945439045183,0.5,0.7664496644295301,0.7432555039559683,0.910218567607004,0.3254886490763871],\"type\":\"bar\"},{\"error_y\":{\"array\":[0.0017896148780223,0.0388653245533755,0.0,0.0312990950324303,0.0197435340998641,0.0133752812500006,0.0080390362898167],\"color\":\"rgba(0, 0, 0, 0.7)\",\"type\":\"data\"},\"marker\":{\"color\":\"rgba(171, 99, 250, 0.8)\"},\"name\":\"Linear model\",\"x\":[\"adult\",\"anneal\",\"australian\",\"jasmine\",\"kr-vs-kp\",\"sylvine\",\"volkert\"],\"y\":[0.5202481815397995,0.7097072220192425,0.5,0.793565995525727,0.7432555039559683,0.9139264652237354,0.3676548269509674],\"type\":\"bar\"},{\"error_y\":{\"array\":[0.02117328958538591,0.07409425954817385,0.061467946015856284,0.0728015941952653,0.004961450975385105,0.06739075553027321,0.04830921134066863],\"color\":\"rgba(0, 0, 0, 0.7)\",\"type\":\"data\"},\"marker\":{\"color\":\"rgba(255, 161, 90, 0.8)\"},\"name\":\"Random\",\"x\":[\"adult\",\"anneal\",\"australian\",\"jasmine\",\"kr-vs-kp\",\"sylvine\",\"volkert\"],\"y\":[0.5267184052346365,0.27030695408598215,0.5327165991902834,0.5912814317673378,0.5021097330622553,0.5968768239299611,0.3631652580553871],\"type\":\"bar\"}],                        {\"font\":{\"size\":22},\"margin\":{\"b\":0,\"l\":80,\"r\":0,\"t\":0},\"template\":{\"data\":{\"barpolar\":[{\"marker\":{\"line\":{\"color\":\"white\",\"width\":0.5},\"pattern\":{\"fillmode\":\"overlay\",\"size\":10,\"solidity\":0.2}},\"type\":\"barpolar\"}],\"bar\":[{\"error_x\":{\"color\":\"#2a3f5f\"},\"error_y\":{\"color\":\"#2a3f5f\"},\"marker\":{\"line\":{\"color\":\"white\",\"width\":0.5},\"pattern\":{\"fillmode\":\"overlay\",\"size\":10,\"solidity\":0.2}},\"type\":\"bar\"}],\"carpet\":[{\"aaxis\":{\"endlinecolor\":\"#2a3f5f\",\"gridcolor\":\"#C8D4E3\",\"linecolor\":\"#C8D4E3\",\"minorgridcolor\":\"#C8D4E3\",\"startlinecolor\":\"#2a3f5f\"},\"baxis\":{\"endlinecolor\":\"#2a3f5f\",\"gridcolor\":\"#C8D4E3\",\"linecolor\":\"#C8D4E3\",\"minorgridcolor\":\"#C8D4E3\",\"startlinecolor\":\"#2a3f5f\"},\"type\":\"carpet\"}],\"choropleth\":[{\"colorbar\":{\"outlinewidth\":0,\"ticks\":\"\"},\"type\":\"choropleth\"}],\"contourcarpet\":[{\"colorbar\":{\"outlinewidth\":0,\"ticks\":\"\"},\"type\":\"contourcarpet\"}],\"contour\":[{\"colorbar\":{\"outlinewidth\":0,\"ticks\":\"\"},\"colorscale\":[[0.0,\"#0d0887\"],[0.1111111111111111,\"#46039f\"],[0.2222222222222222,\"#7201a8\"],[0.3333333333333333,\"#9c179e\"],[0.4444444444444444,\"#bd3786\"],[0.5555555555555556,\"#d8576b\"],[0.6666666666666666,\"#ed7953\"],[0.7777777777777778,\"#fb9f3a\"],[0.8888888888888888,\"#fdca26\"],[1.0,\"#f0f921\"]],\"type\":\"contour\"}],\"heatmapgl\":[{\"colorbar\":{\"outlinewidth\":0,\"ticks\":\"\"},\"colorscale\":[[0.0,\"#0d0887\"],[0.1111111111111111,\"#46039f\"],[0.2222222222222222,\"#7201a8\"],[0.3333333333333333,\"#9c179e\"],[0.4444444444444444,\"#bd3786\"],[0.5555555555555556,\"#d8576b\"],[0.6666666666666666,\"#ed7953\"],[0.7777777777777778,\"#fb9f3a\"],[0.8888888888888888,\"#fdca26\"],[1.0,\"#f0f921\"]],\"type\":\"heatmapgl\"}],\"heatmap\":[{\"colorbar\":{\"outlinewidth\":0,\"ticks\":\"\"},\"colorscale\":[[0.0,\"#0d0887\"],[0.1111111111111111,\"#46039f\"],[0.2222222222222222,\"#7201a8\"],[0.3333333333333333,\"#9c179e\"],[0.4444444444444444,\"#bd3786\"],[0.5555555555555556,\"#d8576b\"],[0.6666666666666666,\"#ed7953\"],[0.7777777777777778,\"#fb9f3a\"],[0.8888888888888888,\"#fdca26\"],[1.0,\"#f0f921\"]],\"type\":\"heatmap\"}],\"histogram2dcontour\":[{\"colorbar\":{\"outlinewidth\":0,\"ticks\":\"\"},\"colorscale\":[[0.0,\"#0d0887\"],[0.1111111111111111,\"#46039f\"],[0.2222222222222222,\"#7201a8\"],[0.3333333333333333,\"#9c179e\"],[0.4444444444444444,\"#bd3786\"],[0.5555555555555556,\"#d8576b\"],[0.6666666666666666,\"#ed7953\"],[0.7777777777777778,\"#fb9f3a\"],[0.8888888888888888,\"#fdca26\"],[1.0,\"#f0f921\"]],\"type\":\"histogram2dcontour\"}],\"histogram2d\":[{\"colorbar\":{\"outlinewidth\":0,\"ticks\":\"\"},\"colorscale\":[[0.0,\"#0d0887\"],[0.1111111111111111,\"#46039f\"],[0.2222222222222222,\"#7201a8\"],[0.3333333333333333,\"#9c179e\"],[0.4444444444444444,\"#bd3786\"],[0.5555555555555556,\"#d8576b\"],[0.6666666666666666,\"#ed7953\"],[0.7777777777777778,\"#fb9f3a\"],[0.8888888888888888,\"#fdca26\"],[1.0,\"#f0f921\"]],\"type\":\"histogram2d\"}],\"histogram\":[{\"marker\":{\"pattern\":{\"fillmode\":\"overlay\",\"size\":10,\"solidity\":0.2}},\"type\":\"histogram\"}],\"mesh3d\":[{\"colorbar\":{\"outlinewidth\":0,\"ticks\":\"\"},\"type\":\"mesh3d\"}],\"parcoords\":[{\"line\":{\"colorbar\":{\"outlinewidth\":0,\"ticks\":\"\"}},\"type\":\"parcoords\"}],\"pie\":[{\"automargin\":true,\"type\":\"pie\"}],\"scatter3d\":[{\"line\":{\"colorbar\":{\"outlinewidth\":0,\"ticks\":\"\"}},\"marker\":{\"colorbar\":{\"outlinewidth\":0,\"ticks\":\"\"}},\"type\":\"scatter3d\"}],\"scattercarpet\":[{\"marker\":{\"colorbar\":{\"outlinewidth\":0,\"ticks\":\"\"}},\"type\":\"scattercarpet\"}],\"scattergeo\":[{\"marker\":{\"colorbar\":{\"outlinewidth\":0,\"ticks\":\"\"}},\"type\":\"scattergeo\"}],\"scattergl\":[{\"marker\":{\"colorbar\":{\"outlinewidth\":0,\"ticks\":\"\"}},\"type\":\"scattergl\"}],\"scattermapbox\":[{\"marker\":{\"colorbar\":{\"outlinewidth\":0,\"ticks\":\"\"}},\"type\":\"scattermapbox\"}],\"scatterpolargl\":[{\"marker\":{\"colorbar\":{\"outlinewidth\":0,\"ticks\":\"\"}},\"type\":\"scatterpolargl\"}],\"scatterpolar\":[{\"marker\":{\"colorbar\":{\"outlinewidth\":0,\"ticks\":\"\"}},\"type\":\"scatterpolar\"}],\"scatter\":[{\"fillpattern\":{\"fillmode\":\"overlay\",\"size\":10,\"solidity\":0.2},\"type\":\"scatter\"}],\"scatterternary\":[{\"marker\":{\"colorbar\":{\"outlinewidth\":0,\"ticks\":\"\"}},\"type\":\"scatterternary\"}],\"surface\":[{\"colorbar\":{\"outlinewidth\":0,\"ticks\":\"\"},\"colorscale\":[[0.0,\"#0d0887\"],[0.1111111111111111,\"#46039f\"],[0.2222222222222222,\"#7201a8\"],[0.3333333333333333,\"#9c179e\"],[0.4444444444444444,\"#bd3786\"],[0.5555555555555556,\"#d8576b\"],[0.6666666666666666,\"#ed7953\"],[0.7777777777777778,\"#fb9f3a\"],[0.8888888888888888,\"#fdca26\"],[1.0,\"#f0f921\"]],\"type\":\"surface\"}],\"table\":[{\"cells\":{\"fill\":{\"color\":\"#EBF0F8\"},\"line\":{\"color\":\"white\"}},\"header\":{\"fill\":{\"color\":\"#C8D4E3\"},\"line\":{\"color\":\"white\"}},\"type\":\"table\"}]},\"layout\":{\"annotationdefaults\":{\"arrowcolor\":\"#2a3f5f\",\"arrowhead\":0,\"arrowwidth\":1},\"autotypenumbers\":\"strict\",\"coloraxis\":{\"colorbar\":{\"outlinewidth\":0,\"ticks\":\"\"}},\"colorscale\":{\"diverging\":[[0,\"#8e0152\"],[0.1,\"#c51b7d\"],[0.2,\"#de77ae\"],[0.3,\"#f1b6da\"],[0.4,\"#fde0ef\"],[0.5,\"#f7f7f7\"],[0.6,\"#e6f5d0\"],[0.7,\"#b8e186\"],[0.8,\"#7fbc41\"],[0.9,\"#4d9221\"],[1,\"#276419\"]],\"sequential\":[[0.0,\"#0d0887\"],[0.1111111111111111,\"#46039f\"],[0.2222222222222222,\"#7201a8\"],[0.3333333333333333,\"#9c179e\"],[0.4444444444444444,\"#bd3786\"],[0.5555555555555556,\"#d8576b\"],[0.6666666666666666,\"#ed7953\"],[0.7777777777777778,\"#fb9f3a\"],[0.8888888888888888,\"#fdca26\"],[1.0,\"#f0f921\"]],\"sequentialminus\":[[0.0,\"#0d0887\"],[0.1111111111111111,\"#46039f\"],[0.2222222222222222,\"#7201a8\"],[0.3333333333333333,\"#9c179e\"],[0.4444444444444444,\"#bd3786\"],[0.5555555555555556,\"#d8576b\"],[0.6666666666666666,\"#ed7953\"],[0.7777777777777778,\"#fb9f3a\"],[0.8888888888888888,\"#fdca26\"],[1.0,\"#f0f921\"]]},\"colorway\":[\"#636efa\",\"#EF553B\",\"#00cc96\",\"#ab63fa\",\"#FFA15A\",\"#19d3f3\",\"#FF6692\",\"#B6E880\",\"#FF97FF\",\"#FECB52\"],\"font\":{\"color\":\"#2a3f5f\"},\"geo\":{\"bgcolor\":\"white\",\"lakecolor\":\"white\",\"landcolor\":\"white\",\"showlakes\":true,\"showland\":true,\"subunitcolor\":\"#C8D4E3\"},\"hoverlabel\":{\"align\":\"left\"},\"hovermode\":\"closest\",\"mapbox\":{\"style\":\"light\"},\"paper_bgcolor\":\"white\",\"plot_bgcolor\":\"white\",\"polar\":{\"angularaxis\":{\"gridcolor\":\"#EBF0F8\",\"linecolor\":\"#EBF0F8\",\"ticks\":\"\"},\"bgcolor\":\"white\",\"radialaxis\":{\"gridcolor\":\"#EBF0F8\",\"linecolor\":\"#EBF0F8\",\"ticks\":\"\"}},\"scene\":{\"xaxis\":{\"backgroundcolor\":\"white\",\"gridcolor\":\"#DFE8F3\",\"gridwidth\":2,\"linecolor\":\"#EBF0F8\",\"showbackground\":true,\"ticks\":\"\",\"zerolinecolor\":\"#EBF0F8\"},\"yaxis\":{\"backgroundcolor\":\"white\",\"gridcolor\":\"#DFE8F3\",\"gridwidth\":2,\"linecolor\":\"#EBF0F8\",\"showbackground\":true,\"ticks\":\"\",\"zerolinecolor\":\"#EBF0F8\"},\"zaxis\":{\"backgroundcolor\":\"white\",\"gridcolor\":\"#DFE8F3\",\"gridwidth\":2,\"linecolor\":\"#EBF0F8\",\"showbackground\":true,\"ticks\":\"\",\"zerolinecolor\":\"#EBF0F8\"}},\"shapedefaults\":{\"line\":{\"color\":\"#2a3f5f\"}},\"ternary\":{\"aaxis\":{\"gridcolor\":\"#DFE8F3\",\"linecolor\":\"#A2B1C6\",\"ticks\":\"\"},\"baxis\":{\"gridcolor\":\"#DFE8F3\",\"linecolor\":\"#A2B1C6\",\"ticks\":\"\"},\"bgcolor\":\"white\",\"caxis\":{\"gridcolor\":\"#DFE8F3\",\"linecolor\":\"#A2B1C6\",\"ticks\":\"\"}},\"title\":{\"x\":0.05},\"xaxis\":{\"automargin\":true,\"gridcolor\":\"#EBF0F8\",\"linecolor\":\"#EBF0F8\",\"ticks\":\"\",\"title\":{\"standoff\":15},\"zerolinecolor\":\"#EBF0F8\",\"zerolinewidth\":2},\"yaxis\":{\"automargin\":true,\"gridcolor\":\"#EBF0F8\",\"linecolor\":\"#EBF0F8\",\"ticks\":\"\",\"title\":{\"standoff\":15},\"zerolinecolor\":\"#EBF0F8\",\"zerolinewidth\":2}}},\"shapes\":[{\"line\":{\"color\":\"rgba(254, 203, 82, 0.8)\",\"dash\":\"dot\",\"width\":2.5},\"name\":\"No feature selection\",\"showlegend\":true,\"type\":\"line\",\"x0\":-0.45,\"x1\":0.45,\"xref\":\"x\",\"y0\":0.7526819006133763,\"y1\":0.7526819006133763,\"yref\":\"y\"},{\"line\":{\"color\":\"rgba(254, 203, 82, 0.8)\",\"dash\":\"dot\",\"width\":2.5},\"name\":\"No feature selection\",\"showlegend\":false,\"type\":\"line\",\"x0\":0.55,\"x1\":1.45,\"xref\":\"x\",\"y0\":0.8501987577639752,\"y1\":0.8501987577639752,\"yref\":\"y\"},{\"line\":{\"color\":\"rgba(254, 203, 82, 0.8)\",\"dash\":\"dot\",\"width\":2.5},\"name\":\"No feature selection\",\"showlegend\":false,\"type\":\"line\",\"x0\":1.55,\"x1\":2.45,\"xref\":\"x\",\"y0\":0.8542083496582646,\"y1\":0.8542083496582646,\"yref\":\"y\"},{\"line\":{\"color\":\"rgba(254, 203, 82, 0.8)\",\"dash\":\"dot\",\"width\":2.5},\"name\":\"No feature selection\",\"showlegend\":false,\"type\":\"line\",\"x0\":2.55,\"x1\":3.45,\"xref\":\"x\",\"y0\":0.7794944071588368,\"y1\":0.7794944071588368,\"yref\":\"y\"},{\"line\":{\"color\":\"rgba(254, 203, 82, 0.8)\",\"dash\":\"dot\",\"width\":2.5},\"name\":\"No feature selection\",\"showlegend\":false,\"type\":\"line\",\"x0\":3.55,\"x1\":4.45,\"xref\":\"x\",\"y0\":0.934810731993186,\"y1\":0.934810731993186,\"yref\":\"y\"},{\"line\":{\"color\":\"rgba(254, 203, 82, 0.8)\",\"dash\":\"dot\",\"width\":2.5},\"name\":\"No feature selection\",\"showlegend\":false,\"type\":\"line\",\"x0\":4.55,\"x1\":5.45,\"xref\":\"x\",\"y0\":0.826506262159533,\"y1\":0.826506262159533,\"yref\":\"y\"},{\"line\":{\"color\":\"rgba(254, 203, 82, 0.8)\",\"dash\":\"dot\",\"width\":2.5},\"name\":\"No feature selection\",\"showlegend\":false,\"type\":\"line\",\"x0\":5.55,\"x1\":6.45,\"xref\":\"x\",\"y0\":0.6144772903747607,\"y1\":0.6144772903747607,\"yref\":\"y\"}],\"yaxis\":{\"title\":{\"text\":\"Balanced accuracy\"}}},                        {\"responsive\": true}                    ).then(function(){\n",
       "                            \n",
       "var gd = document.getElementById('62ac3898-90d1-4919-8d0f-2b9590706e3a');\n",
       "var x = new MutationObserver(function (mutations, observer) {{\n",
       "        var display = window.getComputedStyle(gd).display;\n",
       "        if (!display || display === 'none') {{\n",
       "            console.log([gd, 'removed!']);\n",
       "            Plotly.purge(gd);\n",
       "            observer.disconnect();\n",
       "        }}\n",
       "}});\n",
       "\n",
       "// Listen for the removal of the full notebook cells\n",
       "var notebookContainer = gd.closest('#notebook-container');\n",
       "if (notebookContainer) {{\n",
       "    x.observe(notebookContainer, {childList: true});\n",
       "}}\n",
       "\n",
       "// Listen for the clearing of the current output cell\n",
       "var outputEl = gd.closest('.output');\n",
       "if (outputEl) {{\n",
       "    x.observe(outputEl, {childList: true});\n",
       "}}\n",
       "\n",
       "                        })                };                });            </script>        </div>"
      ]
     },
     "metadata": {},
     "output_type": "display_data"
    }
   ],
   "source": [
    "cos_model = \"KNN\"\n",
    "cos_feat_percent = 0.1\n",
    "\n",
    "cos_df = fs_ds_scores_df.query(\n",
    "    \"opt_metric==@OPTIMIZATION_METRIC \"\n",
    "    \"and model==@cos_model \"\n",
    "    \"and features_percent==@cos_feat_percent \"\n",
    ")\n",
    "\n",
    "cos_df = cos_df[[\n",
    "        \"dataset\",\n",
    "        \"cluster\",\n",
    "        \"selection_method\",\n",
    "        \"features_percent\",        \n",
    "        f\"{EVALUATION_METRIC}_mean\", \n",
    "        f\"{EVALUATION_METRIC}_std\", \n",
    "]].replace({\"selection_method\": fs_name_mapping})\n",
    "\n",
    "fig = go.Figure(layout=layout)\n",
    "\n",
    "for sel_method_i, sel_method in enumerate(cos_df[\"selection_method\"].unique()):\n",
    "    plot_data = cos_df.query(\"selection_method==@sel_method\")\n",
    "    fig.add_trace(go.Bar(\n",
    "        name=sel_method, \n",
    "        x=plot_data[\"dataset\"], \n",
    "        y=plot_data[f\"{EVALUATION_METRIC}_mean\"],\n",
    "        error_y=dict(\n",
    "                    type=\"data\", \n",
    "                    array=plot_data[f\"{EVALUATION_METRIC}_std\"],\n",
    "                    color=\"rgba(0, 0, 0, 0.7)\"\n",
    "                    ),\n",
    "        marker_color=COLORS[sel_method_i]\n",
    "    ))\n",
    "    \n",
    "    \n",
    "# Adding lines of non feature selection scores    \n",
    "cos_df = fs_ds_scores_df.query(\n",
    "    \"opt_metric==@OPTIMIZATION_METRIC \"\n",
    "    \"and model==@cos_model \"\n",
    "    \"and features_percent==1 \"\n",
    ")\n",
    "\n",
    "plot_data = cos_df.drop([\"selection_method\"], axis=1).drop_duplicates()\n",
    "\n",
    "for ds_i, ds in enumerate(cos_df[\"dataset\"].unique()):\n",
    "    nfs_metric = plot_data.query(\"dataset==@ds\")[f\"{EVALUATION_METRIC}_mean\"].values[0]\n",
    "    fig.add_shape(type=\"line\",\n",
    "                    x0=ds_i - 0.45,\n",
    "                    y0=nfs_metric,\n",
    "                    x1=ds_i + 0.45,\n",
    "                    y1=nfs_metric,\n",
    "                    line=dict(color=COLORS[-1], width=2.5, dash=\"dot\"),\n",
    "                    xref=\"x\",\n",
    "                    yref=\"y\",\n",
    "                    name=\"No feature selection\",\n",
    "                    showlegend=True if ds_i == 0 else False\n",
    "    )\n",
    "\n",
    "fig.update_layout(\n",
    "    yaxis_title = \"Balanced accuracy\"\n",
    ")\n",
    "\n",
    "fig.show()\n",
    "fig.write_image(os.path.join(ASSETS_DIR, f\"results_dataset_{cos_model}_{cos_feat_percent}.svg\"), scale=IMG_SCALE)"
   ]
  },
  {
   "cell_type": "code",
   "execution_count": null,
   "id": "5fa0817f-2182-4553-bd5c-9c0d85a7653b",
   "metadata": {},
   "outputs": [],
   "source": []
  },
  {
   "cell_type": "code",
   "execution_count": null,
   "id": "2d011850-7058-4c40-a704-e2aa5f187a12",
   "metadata": {},
   "outputs": [],
   "source": []
  }
 ],
 "metadata": {
  "kernelspec": {
   "display_name": "Python 3 (ipykernel)",
   "language": "python",
   "name": "python3"
  },
  "language_info": {
   "codemirror_mode": {
    "name": "ipython",
    "version": 3
   },
   "file_extension": ".py",
   "mimetype": "text/x-python",
   "name": "python",
   "nbconvert_exporter": "python",
   "pygments_lexer": "ipython3",
   "version": "3.11.7"
  }
 },
 "nbformat": 4,
 "nbformat_minor": 5
}
