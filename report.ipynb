{
 "cells": [
  {
   "cell_type": "markdown",
   "id": "f1b19628",
   "metadata": {},
   "source": [
    "# Report"
   ]
  },
  {
   "cell_type": "code",
   "execution_count": 1,
   "id": "3d4c4913",
   "metadata": {},
   "outputs": [
    {
     "name": "stdout",
     "output_type": "stream",
     "text": [
      "INFO:openml.config:No config file found at /home/uriel/.config/openml/config, using default configuration.\n"
     ]
    }
   ],
   "source": [
    "from config import ASSETS_DIR, HYPERPARAMETERS_FILE, DATA_BASE_DIR, SEED\n",
    "from utils import log, reporting, attention\n",
    "import os\n",
    "import json\n",
    "import numpy as np\n",
    "import plotly\n",
    "import plotly.graph_objects as go\n",
    "import pandas as pd\n",
    "from sklearn import cluster, decomposition, manifold\n",
    "import torch\n",
    "\n",
    "logger = log.get_logger()"
   ]
  },
  {
   "cell_type": "markdown",
   "id": "42547e49",
   "metadata": {},
   "source": [
    "## General configurations and functions"
   ]
  },
  {
   "cell_type": "code",
   "execution_count": 2,
   "id": "5beccf8b",
   "metadata": {},
   "outputs": [],
   "source": [
    "OPTIMIZATION_METRIC = \"log_loss\"\n",
    "OPTIMIZATION_MODE = \"min\"\n",
    "EVALUATION_METRIC = \"balanced_accuracy\"\n",
    "\n",
    "MAPPINGS = {\n",
    "    \"dataset_name\": {\n",
    "            \"jasmine\": \"jasmine\",\n",
    "            \"anneal\": \"anneal\",\n",
    "            \"australian\": \"australian\",\n",
    "            \"kr-vs-kp\": \"kr-vs-kp\",\n",
    "            \"sylvine\": \"sylvine\",\n",
    "            \"nomao\": \"nomao\",\n",
    "            \"volkert\": \"volkert\",\n",
    "            \"adult\": \"adult\",\n",
    "            \"ldpa\": \"ldpa\"\n",
    "        },\n",
    "    \"aggregator_name\": {\n",
    "        \"cls\": \"CLS\",\n",
    "        \"concatenate\": \"CAT\",\n",
    "        \"max\": \"MAX\",\n",
    "        \"mean\": \"AVG\",\n",
    "        \"rnn\": \"RNN\",\n",
    "        \"sum\": \"SUM\",\n",
    "    }\n",
    "}\n",
    "\n",
    "DATASET_ORDER = [\"jasmine\", \"anneal\", \"australian\", \"kr-vs-kp\", \"sylvine\", \"nomao\", \"volkert\", \"adult\", \"ldpa\"]\n",
    "AGGREGATOR_ORDER = [\"CLS\", \"CAT\", \"RNN\", \"MAX\", \"AVG\", \"SUM\"]\n",
    "FEATURE_SELECTION_ORDER = [\"attention\", \"decision_tree\", \"linear_model\", \"f_classif\", \"random\"]\n",
    "    \n",
    "COLORS = [\"#ffc5de\", \"#ffefd8\", \"#c7f7f7\", \"#d1d1d1\", \"#bedfff\", \"#e1c5ff\"]\n",
    "COLORS = plotly.colors.qualitative.Plotly\n",
    "\n",
    "HP_IMPORTANCE_TOP_K = [1, 5]\n",
    "IMG_SCALE = 2.5"
   ]
  },
  {
   "cell_type": "code",
   "execution_count": 3,
   "id": "a7c6f9c4",
   "metadata": {},
   "outputs": [],
   "source": [
    "if not os.path.exists(ASSETS_DIR):\n",
    "    os.makedirs(ASSETS_DIR)"
   ]
  },
  {
   "cell_type": "markdown",
   "id": "7ab6926a",
   "metadata": {},
   "source": [
    "## Best validation models"
   ]
  },
  {
   "cell_type": "code",
   "execution_count": 4,
   "id": "37c7b0cb",
   "metadata": {},
   "outputs": [],
   "source": [
    "def num_as_str(x):\n",
    "    return \"{0:.3f}\".format(x)"
   ]
  },
  {
   "cell_type": "code",
   "execution_count": 5,
   "id": "6bf43595",
   "metadata": {},
   "outputs": [
    {
     "data": {
      "text/html": [
       "<div>\n",
       "<style scoped>\n",
       "    .dataframe tbody tr th:only-of-type {\n",
       "        vertical-align: middle;\n",
       "    }\n",
       "\n",
       "    .dataframe tbody tr th {\n",
       "        vertical-align: top;\n",
       "    }\n",
       "\n",
       "    .dataframe thead th {\n",
       "        text-align: right;\n",
       "    }\n",
       "</style>\n",
       "<table border=\"1\" class=\"dataframe\">\n",
       "  <thead>\n",
       "    <tr style=\"text-align: right;\">\n",
       "      <th></th>\n",
       "      <th>dataset</th>\n",
       "      <th>aggregator</th>\n",
       "      <th>architecture_name</th>\n",
       "      <th>attn_dropout</th>\n",
       "      <th>embed_dim</th>\n",
       "      <th>ff_dropout</th>\n",
       "      <th>n_head</th>\n",
       "      <th>n_layers</th>\n",
       "      <th>numerical_passthrough</th>\n",
       "      <th>optimizer__lr</th>\n",
       "      <th>...</th>\n",
       "      <th>log_loss_mean</th>\n",
       "      <th>log_loss_std</th>\n",
       "      <th>roc_auc_mean</th>\n",
       "      <th>roc_auc_std</th>\n",
       "      <th>f1_mean</th>\n",
       "      <th>f1_std</th>\n",
       "      <th>precision_mean</th>\n",
       "      <th>precision_std</th>\n",
       "      <th>recall_mean</th>\n",
       "      <th>recall_std</th>\n",
       "    </tr>\n",
       "  </thead>\n",
       "  <tbody>\n",
       "    <tr>\n",
       "      <th>0</th>\n",
       "      <td>adult</td>\n",
       "      <td>CLS</td>\n",
       "      <td>A0</td>\n",
       "      <td>0.3</td>\n",
       "      <td>128</td>\n",
       "      <td>0.1</td>\n",
       "      <td>4</td>\n",
       "      <td>2</td>\n",
       "      <td>True</td>\n",
       "      <td>0.0001</td>\n",
       "      <td>...</td>\n",
       "      <td>0.313841</td>\n",
       "      <td>0.005949</td>\n",
       "      <td>0.782128</td>\n",
       "      <td>0.007264</td>\n",
       "      <td>0.905666</td>\n",
       "      <td>0.002347</td>\n",
       "      <td>0.891128</td>\n",
       "      <td>0.004609</td>\n",
       "      <td>0.920736</td>\n",
       "      <td>0.006608</td>\n",
       "    </tr>\n",
       "    <tr>\n",
       "      <th>1</th>\n",
       "      <td>adult</td>\n",
       "      <td>CLS</td>\n",
       "      <td>A1</td>\n",
       "      <td>0.3</td>\n",
       "      <td>128</td>\n",
       "      <td>0.1</td>\n",
       "      <td>4</td>\n",
       "      <td>2</td>\n",
       "      <td>False</td>\n",
       "      <td>0.0001</td>\n",
       "      <td>...</td>\n",
       "      <td>0.298849</td>\n",
       "      <td>0.006955</td>\n",
       "      <td>0.786045</td>\n",
       "      <td>0.006501</td>\n",
       "      <td>0.910700</td>\n",
       "      <td>0.002980</td>\n",
       "      <td>0.891587</td>\n",
       "      <td>0.004097</td>\n",
       "      <td>0.930703</td>\n",
       "      <td>0.007685</td>\n",
       "    </tr>\n",
       "    <tr>\n",
       "      <th>2</th>\n",
       "      <td>adult</td>\n",
       "      <td>CLS</td>\n",
       "      <td>A10</td>\n",
       "      <td>0.3</td>\n",
       "      <td>128</td>\n",
       "      <td>0.1</td>\n",
       "      <td>8</td>\n",
       "      <td>3</td>\n",
       "      <td>True</td>\n",
       "      <td>0.0001</td>\n",
       "      <td>...</td>\n",
       "      <td>0.316315</td>\n",
       "      <td>0.005494</td>\n",
       "      <td>0.781634</td>\n",
       "      <td>0.011839</td>\n",
       "      <td>0.904706</td>\n",
       "      <td>0.002698</td>\n",
       "      <td>0.891279</td>\n",
       "      <td>0.007803</td>\n",
       "      <td>0.918682</td>\n",
       "      <td>0.010316</td>\n",
       "    </tr>\n",
       "    <tr>\n",
       "      <th>3</th>\n",
       "      <td>adult</td>\n",
       "      <td>CLS</td>\n",
       "      <td>A11</td>\n",
       "      <td>0.3</td>\n",
       "      <td>128</td>\n",
       "      <td>0.1</td>\n",
       "      <td>8</td>\n",
       "      <td>3</td>\n",
       "      <td>False</td>\n",
       "      <td>0.0001</td>\n",
       "      <td>...</td>\n",
       "      <td>0.299645</td>\n",
       "      <td>0.006269</td>\n",
       "      <td>0.790115</td>\n",
       "      <td>0.006428</td>\n",
       "      <td>0.910603</td>\n",
       "      <td>0.002414</td>\n",
       "      <td>0.894338</td>\n",
       "      <td>0.004550</td>\n",
       "      <td>0.927537</td>\n",
       "      <td>0.008208</td>\n",
       "    </tr>\n",
       "    <tr>\n",
       "      <th>4</th>\n",
       "      <td>adult</td>\n",
       "      <td>CLS</td>\n",
       "      <td>A12</td>\n",
       "      <td>0.3</td>\n",
       "      <td>128</td>\n",
       "      <td>0.1</td>\n",
       "      <td>8</td>\n",
       "      <td>4</td>\n",
       "      <td>True</td>\n",
       "      <td>0.0001</td>\n",
       "      <td>...</td>\n",
       "      <td>0.317639</td>\n",
       "      <td>0.006076</td>\n",
       "      <td>0.781732</td>\n",
       "      <td>0.010861</td>\n",
       "      <td>0.904602</td>\n",
       "      <td>0.002478</td>\n",
       "      <td>0.891367</td>\n",
       "      <td>0.007112</td>\n",
       "      <td>0.918345</td>\n",
       "      <td>0.009063</td>\n",
       "    </tr>\n",
       "    <tr>\n",
       "      <th>...</th>\n",
       "      <td>...</td>\n",
       "      <td>...</td>\n",
       "      <td>...</td>\n",
       "      <td>...</td>\n",
       "      <td>...</td>\n",
       "      <td>...</td>\n",
       "      <td>...</td>\n",
       "      <td>...</td>\n",
       "      <td>...</td>\n",
       "      <td>...</td>\n",
       "      <td>...</td>\n",
       "      <td>...</td>\n",
       "      <td>...</td>\n",
       "      <td>...</td>\n",
       "      <td>...</td>\n",
       "      <td>...</td>\n",
       "      <td>...</td>\n",
       "      <td>...</td>\n",
       "      <td>...</td>\n",
       "      <td>...</td>\n",
       "      <td>...</td>\n",
       "    </tr>\n",
       "    <tr>\n",
       "      <th>3067</th>\n",
       "      <td>volkert</td>\n",
       "      <td>SUM</td>\n",
       "      <td>A59</td>\n",
       "      <td>0.3</td>\n",
       "      <td>256</td>\n",
       "      <td>0.1</td>\n",
       "      <td>32</td>\n",
       "      <td>3</td>\n",
       "      <td>False</td>\n",
       "      <td>0.0001</td>\n",
       "      <td>...</td>\n",
       "      <td>0.986028</td>\n",
       "      <td>0.016224</td>\n",
       "      <td>NaN</td>\n",
       "      <td>NaN</td>\n",
       "      <td>NaN</td>\n",
       "      <td>NaN</td>\n",
       "      <td>NaN</td>\n",
       "      <td>NaN</td>\n",
       "      <td>NaN</td>\n",
       "      <td>NaN</td>\n",
       "    </tr>\n",
       "    <tr>\n",
       "      <th>3068</th>\n",
       "      <td>volkert</td>\n",
       "      <td>SUM</td>\n",
       "      <td>A61</td>\n",
       "      <td>0.3</td>\n",
       "      <td>256</td>\n",
       "      <td>0.1</td>\n",
       "      <td>32</td>\n",
       "      <td>4</td>\n",
       "      <td>False</td>\n",
       "      <td>0.0001</td>\n",
       "      <td>...</td>\n",
       "      <td>0.989968</td>\n",
       "      <td>0.018868</td>\n",
       "      <td>NaN</td>\n",
       "      <td>NaN</td>\n",
       "      <td>NaN</td>\n",
       "      <td>NaN</td>\n",
       "      <td>NaN</td>\n",
       "      <td>NaN</td>\n",
       "      <td>NaN</td>\n",
       "      <td>NaN</td>\n",
       "    </tr>\n",
       "    <tr>\n",
       "      <th>3069</th>\n",
       "      <td>volkert</td>\n",
       "      <td>SUM</td>\n",
       "      <td>A63</td>\n",
       "      <td>0.3</td>\n",
       "      <td>256</td>\n",
       "      <td>0.1</td>\n",
       "      <td>32</td>\n",
       "      <td>5</td>\n",
       "      <td>False</td>\n",
       "      <td>0.0001</td>\n",
       "      <td>...</td>\n",
       "      <td>1.002055</td>\n",
       "      <td>0.019389</td>\n",
       "      <td>NaN</td>\n",
       "      <td>NaN</td>\n",
       "      <td>NaN</td>\n",
       "      <td>NaN</td>\n",
       "      <td>NaN</td>\n",
       "      <td>NaN</td>\n",
       "      <td>NaN</td>\n",
       "      <td>NaN</td>\n",
       "    </tr>\n",
       "    <tr>\n",
       "      <th>3070</th>\n",
       "      <td>volkert</td>\n",
       "      <td>SUM</td>\n",
       "      <td>A7</td>\n",
       "      <td>0.3</td>\n",
       "      <td>128</td>\n",
       "      <td>0.1</td>\n",
       "      <td>4</td>\n",
       "      <td>5</td>\n",
       "      <td>False</td>\n",
       "      <td>0.0001</td>\n",
       "      <td>...</td>\n",
       "      <td>0.995919</td>\n",
       "      <td>0.014608</td>\n",
       "      <td>NaN</td>\n",
       "      <td>NaN</td>\n",
       "      <td>NaN</td>\n",
       "      <td>NaN</td>\n",
       "      <td>NaN</td>\n",
       "      <td>NaN</td>\n",
       "      <td>NaN</td>\n",
       "      <td>NaN</td>\n",
       "    </tr>\n",
       "    <tr>\n",
       "      <th>3071</th>\n",
       "      <td>volkert</td>\n",
       "      <td>SUM</td>\n",
       "      <td>A9</td>\n",
       "      <td>0.3</td>\n",
       "      <td>128</td>\n",
       "      <td>0.1</td>\n",
       "      <td>8</td>\n",
       "      <td>2</td>\n",
       "      <td>False</td>\n",
       "      <td>0.0001</td>\n",
       "      <td>...</td>\n",
       "      <td>0.976823</td>\n",
       "      <td>0.016513</td>\n",
       "      <td>NaN</td>\n",
       "      <td>NaN</td>\n",
       "      <td>NaN</td>\n",
       "      <td>NaN</td>\n",
       "      <td>NaN</td>\n",
       "      <td>NaN</td>\n",
       "      <td>NaN</td>\n",
       "      <td>NaN</td>\n",
       "    </tr>\n",
       "  </tbody>\n",
       "</table>\n",
       "<p>3072 rows × 29 columns</p>\n",
       "</div>"
      ],
      "text/plain": [
       "      dataset aggregator architecture_name  attn_dropout  embed_dim  \\\n",
       "0       adult        CLS                A0           0.3        128   \n",
       "1       adult        CLS                A1           0.3        128   \n",
       "2       adult        CLS               A10           0.3        128   \n",
       "3       adult        CLS               A11           0.3        128   \n",
       "4       adult        CLS               A12           0.3        128   \n",
       "...       ...        ...               ...           ...        ...   \n",
       "3067  volkert        SUM               A59           0.3        256   \n",
       "3068  volkert        SUM               A61           0.3        256   \n",
       "3069  volkert        SUM               A63           0.3        256   \n",
       "3070  volkert        SUM                A7           0.3        128   \n",
       "3071  volkert        SUM                A9           0.3        128   \n",
       "\n",
       "      ff_dropout  n_head  n_layers  numerical_passthrough  optimizer__lr  ...  \\\n",
       "0            0.1       4         2                   True         0.0001  ...   \n",
       "1            0.1       4         2                  False         0.0001  ...   \n",
       "2            0.1       8         3                   True         0.0001  ...   \n",
       "3            0.1       8         3                  False         0.0001  ...   \n",
       "4            0.1       8         4                   True         0.0001  ...   \n",
       "...          ...     ...       ...                    ...            ...  ...   \n",
       "3067         0.1      32         3                  False         0.0001  ...   \n",
       "3068         0.1      32         4                  False         0.0001  ...   \n",
       "3069         0.1      32         5                  False         0.0001  ...   \n",
       "3070         0.1       4         5                  False         0.0001  ...   \n",
       "3071         0.1       8         2                  False         0.0001  ...   \n",
       "\n",
       "      log_loss_mean log_loss_std  roc_auc_mean  roc_auc_std   f1_mean  \\\n",
       "0          0.313841     0.005949      0.782128     0.007264  0.905666   \n",
       "1          0.298849     0.006955      0.786045     0.006501  0.910700   \n",
       "2          0.316315     0.005494      0.781634     0.011839  0.904706   \n",
       "3          0.299645     0.006269      0.790115     0.006428  0.910603   \n",
       "4          0.317639     0.006076      0.781732     0.010861  0.904602   \n",
       "...             ...          ...           ...          ...       ...   \n",
       "3067       0.986028     0.016224           NaN          NaN       NaN   \n",
       "3068       0.989968     0.018868           NaN          NaN       NaN   \n",
       "3069       1.002055     0.019389           NaN          NaN       NaN   \n",
       "3070       0.995919     0.014608           NaN          NaN       NaN   \n",
       "3071       0.976823     0.016513           NaN          NaN       NaN   \n",
       "\n",
       "        f1_std  precision_mean  precision_std  recall_mean  recall_std  \n",
       "0     0.002347        0.891128       0.004609     0.920736    0.006608  \n",
       "1     0.002980        0.891587       0.004097     0.930703    0.007685  \n",
       "2     0.002698        0.891279       0.007803     0.918682    0.010316  \n",
       "3     0.002414        0.894338       0.004550     0.927537    0.008208  \n",
       "4     0.002478        0.891367       0.007112     0.918345    0.009063  \n",
       "...        ...             ...            ...          ...         ...  \n",
       "3067       NaN             NaN            NaN          NaN         NaN  \n",
       "3068       NaN             NaN            NaN          NaN         NaN  \n",
       "3069       NaN             NaN            NaN          NaN         NaN  \n",
       "3070       NaN             NaN            NaN          NaN         NaN  \n",
       "3071       NaN             NaN            NaN          NaN         NaN  \n",
       "\n",
       "[3072 rows x 29 columns]"
      ]
     },
     "execution_count": 5,
     "metadata": {},
     "output_type": "execute_result"
    }
   ],
   "source": [
    "# Compute mean and std for each metric\n",
    "# Compute mean and std for each metric\n",
    "best_archs = pd.read_csv(\"cross_validation_scores.csv\")\n",
    "\n",
    "best_archs[\"dataset\"] = best_archs[\"dataset\"].replace(MAPPINGS[\"dataset_name\"])\n",
    "best_archs[\"aggregator\"] = best_archs[\"aggregator\"].replace(MAPPINGS[\"aggregator_name\"])\n",
    "best_archs[f\"{EVALUATION_METRIC}_mean\"] = best_archs[f\"{EVALUATION_METRIC}_mean\"] * 100\n",
    "best_archs[f\"{EVALUATION_METRIC}_std\"] = best_archs[f\"{EVALUATION_METRIC}_std\"] * 100\n",
    "\n",
    "assert best_archs.shape[0] == 3072, \"The number of aggregated executions is wrong\"\n",
    "best_archs"
   ]
  },
  {
   "cell_type": "code",
   "execution_count": 6,
   "id": "5ab8ed6b",
   "metadata": {},
   "outputs": [],
   "source": [
    "# Load hyperparameter space\n",
    "with open(HYPERPARAMETERS_FILE, \"r\") as f:\n",
    "    hyperparameters = json.load(f)\n",
    "    \n",
    "hyperparameters = {\n",
    "    **hyperparameters[\"parameters\"],\n",
    "    **hyperparameters[\"rnn_parameters\"],\n",
    "}\n",
    "\n",
    "fixed_hyperparameters = { k: v[0] for k, v in hyperparameters.items() if len(v) == 1 }\n",
    "search_hyperparameters = { k: v for k, v in hyperparameters.items() if len(v) > 1 }"
   ]
  },
  {
   "cell_type": "markdown",
   "id": "54850230",
   "metadata": {},
   "source": [
    "### Per dataset & aggregator"
   ]
  },
  {
   "cell_type": "code",
   "execution_count": 7,
   "id": "65a19f2e",
   "metadata": {},
   "outputs": [
    {
     "data": {
      "text/html": [
       "<div>\n",
       "<style scoped>\n",
       "    .dataframe tbody tr th:only-of-type {\n",
       "        vertical-align: middle;\n",
       "    }\n",
       "\n",
       "    .dataframe tbody tr th {\n",
       "        vertical-align: top;\n",
       "    }\n",
       "\n",
       "    .dataframe thead th {\n",
       "        text-align: right;\n",
       "    }\n",
       "</style>\n",
       "<table border=\"1\" class=\"dataframe\">\n",
       "  <thead>\n",
       "    <tr style=\"text-align: right;\">\n",
       "      <th></th>\n",
       "      <th></th>\n",
       "      <th>CLS</th>\n",
       "      <th>CAT</th>\n",
       "      <th>RNN</th>\n",
       "      <th>MAX</th>\n",
       "      <th>AVG</th>\n",
       "      <th>SUM</th>\n",
       "    </tr>\n",
       "  </thead>\n",
       "  <tbody>\n",
       "    <tr>\n",
       "      <th>3</th>\n",
       "      <td>jasmine</td>\n",
       "      <td>$81.201 \\pm 1.161$</td>\n",
       "      <td>$80.352 \\pm 1.511$</td>\n",
       "      <td>$82.381 \\pm 0.795$</td>\n",
       "      <td>$81.763 \\pm 1.771$</td>\n",
       "      <td>$81.421 \\pm 1.468$</td>\n",
       "      <td>$80.560 \\pm 1.277$</td>\n",
       "    </tr>\n",
       "    <tr>\n",
       "      <th>1</th>\n",
       "      <td>anneal</td>\n",
       "      <td>$95.677 \\pm 8.887$</td>\n",
       "      <td>$95.260 \\pm 8.680$</td>\n",
       "      <td>$90.594 \\pm 11.434$</td>\n",
       "      <td>$91.224 \\pm 10.439$</td>\n",
       "      <td>$91.391 \\pm 11.575$</td>\n",
       "      <td>$90.477 \\pm 10.815$</td>\n",
       "    </tr>\n",
       "    <tr>\n",
       "      <th>2</th>\n",
       "      <td>australian</td>\n",
       "      <td>$85.082 \\pm 2.604$</td>\n",
       "      <td>$86.107 \\pm 3.312$</td>\n",
       "      <td>$85.565 \\pm 3.405$</td>\n",
       "      <td>$86.261 \\pm 3.544$</td>\n",
       "      <td>$86.008 \\pm 3.801$</td>\n",
       "      <td>$86.679 \\pm 2.629$</td>\n",
       "    </tr>\n",
       "    <tr>\n",
       "      <th>4</th>\n",
       "      <td>kr-vs-kp</td>\n",
       "      <td>$99.802 \\pm 0.245$</td>\n",
       "      <td>$99.884 \\pm 0.169$</td>\n",
       "      <td>$99.649 \\pm 0.167$</td>\n",
       "      <td>$99.760 \\pm 0.219$</td>\n",
       "      <td>$99.756 \\pm 0.168$</td>\n",
       "      <td>$99.715 \\pm 0.108$</td>\n",
       "    </tr>\n",
       "    <tr>\n",
       "      <th>7</th>\n",
       "      <td>sylvine</td>\n",
       "      <td>$94.890 \\pm 0.404$</td>\n",
       "      <td>$94.110 \\pm 0.327$</td>\n",
       "      <td>$94.621 \\pm 0.632$</td>\n",
       "      <td>$94.524 \\pm 0.454$</td>\n",
       "      <td>$94.276 \\pm 0.714$</td>\n",
       "      <td>$94.060 \\pm 0.493$</td>\n",
       "    </tr>\n",
       "    <tr>\n",
       "      <th>6</th>\n",
       "      <td>nomao</td>\n",
       "      <td>$nan \\pm nan$</td>\n",
       "      <td>$nan \\pm nan$</td>\n",
       "      <td>$nan \\pm nan$</td>\n",
       "      <td>$nan \\pm nan$</td>\n",
       "      <td>$nan \\pm nan$</td>\n",
       "      <td>$nan \\pm nan$</td>\n",
       "    </tr>\n",
       "    <tr>\n",
       "      <th>8</th>\n",
       "      <td>volkert</td>\n",
       "      <td>$61.911 \\pm 0.487$</td>\n",
       "      <td>$56.803 \\pm 0.580$</td>\n",
       "      <td>$60.847 \\pm 0.879$</td>\n",
       "      <td>$60.319 \\pm 0.381$</td>\n",
       "      <td>$59.238 \\pm 0.503$</td>\n",
       "      <td>$57.954 \\pm 1.138$</td>\n",
       "    </tr>\n",
       "    <tr>\n",
       "      <th>0</th>\n",
       "      <td>adult</td>\n",
       "      <td>$78.604 \\pm 0.650$</td>\n",
       "      <td>$79.006 \\pm 1.302$</td>\n",
       "      <td>$79.007 \\pm 1.168$</td>\n",
       "      <td>$78.759 \\pm 1.269$</td>\n",
       "      <td>$78.900 \\pm 1.124$</td>\n",
       "      <td>$78.311 \\pm 1.142$</td>\n",
       "    </tr>\n",
       "    <tr>\n",
       "      <th>5</th>\n",
       "      <td>ldpa</td>\n",
       "      <td>$56.023 \\pm 0.431$</td>\n",
       "      <td>$nan \\pm nan$</td>\n",
       "      <td>$nan \\pm nan$</td>\n",
       "      <td>$nan \\pm nan$</td>\n",
       "      <td>$nan \\pm nan$</td>\n",
       "      <td>$nan \\pm nan$</td>\n",
       "    </tr>\n",
       "  </tbody>\n",
       "</table>\n",
       "</div>"
      ],
      "text/plain": [
       "                              CLS                 CAT                  RNN  \\\n",
       "3     jasmine  $81.201 \\pm 1.161$  $80.352 \\pm 1.511$   $82.381 \\pm 0.795$   \n",
       "1      anneal  $95.677 \\pm 8.887$  $95.260 \\pm 8.680$  $90.594 \\pm 11.434$   \n",
       "2  australian  $85.082 \\pm 2.604$  $86.107 \\pm 3.312$   $85.565 \\pm 3.405$   \n",
       "4    kr-vs-kp  $99.802 \\pm 0.245$  $99.884 \\pm 0.169$   $99.649 \\pm 0.167$   \n",
       "7     sylvine  $94.890 \\pm 0.404$  $94.110 \\pm 0.327$   $94.621 \\pm 0.632$   \n",
       "6       nomao       $nan \\pm nan$       $nan \\pm nan$        $nan \\pm nan$   \n",
       "8     volkert  $61.911 \\pm 0.487$  $56.803 \\pm 0.580$   $60.847 \\pm 0.879$   \n",
       "0       adult  $78.604 \\pm 0.650$  $79.006 \\pm 1.302$   $79.007 \\pm 1.168$   \n",
       "5        ldpa  $56.023 \\pm 0.431$       $nan \\pm nan$        $nan \\pm nan$   \n",
       "\n",
       "                   MAX                  AVG                  SUM  \n",
       "3   $81.763 \\pm 1.771$   $81.421 \\pm 1.468$   $80.560 \\pm 1.277$  \n",
       "1  $91.224 \\pm 10.439$  $91.391 \\pm 11.575$  $90.477 \\pm 10.815$  \n",
       "2   $86.261 \\pm 3.544$   $86.008 \\pm 3.801$   $86.679 \\pm 2.629$  \n",
       "4   $99.760 \\pm 0.219$   $99.756 \\pm 0.168$   $99.715 \\pm 0.108$  \n",
       "7   $94.524 \\pm 0.454$   $94.276 \\pm 0.714$   $94.060 \\pm 0.493$  \n",
       "6        $nan \\pm nan$        $nan \\pm nan$        $nan \\pm nan$  \n",
       "8   $60.319 \\pm 0.381$   $59.238 \\pm 0.503$   $57.954 \\pm 1.138$  \n",
       "0   $78.759 \\pm 1.269$   $78.900 \\pm 1.124$   $78.311 \\pm 1.142$  \n",
       "5        $nan \\pm nan$        $nan \\pm nan$        $nan \\pm nan$  "
      ]
     },
     "execution_count": 7,
     "metadata": {},
     "output_type": "execute_result"
    }
   ],
   "source": [
    "# Get registers with the lowest optimization metric\n",
    "best_archs_ds_agg = best_archs.loc[reporting.get_top_k_indices(\n",
    "                                        best_archs.groupby([\"dataset\", \"aggregator\"]),\n",
    "                                        1,\n",
    "                                        f\"{OPTIMIZATION_METRIC}_mean\",\n",
    "                                        OPTIMIZATION_MODE\n",
    "                                        )\n",
    "                                  ]\n",
    "\n",
    "assert best_archs_ds_agg.shape[0] == 54, \"The number of optimal architectures is wrong\"\n",
    "\n",
    "\n",
    "# Adds a column to format Latex\n",
    "best_archs_ds_agg[EVALUATION_METRIC] = \"$\" + best_archs_ds_agg[f\"{EVALUATION_METRIC}_mean\"].apply(num_as_str) \\\n",
    "                                + \" \\pm \" + best_archs_ds_agg[f\"{EVALUATION_METRIC}_std\"].apply(num_as_str) + \"$\"\n",
    "\n",
    "# Exports best dataset-aggregator configuration\n",
    "\n",
    "best_archs_ds_agg = best_archs_ds_agg[[\"dataset\", \"aggregator\", EVALUATION_METRIC]] \\\n",
    "                        .pivot(index=\"dataset\", columns=\"aggregator\") \\\n",
    "                        .reset_index()\n",
    "best_archs_ds_agg.columns = [col[1] for col in best_archs_ds_agg.columns]\n",
    "\n",
    "best_archs_ds_agg = best_archs_ds_agg.sort_values(\"\", key=lambda x: x.apply(DATASET_ORDER.index))\n",
    "best_archs_ds_agg = best_archs_ds_agg[[\"\"] + AGGREGATOR_ORDER]\n",
    "\n",
    "with open(os.path.join(ASSETS_DIR, \"ds_agg_baccuracy_cv.tex\"), \"w\") as f:\n",
    "    f.write(best_archs_ds_agg.to_latex(index=False))\n",
    "    \n",
    "best_archs_ds_agg"
   ]
  },
  {
   "cell_type": "markdown",
   "id": "13bced51",
   "metadata": {},
   "source": [
    "### Per dataset"
   ]
  },
  {
   "cell_type": "code",
   "execution_count": 8,
   "id": "0fafbc74",
   "metadata": {},
   "outputs": [
    {
     "data": {
      "text/html": [
       "<div>\n",
       "<style scoped>\n",
       "    .dataframe tbody tr th:only-of-type {\n",
       "        vertical-align: middle;\n",
       "    }\n",
       "\n",
       "    .dataframe tbody tr th {\n",
       "        vertical-align: top;\n",
       "    }\n",
       "\n",
       "    .dataframe thead th {\n",
       "        text-align: right;\n",
       "    }\n",
       "</style>\n",
       "<table border=\"1\" class=\"dataframe\">\n",
       "  <thead>\n",
       "    <tr style=\"text-align: right;\">\n",
       "      <th></th>\n",
       "      <th>dataset</th>\n",
       "      <th>aggregator</th>\n",
       "      <th>n_layers</th>\n",
       "      <th>n_head</th>\n",
       "      <th>embed_dim</th>\n",
       "      <th>numerical_passthrough</th>\n",
       "      <th>balanced_accuracy</th>\n",
       "    </tr>\n",
       "  </thead>\n",
       "  <tbody>\n",
       "    <tr>\n",
       "      <th>1441</th>\n",
       "      <td>jasmine</td>\n",
       "      <td>RNN</td>\n",
       "      <td>5</td>\n",
       "      <td>4</td>\n",
       "      <td>256</td>\n",
       "      <td>False</td>\n",
       "      <td>$82.381 \\pm 0.795$</td>\n",
       "    </tr>\n",
       "    <tr>\n",
       "      <th>479</th>\n",
       "      <td>anneal</td>\n",
       "      <td>CAT</td>\n",
       "      <td>4</td>\n",
       "      <td>4</td>\n",
       "      <td>256</td>\n",
       "      <td>False</td>\n",
       "      <td>$95.260 \\pm 8.680$</td>\n",
       "    </tr>\n",
       "    <tr>\n",
       "      <th>1117</th>\n",
       "      <td>australian</td>\n",
       "      <td>SUM</td>\n",
       "      <td>3</td>\n",
       "      <td>4</td>\n",
       "      <td>256</td>\n",
       "      <td>False</td>\n",
       "      <td>$86.679 \\pm 2.629$</td>\n",
       "    </tr>\n",
       "    <tr>\n",
       "      <th>1633</th>\n",
       "      <td>kr-vs-kp</td>\n",
       "      <td>CAT</td>\n",
       "      <td>5</td>\n",
       "      <td>4</td>\n",
       "      <td>256</td>\n",
       "      <td>False</td>\n",
       "      <td>$99.884 \\pm 0.169$</td>\n",
       "    </tr>\n",
       "    <tr>\n",
       "      <th>2712</th>\n",
       "      <td>sylvine</td>\n",
       "      <td>CLS</td>\n",
       "      <td>4</td>\n",
       "      <td>16</td>\n",
       "      <td>256</td>\n",
       "      <td>False</td>\n",
       "      <td>$94.890 \\pm 0.404$</td>\n",
       "    </tr>\n",
       "    <tr>\n",
       "      <th>2304</th>\n",
       "      <td>nomao</td>\n",
       "      <td>CLS</td>\n",
       "      <td>2</td>\n",
       "      <td>4</td>\n",
       "      <td>128</td>\n",
       "      <td>True</td>\n",
       "      <td>$nan \\pm nan$</td>\n",
       "    </tr>\n",
       "    <tr>\n",
       "      <th>2880</th>\n",
       "      <td>volkert</td>\n",
       "      <td>CLS</td>\n",
       "      <td>2</td>\n",
       "      <td>4</td>\n",
       "      <td>128</td>\n",
       "      <td>False</td>\n",
       "      <td>$61.911 \\pm 0.487$</td>\n",
       "    </tr>\n",
       "    <tr>\n",
       "      <th>1</th>\n",
       "      <td>adult</td>\n",
       "      <td>CLS</td>\n",
       "      <td>2</td>\n",
       "      <td>4</td>\n",
       "      <td>128</td>\n",
       "      <td>False</td>\n",
       "      <td>$78.604 \\pm 0.650$</td>\n",
       "    </tr>\n",
       "    <tr>\n",
       "      <th>2303</th>\n",
       "      <td>ldpa</td>\n",
       "      <td>SUM</td>\n",
       "      <td>2</td>\n",
       "      <td>8</td>\n",
       "      <td>128</td>\n",
       "      <td>False</td>\n",
       "      <td>$nan \\pm nan$</td>\n",
       "    </tr>\n",
       "  </tbody>\n",
       "</table>\n",
       "</div>"
      ],
      "text/plain": [
       "         dataset aggregator  n_layers  n_head  embed_dim  \\\n",
       "1441     jasmine        RNN         5       4        256   \n",
       "479       anneal        CAT         4       4        256   \n",
       "1117  australian        SUM         3       4        256   \n",
       "1633    kr-vs-kp        CAT         5       4        256   \n",
       "2712     sylvine        CLS         4      16        256   \n",
       "2304       nomao        CLS         2       4        128   \n",
       "2880     volkert        CLS         2       4        128   \n",
       "1          adult        CLS         2       4        128   \n",
       "2303        ldpa        SUM         2       8        128   \n",
       "\n",
       "      numerical_passthrough   balanced_accuracy  \n",
       "1441                  False  $82.381 \\pm 0.795$  \n",
       "479                   False  $95.260 \\pm 8.680$  \n",
       "1117                  False  $86.679 \\pm 2.629$  \n",
       "1633                  False  $99.884 \\pm 0.169$  \n",
       "2712                  False  $94.890 \\pm 0.404$  \n",
       "2304                   True       $nan \\pm nan$  \n",
       "2880                  False  $61.911 \\pm 0.487$  \n",
       "1                     False  $78.604 \\pm 0.650$  \n",
       "2303                  False       $nan \\pm nan$  "
      ]
     },
     "execution_count": 8,
     "metadata": {},
     "output_type": "execute_result"
    }
   ],
   "source": [
    "# Exports best dataset configuration\n",
    "best_archs_ds = best_archs.loc[reporting.get_top_k_indices(\n",
    "                                        best_archs.groupby([\"dataset\"]),\n",
    "                                        1,\n",
    "                                        f\"{OPTIMIZATION_METRIC}_mean\",\n",
    "                                        OPTIMIZATION_MODE\n",
    "                                        )\n",
    "                                  ]\n",
    "\n",
    "assert best_archs_ds.shape[0] == 9, \"The number of optimal architectures is wrong\"\n",
    "\n",
    "\n",
    "# Adds a column to format Latex\n",
    "best_archs_ds[EVALUATION_METRIC] = \"$\" + best_archs_ds[f\"{EVALUATION_METRIC}_mean\"].apply(num_as_str) \\\n",
    "                                + \" \\pm \" + best_archs_ds[f\"{EVALUATION_METRIC}_std\"].apply(num_as_str) + \"$\"\n",
    "\n",
    "# Exports best dataset configuration\n",
    "best_archs_ds = best_archs_ds[[\"dataset\", \"aggregator\"] + list(search_hyperparameters.keys()) + [EVALUATION_METRIC]]\n",
    "\n",
    "best_archs_ds = best_archs_ds.sort_values(\"dataset\", key=lambda x: x.apply(DATASET_ORDER.index))\n",
    "\n",
    "with open(os.path.join(ASSETS_DIR, \"ds_baccuracy_cv.tex\"), \"w\") as f:\n",
    "    f.write(best_archs_ds.drop(EVALUATION_METRIC, axis=1).to_latex(index=False))\n",
    "\n",
    "best_archs_ds"
   ]
  },
  {
   "cell_type": "markdown",
   "id": "47b18ee9-413b-4447-b309-448ac57ea2a7",
   "metadata": {},
   "source": [
    "## Best test models"
   ]
  },
  {
   "cell_type": "code",
   "execution_count": 9,
   "id": "6e71b057-d9ae-4e40-8557-5fdd89db49c1",
   "metadata": {},
   "outputs": [
    {
     "data": {
      "text/html": [
       "<div>\n",
       "<style scoped>\n",
       "    .dataframe tbody tr th:only-of-type {\n",
       "        vertical-align: middle;\n",
       "    }\n",
       "\n",
       "    .dataframe tbody tr th {\n",
       "        vertical-align: top;\n",
       "    }\n",
       "\n",
       "    .dataframe thead th {\n",
       "        text-align: right;\n",
       "    }\n",
       "</style>\n",
       "<table border=\"1\" class=\"dataframe\">\n",
       "  <thead>\n",
       "    <tr style=\"text-align: right;\">\n",
       "      <th></th>\n",
       "      <th>dataset</th>\n",
       "      <th>balanced_accuracy_test_mean</th>\n",
       "      <th>balanced_accuracy_test_std</th>\n",
       "      <th>balanced_accuracy_test_max</th>\n",
       "      <th>balanced_accuracy_test_min</th>\n",
       "    </tr>\n",
       "  </thead>\n",
       "  <tbody>\n",
       "    <tr>\n",
       "      <th>3</th>\n",
       "      <td>jasmine</td>\n",
       "      <td>79.543885</td>\n",
       "      <td>2.100097</td>\n",
       "      <td>82.868908</td>\n",
       "      <td>77.661327</td>\n",
       "    </tr>\n",
       "    <tr>\n",
       "      <th>1</th>\n",
       "      <td>anneal</td>\n",
       "      <td>99.636364</td>\n",
       "      <td>0.813116</td>\n",
       "      <td>100.000000</td>\n",
       "      <td>98.181818</td>\n",
       "    </tr>\n",
       "    <tr>\n",
       "      <th>2</th>\n",
       "      <td>australian</td>\n",
       "      <td>87.900788</td>\n",
       "      <td>2.752097</td>\n",
       "      <td>90.195870</td>\n",
       "      <td>83.329785</td>\n",
       "    </tr>\n",
       "    <tr>\n",
       "      <th>4</th>\n",
       "      <td>kr-vs-kp</td>\n",
       "      <td>99.593421</td>\n",
       "      <td>0.207034</td>\n",
       "      <td>99.687473</td>\n",
       "      <td>99.223076</td>\n",
       "    </tr>\n",
       "    <tr>\n",
       "      <th>5</th>\n",
       "      <td>sylvine</td>\n",
       "      <td>95.202399</td>\n",
       "      <td>0.355764</td>\n",
       "      <td>95.661653</td>\n",
       "      <td>94.801980</td>\n",
       "    </tr>\n",
       "    <tr>\n",
       "      <th>6</th>\n",
       "      <td>volkert</td>\n",
       "      <td>56.147338</td>\n",
       "      <td>0.852821</td>\n",
       "      <td>57.103495</td>\n",
       "      <td>55.008948</td>\n",
       "    </tr>\n",
       "    <tr>\n",
       "      <th>0</th>\n",
       "      <td>adult</td>\n",
       "      <td>78.222632</td>\n",
       "      <td>0.119212</td>\n",
       "      <td>78.384178</td>\n",
       "      <td>78.069983</td>\n",
       "    </tr>\n",
       "  </tbody>\n",
       "</table>\n",
       "</div>"
      ],
      "text/plain": [
       "      dataset  balanced_accuracy_test_mean  balanced_accuracy_test_std  \\\n",
       "3     jasmine                    79.543885                    2.100097   \n",
       "1      anneal                    99.636364                    0.813116   \n",
       "2  australian                    87.900788                    2.752097   \n",
       "4    kr-vs-kp                    99.593421                    0.207034   \n",
       "5     sylvine                    95.202399                    0.355764   \n",
       "6     volkert                    56.147338                    0.852821   \n",
       "0       adult                    78.222632                    0.119212   \n",
       "\n",
       "   balanced_accuracy_test_max  balanced_accuracy_test_min  \n",
       "3                   82.868908                   77.661327  \n",
       "1                  100.000000                   98.181818  \n",
       "2                   90.195870                   83.329785  \n",
       "4                   99.687473                   99.223076  \n",
       "5                   95.661653                   94.801980  \n",
       "6                   57.103495                   55.008948  \n",
       "0                   78.384178                   78.069983  "
      ]
     },
     "execution_count": 9,
     "metadata": {},
     "output_type": "execute_result"
    }
   ],
   "source": [
    "best_archs_test = pd.read_csv(\"selected_architectures.csv\")\n",
    "best_archs_test[\"dataset\"] = best_archs_test[\"dataset\"].replace(MAPPINGS[\"dataset_name\"])\n",
    "best_archs_test[\"aggregator\"] = best_archs_test[\"aggregator\"].replace(MAPPINGS[\"aggregator_name\"])\n",
    "best_archs_test = best_archs_test.query(\"selection_metric == @OPTIMIZATION_METRIC\")\n",
    "best_archs_test[f\"{EVALUATION_METRIC}_test_mean\"] = best_archs_test[f\"{EVALUATION_METRIC}_test_mean\"] * 100\n",
    "best_archs_test[f\"{EVALUATION_METRIC}_test_std\"] = best_archs_test[f\"{EVALUATION_METRIC}_test_std\"] * 100\n",
    "best_archs_test[f\"{EVALUATION_METRIC}_test_max\"] = best_archs_test[f\"{EVALUATION_METRIC}_test_max\"] * 100\n",
    "best_archs_test[f\"{EVALUATION_METRIC}_test_min\"] = best_archs_test[f\"{EVALUATION_METRIC}_test_min\"] * 100\n",
    "best_archs_test = best_archs_test.sort_values(\"dataset\", key=lambda x: x.apply(DATASET_ORDER.index))\n",
    "best_archs_test[[\"dataset\", f\"{EVALUATION_METRIC}_test_mean\", f\"{EVALUATION_METRIC}_test_std\", f\"{EVALUATION_METRIC}_test_max\", f\"{EVALUATION_METRIC}_test_min\"]]"
   ]
  },
  {
   "cell_type": "markdown",
   "id": "76035bbb",
   "metadata": {},
   "source": [
    "## Hyperparameters importance"
   ]
  },
  {
   "cell_type": "code",
   "execution_count": 10,
   "id": "ec36e840",
   "metadata": {},
   "outputs": [],
   "source": [
    "color_map = {}\n",
    "color_map[\"aggregator\"] = { agg: color for agg, color in zip(MAPPINGS[\"aggregator_name\"].values(), COLORS) }\n",
    "\n",
    "for k, v in search_hyperparameters.items():\n",
    "    color_map[k] = {agg: color for agg, color in zip(v, COLORS) }\n",
    "    \n",
    "label_map = {\n",
    "    \"aggregator\": \"{}\",\n",
    "    \"n_layers\": \"{} layers\",\n",
    "    \"n_head\": \"{} heads\",\n",
    "    \"embed_dim\": \"{} dims\",\n",
    "    \"numerical_passthrough\": \"{}\"    \n",
    "}"
   ]
  },
  {
   "cell_type": "code",
   "execution_count": 11,
   "id": "6c47ba01",
   "metadata": {},
   "outputs": [
    {
     "name": "stdout",
     "output_type": "stream",
     "text": [
      "Done!\n"
     ]
    }
   ],
   "source": [
    "layout = go.Layout(\n",
    "    margin={\"l\": 0, \"r\": 0, \"b\": 0, \"t\": 0},    \n",
    "    template=\"plotly_white\",\n",
    "    font={\"size\": 22}\n",
    ")\n",
    "\n",
    "for top_k_value in HP_IMPORTANCE_TOP_K:\n",
    "\n",
    "    best_archs_indices = reporting.get_top_k_indices(\n",
    "        best_archs.groupby([\"dataset\"]),\n",
    "        top_k_value,\n",
    "        f\"{OPTIMIZATION_METRIC}_mean\",\n",
    "        OPTIMIZATION_MODE\n",
    "    )\n",
    "\n",
    "    assert len(best_archs_indices) == 9 * top_k_value, \"Best architectures indices got wrong\"\n",
    "    \n",
    "    top_k_archs_df = best_archs[[\"aggregator\"] + list(search_hyperparameters.keys()) ].loc[best_archs_indices]\n",
    "    \n",
    "    for c in top_k_archs_df.columns:\n",
    "        \n",
    "        labels = []\n",
    "        values = []\n",
    "        \n",
    "        for prop, value in top_k_archs_df[c].value_counts(normalize=True).items():\n",
    "            labels.append(prop)\n",
    "            values.append(value)\n",
    "            \n",
    "        common_props = dict(\n",
    "                            labels=[label_map[c].format(l) for l in labels], \n",
    "                            values=values, \n",
    "                            showlegend=False\n",
    "                        )\n",
    "        \n",
    "        label_trace = go.Pie(**common_props, textinfo=\"label\", textposition=\"outside\")\n",
    "        percent_trace = go.Pie(**common_props, textinfo=\"percent\", textposition=\"inside\")\n",
    "            \n",
    "        fig = go.Figure(data=[label_trace, percent_trace], layout=layout)\n",
    "        fig.update_traces(\n",
    "            marker=dict(\n",
    "                    colors=[color_map[c][l] for l in labels]\n",
    "            )\n",
    "        )\n",
    "        \n",
    "        fig.write_image(os.path.join(ASSETS_DIR, f\"t{top_k_value}_{c}_importance.png\"), scale=IMG_SCALE)\n",
    "        \n",
    "print(\"Done!\")"
   ]
  },
  {
   "cell_type": "markdown",
   "id": "4c1fc8bd",
   "metadata": {},
   "source": [
    "## Cumulative attention"
   ]
  },
  {
   "cell_type": "code",
   "execution_count": 12,
   "id": "36ddcb6c-36d0-464b-96f4-9b359633fcaf",
   "metadata": {},
   "outputs": [],
   "source": [
    "def load_attention_with_meta(dataset, selection_metric):\n",
    "    data_dir = os.path.join(DATA_BASE_DIR, dataset)\n",
    "    attention_file = os.path.join(data_dir, \"feature_selection\", selection_metric, \"attention.npy\")\n",
    "    attention_file_info = os.path.join(data_dir, \"feature_selection\", selection_metric, \"feature_selection_info.json\")\n",
    "    \n",
    "    attn = np.load(attention_file)\n",
    "\n",
    "    with open(attention_file_info, \"r\") as f:\n",
    "        data_meta = json.load(f)\n",
    "        \n",
    "    return attn, data_meta"
   ]
  },
  {
   "cell_type": "markdown",
   "id": "bb7f00e9-d817-4c07-9b8c-ab094b5d52fc",
   "metadata": {},
   "source": [
    "### Attention matrices"
   ]
  },
  {
   "cell_type": "code",
   "execution_count": 13,
   "id": "66ef22a1",
   "metadata": {},
   "outputs": [
    {
     "name": "stdout",
     "output_type": "stream",
     "text": [
      "jasmine\n",
      "anneal\n",
      "australian\n",
      "kr-vs-kp\n",
      "sylvine\n",
      "volkert\n",
      "adult\n",
      "Done!\n"
     ]
    }
   ],
   "source": [
    "dataset_labels_values = {\n",
    "    \"jasmine\": -5,\n",
    "    \"anneal\": -1.5,\n",
    "    \"australian\": -0.8,\n",
    "    \"kr-vs-kp\": -2,\n",
    "    \"sylvine\": -1,\n",
    "    \"nomao\": -1,\n",
    "    \"volkert\": -1,\n",
    "    \"adult\": -0.8,\n",
    "    \"ldpa\": -1\n",
    "}\n",
    "\n",
    "axis_template = dict(\n",
    "                    showticklabels = False,\n",
    "                    ticks=\"\",\n",
    "                    zeroline=False,\n",
    "                    showgrid=False\n",
    "                )\n",
    "\n",
    "line_style = dict(\n",
    "                            color='#000',\n",
    "                            width=2\n",
    "                        )\n",
    "\n",
    "for r in best_archs_test.iloc:\n",
    "    dataset = r[\"dataset\"]\n",
    "    selection_metric = r[\"selection_metric\"]\n",
    "    \n",
    "    print(dataset)\n",
    "    \n",
    "    attn, data_meta = load_attention_with_meta(dataset, selection_metric)\n",
    "    labels, cluster_labels = data_meta[\"labels\"], data_meta[\"cluster_labels\"]\n",
    "    best_found_cluster = data_meta[\"process\"][\"best_found\"] \n",
    "    processed_cluster = data_meta[\"process\"][\"cluster\"]\n",
    "    n_instances, n_features = attn.shape\n",
    "    \n",
    "    # Plotting as 2D points colored by cluster\n",
    "    plot_methods = [\n",
    "        dict(name=\"pca\", model=decomposition.PCA(n_components=2)),\n",
    "        dict(name=\"tsne\", model=manifold.TSNE(n_components=2))\n",
    "    ]\n",
    "    \n",
    "    for p_method_info in plot_methods:\n",
    "        p_method_name = p_method_info[\"name\"]\n",
    "        p_method = p_method_info[\"model\"]\n",
    "        fig = go.Figure(layout=layout)\n",
    "\n",
    "        attn_plottable = p_method.fit_transform(attn)\n",
    "        \n",
    "        for c_l in np.unique(data_meta[\"cluster_labels\"]):\n",
    "            c_l_mask = (data_meta[\"cluster_labels\"] == c_l)\n",
    "            fig.add_trace(go.Scatter(\n",
    "                            name=f\"C{c_l}\",\n",
    "                            x=attn_plottable[c_l_mask, 0],\n",
    "                            y=attn_plottable[c_l_mask, 1],\n",
    "                            mode=\"markers\",\n",
    "                            marker=dict(\n",
    "                                color=COLORS[c_l],\n",
    "                                size=6\n",
    "                            )\n",
    "            ))\n",
    "\n",
    "        fig.update_layout(\n",
    "            xaxis=axis_template,\n",
    "            yaxis=axis_template\n",
    "        )\n",
    "        \n",
    "        fig.write_image(os.path.join(ASSETS_DIR, f\"{dataset}_{p_method_name}_clusters.png\"), scale=IMG_SCALE)\n",
    "        \n",
    "    # Plotting as 2D points colored by labels\n",
    "    plot_methods = [\n",
    "        dict(name=\"pca\", model=decomposition.PCA(n_components=2)),\n",
    "        dict(name=\"tsne\", model=manifold.TSNE(n_components=2))\n",
    "    ]\n",
    "    \n",
    "    for p_method_info in plot_methods:\n",
    "        p_method_name = p_method_info[\"name\"]\n",
    "        p_method = p_method_info[\"model\"]\n",
    "        fig = go.Figure(layout=layout)\n",
    "\n",
    "        attn_plottable = p_method.fit_transform(attn)\n",
    "        \n",
    "        for c_l in np.unique(data_meta[\"labels\"]).astype(int):\n",
    "            c_l_mask = (data_meta[\"labels\"] == c_l)\n",
    "            fig.add_trace(go.Scatter(\n",
    "                            name=f\"L{c_l}\",\n",
    "                            x=attn_plottable[c_l_mask, 0],\n",
    "                            y=attn_plottable[c_l_mask, 1],\n",
    "                            mode=\"markers\",\n",
    "                            marker=dict(\n",
    "                                color=COLORS[c_l],\n",
    "                                size=6\n",
    "                            )\n",
    "            ))\n",
    "\n",
    "        fig.update_layout(\n",
    "            xaxis=axis_template,\n",
    "            yaxis=axis_template\n",
    "        )\n",
    "        \n",
    "        fig.write_image(os.path.join(ASSETS_DIR, f\"{dataset}_{p_method_name}_labels.png\"), scale=IMG_SCALE)\n",
    "        \n",
    "    fig = None\n",
    "    \n",
    "    # Skipping attention matrix gen\n",
    "    if dataset == \"volkert\":\n",
    "        continue\n",
    "    \n",
    "    # Adding blank rows for clusters\n",
    "    sep = np.ones((1, n_features)) * np.nan\n",
    "    sep_width = int(n_instances * 0.01)\n",
    "    sep_indices = np.unique(cluster_labels, return_index=True)[1]\n",
    "    rep_sep_indices = np.repeat(sep_indices[1:], sep_width)\n",
    "    attn = np.insert(attn, rep_sep_indices, sep, axis=0)\n",
    "    brace_labels = np.insert(labels, rep_sep_indices, -1, axis=0)\n",
    "            \n",
    "    # Adding blank rows for labels\n",
    "    l_sep_width = int(n_instances * 0.01)\n",
    "    original_clusters_limits = np.array(sep_indices.tolist() + [n_instances])\n",
    "    l_sep_indices = []\n",
    "    for s_i, (s_i_s, s_i_e) in enumerate(zip(original_clusters_limits[:-1], original_clusters_limits[1:])):\n",
    "        l_sep_indices += (\n",
    "                        np.unique(labels[s_i_s:s_i_e], return_index=True)[1] \\\n",
    "                        + s_i_s \n",
    "                        + s_i * sep_width\n",
    "                    ).tolist()\n",
    "    \n",
    "    l_rep_sep_indices = np.repeat(l_sep_indices[1:], l_sep_width)\n",
    "    attn = np.insert(attn, l_rep_sep_indices, sep, axis=0)\n",
    "    brace_labels = np.insert(brace_labels, l_rep_sep_indices, -1, axis=0)\n",
    "\n",
    "    \n",
    "    # Adding braces \n",
    "    braces_indices = np.concatenate([sep_indices, [n_instances]])\n",
    "    data = []\n",
    "    annotations = []\n",
    "    for i, (s, f) in enumerate(zip(braces_indices[:-1], braces_indices[1:])):\n",
    "        e_offset = (l_sep_indices < f).sum()\n",
    "        s_offset = (l_sep_indices < s).sum()\n",
    "        \n",
    "        lower_val = s + i * sep_width + s_offset * l_sep_width\n",
    "        upper_val = f + i * sep_width + e_offset * l_sep_width\n",
    "        middle_val = lower_val + (upper_val - lower_val) // 2\n",
    "        \n",
    "        center_val = dataset_labels_values[dataset]\n",
    "        right_val = center_val - 0.3 * dataset_labels_values[dataset]\n",
    "        left_val = center_val + 0.3 * dataset_labels_values[dataset]\n",
    "        \n",
    "        brace = go.Scatter(\n",
    "                        x=[right_val, center_val, center_val, left_val, center_val, center_val, right_val], \n",
    "                        y=[lower_val, lower_val, middle_val, middle_val, middle_val, upper_val, upper_val], \n",
    "                        mode=\"lines\", \n",
    "                        line=line_style\n",
    "                    )\n",
    "        data.append(brace)\n",
    "        \n",
    "        ann_color = \"#000\"\n",
    "        if processed_cluster == i:\n",
    "            ann_color = \"orange\"\n",
    "            if best_found_cluster:\n",
    "                ann_color = \"green\"\n",
    "        \n",
    "        annotations.append(dict(\n",
    "                            text=f\"C{cluster_labels[s]}\", \n",
    "                            x=left_val * 1.5, \n",
    "                            y=middle_val,\n",
    "                            color=ann_color\n",
    "                            ))\n",
    "    \n",
    "    l_sep_indices = np.array(l_sep_indices + [n_instances + (len(np.unique(cluster_labels)) - 1) * sep_width ])\n",
    "    for i, (s, f) in enumerate(zip(l_sep_indices[:-1], l_sep_indices[1:])):\n",
    "        lower_val = s + i * l_sep_width\n",
    "        upper_val = f + i * l_sep_width\n",
    "        middle_val = lower_val + (upper_val - lower_val) // 2\n",
    "        \n",
    "        center_val = n_features - 1 - dataset_labels_values[dataset]\n",
    "        right_val = center_val - 0.3 * dataset_labels_values[dataset]\n",
    "        left_val = center_val + 0.3 * dataset_labels_values[dataset]\n",
    "        \n",
    "        brace = go.Scatter(\n",
    "                        x=[left_val, center_val, center_val, right_val, center_val, center_val, left_val], \n",
    "                        y=[lower_val, lower_val, middle_val, middle_val, middle_val, upper_val, upper_val], \n",
    "                        mode=\"lines\", \n",
    "                        line=line_style\n",
    "                    )\n",
    "        data.append(brace)\n",
    "        annotations.append(dict(\n",
    "                            text=f\"L{int(brace_labels[lower_val])}\", \n",
    "                            x=right_val - 0.5 * dataset_labels_values[dataset], \n",
    "                            y=middle_val,\n",
    "                            color=\"#000\"\n",
    "                            ))\n",
    "    \n",
    "    \n",
    "       \n",
    "    heatmap_trace = go.Heatmap(x=np.arange(n_features), y=np.arange(n_instances), z=attn, colorscale=\"Inferno\")\n",
    "    data = [heatmap_trace] + data\n",
    "    fig = go.Figure(data=data, layout=layout)\n",
    "    \n",
    "    fig.update_layout(\n",
    "        xaxis=axis_template,\n",
    "        yaxis=axis_template,\n",
    "        showlegend=False\n",
    "    )\n",
    "    \n",
    "    fig.update_yaxes(autorange=\"reversed\")\n",
    "    \n",
    "    for a in annotations:\n",
    "        fig.add_annotation(x=a[\"x\"], y=a[\"y\"], text=a[\"text\"], showarrow=False, font=dict(color=a[\"color\"], size=15))\n",
    "    \n",
    "    fig.write_image(os.path.join(ASSETS_DIR, f\"{dataset}_attention.png\"), scale=IMG_SCALE)\n",
    "    \n",
    "print(\"Done!\")"
   ]
  },
  {
   "cell_type": "markdown",
   "id": "50ed2617-ce1f-48db-843e-1b74a3f2cdc7",
   "metadata": {},
   "source": [
    "### Attention graph"
   ]
  },
  {
   "cell_type": "code",
   "execution_count": 31,
   "id": "59b0b3a2",
   "metadata": {
    "scrolled": true
   },
   "outputs": [],
   "source": [
    "dataset = \"anneal\"\n",
    "instance_index = 604\n",
    "\n",
    "attn, data_meta = load_attention_with_meta(dataset, OPTIMIZATION_METRIC)\n",
    "labels, cluster_labels = data_meta[\"labels\"], data_meta[\"cluster_labels\"]\n",
    "\n",
    "sep = np.ones((1, attn.shape[1])) * np.nan\n",
    "sep_width = int(attn.shape[0] * 0.01)\n",
    "rep_sep_indices = np.repeat([instance_index, instance_index + 1], sep_width)\n",
    "rep_inst_index = np.repeat([instance_index + sep_width], 3 * sep_width)\n",
    "attn = np.insert(attn, rep_sep_indices, sep, axis=0)\n",
    "attn = np.insert(attn, rep_inst_index, attn[instance_index + sep_width][None, :], axis=0)\n",
    "\n",
    "data = []\n",
    "heatmap_trace = go.Heatmap(z=attn, zmin=np.nanmin(attn), zmax=np.nanmax(attn), colorscale=\"Inferno\")\n",
    "data += [heatmap_trace] \n",
    "\n",
    "fig = go.Figure(data=data, layout=go.Layout(\n",
    "                            margin={\"l\": 50, \"r\": 0, \"b\": 50, \"t\": 0},    \n",
    "                            template=\"plotly_white\",\n",
    "                            font={\"size\": 22}\n",
    "                        ))\n",
    "\n",
    "fig.update_layout(\n",
    "    xaxis=dict(\n",
    "        tickmode = \"array\",\n",
    "        tickvals = np.arange(0, attn.shape[-1], 5),\n",
    "        ticktext = [str(i) for i in np.arange(0, attn.shape[-1], 5) + 1],\n",
    "        zeroline=False, \n",
    "        showgrid=False\n",
    "    ),\n",
    "    yaxis=dict(showticklabels=False, ticks=\"\", zeroline=False, showgrid=False),\n",
    "    xaxis_title=\"Features\",\n",
    "    yaxis_title=\"Instances\",\n",
    "    showlegend=False\n",
    ")\n",
    "\n",
    "fig.update_yaxes(autorange=\"reversed\")\n",
    "fig.write_image(os.path.join(ASSETS_DIR, f\"{dataset}_attention_graph_instance.png\"), scale=IMG_SCALE)"
   ]
  },
  {
   "cell_type": "code",
   "execution_count": 32,
   "id": "670bc1c9",
   "metadata": {},
   "outputs": [
    {
     "name": "stdout",
     "output_type": "stream",
     "text": [
      "INFO:root:++++++++++++++++++++++++++++++++++++++++ Extracting anneal-log_loss\n",
      "INFO:root:Loading preprocessor\n",
      "INFO:root:Reading data\n",
      "INFO:root:Training size: (718, 33)\n",
      "INFO:root:Test size: (180, 33)\n",
      "INFO:root:Total size: (898, 33)\n",
      "INFO:root:Sorting dataset as original\n",
      "INFO:root:Preprocessing data\n",
      "INFO:root:Building model\n",
      "INFO:root:Loading checkpoint\n"
     ]
    },
    {
     "name": "stderr",
     "output_type": "stream",
     "text": [
      "/home/uriel/Miniconda3/envs/TT/lib/python3.11/site-packages/torch/nn/modules/transformer.py:286: UserWarning:\n",
      "\n",
      "enable_nested_tensor is True, but self.use_nested_tensor is False because encoder_layer was not TransformerEncoderLayer\n",
      "\n"
     ]
    }
   ],
   "source": [
    "d_job = best_archs_test.query(\"dataset==@dataset\").to_dict()\n",
    "d_job = {k: list(v.values())[0] for k, v in d_job.items()}\n",
    "d_job[\"aggregator\"] = list(MAPPINGS[\"aggregator_name\"].keys())[list(MAPPINGS[\"aggregator_name\"].values()).index(d_job[\"aggregator\"])]\n",
    "\n",
    "result = attention.extract_attention(\n",
    "        dataset,\n",
    "        d_job[\"checkpoint_dir\"],\n",
    "        d_job[\"aggregator\"],\n",
    "        OPTIMIZATION_METRIC,\n",
    "        d_job, \n",
    "        only_last=False,\n",
    "        return_cubes=True\n",
    "    )\n",
    "\n",
    "layers_attn = result[\"cumulated_attention\"][:, data_meta[\"data_required_sort\"]]\n",
    "cubes_attn = result[\"attention_cubes\"][:, data_meta[\"data_required_sort\"]]"
   ]
  },
  {
   "cell_type": "code",
   "execution_count": 33,
   "id": "16995285",
   "metadata": {},
   "outputs": [],
   "source": [
    "instance_attn = layers_attn[:, instance_index]\n",
    "instance_cube = cubes_attn[:, instance_index]\n",
    "assert np.allclose(instance_attn[-1], attn[instance_index + sep_width]), \"Error selecting instance\"\n",
    "\n",
    "instance_cube[instance_cube < 0.3] = np.nan"
   ]
  },
  {
   "cell_type": "code",
   "execution_count": 34,
   "id": "4b3a9c68",
   "metadata": {},
   "outputs": [
    {
     "name": "stdout",
     "output_type": "stream",
     "text": [
      "Done!\n"
     ]
    }
   ],
   "source": [
    "fig = go.Figure(layout=go.Layout(\n",
    "                            margin={\"l\": 70, \"r\": 0, \"b\": 70, \"t\": 0},    \n",
    "                            template=\"plotly_white\",\n",
    "                            font={\"size\": 22}\n",
    "                        ))\n",
    "\n",
    "n_layers, n_heads, n_features, _ = instance_cube.shape\n",
    "\n",
    "fig.add_trace(go.Scatter(\n",
    "    x = np.repeat(np.arange(n_features)[None], n_layers + 1, 0).flatten(),\n",
    "    y = np.repeat(np.arange(n_layers + 1), n_features, 0),\n",
    "    mode=\"markers\",\n",
    "    marker=dict(\n",
    "        color = np.concatenate([np.zeros(n_features), instance_attn.flatten()]),\n",
    "        colorscale=\"Inferno\",\n",
    "        cmax=np.nanmax(attn),\n",
    "        cmin=np.nanmin(attn),\n",
    "        size=14,\n",
    "        symbol=\"square\",\n",
    "        showscale=False\n",
    "    )\n",
    "    \n",
    "))\n",
    "\n",
    "\n",
    "for l in range(n_layers):\n",
    "    for h in range(n_heads):\n",
    "        for o in range(n_features):\n",
    "            for i in range(n_features):\n",
    "                if not np.isnan(instance_cube[l, h, o, i]):\n",
    "                    fig.add_shape(\n",
    "                        type=\"line\",\n",
    "                        x0=i, y0=l + 0.08, \n",
    "                        x1=o, y1=l + 1 - 0.08,\n",
    "                        line=dict(\n",
    "                            color=COLORS[h],\n",
    "                            width=instance_cube[l, h, o, i],\n",
    "                        )\n",
    "                    )\n",
    "                    \n",
    "fig.update_layout(\n",
    "    xaxis=dict(\n",
    "        tickmode = \"array\",\n",
    "        tickvals = np.arange(0, attn.shape[-1], 5),\n",
    "        ticktext = [str(i) for i in np.arange(0, attn.shape[-1], 5) + 1],\n",
    "        zeroline=False, \n",
    "        showgrid=False\n",
    "    ),\n",
    "    yaxis=dict(\n",
    "        tickmode = \"array\",\n",
    "        tickvals = np.arange(n_layers + 1),\n",
    "        ticktext = [str(i) if i > 0 else \"Input\" for i in np.arange(n_layers + 1)],\n",
    "        zeroline=False, \n",
    "        showgrid=False\n",
    "    ),\n",
    "    xaxis_title=\"Features\",\n",
    "    yaxis_title=\"Layers\",\n",
    "    showlegend=False\n",
    ")\n",
    "\n",
    "fig.write_image(os.path.join(ASSETS_DIR, f\"{dataset}_attention_graph.png\"), scale=IMG_SCALE)\n",
    "print(\"Done!\")"
   ]
  },
  {
   "cell_type": "markdown",
   "id": "46fedfd8",
   "metadata": {},
   "source": [
    "## Feature selection"
   ]
  },
  {
   "cell_type": "markdown",
   "id": "737b9e89",
   "metadata": {},
   "source": [
    "### Cases of study - Clustering mode"
   ]
  },
  {
   "cell_type": "code",
   "execution_count": 12,
   "id": "b3f1c15d",
   "metadata": {},
   "outputs": [
    {
     "data": {
      "text/html": [
       "<div>\n",
       "<style scoped>\n",
       "    .dataframe tbody tr th:only-of-type {\n",
       "        vertical-align: middle;\n",
       "    }\n",
       "\n",
       "    .dataframe tbody tr th {\n",
       "        vertical-align: top;\n",
       "    }\n",
       "\n",
       "    .dataframe thead th {\n",
       "        text-align: right;\n",
       "    }\n",
       "</style>\n",
       "<table border=\"1\" class=\"dataframe\">\n",
       "  <thead>\n",
       "    <tr style=\"text-align: right;\">\n",
       "      <th></th>\n",
       "      <th>dataset</th>\n",
       "      <th>cluster</th>\n",
       "    </tr>\n",
       "  </thead>\n",
       "  <tbody>\n",
       "    <tr>\n",
       "      <th>0</th>\n",
       "      <td>adult</td>\n",
       "      <td>C3</td>\n",
       "    </tr>\n",
       "    <tr>\n",
       "      <th>108</th>\n",
       "      <td>anneal</td>\n",
       "      <td>C0</td>\n",
       "    </tr>\n",
       "    <tr>\n",
       "      <th>216</th>\n",
       "      <td>australian</td>\n",
       "      <td>C0</td>\n",
       "    </tr>\n",
       "    <tr>\n",
       "      <th>324</th>\n",
       "      <td>jasmine</td>\n",
       "      <td>C1</td>\n",
       "    </tr>\n",
       "    <tr>\n",
       "      <th>432</th>\n",
       "      <td>kr-vs-kp</td>\n",
       "      <td>C0</td>\n",
       "    </tr>\n",
       "    <tr>\n",
       "      <th>540</th>\n",
       "      <td>sylvine</td>\n",
       "      <td>C2</td>\n",
       "    </tr>\n",
       "    <tr>\n",
       "      <th>648</th>\n",
       "      <td>volkert</td>\n",
       "      <td>C2</td>\n",
       "    </tr>\n",
       "  </tbody>\n",
       "</table>\n",
       "</div>"
      ],
      "text/plain": [
       "        dataset cluster\n",
       "0         adult      C3\n",
       "108      anneal      C0\n",
       "216  australian      C0\n",
       "324     jasmine      C1\n",
       "432    kr-vs-kp      C0\n",
       "540     sylvine      C2\n",
       "648     volkert      C2"
      ]
     },
     "execution_count": 12,
     "metadata": {},
     "output_type": "execute_result"
    }
   ],
   "source": [
    "fs_scores_df = pd.read_csv(\"feature_selection_scores.csv\")\n",
    "fs_scores_df[[\"dataset\", \"cluster\"]].drop_duplicates()"
   ]
  },
  {
   "cell_type": "code",
   "execution_count": 13,
   "id": "e410e602",
   "metadata": {},
   "outputs": [],
   "source": [
    "# Unify random scores\n",
    "random_scores = fs_scores_df.query(\"selection_method.str.contains('random')\")\n",
    "\n",
    "random_scores = random_scores.drop([\"selection_method\"], axis=1)\n",
    "random_scores = random_scores.groupby(\n",
    "                    [\"dataset\", \"cluster\", \"model\", \"opt_metric\", \"features_percent\", \"n_features_selected\"], \n",
    "                    as_index=False).agg([\"mean\", \"std\"])\n",
    "\n",
    "random_scores.columns = [\"_\".join(col) if col[1] else col[0] for col in random_scores.columns] \n",
    "random_scores = random_scores[[\n",
    "                    \"dataset\", \"cluster\", \"model\", \"opt_metric\", \"features_percent\", \"n_features_selected\", \n",
    "                    \"balanced_accuracy_mean_mean\", \"balanced_accuracy_mean_std\",\n",
    "                    \"accuracy_mean_mean\", \"accuracy_mean_std\"\n",
    "                ]]\n",
    "\n",
    "random_scores.columns = [\n",
    "                    \"dataset\", \"cluster\", \"model\", \"opt_metric\", \"features_percent\", \"n_features_selected\",\n",
    "                    \"balanced_accuracy_mean\", \"balanced_accuracy_std\",\n",
    "                    \"accuracy_mean\", \"accuracy_std\"\n",
    "                ]\n",
    "random_scores[\"selection_method\"] = \"random\""
   ]
  },
  {
   "cell_type": "code",
   "execution_count": 14,
   "id": "0c340ccc",
   "metadata": {},
   "outputs": [],
   "source": [
    "# Set to original dataset\n",
    "fs_scores_df = pd.concat([\n",
    "        fs_scores_df.query(\"not selection_method.str.contains('random')\"),\n",
    "        random_scores\n",
    "])"
   ]
  },
  {
   "cell_type": "markdown",
   "id": "242ed58d",
   "metadata": {},
   "source": [
    "#### Executions per dataset"
   ]
  },
  {
   "cell_type": "code",
   "execution_count": 33,
   "id": "4280e872",
   "metadata": {},
   "outputs": [
    {
     "data": {
      "application/vnd.plotly.v1+json": {
       "config": {
        "plotlyServerURL": "https://plot.ly"
       },
       "data": [
        {
         "error_y": {
          "array": [
           0.0038731755315445,
           0.1405456737852612,
           0,
           0.0316029358172496,
           0.0330177442726572,
           0.0093567942617367,
           0.0235700541835391
          ],
          "color": "#000",
          "type": "data"
         },
         "marker": {
          "color": "#636EFA"
         },
         "name": "attention",
         "type": "bar",
         "x": [
          "adult",
          "anneal",
          "australian",
          "jasmine",
          "kr-vs-kp",
          "sylvine",
          "volkert"
         ],
         "y": [
          0.5125958508164206,
          0.9333333333333332,
          0.5,
          0.7810791502147714,
          0.8936752371424455,
          0.9542891649413388,
          0.501493816118369
         ]
        },
        {
         "error_y": {
          "array": [
           0,
           0.1405456737852612,
           0.087021291033095,
           0.0221688896111768,
           0.0330177442726572,
           0.0108687222320665,
           0.0202604892948661
          ],
          "color": "#000",
          "type": "data"
         },
         "marker": {
          "color": "#EF553B"
         },
         "name": "decision_tree",
         "type": "bar",
         "x": [
          "adult",
          "anneal",
          "australian",
          "jasmine",
          "kr-vs-kp",
          "sylvine",
          "volkert"
         ],
         "y": [
          0.5,
          0.9333333333333332,
          0.8909926470588235,
          0.8242499453511323,
          0.8936752371424455,
          0.9526386013342536,
          0.5186739557496358
         ]
        },
        {
         "error_y": {
          "array": [
           0,
           0.1405456737852612,
           0.087021291033095,
           0.0302045308493529,
           0.0330177442726572,
           0.0278183002111533,
           0.0186002920820514
          ],
          "color": "#000",
          "type": "data"
         },
         "marker": {
          "color": "#00CC96"
         },
         "name": "f_classif",
         "type": "bar",
         "x": [
          "adult",
          "anneal",
          "australian",
          "jasmine",
          "kr-vs-kp",
          "sylvine",
          "volkert"
         ],
         "y": [
          0.5,
          0.9333333333333332,
          0.8909926470588235,
          0.8130630465628703,
          0.8936752371424455,
          0.9297722567287784,
          0.402072583451174
         ]
        },
        {
         "error_y": {
          "array": [
           0.0038731755315445,
           0.1405456737852612,
           0.087021291033095,
           0.0299763452708728,
           0.0330177442726572,
           0.0284111560852518,
           0.0245298097426311
          ],
          "color": "#000",
          "type": "data"
         },
         "marker": {
          "color": "#AB63FA"
         },
         "name": "linear_model",
         "type": "bar",
         "x": [
          "adult",
          "anneal",
          "australian",
          "jasmine",
          "kr-vs-kp",
          "sylvine",
          "volkert"
         ],
         "y": [
          0.5125958508164206,
          0.9333333333333332,
          0.8909926470588235,
          0.8203856005448437,
          0.8936752371424455,
          0.9287255578559928,
          0.4145799860115323
         ]
        },
        {
         "error_y": {
          "array": [
           0.01370837803749724,
           0.08618001367043189,
           0.09270148723250116,
           0.07250369514668008,
           0.11724248423419659,
           0.19542021075779714,
           0.02827705925393747
          ],
          "color": "blue",
          "type": "data"
         },
         "marker": {
          "color": "#FFA15A"
         },
         "name": "random",
         "type": "bar",
         "x": [
          "adult",
          "anneal",
          "australian",
          "jasmine",
          "kr-vs-kp",
          "sylvine",
          "volkert"
         ],
         "y": [
          0.5134758592039236,
          0.5551785714285715,
          0.5634821428571428,
          0.697582361227913,
          0.5763629746925327,
          0.7571545893719807,
          0.4241431145616407
         ]
        },
        {
         "marker": {
          "color": "#FECB52",
          "line": {
           "width": 5
          },
          "size": 60,
          "symbol": "line-ew-open"
         },
         "mode": "markers",
         "name": "No feature selection",
         "type": "scatter",
         "x": [
          "adult",
          "anneal",
          "australian",
          "jasmine",
          "kr-vs-kp",
          "sylvine",
          "volkert",
          "adult",
          "anneal",
          "australian",
          "jasmine",
          "kr-vs-kp",
          "sylvine",
          "volkert"
         ],
         "y": [
          0.7106651649798632,
          0.9333333333333332,
          0.9081407563025212,
          0.7984253409979112,
          0.994415061346176,
          0.9404899930986887,
          0.5252412263206897,
          0.7106651649798632,
          0.9333333333333332,
          0.9081407563025212,
          0.7984253409979112,
          0.994415061346176,
          0.9404899930986887,
          0.5252412263206897
         ]
        }
       ],
       "layout": {
        "font": {
         "size": 22
        },
        "margin": {
         "b": 0,
         "l": 0,
         "r": 0,
         "t": 0
        },
        "template": {
         "data": {
          "bar": [
           {
            "error_x": {
             "color": "#2a3f5f"
            },
            "error_y": {
             "color": "#2a3f5f"
            },
            "marker": {
             "line": {
              "color": "white",
              "width": 0.5
             },
             "pattern": {
              "fillmode": "overlay",
              "size": 10,
              "solidity": 0.2
             }
            },
            "type": "bar"
           }
          ],
          "barpolar": [
           {
            "marker": {
             "line": {
              "color": "white",
              "width": 0.5
             },
             "pattern": {
              "fillmode": "overlay",
              "size": 10,
              "solidity": 0.2
             }
            },
            "type": "barpolar"
           }
          ],
          "carpet": [
           {
            "aaxis": {
             "endlinecolor": "#2a3f5f",
             "gridcolor": "#C8D4E3",
             "linecolor": "#C8D4E3",
             "minorgridcolor": "#C8D4E3",
             "startlinecolor": "#2a3f5f"
            },
            "baxis": {
             "endlinecolor": "#2a3f5f",
             "gridcolor": "#C8D4E3",
             "linecolor": "#C8D4E3",
             "minorgridcolor": "#C8D4E3",
             "startlinecolor": "#2a3f5f"
            },
            "type": "carpet"
           }
          ],
          "choropleth": [
           {
            "colorbar": {
             "outlinewidth": 0,
             "ticks": ""
            },
            "type": "choropleth"
           }
          ],
          "contour": [
           {
            "colorbar": {
             "outlinewidth": 0,
             "ticks": ""
            },
            "colorscale": [
             [
              0,
              "#0d0887"
             ],
             [
              0.1111111111111111,
              "#46039f"
             ],
             [
              0.2222222222222222,
              "#7201a8"
             ],
             [
              0.3333333333333333,
              "#9c179e"
             ],
             [
              0.4444444444444444,
              "#bd3786"
             ],
             [
              0.5555555555555556,
              "#d8576b"
             ],
             [
              0.6666666666666666,
              "#ed7953"
             ],
             [
              0.7777777777777778,
              "#fb9f3a"
             ],
             [
              0.8888888888888888,
              "#fdca26"
             ],
             [
              1,
              "#f0f921"
             ]
            ],
            "type": "contour"
           }
          ],
          "contourcarpet": [
           {
            "colorbar": {
             "outlinewidth": 0,
             "ticks": ""
            },
            "type": "contourcarpet"
           }
          ],
          "heatmap": [
           {
            "colorbar": {
             "outlinewidth": 0,
             "ticks": ""
            },
            "colorscale": [
             [
              0,
              "#0d0887"
             ],
             [
              0.1111111111111111,
              "#46039f"
             ],
             [
              0.2222222222222222,
              "#7201a8"
             ],
             [
              0.3333333333333333,
              "#9c179e"
             ],
             [
              0.4444444444444444,
              "#bd3786"
             ],
             [
              0.5555555555555556,
              "#d8576b"
             ],
             [
              0.6666666666666666,
              "#ed7953"
             ],
             [
              0.7777777777777778,
              "#fb9f3a"
             ],
             [
              0.8888888888888888,
              "#fdca26"
             ],
             [
              1,
              "#f0f921"
             ]
            ],
            "type": "heatmap"
           }
          ],
          "heatmapgl": [
           {
            "colorbar": {
             "outlinewidth": 0,
             "ticks": ""
            },
            "colorscale": [
             [
              0,
              "#0d0887"
             ],
             [
              0.1111111111111111,
              "#46039f"
             ],
             [
              0.2222222222222222,
              "#7201a8"
             ],
             [
              0.3333333333333333,
              "#9c179e"
             ],
             [
              0.4444444444444444,
              "#bd3786"
             ],
             [
              0.5555555555555556,
              "#d8576b"
             ],
             [
              0.6666666666666666,
              "#ed7953"
             ],
             [
              0.7777777777777778,
              "#fb9f3a"
             ],
             [
              0.8888888888888888,
              "#fdca26"
             ],
             [
              1,
              "#f0f921"
             ]
            ],
            "type": "heatmapgl"
           }
          ],
          "histogram": [
           {
            "marker": {
             "pattern": {
              "fillmode": "overlay",
              "size": 10,
              "solidity": 0.2
             }
            },
            "type": "histogram"
           }
          ],
          "histogram2d": [
           {
            "colorbar": {
             "outlinewidth": 0,
             "ticks": ""
            },
            "colorscale": [
             [
              0,
              "#0d0887"
             ],
             [
              0.1111111111111111,
              "#46039f"
             ],
             [
              0.2222222222222222,
              "#7201a8"
             ],
             [
              0.3333333333333333,
              "#9c179e"
             ],
             [
              0.4444444444444444,
              "#bd3786"
             ],
             [
              0.5555555555555556,
              "#d8576b"
             ],
             [
              0.6666666666666666,
              "#ed7953"
             ],
             [
              0.7777777777777778,
              "#fb9f3a"
             ],
             [
              0.8888888888888888,
              "#fdca26"
             ],
             [
              1,
              "#f0f921"
             ]
            ],
            "type": "histogram2d"
           }
          ],
          "histogram2dcontour": [
           {
            "colorbar": {
             "outlinewidth": 0,
             "ticks": ""
            },
            "colorscale": [
             [
              0,
              "#0d0887"
             ],
             [
              0.1111111111111111,
              "#46039f"
             ],
             [
              0.2222222222222222,
              "#7201a8"
             ],
             [
              0.3333333333333333,
              "#9c179e"
             ],
             [
              0.4444444444444444,
              "#bd3786"
             ],
             [
              0.5555555555555556,
              "#d8576b"
             ],
             [
              0.6666666666666666,
              "#ed7953"
             ],
             [
              0.7777777777777778,
              "#fb9f3a"
             ],
             [
              0.8888888888888888,
              "#fdca26"
             ],
             [
              1,
              "#f0f921"
             ]
            ],
            "type": "histogram2dcontour"
           }
          ],
          "mesh3d": [
           {
            "colorbar": {
             "outlinewidth": 0,
             "ticks": ""
            },
            "type": "mesh3d"
           }
          ],
          "parcoords": [
           {
            "line": {
             "colorbar": {
              "outlinewidth": 0,
              "ticks": ""
             }
            },
            "type": "parcoords"
           }
          ],
          "pie": [
           {
            "automargin": true,
            "type": "pie"
           }
          ],
          "scatter": [
           {
            "fillpattern": {
             "fillmode": "overlay",
             "size": 10,
             "solidity": 0.2
            },
            "type": "scatter"
           }
          ],
          "scatter3d": [
           {
            "line": {
             "colorbar": {
              "outlinewidth": 0,
              "ticks": ""
             }
            },
            "marker": {
             "colorbar": {
              "outlinewidth": 0,
              "ticks": ""
             }
            },
            "type": "scatter3d"
           }
          ],
          "scattercarpet": [
           {
            "marker": {
             "colorbar": {
              "outlinewidth": 0,
              "ticks": ""
             }
            },
            "type": "scattercarpet"
           }
          ],
          "scattergeo": [
           {
            "marker": {
             "colorbar": {
              "outlinewidth": 0,
              "ticks": ""
             }
            },
            "type": "scattergeo"
           }
          ],
          "scattergl": [
           {
            "marker": {
             "colorbar": {
              "outlinewidth": 0,
              "ticks": ""
             }
            },
            "type": "scattergl"
           }
          ],
          "scattermapbox": [
           {
            "marker": {
             "colorbar": {
              "outlinewidth": 0,
              "ticks": ""
             }
            },
            "type": "scattermapbox"
           }
          ],
          "scatterpolar": [
           {
            "marker": {
             "colorbar": {
              "outlinewidth": 0,
              "ticks": ""
             }
            },
            "type": "scatterpolar"
           }
          ],
          "scatterpolargl": [
           {
            "marker": {
             "colorbar": {
              "outlinewidth": 0,
              "ticks": ""
             }
            },
            "type": "scatterpolargl"
           }
          ],
          "scatterternary": [
           {
            "marker": {
             "colorbar": {
              "outlinewidth": 0,
              "ticks": ""
             }
            },
            "type": "scatterternary"
           }
          ],
          "surface": [
           {
            "colorbar": {
             "outlinewidth": 0,
             "ticks": ""
            },
            "colorscale": [
             [
              0,
              "#0d0887"
             ],
             [
              0.1111111111111111,
              "#46039f"
             ],
             [
              0.2222222222222222,
              "#7201a8"
             ],
             [
              0.3333333333333333,
              "#9c179e"
             ],
             [
              0.4444444444444444,
              "#bd3786"
             ],
             [
              0.5555555555555556,
              "#d8576b"
             ],
             [
              0.6666666666666666,
              "#ed7953"
             ],
             [
              0.7777777777777778,
              "#fb9f3a"
             ],
             [
              0.8888888888888888,
              "#fdca26"
             ],
             [
              1,
              "#f0f921"
             ]
            ],
            "type": "surface"
           }
          ],
          "table": [
           {
            "cells": {
             "fill": {
              "color": "#EBF0F8"
             },
             "line": {
              "color": "white"
             }
            },
            "header": {
             "fill": {
              "color": "#C8D4E3"
             },
             "line": {
              "color": "white"
             }
            },
            "type": "table"
           }
          ]
         },
         "layout": {
          "annotationdefaults": {
           "arrowcolor": "#2a3f5f",
           "arrowhead": 0,
           "arrowwidth": 1
          },
          "autotypenumbers": "strict",
          "coloraxis": {
           "colorbar": {
            "outlinewidth": 0,
            "ticks": ""
           }
          },
          "colorscale": {
           "diverging": [
            [
             0,
             "#8e0152"
            ],
            [
             0.1,
             "#c51b7d"
            ],
            [
             0.2,
             "#de77ae"
            ],
            [
             0.3,
             "#f1b6da"
            ],
            [
             0.4,
             "#fde0ef"
            ],
            [
             0.5,
             "#f7f7f7"
            ],
            [
             0.6,
             "#e6f5d0"
            ],
            [
             0.7,
             "#b8e186"
            ],
            [
             0.8,
             "#7fbc41"
            ],
            [
             0.9,
             "#4d9221"
            ],
            [
             1,
             "#276419"
            ]
           ],
           "sequential": [
            [
             0,
             "#0d0887"
            ],
            [
             0.1111111111111111,
             "#46039f"
            ],
            [
             0.2222222222222222,
             "#7201a8"
            ],
            [
             0.3333333333333333,
             "#9c179e"
            ],
            [
             0.4444444444444444,
             "#bd3786"
            ],
            [
             0.5555555555555556,
             "#d8576b"
            ],
            [
             0.6666666666666666,
             "#ed7953"
            ],
            [
             0.7777777777777778,
             "#fb9f3a"
            ],
            [
             0.8888888888888888,
             "#fdca26"
            ],
            [
             1,
             "#f0f921"
            ]
           ],
           "sequentialminus": [
            [
             0,
             "#0d0887"
            ],
            [
             0.1111111111111111,
             "#46039f"
            ],
            [
             0.2222222222222222,
             "#7201a8"
            ],
            [
             0.3333333333333333,
             "#9c179e"
            ],
            [
             0.4444444444444444,
             "#bd3786"
            ],
            [
             0.5555555555555556,
             "#d8576b"
            ],
            [
             0.6666666666666666,
             "#ed7953"
            ],
            [
             0.7777777777777778,
             "#fb9f3a"
            ],
            [
             0.8888888888888888,
             "#fdca26"
            ],
            [
             1,
             "#f0f921"
            ]
           ]
          },
          "colorway": [
           "#636efa",
           "#EF553B",
           "#00cc96",
           "#ab63fa",
           "#FFA15A",
           "#19d3f3",
           "#FF6692",
           "#B6E880",
           "#FF97FF",
           "#FECB52"
          ],
          "font": {
           "color": "#2a3f5f"
          },
          "geo": {
           "bgcolor": "white",
           "lakecolor": "white",
           "landcolor": "white",
           "showlakes": true,
           "showland": true,
           "subunitcolor": "#C8D4E3"
          },
          "hoverlabel": {
           "align": "left"
          },
          "hovermode": "closest",
          "mapbox": {
           "style": "light"
          },
          "paper_bgcolor": "white",
          "plot_bgcolor": "white",
          "polar": {
           "angularaxis": {
            "gridcolor": "#EBF0F8",
            "linecolor": "#EBF0F8",
            "ticks": ""
           },
           "bgcolor": "white",
           "radialaxis": {
            "gridcolor": "#EBF0F8",
            "linecolor": "#EBF0F8",
            "ticks": ""
           }
          },
          "scene": {
           "xaxis": {
            "backgroundcolor": "white",
            "gridcolor": "#DFE8F3",
            "gridwidth": 2,
            "linecolor": "#EBF0F8",
            "showbackground": true,
            "ticks": "",
            "zerolinecolor": "#EBF0F8"
           },
           "yaxis": {
            "backgroundcolor": "white",
            "gridcolor": "#DFE8F3",
            "gridwidth": 2,
            "linecolor": "#EBF0F8",
            "showbackground": true,
            "ticks": "",
            "zerolinecolor": "#EBF0F8"
           },
           "zaxis": {
            "backgroundcolor": "white",
            "gridcolor": "#DFE8F3",
            "gridwidth": 2,
            "linecolor": "#EBF0F8",
            "showbackground": true,
            "ticks": "",
            "zerolinecolor": "#EBF0F8"
           }
          },
          "shapedefaults": {
           "line": {
            "color": "#2a3f5f"
           }
          },
          "ternary": {
           "aaxis": {
            "gridcolor": "#DFE8F3",
            "linecolor": "#A2B1C6",
            "ticks": ""
           },
           "baxis": {
            "gridcolor": "#DFE8F3",
            "linecolor": "#A2B1C6",
            "ticks": ""
           },
           "bgcolor": "white",
           "caxis": {
            "gridcolor": "#DFE8F3",
            "linecolor": "#A2B1C6",
            "ticks": ""
           }
          },
          "title": {
           "x": 0.05
          },
          "xaxis": {
           "automargin": true,
           "gridcolor": "#EBF0F8",
           "linecolor": "#EBF0F8",
           "ticks": "",
           "title": {
            "standoff": 15
           },
           "zerolinecolor": "#EBF0F8",
           "zerolinewidth": 2
          },
          "yaxis": {
           "automargin": true,
           "gridcolor": "#EBF0F8",
           "linecolor": "#EBF0F8",
           "ticks": "",
           "title": {
            "standoff": 15
           },
           "zerolinecolor": "#EBF0F8",
           "zerolinewidth": 2
          }
         }
        }
       }
      },
      "text/html": [
       "<div>                            <div id=\"3606ed49-3104-4863-9c68-92676b196313\" class=\"plotly-graph-div\" style=\"height:525px; width:100%;\"></div>            <script type=\"text/javascript\">                require([\"plotly\"], function(Plotly) {                    window.PLOTLYENV=window.PLOTLYENV || {};                                    if (document.getElementById(\"3606ed49-3104-4863-9c68-92676b196313\")) {                    Plotly.newPlot(                        \"3606ed49-3104-4863-9c68-92676b196313\",                        [{\"error_y\":{\"array\":[0.0038731755315445,0.1405456737852612,0.0,0.0316029358172496,0.0330177442726572,0.0093567942617367,0.0235700541835391],\"color\":\"#000\",\"type\":\"data\"},\"marker\":{\"color\":\"#636EFA\"},\"name\":\"attention\",\"x\":[\"adult\",\"anneal\",\"australian\",\"jasmine\",\"kr-vs-kp\",\"sylvine\",\"volkert\"],\"y\":[0.5125958508164206,0.9333333333333332,0.5,0.7810791502147714,0.8936752371424455,0.9542891649413388,0.501493816118369],\"type\":\"bar\"},{\"error_y\":{\"array\":[0.0,0.1405456737852612,0.087021291033095,0.0221688896111768,0.0330177442726572,0.0108687222320665,0.0202604892948661],\"color\":\"#000\",\"type\":\"data\"},\"marker\":{\"color\":\"#EF553B\"},\"name\":\"decision_tree\",\"x\":[\"adult\",\"anneal\",\"australian\",\"jasmine\",\"kr-vs-kp\",\"sylvine\",\"volkert\"],\"y\":[0.5,0.9333333333333332,0.8909926470588235,0.8242499453511323,0.8936752371424455,0.9526386013342536,0.5186739557496358],\"type\":\"bar\"},{\"error_y\":{\"array\":[0.0,0.1405456737852612,0.087021291033095,0.0302045308493529,0.0330177442726572,0.0278183002111533,0.0186002920820514],\"color\":\"#000\",\"type\":\"data\"},\"marker\":{\"color\":\"#00CC96\"},\"name\":\"f_classif\",\"x\":[\"adult\",\"anneal\",\"australian\",\"jasmine\",\"kr-vs-kp\",\"sylvine\",\"volkert\"],\"y\":[0.5,0.9333333333333332,0.8909926470588235,0.8130630465628703,0.8936752371424455,0.9297722567287784,0.402072583451174],\"type\":\"bar\"},{\"error_y\":{\"array\":[0.0038731755315445,0.1405456737852612,0.087021291033095,0.0299763452708728,0.0330177442726572,0.0284111560852518,0.0245298097426311],\"color\":\"#000\",\"type\":\"data\"},\"marker\":{\"color\":\"#AB63FA\"},\"name\":\"linear_model\",\"x\":[\"adult\",\"anneal\",\"australian\",\"jasmine\",\"kr-vs-kp\",\"sylvine\",\"volkert\"],\"y\":[0.5125958508164206,0.9333333333333332,0.8909926470588235,0.8203856005448437,0.8936752371424455,0.9287255578559928,0.4145799860115323],\"type\":\"bar\"},{\"error_y\":{\"array\":[0.01370837803749724,0.08618001367043189,0.09270148723250116,0.07250369514668008,0.11724248423419659,0.19542021075779714,0.02827705925393747],\"color\":\"blue\",\"type\":\"data\"},\"marker\":{\"color\":\"#FFA15A\"},\"name\":\"random\",\"x\":[\"adult\",\"anneal\",\"australian\",\"jasmine\",\"kr-vs-kp\",\"sylvine\",\"volkert\"],\"y\":[0.5134758592039236,0.5551785714285715,0.5634821428571428,0.697582361227913,0.5763629746925327,0.7571545893719807,0.4241431145616407],\"type\":\"bar\"},{\"marker\":{\"color\":\"#FECB52\",\"line\":{\"width\":5},\"size\":60,\"symbol\":\"line-ew-open\"},\"mode\":\"markers\",\"name\":\"No feature selection\",\"x\":[\"adult\",\"anneal\",\"australian\",\"jasmine\",\"kr-vs-kp\",\"sylvine\",\"volkert\",\"adult\",\"anneal\",\"australian\",\"jasmine\",\"kr-vs-kp\",\"sylvine\",\"volkert\"],\"y\":[0.7106651649798632,0.9333333333333332,0.9081407563025212,0.7984253409979112,0.994415061346176,0.9404899930986887,0.5252412263206897,0.7106651649798632,0.9333333333333332,0.9081407563025212,0.7984253409979112,0.994415061346176,0.9404899930986887,0.5252412263206897],\"type\":\"scatter\"}],                        {\"font\":{\"size\":22},\"margin\":{\"b\":0,\"l\":0,\"r\":0,\"t\":0},\"template\":{\"data\":{\"barpolar\":[{\"marker\":{\"line\":{\"color\":\"white\",\"width\":0.5},\"pattern\":{\"fillmode\":\"overlay\",\"size\":10,\"solidity\":0.2}},\"type\":\"barpolar\"}],\"bar\":[{\"error_x\":{\"color\":\"#2a3f5f\"},\"error_y\":{\"color\":\"#2a3f5f\"},\"marker\":{\"line\":{\"color\":\"white\",\"width\":0.5},\"pattern\":{\"fillmode\":\"overlay\",\"size\":10,\"solidity\":0.2}},\"type\":\"bar\"}],\"carpet\":[{\"aaxis\":{\"endlinecolor\":\"#2a3f5f\",\"gridcolor\":\"#C8D4E3\",\"linecolor\":\"#C8D4E3\",\"minorgridcolor\":\"#C8D4E3\",\"startlinecolor\":\"#2a3f5f\"},\"baxis\":{\"endlinecolor\":\"#2a3f5f\",\"gridcolor\":\"#C8D4E3\",\"linecolor\":\"#C8D4E3\",\"minorgridcolor\":\"#C8D4E3\",\"startlinecolor\":\"#2a3f5f\"},\"type\":\"carpet\"}],\"choropleth\":[{\"colorbar\":{\"outlinewidth\":0,\"ticks\":\"\"},\"type\":\"choropleth\"}],\"contourcarpet\":[{\"colorbar\":{\"outlinewidth\":0,\"ticks\":\"\"},\"type\":\"contourcarpet\"}],\"contour\":[{\"colorbar\":{\"outlinewidth\":0,\"ticks\":\"\"},\"colorscale\":[[0.0,\"#0d0887\"],[0.1111111111111111,\"#46039f\"],[0.2222222222222222,\"#7201a8\"],[0.3333333333333333,\"#9c179e\"],[0.4444444444444444,\"#bd3786\"],[0.5555555555555556,\"#d8576b\"],[0.6666666666666666,\"#ed7953\"],[0.7777777777777778,\"#fb9f3a\"],[0.8888888888888888,\"#fdca26\"],[1.0,\"#f0f921\"]],\"type\":\"contour\"}],\"heatmapgl\":[{\"colorbar\":{\"outlinewidth\":0,\"ticks\":\"\"},\"colorscale\":[[0.0,\"#0d0887\"],[0.1111111111111111,\"#46039f\"],[0.2222222222222222,\"#7201a8\"],[0.3333333333333333,\"#9c179e\"],[0.4444444444444444,\"#bd3786\"],[0.5555555555555556,\"#d8576b\"],[0.6666666666666666,\"#ed7953\"],[0.7777777777777778,\"#fb9f3a\"],[0.8888888888888888,\"#fdca26\"],[1.0,\"#f0f921\"]],\"type\":\"heatmapgl\"}],\"heatmap\":[{\"colorbar\":{\"outlinewidth\":0,\"ticks\":\"\"},\"colorscale\":[[0.0,\"#0d0887\"],[0.1111111111111111,\"#46039f\"],[0.2222222222222222,\"#7201a8\"],[0.3333333333333333,\"#9c179e\"],[0.4444444444444444,\"#bd3786\"],[0.5555555555555556,\"#d8576b\"],[0.6666666666666666,\"#ed7953\"],[0.7777777777777778,\"#fb9f3a\"],[0.8888888888888888,\"#fdca26\"],[1.0,\"#f0f921\"]],\"type\":\"heatmap\"}],\"histogram2dcontour\":[{\"colorbar\":{\"outlinewidth\":0,\"ticks\":\"\"},\"colorscale\":[[0.0,\"#0d0887\"],[0.1111111111111111,\"#46039f\"],[0.2222222222222222,\"#7201a8\"],[0.3333333333333333,\"#9c179e\"],[0.4444444444444444,\"#bd3786\"],[0.5555555555555556,\"#d8576b\"],[0.6666666666666666,\"#ed7953\"],[0.7777777777777778,\"#fb9f3a\"],[0.8888888888888888,\"#fdca26\"],[1.0,\"#f0f921\"]],\"type\":\"histogram2dcontour\"}],\"histogram2d\":[{\"colorbar\":{\"outlinewidth\":0,\"ticks\":\"\"},\"colorscale\":[[0.0,\"#0d0887\"],[0.1111111111111111,\"#46039f\"],[0.2222222222222222,\"#7201a8\"],[0.3333333333333333,\"#9c179e\"],[0.4444444444444444,\"#bd3786\"],[0.5555555555555556,\"#d8576b\"],[0.6666666666666666,\"#ed7953\"],[0.7777777777777778,\"#fb9f3a\"],[0.8888888888888888,\"#fdca26\"],[1.0,\"#f0f921\"]],\"type\":\"histogram2d\"}],\"histogram\":[{\"marker\":{\"pattern\":{\"fillmode\":\"overlay\",\"size\":10,\"solidity\":0.2}},\"type\":\"histogram\"}],\"mesh3d\":[{\"colorbar\":{\"outlinewidth\":0,\"ticks\":\"\"},\"type\":\"mesh3d\"}],\"parcoords\":[{\"line\":{\"colorbar\":{\"outlinewidth\":0,\"ticks\":\"\"}},\"type\":\"parcoords\"}],\"pie\":[{\"automargin\":true,\"type\":\"pie\"}],\"scatter3d\":[{\"line\":{\"colorbar\":{\"outlinewidth\":0,\"ticks\":\"\"}},\"marker\":{\"colorbar\":{\"outlinewidth\":0,\"ticks\":\"\"}},\"type\":\"scatter3d\"}],\"scattercarpet\":[{\"marker\":{\"colorbar\":{\"outlinewidth\":0,\"ticks\":\"\"}},\"type\":\"scattercarpet\"}],\"scattergeo\":[{\"marker\":{\"colorbar\":{\"outlinewidth\":0,\"ticks\":\"\"}},\"type\":\"scattergeo\"}],\"scattergl\":[{\"marker\":{\"colorbar\":{\"outlinewidth\":0,\"ticks\":\"\"}},\"type\":\"scattergl\"}],\"scattermapbox\":[{\"marker\":{\"colorbar\":{\"outlinewidth\":0,\"ticks\":\"\"}},\"type\":\"scattermapbox\"}],\"scatterpolargl\":[{\"marker\":{\"colorbar\":{\"outlinewidth\":0,\"ticks\":\"\"}},\"type\":\"scatterpolargl\"}],\"scatterpolar\":[{\"marker\":{\"colorbar\":{\"outlinewidth\":0,\"ticks\":\"\"}},\"type\":\"scatterpolar\"}],\"scatter\":[{\"fillpattern\":{\"fillmode\":\"overlay\",\"size\":10,\"solidity\":0.2},\"type\":\"scatter\"}],\"scatterternary\":[{\"marker\":{\"colorbar\":{\"outlinewidth\":0,\"ticks\":\"\"}},\"type\":\"scatterternary\"}],\"surface\":[{\"colorbar\":{\"outlinewidth\":0,\"ticks\":\"\"},\"colorscale\":[[0.0,\"#0d0887\"],[0.1111111111111111,\"#46039f\"],[0.2222222222222222,\"#7201a8\"],[0.3333333333333333,\"#9c179e\"],[0.4444444444444444,\"#bd3786\"],[0.5555555555555556,\"#d8576b\"],[0.6666666666666666,\"#ed7953\"],[0.7777777777777778,\"#fb9f3a\"],[0.8888888888888888,\"#fdca26\"],[1.0,\"#f0f921\"]],\"type\":\"surface\"}],\"table\":[{\"cells\":{\"fill\":{\"color\":\"#EBF0F8\"},\"line\":{\"color\":\"white\"}},\"header\":{\"fill\":{\"color\":\"#C8D4E3\"},\"line\":{\"color\":\"white\"}},\"type\":\"table\"}]},\"layout\":{\"annotationdefaults\":{\"arrowcolor\":\"#2a3f5f\",\"arrowhead\":0,\"arrowwidth\":1},\"autotypenumbers\":\"strict\",\"coloraxis\":{\"colorbar\":{\"outlinewidth\":0,\"ticks\":\"\"}},\"colorscale\":{\"diverging\":[[0,\"#8e0152\"],[0.1,\"#c51b7d\"],[0.2,\"#de77ae\"],[0.3,\"#f1b6da\"],[0.4,\"#fde0ef\"],[0.5,\"#f7f7f7\"],[0.6,\"#e6f5d0\"],[0.7,\"#b8e186\"],[0.8,\"#7fbc41\"],[0.9,\"#4d9221\"],[1,\"#276419\"]],\"sequential\":[[0.0,\"#0d0887\"],[0.1111111111111111,\"#46039f\"],[0.2222222222222222,\"#7201a8\"],[0.3333333333333333,\"#9c179e\"],[0.4444444444444444,\"#bd3786\"],[0.5555555555555556,\"#d8576b\"],[0.6666666666666666,\"#ed7953\"],[0.7777777777777778,\"#fb9f3a\"],[0.8888888888888888,\"#fdca26\"],[1.0,\"#f0f921\"]],\"sequentialminus\":[[0.0,\"#0d0887\"],[0.1111111111111111,\"#46039f\"],[0.2222222222222222,\"#7201a8\"],[0.3333333333333333,\"#9c179e\"],[0.4444444444444444,\"#bd3786\"],[0.5555555555555556,\"#d8576b\"],[0.6666666666666666,\"#ed7953\"],[0.7777777777777778,\"#fb9f3a\"],[0.8888888888888888,\"#fdca26\"],[1.0,\"#f0f921\"]]},\"colorway\":[\"#636efa\",\"#EF553B\",\"#00cc96\",\"#ab63fa\",\"#FFA15A\",\"#19d3f3\",\"#FF6692\",\"#B6E880\",\"#FF97FF\",\"#FECB52\"],\"font\":{\"color\":\"#2a3f5f\"},\"geo\":{\"bgcolor\":\"white\",\"lakecolor\":\"white\",\"landcolor\":\"white\",\"showlakes\":true,\"showland\":true,\"subunitcolor\":\"#C8D4E3\"},\"hoverlabel\":{\"align\":\"left\"},\"hovermode\":\"closest\",\"mapbox\":{\"style\":\"light\"},\"paper_bgcolor\":\"white\",\"plot_bgcolor\":\"white\",\"polar\":{\"angularaxis\":{\"gridcolor\":\"#EBF0F8\",\"linecolor\":\"#EBF0F8\",\"ticks\":\"\"},\"bgcolor\":\"white\",\"radialaxis\":{\"gridcolor\":\"#EBF0F8\",\"linecolor\":\"#EBF0F8\",\"ticks\":\"\"}},\"scene\":{\"xaxis\":{\"backgroundcolor\":\"white\",\"gridcolor\":\"#DFE8F3\",\"gridwidth\":2,\"linecolor\":\"#EBF0F8\",\"showbackground\":true,\"ticks\":\"\",\"zerolinecolor\":\"#EBF0F8\"},\"yaxis\":{\"backgroundcolor\":\"white\",\"gridcolor\":\"#DFE8F3\",\"gridwidth\":2,\"linecolor\":\"#EBF0F8\",\"showbackground\":true,\"ticks\":\"\",\"zerolinecolor\":\"#EBF0F8\"},\"zaxis\":{\"backgroundcolor\":\"white\",\"gridcolor\":\"#DFE8F3\",\"gridwidth\":2,\"linecolor\":\"#EBF0F8\",\"showbackground\":true,\"ticks\":\"\",\"zerolinecolor\":\"#EBF0F8\"}},\"shapedefaults\":{\"line\":{\"color\":\"#2a3f5f\"}},\"ternary\":{\"aaxis\":{\"gridcolor\":\"#DFE8F3\",\"linecolor\":\"#A2B1C6\",\"ticks\":\"\"},\"baxis\":{\"gridcolor\":\"#DFE8F3\",\"linecolor\":\"#A2B1C6\",\"ticks\":\"\"},\"bgcolor\":\"white\",\"caxis\":{\"gridcolor\":\"#DFE8F3\",\"linecolor\":\"#A2B1C6\",\"ticks\":\"\"}},\"title\":{\"x\":0.05},\"xaxis\":{\"automargin\":true,\"gridcolor\":\"#EBF0F8\",\"linecolor\":\"#EBF0F8\",\"ticks\":\"\",\"title\":{\"standoff\":15},\"zerolinecolor\":\"#EBF0F8\",\"zerolinewidth\":2},\"yaxis\":{\"automargin\":true,\"gridcolor\":\"#EBF0F8\",\"linecolor\":\"#EBF0F8\",\"ticks\":\"\",\"title\":{\"standoff\":15},\"zerolinecolor\":\"#EBF0F8\",\"zerolinewidth\":2}}}},                        {\"responsive\": true}                    ).then(function(){\n",
       "                            \n",
       "var gd = document.getElementById('3606ed49-3104-4863-9c68-92676b196313');\n",
       "var x = new MutationObserver(function (mutations, observer) {{\n",
       "        var display = window.getComputedStyle(gd).display;\n",
       "        if (!display || display === 'none') {{\n",
       "            console.log([gd, 'removed!']);\n",
       "            Plotly.purge(gd);\n",
       "            observer.disconnect();\n",
       "        }}\n",
       "}});\n",
       "\n",
       "// Listen for the removal of the full notebook cells\n",
       "var notebookContainer = gd.closest('#notebook-container');\n",
       "if (notebookContainer) {{\n",
       "    x.observe(notebookContainer, {childList: true});\n",
       "}}\n",
       "\n",
       "// Listen for the clearing of the current output cell\n",
       "var outputEl = gd.closest('.output');\n",
       "if (outputEl) {{\n",
       "    x.observe(outputEl, {childList: true});\n",
       "}}\n",
       "\n",
       "                        })                };                });            </script>        </div>"
      ]
     },
     "metadata": {},
     "output_type": "display_data"
    }
   ],
   "source": [
    "cos_model = \"MLP\"\n",
    "cos_feat_percent = 0.1\n",
    "\n",
    "cos_df = fs_scores_df.query(\n",
    "    \"opt_metric==@OPTIMIZATION_METRIC \"\n",
    "    \"and model==@cos_model \"\n",
    "    \"and features_percent==@cos_feat_percent \"\n",
    ")\n",
    "\n",
    "cos_df = cos_df[[\n",
    "        \"dataset\",\n",
    "        \"cluster\",\n",
    "        \"selection_method\",\n",
    "        \"features_percent\",        \n",
    "        f\"{EVALUATION_METRIC}_mean\", \n",
    "        f\"{EVALUATION_METRIC}_std\", \n",
    "]]\n",
    "\n",
    "\n",
    "fig = go.Figure(layout=layout)\n",
    "\n",
    "\n",
    "for sel_method_i, sel_method in enumerate(cos_df[\"selection_method\"].unique()):\n",
    "    plot_data = cos_df.query(\"selection_method==@sel_method\")\n",
    "    fig.add_trace(go.Bar(\n",
    "        name=sel_method, \n",
    "        x=plot_data[\"dataset\"], \n",
    "        y=plot_data[f\"{EVALUATION_METRIC}_mean\"],\n",
    "        error_y=dict(\n",
    "                    type=\"data\", \n",
    "                    array=plot_data[f\"{EVALUATION_METRIC}_std\"],\n",
    "                    color=\"#000\" if sel_method != \"random\" else \"blue\"\n",
    "                    ),\n",
    "        marker_color=COLORS[sel_method_i]\n",
    "    ))\n",
    "    \n",
    "    \n",
    "# Adding lines of non feature selection scores    \n",
    "cos_df = fs_scores_df.query(\n",
    "    \"opt_metric==@OPTIMIZATION_METRIC \"\n",
    "    \"and model==@cos_model \"\n",
    "    \"and features_percent==1 \"\n",
    ")\n",
    "\n",
    "plot_data = cos_df.drop([\"selection_method\"], axis=1).drop_duplicates()\n",
    "\n",
    "fig.add_trace(go.Scatter(\n",
    "        name=\"No feature selection\", \n",
    "        x=plot_data[\"dataset\"], \n",
    "        y=plot_data[f\"{EVALUATION_METRIC}_mean\"],\n",
    "        mode=\"markers\",\n",
    "        marker=dict(\n",
    "            color=COLORS[-1],\n",
    "            symbol=\"line-ew-open\",\n",
    "            size=60,\n",
    "            line=dict(width=5)\n",
    "        )\n",
    "    ))\n",
    "\n",
    "fig.show()\n",
    "fig.write_image(os.path.join(ASSETS_DIR, f\"results_cluster_{cos_model}_{cos_feat_percent}.png\"), scale=IMG_SCALE)"
   ]
  },
  {
   "cell_type": "markdown",
   "id": "8cebe65b",
   "metadata": {},
   "source": [
    "#### General"
   ]
  },
  {
   "cell_type": "code",
   "execution_count": 16,
   "id": "c4b86150",
   "metadata": {},
   "outputs": [
    {
     "data": {
      "application/vnd.plotly.v1+json": {
       "config": {
        "plotlyServerURL": "https://plot.ly"
       },
       "data": [
        {
         "line": {
          "color": "#636EFA"
         },
         "mode": "lines",
         "name": "attention",
         "type": "scatter",
         "x": [
          0.1,
          0.2,
          0.3,
          1
         ],
         "y": [
          0.7066414623597342,
          0.7507108359621731,
          0.7513076810183742,
          0.8195300890074196
         ]
        },
        {
         "line": {
          "color": "#EF553B"
         },
         "mode": "lines",
         "name": "decision_tree",
         "type": "scatter",
         "x": [
          0.1,
          0.2,
          0.3,
          1
         ],
         "y": [
          0.7600581391612173,
          0.7699919338946583,
          0.8021903825379725,
          0.8195300890074196
         ]
        },
        {
         "line": {
          "color": "#00CC96"
         },
         "mode": "lines",
         "name": "f_classif",
         "type": "scatter",
         "x": [
          0.1,
          0.2,
          0.3,
          1
         ],
         "y": [
          0.7527095127365309,
          0.7671655685952794,
          0.7949950333136384,
          0.8195300890074196
         ]
        },
        {
         "line": {
          "color": "#AB63FA"
         },
         "mode": "lines",
         "name": "linear_model",
         "type": "scatter",
         "x": [
          0.1,
          0.2,
          0.3,
          1
         ],
         "y": [
          0.7550390461664627,
          0.771732356772319,
          0.7837657215981146,
          0.8195300890074196
         ]
        },
        {
         "line": {
          "color": "#FFA15A"
         },
         "mode": "lines",
         "name": "random",
         "type": "scatter",
         "x": [
          0.1,
          0.2,
          0.3,
          1
         ],
         "y": [
          0.5559134459969135,
          0.6079632922432363,
          0.684480015228894,
          0.8195300890074196
         ]
        }
       ],
       "layout": {
        "font": {
         "size": 22
        },
        "margin": {
         "b": 0,
         "l": 0,
         "r": 0,
         "t": 0
        },
        "template": {
         "data": {
          "bar": [
           {
            "error_x": {
             "color": "#2a3f5f"
            },
            "error_y": {
             "color": "#2a3f5f"
            },
            "marker": {
             "line": {
              "color": "white",
              "width": 0.5
             },
             "pattern": {
              "fillmode": "overlay",
              "size": 10,
              "solidity": 0.2
             }
            },
            "type": "bar"
           }
          ],
          "barpolar": [
           {
            "marker": {
             "line": {
              "color": "white",
              "width": 0.5
             },
             "pattern": {
              "fillmode": "overlay",
              "size": 10,
              "solidity": 0.2
             }
            },
            "type": "barpolar"
           }
          ],
          "carpet": [
           {
            "aaxis": {
             "endlinecolor": "#2a3f5f",
             "gridcolor": "#C8D4E3",
             "linecolor": "#C8D4E3",
             "minorgridcolor": "#C8D4E3",
             "startlinecolor": "#2a3f5f"
            },
            "baxis": {
             "endlinecolor": "#2a3f5f",
             "gridcolor": "#C8D4E3",
             "linecolor": "#C8D4E3",
             "minorgridcolor": "#C8D4E3",
             "startlinecolor": "#2a3f5f"
            },
            "type": "carpet"
           }
          ],
          "choropleth": [
           {
            "colorbar": {
             "outlinewidth": 0,
             "ticks": ""
            },
            "type": "choropleth"
           }
          ],
          "contour": [
           {
            "colorbar": {
             "outlinewidth": 0,
             "ticks": ""
            },
            "colorscale": [
             [
              0,
              "#0d0887"
             ],
             [
              0.1111111111111111,
              "#46039f"
             ],
             [
              0.2222222222222222,
              "#7201a8"
             ],
             [
              0.3333333333333333,
              "#9c179e"
             ],
             [
              0.4444444444444444,
              "#bd3786"
             ],
             [
              0.5555555555555556,
              "#d8576b"
             ],
             [
              0.6666666666666666,
              "#ed7953"
             ],
             [
              0.7777777777777778,
              "#fb9f3a"
             ],
             [
              0.8888888888888888,
              "#fdca26"
             ],
             [
              1,
              "#f0f921"
             ]
            ],
            "type": "contour"
           }
          ],
          "contourcarpet": [
           {
            "colorbar": {
             "outlinewidth": 0,
             "ticks": ""
            },
            "type": "contourcarpet"
           }
          ],
          "heatmap": [
           {
            "colorbar": {
             "outlinewidth": 0,
             "ticks": ""
            },
            "colorscale": [
             [
              0,
              "#0d0887"
             ],
             [
              0.1111111111111111,
              "#46039f"
             ],
             [
              0.2222222222222222,
              "#7201a8"
             ],
             [
              0.3333333333333333,
              "#9c179e"
             ],
             [
              0.4444444444444444,
              "#bd3786"
             ],
             [
              0.5555555555555556,
              "#d8576b"
             ],
             [
              0.6666666666666666,
              "#ed7953"
             ],
             [
              0.7777777777777778,
              "#fb9f3a"
             ],
             [
              0.8888888888888888,
              "#fdca26"
             ],
             [
              1,
              "#f0f921"
             ]
            ],
            "type": "heatmap"
           }
          ],
          "heatmapgl": [
           {
            "colorbar": {
             "outlinewidth": 0,
             "ticks": ""
            },
            "colorscale": [
             [
              0,
              "#0d0887"
             ],
             [
              0.1111111111111111,
              "#46039f"
             ],
             [
              0.2222222222222222,
              "#7201a8"
             ],
             [
              0.3333333333333333,
              "#9c179e"
             ],
             [
              0.4444444444444444,
              "#bd3786"
             ],
             [
              0.5555555555555556,
              "#d8576b"
             ],
             [
              0.6666666666666666,
              "#ed7953"
             ],
             [
              0.7777777777777778,
              "#fb9f3a"
             ],
             [
              0.8888888888888888,
              "#fdca26"
             ],
             [
              1,
              "#f0f921"
             ]
            ],
            "type": "heatmapgl"
           }
          ],
          "histogram": [
           {
            "marker": {
             "pattern": {
              "fillmode": "overlay",
              "size": 10,
              "solidity": 0.2
             }
            },
            "type": "histogram"
           }
          ],
          "histogram2d": [
           {
            "colorbar": {
             "outlinewidth": 0,
             "ticks": ""
            },
            "colorscale": [
             [
              0,
              "#0d0887"
             ],
             [
              0.1111111111111111,
              "#46039f"
             ],
             [
              0.2222222222222222,
              "#7201a8"
             ],
             [
              0.3333333333333333,
              "#9c179e"
             ],
             [
              0.4444444444444444,
              "#bd3786"
             ],
             [
              0.5555555555555556,
              "#d8576b"
             ],
             [
              0.6666666666666666,
              "#ed7953"
             ],
             [
              0.7777777777777778,
              "#fb9f3a"
             ],
             [
              0.8888888888888888,
              "#fdca26"
             ],
             [
              1,
              "#f0f921"
             ]
            ],
            "type": "histogram2d"
           }
          ],
          "histogram2dcontour": [
           {
            "colorbar": {
             "outlinewidth": 0,
             "ticks": ""
            },
            "colorscale": [
             [
              0,
              "#0d0887"
             ],
             [
              0.1111111111111111,
              "#46039f"
             ],
             [
              0.2222222222222222,
              "#7201a8"
             ],
             [
              0.3333333333333333,
              "#9c179e"
             ],
             [
              0.4444444444444444,
              "#bd3786"
             ],
             [
              0.5555555555555556,
              "#d8576b"
             ],
             [
              0.6666666666666666,
              "#ed7953"
             ],
             [
              0.7777777777777778,
              "#fb9f3a"
             ],
             [
              0.8888888888888888,
              "#fdca26"
             ],
             [
              1,
              "#f0f921"
             ]
            ],
            "type": "histogram2dcontour"
           }
          ],
          "mesh3d": [
           {
            "colorbar": {
             "outlinewidth": 0,
             "ticks": ""
            },
            "type": "mesh3d"
           }
          ],
          "parcoords": [
           {
            "line": {
             "colorbar": {
              "outlinewidth": 0,
              "ticks": ""
             }
            },
            "type": "parcoords"
           }
          ],
          "pie": [
           {
            "automargin": true,
            "type": "pie"
           }
          ],
          "scatter": [
           {
            "fillpattern": {
             "fillmode": "overlay",
             "size": 10,
             "solidity": 0.2
            },
            "type": "scatter"
           }
          ],
          "scatter3d": [
           {
            "line": {
             "colorbar": {
              "outlinewidth": 0,
              "ticks": ""
             }
            },
            "marker": {
             "colorbar": {
              "outlinewidth": 0,
              "ticks": ""
             }
            },
            "type": "scatter3d"
           }
          ],
          "scattercarpet": [
           {
            "marker": {
             "colorbar": {
              "outlinewidth": 0,
              "ticks": ""
             }
            },
            "type": "scattercarpet"
           }
          ],
          "scattergeo": [
           {
            "marker": {
             "colorbar": {
              "outlinewidth": 0,
              "ticks": ""
             }
            },
            "type": "scattergeo"
           }
          ],
          "scattergl": [
           {
            "marker": {
             "colorbar": {
              "outlinewidth": 0,
              "ticks": ""
             }
            },
            "type": "scattergl"
           }
          ],
          "scattermapbox": [
           {
            "marker": {
             "colorbar": {
              "outlinewidth": 0,
              "ticks": ""
             }
            },
            "type": "scattermapbox"
           }
          ],
          "scatterpolar": [
           {
            "marker": {
             "colorbar": {
              "outlinewidth": 0,
              "ticks": ""
             }
            },
            "type": "scatterpolar"
           }
          ],
          "scatterpolargl": [
           {
            "marker": {
             "colorbar": {
              "outlinewidth": 0,
              "ticks": ""
             }
            },
            "type": "scatterpolargl"
           }
          ],
          "scatterternary": [
           {
            "marker": {
             "colorbar": {
              "outlinewidth": 0,
              "ticks": ""
             }
            },
            "type": "scatterternary"
           }
          ],
          "surface": [
           {
            "colorbar": {
             "outlinewidth": 0,
             "ticks": ""
            },
            "colorscale": [
             [
              0,
              "#0d0887"
             ],
             [
              0.1111111111111111,
              "#46039f"
             ],
             [
              0.2222222222222222,
              "#7201a8"
             ],
             [
              0.3333333333333333,
              "#9c179e"
             ],
             [
              0.4444444444444444,
              "#bd3786"
             ],
             [
              0.5555555555555556,
              "#d8576b"
             ],
             [
              0.6666666666666666,
              "#ed7953"
             ],
             [
              0.7777777777777778,
              "#fb9f3a"
             ],
             [
              0.8888888888888888,
              "#fdca26"
             ],
             [
              1,
              "#f0f921"
             ]
            ],
            "type": "surface"
           }
          ],
          "table": [
           {
            "cells": {
             "fill": {
              "color": "#EBF0F8"
             },
             "line": {
              "color": "white"
             }
            },
            "header": {
             "fill": {
              "color": "#C8D4E3"
             },
             "line": {
              "color": "white"
             }
            },
            "type": "table"
           }
          ]
         },
         "layout": {
          "annotationdefaults": {
           "arrowcolor": "#2a3f5f",
           "arrowhead": 0,
           "arrowwidth": 1
          },
          "autotypenumbers": "strict",
          "coloraxis": {
           "colorbar": {
            "outlinewidth": 0,
            "ticks": ""
           }
          },
          "colorscale": {
           "diverging": [
            [
             0,
             "#8e0152"
            ],
            [
             0.1,
             "#c51b7d"
            ],
            [
             0.2,
             "#de77ae"
            ],
            [
             0.3,
             "#f1b6da"
            ],
            [
             0.4,
             "#fde0ef"
            ],
            [
             0.5,
             "#f7f7f7"
            ],
            [
             0.6,
             "#e6f5d0"
            ],
            [
             0.7,
             "#b8e186"
            ],
            [
             0.8,
             "#7fbc41"
            ],
            [
             0.9,
             "#4d9221"
            ],
            [
             1,
             "#276419"
            ]
           ],
           "sequential": [
            [
             0,
             "#0d0887"
            ],
            [
             0.1111111111111111,
             "#46039f"
            ],
            [
             0.2222222222222222,
             "#7201a8"
            ],
            [
             0.3333333333333333,
             "#9c179e"
            ],
            [
             0.4444444444444444,
             "#bd3786"
            ],
            [
             0.5555555555555556,
             "#d8576b"
            ],
            [
             0.6666666666666666,
             "#ed7953"
            ],
            [
             0.7777777777777778,
             "#fb9f3a"
            ],
            [
             0.8888888888888888,
             "#fdca26"
            ],
            [
             1,
             "#f0f921"
            ]
           ],
           "sequentialminus": [
            [
             0,
             "#0d0887"
            ],
            [
             0.1111111111111111,
             "#46039f"
            ],
            [
             0.2222222222222222,
             "#7201a8"
            ],
            [
             0.3333333333333333,
             "#9c179e"
            ],
            [
             0.4444444444444444,
             "#bd3786"
            ],
            [
             0.5555555555555556,
             "#d8576b"
            ],
            [
             0.6666666666666666,
             "#ed7953"
            ],
            [
             0.7777777777777778,
             "#fb9f3a"
            ],
            [
             0.8888888888888888,
             "#fdca26"
            ],
            [
             1,
             "#f0f921"
            ]
           ]
          },
          "colorway": [
           "#636efa",
           "#EF553B",
           "#00cc96",
           "#ab63fa",
           "#FFA15A",
           "#19d3f3",
           "#FF6692",
           "#B6E880",
           "#FF97FF",
           "#FECB52"
          ],
          "font": {
           "color": "#2a3f5f"
          },
          "geo": {
           "bgcolor": "white",
           "lakecolor": "white",
           "landcolor": "white",
           "showlakes": true,
           "showland": true,
           "subunitcolor": "#C8D4E3"
          },
          "hoverlabel": {
           "align": "left"
          },
          "hovermode": "closest",
          "mapbox": {
           "style": "light"
          },
          "paper_bgcolor": "white",
          "plot_bgcolor": "white",
          "polar": {
           "angularaxis": {
            "gridcolor": "#EBF0F8",
            "linecolor": "#EBF0F8",
            "ticks": ""
           },
           "bgcolor": "white",
           "radialaxis": {
            "gridcolor": "#EBF0F8",
            "linecolor": "#EBF0F8",
            "ticks": ""
           }
          },
          "scene": {
           "xaxis": {
            "backgroundcolor": "white",
            "gridcolor": "#DFE8F3",
            "gridwidth": 2,
            "linecolor": "#EBF0F8",
            "showbackground": true,
            "ticks": "",
            "zerolinecolor": "#EBF0F8"
           },
           "yaxis": {
            "backgroundcolor": "white",
            "gridcolor": "#DFE8F3",
            "gridwidth": 2,
            "linecolor": "#EBF0F8",
            "showbackground": true,
            "ticks": "",
            "zerolinecolor": "#EBF0F8"
           },
           "zaxis": {
            "backgroundcolor": "white",
            "gridcolor": "#DFE8F3",
            "gridwidth": 2,
            "linecolor": "#EBF0F8",
            "showbackground": true,
            "ticks": "",
            "zerolinecolor": "#EBF0F8"
           }
          },
          "shapedefaults": {
           "line": {
            "color": "#2a3f5f"
           }
          },
          "ternary": {
           "aaxis": {
            "gridcolor": "#DFE8F3",
            "linecolor": "#A2B1C6",
            "ticks": ""
           },
           "baxis": {
            "gridcolor": "#DFE8F3",
            "linecolor": "#A2B1C6",
            "ticks": ""
           },
           "bgcolor": "white",
           "caxis": {
            "gridcolor": "#DFE8F3",
            "linecolor": "#A2B1C6",
            "ticks": ""
           }
          },
          "title": {
           "x": 0.05
          },
          "xaxis": {
           "automargin": true,
           "gridcolor": "#EBF0F8",
           "linecolor": "#EBF0F8",
           "ticks": "",
           "title": {
            "standoff": 15
           },
           "zerolinecolor": "#EBF0F8",
           "zerolinewidth": 2
          },
          "yaxis": {
           "automargin": true,
           "gridcolor": "#EBF0F8",
           "linecolor": "#EBF0F8",
           "ticks": "",
           "title": {
            "standoff": 15
           },
           "zerolinecolor": "#EBF0F8",
           "zerolinewidth": 2
          }
         }
        }
       }
      },
      "text/html": [
       "<div>                            <div id=\"704d5ad3-a9a6-4013-b823-05d61b17380e\" class=\"plotly-graph-div\" style=\"height:525px; width:100%;\"></div>            <script type=\"text/javascript\">                require([\"plotly\"], function(Plotly) {                    window.PLOTLYENV=window.PLOTLYENV || {};                                    if (document.getElementById(\"704d5ad3-a9a6-4013-b823-05d61b17380e\")) {                    Plotly.newPlot(                        \"704d5ad3-a9a6-4013-b823-05d61b17380e\",                        [{\"line\":{\"color\":\"#636EFA\"},\"mode\":\"lines\",\"name\":\"attention\",\"x\":[0.1,0.2,0.3,1.0],\"y\":[0.7066414623597342,0.7507108359621731,0.7513076810183742,0.8195300890074196],\"type\":\"scatter\"},{\"line\":{\"color\":\"#EF553B\"},\"mode\":\"lines\",\"name\":\"decision_tree\",\"x\":[0.1,0.2,0.3,1.0],\"y\":[0.7600581391612173,0.7699919338946583,0.8021903825379725,0.8195300890074196],\"type\":\"scatter\"},{\"line\":{\"color\":\"#00CC96\"},\"mode\":\"lines\",\"name\":\"f_classif\",\"x\":[0.1,0.2,0.3,1.0],\"y\":[0.7527095127365309,0.7671655685952794,0.7949950333136384,0.8195300890074196],\"type\":\"scatter\"},{\"line\":{\"color\":\"#AB63FA\"},\"mode\":\"lines\",\"name\":\"linear_model\",\"x\":[0.1,0.2,0.3,1.0],\"y\":[0.7550390461664627,0.771732356772319,0.7837657215981146,0.8195300890074196],\"type\":\"scatter\"},{\"line\":{\"color\":\"#FFA15A\"},\"mode\":\"lines\",\"name\":\"random\",\"x\":[0.1,0.2,0.3,1.0],\"y\":[0.5559134459969135,0.6079632922432363,0.684480015228894,0.8195300890074196],\"type\":\"scatter\"}],                        {\"font\":{\"size\":22},\"margin\":{\"b\":0,\"l\":0,\"r\":0,\"t\":0},\"template\":{\"data\":{\"barpolar\":[{\"marker\":{\"line\":{\"color\":\"white\",\"width\":0.5},\"pattern\":{\"fillmode\":\"overlay\",\"size\":10,\"solidity\":0.2}},\"type\":\"barpolar\"}],\"bar\":[{\"error_x\":{\"color\":\"#2a3f5f\"},\"error_y\":{\"color\":\"#2a3f5f\"},\"marker\":{\"line\":{\"color\":\"white\",\"width\":0.5},\"pattern\":{\"fillmode\":\"overlay\",\"size\":10,\"solidity\":0.2}},\"type\":\"bar\"}],\"carpet\":[{\"aaxis\":{\"endlinecolor\":\"#2a3f5f\",\"gridcolor\":\"#C8D4E3\",\"linecolor\":\"#C8D4E3\",\"minorgridcolor\":\"#C8D4E3\",\"startlinecolor\":\"#2a3f5f\"},\"baxis\":{\"endlinecolor\":\"#2a3f5f\",\"gridcolor\":\"#C8D4E3\",\"linecolor\":\"#C8D4E3\",\"minorgridcolor\":\"#C8D4E3\",\"startlinecolor\":\"#2a3f5f\"},\"type\":\"carpet\"}],\"choropleth\":[{\"colorbar\":{\"outlinewidth\":0,\"ticks\":\"\"},\"type\":\"choropleth\"}],\"contourcarpet\":[{\"colorbar\":{\"outlinewidth\":0,\"ticks\":\"\"},\"type\":\"contourcarpet\"}],\"contour\":[{\"colorbar\":{\"outlinewidth\":0,\"ticks\":\"\"},\"colorscale\":[[0.0,\"#0d0887\"],[0.1111111111111111,\"#46039f\"],[0.2222222222222222,\"#7201a8\"],[0.3333333333333333,\"#9c179e\"],[0.4444444444444444,\"#bd3786\"],[0.5555555555555556,\"#d8576b\"],[0.6666666666666666,\"#ed7953\"],[0.7777777777777778,\"#fb9f3a\"],[0.8888888888888888,\"#fdca26\"],[1.0,\"#f0f921\"]],\"type\":\"contour\"}],\"heatmapgl\":[{\"colorbar\":{\"outlinewidth\":0,\"ticks\":\"\"},\"colorscale\":[[0.0,\"#0d0887\"],[0.1111111111111111,\"#46039f\"],[0.2222222222222222,\"#7201a8\"],[0.3333333333333333,\"#9c179e\"],[0.4444444444444444,\"#bd3786\"],[0.5555555555555556,\"#d8576b\"],[0.6666666666666666,\"#ed7953\"],[0.7777777777777778,\"#fb9f3a\"],[0.8888888888888888,\"#fdca26\"],[1.0,\"#f0f921\"]],\"type\":\"heatmapgl\"}],\"heatmap\":[{\"colorbar\":{\"outlinewidth\":0,\"ticks\":\"\"},\"colorscale\":[[0.0,\"#0d0887\"],[0.1111111111111111,\"#46039f\"],[0.2222222222222222,\"#7201a8\"],[0.3333333333333333,\"#9c179e\"],[0.4444444444444444,\"#bd3786\"],[0.5555555555555556,\"#d8576b\"],[0.6666666666666666,\"#ed7953\"],[0.7777777777777778,\"#fb9f3a\"],[0.8888888888888888,\"#fdca26\"],[1.0,\"#f0f921\"]],\"type\":\"heatmap\"}],\"histogram2dcontour\":[{\"colorbar\":{\"outlinewidth\":0,\"ticks\":\"\"},\"colorscale\":[[0.0,\"#0d0887\"],[0.1111111111111111,\"#46039f\"],[0.2222222222222222,\"#7201a8\"],[0.3333333333333333,\"#9c179e\"],[0.4444444444444444,\"#bd3786\"],[0.5555555555555556,\"#d8576b\"],[0.6666666666666666,\"#ed7953\"],[0.7777777777777778,\"#fb9f3a\"],[0.8888888888888888,\"#fdca26\"],[1.0,\"#f0f921\"]],\"type\":\"histogram2dcontour\"}],\"histogram2d\":[{\"colorbar\":{\"outlinewidth\":0,\"ticks\":\"\"},\"colorscale\":[[0.0,\"#0d0887\"],[0.1111111111111111,\"#46039f\"],[0.2222222222222222,\"#7201a8\"],[0.3333333333333333,\"#9c179e\"],[0.4444444444444444,\"#bd3786\"],[0.5555555555555556,\"#d8576b\"],[0.6666666666666666,\"#ed7953\"],[0.7777777777777778,\"#fb9f3a\"],[0.8888888888888888,\"#fdca26\"],[1.0,\"#f0f921\"]],\"type\":\"histogram2d\"}],\"histogram\":[{\"marker\":{\"pattern\":{\"fillmode\":\"overlay\",\"size\":10,\"solidity\":0.2}},\"type\":\"histogram\"}],\"mesh3d\":[{\"colorbar\":{\"outlinewidth\":0,\"ticks\":\"\"},\"type\":\"mesh3d\"}],\"parcoords\":[{\"line\":{\"colorbar\":{\"outlinewidth\":0,\"ticks\":\"\"}},\"type\":\"parcoords\"}],\"pie\":[{\"automargin\":true,\"type\":\"pie\"}],\"scatter3d\":[{\"line\":{\"colorbar\":{\"outlinewidth\":0,\"ticks\":\"\"}},\"marker\":{\"colorbar\":{\"outlinewidth\":0,\"ticks\":\"\"}},\"type\":\"scatter3d\"}],\"scattercarpet\":[{\"marker\":{\"colorbar\":{\"outlinewidth\":0,\"ticks\":\"\"}},\"type\":\"scattercarpet\"}],\"scattergeo\":[{\"marker\":{\"colorbar\":{\"outlinewidth\":0,\"ticks\":\"\"}},\"type\":\"scattergeo\"}],\"scattergl\":[{\"marker\":{\"colorbar\":{\"outlinewidth\":0,\"ticks\":\"\"}},\"type\":\"scattergl\"}],\"scattermapbox\":[{\"marker\":{\"colorbar\":{\"outlinewidth\":0,\"ticks\":\"\"}},\"type\":\"scattermapbox\"}],\"scatterpolargl\":[{\"marker\":{\"colorbar\":{\"outlinewidth\":0,\"ticks\":\"\"}},\"type\":\"scatterpolargl\"}],\"scatterpolar\":[{\"marker\":{\"colorbar\":{\"outlinewidth\":0,\"ticks\":\"\"}},\"type\":\"scatterpolar\"}],\"scatter\":[{\"fillpattern\":{\"fillmode\":\"overlay\",\"size\":10,\"solidity\":0.2},\"type\":\"scatter\"}],\"scatterternary\":[{\"marker\":{\"colorbar\":{\"outlinewidth\":0,\"ticks\":\"\"}},\"type\":\"scatterternary\"}],\"surface\":[{\"colorbar\":{\"outlinewidth\":0,\"ticks\":\"\"},\"colorscale\":[[0.0,\"#0d0887\"],[0.1111111111111111,\"#46039f\"],[0.2222222222222222,\"#7201a8\"],[0.3333333333333333,\"#9c179e\"],[0.4444444444444444,\"#bd3786\"],[0.5555555555555556,\"#d8576b\"],[0.6666666666666666,\"#ed7953\"],[0.7777777777777778,\"#fb9f3a\"],[0.8888888888888888,\"#fdca26\"],[1.0,\"#f0f921\"]],\"type\":\"surface\"}],\"table\":[{\"cells\":{\"fill\":{\"color\":\"#EBF0F8\"},\"line\":{\"color\":\"white\"}},\"header\":{\"fill\":{\"color\":\"#C8D4E3\"},\"line\":{\"color\":\"white\"}},\"type\":\"table\"}]},\"layout\":{\"annotationdefaults\":{\"arrowcolor\":\"#2a3f5f\",\"arrowhead\":0,\"arrowwidth\":1},\"autotypenumbers\":\"strict\",\"coloraxis\":{\"colorbar\":{\"outlinewidth\":0,\"ticks\":\"\"}},\"colorscale\":{\"diverging\":[[0,\"#8e0152\"],[0.1,\"#c51b7d\"],[0.2,\"#de77ae\"],[0.3,\"#f1b6da\"],[0.4,\"#fde0ef\"],[0.5,\"#f7f7f7\"],[0.6,\"#e6f5d0\"],[0.7,\"#b8e186\"],[0.8,\"#7fbc41\"],[0.9,\"#4d9221\"],[1,\"#276419\"]],\"sequential\":[[0.0,\"#0d0887\"],[0.1111111111111111,\"#46039f\"],[0.2222222222222222,\"#7201a8\"],[0.3333333333333333,\"#9c179e\"],[0.4444444444444444,\"#bd3786\"],[0.5555555555555556,\"#d8576b\"],[0.6666666666666666,\"#ed7953\"],[0.7777777777777778,\"#fb9f3a\"],[0.8888888888888888,\"#fdca26\"],[1.0,\"#f0f921\"]],\"sequentialminus\":[[0.0,\"#0d0887\"],[0.1111111111111111,\"#46039f\"],[0.2222222222222222,\"#7201a8\"],[0.3333333333333333,\"#9c179e\"],[0.4444444444444444,\"#bd3786\"],[0.5555555555555556,\"#d8576b\"],[0.6666666666666666,\"#ed7953\"],[0.7777777777777778,\"#fb9f3a\"],[0.8888888888888888,\"#fdca26\"],[1.0,\"#f0f921\"]]},\"colorway\":[\"#636efa\",\"#EF553B\",\"#00cc96\",\"#ab63fa\",\"#FFA15A\",\"#19d3f3\",\"#FF6692\",\"#B6E880\",\"#FF97FF\",\"#FECB52\"],\"font\":{\"color\":\"#2a3f5f\"},\"geo\":{\"bgcolor\":\"white\",\"lakecolor\":\"white\",\"landcolor\":\"white\",\"showlakes\":true,\"showland\":true,\"subunitcolor\":\"#C8D4E3\"},\"hoverlabel\":{\"align\":\"left\"},\"hovermode\":\"closest\",\"mapbox\":{\"style\":\"light\"},\"paper_bgcolor\":\"white\",\"plot_bgcolor\":\"white\",\"polar\":{\"angularaxis\":{\"gridcolor\":\"#EBF0F8\",\"linecolor\":\"#EBF0F8\",\"ticks\":\"\"},\"bgcolor\":\"white\",\"radialaxis\":{\"gridcolor\":\"#EBF0F8\",\"linecolor\":\"#EBF0F8\",\"ticks\":\"\"}},\"scene\":{\"xaxis\":{\"backgroundcolor\":\"white\",\"gridcolor\":\"#DFE8F3\",\"gridwidth\":2,\"linecolor\":\"#EBF0F8\",\"showbackground\":true,\"ticks\":\"\",\"zerolinecolor\":\"#EBF0F8\"},\"yaxis\":{\"backgroundcolor\":\"white\",\"gridcolor\":\"#DFE8F3\",\"gridwidth\":2,\"linecolor\":\"#EBF0F8\",\"showbackground\":true,\"ticks\":\"\",\"zerolinecolor\":\"#EBF0F8\"},\"zaxis\":{\"backgroundcolor\":\"white\",\"gridcolor\":\"#DFE8F3\",\"gridwidth\":2,\"linecolor\":\"#EBF0F8\",\"showbackground\":true,\"ticks\":\"\",\"zerolinecolor\":\"#EBF0F8\"}},\"shapedefaults\":{\"line\":{\"color\":\"#2a3f5f\"}},\"ternary\":{\"aaxis\":{\"gridcolor\":\"#DFE8F3\",\"linecolor\":\"#A2B1C6\",\"ticks\":\"\"},\"baxis\":{\"gridcolor\":\"#DFE8F3\",\"linecolor\":\"#A2B1C6\",\"ticks\":\"\"},\"bgcolor\":\"white\",\"caxis\":{\"gridcolor\":\"#DFE8F3\",\"linecolor\":\"#A2B1C6\",\"ticks\":\"\"}},\"title\":{\"x\":0.05},\"xaxis\":{\"automargin\":true,\"gridcolor\":\"#EBF0F8\",\"linecolor\":\"#EBF0F8\",\"ticks\":\"\",\"title\":{\"standoff\":15},\"zerolinecolor\":\"#EBF0F8\",\"zerolinewidth\":2},\"yaxis\":{\"automargin\":true,\"gridcolor\":\"#EBF0F8\",\"linecolor\":\"#EBF0F8\",\"ticks\":\"\",\"title\":{\"standoff\":15},\"zerolinecolor\":\"#EBF0F8\",\"zerolinewidth\":2}}}},                        {\"responsive\": true}                    ).then(function(){\n",
       "                            \n",
       "var gd = document.getElementById('704d5ad3-a9a6-4013-b823-05d61b17380e');\n",
       "var x = new MutationObserver(function (mutations, observer) {{\n",
       "        var display = window.getComputedStyle(gd).display;\n",
       "        if (!display || display === 'none') {{\n",
       "            console.log([gd, 'removed!']);\n",
       "            Plotly.purge(gd);\n",
       "            observer.disconnect();\n",
       "        }}\n",
       "}});\n",
       "\n",
       "// Listen for the removal of the full notebook cells\n",
       "var notebookContainer = gd.closest('#notebook-container');\n",
       "if (notebookContainer) {{\n",
       "    x.observe(notebookContainer, {childList: true});\n",
       "}}\n",
       "\n",
       "// Listen for the clearing of the current output cell\n",
       "var outputEl = gd.closest('.output');\n",
       "if (outputEl) {{\n",
       "    x.observe(outputEl, {childList: true});\n",
       "}}\n",
       "\n",
       "                        })                };                });            </script>        </div>"
      ]
     },
     "metadata": {},
     "output_type": "display_data"
    }
   ],
   "source": [
    "cos_model = \"LR\"\n",
    "cos_exclude_datasets = []#[\"anneal\", \"australian\"]\n",
    "\n",
    "cos_df = fs_scores_df.query(\n",
    "    \"opt_metric==@OPTIMIZATION_METRIC \"\n",
    "    \"and model==@cos_model \"\n",
    "    \"and dataset not in @cos_exclude_datasets \"\n",
    ")\n",
    "\n",
    "cos_df = cos_df[[\n",
    "        \"selection_method\",\n",
    "        \"features_percent\",        \n",
    "        f\"{EVALUATION_METRIC}_mean\", \n",
    "        f\"{EVALUATION_METRIC}_std\", \n",
    "]]\n",
    "\n",
    "cos_df = cos_df.groupby([\"selection_method\", \"features_percent\"], as_index=False).agg([\"mean\", \"std\"])\n",
    "cos_df.columns = [\"_\".join(col) if col[1] else col[0] for col in cos_df.columns] \n",
    "\n",
    "fig = go.Figure(layout=layout)\n",
    "\n",
    "\n",
    "for sel_method_i, sel_method in enumerate(cos_df[\"selection_method\"].unique()):\n",
    "    plot_data = cos_df.query(\"selection_method==@sel_method\")\n",
    "    fig.add_trace(go.Scatter(\n",
    "        name=sel_method,\n",
    "        x=plot_data[\"features_percent\"],\n",
    "        y=plot_data[f\"{EVALUATION_METRIC}_mean_mean\"],\n",
    "        line=dict(color=COLORS[sel_method_i]),\n",
    "        mode=\"lines\",\n",
    "    ))\n",
    "\n",
    "fig.show()"
   ]
  },
  {
   "cell_type": "markdown",
   "id": "9b0529ac",
   "metadata": {},
   "source": [
    "### Cases of study - Full dataset mode"
   ]
  },
  {
   "cell_type": "code",
   "execution_count": 17,
   "id": "ba22a2a9",
   "metadata": {},
   "outputs": [
    {
     "data": {
      "text/html": [
       "<div>\n",
       "<style scoped>\n",
       "    .dataframe tbody tr th:only-of-type {\n",
       "        vertical-align: middle;\n",
       "    }\n",
       "\n",
       "    .dataframe tbody tr th {\n",
       "        vertical-align: top;\n",
       "    }\n",
       "\n",
       "    .dataframe thead th {\n",
       "        text-align: right;\n",
       "    }\n",
       "</style>\n",
       "<table border=\"1\" class=\"dataframe\">\n",
       "  <thead>\n",
       "    <tr style=\"text-align: right;\">\n",
       "      <th></th>\n",
       "      <th>dataset</th>\n",
       "      <th>cluster</th>\n",
       "    </tr>\n",
       "  </thead>\n",
       "  <tbody>\n",
       "    <tr>\n",
       "      <th>0</th>\n",
       "      <td>adult</td>\n",
       "      <td>C0</td>\n",
       "    </tr>\n",
       "    <tr>\n",
       "      <th>108</th>\n",
       "      <td>anneal</td>\n",
       "      <td>C0</td>\n",
       "    </tr>\n",
       "    <tr>\n",
       "      <th>216</th>\n",
       "      <td>australian</td>\n",
       "      <td>C0</td>\n",
       "    </tr>\n",
       "    <tr>\n",
       "      <th>324</th>\n",
       "      <td>jasmine</td>\n",
       "      <td>C0</td>\n",
       "    </tr>\n",
       "    <tr>\n",
       "      <th>432</th>\n",
       "      <td>kr-vs-kp</td>\n",
       "      <td>C0</td>\n",
       "    </tr>\n",
       "    <tr>\n",
       "      <th>540</th>\n",
       "      <td>sylvine</td>\n",
       "      <td>C0</td>\n",
       "    </tr>\n",
       "    <tr>\n",
       "      <th>648</th>\n",
       "      <td>volkert</td>\n",
       "      <td>C0</td>\n",
       "    </tr>\n",
       "  </tbody>\n",
       "</table>\n",
       "</div>"
      ],
      "text/plain": [
       "        dataset cluster\n",
       "0         adult      C0\n",
       "108      anneal      C0\n",
       "216  australian      C0\n",
       "324     jasmine      C0\n",
       "432    kr-vs-kp      C0\n",
       "540     sylvine      C0\n",
       "648     volkert      C0"
      ]
     },
     "execution_count": 17,
     "metadata": {},
     "output_type": "execute_result"
    }
   ],
   "source": [
    "fs_ds_scores_df = pd.read_csv(\"feature_selection_dataset_scores.csv\")\n",
    "fs_ds_scores_df[[\"dataset\", \"cluster\"]].drop_duplicates()"
   ]
  },
  {
   "cell_type": "code",
   "execution_count": 18,
   "id": "7dce2888",
   "metadata": {},
   "outputs": [],
   "source": [
    "# Unify random scores\n",
    "random_scores = fs_ds_scores_df.query(\"selection_method.str.contains('random')\")\n",
    "\n",
    "random_scores = random_scores.drop([\"selection_method\"], axis=1)\n",
    "random_scores = random_scores.groupby(\n",
    "                    [\"dataset\", \"cluster\", \"model\", \"opt_metric\", \"features_percent\", \"n_features_selected\"], \n",
    "                    as_index=False).agg([\"mean\", \"std\"])\n",
    "\n",
    "random_scores.columns = [\"_\".join(col) if col[1] else col[0] for col in random_scores.columns] \n",
    "random_scores = random_scores[[\n",
    "                    \"dataset\", \"cluster\", \"model\", \"opt_metric\", \"features_percent\", \"n_features_selected\", \n",
    "                    \"balanced_accuracy_mean_mean\", \"balanced_accuracy_mean_std\",\n",
    "                    \"accuracy_mean_mean\", \"accuracy_mean_std\"\n",
    "                ]]\n",
    "\n",
    "random_scores.columns = [\n",
    "                    \"dataset\", \"cluster\", \"model\", \"opt_metric\", \"features_percent\", \"n_features_selected\",\n",
    "                    \"balanced_accuracy_mean\", \"balanced_accuracy_std\",\n",
    "                    \"accuracy_mean\", \"accuracy_std\"\n",
    "                ]\n",
    "random_scores[\"selection_method\"] = \"random\""
   ]
  },
  {
   "cell_type": "code",
   "execution_count": 19,
   "id": "eda51aba",
   "metadata": {},
   "outputs": [],
   "source": [
    "# Set to original dataset\n",
    "fs_ds_scores_df = pd.concat([\n",
    "        fs_ds_scores_df.query(\"not selection_method.str.contains('random')\"),\n",
    "        random_scores\n",
    "])"
   ]
  },
  {
   "cell_type": "markdown",
   "id": "05af5b9e",
   "metadata": {},
   "source": [
    "#### Executions per dataset"
   ]
  },
  {
   "cell_type": "code",
   "execution_count": 46,
   "id": "c216c1da",
   "metadata": {},
   "outputs": [
    {
     "data": {
      "application/vnd.plotly.v1+json": {
       "config": {
        "plotlyServerURL": "https://plot.ly"
       },
       "data": [
        {
         "error_y": {
          "array": [
           0,
           0.0959359288102271,
           0.0578487171462321,
           0.024491514688737,
           0.0106738347039298,
           0.0142846748629971,
           0.0122849724618883
          ],
          "color": "#000",
          "type": "data"
         },
         "marker": {
          "color": "#636EFA"
         },
         "name": "attention",
         "type": "bar",
         "x": [
          "adult",
          "anneal",
          "australian",
          "jasmine",
          "kr-vs-kp",
          "sylvine",
          "volkert"
         ],
         "y": [
          0.5,
          0.2998638817845979,
          0.6710656915240956,
          0.7295458612975392,
          0.9010957150565144,
          0.921540612840467,
          0.4939318788064125
         ]
        },
        {
         "error_y": {
          "array": [
           0,
           0.0867623850045687,
           0.0381433969900467,
           0.0201171269932772,
           0.0106738347039298,
           0.0151072892846986,
           0.006788214197304
          ],
          "color": "#000",
          "type": "data"
         },
         "marker": {
          "color": "#EF553B"
         },
         "name": "decision_tree",
         "type": "bar",
         "x": [
          "adult",
          "anneal",
          "australian",
          "jasmine",
          "kr-vs-kp",
          "sylvine",
          "volkert"
         ],
         "y": [
          0.5,
          0.6720889457232169,
          0.8620745722867964,
          0.806662192393736,
          0.9010957150565144,
          0.9211492278696498,
          0.5360779956020554
         ]
        },
        {
         "error_y": {
          "array": [
           0,
           0.0727189189303068,
           0.0381433969900467,
           0.0265641059547525,
           0.0106738347039298,
           0.0174116500217783,
           0.0059870769298238
          ],
          "color": "#000",
          "type": "data"
         },
         "marker": {
          "color": "#00CC96"
         },
         "name": "f_classif",
         "type": "bar",
         "x": [
          "adult",
          "anneal",
          "australian",
          "jasmine",
          "kr-vs-kp",
          "sylvine",
          "volkert"
         ],
         "y": [
          0.5,
          0.4621234725774368,
          0.8620745722867964,
          0.8012997762863534,
          0.9010957150565144,
          0.9113919625486382,
          0.3748548339665326
         ]
        },
        {
         "error_y": {
          "array": [
           0.0057299220922195,
           0.0694142976392716,
           0.0381433969900467,
           0.028275721906261,
           0.0106738347039298,
           0.0183172990659589,
           0.0075751295551865
          ],
          "color": "#000",
          "type": "data"
         },
         "marker": {
          "color": "#AB63FA"
         },
         "name": "linear_model",
         "type": "bar",
         "x": [
          "adult",
          "anneal",
          "australian",
          "jasmine",
          "kr-vs-kp",
          "sylvine",
          "volkert"
         ],
         "y": [
          0.5911387314554499,
          0.5876555839727196,
          0.8620745722867964,
          0.8026308724832214,
          0.9010957150565144,
          0.920564810311284,
          0.3941667790438053
         ]
        },
        {
         "error_y": {
          "array": [
           0.04103944148125749,
           0.142066370939519,
           0.1351490371657257,
           0.0392824671536236,
           0.013935168327598413,
           0.049881876765822675,
           0.04090428491933083
          ],
          "color": "blue",
          "type": "data"
         },
         "marker": {
          "color": "#FFA15A"
         },
         "name": "random",
         "type": "bar",
         "x": [
          "adult",
          "anneal",
          "australian",
          "jasmine",
          "kr-vs-kp",
          "sylvine",
          "volkert"
         ],
         "y": [
          0.5183533961821433,
          0.3494296512808021,
          0.6470684341125768,
          0.7417601789709172,
          0.5525076161291006,
          0.548530672422179,
          0.3950993967557591
         ]
        },
        {
         "marker": {
          "color": "#FECB52",
          "line": {
           "width": 5
          },
          "size": 60,
          "symbol": "line-ew-open"
         },
         "mode": "markers",
         "name": "No feature selection",
         "type": "scatter",
         "x": [
          "adult",
          "anneal",
          "australian",
          "jasmine",
          "kr-vs-kp",
          "sylvine",
          "volkert",
          "adult",
          "anneal",
          "australian",
          "jasmine",
          "kr-vs-kp",
          "sylvine",
          "volkert"
         ],
         "y": [
          0.769775747522246,
          0.93918094629156,
          0.862874711592878,
          0.7801431767337808,
          0.9933773706457056,
          0.9264188655155644,
          0.5784460397706902,
          0.769775747522246,
          0.9391809462915599,
          0.862874711592878,
          0.7801431767337808,
          0.9933773706457056,
          0.9264188655155644,
          0.5784460397706902
         ]
        }
       ],
       "layout": {
        "font": {
         "size": 22
        },
        "margin": {
         "b": 0,
         "l": 0,
         "r": 0,
         "t": 0
        },
        "template": {
         "data": {
          "bar": [
           {
            "error_x": {
             "color": "#2a3f5f"
            },
            "error_y": {
             "color": "#2a3f5f"
            },
            "marker": {
             "line": {
              "color": "white",
              "width": 0.5
             },
             "pattern": {
              "fillmode": "overlay",
              "size": 10,
              "solidity": 0.2
             }
            },
            "type": "bar"
           }
          ],
          "barpolar": [
           {
            "marker": {
             "line": {
              "color": "white",
              "width": 0.5
             },
             "pattern": {
              "fillmode": "overlay",
              "size": 10,
              "solidity": 0.2
             }
            },
            "type": "barpolar"
           }
          ],
          "carpet": [
           {
            "aaxis": {
             "endlinecolor": "#2a3f5f",
             "gridcolor": "#C8D4E3",
             "linecolor": "#C8D4E3",
             "minorgridcolor": "#C8D4E3",
             "startlinecolor": "#2a3f5f"
            },
            "baxis": {
             "endlinecolor": "#2a3f5f",
             "gridcolor": "#C8D4E3",
             "linecolor": "#C8D4E3",
             "minorgridcolor": "#C8D4E3",
             "startlinecolor": "#2a3f5f"
            },
            "type": "carpet"
           }
          ],
          "choropleth": [
           {
            "colorbar": {
             "outlinewidth": 0,
             "ticks": ""
            },
            "type": "choropleth"
           }
          ],
          "contour": [
           {
            "colorbar": {
             "outlinewidth": 0,
             "ticks": ""
            },
            "colorscale": [
             [
              0,
              "#0d0887"
             ],
             [
              0.1111111111111111,
              "#46039f"
             ],
             [
              0.2222222222222222,
              "#7201a8"
             ],
             [
              0.3333333333333333,
              "#9c179e"
             ],
             [
              0.4444444444444444,
              "#bd3786"
             ],
             [
              0.5555555555555556,
              "#d8576b"
             ],
             [
              0.6666666666666666,
              "#ed7953"
             ],
             [
              0.7777777777777778,
              "#fb9f3a"
             ],
             [
              0.8888888888888888,
              "#fdca26"
             ],
             [
              1,
              "#f0f921"
             ]
            ],
            "type": "contour"
           }
          ],
          "contourcarpet": [
           {
            "colorbar": {
             "outlinewidth": 0,
             "ticks": ""
            },
            "type": "contourcarpet"
           }
          ],
          "heatmap": [
           {
            "colorbar": {
             "outlinewidth": 0,
             "ticks": ""
            },
            "colorscale": [
             [
              0,
              "#0d0887"
             ],
             [
              0.1111111111111111,
              "#46039f"
             ],
             [
              0.2222222222222222,
              "#7201a8"
             ],
             [
              0.3333333333333333,
              "#9c179e"
             ],
             [
              0.4444444444444444,
              "#bd3786"
             ],
             [
              0.5555555555555556,
              "#d8576b"
             ],
             [
              0.6666666666666666,
              "#ed7953"
             ],
             [
              0.7777777777777778,
              "#fb9f3a"
             ],
             [
              0.8888888888888888,
              "#fdca26"
             ],
             [
              1,
              "#f0f921"
             ]
            ],
            "type": "heatmap"
           }
          ],
          "heatmapgl": [
           {
            "colorbar": {
             "outlinewidth": 0,
             "ticks": ""
            },
            "colorscale": [
             [
              0,
              "#0d0887"
             ],
             [
              0.1111111111111111,
              "#46039f"
             ],
             [
              0.2222222222222222,
              "#7201a8"
             ],
             [
              0.3333333333333333,
              "#9c179e"
             ],
             [
              0.4444444444444444,
              "#bd3786"
             ],
             [
              0.5555555555555556,
              "#d8576b"
             ],
             [
              0.6666666666666666,
              "#ed7953"
             ],
             [
              0.7777777777777778,
              "#fb9f3a"
             ],
             [
              0.8888888888888888,
              "#fdca26"
             ],
             [
              1,
              "#f0f921"
             ]
            ],
            "type": "heatmapgl"
           }
          ],
          "histogram": [
           {
            "marker": {
             "pattern": {
              "fillmode": "overlay",
              "size": 10,
              "solidity": 0.2
             }
            },
            "type": "histogram"
           }
          ],
          "histogram2d": [
           {
            "colorbar": {
             "outlinewidth": 0,
             "ticks": ""
            },
            "colorscale": [
             [
              0,
              "#0d0887"
             ],
             [
              0.1111111111111111,
              "#46039f"
             ],
             [
              0.2222222222222222,
              "#7201a8"
             ],
             [
              0.3333333333333333,
              "#9c179e"
             ],
             [
              0.4444444444444444,
              "#bd3786"
             ],
             [
              0.5555555555555556,
              "#d8576b"
             ],
             [
              0.6666666666666666,
              "#ed7953"
             ],
             [
              0.7777777777777778,
              "#fb9f3a"
             ],
             [
              0.8888888888888888,
              "#fdca26"
             ],
             [
              1,
              "#f0f921"
             ]
            ],
            "type": "histogram2d"
           }
          ],
          "histogram2dcontour": [
           {
            "colorbar": {
             "outlinewidth": 0,
             "ticks": ""
            },
            "colorscale": [
             [
              0,
              "#0d0887"
             ],
             [
              0.1111111111111111,
              "#46039f"
             ],
             [
              0.2222222222222222,
              "#7201a8"
             ],
             [
              0.3333333333333333,
              "#9c179e"
             ],
             [
              0.4444444444444444,
              "#bd3786"
             ],
             [
              0.5555555555555556,
              "#d8576b"
             ],
             [
              0.6666666666666666,
              "#ed7953"
             ],
             [
              0.7777777777777778,
              "#fb9f3a"
             ],
             [
              0.8888888888888888,
              "#fdca26"
             ],
             [
              1,
              "#f0f921"
             ]
            ],
            "type": "histogram2dcontour"
           }
          ],
          "mesh3d": [
           {
            "colorbar": {
             "outlinewidth": 0,
             "ticks": ""
            },
            "type": "mesh3d"
           }
          ],
          "parcoords": [
           {
            "line": {
             "colorbar": {
              "outlinewidth": 0,
              "ticks": ""
             }
            },
            "type": "parcoords"
           }
          ],
          "pie": [
           {
            "automargin": true,
            "type": "pie"
           }
          ],
          "scatter": [
           {
            "fillpattern": {
             "fillmode": "overlay",
             "size": 10,
             "solidity": 0.2
            },
            "type": "scatter"
           }
          ],
          "scatter3d": [
           {
            "line": {
             "colorbar": {
              "outlinewidth": 0,
              "ticks": ""
             }
            },
            "marker": {
             "colorbar": {
              "outlinewidth": 0,
              "ticks": ""
             }
            },
            "type": "scatter3d"
           }
          ],
          "scattercarpet": [
           {
            "marker": {
             "colorbar": {
              "outlinewidth": 0,
              "ticks": ""
             }
            },
            "type": "scattercarpet"
           }
          ],
          "scattergeo": [
           {
            "marker": {
             "colorbar": {
              "outlinewidth": 0,
              "ticks": ""
             }
            },
            "type": "scattergeo"
           }
          ],
          "scattergl": [
           {
            "marker": {
             "colorbar": {
              "outlinewidth": 0,
              "ticks": ""
             }
            },
            "type": "scattergl"
           }
          ],
          "scattermapbox": [
           {
            "marker": {
             "colorbar": {
              "outlinewidth": 0,
              "ticks": ""
             }
            },
            "type": "scattermapbox"
           }
          ],
          "scatterpolar": [
           {
            "marker": {
             "colorbar": {
              "outlinewidth": 0,
              "ticks": ""
             }
            },
            "type": "scatterpolar"
           }
          ],
          "scatterpolargl": [
           {
            "marker": {
             "colorbar": {
              "outlinewidth": 0,
              "ticks": ""
             }
            },
            "type": "scatterpolargl"
           }
          ],
          "scatterternary": [
           {
            "marker": {
             "colorbar": {
              "outlinewidth": 0,
              "ticks": ""
             }
            },
            "type": "scatterternary"
           }
          ],
          "surface": [
           {
            "colorbar": {
             "outlinewidth": 0,
             "ticks": ""
            },
            "colorscale": [
             [
              0,
              "#0d0887"
             ],
             [
              0.1111111111111111,
              "#46039f"
             ],
             [
              0.2222222222222222,
              "#7201a8"
             ],
             [
              0.3333333333333333,
              "#9c179e"
             ],
             [
              0.4444444444444444,
              "#bd3786"
             ],
             [
              0.5555555555555556,
              "#d8576b"
             ],
             [
              0.6666666666666666,
              "#ed7953"
             ],
             [
              0.7777777777777778,
              "#fb9f3a"
             ],
             [
              0.8888888888888888,
              "#fdca26"
             ],
             [
              1,
              "#f0f921"
             ]
            ],
            "type": "surface"
           }
          ],
          "table": [
           {
            "cells": {
             "fill": {
              "color": "#EBF0F8"
             },
             "line": {
              "color": "white"
             }
            },
            "header": {
             "fill": {
              "color": "#C8D4E3"
             },
             "line": {
              "color": "white"
             }
            },
            "type": "table"
           }
          ]
         },
         "layout": {
          "annotationdefaults": {
           "arrowcolor": "#2a3f5f",
           "arrowhead": 0,
           "arrowwidth": 1
          },
          "autotypenumbers": "strict",
          "coloraxis": {
           "colorbar": {
            "outlinewidth": 0,
            "ticks": ""
           }
          },
          "colorscale": {
           "diverging": [
            [
             0,
             "#8e0152"
            ],
            [
             0.1,
             "#c51b7d"
            ],
            [
             0.2,
             "#de77ae"
            ],
            [
             0.3,
             "#f1b6da"
            ],
            [
             0.4,
             "#fde0ef"
            ],
            [
             0.5,
             "#f7f7f7"
            ],
            [
             0.6,
             "#e6f5d0"
            ],
            [
             0.7,
             "#b8e186"
            ],
            [
             0.8,
             "#7fbc41"
            ],
            [
             0.9,
             "#4d9221"
            ],
            [
             1,
             "#276419"
            ]
           ],
           "sequential": [
            [
             0,
             "#0d0887"
            ],
            [
             0.1111111111111111,
             "#46039f"
            ],
            [
             0.2222222222222222,
             "#7201a8"
            ],
            [
             0.3333333333333333,
             "#9c179e"
            ],
            [
             0.4444444444444444,
             "#bd3786"
            ],
            [
             0.5555555555555556,
             "#d8576b"
            ],
            [
             0.6666666666666666,
             "#ed7953"
            ],
            [
             0.7777777777777778,
             "#fb9f3a"
            ],
            [
             0.8888888888888888,
             "#fdca26"
            ],
            [
             1,
             "#f0f921"
            ]
           ],
           "sequentialminus": [
            [
             0,
             "#0d0887"
            ],
            [
             0.1111111111111111,
             "#46039f"
            ],
            [
             0.2222222222222222,
             "#7201a8"
            ],
            [
             0.3333333333333333,
             "#9c179e"
            ],
            [
             0.4444444444444444,
             "#bd3786"
            ],
            [
             0.5555555555555556,
             "#d8576b"
            ],
            [
             0.6666666666666666,
             "#ed7953"
            ],
            [
             0.7777777777777778,
             "#fb9f3a"
            ],
            [
             0.8888888888888888,
             "#fdca26"
            ],
            [
             1,
             "#f0f921"
            ]
           ]
          },
          "colorway": [
           "#636efa",
           "#EF553B",
           "#00cc96",
           "#ab63fa",
           "#FFA15A",
           "#19d3f3",
           "#FF6692",
           "#B6E880",
           "#FF97FF",
           "#FECB52"
          ],
          "font": {
           "color": "#2a3f5f"
          },
          "geo": {
           "bgcolor": "white",
           "lakecolor": "white",
           "landcolor": "white",
           "showlakes": true,
           "showland": true,
           "subunitcolor": "#C8D4E3"
          },
          "hoverlabel": {
           "align": "left"
          },
          "hovermode": "closest",
          "mapbox": {
           "style": "light"
          },
          "paper_bgcolor": "white",
          "plot_bgcolor": "white",
          "polar": {
           "angularaxis": {
            "gridcolor": "#EBF0F8",
            "linecolor": "#EBF0F8",
            "ticks": ""
           },
           "bgcolor": "white",
           "radialaxis": {
            "gridcolor": "#EBF0F8",
            "linecolor": "#EBF0F8",
            "ticks": ""
           }
          },
          "scene": {
           "xaxis": {
            "backgroundcolor": "white",
            "gridcolor": "#DFE8F3",
            "gridwidth": 2,
            "linecolor": "#EBF0F8",
            "showbackground": true,
            "ticks": "",
            "zerolinecolor": "#EBF0F8"
           },
           "yaxis": {
            "backgroundcolor": "white",
            "gridcolor": "#DFE8F3",
            "gridwidth": 2,
            "linecolor": "#EBF0F8",
            "showbackground": true,
            "ticks": "",
            "zerolinecolor": "#EBF0F8"
           },
           "zaxis": {
            "backgroundcolor": "white",
            "gridcolor": "#DFE8F3",
            "gridwidth": 2,
            "linecolor": "#EBF0F8",
            "showbackground": true,
            "ticks": "",
            "zerolinecolor": "#EBF0F8"
           }
          },
          "shapedefaults": {
           "line": {
            "color": "#2a3f5f"
           }
          },
          "ternary": {
           "aaxis": {
            "gridcolor": "#DFE8F3",
            "linecolor": "#A2B1C6",
            "ticks": ""
           },
           "baxis": {
            "gridcolor": "#DFE8F3",
            "linecolor": "#A2B1C6",
            "ticks": ""
           },
           "bgcolor": "white",
           "caxis": {
            "gridcolor": "#DFE8F3",
            "linecolor": "#A2B1C6",
            "ticks": ""
           }
          },
          "title": {
           "x": 0.05
          },
          "xaxis": {
           "automargin": true,
           "gridcolor": "#EBF0F8",
           "linecolor": "#EBF0F8",
           "ticks": "",
           "title": {
            "standoff": 15
           },
           "zerolinecolor": "#EBF0F8",
           "zerolinewidth": 2
          },
          "yaxis": {
           "automargin": true,
           "gridcolor": "#EBF0F8",
           "linecolor": "#EBF0F8",
           "ticks": "",
           "title": {
            "standoff": 15
           },
           "zerolinecolor": "#EBF0F8",
           "zerolinewidth": 2
          }
         }
        }
       }
      },
      "text/html": [
       "<div>                            <div id=\"1092821f-b7af-4238-a4f9-188e45e004de\" class=\"plotly-graph-div\" style=\"height:525px; width:100%;\"></div>            <script type=\"text/javascript\">                require([\"plotly\"], function(Plotly) {                    window.PLOTLYENV=window.PLOTLYENV || {};                                    if (document.getElementById(\"1092821f-b7af-4238-a4f9-188e45e004de\")) {                    Plotly.newPlot(                        \"1092821f-b7af-4238-a4f9-188e45e004de\",                        [{\"error_y\":{\"array\":[0.0,0.0959359288102271,0.0578487171462321,0.024491514688737,0.0106738347039298,0.0142846748629971,0.0122849724618883],\"color\":\"#000\",\"type\":\"data\"},\"marker\":{\"color\":\"#636EFA\"},\"name\":\"attention\",\"x\":[\"adult\",\"anneal\",\"australian\",\"jasmine\",\"kr-vs-kp\",\"sylvine\",\"volkert\"],\"y\":[0.5,0.2998638817845979,0.6710656915240956,0.7295458612975392,0.9010957150565144,0.921540612840467,0.4939318788064125],\"type\":\"bar\"},{\"error_y\":{\"array\":[0.0,0.0867623850045687,0.0381433969900467,0.0201171269932772,0.0106738347039298,0.0151072892846986,0.006788214197304],\"color\":\"#000\",\"type\":\"data\"},\"marker\":{\"color\":\"#EF553B\"},\"name\":\"decision_tree\",\"x\":[\"adult\",\"anneal\",\"australian\",\"jasmine\",\"kr-vs-kp\",\"sylvine\",\"volkert\"],\"y\":[0.5,0.6720889457232169,0.8620745722867964,0.806662192393736,0.9010957150565144,0.9211492278696498,0.5360779956020554],\"type\":\"bar\"},{\"error_y\":{\"array\":[0.0,0.0727189189303068,0.0381433969900467,0.0265641059547525,0.0106738347039298,0.0174116500217783,0.0059870769298238],\"color\":\"#000\",\"type\":\"data\"},\"marker\":{\"color\":\"#00CC96\"},\"name\":\"f_classif\",\"x\":[\"adult\",\"anneal\",\"australian\",\"jasmine\",\"kr-vs-kp\",\"sylvine\",\"volkert\"],\"y\":[0.5,0.4621234725774368,0.8620745722867964,0.8012997762863534,0.9010957150565144,0.9113919625486382,0.3748548339665326],\"type\":\"bar\"},{\"error_y\":{\"array\":[0.0057299220922195,0.0694142976392716,0.0381433969900467,0.028275721906261,0.0106738347039298,0.0183172990659589,0.0075751295551865],\"color\":\"#000\",\"type\":\"data\"},\"marker\":{\"color\":\"#AB63FA\"},\"name\":\"linear_model\",\"x\":[\"adult\",\"anneal\",\"australian\",\"jasmine\",\"kr-vs-kp\",\"sylvine\",\"volkert\"],\"y\":[0.5911387314554499,0.5876555839727196,0.8620745722867964,0.8026308724832214,0.9010957150565144,0.920564810311284,0.3941667790438053],\"type\":\"bar\"},{\"error_y\":{\"array\":[0.04103944148125749,0.142066370939519,0.1351490371657257,0.0392824671536236,0.013935168327598413,0.049881876765822675,0.04090428491933083],\"color\":\"blue\",\"type\":\"data\"},\"marker\":{\"color\":\"#FFA15A\"},\"name\":\"random\",\"x\":[\"adult\",\"anneal\",\"australian\",\"jasmine\",\"kr-vs-kp\",\"sylvine\",\"volkert\"],\"y\":[0.5183533961821433,0.3494296512808021,0.6470684341125768,0.7417601789709172,0.5525076161291006,0.548530672422179,0.3950993967557591],\"type\":\"bar\"},{\"marker\":{\"color\":\"#FECB52\",\"line\":{\"width\":5},\"size\":60,\"symbol\":\"line-ew-open\"},\"mode\":\"markers\",\"name\":\"No feature selection\",\"x\":[\"adult\",\"anneal\",\"australian\",\"jasmine\",\"kr-vs-kp\",\"sylvine\",\"volkert\",\"adult\",\"anneal\",\"australian\",\"jasmine\",\"kr-vs-kp\",\"sylvine\",\"volkert\"],\"y\":[0.769775747522246,0.93918094629156,0.862874711592878,0.7801431767337808,0.9933773706457056,0.9264188655155644,0.5784460397706902,0.769775747522246,0.9391809462915599,0.862874711592878,0.7801431767337808,0.9933773706457056,0.9264188655155644,0.5784460397706902],\"type\":\"scatter\"}],                        {\"font\":{\"size\":22},\"margin\":{\"b\":0,\"l\":0,\"r\":0,\"t\":0},\"template\":{\"data\":{\"barpolar\":[{\"marker\":{\"line\":{\"color\":\"white\",\"width\":0.5},\"pattern\":{\"fillmode\":\"overlay\",\"size\":10,\"solidity\":0.2}},\"type\":\"barpolar\"}],\"bar\":[{\"error_x\":{\"color\":\"#2a3f5f\"},\"error_y\":{\"color\":\"#2a3f5f\"},\"marker\":{\"line\":{\"color\":\"white\",\"width\":0.5},\"pattern\":{\"fillmode\":\"overlay\",\"size\":10,\"solidity\":0.2}},\"type\":\"bar\"}],\"carpet\":[{\"aaxis\":{\"endlinecolor\":\"#2a3f5f\",\"gridcolor\":\"#C8D4E3\",\"linecolor\":\"#C8D4E3\",\"minorgridcolor\":\"#C8D4E3\",\"startlinecolor\":\"#2a3f5f\"},\"baxis\":{\"endlinecolor\":\"#2a3f5f\",\"gridcolor\":\"#C8D4E3\",\"linecolor\":\"#C8D4E3\",\"minorgridcolor\":\"#C8D4E3\",\"startlinecolor\":\"#2a3f5f\"},\"type\":\"carpet\"}],\"choropleth\":[{\"colorbar\":{\"outlinewidth\":0,\"ticks\":\"\"},\"type\":\"choropleth\"}],\"contourcarpet\":[{\"colorbar\":{\"outlinewidth\":0,\"ticks\":\"\"},\"type\":\"contourcarpet\"}],\"contour\":[{\"colorbar\":{\"outlinewidth\":0,\"ticks\":\"\"},\"colorscale\":[[0.0,\"#0d0887\"],[0.1111111111111111,\"#46039f\"],[0.2222222222222222,\"#7201a8\"],[0.3333333333333333,\"#9c179e\"],[0.4444444444444444,\"#bd3786\"],[0.5555555555555556,\"#d8576b\"],[0.6666666666666666,\"#ed7953\"],[0.7777777777777778,\"#fb9f3a\"],[0.8888888888888888,\"#fdca26\"],[1.0,\"#f0f921\"]],\"type\":\"contour\"}],\"heatmapgl\":[{\"colorbar\":{\"outlinewidth\":0,\"ticks\":\"\"},\"colorscale\":[[0.0,\"#0d0887\"],[0.1111111111111111,\"#46039f\"],[0.2222222222222222,\"#7201a8\"],[0.3333333333333333,\"#9c179e\"],[0.4444444444444444,\"#bd3786\"],[0.5555555555555556,\"#d8576b\"],[0.6666666666666666,\"#ed7953\"],[0.7777777777777778,\"#fb9f3a\"],[0.8888888888888888,\"#fdca26\"],[1.0,\"#f0f921\"]],\"type\":\"heatmapgl\"}],\"heatmap\":[{\"colorbar\":{\"outlinewidth\":0,\"ticks\":\"\"},\"colorscale\":[[0.0,\"#0d0887\"],[0.1111111111111111,\"#46039f\"],[0.2222222222222222,\"#7201a8\"],[0.3333333333333333,\"#9c179e\"],[0.4444444444444444,\"#bd3786\"],[0.5555555555555556,\"#d8576b\"],[0.6666666666666666,\"#ed7953\"],[0.7777777777777778,\"#fb9f3a\"],[0.8888888888888888,\"#fdca26\"],[1.0,\"#f0f921\"]],\"type\":\"heatmap\"}],\"histogram2dcontour\":[{\"colorbar\":{\"outlinewidth\":0,\"ticks\":\"\"},\"colorscale\":[[0.0,\"#0d0887\"],[0.1111111111111111,\"#46039f\"],[0.2222222222222222,\"#7201a8\"],[0.3333333333333333,\"#9c179e\"],[0.4444444444444444,\"#bd3786\"],[0.5555555555555556,\"#d8576b\"],[0.6666666666666666,\"#ed7953\"],[0.7777777777777778,\"#fb9f3a\"],[0.8888888888888888,\"#fdca26\"],[1.0,\"#f0f921\"]],\"type\":\"histogram2dcontour\"}],\"histogram2d\":[{\"colorbar\":{\"outlinewidth\":0,\"ticks\":\"\"},\"colorscale\":[[0.0,\"#0d0887\"],[0.1111111111111111,\"#46039f\"],[0.2222222222222222,\"#7201a8\"],[0.3333333333333333,\"#9c179e\"],[0.4444444444444444,\"#bd3786\"],[0.5555555555555556,\"#d8576b\"],[0.6666666666666666,\"#ed7953\"],[0.7777777777777778,\"#fb9f3a\"],[0.8888888888888888,\"#fdca26\"],[1.0,\"#f0f921\"]],\"type\":\"histogram2d\"}],\"histogram\":[{\"marker\":{\"pattern\":{\"fillmode\":\"overlay\",\"size\":10,\"solidity\":0.2}},\"type\":\"histogram\"}],\"mesh3d\":[{\"colorbar\":{\"outlinewidth\":0,\"ticks\":\"\"},\"type\":\"mesh3d\"}],\"parcoords\":[{\"line\":{\"colorbar\":{\"outlinewidth\":0,\"ticks\":\"\"}},\"type\":\"parcoords\"}],\"pie\":[{\"automargin\":true,\"type\":\"pie\"}],\"scatter3d\":[{\"line\":{\"colorbar\":{\"outlinewidth\":0,\"ticks\":\"\"}},\"marker\":{\"colorbar\":{\"outlinewidth\":0,\"ticks\":\"\"}},\"type\":\"scatter3d\"}],\"scattercarpet\":[{\"marker\":{\"colorbar\":{\"outlinewidth\":0,\"ticks\":\"\"}},\"type\":\"scattercarpet\"}],\"scattergeo\":[{\"marker\":{\"colorbar\":{\"outlinewidth\":0,\"ticks\":\"\"}},\"type\":\"scattergeo\"}],\"scattergl\":[{\"marker\":{\"colorbar\":{\"outlinewidth\":0,\"ticks\":\"\"}},\"type\":\"scattergl\"}],\"scattermapbox\":[{\"marker\":{\"colorbar\":{\"outlinewidth\":0,\"ticks\":\"\"}},\"type\":\"scattermapbox\"}],\"scatterpolargl\":[{\"marker\":{\"colorbar\":{\"outlinewidth\":0,\"ticks\":\"\"}},\"type\":\"scatterpolargl\"}],\"scatterpolar\":[{\"marker\":{\"colorbar\":{\"outlinewidth\":0,\"ticks\":\"\"}},\"type\":\"scatterpolar\"}],\"scatter\":[{\"fillpattern\":{\"fillmode\":\"overlay\",\"size\":10,\"solidity\":0.2},\"type\":\"scatter\"}],\"scatterternary\":[{\"marker\":{\"colorbar\":{\"outlinewidth\":0,\"ticks\":\"\"}},\"type\":\"scatterternary\"}],\"surface\":[{\"colorbar\":{\"outlinewidth\":0,\"ticks\":\"\"},\"colorscale\":[[0.0,\"#0d0887\"],[0.1111111111111111,\"#46039f\"],[0.2222222222222222,\"#7201a8\"],[0.3333333333333333,\"#9c179e\"],[0.4444444444444444,\"#bd3786\"],[0.5555555555555556,\"#d8576b\"],[0.6666666666666666,\"#ed7953\"],[0.7777777777777778,\"#fb9f3a\"],[0.8888888888888888,\"#fdca26\"],[1.0,\"#f0f921\"]],\"type\":\"surface\"}],\"table\":[{\"cells\":{\"fill\":{\"color\":\"#EBF0F8\"},\"line\":{\"color\":\"white\"}},\"header\":{\"fill\":{\"color\":\"#C8D4E3\"},\"line\":{\"color\":\"white\"}},\"type\":\"table\"}]},\"layout\":{\"annotationdefaults\":{\"arrowcolor\":\"#2a3f5f\",\"arrowhead\":0,\"arrowwidth\":1},\"autotypenumbers\":\"strict\",\"coloraxis\":{\"colorbar\":{\"outlinewidth\":0,\"ticks\":\"\"}},\"colorscale\":{\"diverging\":[[0,\"#8e0152\"],[0.1,\"#c51b7d\"],[0.2,\"#de77ae\"],[0.3,\"#f1b6da\"],[0.4,\"#fde0ef\"],[0.5,\"#f7f7f7\"],[0.6,\"#e6f5d0\"],[0.7,\"#b8e186\"],[0.8,\"#7fbc41\"],[0.9,\"#4d9221\"],[1,\"#276419\"]],\"sequential\":[[0.0,\"#0d0887\"],[0.1111111111111111,\"#46039f\"],[0.2222222222222222,\"#7201a8\"],[0.3333333333333333,\"#9c179e\"],[0.4444444444444444,\"#bd3786\"],[0.5555555555555556,\"#d8576b\"],[0.6666666666666666,\"#ed7953\"],[0.7777777777777778,\"#fb9f3a\"],[0.8888888888888888,\"#fdca26\"],[1.0,\"#f0f921\"]],\"sequentialminus\":[[0.0,\"#0d0887\"],[0.1111111111111111,\"#46039f\"],[0.2222222222222222,\"#7201a8\"],[0.3333333333333333,\"#9c179e\"],[0.4444444444444444,\"#bd3786\"],[0.5555555555555556,\"#d8576b\"],[0.6666666666666666,\"#ed7953\"],[0.7777777777777778,\"#fb9f3a\"],[0.8888888888888888,\"#fdca26\"],[1.0,\"#f0f921\"]]},\"colorway\":[\"#636efa\",\"#EF553B\",\"#00cc96\",\"#ab63fa\",\"#FFA15A\",\"#19d3f3\",\"#FF6692\",\"#B6E880\",\"#FF97FF\",\"#FECB52\"],\"font\":{\"color\":\"#2a3f5f\"},\"geo\":{\"bgcolor\":\"white\",\"lakecolor\":\"white\",\"landcolor\":\"white\",\"showlakes\":true,\"showland\":true,\"subunitcolor\":\"#C8D4E3\"},\"hoverlabel\":{\"align\":\"left\"},\"hovermode\":\"closest\",\"mapbox\":{\"style\":\"light\"},\"paper_bgcolor\":\"white\",\"plot_bgcolor\":\"white\",\"polar\":{\"angularaxis\":{\"gridcolor\":\"#EBF0F8\",\"linecolor\":\"#EBF0F8\",\"ticks\":\"\"},\"bgcolor\":\"white\",\"radialaxis\":{\"gridcolor\":\"#EBF0F8\",\"linecolor\":\"#EBF0F8\",\"ticks\":\"\"}},\"scene\":{\"xaxis\":{\"backgroundcolor\":\"white\",\"gridcolor\":\"#DFE8F3\",\"gridwidth\":2,\"linecolor\":\"#EBF0F8\",\"showbackground\":true,\"ticks\":\"\",\"zerolinecolor\":\"#EBF0F8\"},\"yaxis\":{\"backgroundcolor\":\"white\",\"gridcolor\":\"#DFE8F3\",\"gridwidth\":2,\"linecolor\":\"#EBF0F8\",\"showbackground\":true,\"ticks\":\"\",\"zerolinecolor\":\"#EBF0F8\"},\"zaxis\":{\"backgroundcolor\":\"white\",\"gridcolor\":\"#DFE8F3\",\"gridwidth\":2,\"linecolor\":\"#EBF0F8\",\"showbackground\":true,\"ticks\":\"\",\"zerolinecolor\":\"#EBF0F8\"}},\"shapedefaults\":{\"line\":{\"color\":\"#2a3f5f\"}},\"ternary\":{\"aaxis\":{\"gridcolor\":\"#DFE8F3\",\"linecolor\":\"#A2B1C6\",\"ticks\":\"\"},\"baxis\":{\"gridcolor\":\"#DFE8F3\",\"linecolor\":\"#A2B1C6\",\"ticks\":\"\"},\"bgcolor\":\"white\",\"caxis\":{\"gridcolor\":\"#DFE8F3\",\"linecolor\":\"#A2B1C6\",\"ticks\":\"\"}},\"title\":{\"x\":0.05},\"xaxis\":{\"automargin\":true,\"gridcolor\":\"#EBF0F8\",\"linecolor\":\"#EBF0F8\",\"ticks\":\"\",\"title\":{\"standoff\":15},\"zerolinecolor\":\"#EBF0F8\",\"zerolinewidth\":2},\"yaxis\":{\"automargin\":true,\"gridcolor\":\"#EBF0F8\",\"linecolor\":\"#EBF0F8\",\"ticks\":\"\",\"title\":{\"standoff\":15},\"zerolinecolor\":\"#EBF0F8\",\"zerolinewidth\":2}}}},                        {\"responsive\": true}                    ).then(function(){\n",
       "                            \n",
       "var gd = document.getElementById('1092821f-b7af-4238-a4f9-188e45e004de');\n",
       "var x = new MutationObserver(function (mutations, observer) {{\n",
       "        var display = window.getComputedStyle(gd).display;\n",
       "        if (!display || display === 'none') {{\n",
       "            console.log([gd, 'removed!']);\n",
       "            Plotly.purge(gd);\n",
       "            observer.disconnect();\n",
       "        }}\n",
       "}});\n",
       "\n",
       "// Listen for the removal of the full notebook cells\n",
       "var notebookContainer = gd.closest('#notebook-container');\n",
       "if (notebookContainer) {{\n",
       "    x.observe(notebookContainer, {childList: true});\n",
       "}}\n",
       "\n",
       "// Listen for the clearing of the current output cell\n",
       "var outputEl = gd.closest('.output');\n",
       "if (outputEl) {{\n",
       "    x.observe(outputEl, {childList: true});\n",
       "}}\n",
       "\n",
       "                        })                };                });            </script>        </div>"
      ]
     },
     "metadata": {},
     "output_type": "display_data"
    }
   ],
   "source": [
    "cos_model = \"MLP\"\n",
    "cos_feat_percent = 0.1\n",
    "\n",
    "cos_df = fs_ds_scores_df.query(\n",
    "    \"opt_metric==@OPTIMIZATION_METRIC \"\n",
    "    \"and model==@cos_model \"\n",
    "    \"and features_percent==@cos_feat_percent \"\n",
    ")\n",
    "\n",
    "cos_df = cos_df[[\n",
    "        \"dataset\",\n",
    "        \"cluster\",\n",
    "        \"selection_method\",\n",
    "        \"features_percent\",        \n",
    "        f\"{EVALUATION_METRIC}_mean\", \n",
    "        f\"{EVALUATION_METRIC}_std\", \n",
    "]]\n",
    "\n",
    "\n",
    "fig = go.Figure(layout=layout)\n",
    "\n",
    "\n",
    "for sel_method_i, sel_method in enumerate(cos_df[\"selection_method\"].unique()):\n",
    "    plot_data = cos_df.query(\"selection_method==@sel_method\")\n",
    "    fig.add_trace(go.Bar(\n",
    "        name=sel_method, \n",
    "        x=plot_data[\"dataset\"], \n",
    "        y=plot_data[f\"{EVALUATION_METRIC}_mean\"],\n",
    "        error_y=dict(\n",
    "                    type=\"data\", \n",
    "                    array=plot_data[f\"{EVALUATION_METRIC}_std\"],\n",
    "                    color=\"#000\" if sel_method != \"random\" else \"blue\"\n",
    "                    ),\n",
    "        marker_color=COLORS[sel_method_i]\n",
    "    ))\n",
    "    \n",
    "    \n",
    "# Adding lines of non feature selection scores    \n",
    "cos_df = fs_ds_scores_df.query(\n",
    "    \"opt_metric==@OPTIMIZATION_METRIC \"\n",
    "    \"and model==@cos_model \"\n",
    "    \"and features_percent==1 \"\n",
    ")\n",
    "\n",
    "plot_data = cos_df.drop([\"selection_method\"], axis=1).drop_duplicates()\n",
    "\n",
    "fig.add_trace(go.Scatter(\n",
    "        name=\"No feature selection\", \n",
    "        x=plot_data[\"dataset\"], \n",
    "        y=plot_data[f\"{EVALUATION_METRIC}_mean\"],\n",
    "        mode=\"markers\",\n",
    "        marker=dict(\n",
    "            color=COLORS[-1],\n",
    "            symbol=\"line-ew-open\",\n",
    "            size=60,\n",
    "            line=dict(width=5)\n",
    "        )\n",
    "    ))\n",
    "\n",
    "fig.show()\n",
    "fig.write_image(os.path.join(ASSETS_DIR, f\"results_dataset_{cos_model}_{cos_feat_percent}.png\"), scale=IMG_SCALE)"
   ]
  },
  {
   "cell_type": "markdown",
   "id": "7feac1cf",
   "metadata": {},
   "source": [
    "#### General"
   ]
  },
  {
   "cell_type": "code",
   "execution_count": 21,
   "id": "0ceedb18",
   "metadata": {},
   "outputs": [
    {
     "data": {
      "application/vnd.plotly.v1+json": {
       "config": {
        "plotlyServerURL": "https://plot.ly"
       },
       "data": [
        {
         "line": {
          "color": "#636EFA"
         },
         "mode": "lines",
         "name": "attention",
         "type": "scatter",
         "x": [
          0.1,
          0.2,
          0.3,
          1
         ],
         "y": [
          0.6544469982785729,
          0.6873165185420521,
          0.7250937586714515,
          0.8067327231707467
         ]
        },
        {
         "line": {
          "color": "#EF553B"
         },
         "mode": "lines",
         "name": "decision_tree",
         "type": "scatter",
         "x": [
          0.1,
          0.2,
          0.3,
          1
         ],
         "y": [
          0.7213337670560003,
          0.7786338664236627,
          0.7900539954050475,
          0.8067327231707467
         ]
        },
        {
         "line": {
          "color": "#00CC96"
         },
         "mode": "lines",
         "name": "f_classif",
         "type": "scatter",
         "x": [
          0.1,
          0.2,
          0.3,
          1
         ],
         "y": [
          0.6685092918510647,
          0.7088808136623486,
          0.7490808974587715,
          0.8067327231707467
         ]
        },
        {
         "line": {
          "color": "#AB63FA"
         },
         "mode": "lines",
         "name": "linear_model",
         "type": "scatter",
         "x": [
          0.1,
          0.2,
          0.3,
          1
         ],
         "y": [
          0.7055596466766323,
          0.7679717201435647,
          0.7903919674058218,
          0.8067327231707467
         ]
        },
        {
         "line": {
          "color": "#FFA15A"
         },
         "mode": "lines",
         "name": "random",
         "type": "scatter",
         "x": [
          0.1,
          0.2,
          0.3,
          1
         ],
         "y": [
          0.5237796603196433,
          0.6148704385228209,
          0.6447087336351143,
          0.8067327231707467
         ]
        }
       ],
       "layout": {
        "font": {
         "size": 22
        },
        "margin": {
         "b": 0,
         "l": 0,
         "r": 0,
         "t": 0
        },
        "template": {
         "data": {
          "bar": [
           {
            "error_x": {
             "color": "#2a3f5f"
            },
            "error_y": {
             "color": "#2a3f5f"
            },
            "marker": {
             "line": {
              "color": "white",
              "width": 0.5
             },
             "pattern": {
              "fillmode": "overlay",
              "size": 10,
              "solidity": 0.2
             }
            },
            "type": "bar"
           }
          ],
          "barpolar": [
           {
            "marker": {
             "line": {
              "color": "white",
              "width": 0.5
             },
             "pattern": {
              "fillmode": "overlay",
              "size": 10,
              "solidity": 0.2
             }
            },
            "type": "barpolar"
           }
          ],
          "carpet": [
           {
            "aaxis": {
             "endlinecolor": "#2a3f5f",
             "gridcolor": "#C8D4E3",
             "linecolor": "#C8D4E3",
             "minorgridcolor": "#C8D4E3",
             "startlinecolor": "#2a3f5f"
            },
            "baxis": {
             "endlinecolor": "#2a3f5f",
             "gridcolor": "#C8D4E3",
             "linecolor": "#C8D4E3",
             "minorgridcolor": "#C8D4E3",
             "startlinecolor": "#2a3f5f"
            },
            "type": "carpet"
           }
          ],
          "choropleth": [
           {
            "colorbar": {
             "outlinewidth": 0,
             "ticks": ""
            },
            "type": "choropleth"
           }
          ],
          "contour": [
           {
            "colorbar": {
             "outlinewidth": 0,
             "ticks": ""
            },
            "colorscale": [
             [
              0,
              "#0d0887"
             ],
             [
              0.1111111111111111,
              "#46039f"
             ],
             [
              0.2222222222222222,
              "#7201a8"
             ],
             [
              0.3333333333333333,
              "#9c179e"
             ],
             [
              0.4444444444444444,
              "#bd3786"
             ],
             [
              0.5555555555555556,
              "#d8576b"
             ],
             [
              0.6666666666666666,
              "#ed7953"
             ],
             [
              0.7777777777777778,
              "#fb9f3a"
             ],
             [
              0.8888888888888888,
              "#fdca26"
             ],
             [
              1,
              "#f0f921"
             ]
            ],
            "type": "contour"
           }
          ],
          "contourcarpet": [
           {
            "colorbar": {
             "outlinewidth": 0,
             "ticks": ""
            },
            "type": "contourcarpet"
           }
          ],
          "heatmap": [
           {
            "colorbar": {
             "outlinewidth": 0,
             "ticks": ""
            },
            "colorscale": [
             [
              0,
              "#0d0887"
             ],
             [
              0.1111111111111111,
              "#46039f"
             ],
             [
              0.2222222222222222,
              "#7201a8"
             ],
             [
              0.3333333333333333,
              "#9c179e"
             ],
             [
              0.4444444444444444,
              "#bd3786"
             ],
             [
              0.5555555555555556,
              "#d8576b"
             ],
             [
              0.6666666666666666,
              "#ed7953"
             ],
             [
              0.7777777777777778,
              "#fb9f3a"
             ],
             [
              0.8888888888888888,
              "#fdca26"
             ],
             [
              1,
              "#f0f921"
             ]
            ],
            "type": "heatmap"
           }
          ],
          "heatmapgl": [
           {
            "colorbar": {
             "outlinewidth": 0,
             "ticks": ""
            },
            "colorscale": [
             [
              0,
              "#0d0887"
             ],
             [
              0.1111111111111111,
              "#46039f"
             ],
             [
              0.2222222222222222,
              "#7201a8"
             ],
             [
              0.3333333333333333,
              "#9c179e"
             ],
             [
              0.4444444444444444,
              "#bd3786"
             ],
             [
              0.5555555555555556,
              "#d8576b"
             ],
             [
              0.6666666666666666,
              "#ed7953"
             ],
             [
              0.7777777777777778,
              "#fb9f3a"
             ],
             [
              0.8888888888888888,
              "#fdca26"
             ],
             [
              1,
              "#f0f921"
             ]
            ],
            "type": "heatmapgl"
           }
          ],
          "histogram": [
           {
            "marker": {
             "pattern": {
              "fillmode": "overlay",
              "size": 10,
              "solidity": 0.2
             }
            },
            "type": "histogram"
           }
          ],
          "histogram2d": [
           {
            "colorbar": {
             "outlinewidth": 0,
             "ticks": ""
            },
            "colorscale": [
             [
              0,
              "#0d0887"
             ],
             [
              0.1111111111111111,
              "#46039f"
             ],
             [
              0.2222222222222222,
              "#7201a8"
             ],
             [
              0.3333333333333333,
              "#9c179e"
             ],
             [
              0.4444444444444444,
              "#bd3786"
             ],
             [
              0.5555555555555556,
              "#d8576b"
             ],
             [
              0.6666666666666666,
              "#ed7953"
             ],
             [
              0.7777777777777778,
              "#fb9f3a"
             ],
             [
              0.8888888888888888,
              "#fdca26"
             ],
             [
              1,
              "#f0f921"
             ]
            ],
            "type": "histogram2d"
           }
          ],
          "histogram2dcontour": [
           {
            "colorbar": {
             "outlinewidth": 0,
             "ticks": ""
            },
            "colorscale": [
             [
              0,
              "#0d0887"
             ],
             [
              0.1111111111111111,
              "#46039f"
             ],
             [
              0.2222222222222222,
              "#7201a8"
             ],
             [
              0.3333333333333333,
              "#9c179e"
             ],
             [
              0.4444444444444444,
              "#bd3786"
             ],
             [
              0.5555555555555556,
              "#d8576b"
             ],
             [
              0.6666666666666666,
              "#ed7953"
             ],
             [
              0.7777777777777778,
              "#fb9f3a"
             ],
             [
              0.8888888888888888,
              "#fdca26"
             ],
             [
              1,
              "#f0f921"
             ]
            ],
            "type": "histogram2dcontour"
           }
          ],
          "mesh3d": [
           {
            "colorbar": {
             "outlinewidth": 0,
             "ticks": ""
            },
            "type": "mesh3d"
           }
          ],
          "parcoords": [
           {
            "line": {
             "colorbar": {
              "outlinewidth": 0,
              "ticks": ""
             }
            },
            "type": "parcoords"
           }
          ],
          "pie": [
           {
            "automargin": true,
            "type": "pie"
           }
          ],
          "scatter": [
           {
            "fillpattern": {
             "fillmode": "overlay",
             "size": 10,
             "solidity": 0.2
            },
            "type": "scatter"
           }
          ],
          "scatter3d": [
           {
            "line": {
             "colorbar": {
              "outlinewidth": 0,
              "ticks": ""
             }
            },
            "marker": {
             "colorbar": {
              "outlinewidth": 0,
              "ticks": ""
             }
            },
            "type": "scatter3d"
           }
          ],
          "scattercarpet": [
           {
            "marker": {
             "colorbar": {
              "outlinewidth": 0,
              "ticks": ""
             }
            },
            "type": "scattercarpet"
           }
          ],
          "scattergeo": [
           {
            "marker": {
             "colorbar": {
              "outlinewidth": 0,
              "ticks": ""
             }
            },
            "type": "scattergeo"
           }
          ],
          "scattergl": [
           {
            "marker": {
             "colorbar": {
              "outlinewidth": 0,
              "ticks": ""
             }
            },
            "type": "scattergl"
           }
          ],
          "scattermapbox": [
           {
            "marker": {
             "colorbar": {
              "outlinewidth": 0,
              "ticks": ""
             }
            },
            "type": "scattermapbox"
           }
          ],
          "scatterpolar": [
           {
            "marker": {
             "colorbar": {
              "outlinewidth": 0,
              "ticks": ""
             }
            },
            "type": "scatterpolar"
           }
          ],
          "scatterpolargl": [
           {
            "marker": {
             "colorbar": {
              "outlinewidth": 0,
              "ticks": ""
             }
            },
            "type": "scatterpolargl"
           }
          ],
          "scatterternary": [
           {
            "marker": {
             "colorbar": {
              "outlinewidth": 0,
              "ticks": ""
             }
            },
            "type": "scatterternary"
           }
          ],
          "surface": [
           {
            "colorbar": {
             "outlinewidth": 0,
             "ticks": ""
            },
            "colorscale": [
             [
              0,
              "#0d0887"
             ],
             [
              0.1111111111111111,
              "#46039f"
             ],
             [
              0.2222222222222222,
              "#7201a8"
             ],
             [
              0.3333333333333333,
              "#9c179e"
             ],
             [
              0.4444444444444444,
              "#bd3786"
             ],
             [
              0.5555555555555556,
              "#d8576b"
             ],
             [
              0.6666666666666666,
              "#ed7953"
             ],
             [
              0.7777777777777778,
              "#fb9f3a"
             ],
             [
              0.8888888888888888,
              "#fdca26"
             ],
             [
              1,
              "#f0f921"
             ]
            ],
            "type": "surface"
           }
          ],
          "table": [
           {
            "cells": {
             "fill": {
              "color": "#EBF0F8"
             },
             "line": {
              "color": "white"
             }
            },
            "header": {
             "fill": {
              "color": "#C8D4E3"
             },
             "line": {
              "color": "white"
             }
            },
            "type": "table"
           }
          ]
         },
         "layout": {
          "annotationdefaults": {
           "arrowcolor": "#2a3f5f",
           "arrowhead": 0,
           "arrowwidth": 1
          },
          "autotypenumbers": "strict",
          "coloraxis": {
           "colorbar": {
            "outlinewidth": 0,
            "ticks": ""
           }
          },
          "colorscale": {
           "diverging": [
            [
             0,
             "#8e0152"
            ],
            [
             0.1,
             "#c51b7d"
            ],
            [
             0.2,
             "#de77ae"
            ],
            [
             0.3,
             "#f1b6da"
            ],
            [
             0.4,
             "#fde0ef"
            ],
            [
             0.5,
             "#f7f7f7"
            ],
            [
             0.6,
             "#e6f5d0"
            ],
            [
             0.7,
             "#b8e186"
            ],
            [
             0.8,
             "#7fbc41"
            ],
            [
             0.9,
             "#4d9221"
            ],
            [
             1,
             "#276419"
            ]
           ],
           "sequential": [
            [
             0,
             "#0d0887"
            ],
            [
             0.1111111111111111,
             "#46039f"
            ],
            [
             0.2222222222222222,
             "#7201a8"
            ],
            [
             0.3333333333333333,
             "#9c179e"
            ],
            [
             0.4444444444444444,
             "#bd3786"
            ],
            [
             0.5555555555555556,
             "#d8576b"
            ],
            [
             0.6666666666666666,
             "#ed7953"
            ],
            [
             0.7777777777777778,
             "#fb9f3a"
            ],
            [
             0.8888888888888888,
             "#fdca26"
            ],
            [
             1,
             "#f0f921"
            ]
           ],
           "sequentialminus": [
            [
             0,
             "#0d0887"
            ],
            [
             0.1111111111111111,
             "#46039f"
            ],
            [
             0.2222222222222222,
             "#7201a8"
            ],
            [
             0.3333333333333333,
             "#9c179e"
            ],
            [
             0.4444444444444444,
             "#bd3786"
            ],
            [
             0.5555555555555556,
             "#d8576b"
            ],
            [
             0.6666666666666666,
             "#ed7953"
            ],
            [
             0.7777777777777778,
             "#fb9f3a"
            ],
            [
             0.8888888888888888,
             "#fdca26"
            ],
            [
             1,
             "#f0f921"
            ]
           ]
          },
          "colorway": [
           "#636efa",
           "#EF553B",
           "#00cc96",
           "#ab63fa",
           "#FFA15A",
           "#19d3f3",
           "#FF6692",
           "#B6E880",
           "#FF97FF",
           "#FECB52"
          ],
          "font": {
           "color": "#2a3f5f"
          },
          "geo": {
           "bgcolor": "white",
           "lakecolor": "white",
           "landcolor": "white",
           "showlakes": true,
           "showland": true,
           "subunitcolor": "#C8D4E3"
          },
          "hoverlabel": {
           "align": "left"
          },
          "hovermode": "closest",
          "mapbox": {
           "style": "light"
          },
          "paper_bgcolor": "white",
          "plot_bgcolor": "white",
          "polar": {
           "angularaxis": {
            "gridcolor": "#EBF0F8",
            "linecolor": "#EBF0F8",
            "ticks": ""
           },
           "bgcolor": "white",
           "radialaxis": {
            "gridcolor": "#EBF0F8",
            "linecolor": "#EBF0F8",
            "ticks": ""
           }
          },
          "scene": {
           "xaxis": {
            "backgroundcolor": "white",
            "gridcolor": "#DFE8F3",
            "gridwidth": 2,
            "linecolor": "#EBF0F8",
            "showbackground": true,
            "ticks": "",
            "zerolinecolor": "#EBF0F8"
           },
           "yaxis": {
            "backgroundcolor": "white",
            "gridcolor": "#DFE8F3",
            "gridwidth": 2,
            "linecolor": "#EBF0F8",
            "showbackground": true,
            "ticks": "",
            "zerolinecolor": "#EBF0F8"
           },
           "zaxis": {
            "backgroundcolor": "white",
            "gridcolor": "#DFE8F3",
            "gridwidth": 2,
            "linecolor": "#EBF0F8",
            "showbackground": true,
            "ticks": "",
            "zerolinecolor": "#EBF0F8"
           }
          },
          "shapedefaults": {
           "line": {
            "color": "#2a3f5f"
           }
          },
          "ternary": {
           "aaxis": {
            "gridcolor": "#DFE8F3",
            "linecolor": "#A2B1C6",
            "ticks": ""
           },
           "baxis": {
            "gridcolor": "#DFE8F3",
            "linecolor": "#A2B1C6",
            "ticks": ""
           },
           "bgcolor": "white",
           "caxis": {
            "gridcolor": "#DFE8F3",
            "linecolor": "#A2B1C6",
            "ticks": ""
           }
          },
          "title": {
           "x": 0.05
          },
          "xaxis": {
           "automargin": true,
           "gridcolor": "#EBF0F8",
           "linecolor": "#EBF0F8",
           "ticks": "",
           "title": {
            "standoff": 15
           },
           "zerolinecolor": "#EBF0F8",
           "zerolinewidth": 2
          },
          "yaxis": {
           "automargin": true,
           "gridcolor": "#EBF0F8",
           "linecolor": "#EBF0F8",
           "ticks": "",
           "title": {
            "standoff": 15
           },
           "zerolinecolor": "#EBF0F8",
           "zerolinewidth": 2
          }
         }
        }
       }
      },
      "text/html": [
       "<div>                            <div id=\"ce9a4abe-092d-4af3-8740-5ff3e48ee43f\" class=\"plotly-graph-div\" style=\"height:525px; width:100%;\"></div>            <script type=\"text/javascript\">                require([\"plotly\"], function(Plotly) {                    window.PLOTLYENV=window.PLOTLYENV || {};                                    if (document.getElementById(\"ce9a4abe-092d-4af3-8740-5ff3e48ee43f\")) {                    Plotly.newPlot(                        \"ce9a4abe-092d-4af3-8740-5ff3e48ee43f\",                        [{\"line\":{\"color\":\"#636EFA\"},\"mode\":\"lines\",\"name\":\"attention\",\"x\":[0.1,0.2,0.3,1.0],\"y\":[0.6544469982785729,0.6873165185420521,0.7250937586714515,0.8067327231707467],\"type\":\"scatter\"},{\"line\":{\"color\":\"#EF553B\"},\"mode\":\"lines\",\"name\":\"decision_tree\",\"x\":[0.1,0.2,0.3,1.0],\"y\":[0.7213337670560003,0.7786338664236627,0.7900539954050475,0.8067327231707467],\"type\":\"scatter\"},{\"line\":{\"color\":\"#00CC96\"},\"mode\":\"lines\",\"name\":\"f_classif\",\"x\":[0.1,0.2,0.3,1.0],\"y\":[0.6685092918510647,0.7088808136623486,0.7490808974587715,0.8067327231707467],\"type\":\"scatter\"},{\"line\":{\"color\":\"#AB63FA\"},\"mode\":\"lines\",\"name\":\"linear_model\",\"x\":[0.1,0.2,0.3,1.0],\"y\":[0.7055596466766323,0.7679717201435647,0.7903919674058218,0.8067327231707467],\"type\":\"scatter\"},{\"line\":{\"color\":\"#FFA15A\"},\"mode\":\"lines\",\"name\":\"random\",\"x\":[0.1,0.2,0.3,1.0],\"y\":[0.5237796603196433,0.6148704385228209,0.6447087336351143,0.8067327231707467],\"type\":\"scatter\"}],                        {\"font\":{\"size\":22},\"margin\":{\"b\":0,\"l\":0,\"r\":0,\"t\":0},\"template\":{\"data\":{\"barpolar\":[{\"marker\":{\"line\":{\"color\":\"white\",\"width\":0.5},\"pattern\":{\"fillmode\":\"overlay\",\"size\":10,\"solidity\":0.2}},\"type\":\"barpolar\"}],\"bar\":[{\"error_x\":{\"color\":\"#2a3f5f\"},\"error_y\":{\"color\":\"#2a3f5f\"},\"marker\":{\"line\":{\"color\":\"white\",\"width\":0.5},\"pattern\":{\"fillmode\":\"overlay\",\"size\":10,\"solidity\":0.2}},\"type\":\"bar\"}],\"carpet\":[{\"aaxis\":{\"endlinecolor\":\"#2a3f5f\",\"gridcolor\":\"#C8D4E3\",\"linecolor\":\"#C8D4E3\",\"minorgridcolor\":\"#C8D4E3\",\"startlinecolor\":\"#2a3f5f\"},\"baxis\":{\"endlinecolor\":\"#2a3f5f\",\"gridcolor\":\"#C8D4E3\",\"linecolor\":\"#C8D4E3\",\"minorgridcolor\":\"#C8D4E3\",\"startlinecolor\":\"#2a3f5f\"},\"type\":\"carpet\"}],\"choropleth\":[{\"colorbar\":{\"outlinewidth\":0,\"ticks\":\"\"},\"type\":\"choropleth\"}],\"contourcarpet\":[{\"colorbar\":{\"outlinewidth\":0,\"ticks\":\"\"},\"type\":\"contourcarpet\"}],\"contour\":[{\"colorbar\":{\"outlinewidth\":0,\"ticks\":\"\"},\"colorscale\":[[0.0,\"#0d0887\"],[0.1111111111111111,\"#46039f\"],[0.2222222222222222,\"#7201a8\"],[0.3333333333333333,\"#9c179e\"],[0.4444444444444444,\"#bd3786\"],[0.5555555555555556,\"#d8576b\"],[0.6666666666666666,\"#ed7953\"],[0.7777777777777778,\"#fb9f3a\"],[0.8888888888888888,\"#fdca26\"],[1.0,\"#f0f921\"]],\"type\":\"contour\"}],\"heatmapgl\":[{\"colorbar\":{\"outlinewidth\":0,\"ticks\":\"\"},\"colorscale\":[[0.0,\"#0d0887\"],[0.1111111111111111,\"#46039f\"],[0.2222222222222222,\"#7201a8\"],[0.3333333333333333,\"#9c179e\"],[0.4444444444444444,\"#bd3786\"],[0.5555555555555556,\"#d8576b\"],[0.6666666666666666,\"#ed7953\"],[0.7777777777777778,\"#fb9f3a\"],[0.8888888888888888,\"#fdca26\"],[1.0,\"#f0f921\"]],\"type\":\"heatmapgl\"}],\"heatmap\":[{\"colorbar\":{\"outlinewidth\":0,\"ticks\":\"\"},\"colorscale\":[[0.0,\"#0d0887\"],[0.1111111111111111,\"#46039f\"],[0.2222222222222222,\"#7201a8\"],[0.3333333333333333,\"#9c179e\"],[0.4444444444444444,\"#bd3786\"],[0.5555555555555556,\"#d8576b\"],[0.6666666666666666,\"#ed7953\"],[0.7777777777777778,\"#fb9f3a\"],[0.8888888888888888,\"#fdca26\"],[1.0,\"#f0f921\"]],\"type\":\"heatmap\"}],\"histogram2dcontour\":[{\"colorbar\":{\"outlinewidth\":0,\"ticks\":\"\"},\"colorscale\":[[0.0,\"#0d0887\"],[0.1111111111111111,\"#46039f\"],[0.2222222222222222,\"#7201a8\"],[0.3333333333333333,\"#9c179e\"],[0.4444444444444444,\"#bd3786\"],[0.5555555555555556,\"#d8576b\"],[0.6666666666666666,\"#ed7953\"],[0.7777777777777778,\"#fb9f3a\"],[0.8888888888888888,\"#fdca26\"],[1.0,\"#f0f921\"]],\"type\":\"histogram2dcontour\"}],\"histogram2d\":[{\"colorbar\":{\"outlinewidth\":0,\"ticks\":\"\"},\"colorscale\":[[0.0,\"#0d0887\"],[0.1111111111111111,\"#46039f\"],[0.2222222222222222,\"#7201a8\"],[0.3333333333333333,\"#9c179e\"],[0.4444444444444444,\"#bd3786\"],[0.5555555555555556,\"#d8576b\"],[0.6666666666666666,\"#ed7953\"],[0.7777777777777778,\"#fb9f3a\"],[0.8888888888888888,\"#fdca26\"],[1.0,\"#f0f921\"]],\"type\":\"histogram2d\"}],\"histogram\":[{\"marker\":{\"pattern\":{\"fillmode\":\"overlay\",\"size\":10,\"solidity\":0.2}},\"type\":\"histogram\"}],\"mesh3d\":[{\"colorbar\":{\"outlinewidth\":0,\"ticks\":\"\"},\"type\":\"mesh3d\"}],\"parcoords\":[{\"line\":{\"colorbar\":{\"outlinewidth\":0,\"ticks\":\"\"}},\"type\":\"parcoords\"}],\"pie\":[{\"automargin\":true,\"type\":\"pie\"}],\"scatter3d\":[{\"line\":{\"colorbar\":{\"outlinewidth\":0,\"ticks\":\"\"}},\"marker\":{\"colorbar\":{\"outlinewidth\":0,\"ticks\":\"\"}},\"type\":\"scatter3d\"}],\"scattercarpet\":[{\"marker\":{\"colorbar\":{\"outlinewidth\":0,\"ticks\":\"\"}},\"type\":\"scattercarpet\"}],\"scattergeo\":[{\"marker\":{\"colorbar\":{\"outlinewidth\":0,\"ticks\":\"\"}},\"type\":\"scattergeo\"}],\"scattergl\":[{\"marker\":{\"colorbar\":{\"outlinewidth\":0,\"ticks\":\"\"}},\"type\":\"scattergl\"}],\"scattermapbox\":[{\"marker\":{\"colorbar\":{\"outlinewidth\":0,\"ticks\":\"\"}},\"type\":\"scattermapbox\"}],\"scatterpolargl\":[{\"marker\":{\"colorbar\":{\"outlinewidth\":0,\"ticks\":\"\"}},\"type\":\"scatterpolargl\"}],\"scatterpolar\":[{\"marker\":{\"colorbar\":{\"outlinewidth\":0,\"ticks\":\"\"}},\"type\":\"scatterpolar\"}],\"scatter\":[{\"fillpattern\":{\"fillmode\":\"overlay\",\"size\":10,\"solidity\":0.2},\"type\":\"scatter\"}],\"scatterternary\":[{\"marker\":{\"colorbar\":{\"outlinewidth\":0,\"ticks\":\"\"}},\"type\":\"scatterternary\"}],\"surface\":[{\"colorbar\":{\"outlinewidth\":0,\"ticks\":\"\"},\"colorscale\":[[0.0,\"#0d0887\"],[0.1111111111111111,\"#46039f\"],[0.2222222222222222,\"#7201a8\"],[0.3333333333333333,\"#9c179e\"],[0.4444444444444444,\"#bd3786\"],[0.5555555555555556,\"#d8576b\"],[0.6666666666666666,\"#ed7953\"],[0.7777777777777778,\"#fb9f3a\"],[0.8888888888888888,\"#fdca26\"],[1.0,\"#f0f921\"]],\"type\":\"surface\"}],\"table\":[{\"cells\":{\"fill\":{\"color\":\"#EBF0F8\"},\"line\":{\"color\":\"white\"}},\"header\":{\"fill\":{\"color\":\"#C8D4E3\"},\"line\":{\"color\":\"white\"}},\"type\":\"table\"}]},\"layout\":{\"annotationdefaults\":{\"arrowcolor\":\"#2a3f5f\",\"arrowhead\":0,\"arrowwidth\":1},\"autotypenumbers\":\"strict\",\"coloraxis\":{\"colorbar\":{\"outlinewidth\":0,\"ticks\":\"\"}},\"colorscale\":{\"diverging\":[[0,\"#8e0152\"],[0.1,\"#c51b7d\"],[0.2,\"#de77ae\"],[0.3,\"#f1b6da\"],[0.4,\"#fde0ef\"],[0.5,\"#f7f7f7\"],[0.6,\"#e6f5d0\"],[0.7,\"#b8e186\"],[0.8,\"#7fbc41\"],[0.9,\"#4d9221\"],[1,\"#276419\"]],\"sequential\":[[0.0,\"#0d0887\"],[0.1111111111111111,\"#46039f\"],[0.2222222222222222,\"#7201a8\"],[0.3333333333333333,\"#9c179e\"],[0.4444444444444444,\"#bd3786\"],[0.5555555555555556,\"#d8576b\"],[0.6666666666666666,\"#ed7953\"],[0.7777777777777778,\"#fb9f3a\"],[0.8888888888888888,\"#fdca26\"],[1.0,\"#f0f921\"]],\"sequentialminus\":[[0.0,\"#0d0887\"],[0.1111111111111111,\"#46039f\"],[0.2222222222222222,\"#7201a8\"],[0.3333333333333333,\"#9c179e\"],[0.4444444444444444,\"#bd3786\"],[0.5555555555555556,\"#d8576b\"],[0.6666666666666666,\"#ed7953\"],[0.7777777777777778,\"#fb9f3a\"],[0.8888888888888888,\"#fdca26\"],[1.0,\"#f0f921\"]]},\"colorway\":[\"#636efa\",\"#EF553B\",\"#00cc96\",\"#ab63fa\",\"#FFA15A\",\"#19d3f3\",\"#FF6692\",\"#B6E880\",\"#FF97FF\",\"#FECB52\"],\"font\":{\"color\":\"#2a3f5f\"},\"geo\":{\"bgcolor\":\"white\",\"lakecolor\":\"white\",\"landcolor\":\"white\",\"showlakes\":true,\"showland\":true,\"subunitcolor\":\"#C8D4E3\"},\"hoverlabel\":{\"align\":\"left\"},\"hovermode\":\"closest\",\"mapbox\":{\"style\":\"light\"},\"paper_bgcolor\":\"white\",\"plot_bgcolor\":\"white\",\"polar\":{\"angularaxis\":{\"gridcolor\":\"#EBF0F8\",\"linecolor\":\"#EBF0F8\",\"ticks\":\"\"},\"bgcolor\":\"white\",\"radialaxis\":{\"gridcolor\":\"#EBF0F8\",\"linecolor\":\"#EBF0F8\",\"ticks\":\"\"}},\"scene\":{\"xaxis\":{\"backgroundcolor\":\"white\",\"gridcolor\":\"#DFE8F3\",\"gridwidth\":2,\"linecolor\":\"#EBF0F8\",\"showbackground\":true,\"ticks\":\"\",\"zerolinecolor\":\"#EBF0F8\"},\"yaxis\":{\"backgroundcolor\":\"white\",\"gridcolor\":\"#DFE8F3\",\"gridwidth\":2,\"linecolor\":\"#EBF0F8\",\"showbackground\":true,\"ticks\":\"\",\"zerolinecolor\":\"#EBF0F8\"},\"zaxis\":{\"backgroundcolor\":\"white\",\"gridcolor\":\"#DFE8F3\",\"gridwidth\":2,\"linecolor\":\"#EBF0F8\",\"showbackground\":true,\"ticks\":\"\",\"zerolinecolor\":\"#EBF0F8\"}},\"shapedefaults\":{\"line\":{\"color\":\"#2a3f5f\"}},\"ternary\":{\"aaxis\":{\"gridcolor\":\"#DFE8F3\",\"linecolor\":\"#A2B1C6\",\"ticks\":\"\"},\"baxis\":{\"gridcolor\":\"#DFE8F3\",\"linecolor\":\"#A2B1C6\",\"ticks\":\"\"},\"bgcolor\":\"white\",\"caxis\":{\"gridcolor\":\"#DFE8F3\",\"linecolor\":\"#A2B1C6\",\"ticks\":\"\"}},\"title\":{\"x\":0.05},\"xaxis\":{\"automargin\":true,\"gridcolor\":\"#EBF0F8\",\"linecolor\":\"#EBF0F8\",\"ticks\":\"\",\"title\":{\"standoff\":15},\"zerolinecolor\":\"#EBF0F8\",\"zerolinewidth\":2},\"yaxis\":{\"automargin\":true,\"gridcolor\":\"#EBF0F8\",\"linecolor\":\"#EBF0F8\",\"ticks\":\"\",\"title\":{\"standoff\":15},\"zerolinecolor\":\"#EBF0F8\",\"zerolinewidth\":2}}}},                        {\"responsive\": true}                    ).then(function(){\n",
       "                            \n",
       "var gd = document.getElementById('ce9a4abe-092d-4af3-8740-5ff3e48ee43f');\n",
       "var x = new MutationObserver(function (mutations, observer) {{\n",
       "        var display = window.getComputedStyle(gd).display;\n",
       "        if (!display || display === 'none') {{\n",
       "            console.log([gd, 'removed!']);\n",
       "            Plotly.purge(gd);\n",
       "            observer.disconnect();\n",
       "        }}\n",
       "}});\n",
       "\n",
       "// Listen for the removal of the full notebook cells\n",
       "var notebookContainer = gd.closest('#notebook-container');\n",
       "if (notebookContainer) {{\n",
       "    x.observe(notebookContainer, {childList: true});\n",
       "}}\n",
       "\n",
       "// Listen for the clearing of the current output cell\n",
       "var outputEl = gd.closest('.output');\n",
       "if (outputEl) {{\n",
       "    x.observe(outputEl, {childList: true});\n",
       "}}\n",
       "\n",
       "                        })                };                });            </script>        </div>"
      ]
     },
     "metadata": {},
     "output_type": "display_data"
    }
   ],
   "source": [
    "cos_model = \"DT\"\n",
    "cos_exclude_datasets = []#[\"anneal\", \"australian\"]\n",
    "\n",
    "cos_df = fs_ds_scores_df.query(\n",
    "    \"opt_metric==@OPTIMIZATION_METRIC \"\n",
    "    \"and model==@cos_model \"\n",
    "    \"and dataset not in @cos_exclude_datasets \"\n",
    ")\n",
    "\n",
    "cos_df = cos_df[[\n",
    "        \"selection_method\",\n",
    "        \"features_percent\",        \n",
    "        f\"{EVALUATION_METRIC}_mean\", \n",
    "        f\"{EVALUATION_METRIC}_std\", \n",
    "]]\n",
    "\n",
    "cos_df = cos_df.groupby([\"selection_method\", \"features_percent\"], as_index=False).agg([\"mean\", \"std\"])\n",
    "cos_df.columns = [\"_\".join(col) if col[1] else col[0] for col in cos_df.columns] \n",
    "\n",
    "fig = go.Figure(layout=layout)\n",
    "\n",
    "\n",
    "for sel_method_i, sel_method in enumerate(cos_df[\"selection_method\"].unique()):\n",
    "    plot_data = cos_df.query(\"selection_method==@sel_method\")\n",
    "    fig.add_trace(go.Scatter(\n",
    "        name=sel_method,\n",
    "        x=plot_data[\"features_percent\"],\n",
    "        y=plot_data[f\"{EVALUATION_METRIC}_mean_mean\"],\n",
    "        line=dict(color=COLORS[sel_method_i]),\n",
    "        mode=\"lines\",\n",
    "    ))\n",
    "\n",
    "fig.show()"
   ]
  },
  {
   "cell_type": "code",
   "execution_count": null,
   "id": "701f801b",
   "metadata": {},
   "outputs": [],
   "source": []
  },
  {
   "cell_type": "code",
   "execution_count": null,
   "id": "37b11a4b",
   "metadata": {},
   "outputs": [],
   "source": []
  }
 ],
 "metadata": {
  "kernelspec": {
   "display_name": "Python 3 (ipykernel)",
   "language": "python",
   "name": "python3"
  },
  "language_info": {
   "codemirror_mode": {
    "name": "ipython",
    "version": 3
   },
   "file_extension": ".py",
   "mimetype": "text/x-python",
   "name": "python",
   "nbconvert_exporter": "python",
   "pygments_lexer": "ipython3",
   "version": "3.11.7"
  }
 },
 "nbformat": 4,
 "nbformat_minor": 5
}
