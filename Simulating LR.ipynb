{
 "cells": [
  {
   "cell_type": "code",
   "execution_count": 1,
   "metadata": {},
   "outputs": [],
   "source": [
    "from lightgbm import LGBMClassifier\n",
    "\n",
    "import numpy as np\n",
    "\n",
    "from sklearn import base, pipeline, preprocessing, compose, metrics, model_selection, linear_model\n",
    "\n",
    "import pandas as pd"
   ]
  },
  {
   "cell_type": "code",
   "execution_count": 2,
   "metadata": {},
   "outputs": [],
   "source": [
    "categorical_cols = ['workclass', 'education', 'marital-status', 'occupation', 'relationship', 'race', 'sex', 'native-country']\n",
    "numerical_cols = ['age', 'fnlwgt', 'education-num', 'capital-gain', 'capital-loss', 'hours-per-week']\n",
    "label_col = \"class\""
   ]
  },
  {
   "cell_type": "code",
   "execution_count": 3,
   "metadata": {},
   "outputs": [],
   "source": [
    "data = pd.read_csv(\"adult/data/dataset.csv\")\n",
    "data[label_col] = data[label_col].replace({\"<=50K\": 0, \">50K\": 1})"
   ]
  },
  {
   "cell_type": "code",
   "execution_count": 4,
   "metadata": {},
   "outputs": [
    {
     "data": {
      "text/plain": [
       "age               0\n",
       "workclass         0\n",
       "fnlwgt            0\n",
       "education         0\n",
       "education-num     0\n",
       "marital-status    0\n",
       "occupation        0\n",
       "relationship      0\n",
       "race              0\n",
       "sex               0\n",
       "capital-gain      0\n",
       "capital-loss      0\n",
       "hours-per-week    0\n",
       "native-country    0\n",
       "class             0\n",
       "dtype: int64"
      ]
     },
     "execution_count": 4,
     "metadata": {},
     "output_type": "execute_result"
    }
   ],
   "source": [
    "data.isna().sum()"
   ]
  },
  {
   "cell_type": "code",
   "execution_count": 5,
   "metadata": {},
   "outputs": [],
   "source": [
    "train_size=0.65\n",
    "val_size=0.15\n",
    "test_size=0.20\n",
    "seed=11\n",
    "\n",
    "\n",
    "train_features, test_features, train_labels, test_labels = model_selection.train_test_split(\n",
    "    data[categorical_cols + numerical_cols], \n",
    "    data[label_col], \n",
    "    test_size=test_size,\n",
    "    random_state=seed\n",
    ")\n",
    "\n",
    "val_size = data.shape[0] * val_size / train_features.shape[0]\n",
    "\n",
    "train_features, val_features, train_labels, val_labels = model_selection.train_test_split(\n",
    "    train_features, \n",
    "    train_labels, \n",
    "    test_size=val_size, \n",
    "    random_state=seed\n",
    ")    "
   ]
  },
  {
   "cell_type": "code",
   "execution_count": 6,
   "metadata": {},
   "outputs": [],
   "source": [
    "n_bins = 10\n",
    "n_quantiles=10\n",
    "\n",
    "categorical_transformer = pipeline.Pipeline(steps=[\n",
    "    ('label', preprocessing.OrdinalEncoder(handle_unknown=\"use_encoded_value\", unknown_value=-1))\n",
    "])\n",
    "\n",
    "numerical_transformer = pipeline.FeatureUnion([\n",
    "    #('qtscaler', preprocessing.QuantileTransformer(n_quantiles=n_quantiles)),\n",
    "    ('sscaler', preprocessing.StandardScaler()),\n",
    "    #('logscaler', preprocessing.FunctionTransformer(np.log1p)),\n",
    "])\n",
    "\n",
    "numerical_categorical_transformer = pipeline.Pipeline(steps=[\n",
    "    ('dscaler', preprocessing.KBinsDiscretizer(n_bins=n_bins, encode=\"ordinal\", strategy=\"uniform\")), \n",
    "])\n",
    "\n",
    "\n",
    "preprocessor = pipeline.Pipeline([\n",
    "    ('columns_transformer', compose.ColumnTransformer(\n",
    "        remainder='passthrough', #passthough features not listed\n",
    "        transformers=[\n",
    "            ('categorical_transformer', categorical_transformer , categorical_cols),\n",
    "            #('numerical_categorical_transformer', numerical_categorical_transformer , numerical_cols),\n",
    "            ('numerical_transformer', numerical_transformer , numerical_cols)\n",
    "        ]),\n",
    "    )\n",
    "])"
   ]
  },
  {
   "cell_type": "code",
   "execution_count": 7,
   "metadata": {},
   "outputs": [
    {
     "name": "stdout",
     "output_type": "stream",
     "text": [
      "Training examples 21163 (0.6499493258806548)\n",
      "Validation examples 4885 (0.15002610484935966)\n",
      "Test examples 6513 (0.20002456926998557)\n"
     ]
    }
   ],
   "source": [
    "total_examples = train_features.shape[0] + val_features.shape[0] + test_features.shape[0]\n",
    "\n",
    "print(\"Training examples {} ({})\".format(train_features.shape[0], train_features.shape[0] / total_examples))\n",
    "print(\"Validation examples {} ({})\".format(val_features.shape[0], val_features.shape[0] / total_examples))\n",
    "print(\"Test examples {} ({})\".format(test_features.shape[0], test_features.shape[0] / total_examples))"
   ]
  },
  {
   "cell_type": "code",
   "execution_count": 8,
   "metadata": {},
   "outputs": [],
   "source": [
    "preprocessor = preprocessor.fit(train_features, train_labels)\n",
    "\n",
    "train_features = preprocessor.transform(train_features)\n",
    "val_features = preprocessor.transform(val_features)\n",
    "test_features = preprocessor.transform(test_features)\n",
    "\n",
    "all_features = np.concatenate([train_features, val_features])\n",
    "all_labels = np.concatenate([train_labels, val_labels])\n",
    "\n",
    "n_labels = 1"
   ]
  },
  {
   "cell_type": "code",
   "execution_count": 9,
   "metadata": {},
   "outputs": [
    {
     "data": {
      "text/plain": [
       "array([[ 2.00000000e+00,  1.50000000e+01,  3.00000000e+00,\n",
       "         1.00000000e+00,  3.00000000e+00,  4.00000000e+00,\n",
       "         0.00000000e+00,  1.30000000e+01, -1.15046758e+00,\n",
       "         2.89216869e+00, -3.80074141e-02, -1.46859301e-01,\n",
       "        -2.15354774e-01, -3.60679944e-02],\n",
       "       [ 4.00000000e+00,  1.50000000e+01,  0.00000000e+00,\n",
       "         1.00000000e+00,  4.00000000e+00,  4.00000000e+00,\n",
       "         0.00000000e+00,  3.90000000e+01,  4.67736094e-01,\n",
       "         1.41924226e+00, -3.80074141e-02, -1.46859301e-01,\n",
       "        -2.15354774e-01, -3.60679944e-02],\n",
       "       [ 5.00000000e+00,  1.10000000e+01,  6.00000000e+00,\n",
       "         8.00000000e+00,  4.00000000e+00,  4.00000000e+00,\n",
       "         0.00000000e+00,  3.90000000e+01,  2.15949448e+00,\n",
       "        -5.07547252e-01, -4.26395104e-01, -1.46859301e-01,\n",
       "        -2.15354774e-01, -2.07068513e+00]])"
      ]
     },
     "execution_count": 9,
     "metadata": {},
     "output_type": "execute_result"
    }
   ],
   "source": [
    "all_features[:3, :15]"
   ]
  },
  {
   "cell_type": "code",
   "execution_count": 10,
   "metadata": {},
   "outputs": [
    {
     "data": {
      "text/plain": [
       "((26048, 14), (26048,))"
      ]
     },
     "execution_count": 10,
     "metadata": {},
     "output_type": "execute_result"
    }
   ],
   "source": [
    "all_features.shape, all_labels.shape"
   ]
  },
  {
   "cell_type": "code",
   "execution_count": 11,
   "metadata": {},
   "outputs": [
    {
     "name": "stdout",
     "output_type": "stream",
     "text": [
      "Fitting 3 folds for each of 10 candidates, totalling 30 fits\n",
      "[CV 1/3] END .............................C=0.1;, score=0.855 total time=   0.2s\n",
      "[CV 2/3] END .............................C=0.1;, score=0.849 total time=   0.2s\n",
      "[CV 3/3] END .............................C=0.1;, score=0.858 total time=   0.2s\n",
      "[CV 1/3] END .............................C=0.2;, score=0.855 total time=   0.2s\n",
      "[CV 2/3] END .............................C=0.2;, score=0.849 total time=   0.2s\n",
      "[CV 3/3] END .............................C=0.2;, score=0.858 total time=   0.2s\n",
      "[CV 1/3] END .............................C=0.3;, score=0.855 total time=   0.1s\n",
      "[CV 2/3] END .............................C=0.3;, score=0.849 total time=   0.1s\n",
      "[CV 3/3] END .............................C=0.3;, score=0.858 total time=   0.1s\n",
      "[CV 1/3] END .............................C=0.4;, score=0.855 total time=   0.1s\n",
      "[CV 2/3] END .............................C=0.4;, score=0.849 total time=   0.2s\n",
      "[CV 3/3] END .............................C=0.4;, score=0.858 total time=   0.2s\n",
      "[CV 1/3] END .............................C=0.5;, score=0.855 total time=   0.1s\n",
      "[CV 2/3] END .............................C=0.5;, score=0.849 total time=   0.1s\n",
      "[CV 3/3] END .............................C=0.5;, score=0.858 total time=   0.2s\n",
      "[CV 1/3] END .............................C=0.6;, score=0.855 total time=   0.2s\n",
      "[CV 2/3] END .............................C=0.6;, score=0.849 total time=   0.1s\n",
      "[CV 3/3] END .............................C=0.6;, score=0.858 total time=   0.2s\n",
      "[CV 1/3] END .............................C=0.7;, score=0.855 total time=   0.2s\n",
      "[CV 2/3] END .............................C=0.7;, score=0.849 total time=   0.1s\n",
      "[CV 3/3] END .............................C=0.7;, score=0.858 total time=   0.2s\n",
      "[CV 1/3] END .............................C=0.8;, score=0.855 total time=   0.2s\n",
      "[CV 2/3] END .............................C=0.8;, score=0.849 total time=   0.1s\n",
      "[CV 3/3] END .............................C=0.8;, score=0.858 total time=   0.1s\n",
      "[CV 1/3] END .............................C=0.9;, score=0.855 total time=   0.1s\n",
      "[CV 2/3] END .............................C=0.9;, score=0.849 total time=   0.1s\n",
      "[CV 3/3] END .............................C=0.9;, score=0.858 total time=   0.2s\n",
      "[CV 1/3] END ...............................C=1;, score=0.855 total time=   0.2s\n",
      "[CV 2/3] END ...............................C=1;, score=0.849 total time=   0.2s\n",
      "[CV 3/3] END ...............................C=1;, score=0.858 total time=   0.1s\n"
     ]
    }
   ],
   "source": [
    "params = {\n",
    "    \"C\": [0.1, 0.2,0.3, 0.4, 0.5, 0.6 ,0.7, 0.8, 0.9,1]\n",
    "}\n",
    "\n",
    "model = linear_model.LogisticRegression(max_iter=5000)\n",
    "\n",
    "gs = model_selection.RandomizedSearchCV(\n",
    "    model, \n",
    "    params,\n",
    "    cv=3,\n",
    "    verbose=4,\n",
    "    scoring=\"roc_auc\"\n",
    ")\n",
    "\n",
    "gs = gs.fit(all_features, all_labels)"
   ]
  },
  {
   "cell_type": "code",
   "execution_count": 16,
   "metadata": {},
   "outputs": [
    {
     "data": {
      "text/plain": [
       "make_scorer(roc_auc_score, needs_threshold=True)"
      ]
     },
     "execution_count": 16,
     "metadata": {},
     "output_type": "execute_result"
    }
   ],
   "source": [
    "gs.scorer_"
   ]
  },
  {
   "cell_type": "code",
   "execution_count": 24,
   "metadata": {},
   "outputs": [
    {
     "data": {
      "text/plain": [
       "0.8550446124909651"
      ]
     },
     "execution_count": 24,
     "metadata": {},
     "output_type": "execute_result"
    }
   ],
   "source": [
    "preds = gs.best_estimator_.predict_proba(test_features)\n",
    "metrics.roc_auc_score(test_labels, preds[:, 1])"
   ]
  },
  {
   "cell_type": "code",
   "execution_count": 13,
   "metadata": {},
   "outputs": [
    {
     "data": {
      "text/html": [
       "<div>\n",
       "<style scoped>\n",
       "    .dataframe tbody tr th:only-of-type {\n",
       "        vertical-align: middle;\n",
       "    }\n",
       "\n",
       "    .dataframe tbody tr th {\n",
       "        vertical-align: top;\n",
       "    }\n",
       "\n",
       "    .dataframe thead th {\n",
       "        text-align: right;\n",
       "    }\n",
       "</style>\n",
       "<table border=\"1\" class=\"dataframe\">\n",
       "  <thead>\n",
       "    <tr style=\"text-align: right;\">\n",
       "      <th></th>\n",
       "      <th>mean_fit_time</th>\n",
       "      <th>std_fit_time</th>\n",
       "      <th>mean_score_time</th>\n",
       "      <th>std_score_time</th>\n",
       "      <th>param_C</th>\n",
       "      <th>params</th>\n",
       "      <th>split0_test_score</th>\n",
       "      <th>split1_test_score</th>\n",
       "      <th>split2_test_score</th>\n",
       "      <th>mean_test_score</th>\n",
       "      <th>std_test_score</th>\n",
       "      <th>rank_test_score</th>\n",
       "    </tr>\n",
       "  </thead>\n",
       "  <tbody>\n",
       "    <tr>\n",
       "      <th>0</th>\n",
       "      <td>0.207954</td>\n",
       "      <td>0.033224</td>\n",
       "      <td>0.003308</td>\n",
       "      <td>0.000447</td>\n",
       "      <td>0.1</td>\n",
       "      <td>{'C': 0.1}</td>\n",
       "      <td>0.854674</td>\n",
       "      <td>0.849407</td>\n",
       "      <td>0.857720</td>\n",
       "      <td>0.853934</td>\n",
       "      <td>0.003434</td>\n",
       "      <td>9</td>\n",
       "    </tr>\n",
       "    <tr>\n",
       "      <th>1</th>\n",
       "      <td>0.187315</td>\n",
       "      <td>0.034141</td>\n",
       "      <td>0.002991</td>\n",
       "      <td>0.000581</td>\n",
       "      <td>0.2</td>\n",
       "      <td>{'C': 0.2}</td>\n",
       "      <td>0.854660</td>\n",
       "      <td>0.849400</td>\n",
       "      <td>0.857749</td>\n",
       "      <td>0.853936</td>\n",
       "      <td>0.003447</td>\n",
       "      <td>4</td>\n",
       "    </tr>\n",
       "    <tr>\n",
       "      <th>2</th>\n",
       "      <td>0.122335</td>\n",
       "      <td>0.014736</td>\n",
       "      <td>0.002767</td>\n",
       "      <td>0.000076</td>\n",
       "      <td>0.3</td>\n",
       "      <td>{'C': 0.3}</td>\n",
       "      <td>0.854662</td>\n",
       "      <td>0.849412</td>\n",
       "      <td>0.857759</td>\n",
       "      <td>0.853944</td>\n",
       "      <td>0.003445</td>\n",
       "      <td>1</td>\n",
       "    </tr>\n",
       "    <tr>\n",
       "      <th>3</th>\n",
       "      <td>0.162981</td>\n",
       "      <td>0.012041</td>\n",
       "      <td>0.002568</td>\n",
       "      <td>0.000047</td>\n",
       "      <td>0.4</td>\n",
       "      <td>{'C': 0.4}</td>\n",
       "      <td>0.854664</td>\n",
       "      <td>0.849401</td>\n",
       "      <td>0.857757</td>\n",
       "      <td>0.853940</td>\n",
       "      <td>0.003450</td>\n",
       "      <td>2</td>\n",
       "    </tr>\n",
       "    <tr>\n",
       "      <th>4</th>\n",
       "      <td>0.146123</td>\n",
       "      <td>0.031710</td>\n",
       "      <td>0.002571</td>\n",
       "      <td>0.000034</td>\n",
       "      <td>0.5</td>\n",
       "      <td>{'C': 0.5}</td>\n",
       "      <td>0.854654</td>\n",
       "      <td>0.849400</td>\n",
       "      <td>0.857754</td>\n",
       "      <td>0.853936</td>\n",
       "      <td>0.003448</td>\n",
       "      <td>5</td>\n",
       "    </tr>\n",
       "    <tr>\n",
       "      <th>5</th>\n",
       "      <td>0.178153</td>\n",
       "      <td>0.030628</td>\n",
       "      <td>0.003093</td>\n",
       "      <td>0.000199</td>\n",
       "      <td>0.6</td>\n",
       "      <td>{'C': 0.6}</td>\n",
       "      <td>0.854648</td>\n",
       "      <td>0.849399</td>\n",
       "      <td>0.857760</td>\n",
       "      <td>0.853935</td>\n",
       "      <td>0.003450</td>\n",
       "      <td>6</td>\n",
       "    </tr>\n",
       "    <tr>\n",
       "      <th>6</th>\n",
       "      <td>0.172916</td>\n",
       "      <td>0.033248</td>\n",
       "      <td>0.002652</td>\n",
       "      <td>0.000053</td>\n",
       "      <td>0.7</td>\n",
       "      <td>{'C': 0.7}</td>\n",
       "      <td>0.854653</td>\n",
       "      <td>0.849396</td>\n",
       "      <td>0.857754</td>\n",
       "      <td>0.853935</td>\n",
       "      <td>0.003450</td>\n",
       "      <td>8</td>\n",
       "    </tr>\n",
       "    <tr>\n",
       "      <th>7</th>\n",
       "      <td>0.148444</td>\n",
       "      <td>0.008858</td>\n",
       "      <td>0.002624</td>\n",
       "      <td>0.000030</td>\n",
       "      <td>0.8</td>\n",
       "      <td>{'C': 0.8}</td>\n",
       "      <td>0.854647</td>\n",
       "      <td>0.849396</td>\n",
       "      <td>0.857756</td>\n",
       "      <td>0.853933</td>\n",
       "      <td>0.003450</td>\n",
       "      <td>10</td>\n",
       "    </tr>\n",
       "    <tr>\n",
       "      <th>8</th>\n",
       "      <td>0.143590</td>\n",
       "      <td>0.021043</td>\n",
       "      <td>0.002860</td>\n",
       "      <td>0.000113</td>\n",
       "      <td>0.9</td>\n",
       "      <td>{'C': 0.9}</td>\n",
       "      <td>0.854658</td>\n",
       "      <td>0.849399</td>\n",
       "      <td>0.857757</td>\n",
       "      <td>0.853938</td>\n",
       "      <td>0.003450</td>\n",
       "      <td>3</td>\n",
       "    </tr>\n",
       "    <tr>\n",
       "      <th>9</th>\n",
       "      <td>0.161602</td>\n",
       "      <td>0.014792</td>\n",
       "      <td>0.002684</td>\n",
       "      <td>0.000183</td>\n",
       "      <td>1</td>\n",
       "      <td>{'C': 1}</td>\n",
       "      <td>0.854656</td>\n",
       "      <td>0.849392</td>\n",
       "      <td>0.857757</td>\n",
       "      <td>0.853935</td>\n",
       "      <td>0.003453</td>\n",
       "      <td>7</td>\n",
       "    </tr>\n",
       "  </tbody>\n",
       "</table>\n",
       "</div>"
      ],
      "text/plain": [
       "   mean_fit_time  std_fit_time  mean_score_time  std_score_time param_C  \\\n",
       "0       0.207954      0.033224         0.003308        0.000447     0.1   \n",
       "1       0.187315      0.034141         0.002991        0.000581     0.2   \n",
       "2       0.122335      0.014736         0.002767        0.000076     0.3   \n",
       "3       0.162981      0.012041         0.002568        0.000047     0.4   \n",
       "4       0.146123      0.031710         0.002571        0.000034     0.5   \n",
       "5       0.178153      0.030628         0.003093        0.000199     0.6   \n",
       "6       0.172916      0.033248         0.002652        0.000053     0.7   \n",
       "7       0.148444      0.008858         0.002624        0.000030     0.8   \n",
       "8       0.143590      0.021043         0.002860        0.000113     0.9   \n",
       "9       0.161602      0.014792         0.002684        0.000183       1   \n",
       "\n",
       "       params  split0_test_score  split1_test_score  split2_test_score  \\\n",
       "0  {'C': 0.1}           0.854674           0.849407           0.857720   \n",
       "1  {'C': 0.2}           0.854660           0.849400           0.857749   \n",
       "2  {'C': 0.3}           0.854662           0.849412           0.857759   \n",
       "3  {'C': 0.4}           0.854664           0.849401           0.857757   \n",
       "4  {'C': 0.5}           0.854654           0.849400           0.857754   \n",
       "5  {'C': 0.6}           0.854648           0.849399           0.857760   \n",
       "6  {'C': 0.7}           0.854653           0.849396           0.857754   \n",
       "7  {'C': 0.8}           0.854647           0.849396           0.857756   \n",
       "8  {'C': 0.9}           0.854658           0.849399           0.857757   \n",
       "9    {'C': 1}           0.854656           0.849392           0.857757   \n",
       "\n",
       "   mean_test_score  std_test_score  rank_test_score  \n",
       "0         0.853934        0.003434                9  \n",
       "1         0.853936        0.003447                4  \n",
       "2         0.853944        0.003445                1  \n",
       "3         0.853940        0.003450                2  \n",
       "4         0.853936        0.003448                5  \n",
       "5         0.853935        0.003450                6  \n",
       "6         0.853935        0.003450                8  \n",
       "7         0.853933        0.003450               10  \n",
       "8         0.853938        0.003450                3  \n",
       "9         0.853935        0.003453                7  "
      ]
     },
     "execution_count": 13,
     "metadata": {},
     "output_type": "execute_result"
    }
   ],
   "source": [
    "pd.DataFrame(gs.cv_results_)"
   ]
  }
 ],
 "metadata": {
  "kernelspec": {
   "display_name": "Python 3.8.11 ('DCC-attn')",
   "language": "python",
   "name": "python3"
  },
  "language_info": {
   "codemirror_mode": {
    "name": "ipython",
    "version": 3
   },
   "file_extension": ".py",
   "mimetype": "text/x-python",
   "name": "python",
   "nbconvert_exporter": "python",
   "pygments_lexer": "ipython3",
   "version": "3.8.11"
  },
  "vscode": {
   "interpreter": {
    "hash": "741e1ea5cc84540885a0ba493c428a89b760d4b9c08bcc57bb2b1068c5ec8401"
   }
  }
 },
 "nbformat": 4,
 "nbformat_minor": 4
}
