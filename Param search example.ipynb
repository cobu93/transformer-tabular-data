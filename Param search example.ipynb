{
 "cells": [
  {
   "cell_type": "code",
   "execution_count": 1,
   "metadata": {},
   "outputs": [],
   "source": [
    "import nn_utils\n",
    "import builders\n",
    "import importlib\n",
    "\n",
    "import skorch\n",
    "from sklearn import metrics\n",
    "from ray import tune\n",
    "import optuna\n",
    "from ray.tune.suggest.optuna import OptunaSearch\n",
    "import torch\n",
    "\n",
    "from ray.tune.integration.torch import DistributedTrainableCreator"
   ]
  },
  {
   "cell_type": "markdown",
   "metadata": {},
   "source": [
    "# Configuration"
   ]
  },
  {
   "cell_type": "code",
   "execution_count": 2,
   "metadata": {},
   "outputs": [],
   "source": [
    "MODULE = \"adult.cls.config\"\n",
    "CHECKPOINT_DIR = \"./adult/cls/checkpoint\"\n",
    "SEED = 11"
   ]
  },
  {
   "cell_type": "markdown",
   "metadata": {},
   "source": [
    "# Get dataset and components"
   ]
  },
  {
   "cell_type": "code",
   "execution_count": 3,
   "metadata": {},
   "outputs": [],
   "source": [
    "def get_class_from_type(module, class_type):\n",
    "    for attr in dir(module):\n",
    "        clazz = getattr(module, attr)\n",
    "        if callable(clazz) and issubclass(clazz, class_type):\n",
    "            return clazz\n",
    "        \n",
    "    return None"
   ]
  },
  {
   "cell_type": "code",
   "execution_count": 4,
   "metadata": {},
   "outputs": [],
   "source": [
    "module = importlib.import_module(MODULE)"
   ]
  },
  {
   "cell_type": "code",
   "execution_count": 5,
   "metadata": {},
   "outputs": [],
   "source": [
    "dataset = get_class_from_type(module, builders.DatasetConfig)\n",
    "if dataset is not None:\n",
    "    dataset = dataset()\n",
    "else:\n",
    "    raise ValueError(\"Dataset configuration not found\")"
   ]
  },
  {
   "cell_type": "code",
   "execution_count": 6,
   "metadata": {},
   "outputs": [],
   "source": [
    "transformer_config = get_class_from_type(module, builders.TransformerConfig)\n",
    "if transformer_config is not None:\n",
    "    transformer_config = transformer_config()\n",
    "else:\n",
    "    raise ValueError(\"Transformer configuration not found\")"
   ]
  },
  {
   "cell_type": "markdown",
   "metadata": {},
   "source": [
    "# Configure dataset"
   ]
  },
  {
   "cell_type": "code",
   "execution_count": 7,
   "metadata": {},
   "outputs": [
    {
     "name": "stdout",
     "output_type": "stream",
     "text": [
      "Target mapping: {'<=50K': 0, '>50K': 1}\n",
      "Numerical columns: ['fnlwgt', 'education-num']\n",
      "Categorical columns: ['age', 'workclass', 'education', 'marital-status', 'occupation', 'relationship', 'race', 'sex', 'capitalgain', 'capitalloss', 'hoursperweek', 'native-country']\n",
      "Columns: ['age', 'workclass', 'fnlwgt', 'education', 'education-num', 'marital-status', 'occupation', 'relationship', 'race', 'sex', 'capitalgain', 'capitalloss', 'hoursperweek', 'native-country', 'class']\n"
     ]
    }
   ],
   "source": [
    "if not dataset.exists():\n",
    "    dataset.download()\n",
    "    \n",
    "dataset.load(seed=SEED)"
   ]
  },
  {
   "cell_type": "code",
   "execution_count": 8,
   "metadata": {},
   "outputs": [],
   "source": [
    "preprocessor = nn_utils.get_default_preprocessing_pipeline(\n",
    "                        dataset.get_categorical_columns(),\n",
    "                        dataset.get_numerical_columns()\n",
    "                    )"
   ]
  },
  {
   "cell_type": "markdown",
   "metadata": {},
   "source": [
    "# Data preparation"
   ]
  },
  {
   "cell_type": "code",
   "execution_count": 9,
   "metadata": {},
   "outputs": [],
   "source": [
    "train_features, train_labels = dataset.get_train_data()\n",
    "val_features, val_labels = dataset.get_val_data()\n",
    "test_features, test_labels = dataset.get_test_data()\n",
    "\n",
    "preprocessor = preprocessor.fit(train_features, train_labels)\n",
    "\n",
    "train_features = preprocessor.transform(train_features)\n",
    "val_features = preprocessor.transform(val_features)\n",
    "test_features = preprocessor.transform(test_features)\n",
    "\n",
    "all_features, all_labels, indices = nn_utils.join_data([train_features, val_features], [train_labels, val_labels])\n",
    "train_indices, val_indices = indices[0], indices[1]"
   ]
  },
  {
   "cell_type": "code",
   "execution_count": 10,
   "metadata": {},
   "outputs": [],
   "source": [
    "if dataset.get_n_labels() <= 2:\n",
    "    n_labels = 1\n",
    "    criterion = torch.nn.BCEWithLogitsLoss\n",
    "else:\n",
    "    n_labels = dataset.get_n_labels()\n",
    "    criterion = torch.nn.CrossEntropyLoss"
   ]
  },
  {
   "cell_type": "markdown",
   "metadata": {},
   "source": [
    "# Hyperparameter search"
   ]
  },
  {
   "cell_type": "code",
   "execution_count": 11,
   "metadata": {},
   "outputs": [],
   "source": [
    "def trainable(config, checkpoint_dir=CHECKPOINT_DIR):\n",
    "    \n",
    "    embedding_size = config.pop(\"embedding_size\")\n",
    "    \n",
    "    model_params = {\n",
    "        **config,\n",
    "        \"encoders\": transformer_config.get_encoders(embedding_size),\n",
    "        \"aggregator\": transformer_config.get_aggregator(embedding_size),\n",
    "        \"preprocessor\": transformer_config.get_preprocessor(),\n",
    "        \"optimizer\": torch.optim.SGD,\n",
    "        \"criterion\": criterion,\n",
    "        \"device\": \"cuda\" if torch.cuda.is_available() else \"cpu\",\n",
    "        \"batch_size\": 128,\n",
    "        \"max_epochs\": 2,\n",
    "        \"n_output\": n_labels, # The number of output neurons\n",
    "        \"need_weights\": False,\n",
    "        \"verbose\": 1\n",
    "        \n",
    "    }\n",
    "    \n",
    "    model = nn_utils.build_transformer_model(\n",
    "                train_indices,\n",
    "                val_indices,\n",
    "                nn_utils.get_default_callbacks(seed=SEED),\n",
    "                **model_params\n",
    "                )\n",
    "    \n",
    "    model = model.fit(X=all_features, y=all_labels)"
   ]
  },
  {
   "cell_type": "code",
   "execution_count": null,
   "metadata": {},
   "outputs": [
    {
     "name": "stderr",
     "output_type": "stream",
     "text": [
      "2022-02-20 22:31:10,250\tINFO trial_runner.py:488 -- A local experiment checkpoint was found and will be used to restore the previous experiment state.\n",
      "2022-02-20 22:31:10,259\tWARNING trial_runner.py:601 -- Attempting to resume experiment from /home/uriel/Documentos/CIC/DCC/Papers/Tabular Transformer/transformer-tabular-data/adult/cls/checkpoint/param_search. This will ignore any new changes to the specification.\n",
      "2022-02-20 22:31:11,507\tINFO tune.py:551 -- TrialRunner resumed, ignoring new add_experiment but updating trial resources.\n",
      "2022-02-20 22:31:11,532\tWARNING tune.py:580 -- Tune detects GPUs, but no trials are using GPUs. To enable trials to use GPUs, set tune.run(resources_per_trial={'gpu': 1}...) which allows Tune to expose 1 GPU to each trial. You can also override `Trainable.default_resource_request` if using the Trainable API.\n"
     ]
    },
    {
     "data": {
      "text/html": [
       "== Status ==<br>Current time: 2022-02-20 22:31:11 (running for 00:00:00.09)<br>Memory usage on this node: 7.8/15.7 GiB<br>Using FIFO scheduling algorithm.<br>Resources requested: 0/12 CPUs, 0/1 GPUs, 0.0/5.54 GiB heap, 0.0/2.77 GiB objects (0.0/1.0 accelerator_type:G)<br>Result logdir: /home/uriel/Documentos/CIC/DCC/Papers/Tabular Transformer/transformer-tabular-data/adult/cls/checkpoint/param_search<br>Number of trials: 30 (30 TERMINATED)<br><table>\n",
       "<thead>\n",
       "<tr><th>Trial name        </th><th>status    </th><th>loc               </th><th style=\"text-align: right;\">    dropout</th><th style=\"text-align: right;\">  embedding_size</th><th style=\"text-align: right;\">  n_head</th><th style=\"text-align: right;\">  n_hid</th><th style=\"text-align: right;\">  n_layers</th><th style=\"text-align: right;\">  optimizer__lr</th><th style=\"text-align: right;\">  iter</th><th style=\"text-align: right;\">  total time (s)</th><th style=\"text-align: right;\">  train_loss</th><th style=\"text-align: right;\">  valid_loss</th><th style=\"text-align: right;\">  balanced_accuracy</th></tr>\n",
       "</thead>\n",
       "<tbody>\n",
       "<tr><td>trainable_727f4248</td><td>TERMINATED</td><td>192.168.1.72:2942 </td><td style=\"text-align: right;\">0.0699997  </td><td style=\"text-align: right;\">             128</td><td style=\"text-align: right;\">       2</td><td style=\"text-align: right;\">    256</td><td style=\"text-align: right;\">         3</td><td style=\"text-align: right;\">    0.00909573 </td><td style=\"text-align: right;\">    15</td><td style=\"text-align: right;\">         80.1114</td><td style=\"text-align: right;\">    0.333458</td><td style=\"text-align: right;\">    0.40196 </td><td style=\"text-align: right;\">           0.816635</td></tr>\n",
       "<tr><td>trainable_00535cf0</td><td>TERMINATED</td><td>192.168.1.72:2469 </td><td style=\"text-align: right;\">0.144154   </td><td style=\"text-align: right;\">             256</td><td style=\"text-align: right;\">       2</td><td style=\"text-align: right;\">     32</td><td style=\"text-align: right;\">         3</td><td style=\"text-align: right;\">    0.008829   </td><td style=\"text-align: right;\">    15</td><td style=\"text-align: right;\">         82.4752</td><td style=\"text-align: right;\">    0.332235</td><td style=\"text-align: right;\">    0.384565</td><td style=\"text-align: right;\">           0.819564</td></tr>\n",
       "<tr><td>trainable_a0f55f9c</td><td>TERMINATED</td><td>192.168.1.72:2363 </td><td style=\"text-align: right;\">0.13851    </td><td style=\"text-align: right;\">            1024</td><td style=\"text-align: right;\">       4</td><td style=\"text-align: right;\">     32</td><td style=\"text-align: right;\">         2</td><td style=\"text-align: right;\">    0.0129706  </td><td style=\"text-align: right;\">    60</td><td style=\"text-align: right;\">        617.249 </td><td style=\"text-align: right;\">    0.322936</td><td style=\"text-align: right;\">    0.360713</td><td style=\"text-align: right;\">           0.816545</td></tr>\n",
       "<tr><td>trainable_c038bce2</td><td>TERMINATED</td><td>192.168.1.72:1519 </td><td style=\"text-align: right;\">0.000403666</td><td style=\"text-align: right;\">            1024</td><td style=\"text-align: right;\">       8</td><td style=\"text-align: right;\">     64</td><td style=\"text-align: right;\">         2</td><td style=\"text-align: right;\">    0.0119609  </td><td style=\"text-align: right;\">    15</td><td style=\"text-align: right;\">        156.124 </td><td style=\"text-align: right;\">    0.328601</td><td style=\"text-align: right;\">    0.450239</td><td style=\"text-align: right;\">           0.82022 </td></tr>\n",
       "<tr><td>trainable_85d079fa</td><td>TERMINATED</td><td>192.168.1.72:1351 </td><td style=\"text-align: right;\">0.00726525 </td><td style=\"text-align: right;\">            1024</td><td style=\"text-align: right;\">       8</td><td style=\"text-align: right;\">     64</td><td style=\"text-align: right;\">         1</td><td style=\"text-align: right;\">    0.0322606  </td><td style=\"text-align: right;\">    60</td><td style=\"text-align: right;\">        372.776 </td><td style=\"text-align: right;\">    0.317215</td><td style=\"text-align: right;\">    0.343748</td><td style=\"text-align: right;\">           0.814118</td></tr>\n",
       "<tr><td>trainable_25d5a1ec</td><td>TERMINATED</td><td>192.168.1.72:1084 </td><td style=\"text-align: right;\">0.0319958  </td><td style=\"text-align: right;\">            1024</td><td style=\"text-align: right;\">       8</td><td style=\"text-align: right;\">     64</td><td style=\"text-align: right;\">         1</td><td style=\"text-align: right;\">    0.0395129  </td><td style=\"text-align: right;\">    15</td><td style=\"text-align: right;\">         93.8465</td><td style=\"text-align: right;\">    0.391116</td><td style=\"text-align: right;\">    0.385768</td><td style=\"text-align: right;\">           0.779754</td></tr>\n",
       "<tr><td>trainable_b3acad78</td><td>TERMINATED</td><td>192.168.1.72:481  </td><td style=\"text-align: right;\">0.048099   </td><td style=\"text-align: right;\">            1024</td><td style=\"text-align: right;\">       8</td><td style=\"text-align: right;\">     64</td><td style=\"text-align: right;\">         2</td><td style=\"text-align: right;\">    0.0944024  </td><td style=\"text-align: right;\">    15</td><td style=\"text-align: right;\">        157.05  </td><td style=\"text-align: right;\">    0.324286</td><td style=\"text-align: right;\">    0.397083</td><td style=\"text-align: right;\">           0.813924</td></tr>\n",
       "<tr><td>trainable_8a8a0242</td><td>TERMINATED</td><td>192.168.1.72:353  </td><td style=\"text-align: right;\">0.0503045  </td><td style=\"text-align: right;\">            1024</td><td style=\"text-align: right;\">       8</td><td style=\"text-align: right;\">     64</td><td style=\"text-align: right;\">         2</td><td style=\"text-align: right;\">    0.065878   </td><td style=\"text-align: right;\">    60</td><td style=\"text-align: right;\">        617.106 </td><td style=\"text-align: right;\">    0.315559</td><td style=\"text-align: right;\">    0.347267</td><td style=\"text-align: right;\">           0.813576</td></tr>\n",
       "<tr><td>trainable_616a1c6c</td><td>TERMINATED</td><td>192.168.1.72:32751</td><td style=\"text-align: right;\">0.0504516  </td><td style=\"text-align: right;\">              64</td><td style=\"text-align: right;\">       8</td><td style=\"text-align: right;\">     64</td><td style=\"text-align: right;\">         2</td><td style=\"text-align: right;\">    0.00253157 </td><td style=\"text-align: right;\">    15</td><td style=\"text-align: right;\">         65.7435</td><td style=\"text-align: right;\">    0.408894</td><td style=\"text-align: right;\">    0.407552</td><td style=\"text-align: right;\">           0.754284</td></tr>\n",
       "<tr><td>trainable_adfcbd1a</td><td>TERMINATED</td><td>192.168.1.72:32549</td><td style=\"text-align: right;\">0.242383   </td><td style=\"text-align: right;\">              64</td><td style=\"text-align: right;\">       8</td><td style=\"text-align: right;\">    512</td><td style=\"text-align: right;\">         2</td><td style=\"text-align: right;\">    0.00150805 </td><td style=\"text-align: right;\">    15</td><td style=\"text-align: right;\">         65.047 </td><td style=\"text-align: right;\">    0.532288</td><td style=\"text-align: right;\">    0.527636</td><td style=\"text-align: right;\">           0.5     </td></tr>\n",
       "<tr><td>trainable_f9fa88b0</td><td>TERMINATED</td><td>192.168.1.72:32342</td><td style=\"text-align: right;\">0.249347   </td><td style=\"text-align: right;\">              32</td><td style=\"text-align: right;\">       1</td><td style=\"text-align: right;\">    512</td><td style=\"text-align: right;\">         3</td><td style=\"text-align: right;\">    0.00535862 </td><td style=\"text-align: right;\">    60</td><td style=\"text-align: right;\">        297.451 </td><td style=\"text-align: right;\">    0.334375</td><td style=\"text-align: right;\">    0.345911</td><td style=\"text-align: right;\">           0.807627</td></tr>\n",
       "<tr><td>trainable_c7e546e4</td><td>TERMINATED</td><td>192.168.1.72:32271</td><td style=\"text-align: right;\">0.151731   </td><td style=\"text-align: right;\">              32</td><td style=\"text-align: right;\">       1</td><td style=\"text-align: right;\">    256</td><td style=\"text-align: right;\">         3</td><td style=\"text-align: right;\">    0.00433465 </td><td style=\"text-align: right;\">    60</td><td style=\"text-align: right;\">        298.004 </td><td style=\"text-align: right;\">    0.331483</td><td style=\"text-align: right;\">    0.356445</td><td style=\"text-align: right;\">           0.815005</td></tr>\n",
       "<tr><td>trainable_442b59ba</td><td>TERMINATED</td><td>192.168.1.72:32072</td><td style=\"text-align: right;\">0.103724   </td><td style=\"text-align: right;\">             256</td><td style=\"text-align: right;\">       8</td><td style=\"text-align: right;\">     32</td><td style=\"text-align: right;\">         3</td><td style=\"text-align: right;\">    0.0243047  </td><td style=\"text-align: right;\">    15</td><td style=\"text-align: right;\">         79.8181</td><td style=\"text-align: right;\">    0.32768 </td><td style=\"text-align: right;\">    0.39808 </td><td style=\"text-align: right;\">           0.825391</td></tr>\n",
       "<tr><td>trainable_da05af06</td><td>TERMINATED</td><td>192.168.1.72:31446</td><td style=\"text-align: right;\">0.101108   </td><td style=\"text-align: right;\">            1024</td><td style=\"text-align: right;\">       8</td><td style=\"text-align: right;\">     32</td><td style=\"text-align: right;\">         3</td><td style=\"text-align: right;\">    0.0435708  </td><td style=\"text-align: right;\">    15</td><td style=\"text-align: right;\">        217.241 </td><td style=\"text-align: right;\">    0.336353</td><td style=\"text-align: right;\">    0.412407</td><td style=\"text-align: right;\">           0.819257</td></tr>\n",
       "<tr><td>trainable_7aa74fce</td><td>TERMINATED</td><td>192.168.1.72:31296</td><td style=\"text-align: right;\">0.00954327 </td><td style=\"text-align: right;\">            1024</td><td style=\"text-align: right;\">       8</td><td style=\"text-align: right;\">     64</td><td style=\"text-align: right;\">         2</td><td style=\"text-align: right;\">    0.0643738  </td><td style=\"text-align: right;\">   100</td><td style=\"text-align: right;\">       1032.88  </td><td style=\"text-align: right;\">    0.30656 </td><td style=\"text-align: right;\">    0.33383 </td><td style=\"text-align: right;\">           0.804718</td></tr>\n",
       "<tr><td>trainable_e0ddd11a</td><td>TERMINATED</td><td>192.168.1.72:31094</td><td style=\"text-align: right;\">0.00441491 </td><td style=\"text-align: right;\">            1024</td><td style=\"text-align: right;\">       8</td><td style=\"text-align: right;\">     64</td><td style=\"text-align: right;\">         2</td><td style=\"text-align: right;\">    1.00481e-05</td><td style=\"text-align: right;\">    15</td><td style=\"text-align: right;\">        155.785 </td><td style=\"text-align: right;\">    0.545595</td><td style=\"text-align: right;\">    0.550455</td><td style=\"text-align: right;\">           0.5     </td></tr>\n",
       "<tr><td>trainable_761fb94e</td><td>TERMINATED</td><td>192.168.1.72:30324</td><td style=\"text-align: right;\">0.0118739  </td><td style=\"text-align: right;\">              64</td><td style=\"text-align: right;\">       8</td><td style=\"text-align: right;\">     32</td><td style=\"text-align: right;\">         2</td><td style=\"text-align: right;\">    0.00484537 </td><td style=\"text-align: right;\">    60</td><td style=\"text-align: right;\">        254.338 </td><td style=\"text-align: right;\">    0.319662</td><td style=\"text-align: right;\">    0.350495</td><td style=\"text-align: right;\">           0.815522</td></tr>\n",
       "<tr><td>trainable_f395a510</td><td>TERMINATED</td><td>192.168.1.72:30128</td><td style=\"text-align: right;\">0.00560415 </td><td style=\"text-align: right;\">            1024</td><td style=\"text-align: right;\">       8</td><td style=\"text-align: right;\">     64</td><td style=\"text-align: right;\">         2</td><td style=\"text-align: right;\">    0.0821129  </td><td style=\"text-align: right;\">   100</td><td style=\"text-align: right;\">       1034.6   </td><td style=\"text-align: right;\">    0.308435</td><td style=\"text-align: right;\">    0.33679 </td><td style=\"text-align: right;\">           0.809116</td></tr>\n",
       "<tr><td>trainable_cf3ab354</td><td>TERMINATED</td><td>192.168.1.72:24001</td><td style=\"text-align: right;\">0.29299    </td><td style=\"text-align: right;\">            1024</td><td style=\"text-align: right;\">       2</td><td style=\"text-align: right;\">     64</td><td style=\"text-align: right;\">         3</td><td style=\"text-align: right;\">    0.0992653  </td><td style=\"text-align: right;\">    15</td><td style=\"text-align: right;\">        215.045 </td><td style=\"text-align: right;\">    0.351076</td><td style=\"text-align: right;\">    1.04272 </td><td style=\"text-align: right;\">           0.802452</td></tr>\n",
       "<tr><td>trainable_8f20762e</td><td>TERMINATED</td><td>192.168.1.72:23999</td><td style=\"text-align: right;\">0.362668   </td><td style=\"text-align: right;\">             512</td><td style=\"text-align: right;\">       2</td><td style=\"text-align: right;\">    128</td><td style=\"text-align: right;\">         1</td><td style=\"text-align: right;\">    0.000154266</td><td style=\"text-align: right;\">    15</td><td style=\"text-align: right;\">         57.5023</td><td style=\"text-align: right;\">    0.549669</td><td style=\"text-align: right;\">    0.552382</td><td style=\"text-align: right;\">           0.5     </td></tr>\n",
       "<tr><td>trainable_6a2c9b36</td><td>TERMINATED</td><td>192.168.1.72:24004</td><td style=\"text-align: right;\">0.0640649  </td><td style=\"text-align: right;\">              64</td><td style=\"text-align: right;\">       8</td><td style=\"text-align: right;\">     32</td><td style=\"text-align: right;\">         3</td><td style=\"text-align: right;\">    0.00707297 </td><td style=\"text-align: right;\">   100</td><td style=\"text-align: right;\">        533.167 </td><td style=\"text-align: right;\">    0.317469</td><td style=\"text-align: right;\">    0.335455</td><td style=\"text-align: right;\">           0.810126</td></tr>\n",
       "<tr><td>trainable_2cc49492</td><td>TERMINATED</td><td>192.168.1.72:24002</td><td style=\"text-align: right;\">0.323213   </td><td style=\"text-align: right;\">             128</td><td style=\"text-align: right;\">       4</td><td style=\"text-align: right;\">    512</td><td style=\"text-align: right;\">         1</td><td style=\"text-align: right;\">    0.00498151 </td><td style=\"text-align: right;\">    15</td><td style=\"text-align: right;\">         57.71  </td><td style=\"text-align: right;\">    0.517596</td><td style=\"text-align: right;\">    0.512492</td><td style=\"text-align: right;\">           0.5     </td></tr>\n",
       "<tr><td>trainable_f5eefaac</td><td>TERMINATED</td><td>192.168.1.72:24005</td><td style=\"text-align: right;\">0.188187   </td><td style=\"text-align: right;\">              64</td><td style=\"text-align: right;\">      16</td><td style=\"text-align: right;\">     32</td><td style=\"text-align: right;\">         4</td><td style=\"text-align: right;\">    0.000202885</td><td style=\"text-align: right;\">    15</td><td style=\"text-align: right;\">         99.1815</td><td style=\"text-align: right;\">    0.547235</td><td style=\"text-align: right;\">    0.549834</td><td style=\"text-align: right;\">           0.5     </td></tr>\n",
       "<tr><td>trainable_d22a3d8e</td><td>TERMINATED</td><td>192.168.1.72:24003</td><td style=\"text-align: right;\">0.39368    </td><td style=\"text-align: right;\">             512</td><td style=\"text-align: right;\">       4</td><td style=\"text-align: right;\">    256</td><td style=\"text-align: right;\">         2</td><td style=\"text-align: right;\">    0.000205495</td><td style=\"text-align: right;\">    15</td><td style=\"text-align: right;\">         87.6644</td><td style=\"text-align: right;\">    0.542325</td><td style=\"text-align: right;\">    0.537704</td><td style=\"text-align: right;\">           0.5     </td></tr>\n",
       "<tr><td>trainable_7ced7c8c</td><td>TERMINATED</td><td>192.168.1.72:24006</td><td style=\"text-align: right;\">0.107603   </td><td style=\"text-align: right;\">              64</td><td style=\"text-align: right;\">      16</td><td style=\"text-align: right;\">   1024</td><td style=\"text-align: right;\">         1</td><td style=\"text-align: right;\">    0.00065155 </td><td style=\"text-align: right;\">    15</td><td style=\"text-align: right;\">         56.0896</td><td style=\"text-align: right;\">    0.547624</td><td style=\"text-align: right;\">    0.550821</td><td style=\"text-align: right;\">           0.5     </td></tr>\n",
       "<tr><td>trainable_ad3115cc</td><td>TERMINATED</td><td>192.168.1.72:24000</td><td style=\"text-align: right;\">0.097854   </td><td style=\"text-align: right;\">             512</td><td style=\"text-align: right;\">       8</td><td style=\"text-align: right;\">    128</td><td style=\"text-align: right;\">         4</td><td style=\"text-align: right;\">    0.000114048</td><td style=\"text-align: right;\">    15</td><td style=\"text-align: right;\">        139.321 </td><td style=\"text-align: right;\">    0.520325</td><td style=\"text-align: right;\">    0.518633</td><td style=\"text-align: right;\">           0.5     </td></tr>\n",
       "<tr><td>trainable_748c53da</td><td>TERMINATED</td><td>192.168.1.72:23998</td><td style=\"text-align: right;\">0.0499735  </td><td style=\"text-align: right;\">             512</td><td style=\"text-align: right;\">      32</td><td style=\"text-align: right;\">   1024</td><td style=\"text-align: right;\">         2</td><td style=\"text-align: right;\">    0.0142638  </td><td style=\"text-align: right;\">   100</td><td style=\"text-align: right;\">        774.237 </td><td style=\"text-align: right;\">    0.308947</td><td style=\"text-align: right;\">    0.344232</td><td style=\"text-align: right;\">           0.816863</td></tr>\n",
       "<tr><td>trainable_2f674936</td><td>TERMINATED</td><td>192.168.1.72:24007</td><td style=\"text-align: right;\">0.179137   </td><td style=\"text-align: right;\">             128</td><td style=\"text-align: right;\">       1</td><td style=\"text-align: right;\">    128</td><td style=\"text-align: right;\">         3</td><td style=\"text-align: right;\">    0.000224144</td><td style=\"text-align: right;\">    15</td><td style=\"text-align: right;\">         91.4739</td><td style=\"text-align: right;\">    0.542536</td><td style=\"text-align: right;\">    0.541915</td><td style=\"text-align: right;\">           0.5     </td></tr>\n",
       "<tr><td>trainable_e3f49022</td><td>TERMINATED</td><td>192.168.1.72:24008</td><td style=\"text-align: right;\">0.479452   </td><td style=\"text-align: right;\">             256</td><td style=\"text-align: right;\">      32</td><td style=\"text-align: right;\">    128</td><td style=\"text-align: right;\">         4</td><td style=\"text-align: right;\">    0.000188445</td><td style=\"text-align: right;\">    15</td><td style=\"text-align: right;\">        112.08  </td><td style=\"text-align: right;\">    0.556123</td><td style=\"text-align: right;\">    0.57027 </td><td style=\"text-align: right;\">           0.5     </td></tr>\n",
       "<tr><td>trainable_e322e400</td><td>TERMINATED</td><td>192.168.1.72:24009</td><td style=\"text-align: right;\">0.18986    </td><td style=\"text-align: right;\">              32</td><td style=\"text-align: right;\">      32</td><td style=\"text-align: right;\">   1024</td><td style=\"text-align: right;\">         3</td><td style=\"text-align: right;\">    0.0174515  </td><td style=\"text-align: right;\">   100</td><td style=\"text-align: right;\">        553.706 </td><td style=\"text-align: right;\">    0.321751</td><td style=\"text-align: right;\">    0.345205</td><td style=\"text-align: right;\">           0.812208</td></tr>\n",
       "</tbody>\n",
       "</table><br><br>"
      ],
      "text/plain": [
       "<IPython.core.display.HTML object>"
      ]
     },
     "metadata": {},
     "output_type": "display_data"
    },
    {
     "name": "stderr",
     "output_type": "stream",
     "text": [
      "2022-02-20 22:31:11,740\tINFO tune.py:636 -- Total run time: 1.53 seconds (0.00 seconds for the tuning loop).\n"
     ]
    }
   ],
   "source": [
    "analysis = tune.run(\n",
    "    trainable,\n",
    "    resume=\"AUTO\",\n",
    "    local_dir=CHECKPOINT_DIR, \n",
    "    name=\"param_search\"\n",
    "    \n",
    ")"
   ]
  },
  {
   "cell_type": "code",
   "execution_count": null,
   "metadata": {},
   "outputs": [],
   "source": [
    "print(\"Best config: \", analysis.get_best_config(metric=\"valid_loss\", mode=\"min\"))"
   ]
  },
  {
   "cell_type": "code",
   "execution_count": null,
   "metadata": {},
   "outputs": [],
   "source": [
    "analysis.results_df"
   ]
  },
  {
   "cell_type": "code",
   "execution_count": null,
   "metadata": {},
   "outputs": [],
   "source": []
  }
 ],
 "metadata": {
  "kernelspec": {
   "display_name": "Python 3",
   "language": "python",
   "name": "python3"
  },
  "language_info": {
   "codemirror_mode": {
    "name": "ipython",
    "version": 3
   },
   "file_extension": ".py",
   "mimetype": "text/x-python",
   "name": "python",
   "nbconvert_exporter": "python",
   "pygments_lexer": "ipython3",
   "version": "3.8.11"
  }
 },
 "nbformat": 4,
 "nbformat_minor": 4
}
