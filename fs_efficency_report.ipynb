{
 "cells": [
  {
   "cell_type": "code",
   "execution_count": 1,
   "id": "ec40fa70",
   "metadata": {},
   "outputs": [],
   "source": [
    "import pandas as pd\n",
    "import plotly.graph_objects as go\n",
    "import numpy as np\n",
    "from config import ASSETS_DIR\n",
    "import os\n",
    "\n",
    "\n",
    "IMG_SCALE = 2.5"
   ]
  },
  {
   "cell_type": "code",
   "execution_count": 57,
   "id": "cb0d41a2",
   "metadata": {
    "scrolled": true
   },
   "outputs": [
    {
     "data": {
      "text/html": [
       "<div>\n",
       "<style scoped>\n",
       "    .dataframe tbody tr th:only-of-type {\n",
       "        vertical-align: middle;\n",
       "    }\n",
       "\n",
       "    .dataframe tbody tr th {\n",
       "        vertical-align: top;\n",
       "    }\n",
       "\n",
       "    .dataframe thead th {\n",
       "        text-align: right;\n",
       "    }\n",
       "</style>\n",
       "<table border=\"1\" class=\"dataframe\">\n",
       "  <thead>\n",
       "    <tr style=\"text-align: right;\">\n",
       "      <th></th>\n",
       "      <th>dataset</th>\n",
       "      <th>model</th>\n",
       "      <th>architecture_name</th>\n",
       "      <th>fs_method</th>\n",
       "      <th>fs_percent</th>\n",
       "      <th>fs_n_features</th>\n",
       "      <th>balanced_accuracy_mean</th>\n",
       "      <th>balanced_accuracy_std</th>\n",
       "      <th>balanced_accuracy_sum</th>\n",
       "      <th>accuracy_mean</th>\n",
       "      <th>...</th>\n",
       "      <th>precision_sum</th>\n",
       "      <th>recall_mean</th>\n",
       "      <th>recall_std</th>\n",
       "      <th>recall_sum</th>\n",
       "      <th>inference_time_mean</th>\n",
       "      <th>inference_time_std</th>\n",
       "      <th>inference_time_sum</th>\n",
       "      <th>training_time_mean</th>\n",
       "      <th>training_time_std</th>\n",
       "      <th>training_time_sum</th>\n",
       "    </tr>\n",
       "  </thead>\n",
       "  <tbody>\n",
       "    <tr>\n",
       "      <th>1</th>\n",
       "      <td>adult</td>\n",
       "      <td>mlp/full</td>\n",
       "      <td>A0</td>\n",
       "      <td>decision_tree</td>\n",
       "      <td>0.5</td>\n",
       "      <td>7</td>\n",
       "      <td>0.752513</td>\n",
       "      <td>0.011217</td>\n",
       "      <td>3.762564</td>\n",
       "      <td>0.835334</td>\n",
       "      <td>...</td>\n",
       "      <td>4.383474</td>\n",
       "      <td>0.911746</td>\n",
       "      <td>0.012794</td>\n",
       "      <td>4.558728</td>\n",
       "      <td>0.161841</td>\n",
       "      <td>0.005832</td>\n",
       "      <td>0.809205</td>\n",
       "      <td>85.739740</td>\n",
       "      <td>3.457281</td>\n",
       "      <td>428.698698</td>\n",
       "    </tr>\n",
       "    <tr>\n",
       "      <th>2</th>\n",
       "      <td>adult</td>\n",
       "      <td>mlp/full</td>\n",
       "      <td>A0</td>\n",
       "      <td>decision_tree</td>\n",
       "      <td>0.6</td>\n",
       "      <td>8</td>\n",
       "      <td>0.755865</td>\n",
       "      <td>0.010407</td>\n",
       "      <td>3.779323</td>\n",
       "      <td>0.836102</td>\n",
       "      <td>...</td>\n",
       "      <td>4.393496</td>\n",
       "      <td>0.910129</td>\n",
       "      <td>0.012232</td>\n",
       "      <td>4.550646</td>\n",
       "      <td>0.160911</td>\n",
       "      <td>0.003812</td>\n",
       "      <td>0.804556</td>\n",
       "      <td>81.501757</td>\n",
       "      <td>3.161224</td>\n",
       "      <td>407.508784</td>\n",
       "    </tr>\n",
       "    <tr>\n",
       "      <th>3</th>\n",
       "      <td>adult</td>\n",
       "      <td>mlp/full</td>\n",
       "      <td>A0</td>\n",
       "      <td>decision_tree</td>\n",
       "      <td>0.7</td>\n",
       "      <td>9</td>\n",
       "      <td>0.755999</td>\n",
       "      <td>0.008595</td>\n",
       "      <td>3.779996</td>\n",
       "      <td>0.836307</td>\n",
       "      <td>...</td>\n",
       "      <td>4.393418</td>\n",
       "      <td>0.910399</td>\n",
       "      <td>0.008993</td>\n",
       "      <td>4.551993</td>\n",
       "      <td>0.163342</td>\n",
       "      <td>0.007492</td>\n",
       "      <td>0.816711</td>\n",
       "      <td>85.261526</td>\n",
       "      <td>9.673928</td>\n",
       "      <td>426.307630</td>\n",
       "    </tr>\n",
       "    <tr>\n",
       "      <th>4</th>\n",
       "      <td>adult</td>\n",
       "      <td>mlp/full</td>\n",
       "      <td>A0</td>\n",
       "      <td>decision_tree</td>\n",
       "      <td>0.8</td>\n",
       "      <td>11</td>\n",
       "      <td>0.763006</td>\n",
       "      <td>0.007734</td>\n",
       "      <td>3.815028</td>\n",
       "      <td>0.839634</td>\n",
       "      <td>...</td>\n",
       "      <td>4.412223</td>\n",
       "      <td>0.910331</td>\n",
       "      <td>0.008160</td>\n",
       "      <td>4.551656</td>\n",
       "      <td>0.156638</td>\n",
       "      <td>0.001617</td>\n",
       "      <td>0.783192</td>\n",
       "      <td>78.800536</td>\n",
       "      <td>4.650035</td>\n",
       "      <td>394.002682</td>\n",
       "    </tr>\n",
       "    <tr>\n",
       "      <th>5</th>\n",
       "      <td>adult</td>\n",
       "      <td>mlp/full</td>\n",
       "      <td>A0</td>\n",
       "      <td>decision_tree</td>\n",
       "      <td>0.9</td>\n",
       "      <td>12</td>\n",
       "      <td>0.764510</td>\n",
       "      <td>0.006098</td>\n",
       "      <td>3.822549</td>\n",
       "      <td>0.841476</td>\n",
       "      <td>...</td>\n",
       "      <td>4.414594</td>\n",
       "      <td>0.912486</td>\n",
       "      <td>0.008924</td>\n",
       "      <td>4.562430</td>\n",
       "      <td>0.160309</td>\n",
       "      <td>0.004055</td>\n",
       "      <td>0.801546</td>\n",
       "      <td>77.983038</td>\n",
       "      <td>2.774020</td>\n",
       "      <td>389.915189</td>\n",
       "    </tr>\n",
       "  </tbody>\n",
       "</table>\n",
       "<p>5 rows × 33 columns</p>\n",
       "</div>"
      ],
      "text/plain": [
       "  dataset     model architecture_name      fs_method  fs_percent  \\\n",
       "1   adult  mlp/full                A0  decision_tree         0.5   \n",
       "2   adult  mlp/full                A0  decision_tree         0.6   \n",
       "3   adult  mlp/full                A0  decision_tree         0.7   \n",
       "4   adult  mlp/full                A0  decision_tree         0.8   \n",
       "5   adult  mlp/full                A0  decision_tree         0.9   \n",
       "\n",
       "   fs_n_features  balanced_accuracy_mean  balanced_accuracy_std  \\\n",
       "1              7                0.752513               0.011217   \n",
       "2              8                0.755865               0.010407   \n",
       "3              9                0.755999               0.008595   \n",
       "4             11                0.763006               0.007734   \n",
       "5             12                0.764510               0.006098   \n",
       "\n",
       "   balanced_accuracy_sum  accuracy_mean  ...  precision_sum  recall_mean  \\\n",
       "1               3.762564       0.835334  ...       4.383474     0.911746   \n",
       "2               3.779323       0.836102  ...       4.393496     0.910129   \n",
       "3               3.779996       0.836307  ...       4.393418     0.910399   \n",
       "4               3.815028       0.839634  ...       4.412223     0.910331   \n",
       "5               3.822549       0.841476  ...       4.414594     0.912486   \n",
       "\n",
       "   recall_std  recall_sum  inference_time_mean  inference_time_std  \\\n",
       "1    0.012794    4.558728             0.161841            0.005832   \n",
       "2    0.012232    4.550646             0.160911            0.003812   \n",
       "3    0.008993    4.551993             0.163342            0.007492   \n",
       "4    0.008160    4.551656             0.156638            0.001617   \n",
       "5    0.008924    4.562430             0.160309            0.004055   \n",
       "\n",
       "   inference_time_sum  training_time_mean  training_time_std  \\\n",
       "1            0.809205           85.739740           3.457281   \n",
       "2            0.804556           81.501757           3.161224   \n",
       "3            0.816711           85.261526           9.673928   \n",
       "4            0.783192           78.800536           4.650035   \n",
       "5            0.801546           77.983038           2.774020   \n",
       "\n",
       "   training_time_sum  \n",
       "1         428.698698  \n",
       "2         407.508784  \n",
       "3         426.307630  \n",
       "4         394.002682  \n",
       "5         389.915189  \n",
       "\n",
       "[5 rows x 33 columns]"
      ]
     },
     "execution_count": 57,
     "metadata": {},
     "output_type": "execute_result"
    }
   ],
   "source": [
    "scores_df = pd.read_csv(\"fs_efficency/scores.csv\")\n",
    "scores_df = scores_df.query(\n",
    "                \"fs_percent>=0.5 \"\n",
    "                \"and dataset not in ['anneal', 'ldpa']\"\n",
    ")\n",
    "scores_df.head()"
   ]
  },
  {
   "cell_type": "markdown",
   "id": "4d8ee622",
   "metadata": {},
   "source": [
    "# Adding best architectures cases"
   ]
  },
  {
   "cell_type": "code",
   "execution_count": 58,
   "id": "56a0cb3f",
   "metadata": {
    "scrolled": false
   },
   "outputs": [
    {
     "data": {
      "text/html": [
       "<div>\n",
       "<style scoped>\n",
       "    .dataframe tbody tr th:only-of-type {\n",
       "        vertical-align: middle;\n",
       "    }\n",
       "\n",
       "    .dataframe tbody tr th {\n",
       "        vertical-align: top;\n",
       "    }\n",
       "\n",
       "    .dataframe thead th {\n",
       "        text-align: right;\n",
       "    }\n",
       "</style>\n",
       "<table border=\"1\" class=\"dataframe\">\n",
       "  <thead>\n",
       "    <tr style=\"text-align: right;\">\n",
       "      <th></th>\n",
       "      <th>dataset</th>\n",
       "      <th>model</th>\n",
       "      <th>architecture_name</th>\n",
       "      <th>fs_method</th>\n",
       "      <th>fs_percent</th>\n",
       "      <th>fs_n_features</th>\n",
       "      <th>balanced_accuracy_mean</th>\n",
       "      <th>balanced_accuracy_std</th>\n",
       "      <th>balanced_accuracy_sum</th>\n",
       "      <th>accuracy_mean</th>\n",
       "      <th>...</th>\n",
       "      <th>precision_sum</th>\n",
       "      <th>recall_mean</th>\n",
       "      <th>recall_std</th>\n",
       "      <th>recall_sum</th>\n",
       "      <th>inference_time_mean</th>\n",
       "      <th>inference_time_std</th>\n",
       "      <th>inference_time_sum</th>\n",
       "      <th>training_time_mean</th>\n",
       "      <th>training_time_std</th>\n",
       "      <th>training_time_sum</th>\n",
       "    </tr>\n",
       "  </thead>\n",
       "  <tbody>\n",
       "    <tr>\n",
       "      <th>0</th>\n",
       "      <td>adult</td>\n",
       "      <td>mlp/full</td>\n",
       "      <td>A0</td>\n",
       "      <td>decision_tree</td>\n",
       "      <td>0.5</td>\n",
       "      <td>7</td>\n",
       "      <td>0.752513</td>\n",
       "      <td>0.011217</td>\n",
       "      <td>3.762564</td>\n",
       "      <td>0.835334</td>\n",
       "      <td>...</td>\n",
       "      <td>4.383474</td>\n",
       "      <td>0.911746</td>\n",
       "      <td>0.012794</td>\n",
       "      <td>4.558728</td>\n",
       "      <td>0.161841</td>\n",
       "      <td>0.005832</td>\n",
       "      <td>0.809205</td>\n",
       "      <td>85.739740</td>\n",
       "      <td>3.457281</td>\n",
       "      <td>428.698698</td>\n",
       "    </tr>\n",
       "    <tr>\n",
       "      <th>1</th>\n",
       "      <td>adult</td>\n",
       "      <td>mlp/full</td>\n",
       "      <td>A0</td>\n",
       "      <td>decision_tree</td>\n",
       "      <td>0.6</td>\n",
       "      <td>8</td>\n",
       "      <td>0.755865</td>\n",
       "      <td>0.010407</td>\n",
       "      <td>3.779323</td>\n",
       "      <td>0.836102</td>\n",
       "      <td>...</td>\n",
       "      <td>4.393496</td>\n",
       "      <td>0.910129</td>\n",
       "      <td>0.012232</td>\n",
       "      <td>4.550646</td>\n",
       "      <td>0.160911</td>\n",
       "      <td>0.003812</td>\n",
       "      <td>0.804556</td>\n",
       "      <td>81.501757</td>\n",
       "      <td>3.161224</td>\n",
       "      <td>407.508784</td>\n",
       "    </tr>\n",
       "    <tr>\n",
       "      <th>2</th>\n",
       "      <td>adult</td>\n",
       "      <td>mlp/full</td>\n",
       "      <td>A0</td>\n",
       "      <td>decision_tree</td>\n",
       "      <td>0.7</td>\n",
       "      <td>9</td>\n",
       "      <td>0.755999</td>\n",
       "      <td>0.008595</td>\n",
       "      <td>3.779996</td>\n",
       "      <td>0.836307</td>\n",
       "      <td>...</td>\n",
       "      <td>4.393418</td>\n",
       "      <td>0.910399</td>\n",
       "      <td>0.008993</td>\n",
       "      <td>4.551993</td>\n",
       "      <td>0.163342</td>\n",
       "      <td>0.007492</td>\n",
       "      <td>0.816711</td>\n",
       "      <td>85.261526</td>\n",
       "      <td>9.673928</td>\n",
       "      <td>426.307630</td>\n",
       "    </tr>\n",
       "    <tr>\n",
       "      <th>3</th>\n",
       "      <td>adult</td>\n",
       "      <td>mlp/full</td>\n",
       "      <td>A0</td>\n",
       "      <td>decision_tree</td>\n",
       "      <td>0.8</td>\n",
       "      <td>11</td>\n",
       "      <td>0.763006</td>\n",
       "      <td>0.007734</td>\n",
       "      <td>3.815028</td>\n",
       "      <td>0.839634</td>\n",
       "      <td>...</td>\n",
       "      <td>4.412223</td>\n",
       "      <td>0.910331</td>\n",
       "      <td>0.008160</td>\n",
       "      <td>4.551656</td>\n",
       "      <td>0.156638</td>\n",
       "      <td>0.001617</td>\n",
       "      <td>0.783192</td>\n",
       "      <td>78.800536</td>\n",
       "      <td>4.650035</td>\n",
       "      <td>394.002682</td>\n",
       "    </tr>\n",
       "    <tr>\n",
       "      <th>4</th>\n",
       "      <td>adult</td>\n",
       "      <td>mlp/full</td>\n",
       "      <td>A0</td>\n",
       "      <td>decision_tree</td>\n",
       "      <td>0.9</td>\n",
       "      <td>12</td>\n",
       "      <td>0.764510</td>\n",
       "      <td>0.006098</td>\n",
       "      <td>3.822549</td>\n",
       "      <td>0.841476</td>\n",
       "      <td>...</td>\n",
       "      <td>4.414594</td>\n",
       "      <td>0.912486</td>\n",
       "      <td>0.008924</td>\n",
       "      <td>4.562430</td>\n",
       "      <td>0.160309</td>\n",
       "      <td>0.004055</td>\n",
       "      <td>0.801546</td>\n",
       "      <td>77.983038</td>\n",
       "      <td>2.774020</td>\n",
       "      <td>389.915189</td>\n",
       "    </tr>\n",
       "    <tr>\n",
       "      <th>...</th>\n",
       "      <td>...</td>\n",
       "      <td>...</td>\n",
       "      <td>...</td>\n",
       "      <td>...</td>\n",
       "      <td>...</td>\n",
       "      <td>...</td>\n",
       "      <td>...</td>\n",
       "      <td>...</td>\n",
       "      <td>...</td>\n",
       "      <td>...</td>\n",
       "      <td>...</td>\n",
       "      <td>...</td>\n",
       "      <td>...</td>\n",
       "      <td>...</td>\n",
       "      <td>...</td>\n",
       "      <td>...</td>\n",
       "      <td>...</td>\n",
       "      <td>...</td>\n",
       "      <td>...</td>\n",
       "      <td>...</td>\n",
       "      <td>...</td>\n",
       "    </tr>\n",
       "    <tr>\n",
       "      <th>1927</th>\n",
       "      <td>volkert</td>\n",
       "      <td>xgboost/best</td>\n",
       "      <td>A3</td>\n",
       "      <td>linear_model</td>\n",
       "      <td>0.8</td>\n",
       "      <td>144</td>\n",
       "      <td>0.611326</td>\n",
       "      <td>0.006252</td>\n",
       "      <td>3.056632</td>\n",
       "      <td>0.703181</td>\n",
       "      <td>...</td>\n",
       "      <td>0.000000</td>\n",
       "      <td>NaN</td>\n",
       "      <td>NaN</td>\n",
       "      <td>0.000000</td>\n",
       "      <td>0.225573</td>\n",
       "      <td>0.010134</td>\n",
       "      <td>1.127863</td>\n",
       "      <td>114.847031</td>\n",
       "      <td>3.649015</td>\n",
       "      <td>574.235153</td>\n",
       "    </tr>\n",
       "    <tr>\n",
       "      <th>1928</th>\n",
       "      <td>volkert</td>\n",
       "      <td>xgboost/best</td>\n",
       "      <td>A3</td>\n",
       "      <td>linear_model</td>\n",
       "      <td>0.9</td>\n",
       "      <td>162</td>\n",
       "      <td>0.609670</td>\n",
       "      <td>0.008966</td>\n",
       "      <td>3.048349</td>\n",
       "      <td>0.701337</td>\n",
       "      <td>...</td>\n",
       "      <td>0.000000</td>\n",
       "      <td>NaN</td>\n",
       "      <td>NaN</td>\n",
       "      <td>0.000000</td>\n",
       "      <td>0.232875</td>\n",
       "      <td>0.014124</td>\n",
       "      <td>1.164373</td>\n",
       "      <td>123.314467</td>\n",
       "      <td>3.841903</td>\n",
       "      <td>616.572334</td>\n",
       "    </tr>\n",
       "    <tr>\n",
       "      <th>1929</th>\n",
       "      <td>volkert</td>\n",
       "      <td>xgboost/best</td>\n",
       "      <td>A3</td>\n",
       "      <td>decision_tree</td>\n",
       "      <td>1.0</td>\n",
       "      <td>180</td>\n",
       "      <td>0.609670</td>\n",
       "      <td>0.008966</td>\n",
       "      <td>3.048349</td>\n",
       "      <td>0.701337</td>\n",
       "      <td>...</td>\n",
       "      <td>0.000000</td>\n",
       "      <td>NaN</td>\n",
       "      <td>NaN</td>\n",
       "      <td>0.000000</td>\n",
       "      <td>0.239392</td>\n",
       "      <td>0.012999</td>\n",
       "      <td>1.196959</td>\n",
       "      <td>123.524770</td>\n",
       "      <td>3.850030</td>\n",
       "      <td>617.623848</td>\n",
       "    </tr>\n",
       "    <tr>\n",
       "      <th>1930</th>\n",
       "      <td>volkert</td>\n",
       "      <td>xgboost/best</td>\n",
       "      <td>A3</td>\n",
       "      <td>f_classif</td>\n",
       "      <td>1.0</td>\n",
       "      <td>180</td>\n",
       "      <td>0.609670</td>\n",
       "      <td>0.008966</td>\n",
       "      <td>3.048349</td>\n",
       "      <td>0.701337</td>\n",
       "      <td>...</td>\n",
       "      <td>0.000000</td>\n",
       "      <td>NaN</td>\n",
       "      <td>NaN</td>\n",
       "      <td>0.000000</td>\n",
       "      <td>0.239392</td>\n",
       "      <td>0.012999</td>\n",
       "      <td>1.196959</td>\n",
       "      <td>123.524770</td>\n",
       "      <td>3.850030</td>\n",
       "      <td>617.623848</td>\n",
       "    </tr>\n",
       "    <tr>\n",
       "      <th>1931</th>\n",
       "      <td>volkert</td>\n",
       "      <td>xgboost/best</td>\n",
       "      <td>A3</td>\n",
       "      <td>linear_model</td>\n",
       "      <td>1.0</td>\n",
       "      <td>180</td>\n",
       "      <td>0.609670</td>\n",
       "      <td>0.008966</td>\n",
       "      <td>3.048349</td>\n",
       "      <td>0.701337</td>\n",
       "      <td>...</td>\n",
       "      <td>0.000000</td>\n",
       "      <td>NaN</td>\n",
       "      <td>NaN</td>\n",
       "      <td>0.000000</td>\n",
       "      <td>0.239392</td>\n",
       "      <td>0.012999</td>\n",
       "      <td>1.196959</td>\n",
       "      <td>123.524770</td>\n",
       "      <td>3.850030</td>\n",
       "      <td>617.623848</td>\n",
       "    </tr>\n",
       "  </tbody>\n",
       "</table>\n",
       "<p>1932 rows × 33 columns</p>\n",
       "</div>"
      ],
      "text/plain": [
       "      dataset         model architecture_name      fs_method  fs_percent  \\\n",
       "0       adult      mlp/full                A0  decision_tree         0.5   \n",
       "1       adult      mlp/full                A0  decision_tree         0.6   \n",
       "2       adult      mlp/full                A0  decision_tree         0.7   \n",
       "3       adult      mlp/full                A0  decision_tree         0.8   \n",
       "4       adult      mlp/full                A0  decision_tree         0.9   \n",
       "...       ...           ...               ...            ...         ...   \n",
       "1927  volkert  xgboost/best                A3   linear_model         0.8   \n",
       "1928  volkert  xgboost/best                A3   linear_model         0.9   \n",
       "1929  volkert  xgboost/best                A3  decision_tree         1.0   \n",
       "1930  volkert  xgboost/best                A3      f_classif         1.0   \n",
       "1931  volkert  xgboost/best                A3   linear_model         1.0   \n",
       "\n",
       "      fs_n_features  balanced_accuracy_mean  balanced_accuracy_std  \\\n",
       "0                 7                0.752513               0.011217   \n",
       "1                 8                0.755865               0.010407   \n",
       "2                 9                0.755999               0.008595   \n",
       "3                11                0.763006               0.007734   \n",
       "4                12                0.764510               0.006098   \n",
       "...             ...                     ...                    ...   \n",
       "1927            144                0.611326               0.006252   \n",
       "1928            162                0.609670               0.008966   \n",
       "1929            180                0.609670               0.008966   \n",
       "1930            180                0.609670               0.008966   \n",
       "1931            180                0.609670               0.008966   \n",
       "\n",
       "      balanced_accuracy_sum  accuracy_mean  ...  precision_sum  recall_mean  \\\n",
       "0                  3.762564       0.835334  ...       4.383474     0.911746   \n",
       "1                  3.779323       0.836102  ...       4.393496     0.910129   \n",
       "2                  3.779996       0.836307  ...       4.393418     0.910399   \n",
       "3                  3.815028       0.839634  ...       4.412223     0.910331   \n",
       "4                  3.822549       0.841476  ...       4.414594     0.912486   \n",
       "...                     ...            ...  ...            ...          ...   \n",
       "1927               3.056632       0.703181  ...       0.000000          NaN   \n",
       "1928               3.048349       0.701337  ...       0.000000          NaN   \n",
       "1929               3.048349       0.701337  ...       0.000000          NaN   \n",
       "1930               3.048349       0.701337  ...       0.000000          NaN   \n",
       "1931               3.048349       0.701337  ...       0.000000          NaN   \n",
       "\n",
       "      recall_std  recall_sum  inference_time_mean  inference_time_std  \\\n",
       "0       0.012794    4.558728             0.161841            0.005832   \n",
       "1       0.012232    4.550646             0.160911            0.003812   \n",
       "2       0.008993    4.551993             0.163342            0.007492   \n",
       "3       0.008160    4.551656             0.156638            0.001617   \n",
       "4       0.008924    4.562430             0.160309            0.004055   \n",
       "...          ...         ...                  ...                 ...   \n",
       "1927         NaN    0.000000             0.225573            0.010134   \n",
       "1928         NaN    0.000000             0.232875            0.014124   \n",
       "1929         NaN    0.000000             0.239392            0.012999   \n",
       "1930         NaN    0.000000             0.239392            0.012999   \n",
       "1931         NaN    0.000000             0.239392            0.012999   \n",
       "\n",
       "      inference_time_sum  training_time_mean  training_time_std  \\\n",
       "0               0.809205           85.739740           3.457281   \n",
       "1               0.804556           81.501757           3.161224   \n",
       "2               0.816711           85.261526           9.673928   \n",
       "3               0.783192           78.800536           4.650035   \n",
       "4               0.801546           77.983038           2.774020   \n",
       "...                  ...                 ...                ...   \n",
       "1927            1.127863          114.847031           3.649015   \n",
       "1928            1.164373          123.314467           3.841903   \n",
       "1929            1.196959          123.524770           3.850030   \n",
       "1930            1.196959          123.524770           3.850030   \n",
       "1931            1.196959          123.524770           3.850030   \n",
       "\n",
       "      training_time_sum  \n",
       "0            428.698698  \n",
       "1            407.508784  \n",
       "2            426.307630  \n",
       "3            394.002682  \n",
       "4            389.915189  \n",
       "...                 ...  \n",
       "1927         574.235153  \n",
       "1928         616.572334  \n",
       "1929         617.623848  \n",
       "1930         617.623848  \n",
       "1931         617.623848  \n",
       "\n",
       "[1932 rows x 33 columns]"
      ]
     },
     "execution_count": 58,
     "metadata": {},
     "output_type": "execute_result"
    }
   ],
   "source": [
    "best_archs_indices = scores_df.query(\n",
    "    \"fs_percent==1 \"\n",
    "    \"and fs_method=='decision_tree' \" # The method is not relevant\n",
    "    \"and model in ['mlp/full', 'xgboost']\").groupby([\"dataset\", \"model\"])[\"balanced_accuracy_mean\"].idxmax()\n",
    "\n",
    "best_archs_df = scores_df.loc[best_archs_indices, [\"dataset\", \"model\", \"architecture_name\"]]\n",
    "\n",
    "for r in best_archs_df.iloc:\n",
    "    ds = r[\"dataset\"]\n",
    "    m = r[\"model\"]\n",
    "    a = r[\"architecture_name\"]\n",
    "    \n",
    "    only_best_arch = scores_df.query(\"dataset==@ds and model==@m and architecture_name==@a\").copy()\n",
    "    only_best_arch[\"model\"] = only_best_arch[\"model\"] + \"/best\"\n",
    "    \n",
    "    scores_df = pd.concat([scores_df, only_best_arch], axis=0)\n",
    "\n",
    "scores_df = scores_df.reset_index(drop=True)\n",
    "scores_df"
   ]
  },
  {
   "cell_type": "code",
   "execution_count": 59,
   "id": "cd8d997a",
   "metadata": {},
   "outputs": [],
   "source": [
    "df_replacements = {\n",
    "    \"model\": {\n",
    "       \"transformer/cls\": \"FT-Trasnformer\",\n",
    "       \"mlp/full\": \"MLP + HS\",\n",
    "       \"mlp/full/best\": \"MLP⁺\",\n",
    "       \"mlp/simple\": \"MLP⁺ + Pruning\",\n",
    "       \"xgboost\": \"XGBoost\",\n",
    "       \"xgboost/best\": \"XGBoost⁺\"\n",
    "    },\n",
    "    \"fs_method\": {\n",
    "        \"decision_tree\": \"Decision tree\",\n",
    "        \"f_classif\": \"F-score\",\n",
    "        \"linear_model\": \"Linear model\"\n",
    "    }\n",
    "}"
   ]
  },
  {
   "cell_type": "markdown",
   "id": "091222b5",
   "metadata": {},
   "source": [
    "# General results"
   ]
  },
  {
   "cell_type": "code",
   "execution_count": 60,
   "id": "285ed391",
   "metadata": {},
   "outputs": [],
   "source": [
    "def num_as_str(x):\n",
    "    return \"{0:.3f}\".format(x)"
   ]
  },
  {
   "cell_type": "code",
   "execution_count": 61,
   "id": "9dc9afe4",
   "metadata": {},
   "outputs": [
    {
     "data": {
      "text/html": [
       "<div>\n",
       "<style scoped>\n",
       "    .dataframe tbody tr th:only-of-type {\n",
       "        vertical-align: middle;\n",
       "    }\n",
       "\n",
       "    .dataframe tbody tr th {\n",
       "        vertical-align: top;\n",
       "    }\n",
       "\n",
       "    .dataframe thead th {\n",
       "        text-align: right;\n",
       "    }\n",
       "</style>\n",
       "<table border=\"1\" class=\"dataframe\">\n",
       "  <thead>\n",
       "    <tr style=\"text-align: right;\">\n",
       "      <th></th>\n",
       "      <th></th>\n",
       "      <th>FT-Trasnformer</th>\n",
       "      <th>MLP + HS</th>\n",
       "      <th>XGBoost</th>\n",
       "    </tr>\n",
       "  </thead>\n",
       "  <tbody>\n",
       "    <tr>\n",
       "      <th>0</th>\n",
       "      <td>adult</td>\n",
       "      <td>$79.215 \\pm 0.970$</td>\n",
       "      <td>$78.472 \\pm 1.413$</td>\n",
       "      <td>$79.784 \\pm 0.779$</td>\n",
       "    </tr>\n",
       "    <tr>\n",
       "      <th>1</th>\n",
       "      <td>australian</td>\n",
       "      <td>$87.195 \\pm 3.422$</td>\n",
       "      <td>$85.785 \\pm 2.228$</td>\n",
       "      <td>$85.660 \\pm 2.866$</td>\n",
       "    </tr>\n",
       "    <tr>\n",
       "      <th>2</th>\n",
       "      <td>jasmine</td>\n",
       "      <td>$81.890 \\pm 2.149$</td>\n",
       "      <td>$78.897 \\pm 1.585$</td>\n",
       "      <td>$81.707 \\pm 1.105$</td>\n",
       "    </tr>\n",
       "    <tr>\n",
       "      <th>3</th>\n",
       "      <td>kr-vs-kp</td>\n",
       "      <td>$99.839 \\pm 0.166$</td>\n",
       "      <td>$99.682 \\pm 0.173$</td>\n",
       "      <td>$99.368 \\pm 0.205$</td>\n",
       "    </tr>\n",
       "    <tr>\n",
       "      <th>4</th>\n",
       "      <td>nomao</td>\n",
       "      <td>$95.159 \\pm 0.393$</td>\n",
       "      <td>$93.912 \\pm 0.775$</td>\n",
       "      <td>$96.166 \\pm 0.290$</td>\n",
       "    </tr>\n",
       "    <tr>\n",
       "      <th>5</th>\n",
       "      <td>sylvine</td>\n",
       "      <td>$94.890 \\pm 0.404$</td>\n",
       "      <td>$92.811 \\pm 0.559$</td>\n",
       "      <td>$94.427 \\pm 0.623$</td>\n",
       "    </tr>\n",
       "    <tr>\n",
       "      <th>6</th>\n",
       "      <td>volkert</td>\n",
       "      <td>$62.373 \\pm 0.915$</td>\n",
       "      <td>$59.915 \\pm 0.781$</td>\n",
       "      <td>$60.967 \\pm 0.897$</td>\n",
       "    </tr>\n",
       "  </tbody>\n",
       "</table>\n",
       "</div>"
      ],
      "text/plain": [
       "                   FT-Trasnformer            MLP + HS             XGBoost\n",
       "0       adult  $79.215 \\pm 0.970$  $78.472 \\pm 1.413$  $79.784 \\pm 0.779$\n",
       "1  australian  $87.195 \\pm 3.422$  $85.785 \\pm 2.228$  $85.660 \\pm 2.866$\n",
       "2     jasmine  $81.890 \\pm 2.149$  $78.897 \\pm 1.585$  $81.707 \\pm 1.105$\n",
       "3    kr-vs-kp  $99.839 \\pm 0.166$  $99.682 \\pm 0.173$  $99.368 \\pm 0.205$\n",
       "4       nomao  $95.159 \\pm 0.393$  $93.912 \\pm 0.775$  $96.166 \\pm 0.290$\n",
       "5     sylvine  $94.890 \\pm 0.404$  $92.811 \\pm 0.559$  $94.427 \\pm 0.623$\n",
       "6     volkert  $62.373 \\pm 0.915$  $59.915 \\pm 0.781$  $60.967 \\pm 0.897$"
      ]
     },
     "execution_count": 61,
     "metadata": {},
     "output_type": "execute_result"
    }
   ],
   "source": [
    "indices_best = scores_df.groupby([\n",
    "    \"dataset\", \"model\", \"fs_method\", \n",
    "    \"fs_percent\", \"fs_n_features\"\n",
    "    ])[\"balanced_accuracy_mean\"].idxmax()\n",
    "\n",
    "\n",
    "best_scores_df = scores_df.loc[indices_best].query(\"fs_percent==1 \"\n",
    "                                                   \"and fs_method=='decision_tree' \"\n",
    "                                                  \"and model in ['transformer/cls','mlp/full','xgboost']\"\n",
    "                                                  )\n",
    "best_scores_df[\"balanced_accuracy\"] = \"$\" + (best_scores_df[\"balanced_accuracy_mean\"] * 100).apply(num_as_str) \\\n",
    "                        + \" \\pm \" + (best_scores_df[\"balanced_accuracy_std\"] * 100).apply(num_as_str) + \"$\" \n",
    "\n",
    "best_scores_df = best_scores_df.replace(df_replacements)[[\"dataset\", \"model\", \"balanced_accuracy\"]] \\\n",
    "                        .pivot(index=\"dataset\", columns=\"model\") \\\n",
    "                        .reset_index()\n",
    "\n",
    "\n",
    "best_scores_df.columns = [col[1] for col in best_scores_df.columns]\n",
    "\n",
    "with open(os.path.join(ASSETS_DIR, \"fs_general_results.tex\"), \"w\") as f:\n",
    "    f.write(best_scores_df.to_latex(index=False))    \n",
    "    \n",
    "best_scores_df"
   ]
  },
  {
   "cell_type": "code",
   "execution_count": 62,
   "id": "826af39e",
   "metadata": {},
   "outputs": [
    {
     "data": {
      "text/html": [
       "<div>\n",
       "<style scoped>\n",
       "    .dataframe tbody tr th:only-of-type {\n",
       "        vertical-align: middle;\n",
       "    }\n",
       "\n",
       "    .dataframe tbody tr th {\n",
       "        vertical-align: top;\n",
       "    }\n",
       "\n",
       "    .dataframe thead th {\n",
       "        text-align: right;\n",
       "    }\n",
       "</style>\n",
       "<table border=\"1\" class=\"dataframe\">\n",
       "  <thead>\n",
       "    <tr style=\"text-align: right;\">\n",
       "      <th></th>\n",
       "      <th></th>\n",
       "      <th>mlp/full</th>\n",
       "      <th>transformer/cls</th>\n",
       "      <th>xgboost</th>\n",
       "      <th>best</th>\n",
       "    </tr>\n",
       "  </thead>\n",
       "  <tbody>\n",
       "    <tr>\n",
       "      <th>0</th>\n",
       "      <td>adult</td>\n",
       "      <td>1.645049</td>\n",
       "      <td>0.713716</td>\n",
       "      <td>0.000000</td>\n",
       "      <td>0.797843</td>\n",
       "    </tr>\n",
       "    <tr>\n",
       "      <th>1</th>\n",
       "      <td>australian</td>\n",
       "      <td>1.617670</td>\n",
       "      <td>0.000000</td>\n",
       "      <td>1.761058</td>\n",
       "      <td>0.871954</td>\n",
       "    </tr>\n",
       "    <tr>\n",
       "      <th>2</th>\n",
       "      <td>jasmine</td>\n",
       "      <td>3.653942</td>\n",
       "      <td>0.000000</td>\n",
       "      <td>0.223072</td>\n",
       "      <td>0.818897</td>\n",
       "    </tr>\n",
       "    <tr>\n",
       "      <th>3</th>\n",
       "      <td>kr-vs-kp</td>\n",
       "      <td>0.157247</td>\n",
       "      <td>0.000000</td>\n",
       "      <td>0.471742</td>\n",
       "      <td>0.998389</td>\n",
       "    </tr>\n",
       "    <tr>\n",
       "      <th>4</th>\n",
       "      <td>nomao</td>\n",
       "      <td>2.343484</td>\n",
       "      <td>1.047115</td>\n",
       "      <td>0.000000</td>\n",
       "      <td>0.961660</td>\n",
       "    </tr>\n",
       "    <tr>\n",
       "      <th>5</th>\n",
       "      <td>sylvine</td>\n",
       "      <td>2.191173</td>\n",
       "      <td>0.000000</td>\n",
       "      <td>0.487993</td>\n",
       "      <td>0.948902</td>\n",
       "    </tr>\n",
       "    <tr>\n",
       "      <th>6</th>\n",
       "      <td>volkert</td>\n",
       "      <td>3.941328</td>\n",
       "      <td>0.000000</td>\n",
       "      <td>2.254851</td>\n",
       "      <td>0.623734</td>\n",
       "    </tr>\n",
       "  </tbody>\n",
       "</table>\n",
       "</div>"
      ],
      "text/plain": [
       "               mlp/full  transformer/cls   xgboost      best\n",
       "0       adult  1.645049         0.713716  0.000000  0.797843\n",
       "1  australian  1.617670         0.000000  1.761058  0.871954\n",
       "2     jasmine  3.653942         0.000000  0.223072  0.818897\n",
       "3    kr-vs-kp  0.157247         0.000000  0.471742  0.998389\n",
       "4       nomao  2.343484         1.047115  0.000000  0.961660\n",
       "5     sylvine  2.191173         0.000000  0.487993  0.948902\n",
       "6     volkert  3.941328         0.000000  2.254851  0.623734"
      ]
     },
     "execution_count": 62,
     "metadata": {},
     "output_type": "execute_result"
    }
   ],
   "source": [
    "indices_best = scores_df.groupby([\n",
    "    \"dataset\", \"model\", \"fs_method\", \n",
    "    \"fs_percent\", \"fs_n_features\"\n",
    "    ])[\"balanced_accuracy_mean\"].idxmax()\n",
    "\n",
    "\n",
    "best_scores_df = scores_df.loc[indices_best].query(\"fs_percent==1 \"\n",
    "                                                   \"and fs_method=='decision_tree' \"\n",
    "                                                  \"and model in ['transformer/cls','mlp/full','xgboost']\"\n",
    "                                                  )\n",
    "\n",
    "best_scores_df = best_scores_df[[\"dataset\", \"model\", \"balanced_accuracy_mean\"]] \\\n",
    "                        .pivot(index=\"dataset\", columns=\"model\") \\\n",
    "                        .reset_index()\n",
    "\n",
    "best_scores_df.columns = [col[1] for col in best_scores_df.columns]\n",
    "\n",
    "best_scores_df[\"best\"] = best_scores_df.iloc[:, 1:].max(axis=1)\n",
    "\n",
    "best_scores_df[\"mlp/full\"] = (1 - best_scores_df[\"mlp/full\"] / best_scores_df[\"best\"]) * 100\n",
    "best_scores_df[\"transformer/cls\"] = (1 - best_scores_df[\"transformer/cls\"] / best_scores_df[\"best\"]) * 100\n",
    "best_scores_df[\"xgboost\"] = (1 - best_scores_df[\"xgboost\"] / best_scores_df[\"best\"]) * 100\n",
    "best_scores_df"
   ]
  },
  {
   "cell_type": "markdown",
   "id": "364a02fb",
   "metadata": {},
   "source": [
    "# Degradation per feature selector"
   ]
  },
  {
   "cell_type": "code",
   "execution_count": 63,
   "id": "9d42fb25",
   "metadata": {},
   "outputs": [
    {
     "data": {
      "application/vnd.plotly.v1+json": {
       "config": {
        "plotlyServerURL": "https://plot.ly"
       },
       "data": [
        {
         "name": "Decision tree",
         "type": "box",
         "x": [
          "50%",
          "60%",
          "70%",
          "80%",
          "90%",
          "100%",
          "50%",
          "60%",
          "70%",
          "80%",
          "90%",
          "100%",
          "50%",
          "60%",
          "70%",
          "80%",
          "90%",
          "100%",
          "50%",
          "60%",
          "70%",
          "80%",
          "90%",
          "100%",
          "50%",
          "60%",
          "70%",
          "80%",
          "90%",
          "100%",
          "50%",
          "60%",
          "70%",
          "80%",
          "90%",
          "100%",
          "50%",
          "60%",
          "70%",
          "80%",
          "90%",
          "100%",
          "50%",
          "60%",
          "70%",
          "80%",
          "90%",
          "100%",
          "50%",
          "60%",
          "70%",
          "80%",
          "90%",
          "100%",
          "50%",
          "60%",
          "70%",
          "80%",
          "90%",
          "100%",
          "50%",
          "60%",
          "70%",
          "80%",
          "90%",
          "100%",
          "50%",
          "60%",
          "70%",
          "80%",
          "90%",
          "100%",
          "50%",
          "60%",
          "70%",
          "80%",
          "90%",
          "100%",
          "50%",
          "60%",
          "70%",
          "80%",
          "90%",
          "100%",
          "50%",
          "60%",
          "70%",
          "80%",
          "90%",
          "100%",
          "50%",
          "60%",
          "70%",
          "80%",
          "90%",
          "100%",
          "50%",
          "60%",
          "70%",
          "80%",
          "90%",
          "100%",
          "50%",
          "60%",
          "70%",
          "80%",
          "90%",
          "100%",
          "50%",
          "60%",
          "70%",
          "80%",
          "90%",
          "100%",
          "50%",
          "60%",
          "70%",
          "80%",
          "90%",
          "100%",
          "50%",
          "60%",
          "70%",
          "80%",
          "90%",
          "100%",
          "50%",
          "60%",
          "70%",
          "80%",
          "90%",
          "100%",
          "50%",
          "60%",
          "70%",
          "80%",
          "90%",
          "100%",
          "50%",
          "60%",
          "70%",
          "80%",
          "90%",
          "100%",
          "50%",
          "60%",
          "70%",
          "80%",
          "90%",
          "100%",
          "50%",
          "60%",
          "70%",
          "80%",
          "90%",
          "100%",
          "50%",
          "60%",
          "70%",
          "80%",
          "90%",
          "100%",
          "50%",
          "60%",
          "70%",
          "80%",
          "90%",
          "100%",
          "50%",
          "60%",
          "70%",
          "80%",
          "90%",
          "100%",
          "50%",
          "60%",
          "70%",
          "80%",
          "90%",
          "100%",
          "50%",
          "60%",
          "70%",
          "80%",
          "90%",
          "100%",
          "50%",
          "60%",
          "70%",
          "80%",
          "90%",
          "100%",
          "50%",
          "60%",
          "70%",
          "80%",
          "90%",
          "100%",
          "50%",
          "60%",
          "70%",
          "80%",
          "90%",
          "100%",
          "50%",
          "60%",
          "70%",
          "80%",
          "90%",
          "100%",
          "50%",
          "60%",
          "70%",
          "80%",
          "90%",
          "100%",
          "50%",
          "60%",
          "70%",
          "80%",
          "90%",
          "100%",
          "50%",
          "60%",
          "70%",
          "80%",
          "90%",
          "100%",
          "50%",
          "60%",
          "70%",
          "80%",
          "90%",
          "100%",
          "50%",
          "60%",
          "70%",
          "80%",
          "90%",
          "100%",
          "50%",
          "60%",
          "70%",
          "80%",
          "90%",
          "100%",
          "50%",
          "60%",
          "70%",
          "80%",
          "90%",
          "100%"
         ],
         "y": [
          0.041040317125986214,
          0.03676887870917522,
          0.03659731859799509,
          0.027668866069589293,
          0.02575206566910504,
          0,
          0.041040317125986214,
          0.03676887870917522,
          0.03659731859799509,
          0.027668866069589293,
          0.02575206566910504,
          0,
          0.08010814692695423,
          0.08091191147715582,
          0.05334732670379039,
          0.03965789445579859,
          0.03982001322317086,
          0,
          0.03992888719468746,
          0.04822667388057256,
          0.05552070698071376,
          0.04106919120004271,
          0.04186769087440889,
          0,
          0.058409690524957814,
          0.05606671290835685,
          0.05626001992581808,
          0.048129296083043616,
          0.04303134552505017,
          0,
          0.058409690524957814,
          0.05606671290835685,
          0.05626001992581808,
          0.048129296083043616,
          0.04303134552505017,
          0,
          0.00717598117578111,
          0.001412173714904319,
          0.0016106706135570192,
          -0.007493062924649241,
          -0.016392411837711673,
          0,
          0.00717598117578111,
          0.005234163688961679,
          0.004735342416837374,
          0.00012598225016535736,
          -0.016392411837711673,
          0,
          -0.010189138432879385,
          -0.010158315933088469,
          -0.008723497116297052,
          -0.011331810274102683,
          -0.00895281651474078,
          0,
          0.017869164999038234,
          0.01928881830311613,
          0.008046698895148419,
          0.014671863167106225,
          0.023628328378409114,
          0,
          0.026683595321033038,
          0.028630943248195484,
          0.02528614224408754,
          -0.009322888514520233,
          -0.015684060449981496,
          0,
          0.026683595321033038,
          0.028630943248195484,
          0.02528614224408754,
          -0.009322888514520233,
          -0.015684060449981496,
          0,
          -0.007043110195940061,
          -0.004229929581703207,
          -0.004904413408646446,
          0.0018308637686939022,
          0.0039059622201982336,
          0,
          -0.007043110195940061,
          -0.004229929581703207,
          -0.004904413408646446,
          0.0018308637686939022,
          0.006908657338398294,
          0,
          0.01137189464052113,
          0.010984499677014314,
          0.017084049597140827,
          0.000811412324401295,
          -0.0021198307037912922,
          0,
          0.07189307083396801,
          0.04531392442626525,
          0.03664091109326517,
          0.019178668516032227,
          0.019403944794070038,
          0,
          0.010982928267597614,
          0.006478952513015335,
          0.004483697600962566,
          0.0038854096376623737,
          0.004805675113314423,
          0,
          0.015682596447761932,
          0.01727261801349611,
          0.012548879829848092,
          0.0038854096376623737,
          0.0075548486961229955,
          0,
          0.009488552951812168,
          0.007332626620076832,
          0.0033966298875554024,
          0,
          -0.0007042589947123812,
          0,
          0.009488552951812168,
          0.007332626620076832,
          0.0041424971817368705,
          0,
          0,
          0,
          0.016409559909187688,
          0.01603662626209712,
          0.014341153695978437,
          0.004932895059245657,
          0.002362426780950777,
          0,
          0.037785549542951435,
          0.029632376359951973,
          0.017506473764138053,
          0.002400254796278256,
          0.0019448218349331636,
          0,
          0.006691052085685989,
          0.0042376808258404175,
          0.0019109144932925037,
          -0.0007482241271363765,
          -0.00033237228788074447,
          0,
          0.006691052085685989,
          0.004611792889408717,
          0.004695272440783271,
          -0.0003741120635682993,
          0,
          0,
          0.007299481104981798,
          0.003327692555369466,
          0.0031663754049261472,
          0.0011767672727525103,
          -0.0015992635828097068,
          0,
          0.007299481104981798,
          0.003327692555369466,
          0.0031663754049261472,
          0.0020457275282329546,
          -0.0015992635828097068,
          0,
          0.0741961819675575,
          0.04922621431944396,
          0.03291777108753735,
          0.018793721730571034,
          0.005472655338596311,
          0,
          0.08416133498744371,
          0.057168357754974974,
          0.02580003762243055,
          0.01850195981947167,
          0.010731634851588234,
          0,
          0.001593406238605266,
          0.00242348274154236,
          0.001805407007685389,
          -0.0001022410437583332,
          -5.193712571749387e-05,
          0,
          0.0028836980076674124,
          0.003225145783255945,
          0.001962434284109915,
          0.001225506677729249,
          0.0011327319627935095,
          0,
          -0.01553079347104136,
          -0.008431330689536498,
          -0.005275154750813638,
          -0.004729107440177627,
          -0.003173486565528405,
          0,
          -0.013436713610403217,
          -0.006051431178744959,
          -0.004202822288674746,
          -0.004729107440177627,
          -0.003173486565528405,
          0,
          0.0023837454931195934,
          -0.0007788211676298396,
          0.004484824508980467,
          0.0002659731147847122,
          0.0015748407197084813,
          0,
          0.006172700237444206,
          0.005661754353675774,
          0.008490439675982953,
          0.0035934978173254306,
          0.005908125516125851,
          0,
          -0.008289554978916591,
          -0.0033705121829070706,
          -0.00310210137569622,
          -0.0025823498339081485,
          -0.0018068152927954717,
          0,
          -0.0062105304173880604,
          -0.0033705121829070706,
          -0.00310210137569622,
          -0.0007698506783435644,
          -0.0005210115341864885,
          0,
          0.004960989829736029,
          0.029352163940941867,
          0.014849891474030708,
          0.004821383416846903,
          0.0037219578219388483,
          0,
          0.004960989829736029,
          0.029352163940941867,
          0.014849891474030708,
          0.004821383416846903,
          0.0037219578219388483,
          0,
          0.2014515808918539,
          0.13444690189299047,
          0.05715482173405406,
          -0.0011000312412055013,
          0,
          0,
          0.1497994768574723,
          0.1103241093546824,
          0.04724316963281672,
          0.005067695838017139,
          0.003291080055755069,
          0,
          0.011438551948248277,
          0.011825788415055105,
          0.006410615251137286,
          0.0019069369842987793,
          0,
          0,
          0.011438551948248277,
          0.011825788415055105,
          0.006410615251137286,
          0.0019069369842987793,
          0,
          0
         ]
        },
        {
         "name": "F-score",
         "type": "box",
         "x": [
          "50%",
          "60%",
          "70%",
          "80%",
          "90%",
          "100%",
          "50%",
          "60%",
          "70%",
          "80%",
          "90%",
          "100%",
          "50%",
          "60%",
          "70%",
          "80%",
          "90%",
          "100%",
          "50%",
          "60%",
          "70%",
          "80%",
          "90%",
          "100%",
          "50%",
          "60%",
          "70%",
          "80%",
          "90%",
          "100%",
          "50%",
          "60%",
          "70%",
          "80%",
          "90%",
          "100%",
          "50%",
          "60%",
          "70%",
          "80%",
          "90%",
          "100%",
          "50%",
          "60%",
          "70%",
          "80%",
          "90%",
          "100%",
          "50%",
          "60%",
          "70%",
          "80%",
          "90%",
          "100%",
          "50%",
          "60%",
          "70%",
          "80%",
          "90%",
          "100%",
          "50%",
          "60%",
          "70%",
          "80%",
          "90%",
          "100%",
          "50%",
          "60%",
          "70%",
          "80%",
          "90%",
          "100%",
          "50%",
          "60%",
          "70%",
          "80%",
          "90%",
          "100%",
          "50%",
          "60%",
          "70%",
          "80%",
          "90%",
          "100%",
          "50%",
          "60%",
          "70%",
          "80%",
          "90%",
          "100%",
          "50%",
          "60%",
          "70%",
          "80%",
          "90%",
          "100%",
          "50%",
          "60%",
          "70%",
          "80%",
          "90%",
          "100%",
          "50%",
          "60%",
          "70%",
          "80%",
          "90%",
          "100%",
          "50%",
          "60%",
          "70%",
          "80%",
          "90%",
          "100%",
          "50%",
          "60%",
          "70%",
          "80%",
          "90%",
          "100%",
          "50%",
          "60%",
          "70%",
          "80%",
          "90%",
          "100%",
          "50%",
          "60%",
          "70%",
          "80%",
          "90%",
          "100%",
          "50%",
          "60%",
          "70%",
          "80%",
          "90%",
          "100%",
          "50%",
          "60%",
          "70%",
          "80%",
          "90%",
          "100%",
          "50%",
          "60%",
          "70%",
          "80%",
          "90%",
          "100%",
          "50%",
          "60%",
          "70%",
          "80%",
          "90%",
          "100%",
          "50%",
          "60%",
          "70%",
          "80%",
          "90%",
          "100%",
          "50%",
          "60%",
          "70%",
          "80%",
          "90%",
          "100%",
          "50%",
          "60%",
          "70%",
          "80%",
          "90%",
          "100%",
          "50%",
          "60%",
          "70%",
          "80%",
          "90%",
          "100%",
          "50%",
          "60%",
          "70%",
          "80%",
          "90%",
          "100%",
          "50%",
          "60%",
          "70%",
          "80%",
          "90%",
          "100%",
          "50%",
          "60%",
          "70%",
          "80%",
          "90%",
          "100%",
          "50%",
          "60%",
          "70%",
          "80%",
          "90%",
          "100%",
          "50%",
          "60%",
          "70%",
          "80%",
          "90%",
          "100%",
          "50%",
          "60%",
          "70%",
          "80%",
          "90%",
          "100%",
          "50%",
          "60%",
          "70%",
          "80%",
          "90%",
          "100%",
          "50%",
          "60%",
          "70%",
          "80%",
          "90%",
          "100%",
          "50%",
          "60%",
          "70%",
          "80%",
          "90%",
          "100%",
          "50%",
          "60%",
          "70%",
          "80%",
          "90%",
          "100%",
          "50%",
          "60%",
          "70%",
          "80%",
          "90%",
          "100%",
          "50%",
          "60%",
          "70%",
          "80%",
          "90%",
          "100%"
         ],
         "y": [
          0.06830107188649603,
          0.06665527159878348,
          0.00562840021260036,
          0.004387455749640057,
          0.000699484583312926,
          0,
          0.07226104403947398,
          0.06665527159878348,
          0.00562840021260036,
          0.004387455749640057,
          0.0033117770819591774,
          0,
          0.17529147482677987,
          0.17794269815202468,
          0.14268700313246307,
          0.023166251217542233,
          0.011715548022772637,
          0,
          0.10796286039056069,
          0.12114340492992737,
          0.06006146987257399,
          0.016821043033341643,
          0.006520119824796611,
          0,
          0.08040948850111418,
          0.07911485262344597,
          0.023641623606639572,
          0.018673965922986202,
          0.013677577531471807,
          0,
          0.08040948850111418,
          0.07911485262344597,
          0.023641623606639572,
          0.018673965922986202,
          0.013677577531471807,
          0,
          0.13312927077186132,
          0.10922193090556709,
          0.11213874583474803,
          0.04457260565663579,
          -0.007907594095304837,
          0,
          0.13573018652971724,
          0.10922193090556709,
          0.1164432022851224,
          0.04457260565663579,
          -0.006372130381237184,
          0,
          0.17845920411927496,
          0.16945063033144336,
          0.17035311312531742,
          0.057743298848869085,
          -0.011802098717849319,
          0,
          0.19796732381390814,
          0.2045284242192409,
          0.19903665569585338,
          0.10618009120288507,
          0.02656439914987163,
          0,
          0.1486619044726082,
          0.134900220781913,
          0.11889632275992923,
          0.04771375351199558,
          -0.007559838389423756,
          0,
          0.1486619044726082,
          0.134900220781913,
          0.11889632275992923,
          0.049223287067966304,
          -0.007559838389423756,
          0,
          0.005641129701079994,
          0.005683557047237553,
          0.0021386967872936147,
          3.943950487883541e-05,
          -0.003543921224113511,
          0,
          0.005641129701079994,
          0.005683557047237553,
          0.0021386967872936147,
          3.943950487883541e-05,
          -0.003543921224113511,
          0,
          0.008576043505700626,
          0.006909340273547837,
          0.0004851400567672526,
          -0.0015278966630338786,
          0.0005098110890398022,
          0,
          0.06713455154146875,
          0.07054009720354748,
          0.04971409076388644,
          0.03252400561784263,
          0.02515330137080496,
          0,
          0.007621206068740283,
          -0.005921633014548622,
          -0.010397994210339823,
          -0.001104829646199068,
          0.005935893667297409,
          0,
          0.015278929300299726,
          -0.001266477854525272,
          -0.0021419830154800756,
          0.0014842619271401292,
          0.009125498854943737,
          0,
          0.026471862201987717,
          0.0288315265114788,
          0.02407627434834636,
          0.01868048267682132,
          0.007914983000241405,
          0,
          0.026471862201987717,
          0.0288315265114788,
          0.0302944035467394,
          0.01868048267682132,
          0.007914983000241405,
          0,
          0.04092907394479728,
          0.04500402755782151,
          0.04354545404214938,
          0.03210625378448606,
          0.01259960949840433,
          0,
          0.0425274888154793,
          0.04603910945076384,
          0.03751067136072617,
          0.03151708924998686,
          0.013738381458954785,
          0,
          0.021441613983797958,
          0.025762774361013263,
          0.026138272024817,
          0.01998690550521287,
          0.009935772848590374,
          0,
          0.02539143349791617,
          0.028836379220462338,
          0.027180060182000254,
          0.021568218911095505,
          0.010848024560622616,
          0,
          0.036237255809120184,
          0.0032784990425756,
          0.003070563743395427,
          0.006179460250581914,
          0.00424262065020109,
          0,
          0.04270708217383634,
          0.0032784990425756,
          0.003070563743395427,
          0.006179460250581914,
          0.00424262065020109,
          0,
          0.17825467364617997,
          0.14420076120380287,
          0.06305642066443085,
          0.049338475169976914,
          0.002493847565645746,
          0,
          0.13538143053477036,
          0.10495314108087839,
          0.038560090345535425,
          0.029211821477319933,
          0.0028260693701993578,
          0,
          0.01939232652674039,
          0.0014468923007554535,
          0.0014749529834838793,
          0.0004743234883126668,
          -0.00019411409483760522,
          0,
          0.021198227395644587,
          0.0017386640575094425,
          0.0017373865354378681,
          0.0005918171483251244,
          0.00040718450731136446,
          0,
          -0.004219591013221224,
          -0.0013281626747838615,
          -0.006100135805396256,
          -0.006068742034336827,
          -0.0016062997862604789,
          0,
          -0.004219591013221224,
          -0.0013281626747838615,
          -0.003415093067869135,
          -0.006068742034336827,
          -0.0016062997862604789,
          0,
          0.006596823292348897,
          0.0050097430308468915,
          0.001325514432348407,
          0.0026260165269564872,
          0.0007864566679278706,
          0,
          0.023890862436274807,
          0.016693707695732307,
          0.00593266296396755,
          0.005414797980611397,
          0.0033541010710983477,
          0,
          -0.0023329130298788137,
          0.0010363206313293016,
          -0.0043948581192012615,
          -0.004134053544658567,
          -0.0005235407386599,
          0,
          -0.0002671601244361721,
          0.0020669944135153218,
          -0.004392981982604072,
          -0.0036155620852178494,
          -0.00026207387656529413,
          0,
          0.2858563838044691,
          0.10116672580047581,
          0.03707082146258078,
          0.01640638907352443,
          0.011969532879265388,
          0,
          0.2858563838044691,
          0.10116672580047581,
          0.03707082146258078,
          0.01640638907352443,
          0.011969532879265388,
          0,
          0.41105157648665647,
          0.22186663343342972,
          0.07018929288193831,
          0.022607546982948423,
          0,
          0,
          0.4166302039219999,
          0.21501680663618405,
          0.07779624311689981,
          0.02146860515704785,
          0.0057305072722071415,
          0,
          0.27727747298224603,
          0.08126741631951029,
          0.022071659546071154,
          0.00614198340619343,
          0,
          0,
          0.27727747298224603,
          0.08126741631951029,
          0.022071659546071154,
          0.00614198340619343,
          0,
          0
         ]
        },
        {
         "name": "Linear model",
         "type": "box",
         "x": [
          "50%",
          "60%",
          "70%",
          "80%",
          "90%",
          "100%",
          "50%",
          "60%",
          "70%",
          "80%",
          "90%",
          "100%",
          "50%",
          "60%",
          "70%",
          "80%",
          "90%",
          "100%",
          "50%",
          "60%",
          "70%",
          "80%",
          "90%",
          "100%",
          "50%",
          "60%",
          "70%",
          "80%",
          "90%",
          "100%",
          "50%",
          "60%",
          "70%",
          "80%",
          "90%",
          "100%",
          "50%",
          "60%",
          "70%",
          "80%",
          "90%",
          "100%",
          "50%",
          "60%",
          "70%",
          "80%",
          "90%",
          "100%",
          "50%",
          "60%",
          "70%",
          "80%",
          "90%",
          "100%",
          "50%",
          "60%",
          "70%",
          "80%",
          "90%",
          "100%",
          "50%",
          "60%",
          "70%",
          "80%",
          "90%",
          "100%",
          "50%",
          "60%",
          "70%",
          "80%",
          "90%",
          "100%",
          "50%",
          "60%",
          "70%",
          "80%",
          "90%",
          "100%",
          "50%",
          "60%",
          "70%",
          "80%",
          "90%",
          "100%",
          "50%",
          "60%",
          "70%",
          "80%",
          "90%",
          "100%",
          "50%",
          "60%",
          "70%",
          "80%",
          "90%",
          "100%",
          "50%",
          "60%",
          "70%",
          "80%",
          "90%",
          "100%",
          "50%",
          "60%",
          "70%",
          "80%",
          "90%",
          "100%",
          "50%",
          "60%",
          "70%",
          "80%",
          "90%",
          "100%",
          "50%",
          "60%",
          "70%",
          "80%",
          "90%",
          "100%",
          "50%",
          "60%",
          "70%",
          "80%",
          "90%",
          "100%",
          "50%",
          "60%",
          "70%",
          "80%",
          "90%",
          "100%",
          "50%",
          "60%",
          "70%",
          "80%",
          "90%",
          "100%",
          "50%",
          "60%",
          "70%",
          "80%",
          "90%",
          "100%",
          "50%",
          "60%",
          "70%",
          "80%",
          "90%",
          "100%",
          "50%",
          "60%",
          "70%",
          "80%",
          "90%",
          "100%",
          "50%",
          "60%",
          "70%",
          "80%",
          "90%",
          "100%",
          "50%",
          "60%",
          "70%",
          "80%",
          "90%",
          "100%",
          "50%",
          "60%",
          "70%",
          "80%",
          "90%",
          "100%",
          "50%",
          "60%",
          "70%",
          "80%",
          "90%",
          "100%",
          "50%",
          "60%",
          "70%",
          "80%",
          "90%",
          "100%",
          "50%",
          "60%",
          "70%",
          "80%",
          "90%",
          "100%",
          "50%",
          "60%",
          "70%",
          "80%",
          "90%",
          "100%",
          "50%",
          "60%",
          "70%",
          "80%",
          "90%",
          "100%",
          "50%",
          "60%",
          "70%",
          "80%",
          "90%",
          "100%",
          "50%",
          "60%",
          "70%",
          "80%",
          "90%",
          "100%",
          "50%",
          "60%",
          "70%",
          "80%",
          "90%",
          "100%",
          "50%",
          "60%",
          "70%",
          "80%",
          "90%",
          "100%",
          "50%",
          "60%",
          "70%",
          "80%",
          "90%",
          "100%",
          "50%",
          "60%",
          "70%",
          "80%",
          "90%",
          "100%",
          "50%",
          "60%",
          "70%",
          "80%",
          "90%",
          "100%",
          "50%",
          "60%",
          "70%",
          "80%",
          "90%",
          "100%"
         ],
         "y": [
          0.13513176251231251,
          0.13217796871939902,
          0.052182103115138045,
          0.012679131359106588,
          -0.0003451709532331648,
          0,
          0.15479562398316893,
          0.14222071831939287,
          0.052182103115138045,
          0.016470959590308976,
          0.0015615216729841785,
          0,
          0.1801941437711213,
          0.161928178693312,
          0.12464289596510336,
          0.07521114155781738,
          0.057910279448868396,
          0,
          0.18546377634842004,
          0.1812154284509716,
          0.12674705366131156,
          0.06671856386148134,
          0.02993809165521466,
          0,
          0.1526205338686768,
          0.13955079778051793,
          0.06924319819753788,
          0.02772306021040738,
          0.01570070276956448,
          0,
          0.15553294545794327,
          0.14388987583080548,
          0.06924319819753788,
          0.02772306021040738,
          0.01570070276956448,
          0,
          0.11281930663012862,
          0.039936272657493777,
          -0.008932863663855706,
          -0.006075001483254239,
          -0.006044178983463322,
          0,
          0.11281930663012862,
          0.05958993142408964,
          -0.008932863663855706,
          -0.006075001483254239,
          -0.001182854316460924,
          0,
          0.14692783715575108,
          0.07440558997862667,
          0.010076441309154638,
          0.010140778559738384,
          -0.014186980203702237,
          0,
          0.18631171026834115,
          0.07185903810579697,
          0.021905658926202,
          0.018192306310832906,
          0.020976757614335928,
          0,
          0.08492238111853123,
          0.05488380482182409,
          0.01145773438332498,
          0.0029773141097504396,
          0.0038978959939014457,
          0,
          0.08492238111853123,
          0.05759200483175708,
          0.02290138311292389,
          0.007178265841339626,
          0.005859329574790184,
          0,
          -0.003737618705867085,
          -0.006939816254590836,
          0.0020623787843462305,
          -0.0031420138886815163,
          0.0009073647128944318,
          0,
          -0.003737618705867085,
          -0.006939816254590836,
          0.0020623787843462305,
          -0.0031420138886815163,
          0.0009073647128944318,
          0,
          0.011323491611806236,
          0.004584543658037843,
          0.0028092537371277038,
          0.0005877510629670457,
          0.0045970072245148375,
          0,
          0.055791368669769525,
          0.05311231638626268,
          0.03996914397646267,
          0.030613639750743715,
          0.013346899806915391,
          0,
          0.00795587803498421,
          0.014067433268800444,
          0.01239415586909931,
          -0.00013782549939911348,
          -0.00030013315987553746,
          0,
          0.020683551829064672,
          0.014067433268800444,
          0.017125889910068914,
          0.00800863420700293,
          0.014003960999340204,
          0,
          0.014576351885897676,
          0.012882260555509006,
          0.007709863786755977,
          0.0032747272730073718,
          0.0026937521285728128,
          0,
          0.014619341421096554,
          0.013090302052852998,
          0.00870383982962153,
          0.0032747272730073718,
          0.003191510674069753,
          0,
          0.016481247185090142,
          0.014410078500420864,
          0.011057819383794132,
          0.009989073968769357,
          0.005595545754489395,
          0,
          0.05156855112311909,
          0.024707238152973043,
          0.014856961739015406,
          0.0060837227336438815,
          0.005586746900824724,
          0,
          0.009760339827045938,
          0.008145760564271076,
          0.007481015988509809,
          0.0024533712598452384,
          4.1739775686999714e-05,
          0,
          0.010423698802572101,
          0.011217979823484714,
          0.008475361651681057,
          0.003034636284232173,
          0.001912300093527719,
          0,
          0.0035001831989331933,
          0.0069295712242363194,
          0.0015393785388244652,
          0.001091058091908903,
          0.00031288480847824207,
          0,
          0.006304968852566373,
          0.0069295712242363194,
          0.0015393785388244652,
          0.001091058091908903,
          0.00031288480847824207,
          0,
          0.036577520602936175,
          0.022038890035738112,
          0.008552372074743242,
          0.010946284943085027,
          0.007694670115984681,
          0,
          0.039175260458421235,
          0.021845809404711147,
          0.014377037809650384,
          0.012188601599449678,
          0.004278719252505447,
          0,
          0.0017003480169633933,
          0.0010934335679516627,
          0.00034483613658431445,
          0.00039605807399845094,
          -0.00042101347116108023,
          0,
          0.0037253116536651865,
          0.0019994245026453417,
          0.0016980049891246463,
          0.0013952407114995458,
          -0.00042101347116108023,
          0,
          0.0007954019216893649,
          0.005781574652261479,
          0.0026606947940122083,
          -0.0015569120506984113,
          -0.0005737456404832919,
          0,
          0.0007954019216893649,
          0.005781574652261479,
          0.0026606947940122083,
          -0.0015569120506984113,
          -5.811161609470261e-06,
          0,
          0.018501646066686583,
          0.020866854823657244,
          0.007402603079286307,
          0.00792687610464271,
          0.006328276976900971,
          0,
          0.043778808455134155,
          0.03661301855992938,
          0.014370294139929962,
          0.017681717934809882,
          0.011541645471607076,
          0,
          0.0036136765940224524,
          0.008780951474744336,
          0.0023259782594644562,
          0.0028469897936507227,
          0.0012820513055185057,
          0,
          0.004393000421955895,
          0.009043034615959678,
          0.006202381797928647,
          0.0028469897936507227,
          0.0012820513055185057,
          0,
          -0.016087296651431382,
          -0.017757951228785096,
          -0.011501191967975055,
          -0.004714524628127048,
          0.007581390081869754,
          0,
          -0.016087296651431382,
          -0.017757951228785096,
          -0.011501191967975055,
          -0.004714524628127048,
          0.007581390081869754,
          0,
          0.2613730902859247,
          0.16681091512044066,
          0.06698164587656785,
          0.007534920468944772,
          0,
          0,
          0.17877414474174314,
          0.11665534696712698,
          0.051220664737612,
          0.009006633135791753,
          0.003291080055755069,
          0,
          -0.016452117817045364,
          -0.011175322997543313,
          -0.008255542553854411,
          -0.0027171662084291004,
          0,
          0,
          -0.016452117817045364,
          -0.011175322997543313,
          -0.008255542553854411,
          -0.0027171662084291004,
          0,
          0
         ]
        }
       ],
       "layout": {
        "boxmode": "group",
        "font": {
         "size": 18
        },
        "legend": {
         "orientation": "h",
         "x": 1,
         "xanchor": "right",
         "y": 1.02,
         "yanchor": "bottom"
        },
        "margin": {
         "b": 70,
         "l": 70,
         "r": 0,
         "t": 0
        },
        "template": {
         "data": {
          "bar": [
           {
            "error_x": {
             "color": "#2a3f5f"
            },
            "error_y": {
             "color": "#2a3f5f"
            },
            "marker": {
             "line": {
              "color": "white",
              "width": 0.5
             },
             "pattern": {
              "fillmode": "overlay",
              "size": 10,
              "solidity": 0.2
             }
            },
            "type": "bar"
           }
          ],
          "barpolar": [
           {
            "marker": {
             "line": {
              "color": "white",
              "width": 0.5
             },
             "pattern": {
              "fillmode": "overlay",
              "size": 10,
              "solidity": 0.2
             }
            },
            "type": "barpolar"
           }
          ],
          "carpet": [
           {
            "aaxis": {
             "endlinecolor": "#2a3f5f",
             "gridcolor": "#C8D4E3",
             "linecolor": "#C8D4E3",
             "minorgridcolor": "#C8D4E3",
             "startlinecolor": "#2a3f5f"
            },
            "baxis": {
             "endlinecolor": "#2a3f5f",
             "gridcolor": "#C8D4E3",
             "linecolor": "#C8D4E3",
             "minorgridcolor": "#C8D4E3",
             "startlinecolor": "#2a3f5f"
            },
            "type": "carpet"
           }
          ],
          "choropleth": [
           {
            "colorbar": {
             "outlinewidth": 0,
             "ticks": ""
            },
            "type": "choropleth"
           }
          ],
          "contour": [
           {
            "colorbar": {
             "outlinewidth": 0,
             "ticks": ""
            },
            "colorscale": [
             [
              0,
              "#0d0887"
             ],
             [
              0.1111111111111111,
              "#46039f"
             ],
             [
              0.2222222222222222,
              "#7201a8"
             ],
             [
              0.3333333333333333,
              "#9c179e"
             ],
             [
              0.4444444444444444,
              "#bd3786"
             ],
             [
              0.5555555555555556,
              "#d8576b"
             ],
             [
              0.6666666666666666,
              "#ed7953"
             ],
             [
              0.7777777777777778,
              "#fb9f3a"
             ],
             [
              0.8888888888888888,
              "#fdca26"
             ],
             [
              1,
              "#f0f921"
             ]
            ],
            "type": "contour"
           }
          ],
          "contourcarpet": [
           {
            "colorbar": {
             "outlinewidth": 0,
             "ticks": ""
            },
            "type": "contourcarpet"
           }
          ],
          "heatmap": [
           {
            "colorbar": {
             "outlinewidth": 0,
             "ticks": ""
            },
            "colorscale": [
             [
              0,
              "#0d0887"
             ],
             [
              0.1111111111111111,
              "#46039f"
             ],
             [
              0.2222222222222222,
              "#7201a8"
             ],
             [
              0.3333333333333333,
              "#9c179e"
             ],
             [
              0.4444444444444444,
              "#bd3786"
             ],
             [
              0.5555555555555556,
              "#d8576b"
             ],
             [
              0.6666666666666666,
              "#ed7953"
             ],
             [
              0.7777777777777778,
              "#fb9f3a"
             ],
             [
              0.8888888888888888,
              "#fdca26"
             ],
             [
              1,
              "#f0f921"
             ]
            ],
            "type": "heatmap"
           }
          ],
          "heatmapgl": [
           {
            "colorbar": {
             "outlinewidth": 0,
             "ticks": ""
            },
            "colorscale": [
             [
              0,
              "#0d0887"
             ],
             [
              0.1111111111111111,
              "#46039f"
             ],
             [
              0.2222222222222222,
              "#7201a8"
             ],
             [
              0.3333333333333333,
              "#9c179e"
             ],
             [
              0.4444444444444444,
              "#bd3786"
             ],
             [
              0.5555555555555556,
              "#d8576b"
             ],
             [
              0.6666666666666666,
              "#ed7953"
             ],
             [
              0.7777777777777778,
              "#fb9f3a"
             ],
             [
              0.8888888888888888,
              "#fdca26"
             ],
             [
              1,
              "#f0f921"
             ]
            ],
            "type": "heatmapgl"
           }
          ],
          "histogram": [
           {
            "marker": {
             "pattern": {
              "fillmode": "overlay",
              "size": 10,
              "solidity": 0.2
             }
            },
            "type": "histogram"
           }
          ],
          "histogram2d": [
           {
            "colorbar": {
             "outlinewidth": 0,
             "ticks": ""
            },
            "colorscale": [
             [
              0,
              "#0d0887"
             ],
             [
              0.1111111111111111,
              "#46039f"
             ],
             [
              0.2222222222222222,
              "#7201a8"
             ],
             [
              0.3333333333333333,
              "#9c179e"
             ],
             [
              0.4444444444444444,
              "#bd3786"
             ],
             [
              0.5555555555555556,
              "#d8576b"
             ],
             [
              0.6666666666666666,
              "#ed7953"
             ],
             [
              0.7777777777777778,
              "#fb9f3a"
             ],
             [
              0.8888888888888888,
              "#fdca26"
             ],
             [
              1,
              "#f0f921"
             ]
            ],
            "type": "histogram2d"
           }
          ],
          "histogram2dcontour": [
           {
            "colorbar": {
             "outlinewidth": 0,
             "ticks": ""
            },
            "colorscale": [
             [
              0,
              "#0d0887"
             ],
             [
              0.1111111111111111,
              "#46039f"
             ],
             [
              0.2222222222222222,
              "#7201a8"
             ],
             [
              0.3333333333333333,
              "#9c179e"
             ],
             [
              0.4444444444444444,
              "#bd3786"
             ],
             [
              0.5555555555555556,
              "#d8576b"
             ],
             [
              0.6666666666666666,
              "#ed7953"
             ],
             [
              0.7777777777777778,
              "#fb9f3a"
             ],
             [
              0.8888888888888888,
              "#fdca26"
             ],
             [
              1,
              "#f0f921"
             ]
            ],
            "type": "histogram2dcontour"
           }
          ],
          "mesh3d": [
           {
            "colorbar": {
             "outlinewidth": 0,
             "ticks": ""
            },
            "type": "mesh3d"
           }
          ],
          "parcoords": [
           {
            "line": {
             "colorbar": {
              "outlinewidth": 0,
              "ticks": ""
             }
            },
            "type": "parcoords"
           }
          ],
          "pie": [
           {
            "automargin": true,
            "type": "pie"
           }
          ],
          "scatter": [
           {
            "fillpattern": {
             "fillmode": "overlay",
             "size": 10,
             "solidity": 0.2
            },
            "type": "scatter"
           }
          ],
          "scatter3d": [
           {
            "line": {
             "colorbar": {
              "outlinewidth": 0,
              "ticks": ""
             }
            },
            "marker": {
             "colorbar": {
              "outlinewidth": 0,
              "ticks": ""
             }
            },
            "type": "scatter3d"
           }
          ],
          "scattercarpet": [
           {
            "marker": {
             "colorbar": {
              "outlinewidth": 0,
              "ticks": ""
             }
            },
            "type": "scattercarpet"
           }
          ],
          "scattergeo": [
           {
            "marker": {
             "colorbar": {
              "outlinewidth": 0,
              "ticks": ""
             }
            },
            "type": "scattergeo"
           }
          ],
          "scattergl": [
           {
            "marker": {
             "colorbar": {
              "outlinewidth": 0,
              "ticks": ""
             }
            },
            "type": "scattergl"
           }
          ],
          "scattermapbox": [
           {
            "marker": {
             "colorbar": {
              "outlinewidth": 0,
              "ticks": ""
             }
            },
            "type": "scattermapbox"
           }
          ],
          "scatterpolar": [
           {
            "marker": {
             "colorbar": {
              "outlinewidth": 0,
              "ticks": ""
             }
            },
            "type": "scatterpolar"
           }
          ],
          "scatterpolargl": [
           {
            "marker": {
             "colorbar": {
              "outlinewidth": 0,
              "ticks": ""
             }
            },
            "type": "scatterpolargl"
           }
          ],
          "scatterternary": [
           {
            "marker": {
             "colorbar": {
              "outlinewidth": 0,
              "ticks": ""
             }
            },
            "type": "scatterternary"
           }
          ],
          "surface": [
           {
            "colorbar": {
             "outlinewidth": 0,
             "ticks": ""
            },
            "colorscale": [
             [
              0,
              "#0d0887"
             ],
             [
              0.1111111111111111,
              "#46039f"
             ],
             [
              0.2222222222222222,
              "#7201a8"
             ],
             [
              0.3333333333333333,
              "#9c179e"
             ],
             [
              0.4444444444444444,
              "#bd3786"
             ],
             [
              0.5555555555555556,
              "#d8576b"
             ],
             [
              0.6666666666666666,
              "#ed7953"
             ],
             [
              0.7777777777777778,
              "#fb9f3a"
             ],
             [
              0.8888888888888888,
              "#fdca26"
             ],
             [
              1,
              "#f0f921"
             ]
            ],
            "type": "surface"
           }
          ],
          "table": [
           {
            "cells": {
             "fill": {
              "color": "#EBF0F8"
             },
             "line": {
              "color": "white"
             }
            },
            "header": {
             "fill": {
              "color": "#C8D4E3"
             },
             "line": {
              "color": "white"
             }
            },
            "type": "table"
           }
          ]
         },
         "layout": {
          "annotationdefaults": {
           "arrowcolor": "#2a3f5f",
           "arrowhead": 0,
           "arrowwidth": 1
          },
          "autotypenumbers": "strict",
          "coloraxis": {
           "colorbar": {
            "outlinewidth": 0,
            "ticks": ""
           }
          },
          "colorscale": {
           "diverging": [
            [
             0,
             "#8e0152"
            ],
            [
             0.1,
             "#c51b7d"
            ],
            [
             0.2,
             "#de77ae"
            ],
            [
             0.3,
             "#f1b6da"
            ],
            [
             0.4,
             "#fde0ef"
            ],
            [
             0.5,
             "#f7f7f7"
            ],
            [
             0.6,
             "#e6f5d0"
            ],
            [
             0.7,
             "#b8e186"
            ],
            [
             0.8,
             "#7fbc41"
            ],
            [
             0.9,
             "#4d9221"
            ],
            [
             1,
             "#276419"
            ]
           ],
           "sequential": [
            [
             0,
             "#0d0887"
            ],
            [
             0.1111111111111111,
             "#46039f"
            ],
            [
             0.2222222222222222,
             "#7201a8"
            ],
            [
             0.3333333333333333,
             "#9c179e"
            ],
            [
             0.4444444444444444,
             "#bd3786"
            ],
            [
             0.5555555555555556,
             "#d8576b"
            ],
            [
             0.6666666666666666,
             "#ed7953"
            ],
            [
             0.7777777777777778,
             "#fb9f3a"
            ],
            [
             0.8888888888888888,
             "#fdca26"
            ],
            [
             1,
             "#f0f921"
            ]
           ],
           "sequentialminus": [
            [
             0,
             "#0d0887"
            ],
            [
             0.1111111111111111,
             "#46039f"
            ],
            [
             0.2222222222222222,
             "#7201a8"
            ],
            [
             0.3333333333333333,
             "#9c179e"
            ],
            [
             0.4444444444444444,
             "#bd3786"
            ],
            [
             0.5555555555555556,
             "#d8576b"
            ],
            [
             0.6666666666666666,
             "#ed7953"
            ],
            [
             0.7777777777777778,
             "#fb9f3a"
            ],
            [
             0.8888888888888888,
             "#fdca26"
            ],
            [
             1,
             "#f0f921"
            ]
           ]
          },
          "colorway": [
           "#636efa",
           "#EF553B",
           "#00cc96",
           "#ab63fa",
           "#FFA15A",
           "#19d3f3",
           "#FF6692",
           "#B6E880",
           "#FF97FF",
           "#FECB52"
          ],
          "font": {
           "color": "#2a3f5f"
          },
          "geo": {
           "bgcolor": "white",
           "lakecolor": "white",
           "landcolor": "white",
           "showlakes": true,
           "showland": true,
           "subunitcolor": "#C8D4E3"
          },
          "hoverlabel": {
           "align": "left"
          },
          "hovermode": "closest",
          "mapbox": {
           "style": "light"
          },
          "paper_bgcolor": "white",
          "plot_bgcolor": "white",
          "polar": {
           "angularaxis": {
            "gridcolor": "#EBF0F8",
            "linecolor": "#EBF0F8",
            "ticks": ""
           },
           "bgcolor": "white",
           "radialaxis": {
            "gridcolor": "#EBF0F8",
            "linecolor": "#EBF0F8",
            "ticks": ""
           }
          },
          "scene": {
           "xaxis": {
            "backgroundcolor": "white",
            "gridcolor": "#DFE8F3",
            "gridwidth": 2,
            "linecolor": "#EBF0F8",
            "showbackground": true,
            "ticks": "",
            "zerolinecolor": "#EBF0F8"
           },
           "yaxis": {
            "backgroundcolor": "white",
            "gridcolor": "#DFE8F3",
            "gridwidth": 2,
            "linecolor": "#EBF0F8",
            "showbackground": true,
            "ticks": "",
            "zerolinecolor": "#EBF0F8"
           },
           "zaxis": {
            "backgroundcolor": "white",
            "gridcolor": "#DFE8F3",
            "gridwidth": 2,
            "linecolor": "#EBF0F8",
            "showbackground": true,
            "ticks": "",
            "zerolinecolor": "#EBF0F8"
           }
          },
          "shapedefaults": {
           "line": {
            "color": "#2a3f5f"
           }
          },
          "ternary": {
           "aaxis": {
            "gridcolor": "#DFE8F3",
            "linecolor": "#A2B1C6",
            "ticks": ""
           },
           "baxis": {
            "gridcolor": "#DFE8F3",
            "linecolor": "#A2B1C6",
            "ticks": ""
           },
           "bgcolor": "white",
           "caxis": {
            "gridcolor": "#DFE8F3",
            "linecolor": "#A2B1C6",
            "ticks": ""
           }
          },
          "title": {
           "x": 0.05
          },
          "xaxis": {
           "automargin": true,
           "gridcolor": "#EBF0F8",
           "linecolor": "#EBF0F8",
           "ticks": "",
           "title": {
            "standoff": 15
           },
           "zerolinecolor": "#EBF0F8",
           "zerolinewidth": 2
          },
          "yaxis": {
           "automargin": true,
           "gridcolor": "#EBF0F8",
           "linecolor": "#EBF0F8",
           "ticks": "",
           "title": {
            "standoff": 15
           },
           "zerolinecolor": "#EBF0F8",
           "zerolinewidth": 2
          }
         }
        },
        "xaxis": {
         "autorange": "reversed",
         "title": {
          "text": "Features percent"
         }
        },
        "yaxis": {
         "title": {
          "text": "Degradation ratio"
         }
        }
       }
      },
      "text/html": [
       "<div>                            <div id=\"889e5332-2878-4596-8ba8-c2fd93c499c9\" class=\"plotly-graph-div\" style=\"height:525px; width:100%;\"></div>            <script type=\"text/javascript\">                require([\"plotly\"], function(Plotly) {                    window.PLOTLYENV=window.PLOTLYENV || {};                                    if (document.getElementById(\"889e5332-2878-4596-8ba8-c2fd93c499c9\")) {                    Plotly.newPlot(                        \"889e5332-2878-4596-8ba8-c2fd93c499c9\",                        [{\"name\":\"Decision tree\",\"x\":[\"50%\",\"60%\",\"70%\",\"80%\",\"90%\",\"100%\",\"50%\",\"60%\",\"70%\",\"80%\",\"90%\",\"100%\",\"50%\",\"60%\",\"70%\",\"80%\",\"90%\",\"100%\",\"50%\",\"60%\",\"70%\",\"80%\",\"90%\",\"100%\",\"50%\",\"60%\",\"70%\",\"80%\",\"90%\",\"100%\",\"50%\",\"60%\",\"70%\",\"80%\",\"90%\",\"100%\",\"50%\",\"60%\",\"70%\",\"80%\",\"90%\",\"100%\",\"50%\",\"60%\",\"70%\",\"80%\",\"90%\",\"100%\",\"50%\",\"60%\",\"70%\",\"80%\",\"90%\",\"100%\",\"50%\",\"60%\",\"70%\",\"80%\",\"90%\",\"100%\",\"50%\",\"60%\",\"70%\",\"80%\",\"90%\",\"100%\",\"50%\",\"60%\",\"70%\",\"80%\",\"90%\",\"100%\",\"50%\",\"60%\",\"70%\",\"80%\",\"90%\",\"100%\",\"50%\",\"60%\",\"70%\",\"80%\",\"90%\",\"100%\",\"50%\",\"60%\",\"70%\",\"80%\",\"90%\",\"100%\",\"50%\",\"60%\",\"70%\",\"80%\",\"90%\",\"100%\",\"50%\",\"60%\",\"70%\",\"80%\",\"90%\",\"100%\",\"50%\",\"60%\",\"70%\",\"80%\",\"90%\",\"100%\",\"50%\",\"60%\",\"70%\",\"80%\",\"90%\",\"100%\",\"50%\",\"60%\",\"70%\",\"80%\",\"90%\",\"100%\",\"50%\",\"60%\",\"70%\",\"80%\",\"90%\",\"100%\",\"50%\",\"60%\",\"70%\",\"80%\",\"90%\",\"100%\",\"50%\",\"60%\",\"70%\",\"80%\",\"90%\",\"100%\",\"50%\",\"60%\",\"70%\",\"80%\",\"90%\",\"100%\",\"50%\",\"60%\",\"70%\",\"80%\",\"90%\",\"100%\",\"50%\",\"60%\",\"70%\",\"80%\",\"90%\",\"100%\",\"50%\",\"60%\",\"70%\",\"80%\",\"90%\",\"100%\",\"50%\",\"60%\",\"70%\",\"80%\",\"90%\",\"100%\",\"50%\",\"60%\",\"70%\",\"80%\",\"90%\",\"100%\",\"50%\",\"60%\",\"70%\",\"80%\",\"90%\",\"100%\",\"50%\",\"60%\",\"70%\",\"80%\",\"90%\",\"100%\",\"50%\",\"60%\",\"70%\",\"80%\",\"90%\",\"100%\",\"50%\",\"60%\",\"70%\",\"80%\",\"90%\",\"100%\",\"50%\",\"60%\",\"70%\",\"80%\",\"90%\",\"100%\",\"50%\",\"60%\",\"70%\",\"80%\",\"90%\",\"100%\",\"50%\",\"60%\",\"70%\",\"80%\",\"90%\",\"100%\",\"50%\",\"60%\",\"70%\",\"80%\",\"90%\",\"100%\",\"50%\",\"60%\",\"70%\",\"80%\",\"90%\",\"100%\",\"50%\",\"60%\",\"70%\",\"80%\",\"90%\",\"100%\",\"50%\",\"60%\",\"70%\",\"80%\",\"90%\",\"100%\",\"50%\",\"60%\",\"70%\",\"80%\",\"90%\",\"100%\",\"50%\",\"60%\",\"70%\",\"80%\",\"90%\",\"100%\"],\"y\":[0.041040317125986214,0.03676887870917522,0.03659731859799509,0.027668866069589293,0.02575206566910504,0.0,0.041040317125986214,0.03676887870917522,0.03659731859799509,0.027668866069589293,0.02575206566910504,0.0,0.08010814692695423,0.08091191147715582,0.05334732670379039,0.03965789445579859,0.03982001322317086,0.0,0.03992888719468746,0.04822667388057256,0.05552070698071376,0.04106919120004271,0.04186769087440889,0.0,0.058409690524957814,0.05606671290835685,0.05626001992581808,0.048129296083043616,0.04303134552505017,0.0,0.058409690524957814,0.05606671290835685,0.05626001992581808,0.048129296083043616,0.04303134552505017,0.0,0.00717598117578111,0.001412173714904319,0.0016106706135570192,-0.007493062924649241,-0.016392411837711673,0.0,0.00717598117578111,0.005234163688961679,0.004735342416837374,0.00012598225016535736,-0.016392411837711673,0.0,-0.010189138432879385,-0.010158315933088469,-0.008723497116297052,-0.011331810274102683,-0.00895281651474078,0.0,0.017869164999038234,0.01928881830311613,0.008046698895148419,0.014671863167106225,0.023628328378409114,0.0,0.026683595321033038,0.028630943248195484,0.02528614224408754,-0.009322888514520233,-0.015684060449981496,0.0,0.026683595321033038,0.028630943248195484,0.02528614224408754,-0.009322888514520233,-0.015684060449981496,0.0,-0.007043110195940061,-0.004229929581703207,-0.004904413408646446,0.0018308637686939022,0.0039059622201982336,0.0,-0.007043110195940061,-0.004229929581703207,-0.004904413408646446,0.0018308637686939022,0.006908657338398294,0.0,0.01137189464052113,0.010984499677014314,0.017084049597140827,0.000811412324401295,-0.0021198307037912922,0.0,0.07189307083396801,0.04531392442626525,0.03664091109326517,0.019178668516032227,0.019403944794070038,0.0,0.010982928267597614,0.006478952513015335,0.004483697600962566,0.0038854096376623737,0.004805675113314423,0.0,0.015682596447761932,0.01727261801349611,0.012548879829848092,0.0038854096376623737,0.0075548486961229955,0.0,0.009488552951812168,0.007332626620076832,0.0033966298875554024,0.0,-0.0007042589947123812,0.0,0.009488552951812168,0.007332626620076832,0.0041424971817368705,0.0,0.0,0.0,0.016409559909187688,0.01603662626209712,0.014341153695978437,0.004932895059245657,0.002362426780950777,0.0,0.037785549542951435,0.029632376359951973,0.017506473764138053,0.002400254796278256,0.0019448218349331636,0.0,0.006691052085685989,0.0042376808258404175,0.0019109144932925037,-0.0007482241271363765,-0.00033237228788074447,0.0,0.006691052085685989,0.004611792889408717,0.004695272440783271,-0.0003741120635682993,0.0,0.0,0.007299481104981798,0.003327692555369466,0.0031663754049261472,0.0011767672727525103,-0.0015992635828097068,0.0,0.007299481104981798,0.003327692555369466,0.0031663754049261472,0.0020457275282329546,-0.0015992635828097068,0.0,0.0741961819675575,0.04922621431944396,0.03291777108753735,0.018793721730571034,0.005472655338596311,0.0,0.08416133498744371,0.057168357754974974,0.02580003762243055,0.01850195981947167,0.010731634851588234,0.0,0.001593406238605266,0.00242348274154236,0.001805407007685389,-0.0001022410437583332,-5.193712571749387e-05,0.0,0.0028836980076674124,0.003225145783255945,0.001962434284109915,0.001225506677729249,0.0011327319627935095,0.0,-0.01553079347104136,-0.008431330689536498,-0.005275154750813638,-0.004729107440177627,-0.003173486565528405,0.0,-0.013436713610403217,-0.006051431178744959,-0.004202822288674746,-0.004729107440177627,-0.003173486565528405,0.0,0.0023837454931195934,-0.0007788211676298396,0.004484824508980467,0.0002659731147847122,0.0015748407197084813,0.0,0.006172700237444206,0.005661754353675774,0.008490439675982953,0.0035934978173254306,0.005908125516125851,0.0,-0.008289554978916591,-0.0033705121829070706,-0.00310210137569622,-0.0025823498339081485,-0.0018068152927954717,0.0,-0.0062105304173880604,-0.0033705121829070706,-0.00310210137569622,-0.0007698506783435644,-0.0005210115341864885,0.0,0.004960989829736029,0.029352163940941867,0.014849891474030708,0.004821383416846903,0.0037219578219388483,0.0,0.004960989829736029,0.029352163940941867,0.014849891474030708,0.004821383416846903,0.0037219578219388483,0.0,0.2014515808918539,0.13444690189299047,0.05715482173405406,-0.0011000312412055013,0.0,0.0,0.1497994768574723,0.1103241093546824,0.04724316963281672,0.005067695838017139,0.003291080055755069,0.0,0.011438551948248277,0.011825788415055105,0.006410615251137286,0.0019069369842987793,0.0,0.0,0.011438551948248277,0.011825788415055105,0.006410615251137286,0.0019069369842987793,0.0,0.0],\"type\":\"box\"},{\"name\":\"F-score\",\"x\":[\"50%\",\"60%\",\"70%\",\"80%\",\"90%\",\"100%\",\"50%\",\"60%\",\"70%\",\"80%\",\"90%\",\"100%\",\"50%\",\"60%\",\"70%\",\"80%\",\"90%\",\"100%\",\"50%\",\"60%\",\"70%\",\"80%\",\"90%\",\"100%\",\"50%\",\"60%\",\"70%\",\"80%\",\"90%\",\"100%\",\"50%\",\"60%\",\"70%\",\"80%\",\"90%\",\"100%\",\"50%\",\"60%\",\"70%\",\"80%\",\"90%\",\"100%\",\"50%\",\"60%\",\"70%\",\"80%\",\"90%\",\"100%\",\"50%\",\"60%\",\"70%\",\"80%\",\"90%\",\"100%\",\"50%\",\"60%\",\"70%\",\"80%\",\"90%\",\"100%\",\"50%\",\"60%\",\"70%\",\"80%\",\"90%\",\"100%\",\"50%\",\"60%\",\"70%\",\"80%\",\"90%\",\"100%\",\"50%\",\"60%\",\"70%\",\"80%\",\"90%\",\"100%\",\"50%\",\"60%\",\"70%\",\"80%\",\"90%\",\"100%\",\"50%\",\"60%\",\"70%\",\"80%\",\"90%\",\"100%\",\"50%\",\"60%\",\"70%\",\"80%\",\"90%\",\"100%\",\"50%\",\"60%\",\"70%\",\"80%\",\"90%\",\"100%\",\"50%\",\"60%\",\"70%\",\"80%\",\"90%\",\"100%\",\"50%\",\"60%\",\"70%\",\"80%\",\"90%\",\"100%\",\"50%\",\"60%\",\"70%\",\"80%\",\"90%\",\"100%\",\"50%\",\"60%\",\"70%\",\"80%\",\"90%\",\"100%\",\"50%\",\"60%\",\"70%\",\"80%\",\"90%\",\"100%\",\"50%\",\"60%\",\"70%\",\"80%\",\"90%\",\"100%\",\"50%\",\"60%\",\"70%\",\"80%\",\"90%\",\"100%\",\"50%\",\"60%\",\"70%\",\"80%\",\"90%\",\"100%\",\"50%\",\"60%\",\"70%\",\"80%\",\"90%\",\"100%\",\"50%\",\"60%\",\"70%\",\"80%\",\"90%\",\"100%\",\"50%\",\"60%\",\"70%\",\"80%\",\"90%\",\"100%\",\"50%\",\"60%\",\"70%\",\"80%\",\"90%\",\"100%\",\"50%\",\"60%\",\"70%\",\"80%\",\"90%\",\"100%\",\"50%\",\"60%\",\"70%\",\"80%\",\"90%\",\"100%\",\"50%\",\"60%\",\"70%\",\"80%\",\"90%\",\"100%\",\"50%\",\"60%\",\"70%\",\"80%\",\"90%\",\"100%\",\"50%\",\"60%\",\"70%\",\"80%\",\"90%\",\"100%\",\"50%\",\"60%\",\"70%\",\"80%\",\"90%\",\"100%\",\"50%\",\"60%\",\"70%\",\"80%\",\"90%\",\"100%\",\"50%\",\"60%\",\"70%\",\"80%\",\"90%\",\"100%\",\"50%\",\"60%\",\"70%\",\"80%\",\"90%\",\"100%\",\"50%\",\"60%\",\"70%\",\"80%\",\"90%\",\"100%\",\"50%\",\"60%\",\"70%\",\"80%\",\"90%\",\"100%\",\"50%\",\"60%\",\"70%\",\"80%\",\"90%\",\"100%\",\"50%\",\"60%\",\"70%\",\"80%\",\"90%\",\"100%\"],\"y\":[0.06830107188649603,0.06665527159878348,0.00562840021260036,0.004387455749640057,0.000699484583312926,0.0,0.07226104403947398,0.06665527159878348,0.00562840021260036,0.004387455749640057,0.0033117770819591774,0.0,0.17529147482677987,0.17794269815202468,0.14268700313246307,0.023166251217542233,0.011715548022772637,0.0,0.10796286039056069,0.12114340492992737,0.06006146987257399,0.016821043033341643,0.006520119824796611,0.0,0.08040948850111418,0.07911485262344597,0.023641623606639572,0.018673965922986202,0.013677577531471807,0.0,0.08040948850111418,0.07911485262344597,0.023641623606639572,0.018673965922986202,0.013677577531471807,0.0,0.13312927077186132,0.10922193090556709,0.11213874583474803,0.04457260565663579,-0.007907594095304837,0.0,0.13573018652971724,0.10922193090556709,0.1164432022851224,0.04457260565663579,-0.006372130381237184,0.0,0.17845920411927496,0.16945063033144336,0.17035311312531742,0.057743298848869085,-0.011802098717849319,0.0,0.19796732381390814,0.2045284242192409,0.19903665569585338,0.10618009120288507,0.02656439914987163,0.0,0.1486619044726082,0.134900220781913,0.11889632275992923,0.04771375351199558,-0.007559838389423756,0.0,0.1486619044726082,0.134900220781913,0.11889632275992923,0.049223287067966304,-0.007559838389423756,0.0,0.005641129701079994,0.005683557047237553,0.0021386967872936147,3.943950487883541e-05,-0.003543921224113511,0.0,0.005641129701079994,0.005683557047237553,0.0021386967872936147,3.943950487883541e-05,-0.003543921224113511,0.0,0.008576043505700626,0.006909340273547837,0.0004851400567672526,-0.0015278966630338786,0.0005098110890398022,0.0,0.06713455154146875,0.07054009720354748,0.04971409076388644,0.03252400561784263,0.02515330137080496,0.0,0.007621206068740283,-0.005921633014548622,-0.010397994210339823,-0.001104829646199068,0.005935893667297409,0.0,0.015278929300299726,-0.001266477854525272,-0.0021419830154800756,0.0014842619271401292,0.009125498854943737,0.0,0.026471862201987717,0.0288315265114788,0.02407627434834636,0.01868048267682132,0.007914983000241405,0.0,0.026471862201987717,0.0288315265114788,0.0302944035467394,0.01868048267682132,0.007914983000241405,0.0,0.04092907394479728,0.04500402755782151,0.04354545404214938,0.03210625378448606,0.01259960949840433,0.0,0.0425274888154793,0.04603910945076384,0.03751067136072617,0.03151708924998686,0.013738381458954785,0.0,0.021441613983797958,0.025762774361013263,0.026138272024817,0.01998690550521287,0.009935772848590374,0.0,0.02539143349791617,0.028836379220462338,0.027180060182000254,0.021568218911095505,0.010848024560622616,0.0,0.036237255809120184,0.0032784990425756,0.003070563743395427,0.006179460250581914,0.00424262065020109,0.0,0.04270708217383634,0.0032784990425756,0.003070563743395427,0.006179460250581914,0.00424262065020109,0.0,0.17825467364617997,0.14420076120380287,0.06305642066443085,0.049338475169976914,0.002493847565645746,0.0,0.13538143053477036,0.10495314108087839,0.038560090345535425,0.029211821477319933,0.0028260693701993578,0.0,0.01939232652674039,0.0014468923007554535,0.0014749529834838793,0.0004743234883126668,-0.00019411409483760522,0.0,0.021198227395644587,0.0017386640575094425,0.0017373865354378681,0.0005918171483251244,0.00040718450731136446,0.0,-0.004219591013221224,-0.0013281626747838615,-0.006100135805396256,-0.006068742034336827,-0.0016062997862604789,0.0,-0.004219591013221224,-0.0013281626747838615,-0.003415093067869135,-0.006068742034336827,-0.0016062997862604789,0.0,0.006596823292348897,0.0050097430308468915,0.001325514432348407,0.0026260165269564872,0.0007864566679278706,0.0,0.023890862436274807,0.016693707695732307,0.00593266296396755,0.005414797980611397,0.0033541010710983477,0.0,-0.0023329130298788137,0.0010363206313293016,-0.0043948581192012615,-0.004134053544658567,-0.0005235407386599,0.0,-0.0002671601244361721,0.0020669944135153218,-0.004392981982604072,-0.0036155620852178494,-0.00026207387656529413,0.0,0.2858563838044691,0.10116672580047581,0.03707082146258078,0.01640638907352443,0.011969532879265388,0.0,0.2858563838044691,0.10116672580047581,0.03707082146258078,0.01640638907352443,0.011969532879265388,0.0,0.41105157648665647,0.22186663343342972,0.07018929288193831,0.022607546982948423,0.0,0.0,0.4166302039219999,0.21501680663618405,0.07779624311689981,0.02146860515704785,0.0057305072722071415,0.0,0.27727747298224603,0.08126741631951029,0.022071659546071154,0.00614198340619343,0.0,0.0,0.27727747298224603,0.08126741631951029,0.022071659546071154,0.00614198340619343,0.0,0.0],\"type\":\"box\"},{\"name\":\"Linear model\",\"x\":[\"50%\",\"60%\",\"70%\",\"80%\",\"90%\",\"100%\",\"50%\",\"60%\",\"70%\",\"80%\",\"90%\",\"100%\",\"50%\",\"60%\",\"70%\",\"80%\",\"90%\",\"100%\",\"50%\",\"60%\",\"70%\",\"80%\",\"90%\",\"100%\",\"50%\",\"60%\",\"70%\",\"80%\",\"90%\",\"100%\",\"50%\",\"60%\",\"70%\",\"80%\",\"90%\",\"100%\",\"50%\",\"60%\",\"70%\",\"80%\",\"90%\",\"100%\",\"50%\",\"60%\",\"70%\",\"80%\",\"90%\",\"100%\",\"50%\",\"60%\",\"70%\",\"80%\",\"90%\",\"100%\",\"50%\",\"60%\",\"70%\",\"80%\",\"90%\",\"100%\",\"50%\",\"60%\",\"70%\",\"80%\",\"90%\",\"100%\",\"50%\",\"60%\",\"70%\",\"80%\",\"90%\",\"100%\",\"50%\",\"60%\",\"70%\",\"80%\",\"90%\",\"100%\",\"50%\",\"60%\",\"70%\",\"80%\",\"90%\",\"100%\",\"50%\",\"60%\",\"70%\",\"80%\",\"90%\",\"100%\",\"50%\",\"60%\",\"70%\",\"80%\",\"90%\",\"100%\",\"50%\",\"60%\",\"70%\",\"80%\",\"90%\",\"100%\",\"50%\",\"60%\",\"70%\",\"80%\",\"90%\",\"100%\",\"50%\",\"60%\",\"70%\",\"80%\",\"90%\",\"100%\",\"50%\",\"60%\",\"70%\",\"80%\",\"90%\",\"100%\",\"50%\",\"60%\",\"70%\",\"80%\",\"90%\",\"100%\",\"50%\",\"60%\",\"70%\",\"80%\",\"90%\",\"100%\",\"50%\",\"60%\",\"70%\",\"80%\",\"90%\",\"100%\",\"50%\",\"60%\",\"70%\",\"80%\",\"90%\",\"100%\",\"50%\",\"60%\",\"70%\",\"80%\",\"90%\",\"100%\",\"50%\",\"60%\",\"70%\",\"80%\",\"90%\",\"100%\",\"50%\",\"60%\",\"70%\",\"80%\",\"90%\",\"100%\",\"50%\",\"60%\",\"70%\",\"80%\",\"90%\",\"100%\",\"50%\",\"60%\",\"70%\",\"80%\",\"90%\",\"100%\",\"50%\",\"60%\",\"70%\",\"80%\",\"90%\",\"100%\",\"50%\",\"60%\",\"70%\",\"80%\",\"90%\",\"100%\",\"50%\",\"60%\",\"70%\",\"80%\",\"90%\",\"100%\",\"50%\",\"60%\",\"70%\",\"80%\",\"90%\",\"100%\",\"50%\",\"60%\",\"70%\",\"80%\",\"90%\",\"100%\",\"50%\",\"60%\",\"70%\",\"80%\",\"90%\",\"100%\",\"50%\",\"60%\",\"70%\",\"80%\",\"90%\",\"100%\",\"50%\",\"60%\",\"70%\",\"80%\",\"90%\",\"100%\",\"50%\",\"60%\",\"70%\",\"80%\",\"90%\",\"100%\",\"50%\",\"60%\",\"70%\",\"80%\",\"90%\",\"100%\",\"50%\",\"60%\",\"70%\",\"80%\",\"90%\",\"100%\",\"50%\",\"60%\",\"70%\",\"80%\",\"90%\",\"100%\",\"50%\",\"60%\",\"70%\",\"80%\",\"90%\",\"100%\"],\"y\":[0.13513176251231251,0.13217796871939902,0.052182103115138045,0.012679131359106588,-0.0003451709532331648,0.0,0.15479562398316893,0.14222071831939287,0.052182103115138045,0.016470959590308976,0.0015615216729841785,0.0,0.1801941437711213,0.161928178693312,0.12464289596510336,0.07521114155781738,0.057910279448868396,0.0,0.18546377634842004,0.1812154284509716,0.12674705366131156,0.06671856386148134,0.02993809165521466,0.0,0.1526205338686768,0.13955079778051793,0.06924319819753788,0.02772306021040738,0.01570070276956448,0.0,0.15553294545794327,0.14388987583080548,0.06924319819753788,0.02772306021040738,0.01570070276956448,0.0,0.11281930663012862,0.039936272657493777,-0.008932863663855706,-0.006075001483254239,-0.006044178983463322,0.0,0.11281930663012862,0.05958993142408964,-0.008932863663855706,-0.006075001483254239,-0.001182854316460924,0.0,0.14692783715575108,0.07440558997862667,0.010076441309154638,0.010140778559738384,-0.014186980203702237,0.0,0.18631171026834115,0.07185903810579697,0.021905658926202,0.018192306310832906,0.020976757614335928,0.0,0.08492238111853123,0.05488380482182409,0.01145773438332498,0.0029773141097504396,0.0038978959939014457,0.0,0.08492238111853123,0.05759200483175708,0.02290138311292389,0.007178265841339626,0.005859329574790184,0.0,-0.003737618705867085,-0.006939816254590836,0.0020623787843462305,-0.0031420138886815163,0.0009073647128944318,0.0,-0.003737618705867085,-0.006939816254590836,0.0020623787843462305,-0.0031420138886815163,0.0009073647128944318,0.0,0.011323491611806236,0.004584543658037843,0.0028092537371277038,0.0005877510629670457,0.0045970072245148375,0.0,0.055791368669769525,0.05311231638626268,0.03996914397646267,0.030613639750743715,0.013346899806915391,0.0,0.00795587803498421,0.014067433268800444,0.01239415586909931,-0.00013782549939911348,-0.00030013315987553746,0.0,0.020683551829064672,0.014067433268800444,0.017125889910068914,0.00800863420700293,0.014003960999340204,0.0,0.014576351885897676,0.012882260555509006,0.007709863786755977,0.0032747272730073718,0.0026937521285728128,0.0,0.014619341421096554,0.013090302052852998,0.00870383982962153,0.0032747272730073718,0.003191510674069753,0.0,0.016481247185090142,0.014410078500420864,0.011057819383794132,0.009989073968769357,0.005595545754489395,0.0,0.05156855112311909,0.024707238152973043,0.014856961739015406,0.0060837227336438815,0.005586746900824724,0.0,0.009760339827045938,0.008145760564271076,0.007481015988509809,0.0024533712598452384,4.1739775686999714e-05,0.0,0.010423698802572101,0.011217979823484714,0.008475361651681057,0.003034636284232173,0.001912300093527719,0.0,0.0035001831989331933,0.0069295712242363194,0.0015393785388244652,0.001091058091908903,0.00031288480847824207,0.0,0.006304968852566373,0.0069295712242363194,0.0015393785388244652,0.001091058091908903,0.00031288480847824207,0.0,0.036577520602936175,0.022038890035738112,0.008552372074743242,0.010946284943085027,0.007694670115984681,0.0,0.039175260458421235,0.021845809404711147,0.014377037809650384,0.012188601599449678,0.004278719252505447,0.0,0.0017003480169633933,0.0010934335679516627,0.00034483613658431445,0.00039605807399845094,-0.00042101347116108023,0.0,0.0037253116536651865,0.0019994245026453417,0.0016980049891246463,0.0013952407114995458,-0.00042101347116108023,0.0,0.0007954019216893649,0.005781574652261479,0.0026606947940122083,-0.0015569120506984113,-0.0005737456404832919,0.0,0.0007954019216893649,0.005781574652261479,0.0026606947940122083,-0.0015569120506984113,-5.811161609470261e-06,0.0,0.018501646066686583,0.020866854823657244,0.007402603079286307,0.00792687610464271,0.006328276976900971,0.0,0.043778808455134155,0.03661301855992938,0.014370294139929962,0.017681717934809882,0.011541645471607076,0.0,0.0036136765940224524,0.008780951474744336,0.0023259782594644562,0.0028469897936507227,0.0012820513055185057,0.0,0.004393000421955895,0.009043034615959678,0.006202381797928647,0.0028469897936507227,0.0012820513055185057,0.0,-0.016087296651431382,-0.017757951228785096,-0.011501191967975055,-0.004714524628127048,0.007581390081869754,0.0,-0.016087296651431382,-0.017757951228785096,-0.011501191967975055,-0.004714524628127048,0.007581390081869754,0.0,0.2613730902859247,0.16681091512044066,0.06698164587656785,0.007534920468944772,0.0,0.0,0.17877414474174314,0.11665534696712698,0.051220664737612,0.009006633135791753,0.003291080055755069,0.0,-0.016452117817045364,-0.011175322997543313,-0.008255542553854411,-0.0027171662084291004,0.0,0.0,-0.016452117817045364,-0.011175322997543313,-0.008255542553854411,-0.0027171662084291004,0.0,0.0],\"type\":\"box\"}],                        {\"font\":{\"size\":18},\"margin\":{\"b\":70,\"l\":70,\"r\":0,\"t\":0},\"template\":{\"data\":{\"barpolar\":[{\"marker\":{\"line\":{\"color\":\"white\",\"width\":0.5},\"pattern\":{\"fillmode\":\"overlay\",\"size\":10,\"solidity\":0.2}},\"type\":\"barpolar\"}],\"bar\":[{\"error_x\":{\"color\":\"#2a3f5f\"},\"error_y\":{\"color\":\"#2a3f5f\"},\"marker\":{\"line\":{\"color\":\"white\",\"width\":0.5},\"pattern\":{\"fillmode\":\"overlay\",\"size\":10,\"solidity\":0.2}},\"type\":\"bar\"}],\"carpet\":[{\"aaxis\":{\"endlinecolor\":\"#2a3f5f\",\"gridcolor\":\"#C8D4E3\",\"linecolor\":\"#C8D4E3\",\"minorgridcolor\":\"#C8D4E3\",\"startlinecolor\":\"#2a3f5f\"},\"baxis\":{\"endlinecolor\":\"#2a3f5f\",\"gridcolor\":\"#C8D4E3\",\"linecolor\":\"#C8D4E3\",\"minorgridcolor\":\"#C8D4E3\",\"startlinecolor\":\"#2a3f5f\"},\"type\":\"carpet\"}],\"choropleth\":[{\"colorbar\":{\"outlinewidth\":0,\"ticks\":\"\"},\"type\":\"choropleth\"}],\"contourcarpet\":[{\"colorbar\":{\"outlinewidth\":0,\"ticks\":\"\"},\"type\":\"contourcarpet\"}],\"contour\":[{\"colorbar\":{\"outlinewidth\":0,\"ticks\":\"\"},\"colorscale\":[[0.0,\"#0d0887\"],[0.1111111111111111,\"#46039f\"],[0.2222222222222222,\"#7201a8\"],[0.3333333333333333,\"#9c179e\"],[0.4444444444444444,\"#bd3786\"],[0.5555555555555556,\"#d8576b\"],[0.6666666666666666,\"#ed7953\"],[0.7777777777777778,\"#fb9f3a\"],[0.8888888888888888,\"#fdca26\"],[1.0,\"#f0f921\"]],\"type\":\"contour\"}],\"heatmapgl\":[{\"colorbar\":{\"outlinewidth\":0,\"ticks\":\"\"},\"colorscale\":[[0.0,\"#0d0887\"],[0.1111111111111111,\"#46039f\"],[0.2222222222222222,\"#7201a8\"],[0.3333333333333333,\"#9c179e\"],[0.4444444444444444,\"#bd3786\"],[0.5555555555555556,\"#d8576b\"],[0.6666666666666666,\"#ed7953\"],[0.7777777777777778,\"#fb9f3a\"],[0.8888888888888888,\"#fdca26\"],[1.0,\"#f0f921\"]],\"type\":\"heatmapgl\"}],\"heatmap\":[{\"colorbar\":{\"outlinewidth\":0,\"ticks\":\"\"},\"colorscale\":[[0.0,\"#0d0887\"],[0.1111111111111111,\"#46039f\"],[0.2222222222222222,\"#7201a8\"],[0.3333333333333333,\"#9c179e\"],[0.4444444444444444,\"#bd3786\"],[0.5555555555555556,\"#d8576b\"],[0.6666666666666666,\"#ed7953\"],[0.7777777777777778,\"#fb9f3a\"],[0.8888888888888888,\"#fdca26\"],[1.0,\"#f0f921\"]],\"type\":\"heatmap\"}],\"histogram2dcontour\":[{\"colorbar\":{\"outlinewidth\":0,\"ticks\":\"\"},\"colorscale\":[[0.0,\"#0d0887\"],[0.1111111111111111,\"#46039f\"],[0.2222222222222222,\"#7201a8\"],[0.3333333333333333,\"#9c179e\"],[0.4444444444444444,\"#bd3786\"],[0.5555555555555556,\"#d8576b\"],[0.6666666666666666,\"#ed7953\"],[0.7777777777777778,\"#fb9f3a\"],[0.8888888888888888,\"#fdca26\"],[1.0,\"#f0f921\"]],\"type\":\"histogram2dcontour\"}],\"histogram2d\":[{\"colorbar\":{\"outlinewidth\":0,\"ticks\":\"\"},\"colorscale\":[[0.0,\"#0d0887\"],[0.1111111111111111,\"#46039f\"],[0.2222222222222222,\"#7201a8\"],[0.3333333333333333,\"#9c179e\"],[0.4444444444444444,\"#bd3786\"],[0.5555555555555556,\"#d8576b\"],[0.6666666666666666,\"#ed7953\"],[0.7777777777777778,\"#fb9f3a\"],[0.8888888888888888,\"#fdca26\"],[1.0,\"#f0f921\"]],\"type\":\"histogram2d\"}],\"histogram\":[{\"marker\":{\"pattern\":{\"fillmode\":\"overlay\",\"size\":10,\"solidity\":0.2}},\"type\":\"histogram\"}],\"mesh3d\":[{\"colorbar\":{\"outlinewidth\":0,\"ticks\":\"\"},\"type\":\"mesh3d\"}],\"parcoords\":[{\"line\":{\"colorbar\":{\"outlinewidth\":0,\"ticks\":\"\"}},\"type\":\"parcoords\"}],\"pie\":[{\"automargin\":true,\"type\":\"pie\"}],\"scatter3d\":[{\"line\":{\"colorbar\":{\"outlinewidth\":0,\"ticks\":\"\"}},\"marker\":{\"colorbar\":{\"outlinewidth\":0,\"ticks\":\"\"}},\"type\":\"scatter3d\"}],\"scattercarpet\":[{\"marker\":{\"colorbar\":{\"outlinewidth\":0,\"ticks\":\"\"}},\"type\":\"scattercarpet\"}],\"scattergeo\":[{\"marker\":{\"colorbar\":{\"outlinewidth\":0,\"ticks\":\"\"}},\"type\":\"scattergeo\"}],\"scattergl\":[{\"marker\":{\"colorbar\":{\"outlinewidth\":0,\"ticks\":\"\"}},\"type\":\"scattergl\"}],\"scattermapbox\":[{\"marker\":{\"colorbar\":{\"outlinewidth\":0,\"ticks\":\"\"}},\"type\":\"scattermapbox\"}],\"scatterpolargl\":[{\"marker\":{\"colorbar\":{\"outlinewidth\":0,\"ticks\":\"\"}},\"type\":\"scatterpolargl\"}],\"scatterpolar\":[{\"marker\":{\"colorbar\":{\"outlinewidth\":0,\"ticks\":\"\"}},\"type\":\"scatterpolar\"}],\"scatter\":[{\"fillpattern\":{\"fillmode\":\"overlay\",\"size\":10,\"solidity\":0.2},\"type\":\"scatter\"}],\"scatterternary\":[{\"marker\":{\"colorbar\":{\"outlinewidth\":0,\"ticks\":\"\"}},\"type\":\"scatterternary\"}],\"surface\":[{\"colorbar\":{\"outlinewidth\":0,\"ticks\":\"\"},\"colorscale\":[[0.0,\"#0d0887\"],[0.1111111111111111,\"#46039f\"],[0.2222222222222222,\"#7201a8\"],[0.3333333333333333,\"#9c179e\"],[0.4444444444444444,\"#bd3786\"],[0.5555555555555556,\"#d8576b\"],[0.6666666666666666,\"#ed7953\"],[0.7777777777777778,\"#fb9f3a\"],[0.8888888888888888,\"#fdca26\"],[1.0,\"#f0f921\"]],\"type\":\"surface\"}],\"table\":[{\"cells\":{\"fill\":{\"color\":\"#EBF0F8\"},\"line\":{\"color\":\"white\"}},\"header\":{\"fill\":{\"color\":\"#C8D4E3\"},\"line\":{\"color\":\"white\"}},\"type\":\"table\"}]},\"layout\":{\"annotationdefaults\":{\"arrowcolor\":\"#2a3f5f\",\"arrowhead\":0,\"arrowwidth\":1},\"autotypenumbers\":\"strict\",\"coloraxis\":{\"colorbar\":{\"outlinewidth\":0,\"ticks\":\"\"}},\"colorscale\":{\"diverging\":[[0,\"#8e0152\"],[0.1,\"#c51b7d\"],[0.2,\"#de77ae\"],[0.3,\"#f1b6da\"],[0.4,\"#fde0ef\"],[0.5,\"#f7f7f7\"],[0.6,\"#e6f5d0\"],[0.7,\"#b8e186\"],[0.8,\"#7fbc41\"],[0.9,\"#4d9221\"],[1,\"#276419\"]],\"sequential\":[[0.0,\"#0d0887\"],[0.1111111111111111,\"#46039f\"],[0.2222222222222222,\"#7201a8\"],[0.3333333333333333,\"#9c179e\"],[0.4444444444444444,\"#bd3786\"],[0.5555555555555556,\"#d8576b\"],[0.6666666666666666,\"#ed7953\"],[0.7777777777777778,\"#fb9f3a\"],[0.8888888888888888,\"#fdca26\"],[1.0,\"#f0f921\"]],\"sequentialminus\":[[0.0,\"#0d0887\"],[0.1111111111111111,\"#46039f\"],[0.2222222222222222,\"#7201a8\"],[0.3333333333333333,\"#9c179e\"],[0.4444444444444444,\"#bd3786\"],[0.5555555555555556,\"#d8576b\"],[0.6666666666666666,\"#ed7953\"],[0.7777777777777778,\"#fb9f3a\"],[0.8888888888888888,\"#fdca26\"],[1.0,\"#f0f921\"]]},\"colorway\":[\"#636efa\",\"#EF553B\",\"#00cc96\",\"#ab63fa\",\"#FFA15A\",\"#19d3f3\",\"#FF6692\",\"#B6E880\",\"#FF97FF\",\"#FECB52\"],\"font\":{\"color\":\"#2a3f5f\"},\"geo\":{\"bgcolor\":\"white\",\"lakecolor\":\"white\",\"landcolor\":\"white\",\"showlakes\":true,\"showland\":true,\"subunitcolor\":\"#C8D4E3\"},\"hoverlabel\":{\"align\":\"left\"},\"hovermode\":\"closest\",\"mapbox\":{\"style\":\"light\"},\"paper_bgcolor\":\"white\",\"plot_bgcolor\":\"white\",\"polar\":{\"angularaxis\":{\"gridcolor\":\"#EBF0F8\",\"linecolor\":\"#EBF0F8\",\"ticks\":\"\"},\"bgcolor\":\"white\",\"radialaxis\":{\"gridcolor\":\"#EBF0F8\",\"linecolor\":\"#EBF0F8\",\"ticks\":\"\"}},\"scene\":{\"xaxis\":{\"backgroundcolor\":\"white\",\"gridcolor\":\"#DFE8F3\",\"gridwidth\":2,\"linecolor\":\"#EBF0F8\",\"showbackground\":true,\"ticks\":\"\",\"zerolinecolor\":\"#EBF0F8\"},\"yaxis\":{\"backgroundcolor\":\"white\",\"gridcolor\":\"#DFE8F3\",\"gridwidth\":2,\"linecolor\":\"#EBF0F8\",\"showbackground\":true,\"ticks\":\"\",\"zerolinecolor\":\"#EBF0F8\"},\"zaxis\":{\"backgroundcolor\":\"white\",\"gridcolor\":\"#DFE8F3\",\"gridwidth\":2,\"linecolor\":\"#EBF0F8\",\"showbackground\":true,\"ticks\":\"\",\"zerolinecolor\":\"#EBF0F8\"}},\"shapedefaults\":{\"line\":{\"color\":\"#2a3f5f\"}},\"ternary\":{\"aaxis\":{\"gridcolor\":\"#DFE8F3\",\"linecolor\":\"#A2B1C6\",\"ticks\":\"\"},\"baxis\":{\"gridcolor\":\"#DFE8F3\",\"linecolor\":\"#A2B1C6\",\"ticks\":\"\"},\"bgcolor\":\"white\",\"caxis\":{\"gridcolor\":\"#DFE8F3\",\"linecolor\":\"#A2B1C6\",\"ticks\":\"\"}},\"title\":{\"x\":0.05},\"xaxis\":{\"automargin\":true,\"gridcolor\":\"#EBF0F8\",\"linecolor\":\"#EBF0F8\",\"ticks\":\"\",\"title\":{\"standoff\":15},\"zerolinecolor\":\"#EBF0F8\",\"zerolinewidth\":2},\"yaxis\":{\"automargin\":true,\"gridcolor\":\"#EBF0F8\",\"linecolor\":\"#EBF0F8\",\"ticks\":\"\",\"title\":{\"standoff\":15},\"zerolinecolor\":\"#EBF0F8\",\"zerolinewidth\":2}}},\"xaxis\":{\"title\":{\"text\":\"Features percent\"},\"autorange\":\"reversed\"},\"legend\":{\"orientation\":\"h\",\"yanchor\":\"bottom\",\"y\":1.02,\"xanchor\":\"right\",\"x\":1},\"yaxis\":{\"title\":{\"text\":\"Degradation ratio\"}},\"boxmode\":\"group\"},                        {\"responsive\": true}                    ).then(function(){\n",
       "                            \n",
       "var gd = document.getElementById('889e5332-2878-4596-8ba8-c2fd93c499c9');\n",
       "var x = new MutationObserver(function (mutations, observer) {{\n",
       "        var display = window.getComputedStyle(gd).display;\n",
       "        if (!display || display === 'none') {{\n",
       "            console.log([gd, 'removed!']);\n",
       "            Plotly.purge(gd);\n",
       "            observer.disconnect();\n",
       "        }}\n",
       "}});\n",
       "\n",
       "// Listen for the removal of the full notebook cells\n",
       "var notebookContainer = gd.closest('#notebook-container');\n",
       "if (notebookContainer) {{\n",
       "    x.observe(notebookContainer, {childList: true});\n",
       "}}\n",
       "\n",
       "// Listen for the clearing of the current output cell\n",
       "var outputEl = gd.closest('.output');\n",
       "if (outputEl) {{\n",
       "    x.observe(outputEl, {childList: true});\n",
       "}}\n",
       "\n",
       "                        })                };                });            </script>        </div>"
      ]
     },
     "metadata": {},
     "output_type": "display_data"
    }
   ],
   "source": [
    "# Select best architecture on each feature selection percentage\n",
    "indices_best = scores_df.groupby([\n",
    "    \"dataset\", \"model\", \"fs_method\", \n",
    "    \"fs_percent\", \"fs_n_features\"\n",
    "    ])[\"balanced_accuracy_mean\"].idxmax()\n",
    "\n",
    "\n",
    "best_scores_df = scores_df.loc[indices_best].query(\"fs_percent==1\").groupby([\"dataset\", \"model\"], as_index=False)[\"balanced_accuracy_mean\"].max()\n",
    "best_scores_df.columns = [\"dataset\", \"model\", \"balanced_accuracy_mean_max\"]\n",
    "\n",
    "best_scores_df = scores_df.loc[indices_best].merge(\n",
    "    best_scores_df,\n",
    "    how=\"left\",\n",
    "    on=[\"dataset\", \"model\"]\n",
    "    )\n",
    "\n",
    "best_scores_df[\"degradation\"] = 1 - best_scores_df[\"balanced_accuracy_mean\"] / best_scores_df[\"balanced_accuracy_mean_max\"]\n",
    "best_scores_df = best_scores_df.replace(df_replacements)\n",
    "\n",
    "\n",
    "\n",
    "fig = go.Figure(layout=go.Layout(\n",
    "    margin={\"l\": 70, \"r\": 0, \"b\": 70, \"t\": 0},    \n",
    "    template=\"plotly_white\",\n",
    "    font={\"size\": 18}\n",
    ")\n",
    ")\n",
    "\n",
    "for fs_m in best_scores_df[\"fs_method\"].unique():\n",
    "    plot_df = best_scores_df.query(\"fs_method==@fs_m\")[[\"fs_percent\", \"degradation\"]]\n",
    "    fig.add_trace(go.Box(\n",
    "        x=(plot_df[\"fs_percent\"] * 100).apply(lambda x: str(int(x)) + \"%\"),\n",
    "        y=plot_df[\"degradation\"],\n",
    "        name=fs_m,\n",
    "        #boxpoints=False\n",
    "    ))\n",
    "\n",
    "    \n",
    "fig.update_layout(\n",
    "    yaxis_title=\"Degradation ratio\",\n",
    "    xaxis_title=\"Features percent\",\n",
    "    xaxis=dict(autorange=\"reversed\"),\n",
    "    boxmode=\"group\",\n",
    "    legend=dict(\n",
    "                orientation=\"h\",\n",
    "                yanchor=\"bottom\",\n",
    "                y=1.02,\n",
    "                xanchor=\"right\",\n",
    "                x=1\n",
    "            )\n",
    ")\n",
    "\n",
    "\n",
    "fig.show()\n",
    "fig.write_image(os.path.join(ASSETS_DIR, \"fs_degradation_ratio.png\"), scale=IMG_SCALE)"
   ]
  },
  {
   "cell_type": "markdown",
   "id": "eec39fb7",
   "metadata": {},
   "source": [
    "# Full models CV scores"
   ]
  },
  {
   "cell_type": "code",
   "execution_count": 78,
   "id": "0f9f0043",
   "metadata": {},
   "outputs": [
    {
     "data": {
      "application/vnd.plotly.v1+json": {
       "config": {
        "plotlyServerURL": "https://plot.ly"
       },
       "data": [
        {
         "error_y": {
          "array": [
           0.0033742840311137,
           0.0053606408981261,
           0.0052877742557015,
           0.0036552115257897,
           0.0056672548935444,
           0.0077531169530006
          ],
          "type": "data",
          "visible": true
         },
         "name": "MLP + HS",
         "type": "scatter",
         "x": [
          0.5,
          0.6,
          0.7,
          0.8,
          0.9,
          1
         ],
         "y": [
          0.932268871868723,
          0.9359988737776268,
          0.936150370583556,
          0.938018859310556,
          0.9406258964831248,
          0.939123989686676
         ]
        },
        {
         "error_y": {
          "array": [
           0.0158563234532736,
           0.0241647506405432,
           0.0163562826921842,
           0.0096540097780044,
           0.0149047544024827,
           0.0077531169530006
          ],
          "type": "data",
          "visible": true
         },
         "name": "MLP⁺ + Pruning",
         "type": "scatter",
         "x": [
          0.5,
          0.6,
          0.7,
          0.8,
          0.9,
          1
         ],
         "y": [
          0.8694445752577847,
          0.8928944708978284,
          0.9082101211713552,
          0.921474354754001,
          0.9339844877709134,
          0.939123989686676
         ]
        },
        {
         "error_y": {
          "array": [
           0.0156096929582731,
           0.015326855911188,
           0.0165045995279923,
           0.0142862496905767,
           0.0112835602703782,
           0.0039260374026758
          ],
          "type": "data",
          "visible": true
         },
         "name": "FT-Trasnformer",
         "type": "scatter",
         "x": [
          0.5,
          0.6,
          0.7,
          0.8,
          0.9,
          1
         ],
         "y": [
          0.8715035210129021,
          0.8971897860718194,
          0.9270395865750528,
          0.9339843692588212,
          0.941378537934624,
          0.9515906614413944
         ]
        },
        {
         "error_y": {
          "array": [
           0.004857546326332,
           0.0039493179342839,
           0.004453431303619,
           0.0037536780994993,
           0.0033107253802501,
           0.0029036682691582
          ],
          "type": "data",
          "visible": true
         },
         "name": "XGBoost",
         "type": "scatter",
         "x": [
          0.5,
          0.6,
          0.7,
          0.8,
          0.9,
          1
         ],
         "y": [
          0.9601280311036214,
          0.9593297794460198,
          0.9599241583705272,
          0.9617586678570592,
          0.9617102925737958,
          0.9616603466994716
         ]
        },
        {
         "error_y": {
          "array": [
           0.0033742840311137,
           0.0053606408981261,
           0.0052877742557015,
           0.0053110701312031,
           0.0056672548935444,
           0.0077531169530006
          ],
          "type": "data",
          "visible": true
         },
         "name": "MLP⁺",
         "type": "scatter",
         "x": [
          0.5,
          0.6,
          0.7,
          0.8,
          0.9,
          1
         ],
         "y": [
          0.932268871868723,
          0.9359988737776268,
          0.936150370583556,
          0.93720279788855,
          0.9406258964831248,
          0.939123989686676
         ]
        },
        {
         "error_y": {
          "array": [
           0.0030268025650567,
           0.0044701580012521,
           0.0027719680814697,
           0.0036762697699708,
           0.0034798945738447,
           0.0029036682691582
          ],
          "type": "data",
          "visible": true
         },
         "name": "XGBoost⁺",
         "type": "scatter",
         "x": [
          0.5,
          0.6,
          0.7,
          0.8,
          0.9,
          1
         ],
         "y": [
          0.9588872086736416,
          0.9585588518873894,
          0.9597731514654396,
          0.960481825522884,
          0.960571043287414,
          0.9616603466994716
         ]
        }
       ],
       "layout": {
        "template": {
         "data": {
          "bar": [
           {
            "error_x": {
             "color": "#2a3f5f"
            },
            "error_y": {
             "color": "#2a3f5f"
            },
            "marker": {
             "line": {
              "color": "#E5ECF6",
              "width": 0.5
             },
             "pattern": {
              "fillmode": "overlay",
              "size": 10,
              "solidity": 0.2
             }
            },
            "type": "bar"
           }
          ],
          "barpolar": [
           {
            "marker": {
             "line": {
              "color": "#E5ECF6",
              "width": 0.5
             },
             "pattern": {
              "fillmode": "overlay",
              "size": 10,
              "solidity": 0.2
             }
            },
            "type": "barpolar"
           }
          ],
          "carpet": [
           {
            "aaxis": {
             "endlinecolor": "#2a3f5f",
             "gridcolor": "white",
             "linecolor": "white",
             "minorgridcolor": "white",
             "startlinecolor": "#2a3f5f"
            },
            "baxis": {
             "endlinecolor": "#2a3f5f",
             "gridcolor": "white",
             "linecolor": "white",
             "minorgridcolor": "white",
             "startlinecolor": "#2a3f5f"
            },
            "type": "carpet"
           }
          ],
          "choropleth": [
           {
            "colorbar": {
             "outlinewidth": 0,
             "ticks": ""
            },
            "type": "choropleth"
           }
          ],
          "contour": [
           {
            "colorbar": {
             "outlinewidth": 0,
             "ticks": ""
            },
            "colorscale": [
             [
              0,
              "#0d0887"
             ],
             [
              0.1111111111111111,
              "#46039f"
             ],
             [
              0.2222222222222222,
              "#7201a8"
             ],
             [
              0.3333333333333333,
              "#9c179e"
             ],
             [
              0.4444444444444444,
              "#bd3786"
             ],
             [
              0.5555555555555556,
              "#d8576b"
             ],
             [
              0.6666666666666666,
              "#ed7953"
             ],
             [
              0.7777777777777778,
              "#fb9f3a"
             ],
             [
              0.8888888888888888,
              "#fdca26"
             ],
             [
              1,
              "#f0f921"
             ]
            ],
            "type": "contour"
           }
          ],
          "contourcarpet": [
           {
            "colorbar": {
             "outlinewidth": 0,
             "ticks": ""
            },
            "type": "contourcarpet"
           }
          ],
          "heatmap": [
           {
            "colorbar": {
             "outlinewidth": 0,
             "ticks": ""
            },
            "colorscale": [
             [
              0,
              "#0d0887"
             ],
             [
              0.1111111111111111,
              "#46039f"
             ],
             [
              0.2222222222222222,
              "#7201a8"
             ],
             [
              0.3333333333333333,
              "#9c179e"
             ],
             [
              0.4444444444444444,
              "#bd3786"
             ],
             [
              0.5555555555555556,
              "#d8576b"
             ],
             [
              0.6666666666666666,
              "#ed7953"
             ],
             [
              0.7777777777777778,
              "#fb9f3a"
             ],
             [
              0.8888888888888888,
              "#fdca26"
             ],
             [
              1,
              "#f0f921"
             ]
            ],
            "type": "heatmap"
           }
          ],
          "heatmapgl": [
           {
            "colorbar": {
             "outlinewidth": 0,
             "ticks": ""
            },
            "colorscale": [
             [
              0,
              "#0d0887"
             ],
             [
              0.1111111111111111,
              "#46039f"
             ],
             [
              0.2222222222222222,
              "#7201a8"
             ],
             [
              0.3333333333333333,
              "#9c179e"
             ],
             [
              0.4444444444444444,
              "#bd3786"
             ],
             [
              0.5555555555555556,
              "#d8576b"
             ],
             [
              0.6666666666666666,
              "#ed7953"
             ],
             [
              0.7777777777777778,
              "#fb9f3a"
             ],
             [
              0.8888888888888888,
              "#fdca26"
             ],
             [
              1,
              "#f0f921"
             ]
            ],
            "type": "heatmapgl"
           }
          ],
          "histogram": [
           {
            "marker": {
             "pattern": {
              "fillmode": "overlay",
              "size": 10,
              "solidity": 0.2
             }
            },
            "type": "histogram"
           }
          ],
          "histogram2d": [
           {
            "colorbar": {
             "outlinewidth": 0,
             "ticks": ""
            },
            "colorscale": [
             [
              0,
              "#0d0887"
             ],
             [
              0.1111111111111111,
              "#46039f"
             ],
             [
              0.2222222222222222,
              "#7201a8"
             ],
             [
              0.3333333333333333,
              "#9c179e"
             ],
             [
              0.4444444444444444,
              "#bd3786"
             ],
             [
              0.5555555555555556,
              "#d8576b"
             ],
             [
              0.6666666666666666,
              "#ed7953"
             ],
             [
              0.7777777777777778,
              "#fb9f3a"
             ],
             [
              0.8888888888888888,
              "#fdca26"
             ],
             [
              1,
              "#f0f921"
             ]
            ],
            "type": "histogram2d"
           }
          ],
          "histogram2dcontour": [
           {
            "colorbar": {
             "outlinewidth": 0,
             "ticks": ""
            },
            "colorscale": [
             [
              0,
              "#0d0887"
             ],
             [
              0.1111111111111111,
              "#46039f"
             ],
             [
              0.2222222222222222,
              "#7201a8"
             ],
             [
              0.3333333333333333,
              "#9c179e"
             ],
             [
              0.4444444444444444,
              "#bd3786"
             ],
             [
              0.5555555555555556,
              "#d8576b"
             ],
             [
              0.6666666666666666,
              "#ed7953"
             ],
             [
              0.7777777777777778,
              "#fb9f3a"
             ],
             [
              0.8888888888888888,
              "#fdca26"
             ],
             [
              1,
              "#f0f921"
             ]
            ],
            "type": "histogram2dcontour"
           }
          ],
          "mesh3d": [
           {
            "colorbar": {
             "outlinewidth": 0,
             "ticks": ""
            },
            "type": "mesh3d"
           }
          ],
          "parcoords": [
           {
            "line": {
             "colorbar": {
              "outlinewidth": 0,
              "ticks": ""
             }
            },
            "type": "parcoords"
           }
          ],
          "pie": [
           {
            "automargin": true,
            "type": "pie"
           }
          ],
          "scatter": [
           {
            "fillpattern": {
             "fillmode": "overlay",
             "size": 10,
             "solidity": 0.2
            },
            "type": "scatter"
           }
          ],
          "scatter3d": [
           {
            "line": {
             "colorbar": {
              "outlinewidth": 0,
              "ticks": ""
             }
            },
            "marker": {
             "colorbar": {
              "outlinewidth": 0,
              "ticks": ""
             }
            },
            "type": "scatter3d"
           }
          ],
          "scattercarpet": [
           {
            "marker": {
             "colorbar": {
              "outlinewidth": 0,
              "ticks": ""
             }
            },
            "type": "scattercarpet"
           }
          ],
          "scattergeo": [
           {
            "marker": {
             "colorbar": {
              "outlinewidth": 0,
              "ticks": ""
             }
            },
            "type": "scattergeo"
           }
          ],
          "scattergl": [
           {
            "marker": {
             "colorbar": {
              "outlinewidth": 0,
              "ticks": ""
             }
            },
            "type": "scattergl"
           }
          ],
          "scattermapbox": [
           {
            "marker": {
             "colorbar": {
              "outlinewidth": 0,
              "ticks": ""
             }
            },
            "type": "scattermapbox"
           }
          ],
          "scatterpolar": [
           {
            "marker": {
             "colorbar": {
              "outlinewidth": 0,
              "ticks": ""
             }
            },
            "type": "scatterpolar"
           }
          ],
          "scatterpolargl": [
           {
            "marker": {
             "colorbar": {
              "outlinewidth": 0,
              "ticks": ""
             }
            },
            "type": "scatterpolargl"
           }
          ],
          "scatterternary": [
           {
            "marker": {
             "colorbar": {
              "outlinewidth": 0,
              "ticks": ""
             }
            },
            "type": "scatterternary"
           }
          ],
          "surface": [
           {
            "colorbar": {
             "outlinewidth": 0,
             "ticks": ""
            },
            "colorscale": [
             [
              0,
              "#0d0887"
             ],
             [
              0.1111111111111111,
              "#46039f"
             ],
             [
              0.2222222222222222,
              "#7201a8"
             ],
             [
              0.3333333333333333,
              "#9c179e"
             ],
             [
              0.4444444444444444,
              "#bd3786"
             ],
             [
              0.5555555555555556,
              "#d8576b"
             ],
             [
              0.6666666666666666,
              "#ed7953"
             ],
             [
              0.7777777777777778,
              "#fb9f3a"
             ],
             [
              0.8888888888888888,
              "#fdca26"
             ],
             [
              1,
              "#f0f921"
             ]
            ],
            "type": "surface"
           }
          ],
          "table": [
           {
            "cells": {
             "fill": {
              "color": "#EBF0F8"
             },
             "line": {
              "color": "white"
             }
            },
            "header": {
             "fill": {
              "color": "#C8D4E3"
             },
             "line": {
              "color": "white"
             }
            },
            "type": "table"
           }
          ]
         },
         "layout": {
          "annotationdefaults": {
           "arrowcolor": "#2a3f5f",
           "arrowhead": 0,
           "arrowwidth": 1
          },
          "autotypenumbers": "strict",
          "coloraxis": {
           "colorbar": {
            "outlinewidth": 0,
            "ticks": ""
           }
          },
          "colorscale": {
           "diverging": [
            [
             0,
             "#8e0152"
            ],
            [
             0.1,
             "#c51b7d"
            ],
            [
             0.2,
             "#de77ae"
            ],
            [
             0.3,
             "#f1b6da"
            ],
            [
             0.4,
             "#fde0ef"
            ],
            [
             0.5,
             "#f7f7f7"
            ],
            [
             0.6,
             "#e6f5d0"
            ],
            [
             0.7,
             "#b8e186"
            ],
            [
             0.8,
             "#7fbc41"
            ],
            [
             0.9,
             "#4d9221"
            ],
            [
             1,
             "#276419"
            ]
           ],
           "sequential": [
            [
             0,
             "#0d0887"
            ],
            [
             0.1111111111111111,
             "#46039f"
            ],
            [
             0.2222222222222222,
             "#7201a8"
            ],
            [
             0.3333333333333333,
             "#9c179e"
            ],
            [
             0.4444444444444444,
             "#bd3786"
            ],
            [
             0.5555555555555556,
             "#d8576b"
            ],
            [
             0.6666666666666666,
             "#ed7953"
            ],
            [
             0.7777777777777778,
             "#fb9f3a"
            ],
            [
             0.8888888888888888,
             "#fdca26"
            ],
            [
             1,
             "#f0f921"
            ]
           ],
           "sequentialminus": [
            [
             0,
             "#0d0887"
            ],
            [
             0.1111111111111111,
             "#46039f"
            ],
            [
             0.2222222222222222,
             "#7201a8"
            ],
            [
             0.3333333333333333,
             "#9c179e"
            ],
            [
             0.4444444444444444,
             "#bd3786"
            ],
            [
             0.5555555555555556,
             "#d8576b"
            ],
            [
             0.6666666666666666,
             "#ed7953"
            ],
            [
             0.7777777777777778,
             "#fb9f3a"
            ],
            [
             0.8888888888888888,
             "#fdca26"
            ],
            [
             1,
             "#f0f921"
            ]
           ]
          },
          "colorway": [
           "#636efa",
           "#EF553B",
           "#00cc96",
           "#ab63fa",
           "#FFA15A",
           "#19d3f3",
           "#FF6692",
           "#B6E880",
           "#FF97FF",
           "#FECB52"
          ],
          "font": {
           "color": "#2a3f5f"
          },
          "geo": {
           "bgcolor": "white",
           "lakecolor": "white",
           "landcolor": "#E5ECF6",
           "showlakes": true,
           "showland": true,
           "subunitcolor": "white"
          },
          "hoverlabel": {
           "align": "left"
          },
          "hovermode": "closest",
          "mapbox": {
           "style": "light"
          },
          "paper_bgcolor": "white",
          "plot_bgcolor": "#E5ECF6",
          "polar": {
           "angularaxis": {
            "gridcolor": "white",
            "linecolor": "white",
            "ticks": ""
           },
           "bgcolor": "#E5ECF6",
           "radialaxis": {
            "gridcolor": "white",
            "linecolor": "white",
            "ticks": ""
           }
          },
          "scene": {
           "xaxis": {
            "backgroundcolor": "#E5ECF6",
            "gridcolor": "white",
            "gridwidth": 2,
            "linecolor": "white",
            "showbackground": true,
            "ticks": "",
            "zerolinecolor": "white"
           },
           "yaxis": {
            "backgroundcolor": "#E5ECF6",
            "gridcolor": "white",
            "gridwidth": 2,
            "linecolor": "white",
            "showbackground": true,
            "ticks": "",
            "zerolinecolor": "white"
           },
           "zaxis": {
            "backgroundcolor": "#E5ECF6",
            "gridcolor": "white",
            "gridwidth": 2,
            "linecolor": "white",
            "showbackground": true,
            "ticks": "",
            "zerolinecolor": "white"
           }
          },
          "shapedefaults": {
           "line": {
            "color": "#2a3f5f"
           }
          },
          "ternary": {
           "aaxis": {
            "gridcolor": "white",
            "linecolor": "white",
            "ticks": ""
           },
           "baxis": {
            "gridcolor": "white",
            "linecolor": "white",
            "ticks": ""
           },
           "bgcolor": "#E5ECF6",
           "caxis": {
            "gridcolor": "white",
            "linecolor": "white",
            "ticks": ""
           }
          },
          "title": {
           "x": 0.05
          },
          "xaxis": {
           "automargin": true,
           "gridcolor": "white",
           "linecolor": "white",
           "ticks": "",
           "title": {
            "standoff": 15
           },
           "zerolinecolor": "white",
           "zerolinewidth": 2
          },
          "yaxis": {
           "automargin": true,
           "gridcolor": "white",
           "linecolor": "white",
           "ticks": "",
           "title": {
            "standoff": 15
           },
           "zerolinecolor": "white",
           "zerolinewidth": 2
          }
         }
        },
        "xaxis": {
         "autorange": "reversed"
        }
       }
      },
      "text/html": [
       "<div>                            <div id=\"218b0a74-ccee-49a5-ad57-ddeb5ed590bb\" class=\"plotly-graph-div\" style=\"height:525px; width:100%;\"></div>            <script type=\"text/javascript\">                require([\"plotly\"], function(Plotly) {                    window.PLOTLYENV=window.PLOTLYENV || {};                                    if (document.getElementById(\"218b0a74-ccee-49a5-ad57-ddeb5ed590bb\")) {                    Plotly.newPlot(                        \"218b0a74-ccee-49a5-ad57-ddeb5ed590bb\",                        [{\"error_y\":{\"array\":[0.0033742840311137,0.0053606408981261,0.0052877742557015,0.0036552115257897,0.0056672548935444,0.0077531169530006],\"type\":\"data\",\"visible\":true},\"name\":\"MLP + HS\",\"x\":[0.5,0.6,0.7,0.8,0.9,1.0],\"y\":[0.932268871868723,0.9359988737776268,0.936150370583556,0.938018859310556,0.9406258964831248,0.939123989686676],\"type\":\"scatter\"},{\"error_y\":{\"array\":[0.0158563234532736,0.0241647506405432,0.0163562826921842,0.0096540097780044,0.0149047544024827,0.0077531169530006],\"type\":\"data\",\"visible\":true},\"name\":\"MLP\\u207a + Pruning\",\"x\":[0.5,0.6,0.7,0.8,0.9,1.0],\"y\":[0.8694445752577847,0.8928944708978284,0.9082101211713552,0.921474354754001,0.9339844877709134,0.939123989686676],\"type\":\"scatter\"},{\"error_y\":{\"array\":[0.0156096929582731,0.015326855911188,0.0165045995279923,0.0142862496905767,0.0112835602703782,0.0039260374026758],\"type\":\"data\",\"visible\":true},\"name\":\"FT-Trasnformer\",\"x\":[0.5,0.6,0.7,0.8,0.9,1.0],\"y\":[0.8715035210129021,0.8971897860718194,0.9270395865750528,0.9339843692588212,0.941378537934624,0.9515906614413944],\"type\":\"scatter\"},{\"error_y\":{\"array\":[0.004857546326332,0.0039493179342839,0.004453431303619,0.0037536780994993,0.0033107253802501,0.0029036682691582],\"type\":\"data\",\"visible\":true},\"name\":\"XGBoost\",\"x\":[0.5,0.6,0.7,0.8,0.9,1.0],\"y\":[0.9601280311036214,0.9593297794460198,0.9599241583705272,0.9617586678570592,0.9617102925737958,0.9616603466994716],\"type\":\"scatter\"},{\"error_y\":{\"array\":[0.0033742840311137,0.0053606408981261,0.0052877742557015,0.0053110701312031,0.0056672548935444,0.0077531169530006],\"type\":\"data\",\"visible\":true},\"name\":\"MLP\\u207a\",\"x\":[0.5,0.6,0.7,0.8,0.9,1.0],\"y\":[0.932268871868723,0.9359988737776268,0.936150370583556,0.93720279788855,0.9406258964831248,0.939123989686676],\"type\":\"scatter\"},{\"error_y\":{\"array\":[0.0030268025650567,0.0044701580012521,0.0027719680814697,0.0036762697699708,0.0034798945738447,0.0029036682691582],\"type\":\"data\",\"visible\":true},\"name\":\"XGBoost\\u207a\",\"x\":[0.5,0.6,0.7,0.8,0.9,1.0],\"y\":[0.9588872086736416,0.9585588518873894,0.9597731514654396,0.960481825522884,0.960571043287414,0.9616603466994716],\"type\":\"scatter\"}],                        {\"template\":{\"data\":{\"histogram2dcontour\":[{\"type\":\"histogram2dcontour\",\"colorbar\":{\"outlinewidth\":0,\"ticks\":\"\"},\"colorscale\":[[0.0,\"#0d0887\"],[0.1111111111111111,\"#46039f\"],[0.2222222222222222,\"#7201a8\"],[0.3333333333333333,\"#9c179e\"],[0.4444444444444444,\"#bd3786\"],[0.5555555555555556,\"#d8576b\"],[0.6666666666666666,\"#ed7953\"],[0.7777777777777778,\"#fb9f3a\"],[0.8888888888888888,\"#fdca26\"],[1.0,\"#f0f921\"]]}],\"choropleth\":[{\"type\":\"choropleth\",\"colorbar\":{\"outlinewidth\":0,\"ticks\":\"\"}}],\"histogram2d\":[{\"type\":\"histogram2d\",\"colorbar\":{\"outlinewidth\":0,\"ticks\":\"\"},\"colorscale\":[[0.0,\"#0d0887\"],[0.1111111111111111,\"#46039f\"],[0.2222222222222222,\"#7201a8\"],[0.3333333333333333,\"#9c179e\"],[0.4444444444444444,\"#bd3786\"],[0.5555555555555556,\"#d8576b\"],[0.6666666666666666,\"#ed7953\"],[0.7777777777777778,\"#fb9f3a\"],[0.8888888888888888,\"#fdca26\"],[1.0,\"#f0f921\"]]}],\"heatmap\":[{\"type\":\"heatmap\",\"colorbar\":{\"outlinewidth\":0,\"ticks\":\"\"},\"colorscale\":[[0.0,\"#0d0887\"],[0.1111111111111111,\"#46039f\"],[0.2222222222222222,\"#7201a8\"],[0.3333333333333333,\"#9c179e\"],[0.4444444444444444,\"#bd3786\"],[0.5555555555555556,\"#d8576b\"],[0.6666666666666666,\"#ed7953\"],[0.7777777777777778,\"#fb9f3a\"],[0.8888888888888888,\"#fdca26\"],[1.0,\"#f0f921\"]]}],\"heatmapgl\":[{\"type\":\"heatmapgl\",\"colorbar\":{\"outlinewidth\":0,\"ticks\":\"\"},\"colorscale\":[[0.0,\"#0d0887\"],[0.1111111111111111,\"#46039f\"],[0.2222222222222222,\"#7201a8\"],[0.3333333333333333,\"#9c179e\"],[0.4444444444444444,\"#bd3786\"],[0.5555555555555556,\"#d8576b\"],[0.6666666666666666,\"#ed7953\"],[0.7777777777777778,\"#fb9f3a\"],[0.8888888888888888,\"#fdca26\"],[1.0,\"#f0f921\"]]}],\"contourcarpet\":[{\"type\":\"contourcarpet\",\"colorbar\":{\"outlinewidth\":0,\"ticks\":\"\"}}],\"contour\":[{\"type\":\"contour\",\"colorbar\":{\"outlinewidth\":0,\"ticks\":\"\"},\"colorscale\":[[0.0,\"#0d0887\"],[0.1111111111111111,\"#46039f\"],[0.2222222222222222,\"#7201a8\"],[0.3333333333333333,\"#9c179e\"],[0.4444444444444444,\"#bd3786\"],[0.5555555555555556,\"#d8576b\"],[0.6666666666666666,\"#ed7953\"],[0.7777777777777778,\"#fb9f3a\"],[0.8888888888888888,\"#fdca26\"],[1.0,\"#f0f921\"]]}],\"surface\":[{\"type\":\"surface\",\"colorbar\":{\"outlinewidth\":0,\"ticks\":\"\"},\"colorscale\":[[0.0,\"#0d0887\"],[0.1111111111111111,\"#46039f\"],[0.2222222222222222,\"#7201a8\"],[0.3333333333333333,\"#9c179e\"],[0.4444444444444444,\"#bd3786\"],[0.5555555555555556,\"#d8576b\"],[0.6666666666666666,\"#ed7953\"],[0.7777777777777778,\"#fb9f3a\"],[0.8888888888888888,\"#fdca26\"],[1.0,\"#f0f921\"]]}],\"mesh3d\":[{\"type\":\"mesh3d\",\"colorbar\":{\"outlinewidth\":0,\"ticks\":\"\"}}],\"scatter\":[{\"fillpattern\":{\"fillmode\":\"overlay\",\"size\":10,\"solidity\":0.2},\"type\":\"scatter\"}],\"parcoords\":[{\"type\":\"parcoords\",\"line\":{\"colorbar\":{\"outlinewidth\":0,\"ticks\":\"\"}}}],\"scatterpolargl\":[{\"type\":\"scatterpolargl\",\"marker\":{\"colorbar\":{\"outlinewidth\":0,\"ticks\":\"\"}}}],\"bar\":[{\"error_x\":{\"color\":\"#2a3f5f\"},\"error_y\":{\"color\":\"#2a3f5f\"},\"marker\":{\"line\":{\"color\":\"#E5ECF6\",\"width\":0.5},\"pattern\":{\"fillmode\":\"overlay\",\"size\":10,\"solidity\":0.2}},\"type\":\"bar\"}],\"scattergeo\":[{\"type\":\"scattergeo\",\"marker\":{\"colorbar\":{\"outlinewidth\":0,\"ticks\":\"\"}}}],\"scatterpolar\":[{\"type\":\"scatterpolar\",\"marker\":{\"colorbar\":{\"outlinewidth\":0,\"ticks\":\"\"}}}],\"histogram\":[{\"marker\":{\"pattern\":{\"fillmode\":\"overlay\",\"size\":10,\"solidity\":0.2}},\"type\":\"histogram\"}],\"scattergl\":[{\"type\":\"scattergl\",\"marker\":{\"colorbar\":{\"outlinewidth\":0,\"ticks\":\"\"}}}],\"scatter3d\":[{\"type\":\"scatter3d\",\"line\":{\"colorbar\":{\"outlinewidth\":0,\"ticks\":\"\"}},\"marker\":{\"colorbar\":{\"outlinewidth\":0,\"ticks\":\"\"}}}],\"scattermapbox\":[{\"type\":\"scattermapbox\",\"marker\":{\"colorbar\":{\"outlinewidth\":0,\"ticks\":\"\"}}}],\"scatterternary\":[{\"type\":\"scatterternary\",\"marker\":{\"colorbar\":{\"outlinewidth\":0,\"ticks\":\"\"}}}],\"scattercarpet\":[{\"type\":\"scattercarpet\",\"marker\":{\"colorbar\":{\"outlinewidth\":0,\"ticks\":\"\"}}}],\"carpet\":[{\"aaxis\":{\"endlinecolor\":\"#2a3f5f\",\"gridcolor\":\"white\",\"linecolor\":\"white\",\"minorgridcolor\":\"white\",\"startlinecolor\":\"#2a3f5f\"},\"baxis\":{\"endlinecolor\":\"#2a3f5f\",\"gridcolor\":\"white\",\"linecolor\":\"white\",\"minorgridcolor\":\"white\",\"startlinecolor\":\"#2a3f5f\"},\"type\":\"carpet\"}],\"table\":[{\"cells\":{\"fill\":{\"color\":\"#EBF0F8\"},\"line\":{\"color\":\"white\"}},\"header\":{\"fill\":{\"color\":\"#C8D4E3\"},\"line\":{\"color\":\"white\"}},\"type\":\"table\"}],\"barpolar\":[{\"marker\":{\"line\":{\"color\":\"#E5ECF6\",\"width\":0.5},\"pattern\":{\"fillmode\":\"overlay\",\"size\":10,\"solidity\":0.2}},\"type\":\"barpolar\"}],\"pie\":[{\"automargin\":true,\"type\":\"pie\"}]},\"layout\":{\"autotypenumbers\":\"strict\",\"colorway\":[\"#636efa\",\"#EF553B\",\"#00cc96\",\"#ab63fa\",\"#FFA15A\",\"#19d3f3\",\"#FF6692\",\"#B6E880\",\"#FF97FF\",\"#FECB52\"],\"font\":{\"color\":\"#2a3f5f\"},\"hovermode\":\"closest\",\"hoverlabel\":{\"align\":\"left\"},\"paper_bgcolor\":\"white\",\"plot_bgcolor\":\"#E5ECF6\",\"polar\":{\"bgcolor\":\"#E5ECF6\",\"angularaxis\":{\"gridcolor\":\"white\",\"linecolor\":\"white\",\"ticks\":\"\"},\"radialaxis\":{\"gridcolor\":\"white\",\"linecolor\":\"white\",\"ticks\":\"\"}},\"ternary\":{\"bgcolor\":\"#E5ECF6\",\"aaxis\":{\"gridcolor\":\"white\",\"linecolor\":\"white\",\"ticks\":\"\"},\"baxis\":{\"gridcolor\":\"white\",\"linecolor\":\"white\",\"ticks\":\"\"},\"caxis\":{\"gridcolor\":\"white\",\"linecolor\":\"white\",\"ticks\":\"\"}},\"coloraxis\":{\"colorbar\":{\"outlinewidth\":0,\"ticks\":\"\"}},\"colorscale\":{\"sequential\":[[0.0,\"#0d0887\"],[0.1111111111111111,\"#46039f\"],[0.2222222222222222,\"#7201a8\"],[0.3333333333333333,\"#9c179e\"],[0.4444444444444444,\"#bd3786\"],[0.5555555555555556,\"#d8576b\"],[0.6666666666666666,\"#ed7953\"],[0.7777777777777778,\"#fb9f3a\"],[0.8888888888888888,\"#fdca26\"],[1.0,\"#f0f921\"]],\"sequentialminus\":[[0.0,\"#0d0887\"],[0.1111111111111111,\"#46039f\"],[0.2222222222222222,\"#7201a8\"],[0.3333333333333333,\"#9c179e\"],[0.4444444444444444,\"#bd3786\"],[0.5555555555555556,\"#d8576b\"],[0.6666666666666666,\"#ed7953\"],[0.7777777777777778,\"#fb9f3a\"],[0.8888888888888888,\"#fdca26\"],[1.0,\"#f0f921\"]],\"diverging\":[[0,\"#8e0152\"],[0.1,\"#c51b7d\"],[0.2,\"#de77ae\"],[0.3,\"#f1b6da\"],[0.4,\"#fde0ef\"],[0.5,\"#f7f7f7\"],[0.6,\"#e6f5d0\"],[0.7,\"#b8e186\"],[0.8,\"#7fbc41\"],[0.9,\"#4d9221\"],[1,\"#276419\"]]},\"xaxis\":{\"gridcolor\":\"white\",\"linecolor\":\"white\",\"ticks\":\"\",\"title\":{\"standoff\":15},\"zerolinecolor\":\"white\",\"automargin\":true,\"zerolinewidth\":2},\"yaxis\":{\"gridcolor\":\"white\",\"linecolor\":\"white\",\"ticks\":\"\",\"title\":{\"standoff\":15},\"zerolinecolor\":\"white\",\"automargin\":true,\"zerolinewidth\":2},\"scene\":{\"xaxis\":{\"backgroundcolor\":\"#E5ECF6\",\"gridcolor\":\"white\",\"linecolor\":\"white\",\"showbackground\":true,\"ticks\":\"\",\"zerolinecolor\":\"white\",\"gridwidth\":2},\"yaxis\":{\"backgroundcolor\":\"#E5ECF6\",\"gridcolor\":\"white\",\"linecolor\":\"white\",\"showbackground\":true,\"ticks\":\"\",\"zerolinecolor\":\"white\",\"gridwidth\":2},\"zaxis\":{\"backgroundcolor\":\"#E5ECF6\",\"gridcolor\":\"white\",\"linecolor\":\"white\",\"showbackground\":true,\"ticks\":\"\",\"zerolinecolor\":\"white\",\"gridwidth\":2}},\"shapedefaults\":{\"line\":{\"color\":\"#2a3f5f\"}},\"annotationdefaults\":{\"arrowcolor\":\"#2a3f5f\",\"arrowhead\":0,\"arrowwidth\":1},\"geo\":{\"bgcolor\":\"white\",\"landcolor\":\"#E5ECF6\",\"subunitcolor\":\"white\",\"showland\":true,\"showlakes\":true,\"lakecolor\":\"white\"},\"title\":{\"x\":0.05},\"mapbox\":{\"style\":\"light\"}}},\"xaxis\":{\"autorange\":\"reversed\"}},                        {\"responsive\": true}                    ).then(function(){\n",
       "                            \n",
       "var gd = document.getElementById('218b0a74-ccee-49a5-ad57-ddeb5ed590bb');\n",
       "var x = new MutationObserver(function (mutations, observer) {{\n",
       "        var display = window.getComputedStyle(gd).display;\n",
       "        if (!display || display === 'none') {{\n",
       "            console.log([gd, 'removed!']);\n",
       "            Plotly.purge(gd);\n",
       "            observer.disconnect();\n",
       "        }}\n",
       "}});\n",
       "\n",
       "// Listen for the removal of the full notebook cells\n",
       "var notebookContainer = gd.closest('#notebook-container');\n",
       "if (notebookContainer) {{\n",
       "    x.observe(notebookContainer, {childList: true});\n",
       "}}\n",
       "\n",
       "// Listen for the clearing of the current output cell\n",
       "var outputEl = gd.closest('.output');\n",
       "if (outputEl) {{\n",
       "    x.observe(outputEl, {childList: true});\n",
       "}}\n",
       "\n",
       "                        })                };                });            </script>        </div>"
      ]
     },
     "metadata": {},
     "output_type": "display_data"
    },
    {
     "data": {
      "application/vnd.plotly.v1+json": {
       "config": {
        "plotlyServerURL": "https://plot.ly"
       },
       "data": [
        {
         "error_y": {
          "array": [
           0.0033742840311137,
           0.0053606408981261,
           0.0052877742557015,
           0.0053110701312031,
           0.0056672548935444,
           0.0096210684854237,
           0.0064290098919756,
           0.0078612754983577,
           0.0036552115257897,
           0.0070960028665295,
           0.0077531169530006,
           0.0086823127605344
          ],
          "type": "data",
          "visible": true
         },
         "name": "MLP + HS",
         "type": "scatter",
         "x": [
          1,
          0.9,
          0.8,
          0.7,
          0.6,
          0.5
         ],
         "y": [
          0,
          1270.909500837326,
          1442.5178697109222,
          1237.3990397453308,
          1413.436398267746,
          1040.815275669098
         ]
        },
        {
         "error_y": {
          "array": [
           0.0158563234532736,
           0.0241647506405432,
           0.0163562826921842,
           0.0096540097780044,
           0.0149047544024827,
           0.0077531169530006,
           0.0086823127605344
          ],
          "type": "data",
          "visible": true
         },
         "name": "MLP⁺ + Pruning",
         "type": "scatter",
         "x": [
          1,
          0.9,
          0.8,
          0.7,
          0.6,
          0.5
         ],
         "y": [
          0,
          0.584820032119751,
          0.5845441818237305,
          0.5864026546478271,
          0.5919680595397949,
          0.6335251331329346
         ]
        },
        {
         "error_y": {
          "array": [
           0.0156096929582731,
           0.015326855911188,
           0.0165045995279923,
           0.0142862496905767,
           0.0112835602703782,
           0.0023313731477134,
           0.0034342398427347,
           0.0085180483891304,
           0.0065030581862128,
           0.0051886872235393,
           0.0041192735540024,
           0.0080123073284792,
           0.0065472606715591,
           0.0041172098246987,
           0.0047527001639134,
           0.0032441215245056,
           0.0040681896743508,
           0.0064649814308706,
           0.0039945718558415,
           0.0058866000426026,
           0.0028948188299973,
           0.0077399466281144,
           0.0024713722035981,
           0.0050243088805982,
           0.0045625483666221,
           0.0059210385978573,
           0.0039260374026758,
           0.0048443276620588,
           0.0059336886172505,
           0.0071527209229428,
           0.0039516838380148,
           0.0034650676810381,
           0.0080776601997398,
           0.0035088390580095,
           0.0027259256963543,
           0.002725547732619,
           0.0022600323274768
          ],
          "type": "data",
          "visible": true
         },
         "name": "FT-Trasnformer",
         "type": "scatter",
         "x": [
          1,
          0.9,
          0.8,
          0.7,
          0.6,
          0.5
         ],
         "y": [
          0,
          3.4361085891723637,
          3.240976095199585,
          2.8187496662139893,
          2.635084629058838,
          2.092331647872925
         ]
        },
        {
         "error_y": {
          "array": [
           0.0052827023135955,
           0.0046953038456763,
           0.0054790140566539,
           0.0044865930601808,
           0.0044619636404317,
           0.004857546326332,
           0.0030978423895211,
           0.004453431303619,
           0.0037536780994993,
           0.0033107253802501,
           0.0052204804244896,
           0.0039493179342839,
           0.0044374623097617,
           0.0021673850748561,
           0.0030931407661887,
           0.0030268025650567,
           0.0044701580012521,
           0.0027719680814697,
           0.0036762697699708,
           0.0034798945738447,
           0.004331951545454,
           0.0039380454449059,
           0.0031799137582516,
           0.0029036682691582
          ],
          "type": "data",
          "visible": true
         },
         "name": "XGBoost",
         "type": "scatter",
         "x": [
          1,
          0.9,
          0.8,
          0.7,
          0.6,
          0.5
         ],
         "y": [
          0,
          24.00521421432495,
          23.159655570983887,
          19.089399814605713,
          18.73860192298889,
          16.020349979400635
         ]
        },
        {
         "error_y": {
          "array": [
           0.0033742840311137,
           0.0053606408981261,
           0.0052877742557015,
           0.0053110701312031,
           0.0056672548935444,
           0.0077531169530006
          ],
          "type": "data",
          "visible": true
         },
         "name": "MLP⁺",
         "type": "scatter",
         "x": [
          1,
          0.9,
          0.8,
          0.7,
          0.6,
          0.5
         ],
         "y": [
          0,
          580.9065914154053,
          584.5711419582367,
          553.4606378078461,
          560.8679378032684,
          497.32540893554693
         ]
        },
        {
         "error_y": {
          "array": [
           0.0030268025650567,
           0.0044701580012521,
           0.0027719680814697,
           0.0036762697699708,
           0.0034798945738447,
           0.0029036682691582
          ],
          "type": "data",
          "visible": true
         },
         "name": "XGBoost⁺",
         "type": "scatter",
         "x": [
          1,
          0.9,
          0.8,
          0.7,
          0.6,
          0.5
         ],
         "y": [
          0,
          7.724113941192627,
          7.5460264682769775,
          6.374051332473755,
          6.081858158111572,
          5.407276630401611
         ]
        }
       ],
       "layout": {
        "template": {
         "data": {
          "bar": [
           {
            "error_x": {
             "color": "#2a3f5f"
            },
            "error_y": {
             "color": "#2a3f5f"
            },
            "marker": {
             "line": {
              "color": "#E5ECF6",
              "width": 0.5
             },
             "pattern": {
              "fillmode": "overlay",
              "size": 10,
              "solidity": 0.2
             }
            },
            "type": "bar"
           }
          ],
          "barpolar": [
           {
            "marker": {
             "line": {
              "color": "#E5ECF6",
              "width": 0.5
             },
             "pattern": {
              "fillmode": "overlay",
              "size": 10,
              "solidity": 0.2
             }
            },
            "type": "barpolar"
           }
          ],
          "carpet": [
           {
            "aaxis": {
             "endlinecolor": "#2a3f5f",
             "gridcolor": "white",
             "linecolor": "white",
             "minorgridcolor": "white",
             "startlinecolor": "#2a3f5f"
            },
            "baxis": {
             "endlinecolor": "#2a3f5f",
             "gridcolor": "white",
             "linecolor": "white",
             "minorgridcolor": "white",
             "startlinecolor": "#2a3f5f"
            },
            "type": "carpet"
           }
          ],
          "choropleth": [
           {
            "colorbar": {
             "outlinewidth": 0,
             "ticks": ""
            },
            "type": "choropleth"
           }
          ],
          "contour": [
           {
            "colorbar": {
             "outlinewidth": 0,
             "ticks": ""
            },
            "colorscale": [
             [
              0,
              "#0d0887"
             ],
             [
              0.1111111111111111,
              "#46039f"
             ],
             [
              0.2222222222222222,
              "#7201a8"
             ],
             [
              0.3333333333333333,
              "#9c179e"
             ],
             [
              0.4444444444444444,
              "#bd3786"
             ],
             [
              0.5555555555555556,
              "#d8576b"
             ],
             [
              0.6666666666666666,
              "#ed7953"
             ],
             [
              0.7777777777777778,
              "#fb9f3a"
             ],
             [
              0.8888888888888888,
              "#fdca26"
             ],
             [
              1,
              "#f0f921"
             ]
            ],
            "type": "contour"
           }
          ],
          "contourcarpet": [
           {
            "colorbar": {
             "outlinewidth": 0,
             "ticks": ""
            },
            "type": "contourcarpet"
           }
          ],
          "heatmap": [
           {
            "colorbar": {
             "outlinewidth": 0,
             "ticks": ""
            },
            "colorscale": [
             [
              0,
              "#0d0887"
             ],
             [
              0.1111111111111111,
              "#46039f"
             ],
             [
              0.2222222222222222,
              "#7201a8"
             ],
             [
              0.3333333333333333,
              "#9c179e"
             ],
             [
              0.4444444444444444,
              "#bd3786"
             ],
             [
              0.5555555555555556,
              "#d8576b"
             ],
             [
              0.6666666666666666,
              "#ed7953"
             ],
             [
              0.7777777777777778,
              "#fb9f3a"
             ],
             [
              0.8888888888888888,
              "#fdca26"
             ],
             [
              1,
              "#f0f921"
             ]
            ],
            "type": "heatmap"
           }
          ],
          "heatmapgl": [
           {
            "colorbar": {
             "outlinewidth": 0,
             "ticks": ""
            },
            "colorscale": [
             [
              0,
              "#0d0887"
             ],
             [
              0.1111111111111111,
              "#46039f"
             ],
             [
              0.2222222222222222,
              "#7201a8"
             ],
             [
              0.3333333333333333,
              "#9c179e"
             ],
             [
              0.4444444444444444,
              "#bd3786"
             ],
             [
              0.5555555555555556,
              "#d8576b"
             ],
             [
              0.6666666666666666,
              "#ed7953"
             ],
             [
              0.7777777777777778,
              "#fb9f3a"
             ],
             [
              0.8888888888888888,
              "#fdca26"
             ],
             [
              1,
              "#f0f921"
             ]
            ],
            "type": "heatmapgl"
           }
          ],
          "histogram": [
           {
            "marker": {
             "pattern": {
              "fillmode": "overlay",
              "size": 10,
              "solidity": 0.2
             }
            },
            "type": "histogram"
           }
          ],
          "histogram2d": [
           {
            "colorbar": {
             "outlinewidth": 0,
             "ticks": ""
            },
            "colorscale": [
             [
              0,
              "#0d0887"
             ],
             [
              0.1111111111111111,
              "#46039f"
             ],
             [
              0.2222222222222222,
              "#7201a8"
             ],
             [
              0.3333333333333333,
              "#9c179e"
             ],
             [
              0.4444444444444444,
              "#bd3786"
             ],
             [
              0.5555555555555556,
              "#d8576b"
             ],
             [
              0.6666666666666666,
              "#ed7953"
             ],
             [
              0.7777777777777778,
              "#fb9f3a"
             ],
             [
              0.8888888888888888,
              "#fdca26"
             ],
             [
              1,
              "#f0f921"
             ]
            ],
            "type": "histogram2d"
           }
          ],
          "histogram2dcontour": [
           {
            "colorbar": {
             "outlinewidth": 0,
             "ticks": ""
            },
            "colorscale": [
             [
              0,
              "#0d0887"
             ],
             [
              0.1111111111111111,
              "#46039f"
             ],
             [
              0.2222222222222222,
              "#7201a8"
             ],
             [
              0.3333333333333333,
              "#9c179e"
             ],
             [
              0.4444444444444444,
              "#bd3786"
             ],
             [
              0.5555555555555556,
              "#d8576b"
             ],
             [
              0.6666666666666666,
              "#ed7953"
             ],
             [
              0.7777777777777778,
              "#fb9f3a"
             ],
             [
              0.8888888888888888,
              "#fdca26"
             ],
             [
              1,
              "#f0f921"
             ]
            ],
            "type": "histogram2dcontour"
           }
          ],
          "mesh3d": [
           {
            "colorbar": {
             "outlinewidth": 0,
             "ticks": ""
            },
            "type": "mesh3d"
           }
          ],
          "parcoords": [
           {
            "line": {
             "colorbar": {
              "outlinewidth": 0,
              "ticks": ""
             }
            },
            "type": "parcoords"
           }
          ],
          "pie": [
           {
            "automargin": true,
            "type": "pie"
           }
          ],
          "scatter": [
           {
            "fillpattern": {
             "fillmode": "overlay",
             "size": 10,
             "solidity": 0.2
            },
            "type": "scatter"
           }
          ],
          "scatter3d": [
           {
            "line": {
             "colorbar": {
              "outlinewidth": 0,
              "ticks": ""
             }
            },
            "marker": {
             "colorbar": {
              "outlinewidth": 0,
              "ticks": ""
             }
            },
            "type": "scatter3d"
           }
          ],
          "scattercarpet": [
           {
            "marker": {
             "colorbar": {
              "outlinewidth": 0,
              "ticks": ""
             }
            },
            "type": "scattercarpet"
           }
          ],
          "scattergeo": [
           {
            "marker": {
             "colorbar": {
              "outlinewidth": 0,
              "ticks": ""
             }
            },
            "type": "scattergeo"
           }
          ],
          "scattergl": [
           {
            "marker": {
             "colorbar": {
              "outlinewidth": 0,
              "ticks": ""
             }
            },
            "type": "scattergl"
           }
          ],
          "scattermapbox": [
           {
            "marker": {
             "colorbar": {
              "outlinewidth": 0,
              "ticks": ""
             }
            },
            "type": "scattermapbox"
           }
          ],
          "scatterpolar": [
           {
            "marker": {
             "colorbar": {
              "outlinewidth": 0,
              "ticks": ""
             }
            },
            "type": "scatterpolar"
           }
          ],
          "scatterpolargl": [
           {
            "marker": {
             "colorbar": {
              "outlinewidth": 0,
              "ticks": ""
             }
            },
            "type": "scatterpolargl"
           }
          ],
          "scatterternary": [
           {
            "marker": {
             "colorbar": {
              "outlinewidth": 0,
              "ticks": ""
             }
            },
            "type": "scatterternary"
           }
          ],
          "surface": [
           {
            "colorbar": {
             "outlinewidth": 0,
             "ticks": ""
            },
            "colorscale": [
             [
              0,
              "#0d0887"
             ],
             [
              0.1111111111111111,
              "#46039f"
             ],
             [
              0.2222222222222222,
              "#7201a8"
             ],
             [
              0.3333333333333333,
              "#9c179e"
             ],
             [
              0.4444444444444444,
              "#bd3786"
             ],
             [
              0.5555555555555556,
              "#d8576b"
             ],
             [
              0.6666666666666666,
              "#ed7953"
             ],
             [
              0.7777777777777778,
              "#fb9f3a"
             ],
             [
              0.8888888888888888,
              "#fdca26"
             ],
             [
              1,
              "#f0f921"
             ]
            ],
            "type": "surface"
           }
          ],
          "table": [
           {
            "cells": {
             "fill": {
              "color": "#EBF0F8"
             },
             "line": {
              "color": "white"
             }
            },
            "header": {
             "fill": {
              "color": "#C8D4E3"
             },
             "line": {
              "color": "white"
             }
            },
            "type": "table"
           }
          ]
         },
         "layout": {
          "annotationdefaults": {
           "arrowcolor": "#2a3f5f",
           "arrowhead": 0,
           "arrowwidth": 1
          },
          "autotypenumbers": "strict",
          "coloraxis": {
           "colorbar": {
            "outlinewidth": 0,
            "ticks": ""
           }
          },
          "colorscale": {
           "diverging": [
            [
             0,
             "#8e0152"
            ],
            [
             0.1,
             "#c51b7d"
            ],
            [
             0.2,
             "#de77ae"
            ],
            [
             0.3,
             "#f1b6da"
            ],
            [
             0.4,
             "#fde0ef"
            ],
            [
             0.5,
             "#f7f7f7"
            ],
            [
             0.6,
             "#e6f5d0"
            ],
            [
             0.7,
             "#b8e186"
            ],
            [
             0.8,
             "#7fbc41"
            ],
            [
             0.9,
             "#4d9221"
            ],
            [
             1,
             "#276419"
            ]
           ],
           "sequential": [
            [
             0,
             "#0d0887"
            ],
            [
             0.1111111111111111,
             "#46039f"
            ],
            [
             0.2222222222222222,
             "#7201a8"
            ],
            [
             0.3333333333333333,
             "#9c179e"
            ],
            [
             0.4444444444444444,
             "#bd3786"
            ],
            [
             0.5555555555555556,
             "#d8576b"
            ],
            [
             0.6666666666666666,
             "#ed7953"
            ],
            [
             0.7777777777777778,
             "#fb9f3a"
            ],
            [
             0.8888888888888888,
             "#fdca26"
            ],
            [
             1,
             "#f0f921"
            ]
           ],
           "sequentialminus": [
            [
             0,
             "#0d0887"
            ],
            [
             0.1111111111111111,
             "#46039f"
            ],
            [
             0.2222222222222222,
             "#7201a8"
            ],
            [
             0.3333333333333333,
             "#9c179e"
            ],
            [
             0.4444444444444444,
             "#bd3786"
            ],
            [
             0.5555555555555556,
             "#d8576b"
            ],
            [
             0.6666666666666666,
             "#ed7953"
            ],
            [
             0.7777777777777778,
             "#fb9f3a"
            ],
            [
             0.8888888888888888,
             "#fdca26"
            ],
            [
             1,
             "#f0f921"
            ]
           ]
          },
          "colorway": [
           "#636efa",
           "#EF553B",
           "#00cc96",
           "#ab63fa",
           "#FFA15A",
           "#19d3f3",
           "#FF6692",
           "#B6E880",
           "#FF97FF",
           "#FECB52"
          ],
          "font": {
           "color": "#2a3f5f"
          },
          "geo": {
           "bgcolor": "white",
           "lakecolor": "white",
           "landcolor": "#E5ECF6",
           "showlakes": true,
           "showland": true,
           "subunitcolor": "white"
          },
          "hoverlabel": {
           "align": "left"
          },
          "hovermode": "closest",
          "mapbox": {
           "style": "light"
          },
          "paper_bgcolor": "white",
          "plot_bgcolor": "#E5ECF6",
          "polar": {
           "angularaxis": {
            "gridcolor": "white",
            "linecolor": "white",
            "ticks": ""
           },
           "bgcolor": "#E5ECF6",
           "radialaxis": {
            "gridcolor": "white",
            "linecolor": "white",
            "ticks": ""
           }
          },
          "scene": {
           "xaxis": {
            "backgroundcolor": "#E5ECF6",
            "gridcolor": "white",
            "gridwidth": 2,
            "linecolor": "white",
            "showbackground": true,
            "ticks": "",
            "zerolinecolor": "white"
           },
           "yaxis": {
            "backgroundcolor": "#E5ECF6",
            "gridcolor": "white",
            "gridwidth": 2,
            "linecolor": "white",
            "showbackground": true,
            "ticks": "",
            "zerolinecolor": "white"
           },
           "zaxis": {
            "backgroundcolor": "#E5ECF6",
            "gridcolor": "white",
            "gridwidth": 2,
            "linecolor": "white",
            "showbackground": true,
            "ticks": "",
            "zerolinecolor": "white"
           }
          },
          "shapedefaults": {
           "line": {
            "color": "#2a3f5f"
           }
          },
          "ternary": {
           "aaxis": {
            "gridcolor": "white",
            "linecolor": "white",
            "ticks": ""
           },
           "baxis": {
            "gridcolor": "white",
            "linecolor": "white",
            "ticks": ""
           },
           "bgcolor": "#E5ECF6",
           "caxis": {
            "gridcolor": "white",
            "linecolor": "white",
            "ticks": ""
           }
          },
          "title": {
           "x": 0.05
          },
          "xaxis": {
           "automargin": true,
           "gridcolor": "white",
           "linecolor": "white",
           "ticks": "",
           "title": {
            "standoff": 15
           },
           "zerolinecolor": "white",
           "zerolinewidth": 2
          },
          "yaxis": {
           "automargin": true,
           "gridcolor": "white",
           "linecolor": "white",
           "ticks": "",
           "title": {
            "standoff": 15
           },
           "zerolinecolor": "white",
           "zerolinewidth": 2
          }
         }
        },
        "xaxis": {
         "autorange": "reversed"
        },
        "yaxis": {
         "type": "log"
        }
       }
      },
      "text/html": [
       "<div>                            <div id=\"1928b070-7716-433f-90e4-befe649ca987\" class=\"plotly-graph-div\" style=\"height:525px; width:100%;\"></div>            <script type=\"text/javascript\">                require([\"plotly\"], function(Plotly) {                    window.PLOTLYENV=window.PLOTLYENV || {};                                    if (document.getElementById(\"1928b070-7716-433f-90e4-befe649ca987\")) {                    Plotly.newPlot(                        \"1928b070-7716-433f-90e4-befe649ca987\",                        [{\"error_y\":{\"array\":[0.0033742840311137,0.0053606408981261,0.0052877742557015,0.0053110701312031,0.0056672548935444,0.0096210684854237,0.0064290098919756,0.0078612754983577,0.0036552115257897,0.0070960028665295,0.0077531169530006,0.0086823127605344],\"type\":\"data\",\"visible\":true},\"name\":\"MLP + HS\",\"x\":[1.0,0.9,0.8,0.7,0.6,0.5],\"y\":[0.0,1270.909500837326,1442.5178697109222,1237.3990397453308,1413.436398267746,1040.815275669098],\"type\":\"scatter\"},{\"error_y\":{\"array\":[0.0158563234532736,0.0241647506405432,0.0163562826921842,0.0096540097780044,0.0149047544024827,0.0077531169530006,0.0086823127605344],\"type\":\"data\",\"visible\":true},\"name\":\"MLP\\u207a + Pruning\",\"x\":[1.0,0.9,0.8,0.7,0.6,0.5],\"y\":[0.0,0.584820032119751,0.5845441818237305,0.5864026546478271,0.5919680595397949,0.6335251331329346],\"type\":\"scatter\"},{\"error_y\":{\"array\":[0.0156096929582731,0.015326855911188,0.0165045995279923,0.0142862496905767,0.0112835602703782,0.0023313731477134,0.0034342398427347,0.0085180483891304,0.0065030581862128,0.0051886872235393,0.0041192735540024,0.0080123073284792,0.0065472606715591,0.0041172098246987,0.0047527001639134,0.0032441215245056,0.0040681896743508,0.0064649814308706,0.0039945718558415,0.0058866000426026,0.0028948188299973,0.0077399466281144,0.0024713722035981,0.0050243088805982,0.0045625483666221,0.0059210385978573,0.0039260374026758,0.0048443276620588,0.0059336886172505,0.0071527209229428,0.0039516838380148,0.0034650676810381,0.0080776601997398,0.0035088390580095,0.0027259256963543,0.002725547732619,0.0022600323274768],\"type\":\"data\",\"visible\":true},\"name\":\"FT-Trasnformer\",\"x\":[1.0,0.9,0.8,0.7,0.6,0.5],\"y\":[0.0,3.4361085891723637,3.240976095199585,2.8187496662139893,2.635084629058838,2.092331647872925],\"type\":\"scatter\"},{\"error_y\":{\"array\":[0.0052827023135955,0.0046953038456763,0.0054790140566539,0.0044865930601808,0.0044619636404317,0.004857546326332,0.0030978423895211,0.004453431303619,0.0037536780994993,0.0033107253802501,0.0052204804244896,0.0039493179342839,0.0044374623097617,0.0021673850748561,0.0030931407661887,0.0030268025650567,0.0044701580012521,0.0027719680814697,0.0036762697699708,0.0034798945738447,0.004331951545454,0.0039380454449059,0.0031799137582516,0.0029036682691582],\"type\":\"data\",\"visible\":true},\"name\":\"XGBoost\",\"x\":[1.0,0.9,0.8,0.7,0.6,0.5],\"y\":[0.0,24.00521421432495,23.159655570983887,19.089399814605713,18.73860192298889,16.020349979400635],\"type\":\"scatter\"},{\"error_y\":{\"array\":[0.0033742840311137,0.0053606408981261,0.0052877742557015,0.0053110701312031,0.0056672548935444,0.0077531169530006],\"type\":\"data\",\"visible\":true},\"name\":\"MLP\\u207a\",\"x\":[1.0,0.9,0.8,0.7,0.6,0.5],\"y\":[0.0,580.9065914154053,584.5711419582367,553.4606378078461,560.8679378032684,497.32540893554693],\"type\":\"scatter\"},{\"error_y\":{\"array\":[0.0030268025650567,0.0044701580012521,0.0027719680814697,0.0036762697699708,0.0034798945738447,0.0029036682691582],\"type\":\"data\",\"visible\":true},\"name\":\"XGBoost\\u207a\",\"x\":[1.0,0.9,0.8,0.7,0.6,0.5],\"y\":[0.0,7.724113941192627,7.5460264682769775,6.374051332473755,6.081858158111572,5.407276630401611],\"type\":\"scatter\"}],                        {\"template\":{\"data\":{\"histogram2dcontour\":[{\"type\":\"histogram2dcontour\",\"colorbar\":{\"outlinewidth\":0,\"ticks\":\"\"},\"colorscale\":[[0.0,\"#0d0887\"],[0.1111111111111111,\"#46039f\"],[0.2222222222222222,\"#7201a8\"],[0.3333333333333333,\"#9c179e\"],[0.4444444444444444,\"#bd3786\"],[0.5555555555555556,\"#d8576b\"],[0.6666666666666666,\"#ed7953\"],[0.7777777777777778,\"#fb9f3a\"],[0.8888888888888888,\"#fdca26\"],[1.0,\"#f0f921\"]]}],\"choropleth\":[{\"type\":\"choropleth\",\"colorbar\":{\"outlinewidth\":0,\"ticks\":\"\"}}],\"histogram2d\":[{\"type\":\"histogram2d\",\"colorbar\":{\"outlinewidth\":0,\"ticks\":\"\"},\"colorscale\":[[0.0,\"#0d0887\"],[0.1111111111111111,\"#46039f\"],[0.2222222222222222,\"#7201a8\"],[0.3333333333333333,\"#9c179e\"],[0.4444444444444444,\"#bd3786\"],[0.5555555555555556,\"#d8576b\"],[0.6666666666666666,\"#ed7953\"],[0.7777777777777778,\"#fb9f3a\"],[0.8888888888888888,\"#fdca26\"],[1.0,\"#f0f921\"]]}],\"heatmap\":[{\"type\":\"heatmap\",\"colorbar\":{\"outlinewidth\":0,\"ticks\":\"\"},\"colorscale\":[[0.0,\"#0d0887\"],[0.1111111111111111,\"#46039f\"],[0.2222222222222222,\"#7201a8\"],[0.3333333333333333,\"#9c179e\"],[0.4444444444444444,\"#bd3786\"],[0.5555555555555556,\"#d8576b\"],[0.6666666666666666,\"#ed7953\"],[0.7777777777777778,\"#fb9f3a\"],[0.8888888888888888,\"#fdca26\"],[1.0,\"#f0f921\"]]}],\"heatmapgl\":[{\"type\":\"heatmapgl\",\"colorbar\":{\"outlinewidth\":0,\"ticks\":\"\"},\"colorscale\":[[0.0,\"#0d0887\"],[0.1111111111111111,\"#46039f\"],[0.2222222222222222,\"#7201a8\"],[0.3333333333333333,\"#9c179e\"],[0.4444444444444444,\"#bd3786\"],[0.5555555555555556,\"#d8576b\"],[0.6666666666666666,\"#ed7953\"],[0.7777777777777778,\"#fb9f3a\"],[0.8888888888888888,\"#fdca26\"],[1.0,\"#f0f921\"]]}],\"contourcarpet\":[{\"type\":\"contourcarpet\",\"colorbar\":{\"outlinewidth\":0,\"ticks\":\"\"}}],\"contour\":[{\"type\":\"contour\",\"colorbar\":{\"outlinewidth\":0,\"ticks\":\"\"},\"colorscale\":[[0.0,\"#0d0887\"],[0.1111111111111111,\"#46039f\"],[0.2222222222222222,\"#7201a8\"],[0.3333333333333333,\"#9c179e\"],[0.4444444444444444,\"#bd3786\"],[0.5555555555555556,\"#d8576b\"],[0.6666666666666666,\"#ed7953\"],[0.7777777777777778,\"#fb9f3a\"],[0.8888888888888888,\"#fdca26\"],[1.0,\"#f0f921\"]]}],\"surface\":[{\"type\":\"surface\",\"colorbar\":{\"outlinewidth\":0,\"ticks\":\"\"},\"colorscale\":[[0.0,\"#0d0887\"],[0.1111111111111111,\"#46039f\"],[0.2222222222222222,\"#7201a8\"],[0.3333333333333333,\"#9c179e\"],[0.4444444444444444,\"#bd3786\"],[0.5555555555555556,\"#d8576b\"],[0.6666666666666666,\"#ed7953\"],[0.7777777777777778,\"#fb9f3a\"],[0.8888888888888888,\"#fdca26\"],[1.0,\"#f0f921\"]]}],\"mesh3d\":[{\"type\":\"mesh3d\",\"colorbar\":{\"outlinewidth\":0,\"ticks\":\"\"}}],\"scatter\":[{\"fillpattern\":{\"fillmode\":\"overlay\",\"size\":10,\"solidity\":0.2},\"type\":\"scatter\"}],\"parcoords\":[{\"type\":\"parcoords\",\"line\":{\"colorbar\":{\"outlinewidth\":0,\"ticks\":\"\"}}}],\"scatterpolargl\":[{\"type\":\"scatterpolargl\",\"marker\":{\"colorbar\":{\"outlinewidth\":0,\"ticks\":\"\"}}}],\"bar\":[{\"error_x\":{\"color\":\"#2a3f5f\"},\"error_y\":{\"color\":\"#2a3f5f\"},\"marker\":{\"line\":{\"color\":\"#E5ECF6\",\"width\":0.5},\"pattern\":{\"fillmode\":\"overlay\",\"size\":10,\"solidity\":0.2}},\"type\":\"bar\"}],\"scattergeo\":[{\"type\":\"scattergeo\",\"marker\":{\"colorbar\":{\"outlinewidth\":0,\"ticks\":\"\"}}}],\"scatterpolar\":[{\"type\":\"scatterpolar\",\"marker\":{\"colorbar\":{\"outlinewidth\":0,\"ticks\":\"\"}}}],\"histogram\":[{\"marker\":{\"pattern\":{\"fillmode\":\"overlay\",\"size\":10,\"solidity\":0.2}},\"type\":\"histogram\"}],\"scattergl\":[{\"type\":\"scattergl\",\"marker\":{\"colorbar\":{\"outlinewidth\":0,\"ticks\":\"\"}}}],\"scatter3d\":[{\"type\":\"scatter3d\",\"line\":{\"colorbar\":{\"outlinewidth\":0,\"ticks\":\"\"}},\"marker\":{\"colorbar\":{\"outlinewidth\":0,\"ticks\":\"\"}}}],\"scattermapbox\":[{\"type\":\"scattermapbox\",\"marker\":{\"colorbar\":{\"outlinewidth\":0,\"ticks\":\"\"}}}],\"scatterternary\":[{\"type\":\"scatterternary\",\"marker\":{\"colorbar\":{\"outlinewidth\":0,\"ticks\":\"\"}}}],\"scattercarpet\":[{\"type\":\"scattercarpet\",\"marker\":{\"colorbar\":{\"outlinewidth\":0,\"ticks\":\"\"}}}],\"carpet\":[{\"aaxis\":{\"endlinecolor\":\"#2a3f5f\",\"gridcolor\":\"white\",\"linecolor\":\"white\",\"minorgridcolor\":\"white\",\"startlinecolor\":\"#2a3f5f\"},\"baxis\":{\"endlinecolor\":\"#2a3f5f\",\"gridcolor\":\"white\",\"linecolor\":\"white\",\"minorgridcolor\":\"white\",\"startlinecolor\":\"#2a3f5f\"},\"type\":\"carpet\"}],\"table\":[{\"cells\":{\"fill\":{\"color\":\"#EBF0F8\"},\"line\":{\"color\":\"white\"}},\"header\":{\"fill\":{\"color\":\"#C8D4E3\"},\"line\":{\"color\":\"white\"}},\"type\":\"table\"}],\"barpolar\":[{\"marker\":{\"line\":{\"color\":\"#E5ECF6\",\"width\":0.5},\"pattern\":{\"fillmode\":\"overlay\",\"size\":10,\"solidity\":0.2}},\"type\":\"barpolar\"}],\"pie\":[{\"automargin\":true,\"type\":\"pie\"}]},\"layout\":{\"autotypenumbers\":\"strict\",\"colorway\":[\"#636efa\",\"#EF553B\",\"#00cc96\",\"#ab63fa\",\"#FFA15A\",\"#19d3f3\",\"#FF6692\",\"#B6E880\",\"#FF97FF\",\"#FECB52\"],\"font\":{\"color\":\"#2a3f5f\"},\"hovermode\":\"closest\",\"hoverlabel\":{\"align\":\"left\"},\"paper_bgcolor\":\"white\",\"plot_bgcolor\":\"#E5ECF6\",\"polar\":{\"bgcolor\":\"#E5ECF6\",\"angularaxis\":{\"gridcolor\":\"white\",\"linecolor\":\"white\",\"ticks\":\"\"},\"radialaxis\":{\"gridcolor\":\"white\",\"linecolor\":\"white\",\"ticks\":\"\"}},\"ternary\":{\"bgcolor\":\"#E5ECF6\",\"aaxis\":{\"gridcolor\":\"white\",\"linecolor\":\"white\",\"ticks\":\"\"},\"baxis\":{\"gridcolor\":\"white\",\"linecolor\":\"white\",\"ticks\":\"\"},\"caxis\":{\"gridcolor\":\"white\",\"linecolor\":\"white\",\"ticks\":\"\"}},\"coloraxis\":{\"colorbar\":{\"outlinewidth\":0,\"ticks\":\"\"}},\"colorscale\":{\"sequential\":[[0.0,\"#0d0887\"],[0.1111111111111111,\"#46039f\"],[0.2222222222222222,\"#7201a8\"],[0.3333333333333333,\"#9c179e\"],[0.4444444444444444,\"#bd3786\"],[0.5555555555555556,\"#d8576b\"],[0.6666666666666666,\"#ed7953\"],[0.7777777777777778,\"#fb9f3a\"],[0.8888888888888888,\"#fdca26\"],[1.0,\"#f0f921\"]],\"sequentialminus\":[[0.0,\"#0d0887\"],[0.1111111111111111,\"#46039f\"],[0.2222222222222222,\"#7201a8\"],[0.3333333333333333,\"#9c179e\"],[0.4444444444444444,\"#bd3786\"],[0.5555555555555556,\"#d8576b\"],[0.6666666666666666,\"#ed7953\"],[0.7777777777777778,\"#fb9f3a\"],[0.8888888888888888,\"#fdca26\"],[1.0,\"#f0f921\"]],\"diverging\":[[0,\"#8e0152\"],[0.1,\"#c51b7d\"],[0.2,\"#de77ae\"],[0.3,\"#f1b6da\"],[0.4,\"#fde0ef\"],[0.5,\"#f7f7f7\"],[0.6,\"#e6f5d0\"],[0.7,\"#b8e186\"],[0.8,\"#7fbc41\"],[0.9,\"#4d9221\"],[1,\"#276419\"]]},\"xaxis\":{\"gridcolor\":\"white\",\"linecolor\":\"white\",\"ticks\":\"\",\"title\":{\"standoff\":15},\"zerolinecolor\":\"white\",\"automargin\":true,\"zerolinewidth\":2},\"yaxis\":{\"gridcolor\":\"white\",\"linecolor\":\"white\",\"ticks\":\"\",\"title\":{\"standoff\":15},\"zerolinecolor\":\"white\",\"automargin\":true,\"zerolinewidth\":2},\"scene\":{\"xaxis\":{\"backgroundcolor\":\"#E5ECF6\",\"gridcolor\":\"white\",\"linecolor\":\"white\",\"showbackground\":true,\"ticks\":\"\",\"zerolinecolor\":\"white\",\"gridwidth\":2},\"yaxis\":{\"backgroundcolor\":\"#E5ECF6\",\"gridcolor\":\"white\",\"linecolor\":\"white\",\"showbackground\":true,\"ticks\":\"\",\"zerolinecolor\":\"white\",\"gridwidth\":2},\"zaxis\":{\"backgroundcolor\":\"#E5ECF6\",\"gridcolor\":\"white\",\"linecolor\":\"white\",\"showbackground\":true,\"ticks\":\"\",\"zerolinecolor\":\"white\",\"gridwidth\":2}},\"shapedefaults\":{\"line\":{\"color\":\"#2a3f5f\"}},\"annotationdefaults\":{\"arrowcolor\":\"#2a3f5f\",\"arrowhead\":0,\"arrowwidth\":1},\"geo\":{\"bgcolor\":\"white\",\"landcolor\":\"#E5ECF6\",\"subunitcolor\":\"white\",\"showland\":true,\"showlakes\":true,\"lakecolor\":\"white\"},\"title\":{\"x\":0.05},\"mapbox\":{\"style\":\"light\"}}},\"xaxis\":{\"autorange\":\"reversed\"},\"yaxis\":{\"type\":\"log\"}},                        {\"responsive\": true}                    ).then(function(){\n",
       "                            \n",
       "var gd = document.getElementById('1928b070-7716-433f-90e4-befe649ca987');\n",
       "var x = new MutationObserver(function (mutations, observer) {{\n",
       "        var display = window.getComputedStyle(gd).display;\n",
       "        if (!display || display === 'none') {{\n",
       "            console.log([gd, 'removed!']);\n",
       "            Plotly.purge(gd);\n",
       "            observer.disconnect();\n",
       "        }}\n",
       "}});\n",
       "\n",
       "// Listen for the removal of the full notebook cells\n",
       "var notebookContainer = gd.closest('#notebook-container');\n",
       "if (notebookContainer) {{\n",
       "    x.observe(notebookContainer, {childList: true});\n",
       "}}\n",
       "\n",
       "// Listen for the clearing of the current output cell\n",
       "var outputEl = gd.closest('.output');\n",
       "if (outputEl) {{\n",
       "    x.observe(outputEl, {childList: true});\n",
       "}}\n",
       "\n",
       "                        })                };                });            </script>        </div>"
      ]
     },
     "metadata": {},
     "output_type": "display_data"
    }
   ],
   "source": [
    "#kr-vs-kp\n",
    "#sylvine\n",
    "# volkert takes much time (consider)\n",
    "\n",
    "\n",
    "dataset = \"nomao\"\n",
    "fs_method = \"decision_tree\"\n",
    "\n",
    "\n",
    "cos_df = scores_df.query(\n",
    "    \"dataset==@dataset \"\n",
    "    \"and fs_method==@fs_method\"\n",
    ")\n",
    "\n",
    "# Figure showing the balanced accuracy\n",
    "fig = go.Figure()\n",
    "\n",
    "for m in cos_df[\"model\"].unique():\n",
    "    \n",
    "    plot_df = cos_df.query(\n",
    "            \"model==@m \"\n",
    "        )\n",
    "        \n",
    "    idx_mins = plot_df.groupby([\"fs_percent\"])[\"balanced_accuracy_mean\"].idxmax()\n",
    "    plot_df = plot_df.loc[idx_mins]\n",
    "        \n",
    "    fig.add_trace(go.Scatter(\n",
    "        x=plot_df[\"fs_percent\"],\n",
    "        y=plot_df[\"balanced_accuracy_mean\"],\n",
    "        name=df_replacements[\"model\"][m],\n",
    "        error_y=dict(\n",
    "            type=\"data\",\n",
    "            array=plot_df[\"balanced_accuracy_std\"],\n",
    "            visible=True\n",
    "        )\n",
    "    ))\n",
    "    \n",
    "fig.update_xaxes(autorange=\"reversed\")\n",
    "fig.show()\n",
    "\n",
    "# Figure showing the time until search the balanced accuracy in the last plot\n",
    "fig = go.Figure()\n",
    "\n",
    "for m in cos_df[\"model\"].unique():\n",
    "    \n",
    "    plot_df = cos_df.query(\n",
    "            \"model==@m \"\n",
    "        )\n",
    "    \n",
    "    times_df = plot_df.groupby([\"fs_percent\"], as_index=False).sum()[[\"fs_percent\", \"training_time_sum\", \"inference_time_sum\"]]\n",
    "    times_df = times_df.sort_values(\"fs_percent\", ascending=False)\n",
    "    \n",
    "    if m in [\"transformer/cls\", \"mlp/simple\"]:\n",
    "        times_df[\"training_time_sum\"] = 0\n",
    "        \n",
    "    times_df.loc[times_df[\"fs_percent\"] == 1, \"training_time_sum\"] = 0\n",
    "    times_df.loc[times_df[\"fs_percent\"] == 1, \"inference_time_sum\"] = 0\n",
    "    \n",
    "    fig.add_trace(go.Scatter(\n",
    "        x=times_df[\"fs_percent\"],\n",
    "        #y=np.cumsum((times_df[\"training_time_sum\"] + times_df[\"inference_time_sum\"]).values),\n",
    "        y=times_df[\"training_time_sum\"] + times_df[\"inference_time_sum\"],\n",
    "        name=df_replacements[\"model\"][m],\n",
    "        error_y=dict(\n",
    "            type=\"data\",\n",
    "            array=plot_df[\"balanced_accuracy_std\"],\n",
    "            visible=True\n",
    "        )\n",
    "    ))\n",
    "    \n",
    "fig.update_xaxes(autorange=\"reversed\")\n",
    "fig.update_yaxes(type=\"log\")\n",
    "fig.show()"
   ]
  },
  {
   "cell_type": "code",
   "execution_count": null,
   "id": "62ad43b7",
   "metadata": {},
   "outputs": [],
   "source": []
  },
  {
   "cell_type": "code",
   "execution_count": null,
   "id": "f756353a",
   "metadata": {},
   "outputs": [],
   "source": []
  }
 ],
 "metadata": {
  "kernelspec": {
   "display_name": "Python 3 (ipykernel)",
   "language": "python",
   "name": "python3"
  },
  "language_info": {
   "codemirror_mode": {
    "name": "ipython",
    "version": 3
   },
   "file_extension": ".py",
   "mimetype": "text/x-python",
   "name": "python",
   "nbconvert_exporter": "python",
   "pygments_lexer": "ipython3",
   "version": "3.11.7"
  }
 },
 "nbformat": 4,
 "nbformat_minor": 5
}
