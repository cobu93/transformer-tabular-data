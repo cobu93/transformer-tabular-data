{
 "cells": [
  {
   "cell_type": "code",
   "execution_count": 55,
   "id": "ec40fa70",
   "metadata": {},
   "outputs": [],
   "source": [
    "import pandas as pd\n",
    "import plotly\n",
    "import plotly.graph_objects as go\n",
    "from plotly import subplots\n",
    "import numpy as np\n",
    "from config import ASSETS_DIR\n",
    "import os\n",
    "from scipy.stats import spearmanr\n",
    "\n",
    "\n",
    "IMG_SCALE = 2.5\n",
    "COLORS = plotly.colors.qualitative.Plotly\n",
    "\n",
    "DATASET_ORDER = [\"volkert\", \"jasmine\", \"nomao\", \"anneal\", \"kr-vs-kp\", \"sylvine\", \"australian\", \"adult\", \"ldpa\"]"
   ]
  },
  {
   "cell_type": "code",
   "execution_count": 56,
   "id": "cb0d41a2",
   "metadata": {
    "scrolled": true
   },
   "outputs": [
    {
     "data": {
      "text/html": [
       "<div>\n",
       "<style scoped>\n",
       "    .dataframe tbody tr th:only-of-type {\n",
       "        vertical-align: middle;\n",
       "    }\n",
       "\n",
       "    .dataframe tbody tr th {\n",
       "        vertical-align: top;\n",
       "    }\n",
       "\n",
       "    .dataframe thead th {\n",
       "        text-align: right;\n",
       "    }\n",
       "</style>\n",
       "<table border=\"1\" class=\"dataframe\">\n",
       "  <thead>\n",
       "    <tr style=\"text-align: right;\">\n",
       "      <th></th>\n",
       "      <th>dataset</th>\n",
       "      <th>model</th>\n",
       "      <th>architecture_name</th>\n",
       "      <th>fs_method</th>\n",
       "      <th>fs_percent</th>\n",
       "      <th>fs_n_features</th>\n",
       "      <th>balanced_accuracy_mean</th>\n",
       "      <th>balanced_accuracy_std</th>\n",
       "      <th>balanced_accuracy_sum</th>\n",
       "      <th>accuracy_mean</th>\n",
       "      <th>...</th>\n",
       "      <th>roc_auc_sum</th>\n",
       "      <th>f1_mean</th>\n",
       "      <th>f1_std</th>\n",
       "      <th>f1_sum</th>\n",
       "      <th>precision_mean</th>\n",
       "      <th>precision_std</th>\n",
       "      <th>precision_sum</th>\n",
       "      <th>recall_mean</th>\n",
       "      <th>recall_std</th>\n",
       "      <th>recall_sum</th>\n",
       "    </tr>\n",
       "  </thead>\n",
       "  <tbody>\n",
       "    <tr>\n",
       "      <th>0</th>\n",
       "      <td>adult</td>\n",
       "      <td>mlp/simple</td>\n",
       "      <td>A0</td>\n",
       "      <td>decision_tree</td>\n",
       "      <td>0.4</td>\n",
       "      <td>5</td>\n",
       "      <td>0.559230</td>\n",
       "      <td>0.011023</td>\n",
       "      <td>2.796152</td>\n",
       "      <td>0.774704</td>\n",
       "      <td>...</td>\n",
       "      <td>2.796152</td>\n",
       "      <td>0.867831</td>\n",
       "      <td>0.003999</td>\n",
       "      <td>4.339155</td>\n",
       "      <td>0.783015</td>\n",
       "      <td>0.004897</td>\n",
       "      <td>3.915077</td>\n",
       "      <td>0.973501</td>\n",
       "      <td>0.017234</td>\n",
       "      <td>4.867504</td>\n",
       "    </tr>\n",
       "    <tr>\n",
       "      <th>1</th>\n",
       "      <td>adult</td>\n",
       "      <td>mlp/simple</td>\n",
       "      <td>A0</td>\n",
       "      <td>decision_tree</td>\n",
       "      <td>0.5</td>\n",
       "      <td>7</td>\n",
       "      <td>0.721856</td>\n",
       "      <td>0.024760</td>\n",
       "      <td>3.609278</td>\n",
       "      <td>0.826402</td>\n",
       "      <td>...</td>\n",
       "      <td>3.609278</td>\n",
       "      <td>0.889818</td>\n",
       "      <td>0.003944</td>\n",
       "      <td>4.449092</td>\n",
       "      <td>0.859730</td>\n",
       "      <td>0.015438</td>\n",
       "      <td>4.298652</td>\n",
       "      <td>0.922858</td>\n",
       "      <td>0.025048</td>\n",
       "      <td>4.614289</td>\n",
       "    </tr>\n",
       "    <tr>\n",
       "      <th>2</th>\n",
       "      <td>adult</td>\n",
       "      <td>mlp/simple</td>\n",
       "      <td>A0</td>\n",
       "      <td>decision_tree</td>\n",
       "      <td>0.6</td>\n",
       "      <td>8</td>\n",
       "      <td>0.721225</td>\n",
       "      <td>0.035442</td>\n",
       "      <td>3.606124</td>\n",
       "      <td>0.824278</td>\n",
       "      <td>...</td>\n",
       "      <td>3.606124</td>\n",
       "      <td>0.888150</td>\n",
       "      <td>0.006350</td>\n",
       "      <td>4.440748</td>\n",
       "      <td>0.860530</td>\n",
       "      <td>0.023391</td>\n",
       "      <td>4.302648</td>\n",
       "      <td>0.919356</td>\n",
       "      <td>0.037475</td>\n",
       "      <td>4.596781</td>\n",
       "    </tr>\n",
       "    <tr>\n",
       "      <th>3</th>\n",
       "      <td>adult</td>\n",
       "      <td>mlp/simple</td>\n",
       "      <td>A0</td>\n",
       "      <td>decision_tree</td>\n",
       "      <td>0.7</td>\n",
       "      <td>9</td>\n",
       "      <td>0.742855</td>\n",
       "      <td>0.023515</td>\n",
       "      <td>3.714276</td>\n",
       "      <td>0.827477</td>\n",
       "      <td>...</td>\n",
       "      <td>3.714276</td>\n",
       "      <td>0.888510</td>\n",
       "      <td>0.006807</td>\n",
       "      <td>4.442549</td>\n",
       "      <td>0.872982</td>\n",
       "      <td>0.016502</td>\n",
       "      <td>4.364908</td>\n",
       "      <td>0.905550</td>\n",
       "      <td>0.029202</td>\n",
       "      <td>4.527752</td>\n",
       "    </tr>\n",
       "    <tr>\n",
       "      <th>4</th>\n",
       "      <td>adult</td>\n",
       "      <td>mlp/simple</td>\n",
       "      <td>A0</td>\n",
       "      <td>decision_tree</td>\n",
       "      <td>0.8</td>\n",
       "      <td>11</td>\n",
       "      <td>0.753598</td>\n",
       "      <td>0.016400</td>\n",
       "      <td>3.767988</td>\n",
       "      <td>0.831879</td>\n",
       "      <td>...</td>\n",
       "      <td>3.767988</td>\n",
       "      <td>0.890887</td>\n",
       "      <td>0.007124</td>\n",
       "      <td>4.454437</td>\n",
       "      <td>0.878726</td>\n",
       "      <td>0.012858</td>\n",
       "      <td>4.393628</td>\n",
       "      <td>0.904102</td>\n",
       "      <td>0.026838</td>\n",
       "      <td>4.520509</td>\n",
       "    </tr>\n",
       "  </tbody>\n",
       "</table>\n",
       "<p>5 rows × 33 columns</p>\n",
       "</div>"
      ],
      "text/plain": [
       "  dataset       model architecture_name      fs_method  fs_percent  \\\n",
       "0   adult  mlp/simple                A0  decision_tree         0.4   \n",
       "1   adult  mlp/simple                A0  decision_tree         0.5   \n",
       "2   adult  mlp/simple                A0  decision_tree         0.6   \n",
       "3   adult  mlp/simple                A0  decision_tree         0.7   \n",
       "4   adult  mlp/simple                A0  decision_tree         0.8   \n",
       "\n",
       "   fs_n_features  balanced_accuracy_mean  balanced_accuracy_std  \\\n",
       "0              5                0.559230               0.011023   \n",
       "1              7                0.721856               0.024760   \n",
       "2              8                0.721225               0.035442   \n",
       "3              9                0.742855               0.023515   \n",
       "4             11                0.753598               0.016400   \n",
       "\n",
       "   balanced_accuracy_sum  accuracy_mean  ...  roc_auc_sum   f1_mean    f1_std  \\\n",
       "0               2.796152       0.774704  ...     2.796152  0.867831  0.003999   \n",
       "1               3.609278       0.826402  ...     3.609278  0.889818  0.003944   \n",
       "2               3.606124       0.824278  ...     3.606124  0.888150  0.006350   \n",
       "3               3.714276       0.827477  ...     3.714276  0.888510  0.006807   \n",
       "4               3.767988       0.831879  ...     3.767988  0.890887  0.007124   \n",
       "\n",
       "     f1_sum  precision_mean  precision_std  precision_sum  recall_mean  \\\n",
       "0  4.339155        0.783015       0.004897       3.915077     0.973501   \n",
       "1  4.449092        0.859730       0.015438       4.298652     0.922858   \n",
       "2  4.440748        0.860530       0.023391       4.302648     0.919356   \n",
       "3  4.442549        0.872982       0.016502       4.364908     0.905550   \n",
       "4  4.454437        0.878726       0.012858       4.393628     0.904102   \n",
       "\n",
       "   recall_std  recall_sum  \n",
       "0    0.017234    4.867504  \n",
       "1    0.025048    4.614289  \n",
       "2    0.037475    4.596781  \n",
       "3    0.029202    4.527752  \n",
       "4    0.026838    4.520509  \n",
       "\n",
       "[5 rows x 33 columns]"
      ]
     },
     "execution_count": 56,
     "metadata": {},
     "output_type": "execute_result"
    }
   ],
   "source": [
    "scores_df = pd.read_csv(\"fs_efficency/scores.csv\")\n",
    "scores_df = scores_df.query(\n",
    "    \"dataset not in ['anneal', 'ldpa'] \"  \n",
    "    #\"and fs_percent>=0.5 \"                \n",
    ")\n",
    "scores_df.head()"
   ]
  },
  {
   "cell_type": "markdown",
   "id": "4d8ee622",
   "metadata": {},
   "source": [
    "# Adding best architectures cases"
   ]
  },
  {
   "cell_type": "code",
   "execution_count": 57,
   "id": "56a0cb3f",
   "metadata": {
    "scrolled": false
   },
   "outputs": [
    {
     "data": {
      "text/html": [
       "<div>\n",
       "<style scoped>\n",
       "    .dataframe tbody tr th:only-of-type {\n",
       "        vertical-align: middle;\n",
       "    }\n",
       "\n",
       "    .dataframe tbody tr th {\n",
       "        vertical-align: top;\n",
       "    }\n",
       "\n",
       "    .dataframe thead th {\n",
       "        text-align: right;\n",
       "    }\n",
       "</style>\n",
       "<table border=\"1\" class=\"dataframe\">\n",
       "  <thead>\n",
       "    <tr style=\"text-align: right;\">\n",
       "      <th></th>\n",
       "      <th>dataset</th>\n",
       "      <th>model</th>\n",
       "      <th>architecture_name</th>\n",
       "      <th>fs_method</th>\n",
       "      <th>fs_percent</th>\n",
       "      <th>fs_n_features</th>\n",
       "      <th>balanced_accuracy_mean</th>\n",
       "      <th>balanced_accuracy_std</th>\n",
       "      <th>balanced_accuracy_sum</th>\n",
       "      <th>accuracy_mean</th>\n",
       "      <th>...</th>\n",
       "      <th>roc_auc_sum</th>\n",
       "      <th>f1_mean</th>\n",
       "      <th>f1_std</th>\n",
       "      <th>f1_sum</th>\n",
       "      <th>precision_mean</th>\n",
       "      <th>precision_std</th>\n",
       "      <th>precision_sum</th>\n",
       "      <th>recall_mean</th>\n",
       "      <th>recall_std</th>\n",
       "      <th>recall_sum</th>\n",
       "    </tr>\n",
       "  </thead>\n",
       "  <tbody>\n",
       "    <tr>\n",
       "      <th>0</th>\n",
       "      <td>adult</td>\n",
       "      <td>mlp/simple</td>\n",
       "      <td>A0</td>\n",
       "      <td>decision_tree</td>\n",
       "      <td>0.4</td>\n",
       "      <td>5</td>\n",
       "      <td>0.559230</td>\n",
       "      <td>0.011023</td>\n",
       "      <td>2.796152</td>\n",
       "      <td>0.774704</td>\n",
       "      <td>...</td>\n",
       "      <td>2.796152</td>\n",
       "      <td>0.867831</td>\n",
       "      <td>0.003999</td>\n",
       "      <td>4.339155</td>\n",
       "      <td>0.783015</td>\n",
       "      <td>0.004897</td>\n",
       "      <td>3.915077</td>\n",
       "      <td>0.973501</td>\n",
       "      <td>0.017234</td>\n",
       "      <td>4.867504</td>\n",
       "    </tr>\n",
       "    <tr>\n",
       "      <th>1</th>\n",
       "      <td>adult</td>\n",
       "      <td>mlp/simple</td>\n",
       "      <td>A0</td>\n",
       "      <td>decision_tree</td>\n",
       "      <td>0.5</td>\n",
       "      <td>7</td>\n",
       "      <td>0.721856</td>\n",
       "      <td>0.024760</td>\n",
       "      <td>3.609278</td>\n",
       "      <td>0.826402</td>\n",
       "      <td>...</td>\n",
       "      <td>3.609278</td>\n",
       "      <td>0.889818</td>\n",
       "      <td>0.003944</td>\n",
       "      <td>4.449092</td>\n",
       "      <td>0.859730</td>\n",
       "      <td>0.015438</td>\n",
       "      <td>4.298652</td>\n",
       "      <td>0.922858</td>\n",
       "      <td>0.025048</td>\n",
       "      <td>4.614289</td>\n",
       "    </tr>\n",
       "    <tr>\n",
       "      <th>2</th>\n",
       "      <td>adult</td>\n",
       "      <td>mlp/simple</td>\n",
       "      <td>A0</td>\n",
       "      <td>decision_tree</td>\n",
       "      <td>0.6</td>\n",
       "      <td>8</td>\n",
       "      <td>0.721225</td>\n",
       "      <td>0.035442</td>\n",
       "      <td>3.606124</td>\n",
       "      <td>0.824278</td>\n",
       "      <td>...</td>\n",
       "      <td>3.606124</td>\n",
       "      <td>0.888150</td>\n",
       "      <td>0.006350</td>\n",
       "      <td>4.440748</td>\n",
       "      <td>0.860530</td>\n",
       "      <td>0.023391</td>\n",
       "      <td>4.302648</td>\n",
       "      <td>0.919356</td>\n",
       "      <td>0.037475</td>\n",
       "      <td>4.596781</td>\n",
       "    </tr>\n",
       "    <tr>\n",
       "      <th>3</th>\n",
       "      <td>adult</td>\n",
       "      <td>mlp/simple</td>\n",
       "      <td>A0</td>\n",
       "      <td>decision_tree</td>\n",
       "      <td>0.7</td>\n",
       "      <td>9</td>\n",
       "      <td>0.742855</td>\n",
       "      <td>0.023515</td>\n",
       "      <td>3.714276</td>\n",
       "      <td>0.827477</td>\n",
       "      <td>...</td>\n",
       "      <td>3.714276</td>\n",
       "      <td>0.888510</td>\n",
       "      <td>0.006807</td>\n",
       "      <td>4.442549</td>\n",
       "      <td>0.872982</td>\n",
       "      <td>0.016502</td>\n",
       "      <td>4.364908</td>\n",
       "      <td>0.905550</td>\n",
       "      <td>0.029202</td>\n",
       "      <td>4.527752</td>\n",
       "    </tr>\n",
       "    <tr>\n",
       "      <th>4</th>\n",
       "      <td>adult</td>\n",
       "      <td>mlp/simple</td>\n",
       "      <td>A0</td>\n",
       "      <td>decision_tree</td>\n",
       "      <td>0.8</td>\n",
       "      <td>11</td>\n",
       "      <td>0.753598</td>\n",
       "      <td>0.016400</td>\n",
       "      <td>3.767988</td>\n",
       "      <td>0.831879</td>\n",
       "      <td>...</td>\n",
       "      <td>3.767988</td>\n",
       "      <td>0.890887</td>\n",
       "      <td>0.007124</td>\n",
       "      <td>4.454437</td>\n",
       "      <td>0.878726</td>\n",
       "      <td>0.012858</td>\n",
       "      <td>4.393628</td>\n",
       "      <td>0.904102</td>\n",
       "      <td>0.026838</td>\n",
       "      <td>4.520509</td>\n",
       "    </tr>\n",
       "    <tr>\n",
       "      <th>...</th>\n",
       "      <td>...</td>\n",
       "      <td>...</td>\n",
       "      <td>...</td>\n",
       "      <td>...</td>\n",
       "      <td>...</td>\n",
       "      <td>...</td>\n",
       "      <td>...</td>\n",
       "      <td>...</td>\n",
       "      <td>...</td>\n",
       "      <td>...</td>\n",
       "      <td>...</td>\n",
       "      <td>...</td>\n",
       "      <td>...</td>\n",
       "      <td>...</td>\n",
       "      <td>...</td>\n",
       "      <td>...</td>\n",
       "      <td>...</td>\n",
       "      <td>...</td>\n",
       "      <td>...</td>\n",
       "      <td>...</td>\n",
       "      <td>...</td>\n",
       "    </tr>\n",
       "    <tr>\n",
       "      <th>5931</th>\n",
       "      <td>volkert</td>\n",
       "      <td>xgboost/best</td>\n",
       "      <td>A3</td>\n",
       "      <td>random_1</td>\n",
       "      <td>1.0</td>\n",
       "      <td>180</td>\n",
       "      <td>0.609670</td>\n",
       "      <td>0.008966</td>\n",
       "      <td>3.048349</td>\n",
       "      <td>0.701337</td>\n",
       "      <td>...</td>\n",
       "      <td>0.000000</td>\n",
       "      <td>NaN</td>\n",
       "      <td>NaN</td>\n",
       "      <td>0.000000</td>\n",
       "      <td>NaN</td>\n",
       "      <td>NaN</td>\n",
       "      <td>0.000000</td>\n",
       "      <td>NaN</td>\n",
       "      <td>NaN</td>\n",
       "      <td>0.000000</td>\n",
       "    </tr>\n",
       "    <tr>\n",
       "      <th>5932</th>\n",
       "      <td>volkert</td>\n",
       "      <td>xgboost/best</td>\n",
       "      <td>A3</td>\n",
       "      <td>random_2</td>\n",
       "      <td>1.0</td>\n",
       "      <td>180</td>\n",
       "      <td>0.609670</td>\n",
       "      <td>0.008966</td>\n",
       "      <td>3.048349</td>\n",
       "      <td>0.701337</td>\n",
       "      <td>...</td>\n",
       "      <td>0.000000</td>\n",
       "      <td>NaN</td>\n",
       "      <td>NaN</td>\n",
       "      <td>0.000000</td>\n",
       "      <td>NaN</td>\n",
       "      <td>NaN</td>\n",
       "      <td>0.000000</td>\n",
       "      <td>NaN</td>\n",
       "      <td>NaN</td>\n",
       "      <td>0.000000</td>\n",
       "    </tr>\n",
       "    <tr>\n",
       "      <th>5933</th>\n",
       "      <td>volkert</td>\n",
       "      <td>xgboost/best</td>\n",
       "      <td>A3</td>\n",
       "      <td>random_3</td>\n",
       "      <td>1.0</td>\n",
       "      <td>180</td>\n",
       "      <td>0.609670</td>\n",
       "      <td>0.008966</td>\n",
       "      <td>3.048349</td>\n",
       "      <td>0.701337</td>\n",
       "      <td>...</td>\n",
       "      <td>0.000000</td>\n",
       "      <td>NaN</td>\n",
       "      <td>NaN</td>\n",
       "      <td>0.000000</td>\n",
       "      <td>NaN</td>\n",
       "      <td>NaN</td>\n",
       "      <td>0.000000</td>\n",
       "      <td>NaN</td>\n",
       "      <td>NaN</td>\n",
       "      <td>0.000000</td>\n",
       "    </tr>\n",
       "    <tr>\n",
       "      <th>5934</th>\n",
       "      <td>volkert</td>\n",
       "      <td>xgboost/best</td>\n",
       "      <td>A3</td>\n",
       "      <td>random_4</td>\n",
       "      <td>1.0</td>\n",
       "      <td>180</td>\n",
       "      <td>0.609670</td>\n",
       "      <td>0.008966</td>\n",
       "      <td>3.048349</td>\n",
       "      <td>0.701337</td>\n",
       "      <td>...</td>\n",
       "      <td>0.000000</td>\n",
       "      <td>NaN</td>\n",
       "      <td>NaN</td>\n",
       "      <td>0.000000</td>\n",
       "      <td>NaN</td>\n",
       "      <td>NaN</td>\n",
       "      <td>0.000000</td>\n",
       "      <td>NaN</td>\n",
       "      <td>NaN</td>\n",
       "      <td>0.000000</td>\n",
       "    </tr>\n",
       "    <tr>\n",
       "      <th>5935</th>\n",
       "      <td>volkert</td>\n",
       "      <td>xgboost/best</td>\n",
       "      <td>A3</td>\n",
       "      <td>random_5</td>\n",
       "      <td>1.0</td>\n",
       "      <td>180</td>\n",
       "      <td>0.609670</td>\n",
       "      <td>0.008966</td>\n",
       "      <td>3.048349</td>\n",
       "      <td>0.701337</td>\n",
       "      <td>...</td>\n",
       "      <td>0.000000</td>\n",
       "      <td>NaN</td>\n",
       "      <td>NaN</td>\n",
       "      <td>0.000000</td>\n",
       "      <td>NaN</td>\n",
       "      <td>NaN</td>\n",
       "      <td>0.000000</td>\n",
       "      <td>NaN</td>\n",
       "      <td>NaN</td>\n",
       "      <td>0.000000</td>\n",
       "    </tr>\n",
       "  </tbody>\n",
       "</table>\n",
       "<p>5936 rows × 33 columns</p>\n",
       "</div>"
      ],
      "text/plain": [
       "      dataset         model architecture_name      fs_method  fs_percent  \\\n",
       "0       adult    mlp/simple                A0  decision_tree         0.4   \n",
       "1       adult    mlp/simple                A0  decision_tree         0.5   \n",
       "2       adult    mlp/simple                A0  decision_tree         0.6   \n",
       "3       adult    mlp/simple                A0  decision_tree         0.7   \n",
       "4       adult    mlp/simple                A0  decision_tree         0.8   \n",
       "...       ...           ...               ...            ...         ...   \n",
       "5931  volkert  xgboost/best                A3       random_1         1.0   \n",
       "5932  volkert  xgboost/best                A3       random_2         1.0   \n",
       "5933  volkert  xgboost/best                A3       random_3         1.0   \n",
       "5934  volkert  xgboost/best                A3       random_4         1.0   \n",
       "5935  volkert  xgboost/best                A3       random_5         1.0   \n",
       "\n",
       "      fs_n_features  balanced_accuracy_mean  balanced_accuracy_std  \\\n",
       "0                 5                0.559230               0.011023   \n",
       "1                 7                0.721856               0.024760   \n",
       "2                 8                0.721225               0.035442   \n",
       "3                 9                0.742855               0.023515   \n",
       "4                11                0.753598               0.016400   \n",
       "...             ...                     ...                    ...   \n",
       "5931            180                0.609670               0.008966   \n",
       "5932            180                0.609670               0.008966   \n",
       "5933            180                0.609670               0.008966   \n",
       "5934            180                0.609670               0.008966   \n",
       "5935            180                0.609670               0.008966   \n",
       "\n",
       "      balanced_accuracy_sum  accuracy_mean  ...  roc_auc_sum   f1_mean  \\\n",
       "0                  2.796152       0.774704  ...     2.796152  0.867831   \n",
       "1                  3.609278       0.826402  ...     3.609278  0.889818   \n",
       "2                  3.606124       0.824278  ...     3.606124  0.888150   \n",
       "3                  3.714276       0.827477  ...     3.714276  0.888510   \n",
       "4                  3.767988       0.831879  ...     3.767988  0.890887   \n",
       "...                     ...            ...  ...          ...       ...   \n",
       "5931               3.048349       0.701337  ...     0.000000       NaN   \n",
       "5932               3.048349       0.701337  ...     0.000000       NaN   \n",
       "5933               3.048349       0.701337  ...     0.000000       NaN   \n",
       "5934               3.048349       0.701337  ...     0.000000       NaN   \n",
       "5935               3.048349       0.701337  ...     0.000000       NaN   \n",
       "\n",
       "        f1_std    f1_sum  precision_mean  precision_std  precision_sum  \\\n",
       "0     0.003999  4.339155        0.783015       0.004897       3.915077   \n",
       "1     0.003944  4.449092        0.859730       0.015438       4.298652   \n",
       "2     0.006350  4.440748        0.860530       0.023391       4.302648   \n",
       "3     0.006807  4.442549        0.872982       0.016502       4.364908   \n",
       "4     0.007124  4.454437        0.878726       0.012858       4.393628   \n",
       "...        ...       ...             ...            ...            ...   \n",
       "5931       NaN  0.000000             NaN            NaN       0.000000   \n",
       "5932       NaN  0.000000             NaN            NaN       0.000000   \n",
       "5933       NaN  0.000000             NaN            NaN       0.000000   \n",
       "5934       NaN  0.000000             NaN            NaN       0.000000   \n",
       "5935       NaN  0.000000             NaN            NaN       0.000000   \n",
       "\n",
       "      recall_mean  recall_std  recall_sum  \n",
       "0        0.973501    0.017234    4.867504  \n",
       "1        0.922858    0.025048    4.614289  \n",
       "2        0.919356    0.037475    4.596781  \n",
       "3        0.905550    0.029202    4.527752  \n",
       "4        0.904102    0.026838    4.520509  \n",
       "...           ...         ...         ...  \n",
       "5931          NaN         NaN    0.000000  \n",
       "5932          NaN         NaN    0.000000  \n",
       "5933          NaN         NaN    0.000000  \n",
       "5934          NaN         NaN    0.000000  \n",
       "5935          NaN         NaN    0.000000  \n",
       "\n",
       "[5936 rows x 33 columns]"
      ]
     },
     "execution_count": 57,
     "metadata": {},
     "output_type": "execute_result"
    }
   ],
   "source": [
    "best_archs_indices = scores_df.query(\n",
    "    \"fs_percent==1 \"\n",
    "    \"and fs_method=='decision_tree' \" # The method is not relevant\n",
    "    \"and model in ['mlp/full', 'mlp/full_nd', 'mlp/full_nd_nn', 'xgboost']\").groupby([\"dataset\", \"model\"])[\"balanced_accuracy_mean\"].idxmax()\n",
    "\n",
    "best_archs_df = scores_df.loc[best_archs_indices, [\"dataset\", \"model\", \"architecture_name\"]]\n",
    "\n",
    "for r in best_archs_df.iloc:\n",
    "    ds = r[\"dataset\"]\n",
    "    m = r[\"model\"]\n",
    "    a = r[\"architecture_name\"]\n",
    "    \n",
    "    only_best_arch = scores_df.query(\"dataset==@ds and model==@m and architecture_name==@a\").copy()\n",
    "    only_best_arch[\"model\"] = only_best_arch[\"model\"] + \"/best\"\n",
    "    \n",
    "    scores_df = pd.concat([scores_df, only_best_arch], axis=0)\n",
    "\n",
    "scores_df = scores_df.reset_index(drop=True)\n",
    "scores_df"
   ]
  },
  {
   "cell_type": "code",
   "execution_count": 58,
   "id": "124397b9",
   "metadata": {},
   "outputs": [
    {
     "data": {
      "text/plain": [
       "array(['mlp/simple', 'mlp/simple_nd', 'mlp/simple_nd_nn',\n",
       "       'transformer/cls', 'xgboost', 'xgboost/best'], dtype=object)"
      ]
     },
     "execution_count": 58,
     "metadata": {},
     "output_type": "execute_result"
    }
   ],
   "source": [
    "ignored_models = [\n",
    "    \"mlp/full\", \n",
    "    \"mlp/full/best\", \n",
    "    \"mlp/full_nd\", \n",
    "    \"mlp/full_nd/best\", \n",
    "    \"mlp/full_nd_nn\", \n",
    "    \"mlp/full_nd_nn/best\"\n",
    "]\n",
    "scores_df = scores_df.query(\"model not in @ignored_models\")\n",
    "scores_df[\"model\"].unique()"
   ]
  },
  {
   "cell_type": "code",
   "execution_count": 59,
   "id": "cd8d997a",
   "metadata": {},
   "outputs": [],
   "source": [
    "df_replacements = {\n",
    "    \"model\": {\n",
    "       \"transformer/cls\": \"FT-Transformer\",\n",
    "       #\"mlp/full\": \"MLP + HS\",\n",
    "       #\"mlp/full/best\": \"MLP*\",\n",
    "       #\"mlp/simple\": \"MLP* + Pruning\",\n",
    "       \"mlp/simple\": \"MLP + Pruning\",\n",
    "       \"mlp/simple_nd\": \"MLP + Pruning - Dropout\",\n",
    "       \"mlp/simple_nd_nn\": \"MLP + Pruning - Dropout - Non-linearity\",\n",
    "       \"xgboost\": \"XGBoost + HS\",\n",
    "       \"xgboost/best\": \"XGBoost\"\n",
    "    },\n",
    "    \"fs_method\": {\n",
    "        \"decision_tree\": \"Decision tree\",\n",
    "        \"f_classif\": \"F-score\",\n",
    "        \"linear_model\": \"Linear model\"\n",
    "    }\n",
    "}"
   ]
  },
  {
   "cell_type": "markdown",
   "id": "02a5ff64",
   "metadata": {},
   "source": [
    "# NN as a proxy"
   ]
  },
  {
   "cell_type": "code",
   "execution_count": 60,
   "id": "0bd7dd61",
   "metadata": {
    "scrolled": true
   },
   "outputs": [
    {
     "name": "stdout",
     "output_type": "stream",
     "text": [
      "======= accuracy\n",
      "MLP + Pruning : SignificanceResult(statistic=0.9505208899715116, pvalue=1.2168784313479212e-171)\n",
      "MLP + Pruning - Dropout : SignificanceResult(statistic=0.9218466137703211, pvalue=1.5071769145782778e-139)\n",
      "MLP + Pruning - Dropout - Non-linearity : SignificanceResult(statistic=0.8868903392655567, pvalue=4.738752804788799e-114)\n",
      "FT-Transformer : SignificanceResult(statistic=0.9454054537129859, pvalue=1.0779245155026683e-164)\n",
      "======= log_loss\n",
      "MLP + Pruning : SignificanceResult(statistic=0.8322977230334847, pvalue=1.3716293154074175e-87)\n",
      "MLP + Pruning - Dropout : SignificanceResult(statistic=0.788185920302832, pvalue=2.1364877774301832e-72)\n",
      "MLP + Pruning - Dropout - Non-linearity : SignificanceResult(statistic=0.8182236410506678, pvalue=2.6920239020927106e-82)\n",
      "FT-Transformer : SignificanceResult(statistic=0.7191770795149137, pvalue=9.300065720170505e-55)\n",
      "======= balanced_accuracy\n",
      "MLP + Pruning : SignificanceResult(statistic=0.9523156487479825, pvalue=2.9611189837059474e-174)\n",
      "MLP + Pruning - Dropout : SignificanceResult(statistic=0.9281500054728511, pvalue=2.059197711506319e-145)\n",
      "MLP + Pruning - Dropout - Non-linearity : SignificanceResult(statistic=0.8960389211460213, pvalue=8.035417491500636e-120)\n",
      "FT-Transformer : SignificanceResult(statistic=0.9256550514918718, pvalue=4.973703749280699e-143)\n"
     ]
    }
   ],
   "source": [
    "for metric in [\"accuracy\", \"log_loss\", \"balanced_accuracy\"]:\n",
    "    full_cos_df = None\n",
    "\n",
    "    for ds in scores_df[\"dataset\"].unique():\n",
    "\n",
    "        cos_df = None\n",
    "\n",
    "        for g_d, g in scores_df.query(\n",
    "                \"fs_percent<1 \"\n",
    "                #\"and model in ['transformer/cls', 'mlp/simple', 'xgboost/best'] \"\n",
    "                \"and dataset==@ds \"\n",
    "            ).groupby([\"model\", \"architecture_name\"], as_index=False):\n",
    "\n",
    "            model_name = \"{}_{}\".format(*g_d) if g_d[0] == \"xgboost\" else g_d[0]\n",
    "\n",
    "            mod_g = g[[\"dataset\", \"fs_method\", \"fs_percent\", f\"{metric}_mean\"]]\n",
    "            mod_g.columns = [\"dataset\", \"fs_method\", \"fs_percent\", model_name ]\n",
    "\n",
    "            if cos_df is None:\n",
    "                cos_df = mod_g\n",
    "                continue\n",
    "\n",
    "            cos_df = cos_df.merge(\n",
    "                mod_g,\n",
    "                on = [\"dataset\", \"fs_method\", \"fs_percent\"]\n",
    "            )\n",
    "\n",
    "        if full_cos_df is None:\n",
    "            full_cos_df = cos_df.copy()\n",
    "            continue\n",
    "\n",
    "        full_cos_df = pd.concat([full_cos_df, cos_df], axis=0)\n",
    "        \n",
    "    print(\"=======\", metric)\n",
    "    for m in scores_df[\"model\"].unique():\n",
    "        if \"xgboost\" in m:\n",
    "            continue\n",
    "            \n",
    "        print(df_replacements[\"model\"][m], \":\", spearmanr(full_cos_df[m], full_cos_df[\"xgboost/best\"]))"
   ]
  },
  {
   "cell_type": "code",
   "execution_count": 61,
   "id": "02826d33",
   "metadata": {},
   "outputs": [
    {
     "data": {
      "application/vnd.plotly.v1+json": {
       "config": {
        "plotlyServerURL": "https://plot.ly"
       },
       "data": [
        {
         "line": {
          "color": "#777",
          "dash": "dot"
         },
         "mode": "lines",
         "showlegend": false,
         "type": "scatter",
         "x": [
          0.3,
          1
         ],
         "y": [
          0.3,
          1
         ]
        },
        {
         "legendgroup": "volkert",
         "marker": {
          "color": "#636EFA",
          "size": 7,
          "symbol": "circle-open"
         },
         "mode": "markers",
         "name": "volkert",
         "showlegend": true,
         "type": "scatter",
         "x": [
          0.3405268293804936,
          0.3653740736894228,
          0.4267351775299747,
          0.4593415632776448,
          0.5428708956329789,
          0.5809974410734138
         ],
         "y": [
          0.5755401812159768,
          0.5777731240376367,
          0.5937898132856783,
          0.5844564927380341,
          0.603856456294664,
          0.6058841783361125
         ]
        },
        {
         "legendgroup": "volkert",
         "marker": {
          "color": "#636EFA",
          "size": 7,
          "symbol": "circle-open"
         },
         "mode": "markers",
         "name": "volkert",
         "showlegend": false,
         "type": "scatter",
         "x": [
          0.3455387257158627,
          0.3993157353699601,
          0.4397733203975797,
          0.4609835879065151,
          0.5225606726084545,
          0.5631032292030521
         ],
         "y": [
          0.5620120781468209,
          0.5764481368374318,
          0.5855854568590423,
          0.5946537286378829,
          0.6026173069085891,
          0.6041207190495242
         ]
        },
        {
         "legendgroup": "volkert",
         "marker": {
          "color": "#636EFA",
          "size": 7,
          "symbol": "circle-open"
         },
         "mode": "markers",
         "name": "volkert",
         "showlegend": false,
         "type": "scatter",
         "x": [
          0.313865139520232,
          0.3792129832671828,
          0.4063758463139252,
          0.4612647785314417,
          0.5213490913035855,
          0.5736458290366577
         ],
         "y": [
          0.5657887038311032,
          0.5855121034309676,
          0.5842232546471363,
          0.5832490396512208,
          0.6010121485468505,
          0.6052959515699247
         ]
        },
        {
         "legendgroup": "volkert",
         "marker": {
          "color": "#636EFA",
          "size": 7,
          "symbol": "circle-open"
         },
         "mode": "markers",
         "name": "volkert",
         "showlegend": false,
         "type": "scatter",
         "x": [
          0.2940045930630358,
          0.3895479475943909,
          0.4241861710674104,
          0.483896622816637,
          0.4954972464953487,
          0.5856047571780774
         ],
         "y": [
          0.5572788485230726,
          0.5839264474892946,
          0.5777530723802022,
          0.5951010658299632,
          0.5979437659086045,
          0.6061910597762642
         ]
        },
        {
         "legendgroup": "volkert",
         "marker": {
          "color": "#636EFA",
          "size": 7,
          "symbol": "circle-open"
         },
         "mode": "markers",
         "name": "volkert",
         "showlegend": false,
         "type": "scatter",
         "x": [
          0.3714359337321021,
          0.389728831469403,
          0.399962614429424,
          0.4774846955420497,
          0.5397061901718481,
          0.5695038634534478
         ],
         "y": [
          0.5732663644858087,
          0.5767183024270017,
          0.5832236597809217,
          0.5898451208320962,
          0.6049926551562427,
          0.6062304437916294
         ]
        },
        {
         "legendgroup": "volkert",
         "marker": {
          "color": "#636EFA",
          "size": 7,
          "symbol": "diamond"
         },
         "mode": "markers",
         "name": "volkert",
         "showlegend": false,
         "type": "scatter",
         "x": [
          0.4384236867093716,
          0.5156670567247942,
          0.5614883902870034,
          0.5990868848441622,
          0.6274031933414116,
          0.6276886808297546
         ],
         "y": [
          0.612752927325066,
          0.6197002236291217,
          0.6164831208533282,
          0.614703018709621,
          0.6113264375606995,
          0.6096698632100874
         ]
        },
        {
         "legendgroup": "volkert",
         "marker": {
          "color": "#636EFA",
          "size": 7,
          "symbol": "diamond"
         },
         "mode": "markers",
         "name": "volkert",
         "showlegend": false,
         "type": "scatter",
         "x": [
          0.3355511219289381,
          0.3582558884589414,
          0.4792516448188849,
          0.5770876195576926,
          0.6128527703036959,
          0.6255206726001965
         ],
         "y": [
          0.4439169776163661,
          0.4406221441857628,
          0.5601235686191344,
          0.5962134375538146,
          0.6059252810269948,
          0.6096698632100874
         ]
        },
        {
         "legendgroup": "volkert",
         "marker": {
          "color": "#636EFA",
          "size": 7,
          "symbol": "diamond"
         },
         "mode": "markers",
         "name": "volkert",
         "showlegend": false,
         "type": "scatter",
         "x": [
          0.5170220284558134,
          0.5348033784802084,
          0.5570618760817746,
          0.6031443244207417,
          0.6262947487405492,
          0.6276886808297546
         ],
         "y": [
          0.6053073045226102,
          0.6026961228084774,
          0.6024600364047293,
          0.6057615042868341,
          0.6085072611997198,
          0.6096698632100874
         ]
        },
        {
         "legendgroup": "jasmine",
         "marker": {
          "color": "#EF553B",
          "size": 7,
          "symbol": "circle-open"
         },
         "mode": "markers",
         "name": "jasmine",
         "showlegend": true,
         "type": "scatter",
         "x": [
          0.7629770395964249,
          0.7773328483966782,
          0.7920570743502185,
          0.7970073346669091,
          0.8077356825820182,
          0.8083200312514733
         ],
         "y": [
          0.7926012136886842,
          0.8026160311975914,
          0.80050547911068,
          0.787720258902292,
          0.8093350306116264,
          0.8150683289217568
         ]
        },
        {
         "legendgroup": "jasmine",
         "marker": {
          "color": "#EF553B",
          "size": 7,
          "symbol": "circle-open"
         },
         "mode": "markers",
         "name": "jasmine",
         "showlegend": false,
         "type": "scatter",
         "x": [
          0.7536502933193241,
          0.7573740006600527,
          0.7914572346487241,
          0.7980366800697769,
          0.7989144827679107,
          0.8046534386723512
         ],
         "y": [
          0.7776696099627542,
          0.7870725990584146,
          0.7992740094158534,
          0.8072688636991238,
          0.8016261542502677,
          0.8070825672007705
         ]
        },
        {
         "legendgroup": "jasmine",
         "marker": {
          "color": "#EF553B",
          "size": 7,
          "symbol": "circle-open"
         },
         "mode": "markers",
         "name": "jasmine",
         "showlegend": false,
         "type": "scatter",
         "x": [
          0.7530049908064093,
          0.7765261697412998,
          0.7692362921204529,
          0.7839745273551421,
          0.7943519023660868,
          0.8155216773420083
         ],
         "y": [
          0.7784438921554762,
          0.7840682144228244,
          0.7904652024273774,
          0.8121230796171695,
          0.8041123975402936,
          0.8143438874408142
         ]
        },
        {
         "legendgroup": "jasmine",
         "marker": {
          "color": "#EF553B",
          "size": 7,
          "symbol": "circle-open"
         },
         "mode": "markers",
         "name": "jasmine",
         "showlegend": false,
         "type": "scatter",
         "x": [
          0.7840998700100356,
          0.755224855697669,
          0.7979242690590208,
          0.795266816188802,
          0.7859906514989257,
          0.8055890970075368
         ],
         "y": [
          0.7964281047732584,
          0.7867931543108848,
          0.8090877802698134,
          0.7969746014426866,
          0.8070794689943626,
          0.8092595286685121
         ]
        },
        {
         "legendgroup": "jasmine",
         "marker": {
          "color": "#EF553B",
          "size": 7,
          "symbol": "circle-open"
         },
         "mode": "markers",
         "name": "jasmine",
         "showlegend": false,
         "type": "scatter",
         "x": [
          0.7451663938897981,
          0.7583096589952382,
          0.7853673731924322,
          0.7996445818431634,
          0.7983436045610987,
          0.8066282758481339
         ],
         "y": [
          0.7713743239511561,
          0.7967615660759868,
          0.798321782411617,
          0.8033788634970668,
          0.8075262842402322,
          0.8114279363924753
         ]
        },
        {
         "legendgroup": "jasmine",
         "marker": {
          "color": "#EF553B",
          "size": 7,
          "symbol": "diamond"
         },
         "mode": "markers",
         "name": "jasmine",
         "showlegend": false,
         "type": "scatter",
         "x": [
          0.7769748034996262,
          0.7773637631084439,
          0.7740508375260149,
          0.7758393782034444,
          0.7909805823281001,
          0.8091046857004305
         ],
         "y": [
          0.7922329985923368,
          0.8001699972385552,
          0.8055758286018333,
          0.8030768557246099,
          0.8105262909754636,
          0.8056276898830091
         ]
        },
        {
         "legendgroup": "jasmine",
         "marker": {
          "color": "#EF553B",
          "size": 7,
          "symbol": "diamond"
         },
         "mode": "markers",
         "name": "jasmine",
         "showlegend": false,
         "type": "scatter",
         "x": [
          0.7797495840994659,
          0.7845788796616219,
          0.7908965266412075,
          0.7978887743899564,
          0.8081391902904904,
          0.8138055404012852
         ],
         "y": [
          0.7848237726724724,
          0.8045859516545096,
          0.8181047059061244,
          0.8188200548247829,
          0.8158571592141332,
          0.8096137344837109
         ]
        },
        {
         "legendgroup": "jasmine",
         "marker": {
          "color": "#EF553B",
          "size": 7,
          "symbol": "diamond"
         },
         "mode": "markers",
         "name": "jasmine",
         "showlegend": false,
         "type": "scatter",
         "x": [
          0.7856302492709112,
          0.7831660301873068,
          0.7920033945565861,
          0.7950636142598317,
          0.8088179669030733,
          0.8100945626477541
         ],
         "y": [
          0.8027055424218545,
          0.8042561273766948,
          0.8029569686070868,
          0.8068165929158837,
          0.8138952536824877,
          0.8108970654597132
         ]
        },
        {
         "legendgroup": "nomao",
         "marker": {
          "color": "#00CC96",
          "size": 7,
          "symbol": "circle-open"
         },
         "mode": "markers",
         "name": "nomao",
         "showlegend": true,
         "type": "scatter",
         "x": [
          0.7850537176300242,
          0.7506816819703719,
          0.8657289863879463,
          0.9107269539945196,
          0.9277466399951508,
          0.9418161671545798
         ],
         "y": [
          0.955567328690476,
          0.9538483981604116,
          0.959153220245774,
          0.959381578270968,
          0.9592040578967354,
          0.9610782124708758
         ]
        },
        {
         "legendgroup": "nomao",
         "marker": {
          "color": "#00CC96",
          "size": 7,
          "symbol": "circle-open"
         },
         "mode": "markers",
         "name": "nomao",
         "showlegend": false,
         "type": "scatter",
         "x": [
          0.8121282181692292,
          0.8708895587899074,
          0.876298274905342,
          0.8880158975390117,
          0.8883295092050221,
          0.9462336030986606
         ],
         "y": [
          0.9530984184444103,
          0.9577842397644104,
          0.9586221712082954,
          0.9607612509523108,
          0.959721999243649,
          0.9610281090362828
         ]
        },
        {
         "legendgroup": "nomao",
         "marker": {
          "color": "#00CC96",
          "size": 7,
          "symbol": "circle-open"
         },
         "mode": "markers",
         "name": "nomao",
         "showlegend": false,
         "type": "scatter",
         "x": [
          0.7665444292217896,
          0.8265233440377096,
          0.8891824993943034,
          0.9013029681114508,
          0.936236038453258,
          0.9167261191703634
         ],
         "y": [
          0.949544456503219,
          0.9598987401367156,
          0.958797402503551,
          0.9611510342478408,
          0.9600778929703534,
          0.9630388126043716
         ]
        },
        {
         "legendgroup": "nomao",
         "marker": {
          "color": "#00CC96",
          "size": 7,
          "symbol": "circle-open"
         },
         "mode": "markers",
         "name": "nomao",
         "showlegend": false,
         "type": "scatter",
         "x": [
          0.7862039408828675,
          0.832851755761119,
          0.8315006397885231,
          0.9237163092038948,
          0.9276038808128196,
          0.9360091003300486
         ],
         "y": [
          0.9531194288926044,
          0.955045516782016,
          0.9602145877751098,
          0.959951813952118,
          0.9609365980930524,
          0.960395271218072
         ]
        },
        {
         "legendgroup": "nomao",
         "marker": {
          "color": "#00CC96",
          "size": 7,
          "symbol": "circle-open"
         },
         "mode": "markers",
         "name": "nomao",
         "showlegend": false,
         "type": "scatter",
         "x": [
          0.7757599515103908,
          0.8519207366808892,
          0.8852314614824417,
          0.9118787584053224,
          0.9296218145661904,
          0.946281898522042
         ],
         "y": [
          0.9550776088104764,
          0.9588005138410832,
          0.959835642490367,
          0.9605461905099492,
          0.9609264443004828,
          0.9616979396821363
         ]
        },
        {
         "legendgroup": "nomao",
         "marker": {
          "color": "#00CC96",
          "size": 7,
          "symbol": "diamond"
         },
         "mode": "markers",
         "name": "nomao",
         "showlegend": false,
         "type": "scatter",
         "x": [
          0.9042029891661928,
          0.9219300580090936,
          0.9294665248519604,
          0.9356875406600093,
          0.9438169571768964,
          0.9487002093589508
         ],
         "y": [
          0.956558249197334,
          0.9580778622030444,
          0.9597375794390584,
          0.9600274426329326,
          0.9603185990331218,
          0.9620652186601136
         ]
        },
        {
         "legendgroup": "nomao",
         "marker": {
          "color": "#00CC96",
          "size": 7,
          "symbol": "diamond"
         },
         "mode": "markers",
         "name": "nomao",
         "showlegend": false,
         "type": "scatter",
         "x": [
          0.7964658275105206,
          0.7948899829692946,
          0.8098173464514717,
          0.8934983821512482,
          0.9127860661361252,
          0.949634992652593
         ],
         "y": [
          0.9395273317560566,
          0.9412748519927618,
          0.9599883424191332,
          0.9599895709614514,
          0.9610912196154306,
          0.961268773505
         ]
        },
        {
         "legendgroup": "nomao",
         "marker": {
          "color": "#00CC96",
          "size": 7,
          "symbol": "diamond"
         },
         "mode": "markers",
         "name": "nomao",
         "showlegend": false,
         "type": "scatter",
         "x": [
          0.8361415977130637,
          0.8550575812108863,
          0.883914657640316,
          0.9083023731114144,
          0.9264697236648576,
          0.9374452756933772
         ],
         "y": [
          0.957836684009178,
          0.9588872086736416,
          0.9585588518873894,
          0.9597731514654396,
          0.960481825522884,
          0.960571043287414
         ]
        },
        {
         "legendgroup": "kr-vs-kp",
         "marker": {
          "color": "#AB63FA",
          "size": 7,
          "symbol": "circle-open"
         },
         "mode": "markers",
         "name": "kr-vs-kp",
         "showlegend": true,
         "type": "scatter",
         "x": [
          0.6206596095004342,
          0.7508023800014337,
          0.833776653546846,
          0.8635285148431482,
          0.936050672319682,
          0.9366734598434496
         ],
         "y": [
          0.7116510150508123,
          0.802777555890094,
          0.8828868042825461,
          0.9011500381760604,
          0.9562833016432204,
          0.9547233288159276
         ]
        },
        {
         "legendgroup": "kr-vs-kp",
         "marker": {
          "color": "#AB63FA",
          "size": 7,
          "symbol": "circle-open"
         },
         "mode": "markers",
         "name": "kr-vs-kp",
         "showlegend": false,
         "type": "scatter",
         "x": [
          0.6639892788422698,
          0.7762338491368569,
          0.737618337253349,
          0.8700649732653789,
          0.916270056655322,
          0.936303829098692
         ],
         "y": [
          0.755830559737285,
          0.8138890083668725,
          0.8164192675885815,
          0.9161783658370344,
          0.9539407935386306,
          0.9559335952745888
         ]
        },
        {
         "legendgroup": "kr-vs-kp",
         "marker": {
          "color": "#AB63FA",
          "size": 7,
          "symbol": "circle-open"
         },
         "mode": "markers",
         "name": "kr-vs-kp",
         "showlegend": false,
         "type": "scatter",
         "x": [
          0.7003278589659123,
          0.7897561169882901,
          0.8625975537736268,
          0.7756730536183054,
          0.873547619941672,
          0.9784366476525992
         ],
         "y": [
          0.7719661183196161,
          0.8400779792973102,
          0.900445743909752,
          0.8383885264723385,
          0.9120647729975204,
          0.9880595409997234
         ]
        },
        {
         "legendgroup": "kr-vs-kp",
         "marker": {
          "color": "#AB63FA",
          "size": 7,
          "symbol": "circle-open"
         },
         "mode": "markers",
         "name": "kr-vs-kp",
         "showlegend": false,
         "type": "scatter",
         "x": [
          0.6293342004021287,
          0.7531360808718024,
          0.7664192106943036,
          0.8805412694023712,
          0.8475757234391909,
          0.9395480659928108
         ],
         "y": [
          0.7259078676821158,
          0.837026864340146,
          0.8116050786108238,
          0.9264502977277562,
          0.8961746677089698,
          0.960919980473884
         ]
        },
        {
         "legendgroup": "kr-vs-kp",
         "marker": {
          "color": "#AB63FA",
          "size": 7,
          "symbol": "circle-open"
         },
         "mode": "markers",
         "name": "kr-vs-kp",
         "showlegend": false,
         "type": "scatter",
         "x": [
          0.7126761247714273,
          0.7093544320073553,
          0.7333195080238,
          0.8720319222414524,
          0.880140278531627,
          0.9445243809049148
         ],
         "y": [
          0.8114105912111995,
          0.8049589393996289,
          0.807313827699093,
          0.9248941368170838,
          0.9374605466629798,
          0.9624900804826456
         ]
        },
        {
         "legendgroup": "kr-vs-kp",
         "marker": {
          "color": "#AB63FA",
          "size": 7,
          "symbol": "diamond"
         },
         "mode": "markers",
         "name": "kr-vs-kp",
         "showlegend": false,
         "type": "scatter",
         "x": [
          0.883310996639824,
          0.9262419736397433,
          0.9631417247841716,
          0.980125349473102,
          0.986901287289932,
          0.987355986359028
         ],
         "y": [
          0.9811333226372092,
          0.983320953138459,
          0.9825316929575124,
          0.9852569743850582,
          0.9906633076284986,
          0.9917785492641864
         ]
        },
        {
         "legendgroup": "kr-vs-kp",
         "marker": {
          "color": "#AB63FA",
          "size": 7,
          "symbol": "diamond"
         },
         "mode": "markers",
         "name": "kr-vs-kp",
         "showlegend": false,
         "type": "scatter",
         "x": [
          0.9419215132057308,
          0.9538220324229112,
          0.9471287278553246,
          0.9579153822783428,
          0.9697331089423014,
          0.9805000096720272
         ],
         "y": [
          0.9689453849068584,
          0.968447833067637,
          0.965024663669476,
          0.9666705127198536,
          0.9722468802022706,
          0.982899309644832
         ]
        },
        {
         "legendgroup": "kr-vs-kp",
         "marker": {
          "color": "#AB63FA",
          "size": 7,
          "symbol": "diamond"
         },
         "mode": "markers",
         "name": "kr-vs-kp",
         "showlegend": false,
         "type": "scatter",
         "x": [
          0.9318387320313648,
          0.9626884025566012,
          0.965124888629451,
          0.96913269224861,
          0.993967556606962,
          0.997148913945129
         ],
         "y": [
          0.97885982729173,
          0.9870300049042868,
          0.989096120606766,
          0.9890131687495662,
          0.9940505084641618,
          0.9936787612522656
         ]
        },
        {
         "legendgroup": "sylvine",
         "marker": {
          "color": "#FFA15A",
          "size": 7,
          "symbol": "circle-open"
         },
         "mode": "markers",
         "name": "sylvine",
         "showlegend": true,
         "type": "scatter",
         "x": [
          0.5462915313590548,
          0.61028746176943,
          0.7703795221360489,
          0.9039780723264949,
          0.9352322236503036,
          0.9360103765101654
         ],
         "y": [
          0.6568453385222475,
          0.7160190678816247,
          0.8596688264226853,
          0.9410924743196716,
          0.9428117474160927,
          0.943305495450454
         ]
        },
        {
         "legendgroup": "sylvine",
         "marker": {
          "color": "#FFA15A",
          "size": 7,
          "symbol": "circle-open"
         },
         "mode": "markers",
         "name": "sylvine",
         "showlegend": false,
         "type": "scatter",
         "x": [
          0.669103098049605,
          0.5914205753504242,
          0.6874621386443398,
          0.757483559972065,
          0.7786071366751804,
          0.7991825071016441
         ],
         "y": [
          0.7857195566413606,
          0.6879531192285866,
          0.7623057288750144,
          0.8442932976263556,
          0.8927683862809911,
          0.8878931294834829
         ]
        },
        {
         "legendgroup": "sylvine",
         "marker": {
          "color": "#FFA15A",
          "size": 7,
          "symbol": "circle-open"
         },
         "mode": "markers",
         "name": "sylvine",
         "showlegend": false,
         "type": "scatter",
         "x": [
          0.6477546046376244,
          0.7355691101864184,
          0.7806813307684474,
          0.7097433179953931,
          0.9182498619570436,
          0.9428117038442329
         ],
         "y": [
          0.7486204236123142,
          0.8410665508891855,
          0.8910588650424375,
          0.8384040587175539,
          0.9366968372748063,
          0.943299555196032
         ]
        },
        {
         "legendgroup": "sylvine",
         "marker": {
          "color": "#FFA15A",
          "size": 7,
          "symbol": "circle-open"
         },
         "mode": "markers",
         "name": "sylvine",
         "showlegend": false,
         "type": "scatter",
         "x": [
          0.7632331597335311,
          0.8035743237522499,
          0.6331430908642062,
          0.826488627622278,
          0.8540780679611549,
          0.925533577130884
         ],
         "y": [
          0.8172178095422808,
          0.8672323863678425,
          0.8042091987898038,
          0.9090908448102546,
          0.8810893794945542,
          0.9401168762989532
         ]
        },
        {
         "legendgroup": "sylvine",
         "marker": {
          "color": "#FFA15A",
          "size": 7,
          "symbol": "circle-open"
         },
         "mode": "markers",
         "name": "sylvine",
         "showlegend": false,
         "type": "scatter",
         "x": [
          0.604482431637561,
          0.5450900480686457,
          0.6815424938818229,
          0.7293018839072454,
          0.7953455824176439,
          0.8720395797159984
         ],
         "y": [
          0.7179073254757014,
          0.6898175462428828,
          0.8051623731856308,
          0.8737484250386445,
          0.8869173413348731,
          0.9198641460242136
         ]
        },
        {
         "legendgroup": "sylvine",
         "marker": {
          "color": "#FFA15A",
          "size": 7,
          "symbol": "diamond"
         },
         "mode": "markers",
         "name": "sylvine",
         "showlegend": false,
         "type": "scatter",
         "x": [
          0.9083342638855678,
          0.907360393790612,
          0.9141600275977536,
          0.9352661977675452,
          0.93212398043844,
          0.9379503087162244
         ],
         "y": [
          0.936464236332966,
          0.9401234418477846,
          0.9357325464914548,
          0.938414894351116,
          0.9415832958199156,
          0.9430610228330508
         ]
        },
        {
         "legendgroup": "sylvine",
         "marker": {
          "color": "#FFA15A",
          "size": 7,
          "symbol": "diamond"
         },
         "mode": "markers",
         "name": "sylvine",
         "showlegend": false,
         "type": "scatter",
         "x": [
          0.9240095527658942,
          0.9262321095514856,
          0.9330615055294184,
          0.9432726845659732,
          0.9437640877887666,
          0.9457194876228552
         ],
         "y": [
          0.9457410521686508,
          0.9445238992313648,
          0.9423198233269632,
          0.9484197957521762,
          0.947685700200416,
          0.94451909643181
         ]
        },
        {
         "legendgroup": "sylvine",
         "marker": {
          "color": "#FFA15A",
          "size": 7,
          "symbol": "diamond"
         },
         "mode": "markers",
         "name": "sylvine",
         "showlegend": false,
         "type": "scatter",
         "x": [
          0.9413322400295854,
          0.943044912668726,
          0.943529750342688,
          0.9408456046129624,
          0.9454923235233252,
          0.9432959682042498
         ],
         "y": [
          0.9503817437658072,
          0.9501360551707604,
          0.9474543065303408,
          0.9472008538205756,
          0.9449985756588348,
          0.9447636039151944
         ]
        },
        {
         "legendgroup": "australian",
         "marker": {
          "color": "#19D3F3",
          "size": 7,
          "symbol": "circle-open"
         },
         "mode": "markers",
         "name": "australian",
         "showlegend": true,
         "type": "scatter",
         "x": [
          0.7057947096342503,
          0.8003969177306036,
          0.7973832007684089,
          0.7216411357774204,
          0.8604182216514316,
          0.807982063264227
         ],
         "y": [
          0.7269281990956087,
          0.8212235616615763,
          0.8528629059238714,
          0.8003403231202582,
          0.8463393302323574,
          0.8380077488425302
         ]
        },
        {
         "legendgroup": "australian",
         "marker": {
          "color": "#19D3F3",
          "size": 7,
          "symbol": "circle-open"
         },
         "mode": "markers",
         "name": "australian",
         "showlegend": false,
         "type": "scatter",
         "x": [
          0.7038126247855038,
          0.7494850149472798,
          0.7500068638772273,
          0.8451811264960771,
          0.8295631509081687,
          0.7408685826525216
         ],
         "y": [
          0.7594896340344705,
          0.7726699187342838,
          0.7930038096677063,
          0.8471228482932041,
          0.8218709245728963,
          0.7924145954521418
         ]
        },
        {
         "legendgroup": "australian",
         "marker": {
          "color": "#19D3F3",
          "size": 7,
          "symbol": "circle-open"
         },
         "mode": "markers",
         "name": "australian",
         "showlegend": false,
         "type": "scatter",
         "x": [
          0.7634574731002924,
          0.7596903268975491,
          0.8262557118034944,
          0.8218040989002688,
          0.8366813369451428,
          0.8593798119988344
         ],
         "y": [
          0.7931636430352151,
          0.7939251448860877,
          0.8512379369516182,
          0.8248060738838106,
          0.8418826665515493,
          0.8532861135993265
         ]
        },
        {
         "legendgroup": "australian",
         "marker": {
          "color": "#19D3F3",
          "size": 7,
          "symbol": "circle-open"
         },
         "mode": "markers",
         "name": "australian",
         "showlegend": false,
         "type": "scatter",
         "x": [
          0.6830098101641503,
          0.7347947420110297,
          0.835174089942693,
          0.8148810153358012,
          0.8122657054360612,
          0.86127404785288
         ],
         "y": [
          0.7174310536483234,
          0.7528358173517953,
          0.8479304978469442,
          0.8208642441640854,
          0.8149194357806582,
          0.8671365544631391
         ]
        },
        {
         "legendgroup": "australian",
         "marker": {
          "color": "#19D3F3",
          "size": 7,
          "symbol": "circle-open"
         },
         "mode": "markers",
         "name": "australian",
         "showlegend": false,
         "type": "scatter",
         "x": [
          0.7551239275191832,
          0.7862637196602597,
          0.7117418491457925,
          0.7146133672929775,
          0.867704033067484,
          0.8334361044259058
         ],
         "y": [
          0.791698658522108,
          0.8315246441252334,
          0.8036069458984016,
          0.7898913435284214,
          0.8499522334581637,
          0.8410583321641718
         ]
        },
        {
         "legendgroup": "australian",
         "marker": {
          "color": "#19D3F3",
          "size": 7,
          "symbol": "diamond"
         },
         "mode": "markers",
         "name": "australian",
         "showlegend": false,
         "type": "scatter",
         "x": [
          0.7076541080736896,
          0.7144373887048209,
          0.8036825133014602,
          0.8592476068163913,
          0.863420628325365,
          0.8691151642042328
         ],
         "y": [
          0.7495738999989208,
          0.7838538943869457,
          0.807265047108214,
          0.836980973245988,
          0.8504493681131893,
          0.851579166621699
         ]
        },
        {
         "legendgroup": "australian",
         "marker": {
          "color": "#19D3F3",
          "size": 7,
          "symbol": "diamond"
         },
         "mode": "markers",
         "name": "australian",
         "showlegend": false,
         "type": "scatter",
         "x": [
          0.7192851854649845,
          0.7156579069491361,
          0.7147398741622508,
          0.7179489957802264,
          0.7944215888364865,
          0.8695115854908859
         ],
         "y": [
          0.7333025610032485,
          0.7292547297078535,
          0.741042963986229,
          0.7547518751551388,
          0.8144336761674527,
          0.8630740025253887
         ]
        },
        {
         "legendgroup": "australian",
         "marker": {
          "color": "#19D3F3",
          "size": 7,
          "symbol": "diamond"
         },
         "mode": "markers",
         "name": "australian",
         "showlegend": false,
         "type": "scatter",
         "x": [
          0.8165387927778198,
          0.8592553988279606,
          0.859228957791472,
          0.8571881414649415,
          0.8736367757044647,
          0.8566227349744763
         ],
         "y": [
          0.8097050259553848,
          0.8337411368566464,
          0.8320730420142674,
          0.8349381927281753,
          0.864584228191541,
          0.8700331969911179
         ]
        },
        {
         "legendgroup": "adult",
         "marker": {
          "color": "#FF6692",
          "size": 7,
          "symbol": "circle-open"
         },
         "mode": "markers",
         "name": "adult",
         "showlegend": true,
         "type": "scatter",
         "x": [
          0.7069833212293559,
          0.7365324583093097,
          0.7479440036102167,
          0.7817842319700343,
          0.7735934083383081,
          0.7848539524446917
         ],
         "y": [
          0.7069917436473961,
          0.7400965023870631,
          0.7550896209102305,
          0.7757157743682546,
          0.776740245016251,
          0.7768364407843378
         ]
        },
        {
         "legendgroup": "adult",
         "marker": {
          "color": "#FF6692",
          "size": 7,
          "symbol": "circle-open"
         },
         "mode": "markers",
         "name": "adult",
         "showlegend": false,
         "type": "scatter",
         "x": [
          0.6465076182037017,
          0.7589620738336953,
          0.7594604928558187,
          0.7672165509843907,
          0.7568845656316208,
          0.7804314194535579
         ],
         "y": [
          0.6708098363440206,
          0.7462504219384165,
          0.7221672944974241,
          0.746303148519488,
          0.7932588187765288,
          0.7872777123652759
         ]
        },
        {
         "legendgroup": "adult",
         "marker": {
          "color": "#FF6692",
          "size": 7,
          "symbol": "circle-open"
         },
         "mode": "markers",
         "name": "adult",
         "showlegend": false,
         "type": "scatter",
         "x": [
          0.7155481334759732,
          0.7425276056745259,
          0.7584348165269466,
          0.756117026786924,
          0.7893595360009706,
          0.7695922147444019
         ],
         "y": [
          0.7183212309886766,
          0.7403312683210848,
          0.7619085144309459,
          0.7600618358020345,
          0.7818043358204598,
          0.7863343049850812
         ]
        },
        {
         "legendgroup": "adult",
         "marker": {
          "color": "#FF6692",
          "size": 7,
          "symbol": "circle-open"
         },
         "mode": "markers",
         "name": "adult",
         "showlegend": false,
         "type": "scatter",
         "x": [
          0.6785783678395902,
          0.752267361134497,
          0.7569417991556129,
          0.7581770572764747,
          0.7789806959985441,
          0.7811620352597083
         ],
         "y": [
          0.6537883131023996,
          0.7325626274985358,
          0.7662608730624424,
          0.7577866458489593,
          0.7907942971047399,
          0.7815073688901135
         ]
        },
        {
         "legendgroup": "adult",
         "marker": {
          "color": "#FF6692",
          "size": 7,
          "symbol": "circle-open"
         },
         "mode": "markers",
         "name": "adult",
         "showlegend": false,
         "type": "scatter",
         "x": [
          0.6978082810707966,
          0.7360167661460538,
          0.7484001202120549,
          0.7498719679253103,
          0.7607909034102602,
          0.7831099621006609
         ],
         "y": [
          0.6757853502074684,
          0.7314248113508662,
          0.7640812184028078,
          0.7752183948935387,
          0.7700631853700047,
          0.7883971523508079
         ]
        },
        {
         "legendgroup": "adult",
         "marker": {
          "color": "#FF6692",
          "size": 7,
          "symbol": "diamond"
         },
         "mode": "markers",
         "name": "adult",
         "showlegend": false,
         "type": "scatter",
         "x": [
          0.6050134882642443,
          0.6283013505997846,
          0.638443611123867,
          0.6932564341512448,
          0.7522456246134239,
          0.780616306999954
         ],
         "y": [
          0.6607166788273371,
          0.6737518925688382,
          0.683041230920645,
          0.7425975393152494,
          0.7757240791821227,
          0.7853160295552483
         ]
        },
        {
         "legendgroup": "adult",
         "marker": {
          "color": "#FF6692",
          "size": 7,
          "symbol": "diamond"
         },
         "mode": "markers",
         "name": "adult",
         "showlegend": false,
         "type": "scatter",
         "x": [
          0.7262763222050441,
          0.7144610845503925,
          0.7041468190350494,
          0.7679473195897915,
          0.7910222371438469,
          0.7981974304871695
         ],
         "y": [
          0.7243004789773472,
          0.7336885958762571,
          0.7347215116875666,
          0.7789804236675562,
          0.7829438331907502,
          0.7869301653000795
         ]
        },
        {
         "legendgroup": "adult",
         "marker": {
          "color": "#FF6692",
          "size": 7,
          "symbol": "diamond"
         },
         "mode": "markers",
         "name": "adult",
         "showlegend": false,
         "type": "scatter",
         "x": [
          0.6528563970739556,
          0.7574250802122363,
          0.755290357353634,
          0.748832750766349,
          0.7676010528135937,
          0.7699953069903163
         ],
         "y": [
          0.6809538406572317,
          0.7512409745544347,
          0.7531103021912451,
          0.7529560735944505,
          0.7594431124286588,
          0.7635104751732399
         ]
        },
        {
         "marker": {
          "color": "#777",
          "symbol": "diamond"
         },
         "mode": "markers",
         "name": "Algorithm selection",
         "type": "scatter",
         "x": [
          null
         ],
         "y": [
          null
         ]
        },
        {
         "marker": {
          "color": "#777",
          "symbol": "circle-open"
         },
         "mode": "markers",
         "name": "Random selection",
         "type": "scatter",
         "x": [
          null
         ],
         "y": [
          null
         ]
        }
       ],
       "layout": {
        "font": {
         "size": 11
        },
        "legend": {
         "orientation": "h",
         "x": -0.02,
         "xanchor": "left",
         "y": 1.02,
         "yanchor": "bottom"
        },
        "margin": {
         "b": 20,
         "l": 20,
         "r": 0,
         "t": 0
        },
        "template": {
         "data": {
          "bar": [
           {
            "error_x": {
             "color": "#2a3f5f"
            },
            "error_y": {
             "color": "#2a3f5f"
            },
            "marker": {
             "line": {
              "color": "white",
              "width": 0.5
             },
             "pattern": {
              "fillmode": "overlay",
              "size": 10,
              "solidity": 0.2
             }
            },
            "type": "bar"
           }
          ],
          "barpolar": [
           {
            "marker": {
             "line": {
              "color": "white",
              "width": 0.5
             },
             "pattern": {
              "fillmode": "overlay",
              "size": 10,
              "solidity": 0.2
             }
            },
            "type": "barpolar"
           }
          ],
          "carpet": [
           {
            "aaxis": {
             "endlinecolor": "#2a3f5f",
             "gridcolor": "#C8D4E3",
             "linecolor": "#C8D4E3",
             "minorgridcolor": "#C8D4E3",
             "startlinecolor": "#2a3f5f"
            },
            "baxis": {
             "endlinecolor": "#2a3f5f",
             "gridcolor": "#C8D4E3",
             "linecolor": "#C8D4E3",
             "minorgridcolor": "#C8D4E3",
             "startlinecolor": "#2a3f5f"
            },
            "type": "carpet"
           }
          ],
          "choropleth": [
           {
            "colorbar": {
             "outlinewidth": 0,
             "ticks": ""
            },
            "type": "choropleth"
           }
          ],
          "contour": [
           {
            "colorbar": {
             "outlinewidth": 0,
             "ticks": ""
            },
            "colorscale": [
             [
              0,
              "#0d0887"
             ],
             [
              0.1111111111111111,
              "#46039f"
             ],
             [
              0.2222222222222222,
              "#7201a8"
             ],
             [
              0.3333333333333333,
              "#9c179e"
             ],
             [
              0.4444444444444444,
              "#bd3786"
             ],
             [
              0.5555555555555556,
              "#d8576b"
             ],
             [
              0.6666666666666666,
              "#ed7953"
             ],
             [
              0.7777777777777778,
              "#fb9f3a"
             ],
             [
              0.8888888888888888,
              "#fdca26"
             ],
             [
              1,
              "#f0f921"
             ]
            ],
            "type": "contour"
           }
          ],
          "contourcarpet": [
           {
            "colorbar": {
             "outlinewidth": 0,
             "ticks": ""
            },
            "type": "contourcarpet"
           }
          ],
          "heatmap": [
           {
            "colorbar": {
             "outlinewidth": 0,
             "ticks": ""
            },
            "colorscale": [
             [
              0,
              "#0d0887"
             ],
             [
              0.1111111111111111,
              "#46039f"
             ],
             [
              0.2222222222222222,
              "#7201a8"
             ],
             [
              0.3333333333333333,
              "#9c179e"
             ],
             [
              0.4444444444444444,
              "#bd3786"
             ],
             [
              0.5555555555555556,
              "#d8576b"
             ],
             [
              0.6666666666666666,
              "#ed7953"
             ],
             [
              0.7777777777777778,
              "#fb9f3a"
             ],
             [
              0.8888888888888888,
              "#fdca26"
             ],
             [
              1,
              "#f0f921"
             ]
            ],
            "type": "heatmap"
           }
          ],
          "heatmapgl": [
           {
            "colorbar": {
             "outlinewidth": 0,
             "ticks": ""
            },
            "colorscale": [
             [
              0,
              "#0d0887"
             ],
             [
              0.1111111111111111,
              "#46039f"
             ],
             [
              0.2222222222222222,
              "#7201a8"
             ],
             [
              0.3333333333333333,
              "#9c179e"
             ],
             [
              0.4444444444444444,
              "#bd3786"
             ],
             [
              0.5555555555555556,
              "#d8576b"
             ],
             [
              0.6666666666666666,
              "#ed7953"
             ],
             [
              0.7777777777777778,
              "#fb9f3a"
             ],
             [
              0.8888888888888888,
              "#fdca26"
             ],
             [
              1,
              "#f0f921"
             ]
            ],
            "type": "heatmapgl"
           }
          ],
          "histogram": [
           {
            "marker": {
             "pattern": {
              "fillmode": "overlay",
              "size": 10,
              "solidity": 0.2
             }
            },
            "type": "histogram"
           }
          ],
          "histogram2d": [
           {
            "colorbar": {
             "outlinewidth": 0,
             "ticks": ""
            },
            "colorscale": [
             [
              0,
              "#0d0887"
             ],
             [
              0.1111111111111111,
              "#46039f"
             ],
             [
              0.2222222222222222,
              "#7201a8"
             ],
             [
              0.3333333333333333,
              "#9c179e"
             ],
             [
              0.4444444444444444,
              "#bd3786"
             ],
             [
              0.5555555555555556,
              "#d8576b"
             ],
             [
              0.6666666666666666,
              "#ed7953"
             ],
             [
              0.7777777777777778,
              "#fb9f3a"
             ],
             [
              0.8888888888888888,
              "#fdca26"
             ],
             [
              1,
              "#f0f921"
             ]
            ],
            "type": "histogram2d"
           }
          ],
          "histogram2dcontour": [
           {
            "colorbar": {
             "outlinewidth": 0,
             "ticks": ""
            },
            "colorscale": [
             [
              0,
              "#0d0887"
             ],
             [
              0.1111111111111111,
              "#46039f"
             ],
             [
              0.2222222222222222,
              "#7201a8"
             ],
             [
              0.3333333333333333,
              "#9c179e"
             ],
             [
              0.4444444444444444,
              "#bd3786"
             ],
             [
              0.5555555555555556,
              "#d8576b"
             ],
             [
              0.6666666666666666,
              "#ed7953"
             ],
             [
              0.7777777777777778,
              "#fb9f3a"
             ],
             [
              0.8888888888888888,
              "#fdca26"
             ],
             [
              1,
              "#f0f921"
             ]
            ],
            "type": "histogram2dcontour"
           }
          ],
          "mesh3d": [
           {
            "colorbar": {
             "outlinewidth": 0,
             "ticks": ""
            },
            "type": "mesh3d"
           }
          ],
          "parcoords": [
           {
            "line": {
             "colorbar": {
              "outlinewidth": 0,
              "ticks": ""
             }
            },
            "type": "parcoords"
           }
          ],
          "pie": [
           {
            "automargin": true,
            "type": "pie"
           }
          ],
          "scatter": [
           {
            "fillpattern": {
             "fillmode": "overlay",
             "size": 10,
             "solidity": 0.2
            },
            "type": "scatter"
           }
          ],
          "scatter3d": [
           {
            "line": {
             "colorbar": {
              "outlinewidth": 0,
              "ticks": ""
             }
            },
            "marker": {
             "colorbar": {
              "outlinewidth": 0,
              "ticks": ""
             }
            },
            "type": "scatter3d"
           }
          ],
          "scattercarpet": [
           {
            "marker": {
             "colorbar": {
              "outlinewidth": 0,
              "ticks": ""
             }
            },
            "type": "scattercarpet"
           }
          ],
          "scattergeo": [
           {
            "marker": {
             "colorbar": {
              "outlinewidth": 0,
              "ticks": ""
             }
            },
            "type": "scattergeo"
           }
          ],
          "scattergl": [
           {
            "marker": {
             "colorbar": {
              "outlinewidth": 0,
              "ticks": ""
             }
            },
            "type": "scattergl"
           }
          ],
          "scattermapbox": [
           {
            "marker": {
             "colorbar": {
              "outlinewidth": 0,
              "ticks": ""
             }
            },
            "type": "scattermapbox"
           }
          ],
          "scatterpolar": [
           {
            "marker": {
             "colorbar": {
              "outlinewidth": 0,
              "ticks": ""
             }
            },
            "type": "scatterpolar"
           }
          ],
          "scatterpolargl": [
           {
            "marker": {
             "colorbar": {
              "outlinewidth": 0,
              "ticks": ""
             }
            },
            "type": "scatterpolargl"
           }
          ],
          "scatterternary": [
           {
            "marker": {
             "colorbar": {
              "outlinewidth": 0,
              "ticks": ""
             }
            },
            "type": "scatterternary"
           }
          ],
          "surface": [
           {
            "colorbar": {
             "outlinewidth": 0,
             "ticks": ""
            },
            "colorscale": [
             [
              0,
              "#0d0887"
             ],
             [
              0.1111111111111111,
              "#46039f"
             ],
             [
              0.2222222222222222,
              "#7201a8"
             ],
             [
              0.3333333333333333,
              "#9c179e"
             ],
             [
              0.4444444444444444,
              "#bd3786"
             ],
             [
              0.5555555555555556,
              "#d8576b"
             ],
             [
              0.6666666666666666,
              "#ed7953"
             ],
             [
              0.7777777777777778,
              "#fb9f3a"
             ],
             [
              0.8888888888888888,
              "#fdca26"
             ],
             [
              1,
              "#f0f921"
             ]
            ],
            "type": "surface"
           }
          ],
          "table": [
           {
            "cells": {
             "fill": {
              "color": "#EBF0F8"
             },
             "line": {
              "color": "white"
             }
            },
            "header": {
             "fill": {
              "color": "#C8D4E3"
             },
             "line": {
              "color": "white"
             }
            },
            "type": "table"
           }
          ]
         },
         "layout": {
          "annotationdefaults": {
           "arrowcolor": "#2a3f5f",
           "arrowhead": 0,
           "arrowwidth": 1
          },
          "autotypenumbers": "strict",
          "coloraxis": {
           "colorbar": {
            "outlinewidth": 0,
            "ticks": ""
           }
          },
          "colorscale": {
           "diverging": [
            [
             0,
             "#8e0152"
            ],
            [
             0.1,
             "#c51b7d"
            ],
            [
             0.2,
             "#de77ae"
            ],
            [
             0.3,
             "#f1b6da"
            ],
            [
             0.4,
             "#fde0ef"
            ],
            [
             0.5,
             "#f7f7f7"
            ],
            [
             0.6,
             "#e6f5d0"
            ],
            [
             0.7,
             "#b8e186"
            ],
            [
             0.8,
             "#7fbc41"
            ],
            [
             0.9,
             "#4d9221"
            ],
            [
             1,
             "#276419"
            ]
           ],
           "sequential": [
            [
             0,
             "#0d0887"
            ],
            [
             0.1111111111111111,
             "#46039f"
            ],
            [
             0.2222222222222222,
             "#7201a8"
            ],
            [
             0.3333333333333333,
             "#9c179e"
            ],
            [
             0.4444444444444444,
             "#bd3786"
            ],
            [
             0.5555555555555556,
             "#d8576b"
            ],
            [
             0.6666666666666666,
             "#ed7953"
            ],
            [
             0.7777777777777778,
             "#fb9f3a"
            ],
            [
             0.8888888888888888,
             "#fdca26"
            ],
            [
             1,
             "#f0f921"
            ]
           ],
           "sequentialminus": [
            [
             0,
             "#0d0887"
            ],
            [
             0.1111111111111111,
             "#46039f"
            ],
            [
             0.2222222222222222,
             "#7201a8"
            ],
            [
             0.3333333333333333,
             "#9c179e"
            ],
            [
             0.4444444444444444,
             "#bd3786"
            ],
            [
             0.5555555555555556,
             "#d8576b"
            ],
            [
             0.6666666666666666,
             "#ed7953"
            ],
            [
             0.7777777777777778,
             "#fb9f3a"
            ],
            [
             0.8888888888888888,
             "#fdca26"
            ],
            [
             1,
             "#f0f921"
            ]
           ]
          },
          "colorway": [
           "#636efa",
           "#EF553B",
           "#00cc96",
           "#ab63fa",
           "#FFA15A",
           "#19d3f3",
           "#FF6692",
           "#B6E880",
           "#FF97FF",
           "#FECB52"
          ],
          "font": {
           "color": "#2a3f5f"
          },
          "geo": {
           "bgcolor": "white",
           "lakecolor": "white",
           "landcolor": "white",
           "showlakes": true,
           "showland": true,
           "subunitcolor": "#C8D4E3"
          },
          "hoverlabel": {
           "align": "left"
          },
          "hovermode": "closest",
          "mapbox": {
           "style": "light"
          },
          "paper_bgcolor": "white",
          "plot_bgcolor": "white",
          "polar": {
           "angularaxis": {
            "gridcolor": "#EBF0F8",
            "linecolor": "#EBF0F8",
            "ticks": ""
           },
           "bgcolor": "white",
           "radialaxis": {
            "gridcolor": "#EBF0F8",
            "linecolor": "#EBF0F8",
            "ticks": ""
           }
          },
          "scene": {
           "xaxis": {
            "backgroundcolor": "white",
            "gridcolor": "#DFE8F3",
            "gridwidth": 2,
            "linecolor": "#EBF0F8",
            "showbackground": true,
            "ticks": "",
            "zerolinecolor": "#EBF0F8"
           },
           "yaxis": {
            "backgroundcolor": "white",
            "gridcolor": "#DFE8F3",
            "gridwidth": 2,
            "linecolor": "#EBF0F8",
            "showbackground": true,
            "ticks": "",
            "zerolinecolor": "#EBF0F8"
           },
           "zaxis": {
            "backgroundcolor": "white",
            "gridcolor": "#DFE8F3",
            "gridwidth": 2,
            "linecolor": "#EBF0F8",
            "showbackground": true,
            "ticks": "",
            "zerolinecolor": "#EBF0F8"
           }
          },
          "shapedefaults": {
           "line": {
            "color": "#2a3f5f"
           }
          },
          "ternary": {
           "aaxis": {
            "gridcolor": "#DFE8F3",
            "linecolor": "#A2B1C6",
            "ticks": ""
           },
           "baxis": {
            "gridcolor": "#DFE8F3",
            "linecolor": "#A2B1C6",
            "ticks": ""
           },
           "bgcolor": "white",
           "caxis": {
            "gridcolor": "#DFE8F3",
            "linecolor": "#A2B1C6",
            "ticks": ""
           }
          },
          "title": {
           "x": 0.05
          },
          "xaxis": {
           "automargin": true,
           "gridcolor": "#EBF0F8",
           "linecolor": "#EBF0F8",
           "ticks": "",
           "title": {
            "standoff": 15
           },
           "zerolinecolor": "#EBF0F8",
           "zerolinewidth": 2
          },
          "yaxis": {
           "automargin": true,
           "gridcolor": "#EBF0F8",
           "linecolor": "#EBF0F8",
           "ticks": "",
           "title": {
            "standoff": 15
           },
           "zerolinecolor": "#EBF0F8",
           "zerolinewidth": 2
          }
         }
        },
        "xaxis": {
         "title": {
          "text": "FT-Transformer balanced accuracy"
         }
        },
        "yaxis": {
         "title": {
          "text": "XGBoost balanced accuracy"
         }
        }
       }
      },
      "text/html": [
       "<div>                            <div id=\"e246b21e-fd21-4e84-a165-aff8672e2662\" class=\"plotly-graph-div\" style=\"height:525px; width:100%;\"></div>            <script type=\"text/javascript\">                require([\"plotly\"], function(Plotly) {                    window.PLOTLYENV=window.PLOTLYENV || {};                                    if (document.getElementById(\"e246b21e-fd21-4e84-a165-aff8672e2662\")) {                    Plotly.newPlot(                        \"e246b21e-fd21-4e84-a165-aff8672e2662\",                        [{\"line\":{\"color\":\"#777\",\"dash\":\"dot\"},\"mode\":\"lines\",\"showlegend\":false,\"x\":[0.3,1],\"y\":[0.3,1],\"type\":\"scatter\"},{\"legendgroup\":\"volkert\",\"marker\":{\"color\":\"#636EFA\",\"size\":7,\"symbol\":\"circle-open\"},\"mode\":\"markers\",\"name\":\"volkert\",\"showlegend\":true,\"x\":[0.3405268293804936,0.3653740736894228,0.4267351775299747,0.4593415632776448,0.5428708956329789,0.5809974410734138],\"y\":[0.5755401812159768,0.5777731240376367,0.5937898132856783,0.5844564927380341,0.603856456294664,0.6058841783361125],\"type\":\"scatter\"},{\"legendgroup\":\"volkert\",\"marker\":{\"color\":\"#636EFA\",\"size\":7,\"symbol\":\"circle-open\"},\"mode\":\"markers\",\"name\":\"volkert\",\"showlegend\":false,\"x\":[0.3455387257158627,0.3993157353699601,0.4397733203975797,0.4609835879065151,0.5225606726084545,0.5631032292030521],\"y\":[0.5620120781468209,0.5764481368374318,0.5855854568590423,0.5946537286378829,0.6026173069085891,0.6041207190495242],\"type\":\"scatter\"},{\"legendgroup\":\"volkert\",\"marker\":{\"color\":\"#636EFA\",\"size\":7,\"symbol\":\"circle-open\"},\"mode\":\"markers\",\"name\":\"volkert\",\"showlegend\":false,\"x\":[0.313865139520232,0.3792129832671828,0.4063758463139252,0.4612647785314417,0.5213490913035855,0.5736458290366577],\"y\":[0.5657887038311032,0.5855121034309676,0.5842232546471363,0.5832490396512208,0.6010121485468505,0.6052959515699247],\"type\":\"scatter\"},{\"legendgroup\":\"volkert\",\"marker\":{\"color\":\"#636EFA\",\"size\":7,\"symbol\":\"circle-open\"},\"mode\":\"markers\",\"name\":\"volkert\",\"showlegend\":false,\"x\":[0.2940045930630358,0.3895479475943909,0.4241861710674104,0.483896622816637,0.4954972464953487,0.5856047571780774],\"y\":[0.5572788485230726,0.5839264474892946,0.5777530723802022,0.5951010658299632,0.5979437659086045,0.6061910597762642],\"type\":\"scatter\"},{\"legendgroup\":\"volkert\",\"marker\":{\"color\":\"#636EFA\",\"size\":7,\"symbol\":\"circle-open\"},\"mode\":\"markers\",\"name\":\"volkert\",\"showlegend\":false,\"x\":[0.3714359337321021,0.389728831469403,0.399962614429424,0.4774846955420497,0.5397061901718481,0.5695038634534478],\"y\":[0.5732663644858087,0.5767183024270017,0.5832236597809217,0.5898451208320962,0.6049926551562427,0.6062304437916294],\"type\":\"scatter\"},{\"legendgroup\":\"volkert\",\"marker\":{\"color\":\"#636EFA\",\"size\":7,\"symbol\":\"diamond\"},\"mode\":\"markers\",\"name\":\"volkert\",\"showlegend\":false,\"x\":[0.4384236867093716,0.5156670567247942,0.5614883902870034,0.5990868848441622,0.6274031933414116,0.6276886808297546],\"y\":[0.612752927325066,0.6197002236291217,0.6164831208533282,0.614703018709621,0.6113264375606995,0.6096698632100874],\"type\":\"scatter\"},{\"legendgroup\":\"volkert\",\"marker\":{\"color\":\"#636EFA\",\"size\":7,\"symbol\":\"diamond\"},\"mode\":\"markers\",\"name\":\"volkert\",\"showlegend\":false,\"x\":[0.3355511219289381,0.3582558884589414,0.4792516448188849,0.5770876195576926,0.6128527703036959,0.6255206726001965],\"y\":[0.4439169776163661,0.4406221441857628,0.5601235686191344,0.5962134375538146,0.6059252810269948,0.6096698632100874],\"type\":\"scatter\"},{\"legendgroup\":\"volkert\",\"marker\":{\"color\":\"#636EFA\",\"size\":7,\"symbol\":\"diamond\"},\"mode\":\"markers\",\"name\":\"volkert\",\"showlegend\":false,\"x\":[0.5170220284558134,0.5348033784802084,0.5570618760817746,0.6031443244207417,0.6262947487405492,0.6276886808297546],\"y\":[0.6053073045226102,0.6026961228084774,0.6024600364047293,0.6057615042868341,0.6085072611997198,0.6096698632100874],\"type\":\"scatter\"},{\"legendgroup\":\"jasmine\",\"marker\":{\"color\":\"#EF553B\",\"size\":7,\"symbol\":\"circle-open\"},\"mode\":\"markers\",\"name\":\"jasmine\",\"showlegend\":true,\"x\":[0.7629770395964249,0.7773328483966782,0.7920570743502185,0.7970073346669091,0.8077356825820182,0.8083200312514733],\"y\":[0.7926012136886842,0.8026160311975914,0.80050547911068,0.787720258902292,0.8093350306116264,0.8150683289217568],\"type\":\"scatter\"},{\"legendgroup\":\"jasmine\",\"marker\":{\"color\":\"#EF553B\",\"size\":7,\"symbol\":\"circle-open\"},\"mode\":\"markers\",\"name\":\"jasmine\",\"showlegend\":false,\"x\":[0.7536502933193241,0.7573740006600527,0.7914572346487241,0.7980366800697769,0.7989144827679107,0.8046534386723512],\"y\":[0.7776696099627542,0.7870725990584146,0.7992740094158534,0.8072688636991238,0.8016261542502677,0.8070825672007705],\"type\":\"scatter\"},{\"legendgroup\":\"jasmine\",\"marker\":{\"color\":\"#EF553B\",\"size\":7,\"symbol\":\"circle-open\"},\"mode\":\"markers\",\"name\":\"jasmine\",\"showlegend\":false,\"x\":[0.7530049908064093,0.7765261697412998,0.7692362921204529,0.7839745273551421,0.7943519023660868,0.8155216773420083],\"y\":[0.7784438921554762,0.7840682144228244,0.7904652024273774,0.8121230796171695,0.8041123975402936,0.8143438874408142],\"type\":\"scatter\"},{\"legendgroup\":\"jasmine\",\"marker\":{\"color\":\"#EF553B\",\"size\":7,\"symbol\":\"circle-open\"},\"mode\":\"markers\",\"name\":\"jasmine\",\"showlegend\":false,\"x\":[0.7840998700100356,0.755224855697669,0.7979242690590208,0.795266816188802,0.7859906514989257,0.8055890970075368],\"y\":[0.7964281047732584,0.7867931543108848,0.8090877802698134,0.7969746014426866,0.8070794689943626,0.8092595286685121],\"type\":\"scatter\"},{\"legendgroup\":\"jasmine\",\"marker\":{\"color\":\"#EF553B\",\"size\":7,\"symbol\":\"circle-open\"},\"mode\":\"markers\",\"name\":\"jasmine\",\"showlegend\":false,\"x\":[0.7451663938897981,0.7583096589952382,0.7853673731924322,0.7996445818431634,0.7983436045610987,0.8066282758481339],\"y\":[0.7713743239511561,0.7967615660759868,0.798321782411617,0.8033788634970668,0.8075262842402322,0.8114279363924753],\"type\":\"scatter\"},{\"legendgroup\":\"jasmine\",\"marker\":{\"color\":\"#EF553B\",\"size\":7,\"symbol\":\"diamond\"},\"mode\":\"markers\",\"name\":\"jasmine\",\"showlegend\":false,\"x\":[0.7769748034996262,0.7773637631084439,0.7740508375260149,0.7758393782034444,0.7909805823281001,0.8091046857004305],\"y\":[0.7922329985923368,0.8001699972385552,0.8055758286018333,0.8030768557246099,0.8105262909754636,0.8056276898830091],\"type\":\"scatter\"},{\"legendgroup\":\"jasmine\",\"marker\":{\"color\":\"#EF553B\",\"size\":7,\"symbol\":\"diamond\"},\"mode\":\"markers\",\"name\":\"jasmine\",\"showlegend\":false,\"x\":[0.7797495840994659,0.7845788796616219,0.7908965266412075,0.7978887743899564,0.8081391902904904,0.8138055404012852],\"y\":[0.7848237726724724,0.8045859516545096,0.8181047059061244,0.8188200548247829,0.8158571592141332,0.8096137344837109],\"type\":\"scatter\"},{\"legendgroup\":\"jasmine\",\"marker\":{\"color\":\"#EF553B\",\"size\":7,\"symbol\":\"diamond\"},\"mode\":\"markers\",\"name\":\"jasmine\",\"showlegend\":false,\"x\":[0.7856302492709112,0.7831660301873068,0.7920033945565861,0.7950636142598317,0.8088179669030733,0.8100945626477541],\"y\":[0.8027055424218545,0.8042561273766948,0.8029569686070868,0.8068165929158837,0.8138952536824877,0.8108970654597132],\"type\":\"scatter\"},{\"legendgroup\":\"nomao\",\"marker\":{\"color\":\"#00CC96\",\"size\":7,\"symbol\":\"circle-open\"},\"mode\":\"markers\",\"name\":\"nomao\",\"showlegend\":true,\"x\":[0.7850537176300242,0.7506816819703719,0.8657289863879463,0.9107269539945196,0.9277466399951508,0.9418161671545798],\"y\":[0.955567328690476,0.9538483981604116,0.959153220245774,0.959381578270968,0.9592040578967354,0.9610782124708758],\"type\":\"scatter\"},{\"legendgroup\":\"nomao\",\"marker\":{\"color\":\"#00CC96\",\"size\":7,\"symbol\":\"circle-open\"},\"mode\":\"markers\",\"name\":\"nomao\",\"showlegend\":false,\"x\":[0.8121282181692292,0.8708895587899074,0.876298274905342,0.8880158975390117,0.8883295092050221,0.9462336030986606],\"y\":[0.9530984184444103,0.9577842397644104,0.9586221712082954,0.9607612509523108,0.959721999243649,0.9610281090362828],\"type\":\"scatter\"},{\"legendgroup\":\"nomao\",\"marker\":{\"color\":\"#00CC96\",\"size\":7,\"symbol\":\"circle-open\"},\"mode\":\"markers\",\"name\":\"nomao\",\"showlegend\":false,\"x\":[0.7665444292217896,0.8265233440377096,0.8891824993943034,0.9013029681114508,0.936236038453258,0.9167261191703634],\"y\":[0.949544456503219,0.9598987401367156,0.958797402503551,0.9611510342478408,0.9600778929703534,0.9630388126043716],\"type\":\"scatter\"},{\"legendgroup\":\"nomao\",\"marker\":{\"color\":\"#00CC96\",\"size\":7,\"symbol\":\"circle-open\"},\"mode\":\"markers\",\"name\":\"nomao\",\"showlegend\":false,\"x\":[0.7862039408828675,0.832851755761119,0.8315006397885231,0.9237163092038948,0.9276038808128196,0.9360091003300486],\"y\":[0.9531194288926044,0.955045516782016,0.9602145877751098,0.959951813952118,0.9609365980930524,0.960395271218072],\"type\":\"scatter\"},{\"legendgroup\":\"nomao\",\"marker\":{\"color\":\"#00CC96\",\"size\":7,\"symbol\":\"circle-open\"},\"mode\":\"markers\",\"name\":\"nomao\",\"showlegend\":false,\"x\":[0.7757599515103908,0.8519207366808892,0.8852314614824417,0.9118787584053224,0.9296218145661904,0.946281898522042],\"y\":[0.9550776088104764,0.9588005138410832,0.959835642490367,0.9605461905099492,0.9609264443004828,0.9616979396821363],\"type\":\"scatter\"},{\"legendgroup\":\"nomao\",\"marker\":{\"color\":\"#00CC96\",\"size\":7,\"symbol\":\"diamond\"},\"mode\":\"markers\",\"name\":\"nomao\",\"showlegend\":false,\"x\":[0.9042029891661928,0.9219300580090936,0.9294665248519604,0.9356875406600093,0.9438169571768964,0.9487002093589508],\"y\":[0.956558249197334,0.9580778622030444,0.9597375794390584,0.9600274426329326,0.9603185990331218,0.9620652186601136],\"type\":\"scatter\"},{\"legendgroup\":\"nomao\",\"marker\":{\"color\":\"#00CC96\",\"size\":7,\"symbol\":\"diamond\"},\"mode\":\"markers\",\"name\":\"nomao\",\"showlegend\":false,\"x\":[0.7964658275105206,0.7948899829692946,0.8098173464514717,0.8934983821512482,0.9127860661361252,0.949634992652593],\"y\":[0.9395273317560566,0.9412748519927618,0.9599883424191332,0.9599895709614514,0.9610912196154306,0.961268773505],\"type\":\"scatter\"},{\"legendgroup\":\"nomao\",\"marker\":{\"color\":\"#00CC96\",\"size\":7,\"symbol\":\"diamond\"},\"mode\":\"markers\",\"name\":\"nomao\",\"showlegend\":false,\"x\":[0.8361415977130637,0.8550575812108863,0.883914657640316,0.9083023731114144,0.9264697236648576,0.9374452756933772],\"y\":[0.957836684009178,0.9588872086736416,0.9585588518873894,0.9597731514654396,0.960481825522884,0.960571043287414],\"type\":\"scatter\"},{\"legendgroup\":\"kr-vs-kp\",\"marker\":{\"color\":\"#AB63FA\",\"size\":7,\"symbol\":\"circle-open\"},\"mode\":\"markers\",\"name\":\"kr-vs-kp\",\"showlegend\":true,\"x\":[0.6206596095004342,0.7508023800014337,0.833776653546846,0.8635285148431482,0.936050672319682,0.9366734598434496],\"y\":[0.7116510150508123,0.802777555890094,0.8828868042825461,0.9011500381760604,0.9562833016432204,0.9547233288159276],\"type\":\"scatter\"},{\"legendgroup\":\"kr-vs-kp\",\"marker\":{\"color\":\"#AB63FA\",\"size\":7,\"symbol\":\"circle-open\"},\"mode\":\"markers\",\"name\":\"kr-vs-kp\",\"showlegend\":false,\"x\":[0.6639892788422698,0.7762338491368569,0.737618337253349,0.8700649732653789,0.916270056655322,0.936303829098692],\"y\":[0.755830559737285,0.8138890083668725,0.8164192675885815,0.9161783658370344,0.9539407935386306,0.9559335952745888],\"type\":\"scatter\"},{\"legendgroup\":\"kr-vs-kp\",\"marker\":{\"color\":\"#AB63FA\",\"size\":7,\"symbol\":\"circle-open\"},\"mode\":\"markers\",\"name\":\"kr-vs-kp\",\"showlegend\":false,\"x\":[0.7003278589659123,0.7897561169882901,0.8625975537736268,0.7756730536183054,0.873547619941672,0.9784366476525992],\"y\":[0.7719661183196161,0.8400779792973102,0.900445743909752,0.8383885264723385,0.9120647729975204,0.9880595409997234],\"type\":\"scatter\"},{\"legendgroup\":\"kr-vs-kp\",\"marker\":{\"color\":\"#AB63FA\",\"size\":7,\"symbol\":\"circle-open\"},\"mode\":\"markers\",\"name\":\"kr-vs-kp\",\"showlegend\":false,\"x\":[0.6293342004021287,0.7531360808718024,0.7664192106943036,0.8805412694023712,0.8475757234391909,0.9395480659928108],\"y\":[0.7259078676821158,0.837026864340146,0.8116050786108238,0.9264502977277562,0.8961746677089698,0.960919980473884],\"type\":\"scatter\"},{\"legendgroup\":\"kr-vs-kp\",\"marker\":{\"color\":\"#AB63FA\",\"size\":7,\"symbol\":\"circle-open\"},\"mode\":\"markers\",\"name\":\"kr-vs-kp\",\"showlegend\":false,\"x\":[0.7126761247714273,0.7093544320073553,0.7333195080238,0.8720319222414524,0.880140278531627,0.9445243809049148],\"y\":[0.8114105912111995,0.8049589393996289,0.807313827699093,0.9248941368170838,0.9374605466629798,0.9624900804826456],\"type\":\"scatter\"},{\"legendgroup\":\"kr-vs-kp\",\"marker\":{\"color\":\"#AB63FA\",\"size\":7,\"symbol\":\"diamond\"},\"mode\":\"markers\",\"name\":\"kr-vs-kp\",\"showlegend\":false,\"x\":[0.883310996639824,0.9262419736397433,0.9631417247841716,0.980125349473102,0.986901287289932,0.987355986359028],\"y\":[0.9811333226372092,0.983320953138459,0.9825316929575124,0.9852569743850582,0.9906633076284986,0.9917785492641864],\"type\":\"scatter\"},{\"legendgroup\":\"kr-vs-kp\",\"marker\":{\"color\":\"#AB63FA\",\"size\":7,\"symbol\":\"diamond\"},\"mode\":\"markers\",\"name\":\"kr-vs-kp\",\"showlegend\":false,\"x\":[0.9419215132057308,0.9538220324229112,0.9471287278553246,0.9579153822783428,0.9697331089423014,0.9805000096720272],\"y\":[0.9689453849068584,0.968447833067637,0.965024663669476,0.9666705127198536,0.9722468802022706,0.982899309644832],\"type\":\"scatter\"},{\"legendgroup\":\"kr-vs-kp\",\"marker\":{\"color\":\"#AB63FA\",\"size\":7,\"symbol\":\"diamond\"},\"mode\":\"markers\",\"name\":\"kr-vs-kp\",\"showlegend\":false,\"x\":[0.9318387320313648,0.9626884025566012,0.965124888629451,0.96913269224861,0.993967556606962,0.997148913945129],\"y\":[0.97885982729173,0.9870300049042868,0.989096120606766,0.9890131687495662,0.9940505084641618,0.9936787612522656],\"type\":\"scatter\"},{\"legendgroup\":\"sylvine\",\"marker\":{\"color\":\"#FFA15A\",\"size\":7,\"symbol\":\"circle-open\"},\"mode\":\"markers\",\"name\":\"sylvine\",\"showlegend\":true,\"x\":[0.5462915313590548,0.61028746176943,0.7703795221360489,0.9039780723264949,0.9352322236503036,0.9360103765101654],\"y\":[0.6568453385222475,0.7160190678816247,0.8596688264226853,0.9410924743196716,0.9428117474160927,0.943305495450454],\"type\":\"scatter\"},{\"legendgroup\":\"sylvine\",\"marker\":{\"color\":\"#FFA15A\",\"size\":7,\"symbol\":\"circle-open\"},\"mode\":\"markers\",\"name\":\"sylvine\",\"showlegend\":false,\"x\":[0.669103098049605,0.5914205753504242,0.6874621386443398,0.757483559972065,0.7786071366751804,0.7991825071016441],\"y\":[0.7857195566413606,0.6879531192285866,0.7623057288750144,0.8442932976263556,0.8927683862809911,0.8878931294834829],\"type\":\"scatter\"},{\"legendgroup\":\"sylvine\",\"marker\":{\"color\":\"#FFA15A\",\"size\":7,\"symbol\":\"circle-open\"},\"mode\":\"markers\",\"name\":\"sylvine\",\"showlegend\":false,\"x\":[0.6477546046376244,0.7355691101864184,0.7806813307684474,0.7097433179953931,0.9182498619570436,0.9428117038442329],\"y\":[0.7486204236123142,0.8410665508891855,0.8910588650424375,0.8384040587175539,0.9366968372748063,0.943299555196032],\"type\":\"scatter\"},{\"legendgroup\":\"sylvine\",\"marker\":{\"color\":\"#FFA15A\",\"size\":7,\"symbol\":\"circle-open\"},\"mode\":\"markers\",\"name\":\"sylvine\",\"showlegend\":false,\"x\":[0.7632331597335311,0.8035743237522499,0.6331430908642062,0.826488627622278,0.8540780679611549,0.925533577130884],\"y\":[0.8172178095422808,0.8672323863678425,0.8042091987898038,0.9090908448102546,0.8810893794945542,0.9401168762989532],\"type\":\"scatter\"},{\"legendgroup\":\"sylvine\",\"marker\":{\"color\":\"#FFA15A\",\"size\":7,\"symbol\":\"circle-open\"},\"mode\":\"markers\",\"name\":\"sylvine\",\"showlegend\":false,\"x\":[0.604482431637561,0.5450900480686457,0.6815424938818229,0.7293018839072454,0.7953455824176439,0.8720395797159984],\"y\":[0.7179073254757014,0.6898175462428828,0.8051623731856308,0.8737484250386445,0.8869173413348731,0.9198641460242136],\"type\":\"scatter\"},{\"legendgroup\":\"sylvine\",\"marker\":{\"color\":\"#FFA15A\",\"size\":7,\"symbol\":\"diamond\"},\"mode\":\"markers\",\"name\":\"sylvine\",\"showlegend\":false,\"x\":[0.9083342638855678,0.907360393790612,0.9141600275977536,0.9352661977675452,0.93212398043844,0.9379503087162244],\"y\":[0.936464236332966,0.9401234418477846,0.9357325464914548,0.938414894351116,0.9415832958199156,0.9430610228330508],\"type\":\"scatter\"},{\"legendgroup\":\"sylvine\",\"marker\":{\"color\":\"#FFA15A\",\"size\":7,\"symbol\":\"diamond\"},\"mode\":\"markers\",\"name\":\"sylvine\",\"showlegend\":false,\"x\":[0.9240095527658942,0.9262321095514856,0.9330615055294184,0.9432726845659732,0.9437640877887666,0.9457194876228552],\"y\":[0.9457410521686508,0.9445238992313648,0.9423198233269632,0.9484197957521762,0.947685700200416,0.94451909643181],\"type\":\"scatter\"},{\"legendgroup\":\"sylvine\",\"marker\":{\"color\":\"#FFA15A\",\"size\":7,\"symbol\":\"diamond\"},\"mode\":\"markers\",\"name\":\"sylvine\",\"showlegend\":false,\"x\":[0.9413322400295854,0.943044912668726,0.943529750342688,0.9408456046129624,0.9454923235233252,0.9432959682042498],\"y\":[0.9503817437658072,0.9501360551707604,0.9474543065303408,0.9472008538205756,0.9449985756588348,0.9447636039151944],\"type\":\"scatter\"},{\"legendgroup\":\"australian\",\"marker\":{\"color\":\"#19D3F3\",\"size\":7,\"symbol\":\"circle-open\"},\"mode\":\"markers\",\"name\":\"australian\",\"showlegend\":true,\"x\":[0.7057947096342503,0.8003969177306036,0.7973832007684089,0.7216411357774204,0.8604182216514316,0.807982063264227],\"y\":[0.7269281990956087,0.8212235616615763,0.8528629059238714,0.8003403231202582,0.8463393302323574,0.8380077488425302],\"type\":\"scatter\"},{\"legendgroup\":\"australian\",\"marker\":{\"color\":\"#19D3F3\",\"size\":7,\"symbol\":\"circle-open\"},\"mode\":\"markers\",\"name\":\"australian\",\"showlegend\":false,\"x\":[0.7038126247855038,0.7494850149472798,0.7500068638772273,0.8451811264960771,0.8295631509081687,0.7408685826525216],\"y\":[0.7594896340344705,0.7726699187342838,0.7930038096677063,0.8471228482932041,0.8218709245728963,0.7924145954521418],\"type\":\"scatter\"},{\"legendgroup\":\"australian\",\"marker\":{\"color\":\"#19D3F3\",\"size\":7,\"symbol\":\"circle-open\"},\"mode\":\"markers\",\"name\":\"australian\",\"showlegend\":false,\"x\":[0.7634574731002924,0.7596903268975491,0.8262557118034944,0.8218040989002688,0.8366813369451428,0.8593798119988344],\"y\":[0.7931636430352151,0.7939251448860877,0.8512379369516182,0.8248060738838106,0.8418826665515493,0.8532861135993265],\"type\":\"scatter\"},{\"legendgroup\":\"australian\",\"marker\":{\"color\":\"#19D3F3\",\"size\":7,\"symbol\":\"circle-open\"},\"mode\":\"markers\",\"name\":\"australian\",\"showlegend\":false,\"x\":[0.6830098101641503,0.7347947420110297,0.835174089942693,0.8148810153358012,0.8122657054360612,0.86127404785288],\"y\":[0.7174310536483234,0.7528358173517953,0.8479304978469442,0.8208642441640854,0.8149194357806582,0.8671365544631391],\"type\":\"scatter\"},{\"legendgroup\":\"australian\",\"marker\":{\"color\":\"#19D3F3\",\"size\":7,\"symbol\":\"circle-open\"},\"mode\":\"markers\",\"name\":\"australian\",\"showlegend\":false,\"x\":[0.7551239275191832,0.7862637196602597,0.7117418491457925,0.7146133672929775,0.867704033067484,0.8334361044259058],\"y\":[0.791698658522108,0.8315246441252334,0.8036069458984016,0.7898913435284214,0.8499522334581637,0.8410583321641718],\"type\":\"scatter\"},{\"legendgroup\":\"australian\",\"marker\":{\"color\":\"#19D3F3\",\"size\":7,\"symbol\":\"diamond\"},\"mode\":\"markers\",\"name\":\"australian\",\"showlegend\":false,\"x\":[0.7076541080736896,0.7144373887048209,0.8036825133014602,0.8592476068163913,0.863420628325365,0.8691151642042328],\"y\":[0.7495738999989208,0.7838538943869457,0.807265047108214,0.836980973245988,0.8504493681131893,0.851579166621699],\"type\":\"scatter\"},{\"legendgroup\":\"australian\",\"marker\":{\"color\":\"#19D3F3\",\"size\":7,\"symbol\":\"diamond\"},\"mode\":\"markers\",\"name\":\"australian\",\"showlegend\":false,\"x\":[0.7192851854649845,0.7156579069491361,0.7147398741622508,0.7179489957802264,0.7944215888364865,0.8695115854908859],\"y\":[0.7333025610032485,0.7292547297078535,0.741042963986229,0.7547518751551388,0.8144336761674527,0.8630740025253887],\"type\":\"scatter\"},{\"legendgroup\":\"australian\",\"marker\":{\"color\":\"#19D3F3\",\"size\":7,\"symbol\":\"diamond\"},\"mode\":\"markers\",\"name\":\"australian\",\"showlegend\":false,\"x\":[0.8165387927778198,0.8592553988279606,0.859228957791472,0.8571881414649415,0.8736367757044647,0.8566227349744763],\"y\":[0.8097050259553848,0.8337411368566464,0.8320730420142674,0.8349381927281753,0.864584228191541,0.8700331969911179],\"type\":\"scatter\"},{\"legendgroup\":\"adult\",\"marker\":{\"color\":\"#FF6692\",\"size\":7,\"symbol\":\"circle-open\"},\"mode\":\"markers\",\"name\":\"adult\",\"showlegend\":true,\"x\":[0.7069833212293559,0.7365324583093097,0.7479440036102167,0.7817842319700343,0.7735934083383081,0.7848539524446917],\"y\":[0.7069917436473961,0.7400965023870631,0.7550896209102305,0.7757157743682546,0.776740245016251,0.7768364407843378],\"type\":\"scatter\"},{\"legendgroup\":\"adult\",\"marker\":{\"color\":\"#FF6692\",\"size\":7,\"symbol\":\"circle-open\"},\"mode\":\"markers\",\"name\":\"adult\",\"showlegend\":false,\"x\":[0.6465076182037017,0.7589620738336953,0.7594604928558187,0.7672165509843907,0.7568845656316208,0.7804314194535579],\"y\":[0.6708098363440206,0.7462504219384165,0.7221672944974241,0.746303148519488,0.7932588187765288,0.7872777123652759],\"type\":\"scatter\"},{\"legendgroup\":\"adult\",\"marker\":{\"color\":\"#FF6692\",\"size\":7,\"symbol\":\"circle-open\"},\"mode\":\"markers\",\"name\":\"adult\",\"showlegend\":false,\"x\":[0.7155481334759732,0.7425276056745259,0.7584348165269466,0.756117026786924,0.7893595360009706,0.7695922147444019],\"y\":[0.7183212309886766,0.7403312683210848,0.7619085144309459,0.7600618358020345,0.7818043358204598,0.7863343049850812],\"type\":\"scatter\"},{\"legendgroup\":\"adult\",\"marker\":{\"color\":\"#FF6692\",\"size\":7,\"symbol\":\"circle-open\"},\"mode\":\"markers\",\"name\":\"adult\",\"showlegend\":false,\"x\":[0.6785783678395902,0.752267361134497,0.7569417991556129,0.7581770572764747,0.7789806959985441,0.7811620352597083],\"y\":[0.6537883131023996,0.7325626274985358,0.7662608730624424,0.7577866458489593,0.7907942971047399,0.7815073688901135],\"type\":\"scatter\"},{\"legendgroup\":\"adult\",\"marker\":{\"color\":\"#FF6692\",\"size\":7,\"symbol\":\"circle-open\"},\"mode\":\"markers\",\"name\":\"adult\",\"showlegend\":false,\"x\":[0.6978082810707966,0.7360167661460538,0.7484001202120549,0.7498719679253103,0.7607909034102602,0.7831099621006609],\"y\":[0.6757853502074684,0.7314248113508662,0.7640812184028078,0.7752183948935387,0.7700631853700047,0.7883971523508079],\"type\":\"scatter\"},{\"legendgroup\":\"adult\",\"marker\":{\"color\":\"#FF6692\",\"size\":7,\"symbol\":\"diamond\"},\"mode\":\"markers\",\"name\":\"adult\",\"showlegend\":false,\"x\":[0.6050134882642443,0.6283013505997846,0.638443611123867,0.6932564341512448,0.7522456246134239,0.780616306999954],\"y\":[0.6607166788273371,0.6737518925688382,0.683041230920645,0.7425975393152494,0.7757240791821227,0.7853160295552483],\"type\":\"scatter\"},{\"legendgroup\":\"adult\",\"marker\":{\"color\":\"#FF6692\",\"size\":7,\"symbol\":\"diamond\"},\"mode\":\"markers\",\"name\":\"adult\",\"showlegend\":false,\"x\":[0.7262763222050441,0.7144610845503925,0.7041468190350494,0.7679473195897915,0.7910222371438469,0.7981974304871695],\"y\":[0.7243004789773472,0.7336885958762571,0.7347215116875666,0.7789804236675562,0.7829438331907502,0.7869301653000795],\"type\":\"scatter\"},{\"legendgroup\":\"adult\",\"marker\":{\"color\":\"#FF6692\",\"size\":7,\"symbol\":\"diamond\"},\"mode\":\"markers\",\"name\":\"adult\",\"showlegend\":false,\"x\":[0.6528563970739556,0.7574250802122363,0.755290357353634,0.748832750766349,0.7676010528135937,0.7699953069903163],\"y\":[0.6809538406572317,0.7512409745544347,0.7531103021912451,0.7529560735944505,0.7594431124286588,0.7635104751732399],\"type\":\"scatter\"},{\"marker\":{\"color\":\"#777\",\"symbol\":\"diamond\"},\"mode\":\"markers\",\"name\":\"Algorithm selection\",\"x\":[null],\"y\":[null],\"type\":\"scatter\"},{\"marker\":{\"color\":\"#777\",\"symbol\":\"circle-open\"},\"mode\":\"markers\",\"name\":\"Random selection\",\"x\":[null],\"y\":[null],\"type\":\"scatter\"}],                        {\"font\":{\"size\":11},\"margin\":{\"b\":20,\"l\":20,\"r\":0,\"t\":0},\"template\":{\"data\":{\"barpolar\":[{\"marker\":{\"line\":{\"color\":\"white\",\"width\":0.5},\"pattern\":{\"fillmode\":\"overlay\",\"size\":10,\"solidity\":0.2}},\"type\":\"barpolar\"}],\"bar\":[{\"error_x\":{\"color\":\"#2a3f5f\"},\"error_y\":{\"color\":\"#2a3f5f\"},\"marker\":{\"line\":{\"color\":\"white\",\"width\":0.5},\"pattern\":{\"fillmode\":\"overlay\",\"size\":10,\"solidity\":0.2}},\"type\":\"bar\"}],\"carpet\":[{\"aaxis\":{\"endlinecolor\":\"#2a3f5f\",\"gridcolor\":\"#C8D4E3\",\"linecolor\":\"#C8D4E3\",\"minorgridcolor\":\"#C8D4E3\",\"startlinecolor\":\"#2a3f5f\"},\"baxis\":{\"endlinecolor\":\"#2a3f5f\",\"gridcolor\":\"#C8D4E3\",\"linecolor\":\"#C8D4E3\",\"minorgridcolor\":\"#C8D4E3\",\"startlinecolor\":\"#2a3f5f\"},\"type\":\"carpet\"}],\"choropleth\":[{\"colorbar\":{\"outlinewidth\":0,\"ticks\":\"\"},\"type\":\"choropleth\"}],\"contourcarpet\":[{\"colorbar\":{\"outlinewidth\":0,\"ticks\":\"\"},\"type\":\"contourcarpet\"}],\"contour\":[{\"colorbar\":{\"outlinewidth\":0,\"ticks\":\"\"},\"colorscale\":[[0.0,\"#0d0887\"],[0.1111111111111111,\"#46039f\"],[0.2222222222222222,\"#7201a8\"],[0.3333333333333333,\"#9c179e\"],[0.4444444444444444,\"#bd3786\"],[0.5555555555555556,\"#d8576b\"],[0.6666666666666666,\"#ed7953\"],[0.7777777777777778,\"#fb9f3a\"],[0.8888888888888888,\"#fdca26\"],[1.0,\"#f0f921\"]],\"type\":\"contour\"}],\"heatmapgl\":[{\"colorbar\":{\"outlinewidth\":0,\"ticks\":\"\"},\"colorscale\":[[0.0,\"#0d0887\"],[0.1111111111111111,\"#46039f\"],[0.2222222222222222,\"#7201a8\"],[0.3333333333333333,\"#9c179e\"],[0.4444444444444444,\"#bd3786\"],[0.5555555555555556,\"#d8576b\"],[0.6666666666666666,\"#ed7953\"],[0.7777777777777778,\"#fb9f3a\"],[0.8888888888888888,\"#fdca26\"],[1.0,\"#f0f921\"]],\"type\":\"heatmapgl\"}],\"heatmap\":[{\"colorbar\":{\"outlinewidth\":0,\"ticks\":\"\"},\"colorscale\":[[0.0,\"#0d0887\"],[0.1111111111111111,\"#46039f\"],[0.2222222222222222,\"#7201a8\"],[0.3333333333333333,\"#9c179e\"],[0.4444444444444444,\"#bd3786\"],[0.5555555555555556,\"#d8576b\"],[0.6666666666666666,\"#ed7953\"],[0.7777777777777778,\"#fb9f3a\"],[0.8888888888888888,\"#fdca26\"],[1.0,\"#f0f921\"]],\"type\":\"heatmap\"}],\"histogram2dcontour\":[{\"colorbar\":{\"outlinewidth\":0,\"ticks\":\"\"},\"colorscale\":[[0.0,\"#0d0887\"],[0.1111111111111111,\"#46039f\"],[0.2222222222222222,\"#7201a8\"],[0.3333333333333333,\"#9c179e\"],[0.4444444444444444,\"#bd3786\"],[0.5555555555555556,\"#d8576b\"],[0.6666666666666666,\"#ed7953\"],[0.7777777777777778,\"#fb9f3a\"],[0.8888888888888888,\"#fdca26\"],[1.0,\"#f0f921\"]],\"type\":\"histogram2dcontour\"}],\"histogram2d\":[{\"colorbar\":{\"outlinewidth\":0,\"ticks\":\"\"},\"colorscale\":[[0.0,\"#0d0887\"],[0.1111111111111111,\"#46039f\"],[0.2222222222222222,\"#7201a8\"],[0.3333333333333333,\"#9c179e\"],[0.4444444444444444,\"#bd3786\"],[0.5555555555555556,\"#d8576b\"],[0.6666666666666666,\"#ed7953\"],[0.7777777777777778,\"#fb9f3a\"],[0.8888888888888888,\"#fdca26\"],[1.0,\"#f0f921\"]],\"type\":\"histogram2d\"}],\"histogram\":[{\"marker\":{\"pattern\":{\"fillmode\":\"overlay\",\"size\":10,\"solidity\":0.2}},\"type\":\"histogram\"}],\"mesh3d\":[{\"colorbar\":{\"outlinewidth\":0,\"ticks\":\"\"},\"type\":\"mesh3d\"}],\"parcoords\":[{\"line\":{\"colorbar\":{\"outlinewidth\":0,\"ticks\":\"\"}},\"type\":\"parcoords\"}],\"pie\":[{\"automargin\":true,\"type\":\"pie\"}],\"scatter3d\":[{\"line\":{\"colorbar\":{\"outlinewidth\":0,\"ticks\":\"\"}},\"marker\":{\"colorbar\":{\"outlinewidth\":0,\"ticks\":\"\"}},\"type\":\"scatter3d\"}],\"scattercarpet\":[{\"marker\":{\"colorbar\":{\"outlinewidth\":0,\"ticks\":\"\"}},\"type\":\"scattercarpet\"}],\"scattergeo\":[{\"marker\":{\"colorbar\":{\"outlinewidth\":0,\"ticks\":\"\"}},\"type\":\"scattergeo\"}],\"scattergl\":[{\"marker\":{\"colorbar\":{\"outlinewidth\":0,\"ticks\":\"\"}},\"type\":\"scattergl\"}],\"scattermapbox\":[{\"marker\":{\"colorbar\":{\"outlinewidth\":0,\"ticks\":\"\"}},\"type\":\"scattermapbox\"}],\"scatterpolargl\":[{\"marker\":{\"colorbar\":{\"outlinewidth\":0,\"ticks\":\"\"}},\"type\":\"scatterpolargl\"}],\"scatterpolar\":[{\"marker\":{\"colorbar\":{\"outlinewidth\":0,\"ticks\":\"\"}},\"type\":\"scatterpolar\"}],\"scatter\":[{\"fillpattern\":{\"fillmode\":\"overlay\",\"size\":10,\"solidity\":0.2},\"type\":\"scatter\"}],\"scatterternary\":[{\"marker\":{\"colorbar\":{\"outlinewidth\":0,\"ticks\":\"\"}},\"type\":\"scatterternary\"}],\"surface\":[{\"colorbar\":{\"outlinewidth\":0,\"ticks\":\"\"},\"colorscale\":[[0.0,\"#0d0887\"],[0.1111111111111111,\"#46039f\"],[0.2222222222222222,\"#7201a8\"],[0.3333333333333333,\"#9c179e\"],[0.4444444444444444,\"#bd3786\"],[0.5555555555555556,\"#d8576b\"],[0.6666666666666666,\"#ed7953\"],[0.7777777777777778,\"#fb9f3a\"],[0.8888888888888888,\"#fdca26\"],[1.0,\"#f0f921\"]],\"type\":\"surface\"}],\"table\":[{\"cells\":{\"fill\":{\"color\":\"#EBF0F8\"},\"line\":{\"color\":\"white\"}},\"header\":{\"fill\":{\"color\":\"#C8D4E3\"},\"line\":{\"color\":\"white\"}},\"type\":\"table\"}]},\"layout\":{\"annotationdefaults\":{\"arrowcolor\":\"#2a3f5f\",\"arrowhead\":0,\"arrowwidth\":1},\"autotypenumbers\":\"strict\",\"coloraxis\":{\"colorbar\":{\"outlinewidth\":0,\"ticks\":\"\"}},\"colorscale\":{\"diverging\":[[0,\"#8e0152\"],[0.1,\"#c51b7d\"],[0.2,\"#de77ae\"],[0.3,\"#f1b6da\"],[0.4,\"#fde0ef\"],[0.5,\"#f7f7f7\"],[0.6,\"#e6f5d0\"],[0.7,\"#b8e186\"],[0.8,\"#7fbc41\"],[0.9,\"#4d9221\"],[1,\"#276419\"]],\"sequential\":[[0.0,\"#0d0887\"],[0.1111111111111111,\"#46039f\"],[0.2222222222222222,\"#7201a8\"],[0.3333333333333333,\"#9c179e\"],[0.4444444444444444,\"#bd3786\"],[0.5555555555555556,\"#d8576b\"],[0.6666666666666666,\"#ed7953\"],[0.7777777777777778,\"#fb9f3a\"],[0.8888888888888888,\"#fdca26\"],[1.0,\"#f0f921\"]],\"sequentialminus\":[[0.0,\"#0d0887\"],[0.1111111111111111,\"#46039f\"],[0.2222222222222222,\"#7201a8\"],[0.3333333333333333,\"#9c179e\"],[0.4444444444444444,\"#bd3786\"],[0.5555555555555556,\"#d8576b\"],[0.6666666666666666,\"#ed7953\"],[0.7777777777777778,\"#fb9f3a\"],[0.8888888888888888,\"#fdca26\"],[1.0,\"#f0f921\"]]},\"colorway\":[\"#636efa\",\"#EF553B\",\"#00cc96\",\"#ab63fa\",\"#FFA15A\",\"#19d3f3\",\"#FF6692\",\"#B6E880\",\"#FF97FF\",\"#FECB52\"],\"font\":{\"color\":\"#2a3f5f\"},\"geo\":{\"bgcolor\":\"white\",\"lakecolor\":\"white\",\"landcolor\":\"white\",\"showlakes\":true,\"showland\":true,\"subunitcolor\":\"#C8D4E3\"},\"hoverlabel\":{\"align\":\"left\"},\"hovermode\":\"closest\",\"mapbox\":{\"style\":\"light\"},\"paper_bgcolor\":\"white\",\"plot_bgcolor\":\"white\",\"polar\":{\"angularaxis\":{\"gridcolor\":\"#EBF0F8\",\"linecolor\":\"#EBF0F8\",\"ticks\":\"\"},\"bgcolor\":\"white\",\"radialaxis\":{\"gridcolor\":\"#EBF0F8\",\"linecolor\":\"#EBF0F8\",\"ticks\":\"\"}},\"scene\":{\"xaxis\":{\"backgroundcolor\":\"white\",\"gridcolor\":\"#DFE8F3\",\"gridwidth\":2,\"linecolor\":\"#EBF0F8\",\"showbackground\":true,\"ticks\":\"\",\"zerolinecolor\":\"#EBF0F8\"},\"yaxis\":{\"backgroundcolor\":\"white\",\"gridcolor\":\"#DFE8F3\",\"gridwidth\":2,\"linecolor\":\"#EBF0F8\",\"showbackground\":true,\"ticks\":\"\",\"zerolinecolor\":\"#EBF0F8\"},\"zaxis\":{\"backgroundcolor\":\"white\",\"gridcolor\":\"#DFE8F3\",\"gridwidth\":2,\"linecolor\":\"#EBF0F8\",\"showbackground\":true,\"ticks\":\"\",\"zerolinecolor\":\"#EBF0F8\"}},\"shapedefaults\":{\"line\":{\"color\":\"#2a3f5f\"}},\"ternary\":{\"aaxis\":{\"gridcolor\":\"#DFE8F3\",\"linecolor\":\"#A2B1C6\",\"ticks\":\"\"},\"baxis\":{\"gridcolor\":\"#DFE8F3\",\"linecolor\":\"#A2B1C6\",\"ticks\":\"\"},\"bgcolor\":\"white\",\"caxis\":{\"gridcolor\":\"#DFE8F3\",\"linecolor\":\"#A2B1C6\",\"ticks\":\"\"}},\"title\":{\"x\":0.05},\"xaxis\":{\"automargin\":true,\"gridcolor\":\"#EBF0F8\",\"linecolor\":\"#EBF0F8\",\"ticks\":\"\",\"title\":{\"standoff\":15},\"zerolinecolor\":\"#EBF0F8\",\"zerolinewidth\":2},\"yaxis\":{\"automargin\":true,\"gridcolor\":\"#EBF0F8\",\"linecolor\":\"#EBF0F8\",\"ticks\":\"\",\"title\":{\"standoff\":15},\"zerolinecolor\":\"#EBF0F8\",\"zerolinewidth\":2}}},\"legend\":{\"orientation\":\"h\",\"yanchor\":\"bottom\",\"y\":1.02,\"xanchor\":\"left\",\"x\":-0.02},\"yaxis\":{\"title\":{\"text\":\"XGBoost balanced accuracy\"}},\"xaxis\":{\"title\":{\"text\":\"FT-Transformer balanced accuracy\"}}},                        {\"responsive\": true}                    ).then(function(){\n",
       "                            \n",
       "var gd = document.getElementById('e246b21e-fd21-4e84-a165-aff8672e2662');\n",
       "var x = new MutationObserver(function (mutations, observer) {{\n",
       "        var display = window.getComputedStyle(gd).display;\n",
       "        if (!display || display === 'none') {{\n",
       "            console.log([gd, 'removed!']);\n",
       "            Plotly.purge(gd);\n",
       "            observer.disconnect();\n",
       "        }}\n",
       "}});\n",
       "\n",
       "// Listen for the removal of the full notebook cells\n",
       "var notebookContainer = gd.closest('#notebook-container');\n",
       "if (notebookContainer) {{\n",
       "    x.observe(notebookContainer, {childList: true});\n",
       "}}\n",
       "\n",
       "// Listen for the clearing of the current output cell\n",
       "var outputEl = gd.closest('.output');\n",
       "if (outputEl) {{\n",
       "    x.observe(outputEl, {childList: true});\n",
       "}}\n",
       "\n",
       "                        })                };                });            </script>        </div>"
      ]
     },
     "metadata": {},
     "output_type": "display_data"
    },
    {
     "data": {
      "application/vnd.plotly.v1+json": {
       "config": {
        "plotlyServerURL": "https://plot.ly"
       },
       "data": [
        {
         "line": {
          "color": "#777",
          "dash": "dot"
         },
         "mode": "lines",
         "showlegend": false,
         "type": "scatter",
         "x": [
          0.3,
          1
         ],
         "y": [
          0.3,
          1
         ]
        },
        {
         "legendgroup": "volkert",
         "marker": {
          "color": "#636EFA",
          "size": 7,
          "symbol": "circle-open"
         },
         "mode": "markers",
         "name": "volkert",
         "showlegend": true,
         "type": "scatter",
         "x": [
          0.302850911702296,
          0.3697124243033939,
          0.4140090987816102,
          0.4594020715303634,
          0.5359208031424196,
          0.5600215641023285
         ],
         "y": [
          0.5755401812159768,
          0.5777731240376367,
          0.5937898132856783,
          0.5844564927380341,
          0.603856456294664,
          0.6058841783361125
         ]
        },
        {
         "legendgroup": "volkert",
         "marker": {
          "color": "#636EFA",
          "size": 7,
          "symbol": "circle-open"
         },
         "mode": "markers",
         "name": "volkert",
         "showlegend": false,
         "type": "scatter",
         "x": [
          0.3051859081017525,
          0.3830054155330478,
          0.4345457966435601,
          0.4818651880169726,
          0.533571540142668,
          0.558537513402794
         ],
         "y": [
          0.5620120781468209,
          0.5764481368374318,
          0.5855854568590423,
          0.5946537286378829,
          0.6026173069085891,
          0.6041207190495242
         ]
        },
        {
         "legendgroup": "volkert",
         "marker": {
          "color": "#636EFA",
          "size": 7,
          "symbol": "circle-open"
         },
         "mode": "markers",
         "name": "volkert",
         "showlegend": false,
         "type": "scatter",
         "x": [
          0.3238299391134984,
          0.3526892145378254,
          0.4378433871426509,
          0.4565952043114244,
          0.5363588102407467,
          0.569741347631594
         ],
         "y": [
          0.5657887038311032,
          0.5855121034309676,
          0.5842232546471363,
          0.5832490396512208,
          0.6010121485468505,
          0.6052959515699247
         ]
        },
        {
         "legendgroup": "volkert",
         "marker": {
          "color": "#636EFA",
          "size": 7,
          "symbol": "circle-open"
         },
         "mode": "markers",
         "name": "volkert",
         "showlegend": false,
         "type": "scatter",
         "x": [
          0.303273034950428,
          0.3951636503877577,
          0.4326244144446575,
          0.4819012907919704,
          0.5190568161878772,
          0.5597961717755254
         ],
         "y": [
          0.5572788485230726,
          0.5839264474892946,
          0.5777530723802022,
          0.5951010658299632,
          0.5979437659086045,
          0.6061910597762642
         ]
        },
        {
         "legendgroup": "volkert",
         "marker": {
          "color": "#636EFA",
          "size": 7,
          "symbol": "circle-open"
         },
         "mode": "markers",
         "name": "volkert",
         "showlegend": false,
         "type": "scatter",
         "x": [
          0.3263993664826789,
          0.3788552067981217,
          0.4307315412555893,
          0.4661642379732328,
          0.5366808387005019,
          0.5595833191752082
         ],
         "y": [
          0.5732663644858087,
          0.5767183024270017,
          0.5832236597809217,
          0.5898451208320962,
          0.6049926551562427,
          0.6062304437916294
         ]
        },
        {
         "legendgroup": "volkert",
         "marker": {
          "color": "#636EFA",
          "size": 7,
          "symbol": "diamond"
         },
         "mode": "markers",
         "name": "volkert",
         "showlegend": false,
         "type": "scatter",
         "x": [
          0.3752281589737554,
          0.4425488524038993,
          0.4992058487168296,
          0.5590186282935955,
          0.594636177237889,
          0.5991507303399104
         ],
         "y": [
          0.612752927325066,
          0.6197002236291217,
          0.6164831208533282,
          0.614703018709621,
          0.6113264375606995,
          0.6096698632100874
         ]
        },
        {
         "legendgroup": "volkert",
         "marker": {
          "color": "#636EFA",
          "size": 7,
          "symbol": "diamond"
         },
         "mode": "markers",
         "name": "volkert",
         "showlegend": false,
         "type": "scatter",
         "x": [
          0.3301462971096476,
          0.3528688780805586,
          0.4662191748802138,
          0.5570967642476552,
          0.585605402053883,
          0.5991507303399104
         ],
         "y": [
          0.4439169776163661,
          0.4406221441857628,
          0.5601235686191344,
          0.5962134375538146,
          0.6059252810269948,
          0.6096698632100874
         ]
        },
        {
         "legendgroup": "volkert",
         "marker": {
          "color": "#636EFA",
          "size": 7,
          "symbol": "diamond"
         },
         "mode": "markers",
         "name": "volkert",
         "showlegend": false,
         "type": "scatter",
         "x": [
          0.4312030275363697,
          0.4784508685204266,
          0.5185967708787869,
          0.5649063771555045,
          0.5998098148614754,
          0.5991507303399104
         ],
         "y": [
          0.6053073045226102,
          0.6026961228084774,
          0.6024600364047293,
          0.6057615042868341,
          0.6085072611997198,
          0.6096698632100874
         ]
        },
        {
         "legendgroup": "jasmine",
         "marker": {
          "color": "#EF553B",
          "size": 7,
          "symbol": "circle-open"
         },
         "mode": "markers",
         "name": "jasmine",
         "showlegend": true,
         "type": "scatter",
         "x": [
          0.7653042640749497,
          0.7697355074660039,
          0.7813079819226392,
          0.7792851225475339,
          0.7852929488863294,
          0.786747826204091
         ],
         "y": [
          0.7926012136886842,
          0.8026160311975914,
          0.80050547911068,
          0.787720258902292,
          0.8093350306116264,
          0.8150683289217568
         ]
        },
        {
         "legendgroup": "jasmine",
         "marker": {
          "color": "#EF553B",
          "size": 7,
          "symbol": "circle-open"
         },
         "mode": "markers",
         "name": "jasmine",
         "showlegend": false,
         "type": "scatter",
         "x": [
          0.7620746533039677,
          0.7573532561475824,
          0.7829600668134947,
          0.7847096778538859,
          0.7843863867504529,
          0.7840381752911304
         ],
         "y": [
          0.7776696099627542,
          0.7870725990584146,
          0.7992740094158534,
          0.8072688636991238,
          0.8016261542502677,
          0.8070825672007705
         ]
        },
        {
         "legendgroup": "jasmine",
         "marker": {
          "color": "#EF553B",
          "size": 7,
          "symbol": "circle-open"
         },
         "mode": "markers",
         "name": "jasmine",
         "showlegend": false,
         "type": "scatter",
         "x": [
          0.7531264943794495,
          0.7658771628511581,
          0.7748533403379738,
          0.7828541889771204,
          0.7828243519023661,
          0.7884834279633334
         ],
         "y": [
          0.7784438921554762,
          0.7840682144228244,
          0.7904652024273774,
          0.8121230796171695,
          0.8041123975402936,
          0.8143438874408142
         ]
        },
        {
         "legendgroup": "jasmine",
         "marker": {
          "color": "#EF553B",
          "size": 7,
          "symbol": "circle-open"
         },
         "mode": "markers",
         "name": "jasmine",
         "showlegend": false,
         "type": "scatter",
         "x": [
          0.7740979841452654,
          0.7536970358246954,
          0.7757677153421835,
          0.7795365487327663,
          0.7891129026826427,
          0.7882047240912489
         ],
         "y": [
          0.7964281047732584,
          0.7867931543108848,
          0.8090877802698134,
          0.7969746014426866,
          0.8070794689943626,
          0.8092595286685121
         ]
        },
        {
         "legendgroup": "jasmine",
         "marker": {
          "color": "#EF553B",
          "size": 7,
          "symbol": "circle-open"
         },
         "mode": "markers",
         "name": "jasmine",
         "showlegend": false,
         "type": "scatter",
         "x": [
          0.7395688104907963,
          0.7475096482188681,
          0.780164945815064,
          0.7835902824082494,
          0.7895329790601658,
          0.7828980353330235
         ],
         "y": [
          0.7713743239511561,
          0.7967615660759868,
          0.798321782411617,
          0.8033788634970668,
          0.8075262842402322,
          0.8114279363924753
         ]
        },
        {
         "legendgroup": "jasmine",
         "marker": {
          "color": "#EF553B",
          "size": 7,
          "symbol": "diamond"
         },
         "mode": "markers",
         "name": "jasmine",
         "showlegend": false,
         "type": "scatter",
         "x": [
          0.7783323567247917,
          0.7789903888249042,
          0.7859338734988853,
          0.7848952334767938,
          0.7853939100038391,
          0.7874198675853522
         ],
         "y": [
          0.7922329985923368,
          0.8001699972385552,
          0.8055758286018333,
          0.8030768557246099,
          0.8105262909754636,
          0.8056276898830091
         ]
        },
        {
         "legendgroup": "jasmine",
         "marker": {
          "color": "#EF553B",
          "size": 7,
          "symbol": "diamond"
         },
         "mode": "markers",
         "name": "jasmine",
         "showlegend": false,
         "type": "scatter",
         "x": [
          0.7766034901968708,
          0.7766727957271693,
          0.7828949371266156,
          0.7844862702309511,
          0.7801287102705542,
          0.7838780788426178
         ],
         "y": [
          0.7848237726724724,
          0.8045859516545096,
          0.8181047059061244,
          0.8188200548247829,
          0.8158571592141332,
          0.8096137344837109
         ]
        },
        {
         "legendgroup": "jasmine",
         "marker": {
          "color": "#EF553B",
          "size": 7,
          "symbol": "diamond"
         },
         "mode": "markers",
         "name": "jasmine",
         "showlegend": false,
         "type": "scatter",
         "x": [
          0.7792347430172489,
          0.7747092737400065,
          0.7769220666383786,
          0.7823040552827787,
          0.7853331582173191,
          0.7872026563752332
         ],
         "y": [
          0.8027055424218545,
          0.8042561273766948,
          0.8029569686070868,
          0.8068165929158837,
          0.8138952536824877,
          0.8108970654597132
         ]
        },
        {
         "legendgroup": "nomao",
         "marker": {
          "color": "#00CC96",
          "size": 7,
          "symbol": "circle-open"
         },
         "mode": "markers",
         "name": "nomao",
         "showlegend": true,
         "type": "scatter",
         "x": [
          0.8172362907505548,
          0.8255858674981941,
          0.8663822123407758,
          0.912642465021566,
          0.923283853742759,
          0.9337862889999726
         ],
         "y": [
          0.955567328690476,
          0.9538483981604116,
          0.959153220245774,
          0.959381578270968,
          0.9592040578967354,
          0.9610782124708758
         ]
        },
        {
         "legendgroup": "nomao",
         "marker": {
          "color": "#00CC96",
          "size": 7,
          "symbol": "circle-open"
         },
         "mode": "markers",
         "name": "nomao",
         "showlegend": false,
         "type": "scatter",
         "x": [
          0.8528273316539481,
          0.913749933045218,
          0.8756528731170071,
          0.8909510231082196,
          0.9145962046953036,
          0.9302800756706532
         ],
         "y": [
          0.9530984184444103,
          0.9577842397644104,
          0.9586221712082954,
          0.9607612509523108,
          0.959721999243649,
          0.9610281090362828
         ]
        },
        {
         "legendgroup": "nomao",
         "marker": {
          "color": "#00CC96",
          "size": 7,
          "symbol": "circle-open"
         },
         "mode": "markers",
         "name": "nomao",
         "showlegend": false,
         "type": "scatter",
         "x": [
          0.7999623993209364,
          0.8940926347392418,
          0.9087834044634008,
          0.9211196267422558,
          0.9291856557103728,
          0.9252779100367736
         ],
         "y": [
          0.949544456503219,
          0.9598987401367156,
          0.958797402503551,
          0.9611510342478408,
          0.9600778929703534,
          0.9630388126043716
         ]
        },
        {
         "legendgroup": "nomao",
         "marker": {
          "color": "#00CC96",
          "size": 7,
          "symbol": "circle-open"
         },
         "mode": "markers",
         "name": "nomao",
         "showlegend": false,
         "type": "scatter",
         "x": [
          0.7703819389034587,
          0.8681523234365633,
          0.878364974276997,
          0.92434864197553,
          0.924659982182846,
          0.9326374126717176
         ],
         "y": [
          0.9531194288926044,
          0.955045516782016,
          0.9602145877751098,
          0.959951813952118,
          0.9609365980930524,
          0.960395271218072
         ]
        },
        {
         "legendgroup": "nomao",
         "marker": {
          "color": "#00CC96",
          "size": 7,
          "symbol": "circle-open"
         },
         "mode": "markers",
         "name": "nomao",
         "showlegend": false,
         "type": "scatter",
         "x": [
          0.8016343615520471,
          0.8373295731534365,
          0.8905042457629756,
          0.9188613423983892,
          0.9196107590335468,
          0.9303208180520274
         ],
         "y": [
          0.9550776088104764,
          0.9588005138410832,
          0.959835642490367,
          0.9605461905099492,
          0.9609264443004828,
          0.9616979396821363
         ]
        },
        {
         "legendgroup": "nomao",
         "marker": {
          "color": "#00CC96",
          "size": 7,
          "symbol": "diamond"
         },
         "mode": "markers",
         "name": "nomao",
         "showlegend": false,
         "type": "scatter",
         "x": [
          0.892856540019584,
          0.9047731626052,
          0.9184267393480476,
          0.9310922519025582,
          0.9288440708986788,
          0.9318977403880296
         ],
         "y": [
          0.956558249197334,
          0.9580778622030444,
          0.9597375794390584,
          0.9600274426329326,
          0.9603185990331218,
          0.9620652186601136
         ]
        },
        {
         "legendgroup": "nomao",
         "marker": {
          "color": "#00CC96",
          "size": 7,
          "symbol": "diamond"
         },
         "mode": "markers",
         "name": "nomao",
         "showlegend": false,
         "type": "scatter",
         "x": [
          0.7927225023016227,
          0.771720749391779,
          0.803701595509105,
          0.8799061923369343,
          0.8927890440399903,
          0.9367819576111563
         ],
         "y": [
          0.9395273317560566,
          0.9412748519927618,
          0.9599883424191332,
          0.9599895709614514,
          0.9610912196154306,
          0.961268773505
         ]
        },
        {
         "legendgroup": "nomao",
         "marker": {
          "color": "#00CC96",
          "size": 7,
          "symbol": "diamond"
         },
         "mode": "markers",
         "name": "nomao",
         "showlegend": false,
         "type": "scatter",
         "x": [
          0.8546852449393054,
          0.8694445752577847,
          0.8928944708978284,
          0.9082101211713552,
          0.921474354754001,
          0.9339844877709134
         ],
         "y": [
          0.957836684009178,
          0.9588872086736416,
          0.9585588518873894,
          0.9597731514654396,
          0.960481825522884,
          0.960571043287414
         ]
        },
        {
         "legendgroup": "kr-vs-kp",
         "marker": {
          "color": "#AB63FA",
          "size": 7,
          "symbol": "circle-open"
         },
         "mode": "markers",
         "name": "kr-vs-kp",
         "showlegend": true,
         "type": "scatter",
         "x": [
          0.6507299763433593,
          0.745454556833401,
          0.8524462263732288,
          0.869028370900625,
          0.9474417146569902,
          0.9370380042397616
         ],
         "y": [
          0.7116510150508123,
          0.802777555890094,
          0.8828868042825461,
          0.9011500381760604,
          0.9562833016432204,
          0.9547233288159276
         ]
        },
        {
         "legendgroup": "kr-vs-kp",
         "marker": {
          "color": "#AB63FA",
          "size": 7,
          "symbol": "circle-open"
         },
         "mode": "markers",
         "name": "kr-vs-kp",
         "showlegend": false,
         "type": "scatter",
         "x": [
          0.7053310279771923,
          0.775151822380616,
          0.7466750528832313,
          0.8844194564775842,
          0.92932358392987,
          0.9348292318248383
         ],
         "y": [
          0.755830559737285,
          0.8138890083668725,
          0.8164192675885815,
          0.9161783658370344,
          0.9539407935386306,
          0.9559335952745888
         ]
        },
        {
         "legendgroup": "kr-vs-kp",
         "marker": {
          "color": "#AB63FA",
          "size": 7,
          "symbol": "circle-open"
         },
         "mode": "markers",
         "name": "kr-vs-kp",
         "showlegend": false,
         "type": "scatter",
         "x": [
          0.7306040693063336,
          0.810550167667437,
          0.8680981722144278,
          0.7907102681654895,
          0.8756148166354316,
          0.9881839687855234
         ],
         "y": [
          0.7719661183196161,
          0.8400779792973102,
          0.900445743909752,
          0.8383885264723385,
          0.9120647729975204,
          0.9880595409997234
         ]
        },
        {
         "legendgroup": "kr-vs-kp",
         "marker": {
          "color": "#AB63FA",
          "size": 7,
          "symbol": "circle-open"
         },
         "mode": "markers",
         "name": "kr-vs-kp",
         "showlegend": false,
         "type": "scatter",
         "x": [
          0.6786697548880719,
          0.7980532598714417,
          0.7495752728365097,
          0.8774621169450503,
          0.8624534064311016,
          0.9473624381701434
         ],
         "y": [
          0.7259078676821158,
          0.837026864340146,
          0.8116050786108238,
          0.9264502977277562,
          0.8961746677089698,
          0.960919980473884
         ]
        },
        {
         "legendgroup": "kr-vs-kp",
         "marker": {
          "color": "#AB63FA",
          "size": 7,
          "symbol": "circle-open"
         },
         "mode": "markers",
         "name": "kr-vs-kp",
         "showlegend": false,
         "type": "scatter",
         "x": [
          0.7718396423398113,
          0.7598283613423863,
          0.7398139898477851,
          0.90303785859041,
          0.9095671141970568,
          0.937577032007583
         ],
         "y": [
          0.8114105912111995,
          0.8049589393996289,
          0.807313827699093,
          0.9248941368170838,
          0.9374605466629798,
          0.9624900804826456
         ]
        },
        {
         "legendgroup": "kr-vs-kp",
         "marker": {
          "color": "#AB63FA",
          "size": 7,
          "symbol": "diamond"
         },
         "mode": "markers",
         "name": "kr-vs-kp",
         "showlegend": false,
         "type": "scatter",
         "x": [
          0.9786954597228338,
          0.9803898282134172,
          0.982454407770393,
          0.9857960021528795,
          0.9868613475068356,
          0.9912408983378906
         ],
         "y": [
          0.9811333226372092,
          0.983320953138459,
          0.9825316929575124,
          0.9852569743850582,
          0.9906633076284986,
          0.9917785492641864
         ]
        },
        {
         "legendgroup": "kr-vs-kp",
         "marker": {
          "color": "#AB63FA",
          "size": 7,
          "symbol": "diamond"
         },
         "mode": "markers",
         "name": "kr-vs-kp",
         "showlegend": false,
         "type": "scatter",
         "x": [
          0.9595785499469176,
          0.9560197787267743,
          0.9519577889973296,
          0.9534117222694444,
          0.9648145303434252,
          0.9842591170235644
         ],
         "y": [
          0.9689453849068584,
          0.968447833067637,
          0.965024663669476,
          0.9666705127198536,
          0.9722468802022706,
          0.982899309644832
         ]
        },
        {
         "legendgroup": "kr-vs-kp",
         "marker": {
          "color": "#AB63FA",
          "size": 7,
          "symbol": "diamond"
         },
         "mode": "markers",
         "name": "kr-vs-kp",
         "showlegend": false,
         "type": "scatter",
         "x": [
          0.976383401435784,
          0.9804612874264784,
          0.9808330346383742,
          0.982523113300403,
          0.9919014409044824,
          0.9944637316046576
         ],
         "y": [
          0.97885982729173,
          0.9870300049042868,
          0.989096120606766,
          0.9890131687495662,
          0.9940505084641618,
          0.9936787612522656
         ]
        },
        {
         "legendgroup": "sylvine",
         "marker": {
          "color": "#FFA15A",
          "size": 7,
          "symbol": "circle-open"
         },
         "mode": "markers",
         "name": "sylvine",
         "showlegend": true,
         "type": "scatter",
         "x": [
          0.5178852806626908,
          0.5974264292459297,
          0.7529986105519956,
          0.9158308588508915,
          0.9158844778889698,
          0.9222504088696694
         ],
         "y": [
          0.6568453385222475,
          0.7160190678816247,
          0.8596688264226853,
          0.9410924743196716,
          0.9428117474160927,
          0.943305495450454
         ]
        },
        {
         "legendgroup": "sylvine",
         "marker": {
          "color": "#FFA15A",
          "size": 7,
          "symbol": "circle-open"
         },
         "mode": "markers",
         "name": "sylvine",
         "showlegend": false,
         "type": "scatter",
         "x": [
          0.6712182466334351,
          0.5970264349862038,
          0.6731792242601293,
          0.7611927648755187,
          0.7618169734708256,
          0.7803386006343948
         ],
         "y": [
          0.7857195566413606,
          0.6879531192285866,
          0.7623057288750144,
          0.8442932976263556,
          0.8927683862809911,
          0.8878931294834829
         ]
        },
        {
         "legendgroup": "sylvine",
         "marker": {
          "color": "#FFA15A",
          "size": 7,
          "symbol": "circle-open"
         },
         "mode": "markers",
         "name": "sylvine",
         "showlegend": false,
         "type": "scatter",
         "x": [
          0.6618084442580304,
          0.7563188540068151,
          0.776075230811353,
          0.6929169538374984,
          0.91589819979727,
          0.9249286402927372
         ],
         "y": [
          0.7486204236123142,
          0.8410665508891855,
          0.8910588650424375,
          0.8384040587175539,
          0.9366968372748063,
          0.943299555196032
         ]
        },
        {
         "legendgroup": "sylvine",
         "marker": {
          "color": "#FFA15A",
          "size": 7,
          "symbol": "circle-open"
         },
         "mode": "markers",
         "name": "sylvine",
         "showlegend": false,
         "type": "scatter",
         "x": [
          0.7549240121798177,
          0.8230526105932878,
          0.6129205901172927,
          0.8302892727025586,
          0.8357403977498927,
          0.9137048581560316
         ],
         "y": [
          0.8172178095422808,
          0.8672323863678425,
          0.8042091987898038,
          0.9090908448102546,
          0.8810893794945542,
          0.9401168762989532
         ]
        },
        {
         "legendgroup": "sylvine",
         "marker": {
          "color": "#FFA15A",
          "size": 7,
          "symbol": "circle-open"
         },
         "mode": "markers",
         "name": "sylvine",
         "showlegend": false,
         "type": "scatter",
         "x": [
          0.605578557873634,
          0.5281278300368868,
          0.6798640376381505,
          0.6999533312681121,
          0.778176263683904,
          0.8515449569064794
         ],
         "y": [
          0.7179073254757014,
          0.6898175462428828,
          0.8051623731856308,
          0.8737484250386445,
          0.8869173413348731,
          0.9198641460242136
         ]
        },
        {
         "legendgroup": "sylvine",
         "marker": {
          "color": "#FFA15A",
          "size": 7,
          "symbol": "diamond"
         },
         "mode": "markers",
         "name": "sylvine",
         "showlegend": false,
         "type": "scatter",
         "x": [
          0.902836069678406,
          0.910938547449886,
          0.9087433732849408,
          0.921239681482876,
          0.9207530983864588,
          0.9222367744023624
         ],
         "y": [
          0.936464236332966,
          0.9401234418477846,
          0.9357325464914548,
          0.938414894351116,
          0.9415832958199156,
          0.9430610228330508
         ]
        },
        {
         "legendgroup": "sylvine",
         "marker": {
          "color": "#FFA15A",
          "size": 7,
          "symbol": "diamond"
         },
         "mode": "markers",
         "name": "sylvine",
         "showlegend": false,
         "type": "scatter",
         "x": [
          0.9210035724117714,
          0.9219875338513857,
          0.9234605190910504,
          0.9268798889091862,
          0.925672879764168,
          0.927380193871436
         ],
         "y": [
          0.9457410521686508,
          0.9445238992313648,
          0.9423198233269632,
          0.9484197957521762,
          0.947685700200416,
          0.94451909643181
         ]
        },
        {
         "legendgroup": "sylvine",
         "marker": {
          "color": "#FFA15A",
          "size": 7,
          "symbol": "diamond"
         },
         "mode": "markers",
         "name": "sylvine",
         "showlegend": false,
         "type": "scatter",
         "x": [
          0.9246781925549306,
          0.9258977339605792,
          0.92883294405911,
          0.923947701279306,
          0.927863259920372,
          0.9266484866606356
         ],
         "y": [
          0.9503817437658072,
          0.9501360551707604,
          0.9474543065303408,
          0.9472008538205756,
          0.9449985756588348,
          0.9447636039151944
         ]
        },
        {
         "legendgroup": "australian",
         "marker": {
          "color": "#19D3F3",
          "size": 7,
          "symbol": "circle-open"
         },
         "mode": "markers",
         "name": "australian",
         "showlegend": true,
         "type": "scatter",
         "x": [
          0.7280215413505433,
          0.7994126420531196,
          0.8157254664954294,
          0.756932839767319,
          0.8491881414649413,
          0.8323641308453578
         ],
         "y": [
          0.7269281990956087,
          0.8212235616615763,
          0.8528629059238714,
          0.8003403231202582,
          0.8463393302323574,
          0.8380077488425302
         ]
        },
        {
         "legendgroup": "australian",
         "marker": {
          "color": "#19D3F3",
          "size": 7,
          "symbol": "circle-open"
         },
         "mode": "markers",
         "name": "australian",
         "showlegend": false,
         "type": "scatter",
         "x": [
          0.7105140569183781,
          0.7546235336017009,
          0.771258787597535,
          0.8541664166459814,
          0.8181502930098533,
          0.7652577299560755
         ],
         "y": [
          0.7594896340344705,
          0.7726699187342838,
          0.7930038096677063,
          0.8471228482932041,
          0.8218709245728963,
          0.7924145954521418
         ]
        },
        {
         "legendgroup": "australian",
         "marker": {
          "color": "#19D3F3",
          "size": 7,
          "symbol": "circle-open"
         },
         "mode": "markers",
         "name": "australian",
         "showlegend": false,
         "type": "scatter",
         "x": [
          0.7561540271317411,
          0.7886518524913931,
          0.8339820848487465,
          0.8293249441500556,
          0.8364651895660433,
          0.8562235724538361
         ],
         "y": [
          0.7931636430352151,
          0.7939251448860877,
          0.8512379369516182,
          0.8248060738838106,
          0.8418826665515493,
          0.8532861135993265
         ]
        },
        {
         "legendgroup": "australian",
         "marker": {
          "color": "#19D3F3",
          "size": 7,
          "symbol": "circle-open"
         },
         "mode": "markers",
         "name": "australian",
         "showlegend": false,
         "type": "scatter",
         "x": [
          0.6723592311594124,
          0.7324354460980584,
          0.836693640121305,
          0.8191700536375311,
          0.8200064537713552,
          0.8536976872187267
         ],
         "y": [
          0.7174310536483234,
          0.7528358173517953,
          0.8479304978469442,
          0.8208642441640854,
          0.8149194357806582,
          0.8671365544631391
         ]
        },
        {
         "legendgroup": "australian",
         "marker": {
          "color": "#19D3F3",
          "size": 7,
          "symbol": "circle-open"
         },
         "mode": "markers",
         "name": "australian",
         "showlegend": false,
         "type": "scatter",
         "x": [
          0.7981226432402682,
          0.7903290128319969,
          0.7574477600664803,
          0.737832525712559,
          0.8505749036790814,
          0.8305301373854672
         ],
         "y": [
          0.791698658522108,
          0.8315246441252334,
          0.8036069458984016,
          0.7898913435284214,
          0.8499522334581637,
          0.8410583321641718
         ]
        },
        {
         "legendgroup": "australian",
         "marker": {
          "color": "#19D3F3",
          "size": 7,
          "symbol": "diamond"
         },
         "mode": "markers",
         "name": "australian",
         "showlegend": false,
         "type": "scatter",
         "x": [
          0.7253918777452811,
          0.7245133662137515,
          0.7912423617781327,
          0.8512410235379185,
          0.8573226561909799,
          0.8601878069048878
         ],
         "y": [
          0.7495738999989208,
          0.7838538943869457,
          0.807265047108214,
          0.836980973245988,
          0.8504493681131893,
          0.851579166621699
         ]
        },
        {
         "legendgroup": "australian",
         "marker": {
          "color": "#19D3F3",
          "size": 7,
          "symbol": "diamond"
         },
         "mode": "markers",
         "name": "australian",
         "showlegend": false,
         "type": "scatter",
         "x": [
          0.7001340614511273,
          0.7139623350133284,
          0.7199020926191736,
          0.734021562935063,
          0.7968696187094616,
          0.8556732103735202
         ],
         "y": [
          0.7333025610032485,
          0.7292547297078535,
          0.741042963986229,
          0.7547518751551388,
          0.8144336761674527,
          0.8630740025253887
         ]
        },
        {
         "legendgroup": "australian",
         "marker": {
          "color": "#19D3F3",
          "size": 7,
          "symbol": "diamond"
         },
         "mode": "markers",
         "name": "australian",
         "showlegend": false,
         "type": "scatter",
         "x": [
          0.8107752727743662,
          0.8519553200444641,
          0.8515130316536978,
          0.8498472463549142,
          0.854111225029409,
          0.8532818398644493
         ],
         "y": [
          0.8097050259553848,
          0.8337411368566464,
          0.8320730420142674,
          0.8349381927281753,
          0.864584228191541,
          0.8700331969911179
         ]
        },
        {
         "legendgroup": "adult",
         "marker": {
          "color": "#FF6692",
          "size": 7,
          "symbol": "circle-open"
         },
         "mode": "markers",
         "name": "adult",
         "showlegend": true,
         "type": "scatter",
         "x": [
          0.645035801127399,
          0.6843652938658631,
          0.6997919424814458,
          0.7581117141896601,
          0.7608730753003459,
          0.7642361233709946
         ],
         "y": [
          0.7069917436473961,
          0.7400965023870631,
          0.7550896209102305,
          0.7757157743682546,
          0.776740245016251,
          0.7768364407843378
         ]
        },
        {
         "legendgroup": "adult",
         "marker": {
          "color": "#FF6692",
          "size": 7,
          "symbol": "circle-open"
         },
         "mode": "markers",
         "name": "adult",
         "showlegend": false,
         "type": "scatter",
         "x": [
          0.6326781233222386,
          0.7079216662783189,
          0.6874747636436204,
          0.7237241783270205,
          0.7391683704191265,
          0.77080511569078
         ],
         "y": [
          0.6708098363440206,
          0.7462504219384165,
          0.7221672944974241,
          0.746303148519488,
          0.7932588187765288,
          0.7872777123652759
         ]
        },
        {
         "legendgroup": "adult",
         "marker": {
          "color": "#FF6692",
          "size": 7,
          "symbol": "circle-open"
         },
         "mode": "markers",
         "name": "adult",
         "showlegend": false,
         "type": "scatter",
         "x": [
          0.6673638723883613,
          0.7100450645989558,
          0.7307998617822158,
          0.7391937332124636,
          0.7689862534193027,
          0.7503922586475407
         ],
         "y": [
          0.7183212309886766,
          0.7403312683210848,
          0.7619085144309459,
          0.7600618358020345,
          0.7818043358204598,
          0.7863343049850812
         ]
        },
        {
         "legendgroup": "adult",
         "marker": {
          "color": "#FF6692",
          "size": 7,
          "symbol": "circle-open"
         },
         "mode": "markers",
         "name": "adult",
         "showlegend": false,
         "type": "scatter",
         "x": [
          0.5817008600003515,
          0.6813409611408466,
          0.7051255917767788,
          0.7021308005349561,
          0.7677239502393299,
          0.7703340682573618
         ],
         "y": [
          0.6537883131023996,
          0.7325626274985358,
          0.7662608730624424,
          0.7577866458489593,
          0.7907942971047399,
          0.7815073688901135
         ]
        },
        {
         "legendgroup": "adult",
         "marker": {
          "color": "#FF6692",
          "size": 7,
          "symbol": "circle-open"
         },
         "mode": "markers",
         "name": "adult",
         "showlegend": false,
         "type": "scatter",
         "x": [
          0.6395901325201274,
          0.683175390930124,
          0.7450658863654789,
          0.7394343993564199,
          0.7327735195134825,
          0.769944500990145
         ],
         "y": [
          0.6757853502074684,
          0.7314248113508662,
          0.7640812184028078,
          0.7752183948935387,
          0.7700631853700047,
          0.7883971523508079
         ]
        },
        {
         "legendgroup": "adult",
         "marker": {
          "color": "#FF6692",
          "size": 7,
          "symbol": "diamond"
         },
         "mode": "markers",
         "name": "adult",
         "showlegend": false,
         "type": "scatter",
         "x": [
          0.6065832563724465,
          0.6433162633122491,
          0.6576498915857798,
          0.6869083173203665,
          0.7256982958166727,
          0.7392745905935938
         ],
         "y": [
          0.6607166788273371,
          0.6737518925688382,
          0.683041230920645,
          0.7425975393152494,
          0.7757240791821227,
          0.7853160295552483
         ]
        },
        {
         "legendgroup": "adult",
         "marker": {
          "color": "#FF6692",
          "size": 7,
          "symbol": "diamond"
         },
         "mode": "markers",
         "name": "adult",
         "showlegend": false,
         "type": "scatter",
         "x": [
          0.6430032468366667,
          0.6471634749923889,
          0.6450830128075389,
          0.6727487849024,
          0.7665388486424554,
          0.7755244194768021
         ],
         "y": [
          0.7243004789773472,
          0.7336885958762571,
          0.7347215116875666,
          0.7789804236675562,
          0.7829438331907502,
          0.7869301653000795
         ]
        },
        {
         "legendgroup": "adult",
         "marker": {
          "color": "#FF6692",
          "size": 7,
          "symbol": "diamond"
         },
         "mode": "markers",
         "name": "adult",
         "showlegend": false,
         "type": "scatter",
         "x": [
          0.5592303655287794,
          0.7218555284449139,
          0.7212248000802775,
          0.7428552209188478,
          0.7535975623326491,
          0.7534703448471356
         ],
         "y": [
          0.6809538406572317,
          0.7512409745544347,
          0.7531103021912451,
          0.7529560735944505,
          0.7594431124286588,
          0.7635104751732399
         ]
        },
        {
         "marker": {
          "color": "#777",
          "symbol": "diamond"
         },
         "mode": "markers",
         "name": "Algorithm selection",
         "type": "scatter",
         "x": [
          null
         ],
         "y": [
          null
         ]
        },
        {
         "marker": {
          "color": "#777",
          "symbol": "circle-open"
         },
         "mode": "markers",
         "name": "Random selection",
         "type": "scatter",
         "x": [
          null
         ],
         "y": [
          null
         ]
        }
       ],
       "layout": {
        "font": {
         "size": 11
        },
        "legend": {
         "orientation": "h",
         "x": -0.02,
         "xanchor": "left",
         "y": 1.02,
         "yanchor": "bottom"
        },
        "margin": {
         "b": 20,
         "l": 20,
         "r": 0,
         "t": 0
        },
        "template": {
         "data": {
          "bar": [
           {
            "error_x": {
             "color": "#2a3f5f"
            },
            "error_y": {
             "color": "#2a3f5f"
            },
            "marker": {
             "line": {
              "color": "white",
              "width": 0.5
             },
             "pattern": {
              "fillmode": "overlay",
              "size": 10,
              "solidity": 0.2
             }
            },
            "type": "bar"
           }
          ],
          "barpolar": [
           {
            "marker": {
             "line": {
              "color": "white",
              "width": 0.5
             },
             "pattern": {
              "fillmode": "overlay",
              "size": 10,
              "solidity": 0.2
             }
            },
            "type": "barpolar"
           }
          ],
          "carpet": [
           {
            "aaxis": {
             "endlinecolor": "#2a3f5f",
             "gridcolor": "#C8D4E3",
             "linecolor": "#C8D4E3",
             "minorgridcolor": "#C8D4E3",
             "startlinecolor": "#2a3f5f"
            },
            "baxis": {
             "endlinecolor": "#2a3f5f",
             "gridcolor": "#C8D4E3",
             "linecolor": "#C8D4E3",
             "minorgridcolor": "#C8D4E3",
             "startlinecolor": "#2a3f5f"
            },
            "type": "carpet"
           }
          ],
          "choropleth": [
           {
            "colorbar": {
             "outlinewidth": 0,
             "ticks": ""
            },
            "type": "choropleth"
           }
          ],
          "contour": [
           {
            "colorbar": {
             "outlinewidth": 0,
             "ticks": ""
            },
            "colorscale": [
             [
              0,
              "#0d0887"
             ],
             [
              0.1111111111111111,
              "#46039f"
             ],
             [
              0.2222222222222222,
              "#7201a8"
             ],
             [
              0.3333333333333333,
              "#9c179e"
             ],
             [
              0.4444444444444444,
              "#bd3786"
             ],
             [
              0.5555555555555556,
              "#d8576b"
             ],
             [
              0.6666666666666666,
              "#ed7953"
             ],
             [
              0.7777777777777778,
              "#fb9f3a"
             ],
             [
              0.8888888888888888,
              "#fdca26"
             ],
             [
              1,
              "#f0f921"
             ]
            ],
            "type": "contour"
           }
          ],
          "contourcarpet": [
           {
            "colorbar": {
             "outlinewidth": 0,
             "ticks": ""
            },
            "type": "contourcarpet"
           }
          ],
          "heatmap": [
           {
            "colorbar": {
             "outlinewidth": 0,
             "ticks": ""
            },
            "colorscale": [
             [
              0,
              "#0d0887"
             ],
             [
              0.1111111111111111,
              "#46039f"
             ],
             [
              0.2222222222222222,
              "#7201a8"
             ],
             [
              0.3333333333333333,
              "#9c179e"
             ],
             [
              0.4444444444444444,
              "#bd3786"
             ],
             [
              0.5555555555555556,
              "#d8576b"
             ],
             [
              0.6666666666666666,
              "#ed7953"
             ],
             [
              0.7777777777777778,
              "#fb9f3a"
             ],
             [
              0.8888888888888888,
              "#fdca26"
             ],
             [
              1,
              "#f0f921"
             ]
            ],
            "type": "heatmap"
           }
          ],
          "heatmapgl": [
           {
            "colorbar": {
             "outlinewidth": 0,
             "ticks": ""
            },
            "colorscale": [
             [
              0,
              "#0d0887"
             ],
             [
              0.1111111111111111,
              "#46039f"
             ],
             [
              0.2222222222222222,
              "#7201a8"
             ],
             [
              0.3333333333333333,
              "#9c179e"
             ],
             [
              0.4444444444444444,
              "#bd3786"
             ],
             [
              0.5555555555555556,
              "#d8576b"
             ],
             [
              0.6666666666666666,
              "#ed7953"
             ],
             [
              0.7777777777777778,
              "#fb9f3a"
             ],
             [
              0.8888888888888888,
              "#fdca26"
             ],
             [
              1,
              "#f0f921"
             ]
            ],
            "type": "heatmapgl"
           }
          ],
          "histogram": [
           {
            "marker": {
             "pattern": {
              "fillmode": "overlay",
              "size": 10,
              "solidity": 0.2
             }
            },
            "type": "histogram"
           }
          ],
          "histogram2d": [
           {
            "colorbar": {
             "outlinewidth": 0,
             "ticks": ""
            },
            "colorscale": [
             [
              0,
              "#0d0887"
             ],
             [
              0.1111111111111111,
              "#46039f"
             ],
             [
              0.2222222222222222,
              "#7201a8"
             ],
             [
              0.3333333333333333,
              "#9c179e"
             ],
             [
              0.4444444444444444,
              "#bd3786"
             ],
             [
              0.5555555555555556,
              "#d8576b"
             ],
             [
              0.6666666666666666,
              "#ed7953"
             ],
             [
              0.7777777777777778,
              "#fb9f3a"
             ],
             [
              0.8888888888888888,
              "#fdca26"
             ],
             [
              1,
              "#f0f921"
             ]
            ],
            "type": "histogram2d"
           }
          ],
          "histogram2dcontour": [
           {
            "colorbar": {
             "outlinewidth": 0,
             "ticks": ""
            },
            "colorscale": [
             [
              0,
              "#0d0887"
             ],
             [
              0.1111111111111111,
              "#46039f"
             ],
             [
              0.2222222222222222,
              "#7201a8"
             ],
             [
              0.3333333333333333,
              "#9c179e"
             ],
             [
              0.4444444444444444,
              "#bd3786"
             ],
             [
              0.5555555555555556,
              "#d8576b"
             ],
             [
              0.6666666666666666,
              "#ed7953"
             ],
             [
              0.7777777777777778,
              "#fb9f3a"
             ],
             [
              0.8888888888888888,
              "#fdca26"
             ],
             [
              1,
              "#f0f921"
             ]
            ],
            "type": "histogram2dcontour"
           }
          ],
          "mesh3d": [
           {
            "colorbar": {
             "outlinewidth": 0,
             "ticks": ""
            },
            "type": "mesh3d"
           }
          ],
          "parcoords": [
           {
            "line": {
             "colorbar": {
              "outlinewidth": 0,
              "ticks": ""
             }
            },
            "type": "parcoords"
           }
          ],
          "pie": [
           {
            "automargin": true,
            "type": "pie"
           }
          ],
          "scatter": [
           {
            "fillpattern": {
             "fillmode": "overlay",
             "size": 10,
             "solidity": 0.2
            },
            "type": "scatter"
           }
          ],
          "scatter3d": [
           {
            "line": {
             "colorbar": {
              "outlinewidth": 0,
              "ticks": ""
             }
            },
            "marker": {
             "colorbar": {
              "outlinewidth": 0,
              "ticks": ""
             }
            },
            "type": "scatter3d"
           }
          ],
          "scattercarpet": [
           {
            "marker": {
             "colorbar": {
              "outlinewidth": 0,
              "ticks": ""
             }
            },
            "type": "scattercarpet"
           }
          ],
          "scattergeo": [
           {
            "marker": {
             "colorbar": {
              "outlinewidth": 0,
              "ticks": ""
             }
            },
            "type": "scattergeo"
           }
          ],
          "scattergl": [
           {
            "marker": {
             "colorbar": {
              "outlinewidth": 0,
              "ticks": ""
             }
            },
            "type": "scattergl"
           }
          ],
          "scattermapbox": [
           {
            "marker": {
             "colorbar": {
              "outlinewidth": 0,
              "ticks": ""
             }
            },
            "type": "scattermapbox"
           }
          ],
          "scatterpolar": [
           {
            "marker": {
             "colorbar": {
              "outlinewidth": 0,
              "ticks": ""
             }
            },
            "type": "scatterpolar"
           }
          ],
          "scatterpolargl": [
           {
            "marker": {
             "colorbar": {
              "outlinewidth": 0,
              "ticks": ""
             }
            },
            "type": "scatterpolargl"
           }
          ],
          "scatterternary": [
           {
            "marker": {
             "colorbar": {
              "outlinewidth": 0,
              "ticks": ""
             }
            },
            "type": "scatterternary"
           }
          ],
          "surface": [
           {
            "colorbar": {
             "outlinewidth": 0,
             "ticks": ""
            },
            "colorscale": [
             [
              0,
              "#0d0887"
             ],
             [
              0.1111111111111111,
              "#46039f"
             ],
             [
              0.2222222222222222,
              "#7201a8"
             ],
             [
              0.3333333333333333,
              "#9c179e"
             ],
             [
              0.4444444444444444,
              "#bd3786"
             ],
             [
              0.5555555555555556,
              "#d8576b"
             ],
             [
              0.6666666666666666,
              "#ed7953"
             ],
             [
              0.7777777777777778,
              "#fb9f3a"
             ],
             [
              0.8888888888888888,
              "#fdca26"
             ],
             [
              1,
              "#f0f921"
             ]
            ],
            "type": "surface"
           }
          ],
          "table": [
           {
            "cells": {
             "fill": {
              "color": "#EBF0F8"
             },
             "line": {
              "color": "white"
             }
            },
            "header": {
             "fill": {
              "color": "#C8D4E3"
             },
             "line": {
              "color": "white"
             }
            },
            "type": "table"
           }
          ]
         },
         "layout": {
          "annotationdefaults": {
           "arrowcolor": "#2a3f5f",
           "arrowhead": 0,
           "arrowwidth": 1
          },
          "autotypenumbers": "strict",
          "coloraxis": {
           "colorbar": {
            "outlinewidth": 0,
            "ticks": ""
           }
          },
          "colorscale": {
           "diverging": [
            [
             0,
             "#8e0152"
            ],
            [
             0.1,
             "#c51b7d"
            ],
            [
             0.2,
             "#de77ae"
            ],
            [
             0.3,
             "#f1b6da"
            ],
            [
             0.4,
             "#fde0ef"
            ],
            [
             0.5,
             "#f7f7f7"
            ],
            [
             0.6,
             "#e6f5d0"
            ],
            [
             0.7,
             "#b8e186"
            ],
            [
             0.8,
             "#7fbc41"
            ],
            [
             0.9,
             "#4d9221"
            ],
            [
             1,
             "#276419"
            ]
           ],
           "sequential": [
            [
             0,
             "#0d0887"
            ],
            [
             0.1111111111111111,
             "#46039f"
            ],
            [
             0.2222222222222222,
             "#7201a8"
            ],
            [
             0.3333333333333333,
             "#9c179e"
            ],
            [
             0.4444444444444444,
             "#bd3786"
            ],
            [
             0.5555555555555556,
             "#d8576b"
            ],
            [
             0.6666666666666666,
             "#ed7953"
            ],
            [
             0.7777777777777778,
             "#fb9f3a"
            ],
            [
             0.8888888888888888,
             "#fdca26"
            ],
            [
             1,
             "#f0f921"
            ]
           ],
           "sequentialminus": [
            [
             0,
             "#0d0887"
            ],
            [
             0.1111111111111111,
             "#46039f"
            ],
            [
             0.2222222222222222,
             "#7201a8"
            ],
            [
             0.3333333333333333,
             "#9c179e"
            ],
            [
             0.4444444444444444,
             "#bd3786"
            ],
            [
             0.5555555555555556,
             "#d8576b"
            ],
            [
             0.6666666666666666,
             "#ed7953"
            ],
            [
             0.7777777777777778,
             "#fb9f3a"
            ],
            [
             0.8888888888888888,
             "#fdca26"
            ],
            [
             1,
             "#f0f921"
            ]
           ]
          },
          "colorway": [
           "#636efa",
           "#EF553B",
           "#00cc96",
           "#ab63fa",
           "#FFA15A",
           "#19d3f3",
           "#FF6692",
           "#B6E880",
           "#FF97FF",
           "#FECB52"
          ],
          "font": {
           "color": "#2a3f5f"
          },
          "geo": {
           "bgcolor": "white",
           "lakecolor": "white",
           "landcolor": "white",
           "showlakes": true,
           "showland": true,
           "subunitcolor": "#C8D4E3"
          },
          "hoverlabel": {
           "align": "left"
          },
          "hovermode": "closest",
          "mapbox": {
           "style": "light"
          },
          "paper_bgcolor": "white",
          "plot_bgcolor": "white",
          "polar": {
           "angularaxis": {
            "gridcolor": "#EBF0F8",
            "linecolor": "#EBF0F8",
            "ticks": ""
           },
           "bgcolor": "white",
           "radialaxis": {
            "gridcolor": "#EBF0F8",
            "linecolor": "#EBF0F8",
            "ticks": ""
           }
          },
          "scene": {
           "xaxis": {
            "backgroundcolor": "white",
            "gridcolor": "#DFE8F3",
            "gridwidth": 2,
            "linecolor": "#EBF0F8",
            "showbackground": true,
            "ticks": "",
            "zerolinecolor": "#EBF0F8"
           },
           "yaxis": {
            "backgroundcolor": "white",
            "gridcolor": "#DFE8F3",
            "gridwidth": 2,
            "linecolor": "#EBF0F8",
            "showbackground": true,
            "ticks": "",
            "zerolinecolor": "#EBF0F8"
           },
           "zaxis": {
            "backgroundcolor": "white",
            "gridcolor": "#DFE8F3",
            "gridwidth": 2,
            "linecolor": "#EBF0F8",
            "showbackground": true,
            "ticks": "",
            "zerolinecolor": "#EBF0F8"
           }
          },
          "shapedefaults": {
           "line": {
            "color": "#2a3f5f"
           }
          },
          "ternary": {
           "aaxis": {
            "gridcolor": "#DFE8F3",
            "linecolor": "#A2B1C6",
            "ticks": ""
           },
           "baxis": {
            "gridcolor": "#DFE8F3",
            "linecolor": "#A2B1C6",
            "ticks": ""
           },
           "bgcolor": "white",
           "caxis": {
            "gridcolor": "#DFE8F3",
            "linecolor": "#A2B1C6",
            "ticks": ""
           }
          },
          "title": {
           "x": 0.05
          },
          "xaxis": {
           "automargin": true,
           "gridcolor": "#EBF0F8",
           "linecolor": "#EBF0F8",
           "ticks": "",
           "title": {
            "standoff": 15
           },
           "zerolinecolor": "#EBF0F8",
           "zerolinewidth": 2
          },
          "yaxis": {
           "automargin": true,
           "gridcolor": "#EBF0F8",
           "linecolor": "#EBF0F8",
           "ticks": "",
           "title": {
            "standoff": 15
           },
           "zerolinecolor": "#EBF0F8",
           "zerolinewidth": 2
          }
         }
        },
        "xaxis": {
         "title": {
          "text": "MLP + Pruning balanced accuracy"
         }
        },
        "yaxis": {
         "title": {
          "text": "XGBoost balanced accuracy"
         }
        }
       }
      },
      "text/html": [
       "<div>                            <div id=\"edc24c82-e6fb-4eb9-9167-6ba427e5803b\" class=\"plotly-graph-div\" style=\"height:525px; width:100%;\"></div>            <script type=\"text/javascript\">                require([\"plotly\"], function(Plotly) {                    window.PLOTLYENV=window.PLOTLYENV || {};                                    if (document.getElementById(\"edc24c82-e6fb-4eb9-9167-6ba427e5803b\")) {                    Plotly.newPlot(                        \"edc24c82-e6fb-4eb9-9167-6ba427e5803b\",                        [{\"line\":{\"color\":\"#777\",\"dash\":\"dot\"},\"mode\":\"lines\",\"showlegend\":false,\"x\":[0.3,1],\"y\":[0.3,1],\"type\":\"scatter\"},{\"legendgroup\":\"volkert\",\"marker\":{\"color\":\"#636EFA\",\"size\":7,\"symbol\":\"circle-open\"},\"mode\":\"markers\",\"name\":\"volkert\",\"showlegend\":true,\"x\":[0.302850911702296,0.3697124243033939,0.4140090987816102,0.4594020715303634,0.5359208031424196,0.5600215641023285],\"y\":[0.5755401812159768,0.5777731240376367,0.5937898132856783,0.5844564927380341,0.603856456294664,0.6058841783361125],\"type\":\"scatter\"},{\"legendgroup\":\"volkert\",\"marker\":{\"color\":\"#636EFA\",\"size\":7,\"symbol\":\"circle-open\"},\"mode\":\"markers\",\"name\":\"volkert\",\"showlegend\":false,\"x\":[0.3051859081017525,0.3830054155330478,0.4345457966435601,0.4818651880169726,0.533571540142668,0.558537513402794],\"y\":[0.5620120781468209,0.5764481368374318,0.5855854568590423,0.5946537286378829,0.6026173069085891,0.6041207190495242],\"type\":\"scatter\"},{\"legendgroup\":\"volkert\",\"marker\":{\"color\":\"#636EFA\",\"size\":7,\"symbol\":\"circle-open\"},\"mode\":\"markers\",\"name\":\"volkert\",\"showlegend\":false,\"x\":[0.3238299391134984,0.3526892145378254,0.4378433871426509,0.4565952043114244,0.5363588102407467,0.569741347631594],\"y\":[0.5657887038311032,0.5855121034309676,0.5842232546471363,0.5832490396512208,0.6010121485468505,0.6052959515699247],\"type\":\"scatter\"},{\"legendgroup\":\"volkert\",\"marker\":{\"color\":\"#636EFA\",\"size\":7,\"symbol\":\"circle-open\"},\"mode\":\"markers\",\"name\":\"volkert\",\"showlegend\":false,\"x\":[0.303273034950428,0.3951636503877577,0.4326244144446575,0.4819012907919704,0.5190568161878772,0.5597961717755254],\"y\":[0.5572788485230726,0.5839264474892946,0.5777530723802022,0.5951010658299632,0.5979437659086045,0.6061910597762642],\"type\":\"scatter\"},{\"legendgroup\":\"volkert\",\"marker\":{\"color\":\"#636EFA\",\"size\":7,\"symbol\":\"circle-open\"},\"mode\":\"markers\",\"name\":\"volkert\",\"showlegend\":false,\"x\":[0.3263993664826789,0.3788552067981217,0.4307315412555893,0.4661642379732328,0.5366808387005019,0.5595833191752082],\"y\":[0.5732663644858087,0.5767183024270017,0.5832236597809217,0.5898451208320962,0.6049926551562427,0.6062304437916294],\"type\":\"scatter\"},{\"legendgroup\":\"volkert\",\"marker\":{\"color\":\"#636EFA\",\"size\":7,\"symbol\":\"diamond\"},\"mode\":\"markers\",\"name\":\"volkert\",\"showlegend\":false,\"x\":[0.3752281589737554,0.4425488524038993,0.4992058487168296,0.5590186282935955,0.594636177237889,0.5991507303399104],\"y\":[0.612752927325066,0.6197002236291217,0.6164831208533282,0.614703018709621,0.6113264375606995,0.6096698632100874],\"type\":\"scatter\"},{\"legendgroup\":\"volkert\",\"marker\":{\"color\":\"#636EFA\",\"size\":7,\"symbol\":\"diamond\"},\"mode\":\"markers\",\"name\":\"volkert\",\"showlegend\":false,\"x\":[0.3301462971096476,0.3528688780805586,0.4662191748802138,0.5570967642476552,0.585605402053883,0.5991507303399104],\"y\":[0.4439169776163661,0.4406221441857628,0.5601235686191344,0.5962134375538146,0.6059252810269948,0.6096698632100874],\"type\":\"scatter\"},{\"legendgroup\":\"volkert\",\"marker\":{\"color\":\"#636EFA\",\"size\":7,\"symbol\":\"diamond\"},\"mode\":\"markers\",\"name\":\"volkert\",\"showlegend\":false,\"x\":[0.4312030275363697,0.4784508685204266,0.5185967708787869,0.5649063771555045,0.5998098148614754,0.5991507303399104],\"y\":[0.6053073045226102,0.6026961228084774,0.6024600364047293,0.6057615042868341,0.6085072611997198,0.6096698632100874],\"type\":\"scatter\"},{\"legendgroup\":\"jasmine\",\"marker\":{\"color\":\"#EF553B\",\"size\":7,\"symbol\":\"circle-open\"},\"mode\":\"markers\",\"name\":\"jasmine\",\"showlegend\":true,\"x\":[0.7653042640749497,0.7697355074660039,0.7813079819226392,0.7792851225475339,0.7852929488863294,0.786747826204091],\"y\":[0.7926012136886842,0.8026160311975914,0.80050547911068,0.787720258902292,0.8093350306116264,0.8150683289217568],\"type\":\"scatter\"},{\"legendgroup\":\"jasmine\",\"marker\":{\"color\":\"#EF553B\",\"size\":7,\"symbol\":\"circle-open\"},\"mode\":\"markers\",\"name\":\"jasmine\",\"showlegend\":false,\"x\":[0.7620746533039677,0.7573532561475824,0.7829600668134947,0.7847096778538859,0.7843863867504529,0.7840381752911304],\"y\":[0.7776696099627542,0.7870725990584146,0.7992740094158534,0.8072688636991238,0.8016261542502677,0.8070825672007705],\"type\":\"scatter\"},{\"legendgroup\":\"jasmine\",\"marker\":{\"color\":\"#EF553B\",\"size\":7,\"symbol\":\"circle-open\"},\"mode\":\"markers\",\"name\":\"jasmine\",\"showlegend\":false,\"x\":[0.7531264943794495,0.7658771628511581,0.7748533403379738,0.7828541889771204,0.7828243519023661,0.7884834279633334],\"y\":[0.7784438921554762,0.7840682144228244,0.7904652024273774,0.8121230796171695,0.8041123975402936,0.8143438874408142],\"type\":\"scatter\"},{\"legendgroup\":\"jasmine\",\"marker\":{\"color\":\"#EF553B\",\"size\":7,\"symbol\":\"circle-open\"},\"mode\":\"markers\",\"name\":\"jasmine\",\"showlegend\":false,\"x\":[0.7740979841452654,0.7536970358246954,0.7757677153421835,0.7795365487327663,0.7891129026826427,0.7882047240912489],\"y\":[0.7964281047732584,0.7867931543108848,0.8090877802698134,0.7969746014426866,0.8070794689943626,0.8092595286685121],\"type\":\"scatter\"},{\"legendgroup\":\"jasmine\",\"marker\":{\"color\":\"#EF553B\",\"size\":7,\"symbol\":\"circle-open\"},\"mode\":\"markers\",\"name\":\"jasmine\",\"showlegend\":false,\"x\":[0.7395688104907963,0.7475096482188681,0.780164945815064,0.7835902824082494,0.7895329790601658,0.7828980353330235],\"y\":[0.7713743239511561,0.7967615660759868,0.798321782411617,0.8033788634970668,0.8075262842402322,0.8114279363924753],\"type\":\"scatter\"},{\"legendgroup\":\"jasmine\",\"marker\":{\"color\":\"#EF553B\",\"size\":7,\"symbol\":\"diamond\"},\"mode\":\"markers\",\"name\":\"jasmine\",\"showlegend\":false,\"x\":[0.7783323567247917,0.7789903888249042,0.7859338734988853,0.7848952334767938,0.7853939100038391,0.7874198675853522],\"y\":[0.7922329985923368,0.8001699972385552,0.8055758286018333,0.8030768557246099,0.8105262909754636,0.8056276898830091],\"type\":\"scatter\"},{\"legendgroup\":\"jasmine\",\"marker\":{\"color\":\"#EF553B\",\"size\":7,\"symbol\":\"diamond\"},\"mode\":\"markers\",\"name\":\"jasmine\",\"showlegend\":false,\"x\":[0.7766034901968708,0.7766727957271693,0.7828949371266156,0.7844862702309511,0.7801287102705542,0.7838780788426178],\"y\":[0.7848237726724724,0.8045859516545096,0.8181047059061244,0.8188200548247829,0.8158571592141332,0.8096137344837109],\"type\":\"scatter\"},{\"legendgroup\":\"jasmine\",\"marker\":{\"color\":\"#EF553B\",\"size\":7,\"symbol\":\"diamond\"},\"mode\":\"markers\",\"name\":\"jasmine\",\"showlegend\":false,\"x\":[0.7792347430172489,0.7747092737400065,0.7769220666383786,0.7823040552827787,0.7853331582173191,0.7872026563752332],\"y\":[0.8027055424218545,0.8042561273766948,0.8029569686070868,0.8068165929158837,0.8138952536824877,0.8108970654597132],\"type\":\"scatter\"},{\"legendgroup\":\"nomao\",\"marker\":{\"color\":\"#00CC96\",\"size\":7,\"symbol\":\"circle-open\"},\"mode\":\"markers\",\"name\":\"nomao\",\"showlegend\":true,\"x\":[0.8172362907505548,0.8255858674981941,0.8663822123407758,0.912642465021566,0.923283853742759,0.9337862889999726],\"y\":[0.955567328690476,0.9538483981604116,0.959153220245774,0.959381578270968,0.9592040578967354,0.9610782124708758],\"type\":\"scatter\"},{\"legendgroup\":\"nomao\",\"marker\":{\"color\":\"#00CC96\",\"size\":7,\"symbol\":\"circle-open\"},\"mode\":\"markers\",\"name\":\"nomao\",\"showlegend\":false,\"x\":[0.8528273316539481,0.913749933045218,0.8756528731170071,0.8909510231082196,0.9145962046953036,0.9302800756706532],\"y\":[0.9530984184444103,0.9577842397644104,0.9586221712082954,0.9607612509523108,0.959721999243649,0.9610281090362828],\"type\":\"scatter\"},{\"legendgroup\":\"nomao\",\"marker\":{\"color\":\"#00CC96\",\"size\":7,\"symbol\":\"circle-open\"},\"mode\":\"markers\",\"name\":\"nomao\",\"showlegend\":false,\"x\":[0.7999623993209364,0.8940926347392418,0.9087834044634008,0.9211196267422558,0.9291856557103728,0.9252779100367736],\"y\":[0.949544456503219,0.9598987401367156,0.958797402503551,0.9611510342478408,0.9600778929703534,0.9630388126043716],\"type\":\"scatter\"},{\"legendgroup\":\"nomao\",\"marker\":{\"color\":\"#00CC96\",\"size\":7,\"symbol\":\"circle-open\"},\"mode\":\"markers\",\"name\":\"nomao\",\"showlegend\":false,\"x\":[0.7703819389034587,0.8681523234365633,0.878364974276997,0.92434864197553,0.924659982182846,0.9326374126717176],\"y\":[0.9531194288926044,0.955045516782016,0.9602145877751098,0.959951813952118,0.9609365980930524,0.960395271218072],\"type\":\"scatter\"},{\"legendgroup\":\"nomao\",\"marker\":{\"color\":\"#00CC96\",\"size\":7,\"symbol\":\"circle-open\"},\"mode\":\"markers\",\"name\":\"nomao\",\"showlegend\":false,\"x\":[0.8016343615520471,0.8373295731534365,0.8905042457629756,0.9188613423983892,0.9196107590335468,0.9303208180520274],\"y\":[0.9550776088104764,0.9588005138410832,0.959835642490367,0.9605461905099492,0.9609264443004828,0.9616979396821363],\"type\":\"scatter\"},{\"legendgroup\":\"nomao\",\"marker\":{\"color\":\"#00CC96\",\"size\":7,\"symbol\":\"diamond\"},\"mode\":\"markers\",\"name\":\"nomao\",\"showlegend\":false,\"x\":[0.892856540019584,0.9047731626052,0.9184267393480476,0.9310922519025582,0.9288440708986788,0.9318977403880296],\"y\":[0.956558249197334,0.9580778622030444,0.9597375794390584,0.9600274426329326,0.9603185990331218,0.9620652186601136],\"type\":\"scatter\"},{\"legendgroup\":\"nomao\",\"marker\":{\"color\":\"#00CC96\",\"size\":7,\"symbol\":\"diamond\"},\"mode\":\"markers\",\"name\":\"nomao\",\"showlegend\":false,\"x\":[0.7927225023016227,0.771720749391779,0.803701595509105,0.8799061923369343,0.8927890440399903,0.9367819576111563],\"y\":[0.9395273317560566,0.9412748519927618,0.9599883424191332,0.9599895709614514,0.9610912196154306,0.961268773505],\"type\":\"scatter\"},{\"legendgroup\":\"nomao\",\"marker\":{\"color\":\"#00CC96\",\"size\":7,\"symbol\":\"diamond\"},\"mode\":\"markers\",\"name\":\"nomao\",\"showlegend\":false,\"x\":[0.8546852449393054,0.8694445752577847,0.8928944708978284,0.9082101211713552,0.921474354754001,0.9339844877709134],\"y\":[0.957836684009178,0.9588872086736416,0.9585588518873894,0.9597731514654396,0.960481825522884,0.960571043287414],\"type\":\"scatter\"},{\"legendgroup\":\"kr-vs-kp\",\"marker\":{\"color\":\"#AB63FA\",\"size\":7,\"symbol\":\"circle-open\"},\"mode\":\"markers\",\"name\":\"kr-vs-kp\",\"showlegend\":true,\"x\":[0.6507299763433593,0.745454556833401,0.8524462263732288,0.869028370900625,0.9474417146569902,0.9370380042397616],\"y\":[0.7116510150508123,0.802777555890094,0.8828868042825461,0.9011500381760604,0.9562833016432204,0.9547233288159276],\"type\":\"scatter\"},{\"legendgroup\":\"kr-vs-kp\",\"marker\":{\"color\":\"#AB63FA\",\"size\":7,\"symbol\":\"circle-open\"},\"mode\":\"markers\",\"name\":\"kr-vs-kp\",\"showlegend\":false,\"x\":[0.7053310279771923,0.775151822380616,0.7466750528832313,0.8844194564775842,0.92932358392987,0.9348292318248383],\"y\":[0.755830559737285,0.8138890083668725,0.8164192675885815,0.9161783658370344,0.9539407935386306,0.9559335952745888],\"type\":\"scatter\"},{\"legendgroup\":\"kr-vs-kp\",\"marker\":{\"color\":\"#AB63FA\",\"size\":7,\"symbol\":\"circle-open\"},\"mode\":\"markers\",\"name\":\"kr-vs-kp\",\"showlegend\":false,\"x\":[0.7306040693063336,0.810550167667437,0.8680981722144278,0.7907102681654895,0.8756148166354316,0.9881839687855234],\"y\":[0.7719661183196161,0.8400779792973102,0.900445743909752,0.8383885264723385,0.9120647729975204,0.9880595409997234],\"type\":\"scatter\"},{\"legendgroup\":\"kr-vs-kp\",\"marker\":{\"color\":\"#AB63FA\",\"size\":7,\"symbol\":\"circle-open\"},\"mode\":\"markers\",\"name\":\"kr-vs-kp\",\"showlegend\":false,\"x\":[0.6786697548880719,0.7980532598714417,0.7495752728365097,0.8774621169450503,0.8624534064311016,0.9473624381701434],\"y\":[0.7259078676821158,0.837026864340146,0.8116050786108238,0.9264502977277562,0.8961746677089698,0.960919980473884],\"type\":\"scatter\"},{\"legendgroup\":\"kr-vs-kp\",\"marker\":{\"color\":\"#AB63FA\",\"size\":7,\"symbol\":\"circle-open\"},\"mode\":\"markers\",\"name\":\"kr-vs-kp\",\"showlegend\":false,\"x\":[0.7718396423398113,0.7598283613423863,0.7398139898477851,0.90303785859041,0.9095671141970568,0.937577032007583],\"y\":[0.8114105912111995,0.8049589393996289,0.807313827699093,0.9248941368170838,0.9374605466629798,0.9624900804826456],\"type\":\"scatter\"},{\"legendgroup\":\"kr-vs-kp\",\"marker\":{\"color\":\"#AB63FA\",\"size\":7,\"symbol\":\"diamond\"},\"mode\":\"markers\",\"name\":\"kr-vs-kp\",\"showlegend\":false,\"x\":[0.9786954597228338,0.9803898282134172,0.982454407770393,0.9857960021528795,0.9868613475068356,0.9912408983378906],\"y\":[0.9811333226372092,0.983320953138459,0.9825316929575124,0.9852569743850582,0.9906633076284986,0.9917785492641864],\"type\":\"scatter\"},{\"legendgroup\":\"kr-vs-kp\",\"marker\":{\"color\":\"#AB63FA\",\"size\":7,\"symbol\":\"diamond\"},\"mode\":\"markers\",\"name\":\"kr-vs-kp\",\"showlegend\":false,\"x\":[0.9595785499469176,0.9560197787267743,0.9519577889973296,0.9534117222694444,0.9648145303434252,0.9842591170235644],\"y\":[0.9689453849068584,0.968447833067637,0.965024663669476,0.9666705127198536,0.9722468802022706,0.982899309644832],\"type\":\"scatter\"},{\"legendgroup\":\"kr-vs-kp\",\"marker\":{\"color\":\"#AB63FA\",\"size\":7,\"symbol\":\"diamond\"},\"mode\":\"markers\",\"name\":\"kr-vs-kp\",\"showlegend\":false,\"x\":[0.976383401435784,0.9804612874264784,0.9808330346383742,0.982523113300403,0.9919014409044824,0.9944637316046576],\"y\":[0.97885982729173,0.9870300049042868,0.989096120606766,0.9890131687495662,0.9940505084641618,0.9936787612522656],\"type\":\"scatter\"},{\"legendgroup\":\"sylvine\",\"marker\":{\"color\":\"#FFA15A\",\"size\":7,\"symbol\":\"circle-open\"},\"mode\":\"markers\",\"name\":\"sylvine\",\"showlegend\":true,\"x\":[0.5178852806626908,0.5974264292459297,0.7529986105519956,0.9158308588508915,0.9158844778889698,0.9222504088696694],\"y\":[0.6568453385222475,0.7160190678816247,0.8596688264226853,0.9410924743196716,0.9428117474160927,0.943305495450454],\"type\":\"scatter\"},{\"legendgroup\":\"sylvine\",\"marker\":{\"color\":\"#FFA15A\",\"size\":7,\"symbol\":\"circle-open\"},\"mode\":\"markers\",\"name\":\"sylvine\",\"showlegend\":false,\"x\":[0.6712182466334351,0.5970264349862038,0.6731792242601293,0.7611927648755187,0.7618169734708256,0.7803386006343948],\"y\":[0.7857195566413606,0.6879531192285866,0.7623057288750144,0.8442932976263556,0.8927683862809911,0.8878931294834829],\"type\":\"scatter\"},{\"legendgroup\":\"sylvine\",\"marker\":{\"color\":\"#FFA15A\",\"size\":7,\"symbol\":\"circle-open\"},\"mode\":\"markers\",\"name\":\"sylvine\",\"showlegend\":false,\"x\":[0.6618084442580304,0.7563188540068151,0.776075230811353,0.6929169538374984,0.91589819979727,0.9249286402927372],\"y\":[0.7486204236123142,0.8410665508891855,0.8910588650424375,0.8384040587175539,0.9366968372748063,0.943299555196032],\"type\":\"scatter\"},{\"legendgroup\":\"sylvine\",\"marker\":{\"color\":\"#FFA15A\",\"size\":7,\"symbol\":\"circle-open\"},\"mode\":\"markers\",\"name\":\"sylvine\",\"showlegend\":false,\"x\":[0.7549240121798177,0.8230526105932878,0.6129205901172927,0.8302892727025586,0.8357403977498927,0.9137048581560316],\"y\":[0.8172178095422808,0.8672323863678425,0.8042091987898038,0.9090908448102546,0.8810893794945542,0.9401168762989532],\"type\":\"scatter\"},{\"legendgroup\":\"sylvine\",\"marker\":{\"color\":\"#FFA15A\",\"size\":7,\"symbol\":\"circle-open\"},\"mode\":\"markers\",\"name\":\"sylvine\",\"showlegend\":false,\"x\":[0.605578557873634,0.5281278300368868,0.6798640376381505,0.6999533312681121,0.778176263683904,0.8515449569064794],\"y\":[0.7179073254757014,0.6898175462428828,0.8051623731856308,0.8737484250386445,0.8869173413348731,0.9198641460242136],\"type\":\"scatter\"},{\"legendgroup\":\"sylvine\",\"marker\":{\"color\":\"#FFA15A\",\"size\":7,\"symbol\":\"diamond\"},\"mode\":\"markers\",\"name\":\"sylvine\",\"showlegend\":false,\"x\":[0.902836069678406,0.910938547449886,0.9087433732849408,0.921239681482876,0.9207530983864588,0.9222367744023624],\"y\":[0.936464236332966,0.9401234418477846,0.9357325464914548,0.938414894351116,0.9415832958199156,0.9430610228330508],\"type\":\"scatter\"},{\"legendgroup\":\"sylvine\",\"marker\":{\"color\":\"#FFA15A\",\"size\":7,\"symbol\":\"diamond\"},\"mode\":\"markers\",\"name\":\"sylvine\",\"showlegend\":false,\"x\":[0.9210035724117714,0.9219875338513857,0.9234605190910504,0.9268798889091862,0.925672879764168,0.927380193871436],\"y\":[0.9457410521686508,0.9445238992313648,0.9423198233269632,0.9484197957521762,0.947685700200416,0.94451909643181],\"type\":\"scatter\"},{\"legendgroup\":\"sylvine\",\"marker\":{\"color\":\"#FFA15A\",\"size\":7,\"symbol\":\"diamond\"},\"mode\":\"markers\",\"name\":\"sylvine\",\"showlegend\":false,\"x\":[0.9246781925549306,0.9258977339605792,0.92883294405911,0.923947701279306,0.927863259920372,0.9266484866606356],\"y\":[0.9503817437658072,0.9501360551707604,0.9474543065303408,0.9472008538205756,0.9449985756588348,0.9447636039151944],\"type\":\"scatter\"},{\"legendgroup\":\"australian\",\"marker\":{\"color\":\"#19D3F3\",\"size\":7,\"symbol\":\"circle-open\"},\"mode\":\"markers\",\"name\":\"australian\",\"showlegend\":true,\"x\":[0.7280215413505433,0.7994126420531196,0.8157254664954294,0.756932839767319,0.8491881414649413,0.8323641308453578],\"y\":[0.7269281990956087,0.8212235616615763,0.8528629059238714,0.8003403231202582,0.8463393302323574,0.8380077488425302],\"type\":\"scatter\"},{\"legendgroup\":\"australian\",\"marker\":{\"color\":\"#19D3F3\",\"size\":7,\"symbol\":\"circle-open\"},\"mode\":\"markers\",\"name\":\"australian\",\"showlegend\":false,\"x\":[0.7105140569183781,0.7546235336017009,0.771258787597535,0.8541664166459814,0.8181502930098533,0.7652577299560755],\"y\":[0.7594896340344705,0.7726699187342838,0.7930038096677063,0.8471228482932041,0.8218709245728963,0.7924145954521418],\"type\":\"scatter\"},{\"legendgroup\":\"australian\",\"marker\":{\"color\":\"#19D3F3\",\"size\":7,\"symbol\":\"circle-open\"},\"mode\":\"markers\",\"name\":\"australian\",\"showlegend\":false,\"x\":[0.7561540271317411,0.7886518524913931,0.8339820848487465,0.8293249441500556,0.8364651895660433,0.8562235724538361],\"y\":[0.7931636430352151,0.7939251448860877,0.8512379369516182,0.8248060738838106,0.8418826665515493,0.8532861135993265],\"type\":\"scatter\"},{\"legendgroup\":\"australian\",\"marker\":{\"color\":\"#19D3F3\",\"size\":7,\"symbol\":\"circle-open\"},\"mode\":\"markers\",\"name\":\"australian\",\"showlegend\":false,\"x\":[0.6723592311594124,0.7324354460980584,0.836693640121305,0.8191700536375311,0.8200064537713552,0.8536976872187267],\"y\":[0.7174310536483234,0.7528358173517953,0.8479304978469442,0.8208642441640854,0.8149194357806582,0.8671365544631391],\"type\":\"scatter\"},{\"legendgroup\":\"australian\",\"marker\":{\"color\":\"#19D3F3\",\"size\":7,\"symbol\":\"circle-open\"},\"mode\":\"markers\",\"name\":\"australian\",\"showlegend\":false,\"x\":[0.7981226432402682,0.7903290128319969,0.7574477600664803,0.737832525712559,0.8505749036790814,0.8305301373854672],\"y\":[0.791698658522108,0.8315246441252334,0.8036069458984016,0.7898913435284214,0.8499522334581637,0.8410583321641718],\"type\":\"scatter\"},{\"legendgroup\":\"australian\",\"marker\":{\"color\":\"#19D3F3\",\"size\":7,\"symbol\":\"diamond\"},\"mode\":\"markers\",\"name\":\"australian\",\"showlegend\":false,\"x\":[0.7253918777452811,0.7245133662137515,0.7912423617781327,0.8512410235379185,0.8573226561909799,0.8601878069048878],\"y\":[0.7495738999989208,0.7838538943869457,0.807265047108214,0.836980973245988,0.8504493681131893,0.851579166621699],\"type\":\"scatter\"},{\"legendgroup\":\"australian\",\"marker\":{\"color\":\"#19D3F3\",\"size\":7,\"symbol\":\"diamond\"},\"mode\":\"markers\",\"name\":\"australian\",\"showlegend\":false,\"x\":[0.7001340614511273,0.7139623350133284,0.7199020926191736,0.734021562935063,0.7968696187094616,0.8556732103735202],\"y\":[0.7333025610032485,0.7292547297078535,0.741042963986229,0.7547518751551388,0.8144336761674527,0.8630740025253887],\"type\":\"scatter\"},{\"legendgroup\":\"australian\",\"marker\":{\"color\":\"#19D3F3\",\"size\":7,\"symbol\":\"diamond\"},\"mode\":\"markers\",\"name\":\"australian\",\"showlegend\":false,\"x\":[0.8107752727743662,0.8519553200444641,0.8515130316536978,0.8498472463549142,0.854111225029409,0.8532818398644493],\"y\":[0.8097050259553848,0.8337411368566464,0.8320730420142674,0.8349381927281753,0.864584228191541,0.8700331969911179],\"type\":\"scatter\"},{\"legendgroup\":\"adult\",\"marker\":{\"color\":\"#FF6692\",\"size\":7,\"symbol\":\"circle-open\"},\"mode\":\"markers\",\"name\":\"adult\",\"showlegend\":true,\"x\":[0.645035801127399,0.6843652938658631,0.6997919424814458,0.7581117141896601,0.7608730753003459,0.7642361233709946],\"y\":[0.7069917436473961,0.7400965023870631,0.7550896209102305,0.7757157743682546,0.776740245016251,0.7768364407843378],\"type\":\"scatter\"},{\"legendgroup\":\"adult\",\"marker\":{\"color\":\"#FF6692\",\"size\":7,\"symbol\":\"circle-open\"},\"mode\":\"markers\",\"name\":\"adult\",\"showlegend\":false,\"x\":[0.6326781233222386,0.7079216662783189,0.6874747636436204,0.7237241783270205,0.7391683704191265,0.77080511569078],\"y\":[0.6708098363440206,0.7462504219384165,0.7221672944974241,0.746303148519488,0.7932588187765288,0.7872777123652759],\"type\":\"scatter\"},{\"legendgroup\":\"adult\",\"marker\":{\"color\":\"#FF6692\",\"size\":7,\"symbol\":\"circle-open\"},\"mode\":\"markers\",\"name\":\"adult\",\"showlegend\":false,\"x\":[0.6673638723883613,0.7100450645989558,0.7307998617822158,0.7391937332124636,0.7689862534193027,0.7503922586475407],\"y\":[0.7183212309886766,0.7403312683210848,0.7619085144309459,0.7600618358020345,0.7818043358204598,0.7863343049850812],\"type\":\"scatter\"},{\"legendgroup\":\"adult\",\"marker\":{\"color\":\"#FF6692\",\"size\":7,\"symbol\":\"circle-open\"},\"mode\":\"markers\",\"name\":\"adult\",\"showlegend\":false,\"x\":[0.5817008600003515,0.6813409611408466,0.7051255917767788,0.7021308005349561,0.7677239502393299,0.7703340682573618],\"y\":[0.6537883131023996,0.7325626274985358,0.7662608730624424,0.7577866458489593,0.7907942971047399,0.7815073688901135],\"type\":\"scatter\"},{\"legendgroup\":\"adult\",\"marker\":{\"color\":\"#FF6692\",\"size\":7,\"symbol\":\"circle-open\"},\"mode\":\"markers\",\"name\":\"adult\",\"showlegend\":false,\"x\":[0.6395901325201274,0.683175390930124,0.7450658863654789,0.7394343993564199,0.7327735195134825,0.769944500990145],\"y\":[0.6757853502074684,0.7314248113508662,0.7640812184028078,0.7752183948935387,0.7700631853700047,0.7883971523508079],\"type\":\"scatter\"},{\"legendgroup\":\"adult\",\"marker\":{\"color\":\"#FF6692\",\"size\":7,\"symbol\":\"diamond\"},\"mode\":\"markers\",\"name\":\"adult\",\"showlegend\":false,\"x\":[0.6065832563724465,0.6433162633122491,0.6576498915857798,0.6869083173203665,0.7256982958166727,0.7392745905935938],\"y\":[0.6607166788273371,0.6737518925688382,0.683041230920645,0.7425975393152494,0.7757240791821227,0.7853160295552483],\"type\":\"scatter\"},{\"legendgroup\":\"adult\",\"marker\":{\"color\":\"#FF6692\",\"size\":7,\"symbol\":\"diamond\"},\"mode\":\"markers\",\"name\":\"adult\",\"showlegend\":false,\"x\":[0.6430032468366667,0.6471634749923889,0.6450830128075389,0.6727487849024,0.7665388486424554,0.7755244194768021],\"y\":[0.7243004789773472,0.7336885958762571,0.7347215116875666,0.7789804236675562,0.7829438331907502,0.7869301653000795],\"type\":\"scatter\"},{\"legendgroup\":\"adult\",\"marker\":{\"color\":\"#FF6692\",\"size\":7,\"symbol\":\"diamond\"},\"mode\":\"markers\",\"name\":\"adult\",\"showlegend\":false,\"x\":[0.5592303655287794,0.7218555284449139,0.7212248000802775,0.7428552209188478,0.7535975623326491,0.7534703448471356],\"y\":[0.6809538406572317,0.7512409745544347,0.7531103021912451,0.7529560735944505,0.7594431124286588,0.7635104751732399],\"type\":\"scatter\"},{\"marker\":{\"color\":\"#777\",\"symbol\":\"diamond\"},\"mode\":\"markers\",\"name\":\"Algorithm selection\",\"x\":[null],\"y\":[null],\"type\":\"scatter\"},{\"marker\":{\"color\":\"#777\",\"symbol\":\"circle-open\"},\"mode\":\"markers\",\"name\":\"Random selection\",\"x\":[null],\"y\":[null],\"type\":\"scatter\"}],                        {\"font\":{\"size\":11},\"margin\":{\"b\":20,\"l\":20,\"r\":0,\"t\":0},\"template\":{\"data\":{\"barpolar\":[{\"marker\":{\"line\":{\"color\":\"white\",\"width\":0.5},\"pattern\":{\"fillmode\":\"overlay\",\"size\":10,\"solidity\":0.2}},\"type\":\"barpolar\"}],\"bar\":[{\"error_x\":{\"color\":\"#2a3f5f\"},\"error_y\":{\"color\":\"#2a3f5f\"},\"marker\":{\"line\":{\"color\":\"white\",\"width\":0.5},\"pattern\":{\"fillmode\":\"overlay\",\"size\":10,\"solidity\":0.2}},\"type\":\"bar\"}],\"carpet\":[{\"aaxis\":{\"endlinecolor\":\"#2a3f5f\",\"gridcolor\":\"#C8D4E3\",\"linecolor\":\"#C8D4E3\",\"minorgridcolor\":\"#C8D4E3\",\"startlinecolor\":\"#2a3f5f\"},\"baxis\":{\"endlinecolor\":\"#2a3f5f\",\"gridcolor\":\"#C8D4E3\",\"linecolor\":\"#C8D4E3\",\"minorgridcolor\":\"#C8D4E3\",\"startlinecolor\":\"#2a3f5f\"},\"type\":\"carpet\"}],\"choropleth\":[{\"colorbar\":{\"outlinewidth\":0,\"ticks\":\"\"},\"type\":\"choropleth\"}],\"contourcarpet\":[{\"colorbar\":{\"outlinewidth\":0,\"ticks\":\"\"},\"type\":\"contourcarpet\"}],\"contour\":[{\"colorbar\":{\"outlinewidth\":0,\"ticks\":\"\"},\"colorscale\":[[0.0,\"#0d0887\"],[0.1111111111111111,\"#46039f\"],[0.2222222222222222,\"#7201a8\"],[0.3333333333333333,\"#9c179e\"],[0.4444444444444444,\"#bd3786\"],[0.5555555555555556,\"#d8576b\"],[0.6666666666666666,\"#ed7953\"],[0.7777777777777778,\"#fb9f3a\"],[0.8888888888888888,\"#fdca26\"],[1.0,\"#f0f921\"]],\"type\":\"contour\"}],\"heatmapgl\":[{\"colorbar\":{\"outlinewidth\":0,\"ticks\":\"\"},\"colorscale\":[[0.0,\"#0d0887\"],[0.1111111111111111,\"#46039f\"],[0.2222222222222222,\"#7201a8\"],[0.3333333333333333,\"#9c179e\"],[0.4444444444444444,\"#bd3786\"],[0.5555555555555556,\"#d8576b\"],[0.6666666666666666,\"#ed7953\"],[0.7777777777777778,\"#fb9f3a\"],[0.8888888888888888,\"#fdca26\"],[1.0,\"#f0f921\"]],\"type\":\"heatmapgl\"}],\"heatmap\":[{\"colorbar\":{\"outlinewidth\":0,\"ticks\":\"\"},\"colorscale\":[[0.0,\"#0d0887\"],[0.1111111111111111,\"#46039f\"],[0.2222222222222222,\"#7201a8\"],[0.3333333333333333,\"#9c179e\"],[0.4444444444444444,\"#bd3786\"],[0.5555555555555556,\"#d8576b\"],[0.6666666666666666,\"#ed7953\"],[0.7777777777777778,\"#fb9f3a\"],[0.8888888888888888,\"#fdca26\"],[1.0,\"#f0f921\"]],\"type\":\"heatmap\"}],\"histogram2dcontour\":[{\"colorbar\":{\"outlinewidth\":0,\"ticks\":\"\"},\"colorscale\":[[0.0,\"#0d0887\"],[0.1111111111111111,\"#46039f\"],[0.2222222222222222,\"#7201a8\"],[0.3333333333333333,\"#9c179e\"],[0.4444444444444444,\"#bd3786\"],[0.5555555555555556,\"#d8576b\"],[0.6666666666666666,\"#ed7953\"],[0.7777777777777778,\"#fb9f3a\"],[0.8888888888888888,\"#fdca26\"],[1.0,\"#f0f921\"]],\"type\":\"histogram2dcontour\"}],\"histogram2d\":[{\"colorbar\":{\"outlinewidth\":0,\"ticks\":\"\"},\"colorscale\":[[0.0,\"#0d0887\"],[0.1111111111111111,\"#46039f\"],[0.2222222222222222,\"#7201a8\"],[0.3333333333333333,\"#9c179e\"],[0.4444444444444444,\"#bd3786\"],[0.5555555555555556,\"#d8576b\"],[0.6666666666666666,\"#ed7953\"],[0.7777777777777778,\"#fb9f3a\"],[0.8888888888888888,\"#fdca26\"],[1.0,\"#f0f921\"]],\"type\":\"histogram2d\"}],\"histogram\":[{\"marker\":{\"pattern\":{\"fillmode\":\"overlay\",\"size\":10,\"solidity\":0.2}},\"type\":\"histogram\"}],\"mesh3d\":[{\"colorbar\":{\"outlinewidth\":0,\"ticks\":\"\"},\"type\":\"mesh3d\"}],\"parcoords\":[{\"line\":{\"colorbar\":{\"outlinewidth\":0,\"ticks\":\"\"}},\"type\":\"parcoords\"}],\"pie\":[{\"automargin\":true,\"type\":\"pie\"}],\"scatter3d\":[{\"line\":{\"colorbar\":{\"outlinewidth\":0,\"ticks\":\"\"}},\"marker\":{\"colorbar\":{\"outlinewidth\":0,\"ticks\":\"\"}},\"type\":\"scatter3d\"}],\"scattercarpet\":[{\"marker\":{\"colorbar\":{\"outlinewidth\":0,\"ticks\":\"\"}},\"type\":\"scattercarpet\"}],\"scattergeo\":[{\"marker\":{\"colorbar\":{\"outlinewidth\":0,\"ticks\":\"\"}},\"type\":\"scattergeo\"}],\"scattergl\":[{\"marker\":{\"colorbar\":{\"outlinewidth\":0,\"ticks\":\"\"}},\"type\":\"scattergl\"}],\"scattermapbox\":[{\"marker\":{\"colorbar\":{\"outlinewidth\":0,\"ticks\":\"\"}},\"type\":\"scattermapbox\"}],\"scatterpolargl\":[{\"marker\":{\"colorbar\":{\"outlinewidth\":0,\"ticks\":\"\"}},\"type\":\"scatterpolargl\"}],\"scatterpolar\":[{\"marker\":{\"colorbar\":{\"outlinewidth\":0,\"ticks\":\"\"}},\"type\":\"scatterpolar\"}],\"scatter\":[{\"fillpattern\":{\"fillmode\":\"overlay\",\"size\":10,\"solidity\":0.2},\"type\":\"scatter\"}],\"scatterternary\":[{\"marker\":{\"colorbar\":{\"outlinewidth\":0,\"ticks\":\"\"}},\"type\":\"scatterternary\"}],\"surface\":[{\"colorbar\":{\"outlinewidth\":0,\"ticks\":\"\"},\"colorscale\":[[0.0,\"#0d0887\"],[0.1111111111111111,\"#46039f\"],[0.2222222222222222,\"#7201a8\"],[0.3333333333333333,\"#9c179e\"],[0.4444444444444444,\"#bd3786\"],[0.5555555555555556,\"#d8576b\"],[0.6666666666666666,\"#ed7953\"],[0.7777777777777778,\"#fb9f3a\"],[0.8888888888888888,\"#fdca26\"],[1.0,\"#f0f921\"]],\"type\":\"surface\"}],\"table\":[{\"cells\":{\"fill\":{\"color\":\"#EBF0F8\"},\"line\":{\"color\":\"white\"}},\"header\":{\"fill\":{\"color\":\"#C8D4E3\"},\"line\":{\"color\":\"white\"}},\"type\":\"table\"}]},\"layout\":{\"annotationdefaults\":{\"arrowcolor\":\"#2a3f5f\",\"arrowhead\":0,\"arrowwidth\":1},\"autotypenumbers\":\"strict\",\"coloraxis\":{\"colorbar\":{\"outlinewidth\":0,\"ticks\":\"\"}},\"colorscale\":{\"diverging\":[[0,\"#8e0152\"],[0.1,\"#c51b7d\"],[0.2,\"#de77ae\"],[0.3,\"#f1b6da\"],[0.4,\"#fde0ef\"],[0.5,\"#f7f7f7\"],[0.6,\"#e6f5d0\"],[0.7,\"#b8e186\"],[0.8,\"#7fbc41\"],[0.9,\"#4d9221\"],[1,\"#276419\"]],\"sequential\":[[0.0,\"#0d0887\"],[0.1111111111111111,\"#46039f\"],[0.2222222222222222,\"#7201a8\"],[0.3333333333333333,\"#9c179e\"],[0.4444444444444444,\"#bd3786\"],[0.5555555555555556,\"#d8576b\"],[0.6666666666666666,\"#ed7953\"],[0.7777777777777778,\"#fb9f3a\"],[0.8888888888888888,\"#fdca26\"],[1.0,\"#f0f921\"]],\"sequentialminus\":[[0.0,\"#0d0887\"],[0.1111111111111111,\"#46039f\"],[0.2222222222222222,\"#7201a8\"],[0.3333333333333333,\"#9c179e\"],[0.4444444444444444,\"#bd3786\"],[0.5555555555555556,\"#d8576b\"],[0.6666666666666666,\"#ed7953\"],[0.7777777777777778,\"#fb9f3a\"],[0.8888888888888888,\"#fdca26\"],[1.0,\"#f0f921\"]]},\"colorway\":[\"#636efa\",\"#EF553B\",\"#00cc96\",\"#ab63fa\",\"#FFA15A\",\"#19d3f3\",\"#FF6692\",\"#B6E880\",\"#FF97FF\",\"#FECB52\"],\"font\":{\"color\":\"#2a3f5f\"},\"geo\":{\"bgcolor\":\"white\",\"lakecolor\":\"white\",\"landcolor\":\"white\",\"showlakes\":true,\"showland\":true,\"subunitcolor\":\"#C8D4E3\"},\"hoverlabel\":{\"align\":\"left\"},\"hovermode\":\"closest\",\"mapbox\":{\"style\":\"light\"},\"paper_bgcolor\":\"white\",\"plot_bgcolor\":\"white\",\"polar\":{\"angularaxis\":{\"gridcolor\":\"#EBF0F8\",\"linecolor\":\"#EBF0F8\",\"ticks\":\"\"},\"bgcolor\":\"white\",\"radialaxis\":{\"gridcolor\":\"#EBF0F8\",\"linecolor\":\"#EBF0F8\",\"ticks\":\"\"}},\"scene\":{\"xaxis\":{\"backgroundcolor\":\"white\",\"gridcolor\":\"#DFE8F3\",\"gridwidth\":2,\"linecolor\":\"#EBF0F8\",\"showbackground\":true,\"ticks\":\"\",\"zerolinecolor\":\"#EBF0F8\"},\"yaxis\":{\"backgroundcolor\":\"white\",\"gridcolor\":\"#DFE8F3\",\"gridwidth\":2,\"linecolor\":\"#EBF0F8\",\"showbackground\":true,\"ticks\":\"\",\"zerolinecolor\":\"#EBF0F8\"},\"zaxis\":{\"backgroundcolor\":\"white\",\"gridcolor\":\"#DFE8F3\",\"gridwidth\":2,\"linecolor\":\"#EBF0F8\",\"showbackground\":true,\"ticks\":\"\",\"zerolinecolor\":\"#EBF0F8\"}},\"shapedefaults\":{\"line\":{\"color\":\"#2a3f5f\"}},\"ternary\":{\"aaxis\":{\"gridcolor\":\"#DFE8F3\",\"linecolor\":\"#A2B1C6\",\"ticks\":\"\"},\"baxis\":{\"gridcolor\":\"#DFE8F3\",\"linecolor\":\"#A2B1C6\",\"ticks\":\"\"},\"bgcolor\":\"white\",\"caxis\":{\"gridcolor\":\"#DFE8F3\",\"linecolor\":\"#A2B1C6\",\"ticks\":\"\"}},\"title\":{\"x\":0.05},\"xaxis\":{\"automargin\":true,\"gridcolor\":\"#EBF0F8\",\"linecolor\":\"#EBF0F8\",\"ticks\":\"\",\"title\":{\"standoff\":15},\"zerolinecolor\":\"#EBF0F8\",\"zerolinewidth\":2},\"yaxis\":{\"automargin\":true,\"gridcolor\":\"#EBF0F8\",\"linecolor\":\"#EBF0F8\",\"ticks\":\"\",\"title\":{\"standoff\":15},\"zerolinecolor\":\"#EBF0F8\",\"zerolinewidth\":2}}},\"legend\":{\"orientation\":\"h\",\"yanchor\":\"bottom\",\"y\":1.02,\"xanchor\":\"left\",\"x\":-0.02},\"yaxis\":{\"title\":{\"text\":\"XGBoost balanced accuracy\"}},\"xaxis\":{\"title\":{\"text\":\"MLP + Pruning balanced accuracy\"}}},                        {\"responsive\": true}                    ).then(function(){\n",
       "                            \n",
       "var gd = document.getElementById('edc24c82-e6fb-4eb9-9167-6ba427e5803b');\n",
       "var x = new MutationObserver(function (mutations, observer) {{\n",
       "        var display = window.getComputedStyle(gd).display;\n",
       "        if (!display || display === 'none') {{\n",
       "            console.log([gd, 'removed!']);\n",
       "            Plotly.purge(gd);\n",
       "            observer.disconnect();\n",
       "        }}\n",
       "}});\n",
       "\n",
       "// Listen for the removal of the full notebook cells\n",
       "var notebookContainer = gd.closest('#notebook-container');\n",
       "if (notebookContainer) {{\n",
       "    x.observe(notebookContainer, {childList: true});\n",
       "}}\n",
       "\n",
       "// Listen for the clearing of the current output cell\n",
       "var outputEl = gd.closest('.output');\n",
       "if (outputEl) {{\n",
       "    x.observe(outputEl, {childList: true});\n",
       "}}\n",
       "\n",
       "                        })                };                });            </script>        </div>"
      ]
     },
     "metadata": {},
     "output_type": "display_data"
    }
   ],
   "source": [
    "for method in [\"transformer/cls\", \"mlp/simple\"]:\n",
    "    fig = go.Figure(layout=go.Layout(\n",
    "        margin={\"l\": 20, \"r\": 0, \"b\": 20, \"t\": 0},    \n",
    "        template=\"plotly_white\",\n",
    "        font={\"size\": 18}\n",
    "        )\n",
    "    )\n",
    "\n",
    "    fig.add_trace(\n",
    "        go.Scatter(\n",
    "            x=[0.3, 1],\n",
    "            y=[0.3, 1],\n",
    "            mode=\"lines\",\n",
    "            line=dict(color=\"#777\", dash=\"dot\"),\n",
    "            showlegend=False\n",
    "        )\n",
    "    )\n",
    "    \n",
    "    for ds_i, ds in enumerate(sorted(full_cos_df[\"dataset\"].unique(), key=lambda x: DATASET_ORDER.index(x))):\n",
    "        for fs_i, fs in enumerate(reversed(full_cos_df[\"fs_method\"].unique())):\n",
    "            fig.add_trace(\n",
    "                go.Scatter(\n",
    "                    x=full_cos_df.query(\"dataset==@ds and fs_method==@fs\")[method],\n",
    "                    y=full_cos_df.query(\"dataset==@ds and fs_method==@fs\")[\"xgboost/best\"],\n",
    "                    name=ds,\n",
    "                    mode=\"markers\",\n",
    "                    marker=dict(\n",
    "                        color=COLORS[ds_i],\n",
    "                        symbol=\"diamond\" if \"random\" not in fs else \"circle-open\",\n",
    "                        size=7\n",
    "                    ),\n",
    "                    legendgroup=ds,\n",
    "                    showlegend=fs_i == 0\n",
    "                )\n",
    "            )\n",
    "            \n",
    "    fig.add_trace(\n",
    "        go.Scatter(\n",
    "            x=[None],\n",
    "            y=[None],\n",
    "            mode=\"markers\",\n",
    "            name=\"Algorithm selection\",\n",
    "            marker=dict(symbol=\"diamond\", color=\"#777\")\n",
    "        )\n",
    "    )\n",
    "    \n",
    "    fig.add_trace(\n",
    "        go.Scatter(\n",
    "            x=[None],\n",
    "            y=[None],\n",
    "            mode=\"markers\",\n",
    "            name=\"Random selection\",\n",
    "            marker=dict(symbol=\"circle-open\", color=\"#777\")\n",
    "        )\n",
    "    )\n",
    "        \n",
    "\n",
    "    fig.update_layout(\n",
    "        yaxis_title=\"XGBoost balanced accuracy\",\n",
    "        xaxis_title=\"{} balanced accuracy\".format(\"FT-Transformer\" if \"transformer\" in method else \"MLP + Pruning\"),\n",
    "        #xaxis=dict(autorange=\"reversed\"),\n",
    "        font={\"size\": 11},\n",
    "        legend=dict(\n",
    "                    orientation=\"h\",\n",
    "                    yanchor=\"bottom\",\n",
    "                    y=1.02,\n",
    "                    xanchor=\"left\",\n",
    "                    x=-0.02\n",
    "                )\n",
    "    )\n",
    "\n",
    "\n",
    "\n",
    "    fig.show()\n",
    "    \n",
    "    fig.write_image(os.path.join(ASSETS_DIR, f\"fs_general_relation_{method.split('/')[0]}.png\"), scale=IMG_SCALE)"
   ]
  },
  {
   "cell_type": "markdown",
   "id": "091222b5",
   "metadata": {},
   "source": [
    "# General results"
   ]
  },
  {
   "cell_type": "code",
   "execution_count": 10,
   "id": "285ed391",
   "metadata": {},
   "outputs": [],
   "source": [
    "def num_as_str(x):\n",
    "    return \"{0:.3f}\".format(x)"
   ]
  },
  {
   "cell_type": "code",
   "execution_count": 14,
   "id": "9dc9afe4",
   "metadata": {},
   "outputs": [
    {
     "data": {
      "text/html": [
       "<div>\n",
       "<style scoped>\n",
       "    .dataframe tbody tr th:only-of-type {\n",
       "        vertical-align: middle;\n",
       "    }\n",
       "\n",
       "    .dataframe tbody tr th {\n",
       "        vertical-align: top;\n",
       "    }\n",
       "\n",
       "    .dataframe thead th {\n",
       "        text-align: right;\n",
       "    }\n",
       "</style>\n",
       "<table border=\"1\" class=\"dataframe\">\n",
       "  <thead>\n",
       "    <tr style=\"text-align: right;\">\n",
       "      <th></th>\n",
       "      <th>Dataset</th>\n",
       "      <th>FT-Transformer</th>\n",
       "      <th>MLP + Pruning</th>\n",
       "      <th>XGBoost + HS</th>\n",
       "      <th>mlp/simple_nd</th>\n",
       "      <th>mlp/simple_nd_nn</th>\n",
       "    </tr>\n",
       "  </thead>\n",
       "  <tbody>\n",
       "    <tr>\n",
       "      <th>6</th>\n",
       "      <td>volkert</td>\n",
       "      <td>$62.373 \\pm 0.915$</td>\n",
       "      <td>$59.915 \\pm 0.781$</td>\n",
       "      <td>$60.967 \\pm 0.897$</td>\n",
       "      <td>$55.964 \\pm 1.621$</td>\n",
       "      <td>$43.327 \\pm 0.596$</td>\n",
       "    </tr>\n",
       "    <tr>\n",
       "      <th>2</th>\n",
       "      <td>jasmine</td>\n",
       "      <td>$81.890 \\pm 2.149$</td>\n",
       "      <td>$78.897 \\pm 1.585$</td>\n",
       "      <td>$81.707 \\pm 1.105$</td>\n",
       "      <td>$79.612 \\pm 1.936$</td>\n",
       "      <td>$78.283 \\pm 1.461$</td>\n",
       "    </tr>\n",
       "    <tr>\n",
       "      <th>4</th>\n",
       "      <td>nomao</td>\n",
       "      <td>$95.159 \\pm 0.393$</td>\n",
       "      <td>$93.912 \\pm 0.775$</td>\n",
       "      <td>$96.166 \\pm 0.290$</td>\n",
       "      <td>$93.272 \\pm 0.785$</td>\n",
       "      <td>$92.842 \\pm 0.333$</td>\n",
       "    </tr>\n",
       "    <tr>\n",
       "      <th>3</th>\n",
       "      <td>kr-vs-kp</td>\n",
       "      <td>$99.839 \\pm 0.166$</td>\n",
       "      <td>$99.682 \\pm 0.173$</td>\n",
       "      <td>$99.368 \\pm 0.205$</td>\n",
       "      <td>$99.719 \\pm 0.296$</td>\n",
       "      <td>$97.076 \\pm 0.721$</td>\n",
       "    </tr>\n",
       "    <tr>\n",
       "      <th>5</th>\n",
       "      <td>sylvine</td>\n",
       "      <td>$94.890 \\pm 0.404$</td>\n",
       "      <td>$92.811 \\pm 0.559$</td>\n",
       "      <td>$94.427 \\pm 0.623$</td>\n",
       "      <td>$92.346 \\pm 0.556$</td>\n",
       "      <td>$91.377 \\pm 0.993$</td>\n",
       "    </tr>\n",
       "    <tr>\n",
       "      <th>1</th>\n",
       "      <td>australian</td>\n",
       "      <td>$87.195 \\pm 3.422$</td>\n",
       "      <td>$85.785 \\pm 2.228$</td>\n",
       "      <td>$85.660 \\pm 2.866$</td>\n",
       "      <td>$84.751 \\pm 2.603$</td>\n",
       "      <td>$85.816 \\pm 2.426$</td>\n",
       "    </tr>\n",
       "    <tr>\n",
       "      <th>0</th>\n",
       "      <td>adult</td>\n",
       "      <td>$79.215 \\pm 0.970$</td>\n",
       "      <td>$78.472 \\pm 1.413$</td>\n",
       "      <td>$79.784 \\pm 0.779$</td>\n",
       "      <td>$78.584 \\pm 1.106$</td>\n",
       "      <td>$77.167 \\pm 1.087$</td>\n",
       "    </tr>\n",
       "  </tbody>\n",
       "</table>\n",
       "</div>"
      ],
      "text/plain": [
       "      Dataset      FT-Transformer       MLP + Pruning        XGBoost + HS  \\\n",
       "6     volkert  $62.373 \\pm 0.915$  $59.915 \\pm 0.781$  $60.967 \\pm 0.897$   \n",
       "2     jasmine  $81.890 \\pm 2.149$  $78.897 \\pm 1.585$  $81.707 \\pm 1.105$   \n",
       "4       nomao  $95.159 \\pm 0.393$  $93.912 \\pm 0.775$  $96.166 \\pm 0.290$   \n",
       "3    kr-vs-kp  $99.839 \\pm 0.166$  $99.682 \\pm 0.173$  $99.368 \\pm 0.205$   \n",
       "5     sylvine  $94.890 \\pm 0.404$  $92.811 \\pm 0.559$  $94.427 \\pm 0.623$   \n",
       "1  australian  $87.195 \\pm 3.422$  $85.785 \\pm 2.228$  $85.660 \\pm 2.866$   \n",
       "0       adult  $79.215 \\pm 0.970$  $78.472 \\pm 1.413$  $79.784 \\pm 0.779$   \n",
       "\n",
       "        mlp/simple_nd    mlp/simple_nd_nn  \n",
       "6  $55.964 \\pm 1.621$  $43.327 \\pm 0.596$  \n",
       "2  $79.612 \\pm 1.936$  $78.283 \\pm 1.461$  \n",
       "4  $93.272 \\pm 0.785$  $92.842 \\pm 0.333$  \n",
       "3  $99.719 \\pm 0.296$  $97.076 \\pm 0.721$  \n",
       "5  $92.346 \\pm 0.556$  $91.377 \\pm 0.993$  \n",
       "1  $84.751 \\pm 2.603$  $85.816 \\pm 2.426$  \n",
       "0  $78.584 \\pm 1.106$  $77.167 \\pm 1.087$  "
      ]
     },
     "execution_count": 14,
     "metadata": {},
     "output_type": "execute_result"
    }
   ],
   "source": [
    "indices_best = scores_df.groupby([\n",
    "    \"dataset\", \"model\", \"fs_method\", \n",
    "    \"fs_percent\", \"fs_n_features\"\n",
    "    ])[\"balanced_accuracy_mean\"].idxmax()\n",
    "\n",
    "\n",
    "best_scores_df = scores_df.loc[indices_best].query(\"fs_percent==1 \"\n",
    "                                                   \"and fs_method=='decision_tree' \"\n",
    "                                                  \"and model in ['transformer/cls','mlp/simple', 'mlp/simple_nd', 'mlp/simple_nd_nn','xgboost']\"\n",
    "                                                  )\n",
    "best_scores_df[\"balanced_accuracy\"] = \"$\" + (best_scores_df[\"balanced_accuracy_mean\"] * 100).apply(num_as_str) \\\n",
    "                        + \" \\pm \" + (best_scores_df[\"balanced_accuracy_std\"] * 100).apply(num_as_str) + \"$\" \n",
    "\n",
    "\n",
    "\n",
    "best_scores_df = best_scores_df.replace(df_replacements)[[\"dataset\", \"model\", \"balanced_accuracy\"]] \\\n",
    "                        .pivot(index=\"dataset\", columns=\"model\") \\\n",
    "                        .reset_index()\n",
    "\n",
    "\n",
    "best_scores_df.columns = [\"Dataset\"] + [col[1] for col in best_scores_df.columns][1:]\n",
    "\n",
    "\n",
    "best_scores_df = best_scores_df.sort_values(\"Dataset\", key=lambda x: [DATASET_ORDER.index(i) for i in x])\n",
    "\n",
    "with open(os.path.join(ASSETS_DIR, \"fs_general_results.tex\"), \"w\") as f:\n",
    "    f.write(best_scores_df.to_latex(index=False))    \n",
    "    \n",
    "best_scores_df"
   ]
  },
  {
   "cell_type": "markdown",
   "id": "eec39fb7",
   "metadata": {},
   "source": [
    "# Full models CV scores"
   ]
  },
  {
   "cell_type": "code",
   "execution_count": 19,
   "id": "7ae99ade",
   "metadata": {},
   "outputs": [
    {
     "data": {
      "application/vnd.plotly.v1+json": {
       "config": {
        "plotlyServerURL": "https://plot.ly"
       },
       "data": [
        {
         "error_y": {
          "array": [
           0.0144262273363454,
           0.0134810917234568,
           0.0131533656191451,
           0.0067026868601119,
           0.0081718542701767,
           0.0078127146798286,
           0.0078127146798286
          ],
          "type": "data",
          "visible": true
         },
         "legendgroup": "mlp/simple",
         "line": {
          "color": "#636EFA"
         },
         "name": "MLP + Pruning",
         "showlegend": true,
         "type": "scatter",
         "x": [
          "40%",
          "50%",
          "60%",
          "70%",
          "80%",
          "90%",
          "100%"
         ],
         "xaxis": "x",
         "y": [
          0.4312030275363697,
          0.4784508685204266,
          0.5185967708787869,
          0.5649063771555045,
          0.5998098148614754,
          0.5991507303399104,
          0.5991507303399104
         ],
         "yaxis": "y"
        },
        {
         "legendgroup": "mlp/simple",
         "line": {
          "color": "#636EFA"
         },
         "name": "MLP + Pruning",
         "showlegend": false,
         "type": "scatter",
         "x": [
          "40%",
          "50%",
          "60%",
          "70%",
          "80%",
          "90%",
          "100%"
         ],
         "xaxis": "x2",
         "y": [
          0.864044189453125,
          0.900806188583374,
          0.928727388381958,
          0.8988654613494873,
          0.9072532653808594,
          0.9265494346618652,
          0
         ],
         "yaxis": "y2"
        },
        {
         "error_y": {
          "array": [
           0.0134920955746758,
           0.0125962695323132,
           0.0072352821616983,
           0.0105929803471007,
           0.016243145491633,
           0.016214974649722,
           0.016214974649722
          ],
          "type": "data",
          "visible": true
         },
         "legendgroup": "mlp/simple_nd",
         "line": {
          "color": "#EF553B"
         },
         "name": "mlp/simple_nd",
         "showlegend": true,
         "type": "scatter",
         "x": [
          "40%",
          "50%",
          "60%",
          "70%",
          "80%",
          "90%",
          "100%"
         ],
         "xaxis": "x",
         "y": [
          0.4072839303353771,
          0.4594570820665616,
          0.4923143295978737,
          0.5386821719568691,
          0.5609573775858597,
          0.5596447874615056,
          0.5596447874615056
         ],
         "yaxis": "y"
        },
        {
         "legendgroup": "mlp/simple_nd",
         "line": {
          "color": "#EF553B"
         },
         "name": "mlp/simple_nd",
         "showlegend": false,
         "type": "scatter",
         "x": [
          "40%",
          "50%",
          "60%",
          "70%",
          "80%",
          "90%",
          "100%"
         ],
         "xaxis": "x2",
         "y": [
          0.909975290298462,
          0.929887056350708,
          0.9577820301055908,
          0.956214189529419,
          0.991591215133667,
          0.9265732765197754,
          0
         ],
         "yaxis": "y2"
        },
        {
         "error_y": {
          "array": [
           0.0144643412674568,
           0.0191892471909141,
           0.0178171692731993,
           0.0072943885681068,
           0.006687256626712,
           0.0059550792325256,
           0.0059550792325256
          ],
          "type": "data",
          "visible": true
         },
         "legendgroup": "mlp/simple_nd_nn",
         "line": {
          "color": "#00CC96"
         },
         "name": "mlp/simple_nd_nn",
         "showlegend": true,
         "type": "scatter",
         "x": [
          "40%",
          "50%",
          "60%",
          "70%",
          "80%",
          "90%",
          "100%"
         ],
         "xaxis": "x",
         "y": [
          0.3286944880585658,
          0.3548964198331197,
          0.3777430452297735,
          0.4122560176659697,
          0.4321460585960811,
          0.4332696211117414,
          0.4332696211117414
         ],
         "yaxis": "y"
        },
        {
         "legendgroup": "mlp/simple_nd_nn",
         "line": {
          "color": "#00CC96"
         },
         "name": "mlp/simple_nd_nn",
         "showlegend": false,
         "type": "scatter",
         "x": [
          "40%",
          "50%",
          "60%",
          "70%",
          "80%",
          "90%",
          "100%"
         ],
         "xaxis": "x2",
         "y": [
          0.842026948928833,
          0.8651540279388428,
          0.8589065074920654,
          0.8598039150238037,
          0.8446118831634521,
          0.9337410926818848,
          0
         ],
         "yaxis": "y2"
        },
        {
         "error_y": {
          "array": [
           0.0100672466042177,
           0.0076650730722411,
           0.0098334145660571,
           0.0132246143370111,
           0.0069060127439092,
           0.0101284776883605,
           0.0091514443762339
          ],
          "type": "data",
          "visible": true
         },
         "legendgroup": "transformer/cls",
         "line": {
          "color": "#AB63FA"
         },
         "name": "FT-Transformer",
         "showlegend": true,
         "type": "scatter",
         "x": [
          "40%",
          "50%",
          "60%",
          "70%",
          "80%",
          "90%",
          "100%"
         ],
         "xaxis": "x",
         "y": [
          0.5170220284558134,
          0.5348033784802084,
          0.5570618760817746,
          0.6031443244207417,
          0.6262947487405492,
          0.6276886808297546,
          0.6237341367366135
         ],
         "yaxis": "y"
        },
        {
         "legendgroup": "transformer/cls",
         "line": {
          "color": "#AB63FA"
         },
         "name": "FT-Transformer",
         "showlegend": false,
         "type": "scatter",
         "x": [
          "40%",
          "50%",
          "60%",
          "70%",
          "80%",
          "90%",
          "100%"
         ],
         "xaxis": "x2",
         "y": [
          6.580129146575928,
          7.796831369400024,
          9.344855308532717,
          11.465155839920044,
          14.317285776138306,
          16.877570629119873,
          0
         ],
         "yaxis": "y2"
        },
        {
         "error_y": {
          "array": [
           0.0076847853762665,
           0.0101805613481927,
           0.0080623474126943,
           0.0085153114438913,
           0.006892511990557,
           0.008966307822933,
           0.008966307822933
          ],
          "type": "data",
          "visible": true
         },
         "legendgroup": "xgboost",
         "line": {
          "color": "#FFA15A"
         },
         "name": "XGBoost + HS",
         "showlegend": true,
         "type": "scatter",
         "x": [
          "40%",
          "50%",
          "60%",
          "70%",
          "80%",
          "90%",
          "100%"
         ],
         "xaxis": "x",
         "y": [
          0.6065272685908626,
          0.6026961228084774,
          0.6024600364047293,
          0.6057615042868341,
          0.6085072611997198,
          0.6096698632100874,
          0.6096698632100874
         ],
         "yaxis": "y"
        },
        {
         "legendgroup": "xgboost",
         "line": {
          "color": "#FFA15A"
         },
         "name": "XGBoost + HS",
         "showlegend": false,
         "type": "scatter",
         "x": [
          "40%",
          "50%",
          "60%",
          "70%",
          "80%",
          "90%",
          "100%"
         ],
         "xaxis": "x2",
         "y": [
          782.4888324737549,
          896.6910433769226,
          1033.1460943222046,
          1233.3821647167206,
          1386.4294447898865,
          1420.85027217865,
          0
         ],
         "yaxis": "y2"
        },
        {
         "error_y": {
          "array": [
           0.0057604313022243,
           0.0101805613481927,
           0.0080623474126943,
           0.0085153114438913,
           0.006892511990557,
           0.008966307822933,
           0.008966307822933
          ],
          "type": "data",
          "visible": true
         },
         "legendgroup": "xgboost/best",
         "line": {
          "color": "#19D3F3"
         },
         "name": "XGBoost",
         "showlegend": true,
         "type": "scatter",
         "x": [
          "40%",
          "50%",
          "60%",
          "70%",
          "80%",
          "90%",
          "100%"
         ],
         "xaxis": "x",
         "y": [
          0.6053073045226102,
          0.6026961228084774,
          0.6024600364047293,
          0.6057615042868341,
          0.6085072611997198,
          0.6096698632100874,
          0.6096698632100874
         ],
         "yaxis": "y"
        },
        {
         "legendgroup": "xgboost/best",
         "line": {
          "color": "#19D3F3"
         },
         "name": "XGBoost",
         "showlegend": false,
         "type": "scatter",
         "x": [
          "40%",
          "50%",
          "60%",
          "70%",
          "80%",
          "90%",
          "100%"
         ],
         "xaxis": "x2",
         "y": [
          316.9652020931244,
          363.4555125236511,
          418.24478101730347,
          501.54131412506104,
          563.7763247489929,
          575.2819905281067,
          0
         ],
         "yaxis": "y2"
        },
        {
         "error_y": {
          "array": [
           0.0110230468371386,
           0.02476037436167,
           0.0354418318354749,
           0.0235146736353172,
           0.0164002726895904,
           0.0163344427322181,
           0.0141338717114016
          ],
          "type": "data",
          "visible": true
         },
         "legendgroup": "mlp/simple",
         "line": {
          "color": "#636EFA"
         },
         "name": "MLP + Pruning",
         "showlegend": false,
         "type": "scatter",
         "x": [
          "40%",
          "50%",
          "60%",
          "70%",
          "80%",
          "90%",
          "100%"
         ],
         "xaxis": "x3",
         "y": [
          0.5592303655287794,
          0.7218555284449139,
          0.7212248000802775,
          0.7428552209188478,
          0.7535975623326491,
          0.7534703448471356,
          0.784717818766891
         ],
         "yaxis": "y3"
        },
        {
         "legendgroup": "mlp/simple",
         "line": {
          "color": "#636EFA"
         },
         "name": "MLP + Pruning",
         "showlegend": false,
         "type": "scatter",
         "x": [
          "40%",
          "50%",
          "60%",
          "70%",
          "80%",
          "90%",
          "100%"
         ],
         "xaxis": "x4",
         "y": [
          0.8686890602111816,
          0.9163997173309326,
          0.855414628982544,
          0.8549833297729492,
          0.8574011325836182,
          0.845160961151123,
          0
         ],
         "yaxis": "y4"
        },
        {
         "error_y": {
          "array": [
           0.0078580684086455,
           0.0235065452710346,
           0.0356396864183834,
           0.019015979441777,
           0.011157523938463,
           0.0126519359881852,
           0.0110570342208831
          ],
          "type": "data",
          "visible": true
         },
         "legendgroup": "mlp/simple_nd",
         "line": {
          "color": "#EF553B"
         },
         "name": "mlp/simple_nd",
         "showlegend": false,
         "type": "scatter",
         "x": [
          "40%",
          "50%",
          "60%",
          "70%",
          "80%",
          "90%",
          "100%"
         ],
         "xaxis": "x3",
         "y": [
          0.5504369237868951,
          0.715423862988645,
          0.7159715602905634,
          0.7451418854425151,
          0.7531338925767752,
          0.753820946967571,
          0.7858351818573001
         ],
         "yaxis": "y3"
        },
        {
         "legendgroup": "mlp/simple_nd",
         "line": {
          "color": "#EF553B"
         },
         "name": "mlp/simple_nd",
         "showlegend": false,
         "type": "scatter",
         "x": [
          "40%",
          "50%",
          "60%",
          "70%",
          "80%",
          "90%",
          "100%"
         ],
         "xaxis": "x4",
         "y": [
          0.8742785453796387,
          0.8821666240692139,
          0.8971729278564453,
          0.903057336807251,
          0.9137072563171388,
          0.8852376937866211,
          0
         ],
         "yaxis": "y4"
        },
        {
         "error_y": {
          "array": [
           0.0142344377257303,
           0.0296429118695561,
           0.0266731579946475,
           0.0184144335133537,
           0.013243060082695,
           0.0123967612388674,
           0.0108736677725634
          ],
          "type": "data",
          "visible": true
         },
         "legendgroup": "mlp/simple_nd_nn",
         "line": {
          "color": "#00CC96"
         },
         "name": "mlp/simple_nd_nn",
         "showlegend": false,
         "type": "scatter",
         "x": [
          "40%",
          "50%",
          "60%",
          "70%",
          "80%",
          "90%",
          "100%"
         ],
         "xaxis": "x3",
         "y": [
          0.5293952252842167,
          0.6833104182760421,
          0.6972224806520615,
          0.72523801152344,
          0.7499454821890115,
          0.7550039731206661,
          0.7716679176339927
         ],
         "yaxis": "y3"
        },
        {
         "legendgroup": "mlp/simple_nd_nn",
         "line": {
          "color": "#00CC96"
         },
         "name": "mlp/simple_nd_nn",
         "showlegend": false,
         "type": "scatter",
         "x": [
          "40%",
          "50%",
          "60%",
          "70%",
          "80%",
          "90%",
          "100%"
         ],
         "xaxis": "x4",
         "y": [
          0.9338643550872804,
          0.9141385555267334,
          0.9256315231323242,
          0.9394221305847168,
          0.9578585624694824,
          0.9643189907073976,
          0
         ],
         "yaxis": "y4"
        },
        {
         "error_y": {
          "array": [
           0.0315666427991767,
           0.0201934372795251,
           0.0210491615577238,
           0.015658665941853,
           0.0172233947134189,
           0.0228478261770307,
           0.0097044470304341
          ],
          "type": "data",
          "visible": true
         },
         "legendgroup": "transformer/cls",
         "line": {
          "color": "#AB63FA"
         },
         "name": "FT-Transformer",
         "showlegend": false,
         "type": "scatter",
         "x": [
          "40%",
          "50%",
          "60%",
          "70%",
          "80%",
          "90%",
          "100%"
         ],
         "xaxis": "x3",
         "y": [
          0.6528563970739556,
          0.7574250802122363,
          0.755290357353634,
          0.748832750766349,
          0.7676010528135937,
          0.7699953069903163,
          0.79214838839084
         ],
         "yaxis": "y3"
        },
        {
         "legendgroup": "transformer/cls",
         "line": {
          "color": "#AB63FA"
         },
         "name": "FT-Transformer",
         "showlegend": false,
         "type": "scatter",
         "x": [
          "40%",
          "50%",
          "60%",
          "70%",
          "80%",
          "90%",
          "100%"
         ],
         "xaxis": "x4",
         "y": [
          4.470799207687378,
          4.812056303024292,
          4.48622465133667,
          4.487702369689941,
          4.434871673583984,
          4.591452121734619,
          0
         ],
         "yaxis": "y4"
        },
        {
         "error_y": {
          "array": [
           0.0082199636649198,
           0.0085149015253071,
           0.0072116437588352,
           0.005060230294939,
           0.0049385755230194,
           0.0038912167971436,
           0.0077915826842138
          ],
          "type": "data",
          "visible": true
         },
         "legendgroup": "xgboost",
         "line": {
          "color": "#FFA15A"
         },
         "name": "XGBoost + HS",
         "showlegend": false,
         "type": "scatter",
         "x": [
          "40%",
          "50%",
          "60%",
          "70%",
          "80%",
          "90%",
          "100%"
         ],
         "xaxis": "x3",
         "y": [
          0.6817776054080684,
          0.7512409745544347,
          0.7531103021912451,
          0.7529560735944505,
          0.7594431124286588,
          0.7635104751732399,
          0.7978427209741236
         ],
         "yaxis": "y3"
        },
        {
         "legendgroup": "xgboost",
         "line": {
          "color": "#FFA15A"
         },
         "name": "XGBoost + HS",
         "showlegend": false,
         "type": "scatter",
         "x": [
          "40%",
          "50%",
          "60%",
          "70%",
          "80%",
          "90%",
          "100%"
         ],
         "xaxis": "x4",
         "y": [
          4.298036336898804,
          5.40047812461853,
          6.139280796051026,
          6.007754564285278,
          7.043865203857422,
          6.776686191558838,
          0
         ],
         "yaxis": "y4"
        },
        {
         "error_y": {
          "array": [
           0.0062082452004314,
           0.0085149015253071,
           0.0072116437588352,
           0.005060230294939,
           0.0049385755230194,
           0.0038912167971436,
           0.0077915826842138
          ],
          "type": "data",
          "visible": true
         },
         "legendgroup": "xgboost/best",
         "line": {
          "color": "#19D3F3"
         },
         "name": "XGBoost",
         "showlegend": false,
         "type": "scatter",
         "x": [
          "40%",
          "50%",
          "60%",
          "70%",
          "80%",
          "90%",
          "100%"
         ],
         "xaxis": "x3",
         "y": [
          0.6809538406572317,
          0.7512409745544347,
          0.7531103021912451,
          0.7529560735944505,
          0.7594431124286588,
          0.7635104751732399,
          0.7978427209741236
         ],
         "yaxis": "y3"
        },
        {
         "legendgroup": "xgboost/best",
         "line": {
          "color": "#19D3F3"
         },
         "name": "XGBoost",
         "showlegend": false,
         "type": "scatter",
         "x": [
          "40%",
          "50%",
          "60%",
          "70%",
          "80%",
          "90%",
          "100%"
         ],
         "xaxis": "x4",
         "y": [
          1.0580694675445557,
          1.2007215023040771,
          1.204643249511719,
          1.1766531467437744,
          1.268418788909912,
          1.1706695556640623,
          0
         ],
         "yaxis": "y4"
        }
       ],
       "layout": {
        "annotations": [
         {
          "font": {
           "size": 16
          },
          "showarrow": false,
          "text": "volkert",
          "textangle": 90,
          "x": 0.98,
          "xanchor": "left",
          "xref": "paper",
          "y": 0.755,
          "yanchor": "middle",
          "yref": "paper"
         },
         {
          "font": {
           "size": 16
          },
          "showarrow": false,
          "text": "adult",
          "textangle": 90,
          "x": 0.98,
          "xanchor": "left",
          "xref": "paper",
          "y": 0.245,
          "yanchor": "middle",
          "yref": "paper"
         },
         {
          "font": {
           "size": 16
          },
          "showarrow": false,
          "text": "Features percent",
          "x": 0.49,
          "xanchor": "center",
          "xref": "paper",
          "y": 0,
          "yanchor": "top",
          "yref": "paper",
          "yshift": -30
         },
         {
          "font": {
           "size": 14
          },
          "showarrow": false,
          "text": "Balanced accuracy",
          "textangle": -90,
          "x": -0.08,
          "xref": "paper",
          "yanchor": "middle",
          "yref": "paper"
         },
         {
          "font": {
           "size": 14
          },
          "showarrow": false,
          "text": "Time (sec)",
          "textangle": -90,
          "x": 0.48,
          "xref": "paper",
          "yanchor": "middle",
          "yref": "paper"
         }
        ],
        "boxmode": "group",
        "font": {
         "size": 11
        },
        "height": 400,
        "legend": {
         "orientation": "h",
         "x": -0.02,
         "xanchor": "left",
         "y": 1.02,
         "yanchor": "bottom"
        },
        "margin": {
         "b": 60,
         "l": 50,
         "r": 20,
         "t": 40
        },
        "template": {
         "data": {
          "bar": [
           {
            "error_x": {
             "color": "#2a3f5f"
            },
            "error_y": {
             "color": "#2a3f5f"
            },
            "marker": {
             "line": {
              "color": "white",
              "width": 0.5
             },
             "pattern": {
              "fillmode": "overlay",
              "size": 10,
              "solidity": 0.2
             }
            },
            "type": "bar"
           }
          ],
          "barpolar": [
           {
            "marker": {
             "line": {
              "color": "white",
              "width": 0.5
             },
             "pattern": {
              "fillmode": "overlay",
              "size": 10,
              "solidity": 0.2
             }
            },
            "type": "barpolar"
           }
          ],
          "carpet": [
           {
            "aaxis": {
             "endlinecolor": "#2a3f5f",
             "gridcolor": "#C8D4E3",
             "linecolor": "#C8D4E3",
             "minorgridcolor": "#C8D4E3",
             "startlinecolor": "#2a3f5f"
            },
            "baxis": {
             "endlinecolor": "#2a3f5f",
             "gridcolor": "#C8D4E3",
             "linecolor": "#C8D4E3",
             "minorgridcolor": "#C8D4E3",
             "startlinecolor": "#2a3f5f"
            },
            "type": "carpet"
           }
          ],
          "choropleth": [
           {
            "colorbar": {
             "outlinewidth": 0,
             "ticks": ""
            },
            "type": "choropleth"
           }
          ],
          "contour": [
           {
            "colorbar": {
             "outlinewidth": 0,
             "ticks": ""
            },
            "colorscale": [
             [
              0,
              "#0d0887"
             ],
             [
              0.1111111111111111,
              "#46039f"
             ],
             [
              0.2222222222222222,
              "#7201a8"
             ],
             [
              0.3333333333333333,
              "#9c179e"
             ],
             [
              0.4444444444444444,
              "#bd3786"
             ],
             [
              0.5555555555555556,
              "#d8576b"
             ],
             [
              0.6666666666666666,
              "#ed7953"
             ],
             [
              0.7777777777777778,
              "#fb9f3a"
             ],
             [
              0.8888888888888888,
              "#fdca26"
             ],
             [
              1,
              "#f0f921"
             ]
            ],
            "type": "contour"
           }
          ],
          "contourcarpet": [
           {
            "colorbar": {
             "outlinewidth": 0,
             "ticks": ""
            },
            "type": "contourcarpet"
           }
          ],
          "heatmap": [
           {
            "colorbar": {
             "outlinewidth": 0,
             "ticks": ""
            },
            "colorscale": [
             [
              0,
              "#0d0887"
             ],
             [
              0.1111111111111111,
              "#46039f"
             ],
             [
              0.2222222222222222,
              "#7201a8"
             ],
             [
              0.3333333333333333,
              "#9c179e"
             ],
             [
              0.4444444444444444,
              "#bd3786"
             ],
             [
              0.5555555555555556,
              "#d8576b"
             ],
             [
              0.6666666666666666,
              "#ed7953"
             ],
             [
              0.7777777777777778,
              "#fb9f3a"
             ],
             [
              0.8888888888888888,
              "#fdca26"
             ],
             [
              1,
              "#f0f921"
             ]
            ],
            "type": "heatmap"
           }
          ],
          "heatmapgl": [
           {
            "colorbar": {
             "outlinewidth": 0,
             "ticks": ""
            },
            "colorscale": [
             [
              0,
              "#0d0887"
             ],
             [
              0.1111111111111111,
              "#46039f"
             ],
             [
              0.2222222222222222,
              "#7201a8"
             ],
             [
              0.3333333333333333,
              "#9c179e"
             ],
             [
              0.4444444444444444,
              "#bd3786"
             ],
             [
              0.5555555555555556,
              "#d8576b"
             ],
             [
              0.6666666666666666,
              "#ed7953"
             ],
             [
              0.7777777777777778,
              "#fb9f3a"
             ],
             [
              0.8888888888888888,
              "#fdca26"
             ],
             [
              1,
              "#f0f921"
             ]
            ],
            "type": "heatmapgl"
           }
          ],
          "histogram": [
           {
            "marker": {
             "pattern": {
              "fillmode": "overlay",
              "size": 10,
              "solidity": 0.2
             }
            },
            "type": "histogram"
           }
          ],
          "histogram2d": [
           {
            "colorbar": {
             "outlinewidth": 0,
             "ticks": ""
            },
            "colorscale": [
             [
              0,
              "#0d0887"
             ],
             [
              0.1111111111111111,
              "#46039f"
             ],
             [
              0.2222222222222222,
              "#7201a8"
             ],
             [
              0.3333333333333333,
              "#9c179e"
             ],
             [
              0.4444444444444444,
              "#bd3786"
             ],
             [
              0.5555555555555556,
              "#d8576b"
             ],
             [
              0.6666666666666666,
              "#ed7953"
             ],
             [
              0.7777777777777778,
              "#fb9f3a"
             ],
             [
              0.8888888888888888,
              "#fdca26"
             ],
             [
              1,
              "#f0f921"
             ]
            ],
            "type": "histogram2d"
           }
          ],
          "histogram2dcontour": [
           {
            "colorbar": {
             "outlinewidth": 0,
             "ticks": ""
            },
            "colorscale": [
             [
              0,
              "#0d0887"
             ],
             [
              0.1111111111111111,
              "#46039f"
             ],
             [
              0.2222222222222222,
              "#7201a8"
             ],
             [
              0.3333333333333333,
              "#9c179e"
             ],
             [
              0.4444444444444444,
              "#bd3786"
             ],
             [
              0.5555555555555556,
              "#d8576b"
             ],
             [
              0.6666666666666666,
              "#ed7953"
             ],
             [
              0.7777777777777778,
              "#fb9f3a"
             ],
             [
              0.8888888888888888,
              "#fdca26"
             ],
             [
              1,
              "#f0f921"
             ]
            ],
            "type": "histogram2dcontour"
           }
          ],
          "mesh3d": [
           {
            "colorbar": {
             "outlinewidth": 0,
             "ticks": ""
            },
            "type": "mesh3d"
           }
          ],
          "parcoords": [
           {
            "line": {
             "colorbar": {
              "outlinewidth": 0,
              "ticks": ""
             }
            },
            "type": "parcoords"
           }
          ],
          "pie": [
           {
            "automargin": true,
            "type": "pie"
           }
          ],
          "scatter": [
           {
            "fillpattern": {
             "fillmode": "overlay",
             "size": 10,
             "solidity": 0.2
            },
            "type": "scatter"
           }
          ],
          "scatter3d": [
           {
            "line": {
             "colorbar": {
              "outlinewidth": 0,
              "ticks": ""
             }
            },
            "marker": {
             "colorbar": {
              "outlinewidth": 0,
              "ticks": ""
             }
            },
            "type": "scatter3d"
           }
          ],
          "scattercarpet": [
           {
            "marker": {
             "colorbar": {
              "outlinewidth": 0,
              "ticks": ""
             }
            },
            "type": "scattercarpet"
           }
          ],
          "scattergeo": [
           {
            "marker": {
             "colorbar": {
              "outlinewidth": 0,
              "ticks": ""
             }
            },
            "type": "scattergeo"
           }
          ],
          "scattergl": [
           {
            "marker": {
             "colorbar": {
              "outlinewidth": 0,
              "ticks": ""
             }
            },
            "type": "scattergl"
           }
          ],
          "scattermapbox": [
           {
            "marker": {
             "colorbar": {
              "outlinewidth": 0,
              "ticks": ""
             }
            },
            "type": "scattermapbox"
           }
          ],
          "scatterpolar": [
           {
            "marker": {
             "colorbar": {
              "outlinewidth": 0,
              "ticks": ""
             }
            },
            "type": "scatterpolar"
           }
          ],
          "scatterpolargl": [
           {
            "marker": {
             "colorbar": {
              "outlinewidth": 0,
              "ticks": ""
             }
            },
            "type": "scatterpolargl"
           }
          ],
          "scatterternary": [
           {
            "marker": {
             "colorbar": {
              "outlinewidth": 0,
              "ticks": ""
             }
            },
            "type": "scatterternary"
           }
          ],
          "surface": [
           {
            "colorbar": {
             "outlinewidth": 0,
             "ticks": ""
            },
            "colorscale": [
             [
              0,
              "#0d0887"
             ],
             [
              0.1111111111111111,
              "#46039f"
             ],
             [
              0.2222222222222222,
              "#7201a8"
             ],
             [
              0.3333333333333333,
              "#9c179e"
             ],
             [
              0.4444444444444444,
              "#bd3786"
             ],
             [
              0.5555555555555556,
              "#d8576b"
             ],
             [
              0.6666666666666666,
              "#ed7953"
             ],
             [
              0.7777777777777778,
              "#fb9f3a"
             ],
             [
              0.8888888888888888,
              "#fdca26"
             ],
             [
              1,
              "#f0f921"
             ]
            ],
            "type": "surface"
           }
          ],
          "table": [
           {
            "cells": {
             "fill": {
              "color": "#EBF0F8"
             },
             "line": {
              "color": "white"
             }
            },
            "header": {
             "fill": {
              "color": "#C8D4E3"
             },
             "line": {
              "color": "white"
             }
            },
            "type": "table"
           }
          ]
         },
         "layout": {
          "annotationdefaults": {
           "arrowcolor": "#2a3f5f",
           "arrowhead": 0,
           "arrowwidth": 1
          },
          "autotypenumbers": "strict",
          "coloraxis": {
           "colorbar": {
            "outlinewidth": 0,
            "ticks": ""
           }
          },
          "colorscale": {
           "diverging": [
            [
             0,
             "#8e0152"
            ],
            [
             0.1,
             "#c51b7d"
            ],
            [
             0.2,
             "#de77ae"
            ],
            [
             0.3,
             "#f1b6da"
            ],
            [
             0.4,
             "#fde0ef"
            ],
            [
             0.5,
             "#f7f7f7"
            ],
            [
             0.6,
             "#e6f5d0"
            ],
            [
             0.7,
             "#b8e186"
            ],
            [
             0.8,
             "#7fbc41"
            ],
            [
             0.9,
             "#4d9221"
            ],
            [
             1,
             "#276419"
            ]
           ],
           "sequential": [
            [
             0,
             "#0d0887"
            ],
            [
             0.1111111111111111,
             "#46039f"
            ],
            [
             0.2222222222222222,
             "#7201a8"
            ],
            [
             0.3333333333333333,
             "#9c179e"
            ],
            [
             0.4444444444444444,
             "#bd3786"
            ],
            [
             0.5555555555555556,
             "#d8576b"
            ],
            [
             0.6666666666666666,
             "#ed7953"
            ],
            [
             0.7777777777777778,
             "#fb9f3a"
            ],
            [
             0.8888888888888888,
             "#fdca26"
            ],
            [
             1,
             "#f0f921"
            ]
           ],
           "sequentialminus": [
            [
             0,
             "#0d0887"
            ],
            [
             0.1111111111111111,
             "#46039f"
            ],
            [
             0.2222222222222222,
             "#7201a8"
            ],
            [
             0.3333333333333333,
             "#9c179e"
            ],
            [
             0.4444444444444444,
             "#bd3786"
            ],
            [
             0.5555555555555556,
             "#d8576b"
            ],
            [
             0.6666666666666666,
             "#ed7953"
            ],
            [
             0.7777777777777778,
             "#fb9f3a"
            ],
            [
             0.8888888888888888,
             "#fdca26"
            ],
            [
             1,
             "#f0f921"
            ]
           ]
          },
          "colorway": [
           "#636efa",
           "#EF553B",
           "#00cc96",
           "#ab63fa",
           "#FFA15A",
           "#19d3f3",
           "#FF6692",
           "#B6E880",
           "#FF97FF",
           "#FECB52"
          ],
          "font": {
           "color": "#2a3f5f"
          },
          "geo": {
           "bgcolor": "white",
           "lakecolor": "white",
           "landcolor": "white",
           "showlakes": true,
           "showland": true,
           "subunitcolor": "#C8D4E3"
          },
          "hoverlabel": {
           "align": "left"
          },
          "hovermode": "closest",
          "mapbox": {
           "style": "light"
          },
          "paper_bgcolor": "white",
          "plot_bgcolor": "white",
          "polar": {
           "angularaxis": {
            "gridcolor": "#EBF0F8",
            "linecolor": "#EBF0F8",
            "ticks": ""
           },
           "bgcolor": "white",
           "radialaxis": {
            "gridcolor": "#EBF0F8",
            "linecolor": "#EBF0F8",
            "ticks": ""
           }
          },
          "scene": {
           "xaxis": {
            "backgroundcolor": "white",
            "gridcolor": "#DFE8F3",
            "gridwidth": 2,
            "linecolor": "#EBF0F8",
            "showbackground": true,
            "ticks": "",
            "zerolinecolor": "#EBF0F8"
           },
           "yaxis": {
            "backgroundcolor": "white",
            "gridcolor": "#DFE8F3",
            "gridwidth": 2,
            "linecolor": "#EBF0F8",
            "showbackground": true,
            "ticks": "",
            "zerolinecolor": "#EBF0F8"
           },
           "zaxis": {
            "backgroundcolor": "white",
            "gridcolor": "#DFE8F3",
            "gridwidth": 2,
            "linecolor": "#EBF0F8",
            "showbackground": true,
            "ticks": "",
            "zerolinecolor": "#EBF0F8"
           }
          },
          "shapedefaults": {
           "line": {
            "color": "#2a3f5f"
           }
          },
          "ternary": {
           "aaxis": {
            "gridcolor": "#DFE8F3",
            "linecolor": "#A2B1C6",
            "ticks": ""
           },
           "baxis": {
            "gridcolor": "#DFE8F3",
            "linecolor": "#A2B1C6",
            "ticks": ""
           },
           "bgcolor": "white",
           "caxis": {
            "gridcolor": "#DFE8F3",
            "linecolor": "#A2B1C6",
            "ticks": ""
           }
          },
          "title": {
           "x": 0.05
          },
          "xaxis": {
           "automargin": true,
           "gridcolor": "#EBF0F8",
           "linecolor": "#EBF0F8",
           "ticks": "",
           "title": {
            "standoff": 15
           },
           "zerolinecolor": "#EBF0F8",
           "zerolinewidth": 2
          },
          "yaxis": {
           "automargin": true,
           "gridcolor": "#EBF0F8",
           "linecolor": "#EBF0F8",
           "ticks": "",
           "title": {
            "standoff": 15
           },
           "zerolinecolor": "#EBF0F8",
           "zerolinewidth": 2
          }
         }
        },
        "xaxis": {
         "anchor": "y",
         "autorange": "reversed",
         "domain": [
          0,
          0.43
         ],
         "matches": "x3",
         "showticklabels": false
        },
        "xaxis2": {
         "anchor": "y2",
         "autorange": "reversed",
         "domain": [
          0.55,
          0.98
         ],
         "matches": "x4",
         "showticklabels": false
        },
        "xaxis3": {
         "anchor": "y3",
         "autorange": "reversed",
         "domain": [
          0,
          0.43
         ]
        },
        "xaxis4": {
         "anchor": "y4",
         "autorange": "reversed",
         "domain": [
          0.55,
          0.98
         ]
        },
        "yaxis": {
         "anchor": "x",
         "domain": [
          0.51,
          1
         ]
        },
        "yaxis2": {
         "anchor": "x2",
         "domain": [
          0.51,
          1
         ]
        },
        "yaxis3": {
         "anchor": "x3",
         "domain": [
          0,
          0.49
         ]
        },
        "yaxis4": {
         "anchor": "x4",
         "domain": [
          0,
          0.49
         ]
        }
       }
      },
      "text/html": [
       "<div>                            <div id=\"13de2389-c083-492e-9c27-a54f3c00f598\" class=\"plotly-graph-div\" style=\"height:400px; width:100%;\"></div>            <script type=\"text/javascript\">                require([\"plotly\"], function(Plotly) {                    window.PLOTLYENV=window.PLOTLYENV || {};                                    if (document.getElementById(\"13de2389-c083-492e-9c27-a54f3c00f598\")) {                    Plotly.newPlot(                        \"13de2389-c083-492e-9c27-a54f3c00f598\",                        [{\"error_y\":{\"array\":[0.0144262273363454,0.0134810917234568,0.0131533656191451,0.0067026868601119,0.0081718542701767,0.0078127146798286,0.0078127146798286],\"type\":\"data\",\"visible\":true},\"legendgroup\":\"mlp\\u002fsimple\",\"line\":{\"color\":\"#636EFA\"},\"name\":\"MLP + Pruning\",\"showlegend\":true,\"x\":[\"40%\",\"50%\",\"60%\",\"70%\",\"80%\",\"90%\",\"100%\"],\"y\":[0.4312030275363697,0.4784508685204266,0.5185967708787869,0.5649063771555045,0.5998098148614754,0.5991507303399104,0.5991507303399104],\"type\":\"scatter\",\"xaxis\":\"x\",\"yaxis\":\"y\"},{\"legendgroup\":\"mlp\\u002fsimple\",\"line\":{\"color\":\"#636EFA\"},\"name\":\"MLP + Pruning\",\"showlegend\":false,\"x\":[\"40%\",\"50%\",\"60%\",\"70%\",\"80%\",\"90%\",\"100%\"],\"y\":[0.864044189453125,0.900806188583374,0.928727388381958,0.8988654613494873,0.9072532653808594,0.9265494346618652,0.0],\"type\":\"scatter\",\"xaxis\":\"x2\",\"yaxis\":\"y2\"},{\"error_y\":{\"array\":[0.0134920955746758,0.0125962695323132,0.0072352821616983,0.0105929803471007,0.016243145491633,0.016214974649722,0.016214974649722],\"type\":\"data\",\"visible\":true},\"legendgroup\":\"mlp\\u002fsimple_nd\",\"line\":{\"color\":\"#EF553B\"},\"name\":\"mlp\\u002fsimple_nd\",\"showlegend\":true,\"x\":[\"40%\",\"50%\",\"60%\",\"70%\",\"80%\",\"90%\",\"100%\"],\"y\":[0.4072839303353771,0.4594570820665616,0.4923143295978737,0.5386821719568691,0.5609573775858597,0.5596447874615056,0.5596447874615056],\"type\":\"scatter\",\"xaxis\":\"x\",\"yaxis\":\"y\"},{\"legendgroup\":\"mlp\\u002fsimple_nd\",\"line\":{\"color\":\"#EF553B\"},\"name\":\"mlp\\u002fsimple_nd\",\"showlegend\":false,\"x\":[\"40%\",\"50%\",\"60%\",\"70%\",\"80%\",\"90%\",\"100%\"],\"y\":[0.909975290298462,0.929887056350708,0.9577820301055908,0.956214189529419,0.991591215133667,0.9265732765197754,0.0],\"type\":\"scatter\",\"xaxis\":\"x2\",\"yaxis\":\"y2\"},{\"error_y\":{\"array\":[0.0144643412674568,0.0191892471909141,0.0178171692731993,0.0072943885681068,0.006687256626712,0.0059550792325256,0.0059550792325256],\"type\":\"data\",\"visible\":true},\"legendgroup\":\"mlp\\u002fsimple_nd_nn\",\"line\":{\"color\":\"#00CC96\"},\"name\":\"mlp\\u002fsimple_nd_nn\",\"showlegend\":true,\"x\":[\"40%\",\"50%\",\"60%\",\"70%\",\"80%\",\"90%\",\"100%\"],\"y\":[0.3286944880585658,0.3548964198331197,0.3777430452297735,0.4122560176659697,0.4321460585960811,0.4332696211117414,0.4332696211117414],\"type\":\"scatter\",\"xaxis\":\"x\",\"yaxis\":\"y\"},{\"legendgroup\":\"mlp\\u002fsimple_nd_nn\",\"line\":{\"color\":\"#00CC96\"},\"name\":\"mlp\\u002fsimple_nd_nn\",\"showlegend\":false,\"x\":[\"40%\",\"50%\",\"60%\",\"70%\",\"80%\",\"90%\",\"100%\"],\"y\":[0.842026948928833,0.8651540279388428,0.8589065074920654,0.8598039150238037,0.8446118831634521,0.9337410926818848,0.0],\"type\":\"scatter\",\"xaxis\":\"x2\",\"yaxis\":\"y2\"},{\"error_y\":{\"array\":[0.0100672466042177,0.0076650730722411,0.0098334145660571,0.0132246143370111,0.0069060127439092,0.0101284776883605,0.0091514443762339],\"type\":\"data\",\"visible\":true},\"legendgroup\":\"transformer\\u002fcls\",\"line\":{\"color\":\"#AB63FA\"},\"name\":\"FT-Transformer\",\"showlegend\":true,\"x\":[\"40%\",\"50%\",\"60%\",\"70%\",\"80%\",\"90%\",\"100%\"],\"y\":[0.5170220284558134,0.5348033784802084,0.5570618760817746,0.6031443244207417,0.6262947487405492,0.6276886808297546,0.6237341367366135],\"type\":\"scatter\",\"xaxis\":\"x\",\"yaxis\":\"y\"},{\"legendgroup\":\"transformer\\u002fcls\",\"line\":{\"color\":\"#AB63FA\"},\"name\":\"FT-Transformer\",\"showlegend\":false,\"x\":[\"40%\",\"50%\",\"60%\",\"70%\",\"80%\",\"90%\",\"100%\"],\"y\":[6.580129146575928,7.796831369400024,9.344855308532717,11.465155839920044,14.317285776138306,16.877570629119873,0.0],\"type\":\"scatter\",\"xaxis\":\"x2\",\"yaxis\":\"y2\"},{\"error_y\":{\"array\":[0.0076847853762665,0.0101805613481927,0.0080623474126943,0.0085153114438913,0.006892511990557,0.008966307822933,0.008966307822933],\"type\":\"data\",\"visible\":true},\"legendgroup\":\"xgboost\",\"line\":{\"color\":\"#FFA15A\"},\"name\":\"XGBoost + HS\",\"showlegend\":true,\"x\":[\"40%\",\"50%\",\"60%\",\"70%\",\"80%\",\"90%\",\"100%\"],\"y\":[0.6065272685908626,0.6026961228084774,0.6024600364047293,0.6057615042868341,0.6085072611997198,0.6096698632100874,0.6096698632100874],\"type\":\"scatter\",\"xaxis\":\"x\",\"yaxis\":\"y\"},{\"legendgroup\":\"xgboost\",\"line\":{\"color\":\"#FFA15A\"},\"name\":\"XGBoost + HS\",\"showlegend\":false,\"x\":[\"40%\",\"50%\",\"60%\",\"70%\",\"80%\",\"90%\",\"100%\"],\"y\":[782.4888324737549,896.6910433769226,1033.1460943222046,1233.3821647167206,1386.4294447898865,1420.85027217865,0.0],\"type\":\"scatter\",\"xaxis\":\"x2\",\"yaxis\":\"y2\"},{\"error_y\":{\"array\":[0.0057604313022243,0.0101805613481927,0.0080623474126943,0.0085153114438913,0.006892511990557,0.008966307822933,0.008966307822933],\"type\":\"data\",\"visible\":true},\"legendgroup\":\"xgboost\\u002fbest\",\"line\":{\"color\":\"#19D3F3\"},\"name\":\"XGBoost\",\"showlegend\":true,\"x\":[\"40%\",\"50%\",\"60%\",\"70%\",\"80%\",\"90%\",\"100%\"],\"y\":[0.6053073045226102,0.6026961228084774,0.6024600364047293,0.6057615042868341,0.6085072611997198,0.6096698632100874,0.6096698632100874],\"type\":\"scatter\",\"xaxis\":\"x\",\"yaxis\":\"y\"},{\"legendgroup\":\"xgboost\\u002fbest\",\"line\":{\"color\":\"#19D3F3\"},\"name\":\"XGBoost\",\"showlegend\":false,\"x\":[\"40%\",\"50%\",\"60%\",\"70%\",\"80%\",\"90%\",\"100%\"],\"y\":[316.9652020931244,363.4555125236511,418.24478101730347,501.54131412506104,563.7763247489929,575.2819905281067,0.0],\"type\":\"scatter\",\"xaxis\":\"x2\",\"yaxis\":\"y2\"},{\"error_y\":{\"array\":[0.0110230468371386,0.02476037436167,0.0354418318354749,0.0235146736353172,0.0164002726895904,0.0163344427322181,0.0141338717114016],\"type\":\"data\",\"visible\":true},\"legendgroup\":\"mlp\\u002fsimple\",\"line\":{\"color\":\"#636EFA\"},\"name\":\"MLP + Pruning\",\"showlegend\":false,\"x\":[\"40%\",\"50%\",\"60%\",\"70%\",\"80%\",\"90%\",\"100%\"],\"y\":[0.5592303655287794,0.7218555284449139,0.7212248000802775,0.7428552209188478,0.7535975623326491,0.7534703448471356,0.784717818766891],\"type\":\"scatter\",\"xaxis\":\"x3\",\"yaxis\":\"y3\"},{\"legendgroup\":\"mlp\\u002fsimple\",\"line\":{\"color\":\"#636EFA\"},\"name\":\"MLP + Pruning\",\"showlegend\":false,\"x\":[\"40%\",\"50%\",\"60%\",\"70%\",\"80%\",\"90%\",\"100%\"],\"y\":[0.8686890602111816,0.9163997173309326,0.855414628982544,0.8549833297729492,0.8574011325836182,0.845160961151123,0.0],\"type\":\"scatter\",\"xaxis\":\"x4\",\"yaxis\":\"y4\"},{\"error_y\":{\"array\":[0.0078580684086455,0.0235065452710346,0.0356396864183834,0.019015979441777,0.011157523938463,0.0126519359881852,0.0110570342208831],\"type\":\"data\",\"visible\":true},\"legendgroup\":\"mlp\\u002fsimple_nd\",\"line\":{\"color\":\"#EF553B\"},\"name\":\"mlp\\u002fsimple_nd\",\"showlegend\":false,\"x\":[\"40%\",\"50%\",\"60%\",\"70%\",\"80%\",\"90%\",\"100%\"],\"y\":[0.5504369237868951,0.715423862988645,0.7159715602905634,0.7451418854425151,0.7531338925767752,0.753820946967571,0.7858351818573001],\"type\":\"scatter\",\"xaxis\":\"x3\",\"yaxis\":\"y3\"},{\"legendgroup\":\"mlp\\u002fsimple_nd\",\"line\":{\"color\":\"#EF553B\"},\"name\":\"mlp\\u002fsimple_nd\",\"showlegend\":false,\"x\":[\"40%\",\"50%\",\"60%\",\"70%\",\"80%\",\"90%\",\"100%\"],\"y\":[0.8742785453796387,0.8821666240692139,0.8971729278564453,0.903057336807251,0.9137072563171388,0.8852376937866211,0.0],\"type\":\"scatter\",\"xaxis\":\"x4\",\"yaxis\":\"y4\"},{\"error_y\":{\"array\":[0.0142344377257303,0.0296429118695561,0.0266731579946475,0.0184144335133537,0.013243060082695,0.0123967612388674,0.0108736677725634],\"type\":\"data\",\"visible\":true},\"legendgroup\":\"mlp\\u002fsimple_nd_nn\",\"line\":{\"color\":\"#00CC96\"},\"name\":\"mlp\\u002fsimple_nd_nn\",\"showlegend\":false,\"x\":[\"40%\",\"50%\",\"60%\",\"70%\",\"80%\",\"90%\",\"100%\"],\"y\":[0.5293952252842167,0.6833104182760421,0.6972224806520615,0.72523801152344,0.7499454821890115,0.7550039731206661,0.7716679176339927],\"type\":\"scatter\",\"xaxis\":\"x3\",\"yaxis\":\"y3\"},{\"legendgroup\":\"mlp\\u002fsimple_nd_nn\",\"line\":{\"color\":\"#00CC96\"},\"name\":\"mlp\\u002fsimple_nd_nn\",\"showlegend\":false,\"x\":[\"40%\",\"50%\",\"60%\",\"70%\",\"80%\",\"90%\",\"100%\"],\"y\":[0.9338643550872804,0.9141385555267334,0.9256315231323242,0.9394221305847168,0.9578585624694824,0.9643189907073976,0.0],\"type\":\"scatter\",\"xaxis\":\"x4\",\"yaxis\":\"y4\"},{\"error_y\":{\"array\":[0.0315666427991767,0.0201934372795251,0.0210491615577238,0.015658665941853,0.0172233947134189,0.0228478261770307,0.0097044470304341],\"type\":\"data\",\"visible\":true},\"legendgroup\":\"transformer\\u002fcls\",\"line\":{\"color\":\"#AB63FA\"},\"name\":\"FT-Transformer\",\"showlegend\":false,\"x\":[\"40%\",\"50%\",\"60%\",\"70%\",\"80%\",\"90%\",\"100%\"],\"y\":[0.6528563970739556,0.7574250802122363,0.755290357353634,0.748832750766349,0.7676010528135937,0.7699953069903163,0.79214838839084],\"type\":\"scatter\",\"xaxis\":\"x3\",\"yaxis\":\"y3\"},{\"legendgroup\":\"transformer\\u002fcls\",\"line\":{\"color\":\"#AB63FA\"},\"name\":\"FT-Transformer\",\"showlegend\":false,\"x\":[\"40%\",\"50%\",\"60%\",\"70%\",\"80%\",\"90%\",\"100%\"],\"y\":[4.470799207687378,4.812056303024292,4.48622465133667,4.487702369689941,4.434871673583984,4.591452121734619,0.0],\"type\":\"scatter\",\"xaxis\":\"x4\",\"yaxis\":\"y4\"},{\"error_y\":{\"array\":[0.0082199636649198,0.0085149015253071,0.0072116437588352,0.005060230294939,0.0049385755230194,0.0038912167971436,0.0077915826842138],\"type\":\"data\",\"visible\":true},\"legendgroup\":\"xgboost\",\"line\":{\"color\":\"#FFA15A\"},\"name\":\"XGBoost + HS\",\"showlegend\":false,\"x\":[\"40%\",\"50%\",\"60%\",\"70%\",\"80%\",\"90%\",\"100%\"],\"y\":[0.6817776054080684,0.7512409745544347,0.7531103021912451,0.7529560735944505,0.7594431124286588,0.7635104751732399,0.7978427209741236],\"type\":\"scatter\",\"xaxis\":\"x3\",\"yaxis\":\"y3\"},{\"legendgroup\":\"xgboost\",\"line\":{\"color\":\"#FFA15A\"},\"name\":\"XGBoost + HS\",\"showlegend\":false,\"x\":[\"40%\",\"50%\",\"60%\",\"70%\",\"80%\",\"90%\",\"100%\"],\"y\":[4.298036336898804,5.40047812461853,6.139280796051026,6.007754564285278,7.043865203857422,6.776686191558838,0.0],\"type\":\"scatter\",\"xaxis\":\"x4\",\"yaxis\":\"y4\"},{\"error_y\":{\"array\":[0.0062082452004314,0.0085149015253071,0.0072116437588352,0.005060230294939,0.0049385755230194,0.0038912167971436,0.0077915826842138],\"type\":\"data\",\"visible\":true},\"legendgroup\":\"xgboost\\u002fbest\",\"line\":{\"color\":\"#19D3F3\"},\"name\":\"XGBoost\",\"showlegend\":false,\"x\":[\"40%\",\"50%\",\"60%\",\"70%\",\"80%\",\"90%\",\"100%\"],\"y\":[0.6809538406572317,0.7512409745544347,0.7531103021912451,0.7529560735944505,0.7594431124286588,0.7635104751732399,0.7978427209741236],\"type\":\"scatter\",\"xaxis\":\"x3\",\"yaxis\":\"y3\"},{\"legendgroup\":\"xgboost\\u002fbest\",\"line\":{\"color\":\"#19D3F3\"},\"name\":\"XGBoost\",\"showlegend\":false,\"x\":[\"40%\",\"50%\",\"60%\",\"70%\",\"80%\",\"90%\",\"100%\"],\"y\":[1.0580694675445557,1.2007215023040771,1.204643249511719,1.1766531467437744,1.268418788909912,1.1706695556640623,0.0],\"type\":\"scatter\",\"xaxis\":\"x4\",\"yaxis\":\"y4\"}],                        {\"template\":{\"data\":{\"barpolar\":[{\"marker\":{\"line\":{\"color\":\"white\",\"width\":0.5},\"pattern\":{\"fillmode\":\"overlay\",\"size\":10,\"solidity\":0.2}},\"type\":\"barpolar\"}],\"bar\":[{\"error_x\":{\"color\":\"#2a3f5f\"},\"error_y\":{\"color\":\"#2a3f5f\"},\"marker\":{\"line\":{\"color\":\"white\",\"width\":0.5},\"pattern\":{\"fillmode\":\"overlay\",\"size\":10,\"solidity\":0.2}},\"type\":\"bar\"}],\"carpet\":[{\"aaxis\":{\"endlinecolor\":\"#2a3f5f\",\"gridcolor\":\"#C8D4E3\",\"linecolor\":\"#C8D4E3\",\"minorgridcolor\":\"#C8D4E3\",\"startlinecolor\":\"#2a3f5f\"},\"baxis\":{\"endlinecolor\":\"#2a3f5f\",\"gridcolor\":\"#C8D4E3\",\"linecolor\":\"#C8D4E3\",\"minorgridcolor\":\"#C8D4E3\",\"startlinecolor\":\"#2a3f5f\"},\"type\":\"carpet\"}],\"choropleth\":[{\"colorbar\":{\"outlinewidth\":0,\"ticks\":\"\"},\"type\":\"choropleth\"}],\"contourcarpet\":[{\"colorbar\":{\"outlinewidth\":0,\"ticks\":\"\"},\"type\":\"contourcarpet\"}],\"contour\":[{\"colorbar\":{\"outlinewidth\":0,\"ticks\":\"\"},\"colorscale\":[[0.0,\"#0d0887\"],[0.1111111111111111,\"#46039f\"],[0.2222222222222222,\"#7201a8\"],[0.3333333333333333,\"#9c179e\"],[0.4444444444444444,\"#bd3786\"],[0.5555555555555556,\"#d8576b\"],[0.6666666666666666,\"#ed7953\"],[0.7777777777777778,\"#fb9f3a\"],[0.8888888888888888,\"#fdca26\"],[1.0,\"#f0f921\"]],\"type\":\"contour\"}],\"heatmapgl\":[{\"colorbar\":{\"outlinewidth\":0,\"ticks\":\"\"},\"colorscale\":[[0.0,\"#0d0887\"],[0.1111111111111111,\"#46039f\"],[0.2222222222222222,\"#7201a8\"],[0.3333333333333333,\"#9c179e\"],[0.4444444444444444,\"#bd3786\"],[0.5555555555555556,\"#d8576b\"],[0.6666666666666666,\"#ed7953\"],[0.7777777777777778,\"#fb9f3a\"],[0.8888888888888888,\"#fdca26\"],[1.0,\"#f0f921\"]],\"type\":\"heatmapgl\"}],\"heatmap\":[{\"colorbar\":{\"outlinewidth\":0,\"ticks\":\"\"},\"colorscale\":[[0.0,\"#0d0887\"],[0.1111111111111111,\"#46039f\"],[0.2222222222222222,\"#7201a8\"],[0.3333333333333333,\"#9c179e\"],[0.4444444444444444,\"#bd3786\"],[0.5555555555555556,\"#d8576b\"],[0.6666666666666666,\"#ed7953\"],[0.7777777777777778,\"#fb9f3a\"],[0.8888888888888888,\"#fdca26\"],[1.0,\"#f0f921\"]],\"type\":\"heatmap\"}],\"histogram2dcontour\":[{\"colorbar\":{\"outlinewidth\":0,\"ticks\":\"\"},\"colorscale\":[[0.0,\"#0d0887\"],[0.1111111111111111,\"#46039f\"],[0.2222222222222222,\"#7201a8\"],[0.3333333333333333,\"#9c179e\"],[0.4444444444444444,\"#bd3786\"],[0.5555555555555556,\"#d8576b\"],[0.6666666666666666,\"#ed7953\"],[0.7777777777777778,\"#fb9f3a\"],[0.8888888888888888,\"#fdca26\"],[1.0,\"#f0f921\"]],\"type\":\"histogram2dcontour\"}],\"histogram2d\":[{\"colorbar\":{\"outlinewidth\":0,\"ticks\":\"\"},\"colorscale\":[[0.0,\"#0d0887\"],[0.1111111111111111,\"#46039f\"],[0.2222222222222222,\"#7201a8\"],[0.3333333333333333,\"#9c179e\"],[0.4444444444444444,\"#bd3786\"],[0.5555555555555556,\"#d8576b\"],[0.6666666666666666,\"#ed7953\"],[0.7777777777777778,\"#fb9f3a\"],[0.8888888888888888,\"#fdca26\"],[1.0,\"#f0f921\"]],\"type\":\"histogram2d\"}],\"histogram\":[{\"marker\":{\"pattern\":{\"fillmode\":\"overlay\",\"size\":10,\"solidity\":0.2}},\"type\":\"histogram\"}],\"mesh3d\":[{\"colorbar\":{\"outlinewidth\":0,\"ticks\":\"\"},\"type\":\"mesh3d\"}],\"parcoords\":[{\"line\":{\"colorbar\":{\"outlinewidth\":0,\"ticks\":\"\"}},\"type\":\"parcoords\"}],\"pie\":[{\"automargin\":true,\"type\":\"pie\"}],\"scatter3d\":[{\"line\":{\"colorbar\":{\"outlinewidth\":0,\"ticks\":\"\"}},\"marker\":{\"colorbar\":{\"outlinewidth\":0,\"ticks\":\"\"}},\"type\":\"scatter3d\"}],\"scattercarpet\":[{\"marker\":{\"colorbar\":{\"outlinewidth\":0,\"ticks\":\"\"}},\"type\":\"scattercarpet\"}],\"scattergeo\":[{\"marker\":{\"colorbar\":{\"outlinewidth\":0,\"ticks\":\"\"}},\"type\":\"scattergeo\"}],\"scattergl\":[{\"marker\":{\"colorbar\":{\"outlinewidth\":0,\"ticks\":\"\"}},\"type\":\"scattergl\"}],\"scattermapbox\":[{\"marker\":{\"colorbar\":{\"outlinewidth\":0,\"ticks\":\"\"}},\"type\":\"scattermapbox\"}],\"scatterpolargl\":[{\"marker\":{\"colorbar\":{\"outlinewidth\":0,\"ticks\":\"\"}},\"type\":\"scatterpolargl\"}],\"scatterpolar\":[{\"marker\":{\"colorbar\":{\"outlinewidth\":0,\"ticks\":\"\"}},\"type\":\"scatterpolar\"}],\"scatter\":[{\"fillpattern\":{\"fillmode\":\"overlay\",\"size\":10,\"solidity\":0.2},\"type\":\"scatter\"}],\"scatterternary\":[{\"marker\":{\"colorbar\":{\"outlinewidth\":0,\"ticks\":\"\"}},\"type\":\"scatterternary\"}],\"surface\":[{\"colorbar\":{\"outlinewidth\":0,\"ticks\":\"\"},\"colorscale\":[[0.0,\"#0d0887\"],[0.1111111111111111,\"#46039f\"],[0.2222222222222222,\"#7201a8\"],[0.3333333333333333,\"#9c179e\"],[0.4444444444444444,\"#bd3786\"],[0.5555555555555556,\"#d8576b\"],[0.6666666666666666,\"#ed7953\"],[0.7777777777777778,\"#fb9f3a\"],[0.8888888888888888,\"#fdca26\"],[1.0,\"#f0f921\"]],\"type\":\"surface\"}],\"table\":[{\"cells\":{\"fill\":{\"color\":\"#EBF0F8\"},\"line\":{\"color\":\"white\"}},\"header\":{\"fill\":{\"color\":\"#C8D4E3\"},\"line\":{\"color\":\"white\"}},\"type\":\"table\"}]},\"layout\":{\"annotationdefaults\":{\"arrowcolor\":\"#2a3f5f\",\"arrowhead\":0,\"arrowwidth\":1},\"autotypenumbers\":\"strict\",\"coloraxis\":{\"colorbar\":{\"outlinewidth\":0,\"ticks\":\"\"}},\"colorscale\":{\"diverging\":[[0,\"#8e0152\"],[0.1,\"#c51b7d\"],[0.2,\"#de77ae\"],[0.3,\"#f1b6da\"],[0.4,\"#fde0ef\"],[0.5,\"#f7f7f7\"],[0.6,\"#e6f5d0\"],[0.7,\"#b8e186\"],[0.8,\"#7fbc41\"],[0.9,\"#4d9221\"],[1,\"#276419\"]],\"sequential\":[[0.0,\"#0d0887\"],[0.1111111111111111,\"#46039f\"],[0.2222222222222222,\"#7201a8\"],[0.3333333333333333,\"#9c179e\"],[0.4444444444444444,\"#bd3786\"],[0.5555555555555556,\"#d8576b\"],[0.6666666666666666,\"#ed7953\"],[0.7777777777777778,\"#fb9f3a\"],[0.8888888888888888,\"#fdca26\"],[1.0,\"#f0f921\"]],\"sequentialminus\":[[0.0,\"#0d0887\"],[0.1111111111111111,\"#46039f\"],[0.2222222222222222,\"#7201a8\"],[0.3333333333333333,\"#9c179e\"],[0.4444444444444444,\"#bd3786\"],[0.5555555555555556,\"#d8576b\"],[0.6666666666666666,\"#ed7953\"],[0.7777777777777778,\"#fb9f3a\"],[0.8888888888888888,\"#fdca26\"],[1.0,\"#f0f921\"]]},\"colorway\":[\"#636efa\",\"#EF553B\",\"#00cc96\",\"#ab63fa\",\"#FFA15A\",\"#19d3f3\",\"#FF6692\",\"#B6E880\",\"#FF97FF\",\"#FECB52\"],\"font\":{\"color\":\"#2a3f5f\"},\"geo\":{\"bgcolor\":\"white\",\"lakecolor\":\"white\",\"landcolor\":\"white\",\"showlakes\":true,\"showland\":true,\"subunitcolor\":\"#C8D4E3\"},\"hoverlabel\":{\"align\":\"left\"},\"hovermode\":\"closest\",\"mapbox\":{\"style\":\"light\"},\"paper_bgcolor\":\"white\",\"plot_bgcolor\":\"white\",\"polar\":{\"angularaxis\":{\"gridcolor\":\"#EBF0F8\",\"linecolor\":\"#EBF0F8\",\"ticks\":\"\"},\"bgcolor\":\"white\",\"radialaxis\":{\"gridcolor\":\"#EBF0F8\",\"linecolor\":\"#EBF0F8\",\"ticks\":\"\"}},\"scene\":{\"xaxis\":{\"backgroundcolor\":\"white\",\"gridcolor\":\"#DFE8F3\",\"gridwidth\":2,\"linecolor\":\"#EBF0F8\",\"showbackground\":true,\"ticks\":\"\",\"zerolinecolor\":\"#EBF0F8\"},\"yaxis\":{\"backgroundcolor\":\"white\",\"gridcolor\":\"#DFE8F3\",\"gridwidth\":2,\"linecolor\":\"#EBF0F8\",\"showbackground\":true,\"ticks\":\"\",\"zerolinecolor\":\"#EBF0F8\"},\"zaxis\":{\"backgroundcolor\":\"white\",\"gridcolor\":\"#DFE8F3\",\"gridwidth\":2,\"linecolor\":\"#EBF0F8\",\"showbackground\":true,\"ticks\":\"\",\"zerolinecolor\":\"#EBF0F8\"}},\"shapedefaults\":{\"line\":{\"color\":\"#2a3f5f\"}},\"ternary\":{\"aaxis\":{\"gridcolor\":\"#DFE8F3\",\"linecolor\":\"#A2B1C6\",\"ticks\":\"\"},\"baxis\":{\"gridcolor\":\"#DFE8F3\",\"linecolor\":\"#A2B1C6\",\"ticks\":\"\"},\"bgcolor\":\"white\",\"caxis\":{\"gridcolor\":\"#DFE8F3\",\"linecolor\":\"#A2B1C6\",\"ticks\":\"\"}},\"title\":{\"x\":0.05},\"xaxis\":{\"automargin\":true,\"gridcolor\":\"#EBF0F8\",\"linecolor\":\"#EBF0F8\",\"ticks\":\"\",\"title\":{\"standoff\":15},\"zerolinecolor\":\"#EBF0F8\",\"zerolinewidth\":2},\"yaxis\":{\"automargin\":true,\"gridcolor\":\"#EBF0F8\",\"linecolor\":\"#EBF0F8\",\"ticks\":\"\",\"title\":{\"standoff\":15},\"zerolinecolor\":\"#EBF0F8\",\"zerolinewidth\":2}}},\"xaxis\":{\"anchor\":\"y\",\"domain\":[0.0,0.43],\"matches\":\"x3\",\"showticklabels\":false,\"autorange\":\"reversed\"},\"yaxis\":{\"anchor\":\"x\",\"domain\":[0.51,1.0]},\"xaxis2\":{\"anchor\":\"y2\",\"domain\":[0.55,0.98],\"matches\":\"x4\",\"showticklabels\":false,\"autorange\":\"reversed\"},\"yaxis2\":{\"anchor\":\"x2\",\"domain\":[0.51,1.0]},\"xaxis3\":{\"anchor\":\"y3\",\"domain\":[0.0,0.43],\"autorange\":\"reversed\"},\"yaxis3\":{\"anchor\":\"x3\",\"domain\":[0.0,0.49]},\"xaxis4\":{\"anchor\":\"y4\",\"domain\":[0.55,0.98],\"autorange\":\"reversed\"},\"yaxis4\":{\"anchor\":\"x4\",\"domain\":[0.0,0.49]},\"annotations\":[{\"font\":{\"size\":16},\"showarrow\":false,\"text\":\"volkert\",\"textangle\":90,\"x\":0.98,\"xanchor\":\"left\",\"xref\":\"paper\",\"y\":0.755,\"yanchor\":\"middle\",\"yref\":\"paper\"},{\"font\":{\"size\":16},\"showarrow\":false,\"text\":\"adult\",\"textangle\":90,\"x\":0.98,\"xanchor\":\"left\",\"xref\":\"paper\",\"y\":0.245,\"yanchor\":\"middle\",\"yref\":\"paper\"},{\"font\":{\"size\":16},\"showarrow\":false,\"text\":\"Features percent\",\"x\":0.49,\"xanchor\":\"center\",\"xref\":\"paper\",\"y\":0,\"yanchor\":\"top\",\"yref\":\"paper\",\"yshift\":-30},{\"font\":{\"size\":14},\"showarrow\":false,\"text\":\"Balanced accuracy\",\"textangle\":-90,\"x\":-0.08,\"xref\":\"paper\",\"yanchor\":\"middle\",\"yref\":\"paper\"},{\"font\":{\"size\":14},\"showarrow\":false,\"text\":\"Time (sec)\",\"textangle\":-90,\"x\":0.48,\"xref\":\"paper\",\"yanchor\":\"middle\",\"yref\":\"paper\"}],\"margin\":{\"l\":50,\"r\":20,\"b\":60,\"t\":40},\"font\":{\"size\":11},\"legend\":{\"orientation\":\"h\",\"yanchor\":\"bottom\",\"y\":1.02,\"xanchor\":\"left\",\"x\":-0.02},\"height\":400,\"boxmode\":\"group\"},                        {\"responsive\": true}                    ).then(function(){\n",
       "                            \n",
       "var gd = document.getElementById('13de2389-c083-492e-9c27-a54f3c00f598');\n",
       "var x = new MutationObserver(function (mutations, observer) {{\n",
       "        var display = window.getComputedStyle(gd).display;\n",
       "        if (!display || display === 'none') {{\n",
       "            console.log([gd, 'removed!']);\n",
       "            Plotly.purge(gd);\n",
       "            observer.disconnect();\n",
       "        }}\n",
       "}});\n",
       "\n",
       "// Listen for the removal of the full notebook cells\n",
       "var notebookContainer = gd.closest('#notebook-container');\n",
       "if (notebookContainer) {{\n",
       "    x.observe(notebookContainer, {childList: true});\n",
       "}}\n",
       "\n",
       "// Listen for the clearing of the current output cell\n",
       "var outputEl = gd.closest('.output');\n",
       "if (outputEl) {{\n",
       "    x.observe(outputEl, {childList: true});\n",
       "}}\n",
       "\n",
       "                        })                };                });            </script>        </div>"
      ]
     },
     "metadata": {},
     "output_type": "display_data"
    }
   ],
   "source": [
    "#kr-vs-kp\n",
    "#sylvine\n",
    "# volkert takes much time (consider)\n",
    "\n",
    "fs_method = \"decision_tree\"\n",
    "\n",
    "datasets = scores_df[\"dataset\"].unique()\n",
    "datasets = [\"volkert\", \"adult\"]\n",
    "#datasets = [\"jasmine\", \"kr-vs-kp\", \"sylvine\", \"australian\", \"adult\"]\n",
    "\n",
    "datasets = sorted(datasets, key=lambda x: DATASET_ORDER.index(x))\n",
    "\n",
    "\n",
    "fig = subplots.make_subplots(\n",
    "            len(datasets), 2, \n",
    "            shared_xaxes=True, \n",
    "            x_title=\"Features percent\",\n",
    "            row_titles=datasets,\n",
    "            horizontal_spacing=0.12,\n",
    "            vertical_spacing=0.02\n",
    ")\n",
    "\n",
    "for d_i, dataset in enumerate(datasets):\n",
    "    # Select dataset and feature selection info\n",
    "    cos_df = scores_df.query(\n",
    "        \"dataset==@dataset \"\n",
    "        \"and fs_method==@fs_method\"\n",
    "    )\n",
    "\n",
    "    # For each model\n",
    "    #for m_i, m in enumerate(cos_df[\"model\"].unique()):\n",
    "    for m_i, m in enumerate(scores_df[\"model\"].unique()):\n",
    "        \n",
    "        plot_df = cos_df.query(\"model==@m\")\n",
    "\n",
    "        # Computes the times needed to perform the experiment\n",
    "        times_df = plot_df.groupby([\"fs_percent\"], as_index=False).sum()[[\"fs_percent\", \"training_time_sum\", \"inference_time_sum\"]]\n",
    "                             \n",
    "        # Selects the best architecture for each featue selection percentage\n",
    "        idx_max = plot_df.groupby([\"fs_percent\"])[\"balanced_accuracy_mean\"].idxmax()\n",
    "        plot_df = plot_df.loc[idx_max]\n",
    "                             \n",
    "        # Adds the best architectures information to the plot\n",
    "        fig.add_trace(go.Scatter(\n",
    "            x=(plot_df[\"fs_percent\"] * 100).apply(lambda x: str(int(x)) + \"%\"),\n",
    "            y=plot_df[\"balanced_accuracy_mean\"],\n",
    "            name=df_replacements[\"model\"].get(m, m),\n",
    "            legendgroup=m,\n",
    "            line=dict(color=COLORS[m_i]),\n",
    "            showlegend=True if d_i == 0 else False,\n",
    "             error_y=dict(\n",
    "                 type=\"data\",\n",
    "                 array=plot_df[\"balanced_accuracy_std\"],\n",
    "                 visible=True\n",
    "             )\n",
    "        ), row=d_i + 1, col=1)\n",
    "        \n",
    "        fig.update_xaxes(row=d_i + 1, col=1, autorange=\"reversed\")\n",
    "        \n",
    "        \n",
    "        plot_df = cos_df.query(\n",
    "                \"model==@m \"\n",
    "            )\n",
    "    \n",
    "    \n",
    "        # For pruned models set the training time in 0\n",
    "        if m in [\"transformer/cls\", \"mlp/simple\"]:\n",
    "            times_df[\"training_time_sum\"] = 0\n",
    "\n",
    "        # For initial models reset the time\n",
    "        times_df.loc[times_df[\"fs_percent\"] == 1, \"training_time_sum\"] = 0\n",
    "        times_df.loc[times_df[\"fs_percent\"] == 1, \"inference_time_sum\"] = 0\n",
    "\n",
    "        # Plot the elapsed time for each feature selection\n",
    "        fig.add_trace(go.Scatter(\n",
    "            x=(times_df[\"fs_percent\"] * 100).apply(lambda x: str(int(x)) + \"%\"),\n",
    "            # Sums 1 beacuse log scale\n",
    "            y=times_df[\"training_time_sum\"] + times_df[\"inference_time_sum\"],\n",
    "            line=dict(color=COLORS[m_i]),\n",
    "            legendgroup=m,\n",
    "            name=df_replacements[\"model\"].get(m, m),\n",
    "            showlegend=False\n",
    "        ), row=d_i + 1, col=2)\n",
    "        \n",
    "        fig.update_xaxes(row=d_i + 1, col=2, autorange=\"reversed\")\n",
    "        fig.update_yaxes(row=d_i + 1, col=2)\n",
    "        \n",
    "\n",
    "\n",
    "fig.add_annotation(\n",
    "    x=-0.08, yanchor=\"middle\",  textangle=-90, text=\"Balanced accuracy\", \n",
    "    showarrow=False, xref=\"paper\", yref=\"paper\",\n",
    "    font=dict(size=14)\n",
    ")\n",
    "\n",
    "fig.add_annotation(\n",
    "    x=0.5 - 0.02, yanchor=\"middle\",  textangle=-90, text=\"Time (sec)\", \n",
    "    showarrow=False, xref=\"paper\", yref=\"paper\",\n",
    "    font=dict(size=14)\n",
    ")\n",
    "        \n",
    "fig.update_layout(\n",
    "    height=len(datasets) * 200,\n",
    "    margin={\"l\": 50, \"r\": 20, \"b\": 60, \"t\": 40},    \n",
    "    template=\"plotly_white\",\n",
    "    font={\"size\": 11},\n",
    "    boxmode=\"group\",\n",
    "    legend=dict(\n",
    "                orientation=\"h\",\n",
    "                yanchor=\"bottom\",\n",
    "                y=1.02,\n",
    "                xanchor=\"left\",\n",
    "                x=-0.02\n",
    "            )\n",
    ")\n",
    "\n",
    "\n",
    "fig.show()\n",
    "\n",
    "fig.write_image(os.path.join(ASSETS_DIR, \"fs_datasets_comparison.png\"), scale=IMG_SCALE)"
   ]
  },
  {
   "cell_type": "code",
   "execution_count": 21,
   "id": "a0a6b083",
   "metadata": {},
   "outputs": [
    {
     "data": {
      "application/vnd.plotly.v1+json": {
       "config": {
        "plotlyServerURL": "https://plot.ly"
       },
       "data": [
        {
         "error_y": {
          "array": [
           0.0128660100409771,
           0.0139088032250935,
           0.0107976170930112,
           0.0115356770336265,
           0.012044295114099,
           0.0138177771983529,
           0.0158519591319365
          ],
          "type": "data",
          "visible": true
         },
         "legendgroup": "mlp/simple",
         "line": {
          "color": "#636EFA"
         },
         "name": "MLP + Pruning",
         "showlegend": true,
         "type": "scatter",
         "x": [
          "40%",
          "50%",
          "60%",
          "70%",
          "80%",
          "90%",
          "100%"
         ],
         "xaxis": "x",
         "y": [
          0.7792347430172489,
          0.7747092737400065,
          0.7769220666383786,
          0.7823040552827787,
          0.7853331582173191,
          0.7872026563752332,
          0.7889746283836118
         ],
         "yaxis": "y"
        },
        {
         "legendgroup": "mlp/simple",
         "line": {
          "color": "#636EFA"
         },
         "name": "MLP + Pruning",
         "showlegend": false,
         "type": "scatter",
         "x": [
          "40%",
          "50%",
          "60%",
          "70%",
          "80%",
          "90%",
          "100%"
         ],
         "xaxis": "x2",
         "y": [
          0.0591201782226562,
          0.0606117248535156,
          0.0633869171142578,
          0.0617978572845459,
          0.0620739459991455,
          0.0604522228240966,
          0
         ],
         "yaxis": "y2"
        },
        {
         "error_y": {
          "array": [
           0.014866113820707,
           0.0185102781545169,
           0.0166372396421098,
           0.0158082046209189,
           0.0102428707117972,
           0.0169024206911577,
           0.0193646043720811
          ],
          "type": "data",
          "visible": true
         },
         "legendgroup": "mlp/simple_nd",
         "line": {
          "color": "#EF553B"
         },
         "name": "mlp/simple_nd",
         "showlegend": true,
         "type": "scatter",
         "x": [
          "40%",
          "50%",
          "60%",
          "70%",
          "80%",
          "90%",
          "100%"
         ],
         "xaxis": "x",
         "y": [
          0.781630936264506,
          0.7804773258437561,
          0.7903635004344224,
          0.7936258444296269,
          0.7958422743529127,
          0.7928046176745941,
          0.7961199005879858
         ],
         "yaxis": "y"
        },
        {
         "legendgroup": "mlp/simple_nd",
         "line": {
          "color": "#EF553B"
         },
         "name": "mlp/simple_nd",
         "showlegend": false,
         "type": "scatter",
         "x": [
          "40%",
          "50%",
          "60%",
          "70%",
          "80%",
          "90%",
          "100%"
         ],
         "xaxis": "x2",
         "y": [
          0.0559301376342773,
          0.0612425804138183,
          0.0596685409545898,
          0.060122013092041,
          0.0586850643157959,
          0.0607342720031738,
          0
         ],
         "yaxis": "y2"
        },
        {
         "error_y": {
          "array": [
           0.0251331649927161,
           0.0158886021785878,
           0.0069471798576538,
           0.0151372087811619,
           0.0113600815904581,
           0.0128492623097019,
           0.014609529671937
          ],
          "type": "data",
          "visible": true
         },
         "legendgroup": "mlp/simple_nd_nn",
         "line": {
          "color": "#00CC96"
         },
         "name": "mlp/simple_nd_nn",
         "showlegend": true,
         "type": "scatter",
         "x": [
          "40%",
          "50%",
          "60%",
          "70%",
          "80%",
          "90%",
          "100%"
         ],
         "xaxis": "x",
         "y": [
          0.7680701541694449,
          0.7638192129208677,
          0.7694806463127976,
          0.7758244933422238,
          0.7798276454304822,
          0.7772435392293549,
          0.782831828009133
         ],
         "yaxis": "y"
        },
        {
         "legendgroup": "mlp/simple_nd_nn",
         "line": {
          "color": "#00CC96"
         },
         "name": "mlp/simple_nd_nn",
         "showlegend": false,
         "type": "scatter",
         "x": [
          "40%",
          "50%",
          "60%",
          "70%",
          "80%",
          "90%",
          "100%"
         ],
         "xaxis": "x2",
         "y": [
          0.0488197803497314,
          0.0490620136260986,
          0.0501987934112548,
          0.050607681274414,
          0.0492849349975585,
          0.0510504245758056,
          0
         ],
         "yaxis": "y2"
        },
        {
         "error_y": {
          "array": [
           0.0357427638380056,
           0.0361659908098278,
           0.0310098679809029,
           0.0246448428213767,
           0.0182203902704912,
           0.0213866110935704,
           0.0214858759523037
          ],
          "type": "data",
          "visible": true
         },
         "legendgroup": "transformer/cls",
         "line": {
          "color": "#AB63FA"
         },
         "name": "FT-Transformer",
         "showlegend": true,
         "type": "scatter",
         "x": [
          "40%",
          "50%",
          "60%",
          "70%",
          "80%",
          "90%",
          "100%"
         ],
         "xaxis": "x",
         "y": [
          0.7856302492709112,
          0.7831660301873068,
          0.7920033945565861,
          0.7950636142598317,
          0.8088179669030733,
          0.8100945626477541,
          0.8188966344049087
         ],
         "yaxis": "y"
        },
        {
         "legendgroup": "transformer/cls",
         "line": {
          "color": "#AB63FA"
         },
         "name": "FT-Transformer",
         "showlegend": false,
         "type": "scatter",
         "x": [
          "40%",
          "50%",
          "60%",
          "70%",
          "80%",
          "90%",
          "100%"
         ],
         "xaxis": "x2",
         "y": [
          0.2001123428344726,
          0.2571408748626709,
          0.2863972187042236,
          0.318232774734497,
          0.3588943481445312,
          0.4428045749664306,
          0
         ],
         "yaxis": "y2"
        },
        {
         "error_y": {
          "array": [
           0.0151742840558764,
           0.0123032299030652,
           0.0198136371783497,
           0.0187467302346873,
           0.0067559104401625,
           0.0051500024485963,
           0.0110525999933009
          ],
          "type": "data",
          "visible": true
         },
         "legendgroup": "xgboost",
         "line": {
          "color": "#FFA15A"
         },
         "name": "XGBoost + HS",
         "showlegend": true,
         "type": "scatter",
         "x": [
          "40%",
          "50%",
          "60%",
          "70%",
          "80%",
          "90%",
          "100%"
         ],
         "xaxis": "x",
         "y": [
          0.8073503599981141,
          0.8080960848100329,
          0.8117761478517981,
          0.8134064105931718,
          0.8138952536824877,
          0.8131433324577533,
          0.817069904965886
         ],
         "yaxis": "y"
        },
        {
         "legendgroup": "xgboost",
         "line": {
          "color": "#FFA15A"
         },
         "name": "XGBoost + HS",
         "showlegend": false,
         "type": "scatter",
         "x": [
          "40%",
          "50%",
          "60%",
          "70%",
          "80%",
          "90%",
          "100%"
         ],
         "xaxis": "x2",
         "y": [
          1.5103738307952879,
          1.578972816467285,
          1.893264293670654,
          1.9147195816040037,
          2.285344123840332,
          2.093585729598999,
          0
         ],
         "yaxis": "y2"
        },
        {
         "error_y": {
          "array": [
           0.0180678983091205,
           0.0232288802323077,
           0.0173482004414527,
           0.0247228717451696,
           0.0067559104401625,
           0.0075811584453813,
           0.0110525999933009
          ],
          "type": "data",
          "visible": true
         },
         "legendgroup": "xgboost/best",
         "line": {
          "color": "#19D3F3"
         },
         "name": "XGBoost",
         "showlegend": true,
         "type": "scatter",
         "x": [
          "40%",
          "50%",
          "60%",
          "70%",
          "80%",
          "90%",
          "100%"
         ],
         "xaxis": "x",
         "y": [
          0.8027055424218545,
          0.8042561273766948,
          0.8029569686070868,
          0.8068165929158837,
          0.8138952536824877,
          0.8108970654597132,
          0.817069904965886
         ],
         "yaxis": "y"
        },
        {
         "legendgroup": "xgboost/best",
         "line": {
          "color": "#19D3F3"
         },
         "name": "XGBoost",
         "showlegend": false,
         "type": "scatter",
         "x": [
          "40%",
          "50%",
          "60%",
          "70%",
          "80%",
          "90%",
          "100%"
         ],
         "xaxis": "x2",
         "y": [
          0.4578886032104492,
          0.4717321395874022,
          0.5708532333374023,
          0.5438611507415771,
          0.6662399768829345,
          0.6039924621582031,
          0
         ],
         "yaxis": "y2"
        },
        {
         "error_y": {
          "array": [
           0.0075149380904508,
           0.0158563234532736,
           0.0241647506405432,
           0.0163562826921842,
           0.0096540097780044,
           0.0149047544024827,
           0.0077531169530006
          ],
          "type": "data",
          "visible": true
         },
         "legendgroup": "mlp/simple",
         "line": {
          "color": "#636EFA"
         },
         "name": "MLP + Pruning",
         "showlegend": false,
         "type": "scatter",
         "x": [
          "40%",
          "50%",
          "60%",
          "70%",
          "80%",
          "90%",
          "100%"
         ],
         "xaxis": "x3",
         "y": [
          0.8546852449393054,
          0.8694445752577847,
          0.8928944708978284,
          0.9082101211713552,
          0.921474354754001,
          0.9339844877709134,
          0.939123989686676
         ],
         "yaxis": "y3"
        },
        {
         "legendgroup": "mlp/simple",
         "line": {
          "color": "#636EFA"
         },
         "name": "MLP + Pruning",
         "showlegend": false,
         "type": "scatter",
         "x": [
          "40%",
          "50%",
          "60%",
          "70%",
          "80%",
          "90%",
          "100%"
         ],
         "xaxis": "x4",
         "y": [
          0.5954294204711914,
          0.6040639877319336,
          0.5937082767486572,
          0.5767486095428467,
          0.6017589569091797,
          0.5818426609039307,
          0
         ],
         "yaxis": "y4"
        },
        {
         "error_y": {
          "array": [
           0.013424910380224,
           0.0131089675560938,
           0.0281680770692624,
           0.0150370518006218,
           0.0177219969420504,
           0.0196800670084609,
           0.0078495068175611
          ],
          "type": "data",
          "visible": true
         },
         "legendgroup": "mlp/simple_nd",
         "line": {
          "color": "#EF553B"
         },
         "name": "mlp/simple_nd",
         "showlegend": false,
         "type": "scatter",
         "x": [
          "40%",
          "50%",
          "60%",
          "70%",
          "80%",
          "90%",
          "100%"
         ],
         "xaxis": "x3",
         "y": [
          0.852709647629308,
          0.8694092438761836,
          0.8892645407144883,
          0.9061227675095764,
          0.9162127777076918,
          0.9283612398422876,
          0.9327229371507284
         ],
         "yaxis": "y3"
        },
        {
         "legendgroup": "mlp/simple_nd",
         "line": {
          "color": "#EF553B"
         },
         "name": "mlp/simple_nd",
         "showlegend": false,
         "type": "scatter",
         "x": [
          "40%",
          "50%",
          "60%",
          "70%",
          "80%",
          "90%",
          "100%"
         ],
         "xaxis": "x4",
         "y": [
          0.7877011299133301,
          0.8148548603057861,
          0.813762903213501,
          0.8458552360534668,
          0.8196213245391846,
          0.7916591167449951,
          0
         ],
         "yaxis": "y4"
        },
        {
         "error_y": {
          "array": [
           0.0194965610428661,
           0.0156798167080584,
           0.0264785137804415,
           0.0191628986239446,
           0.0191335494795714,
           0.0235678927995554,
           0.0033290557269307
          ],
          "type": "data",
          "visible": true
         },
         "legendgroup": "mlp/simple_nd_nn",
         "line": {
          "color": "#00CC96"
         },
         "name": "mlp/simple_nd_nn",
         "showlegend": false,
         "type": "scatter",
         "x": [
          "40%",
          "50%",
          "60%",
          "70%",
          "80%",
          "90%",
          "100%"
         ],
         "xaxis": "x3",
         "y": [
          0.8336108980940358,
          0.8512036295738845,
          0.8759161529763346,
          0.8943195226835978,
          0.9056371127018286,
          0.913358084622486,
          0.9284217432216144
         ],
         "yaxis": "y3"
        },
        {
         "legendgroup": "mlp/simple_nd_nn",
         "line": {
          "color": "#00CC96"
         },
         "name": "mlp/simple_nd_nn",
         "showlegend": false,
         "type": "scatter",
         "x": [
          "40%",
          "50%",
          "60%",
          "70%",
          "80%",
          "90%",
          "100%"
         ],
         "xaxis": "x4",
         "y": [
          0.6483502388000488,
          0.6584146022796631,
          0.6512653827667236,
          0.672579288482666,
          0.6694786548614502,
          0.6382932662963867,
          0
         ],
         "yaxis": "y4"
        },
        {
         "error_y": {
          "array": [
           0.0671904276878262,
           0.0526972758729694,
           0.0191123524913595,
           0.0136462447926337,
           0.00891661357975,
           0.0122677645723312,
           0.0039260374026758
          ],
          "type": "data",
          "visible": true
         },
         "legendgroup": "transformer/cls",
         "line": {
          "color": "#AB63FA"
         },
         "name": "FT-Transformer",
         "showlegend": false,
         "type": "scatter",
         "x": [
          "40%",
          "50%",
          "60%",
          "70%",
          "80%",
          "90%",
          "100%"
         ],
         "xaxis": "x3",
         "y": [
          0.8361415977130637,
          0.8550575812108863,
          0.883914657640316,
          0.9083023731114144,
          0.9264697236648576,
          0.9374452756933772,
          0.9515906614413944
         ],
         "yaxis": "y3"
        },
        {
         "legendgroup": "transformer/cls",
         "line": {
          "color": "#AB63FA"
         },
         "name": "FT-Transformer",
         "showlegend": false,
         "type": "scatter",
         "x": [
          "40%",
          "50%",
          "60%",
          "70%",
          "80%",
          "90%",
          "100%"
         ],
         "xaxis": "x4",
         "y": [
          2.0784597396850586,
          2.270930528640747,
          2.8707661628723145,
          3.199491262435913,
          3.7189512252807617,
          4.164136171340942,
          0
         ],
         "yaxis": "y4"
        },
        {
         "error_y": {
          "array": [
           0.0036743921884428,
           0.004857546326332,
           0.0039493179342839,
           0.004453431303619,
           0.0037536780994993,
           0.0033107253802501,
           0.0029036682691582
          ],
          "type": "data",
          "visible": true
         },
         "legendgroup": "xgboost",
         "line": {
          "color": "#FFA15A"
         },
         "name": "XGBoost + HS",
         "showlegend": false,
         "type": "scatter",
         "x": [
          "40%",
          "50%",
          "60%",
          "70%",
          "80%",
          "90%",
          "100%"
         ],
         "xaxis": "x3",
         "y": [
          0.958669501254376,
          0.9601280311036214,
          0.9593297794460198,
          0.9599241583705272,
          0.9617586678570592,
          0.9617102925737958,
          0.9616603466994716
         ],
         "yaxis": "y3"
        },
        {
         "legendgroup": "xgboost",
         "line": {
          "color": "#FFA15A"
         },
         "name": "XGBoost + HS",
         "showlegend": false,
         "type": "scatter",
         "x": [
          "40%",
          "50%",
          "60%",
          "70%",
          "80%",
          "90%",
          "100%"
         ],
         "xaxis": "x4",
         "y": [
          13.713891506195068,
          16.020349979400635,
          18.73860192298889,
          19.089399814605713,
          23.159655570983887,
          24.00521421432495,
          0
         ],
         "yaxis": "y4"
        },
        {
         "error_y": {
          "array": [
           0.0041711239155349,
           0.0030268025650567,
           0.0044701580012521,
           0.0027719680814697,
           0.0036762697699708,
           0.0034798945738447,
           0.0029036682691582
          ],
          "type": "data",
          "visible": true
         },
         "legendgroup": "xgboost/best",
         "line": {
          "color": "#19D3F3"
         },
         "name": "XGBoost",
         "showlegend": false,
         "type": "scatter",
         "x": [
          "40%",
          "50%",
          "60%",
          "70%",
          "80%",
          "90%",
          "100%"
         ],
         "xaxis": "x3",
         "y": [
          0.957836684009178,
          0.9588872086736416,
          0.9585588518873894,
          0.9597731514654396,
          0.960481825522884,
          0.960571043287414,
          0.9616603466994716
         ],
         "yaxis": "y3"
        },
        {
         "legendgroup": "xgboost/best",
         "line": {
          "color": "#19D3F3"
         },
         "name": "XGBoost",
         "showlegend": false,
         "type": "scatter",
         "x": [
          "40%",
          "50%",
          "60%",
          "70%",
          "80%",
          "90%",
          "100%"
         ],
         "xaxis": "x4",
         "y": [
          4.589039325714111,
          5.407276630401611,
          6.081858158111572,
          6.374051332473755,
          7.5460264682769775,
          7.724113941192627,
          0
         ],
         "yaxis": "y4"
        },
        {
         "error_y": {
          "array": [
           0.003799569765736,
           0.0055858327872489,
           0.0098826231993549,
           0.0077217716035722,
           0.003141138670311,
           0.0028897271278467,
           0.0017257331657692
          ],
          "type": "data",
          "visible": true
         },
         "legendgroup": "mlp/simple",
         "line": {
          "color": "#636EFA"
         },
         "name": "MLP + Pruning",
         "showlegend": false,
         "type": "scatter",
         "x": [
          "40%",
          "50%",
          "60%",
          "70%",
          "80%",
          "90%",
          "100%"
         ],
         "xaxis": "x5",
         "y": [
          0.976383401435784,
          0.9804612874264784,
          0.9808330346383742,
          0.982523113300403,
          0.9919014409044824,
          0.9944637316046576,
          0.996818642661833
         ],
         "yaxis": "y5"
        },
        {
         "legendgroup": "mlp/simple",
         "line": {
          "color": "#636EFA"
         },
         "name": "MLP + Pruning",
         "showlegend": false,
         "type": "scatter",
         "x": [
          "40%",
          "50%",
          "60%",
          "70%",
          "80%",
          "90%",
          "100%"
         ],
         "xaxis": "x6",
         "y": [
          0.055783987045288,
          0.0577948093414306,
          0.0586235523223876,
          0.0578052997589111,
          0.0627408027648925,
          0.0627825260162353,
          0
         ],
         "yaxis": "y6"
        },
        {
         "error_y": {
          "array": [
           0.0037319785939009,
           0.0022140998060871,
           0.0047751644141504,
           0.0067214498352528,
           0.0028192287775262,
           0.0024038849322489,
           0.0029561293270624
          ],
          "type": "data",
          "visible": true
         },
         "legendgroup": "mlp/simple_nd",
         "line": {
          "color": "#EF553B"
         },
         "name": "mlp/simple_nd",
         "showlegend": false,
         "type": "scatter",
         "x": [
          "40%",
          "50%",
          "60%",
          "70%",
          "80%",
          "90%",
          "100%"
         ],
         "xaxis": "x5",
         "y": [
          0.9740284903786088,
          0.9814980263374992,
          0.9823244726184908,
          0.9796778532195904,
          0.9902569686956304,
          0.993557087149517,
          0.9971903898737288
         ],
         "yaxis": "y5"
        },
        {
         "legendgroup": "mlp/simple_nd",
         "line": {
          "color": "#EF553B"
         },
         "name": "mlp/simple_nd",
         "showlegend": false,
         "type": "scatter",
         "x": [
          "40%",
          "50%",
          "60%",
          "70%",
          "80%",
          "90%",
          "100%"
         ],
         "xaxis": "x6",
         "y": [
          0.0609545707702636,
          0.0664882659912109,
          0.0580799579620361,
          0.0599377155303955,
          0.0560424327850341,
          0.0600335597991943,
          0
         ],
         "yaxis": "y6"
        },
        {
         "error_y": {
          "array": [
           0.0129764594971262,
           0.0105443653632088,
           0.0122354507154591,
           0.0171310064951519,
           0.0124877563749027,
           0.0128817469958076,
           0.0072061708684216
          ],
          "type": "data",
          "visible": true
         },
         "legendgroup": "mlp/simple_nd_nn",
         "line": {
          "color": "#00CC96"
         },
         "name": "mlp/simple_nd_nn",
         "showlegend": false,
         "type": "scatter",
         "x": [
          "40%",
          "50%",
          "60%",
          "70%",
          "80%",
          "90%",
          "100%"
         ],
         "xaxis": "x5",
         "y": [
          0.9614257933622584,
          0.9556005703082416,
          0.9440232788627516,
          0.9384412447102544,
          0.9591010248935224,
          0.9618292193080974,
          0.9707612681962126
         ],
         "yaxis": "y5"
        },
        {
         "legendgroup": "mlp/simple_nd_nn",
         "line": {
          "color": "#00CC96"
         },
         "name": "mlp/simple_nd_nn",
         "showlegend": false,
         "type": "scatter",
         "x": [
          "40%",
          "50%",
          "60%",
          "70%",
          "80%",
          "90%",
          "100%"
         ],
         "xaxis": "x6",
         "y": [
          0.0621533393859863,
          0.0641872882843017,
          0.0659294128417968,
          0.06394624710083,
          0.0656807422637939,
          0.062852144241333,
          0
         ],
         "yaxis": "y6"
        },
        {
         "error_y": {
          "array": [
           0.0384674720066998,
           0.0142115234737539,
           0.0117984582685664,
           0.0206262447475325,
           0.0054338272951215,
           0.0018152485887774,
           0.0016552047995406
          ],
          "type": "data",
          "visible": true
         },
         "legendgroup": "transformer/cls",
         "line": {
          "color": "#AB63FA"
         },
         "name": "FT-Transformer",
         "showlegend": false,
         "type": "scatter",
         "x": [
          "40%",
          "50%",
          "60%",
          "70%",
          "80%",
          "90%",
          "100%"
         ],
         "xaxis": "x5",
         "y": [
          0.9318387320313648,
          0.9626884025566012,
          0.965124888629451,
          0.96913269224861,
          0.993967556606962,
          0.997148913945129,
          0.9983885833666164
         ],
         "yaxis": "y5"
        },
        {
         "legendgroup": "transformer/cls",
         "line": {
          "color": "#AB63FA"
         },
         "name": "FT-Transformer",
         "showlegend": false,
         "type": "scatter",
         "x": [
          "40%",
          "50%",
          "60%",
          "70%",
          "80%",
          "90%",
          "100%"
         ],
         "xaxis": "x6",
         "y": [
          0.2752139568328857,
          0.28619384765625,
          0.2787444591522217,
          0.2734544277191162,
          0.307605504989624,
          0.2756044864654541,
          0
         ],
         "yaxis": "y6"
        },
        {
         "error_y": {
          "array": [
           0.0043696701607844,
           0.0035981569460021,
           0.0030684932685904,
           0.0036191438339314,
           0.0025000703181729,
           0.0018645114365363,
           0.0020476882946097
          ],
          "type": "data",
          "visible": true
         },
         "legendgroup": "xgboost",
         "line": {
          "color": "#FFA15A"
         },
         "name": "XGBoost + HS",
         "showlegend": false,
         "type": "scatter",
         "x": [
          "40%",
          "50%",
          "60%",
          "70%",
          "80%",
          "90%",
          "100%"
         ],
         "xaxis": "x5",
         "y": [
          0.9792301976621004,
          0.9870300049042868,
          0.989467867818662,
          0.9917799261057118,
          0.9944222556760576,
          0.9940090325355616,
          0.9936787612522656
         ],
         "yaxis": "y5"
        },
        {
         "legendgroup": "xgboost",
         "line": {
          "color": "#FFA15A"
         },
         "name": "XGBoost + HS",
         "showlegend": false,
         "type": "scatter",
         "x": [
          "40%",
          "50%",
          "60%",
          "70%",
          "80%",
          "90%",
          "100%"
         ],
         "xaxis": "x6",
         "y": [
          1.3263609409332273,
          1.3913381099700926,
          1.621930122375488,
          1.4822919368743896,
          1.8494210243225093,
          1.6020474433898924,
          0
         ],
         "yaxis": "y6"
        },
        {
         "error_y": {
          "array": [
           0.0049303139041921,
           0.0035981569460021,
           0.0031256339608252,
           0.0041482559709829,
           0.0022783658335483,
           0.0020476882946097,
           0.0020476882946097
          ],
          "type": "data",
          "visible": true
         },
         "legendgroup": "xgboost/best",
         "line": {
          "color": "#19D3F3"
         },
         "name": "XGBoost",
         "showlegend": false,
         "type": "scatter",
         "x": [
          "40%",
          "50%",
          "60%",
          "70%",
          "80%",
          "90%",
          "100%"
         ],
         "xaxis": "x5",
         "y": [
          0.97885982729173,
          0.9870300049042868,
          0.989096120606766,
          0.9890131687495662,
          0.9940505084641618,
          0.9936787612522656,
          0.9936787612522656
         ],
         "yaxis": "y5"
        },
        {
         "legendgroup": "xgboost/best",
         "line": {
          "color": "#19D3F3"
         },
         "name": "XGBoost",
         "showlegend": false,
         "type": "scatter",
         "x": [
          "40%",
          "50%",
          "60%",
          "70%",
          "80%",
          "90%",
          "100%"
         ],
         "xaxis": "x6",
         "y": [
          0.2873814105987549,
          0.3038392066955566,
          0.3550183773040771,
          0.3087327480316162,
          0.38178825378417963,
          0.3324794769287108,
          0
         ],
         "yaxis": "y6"
        },
        {
         "error_y": {
          "array": [
           0.003695420456107,
           0.0034549767152934,
           0.0058097161812468,
           0.0041023160774609,
           0.0039510444183405,
           0.0035846378116915,
           0.005592043733897
          ],
          "type": "data",
          "visible": true
         },
         "legendgroup": "mlp/simple",
         "line": {
          "color": "#636EFA"
         },
         "name": "MLP + Pruning",
         "showlegend": false,
         "type": "scatter",
         "x": [
          "40%",
          "50%",
          "60%",
          "70%",
          "80%",
          "90%",
          "100%"
         ],
         "xaxis": "x7",
         "y": [
          0.9246781925549306,
          0.9258977339605792,
          0.92883294405911,
          0.923947701279306,
          0.927863259920372,
          0.9266484866606356,
          0.9281101122577924
         ],
         "yaxis": "y7"
        },
        {
         "legendgroup": "mlp/simple",
         "line": {
          "color": "#636EFA"
         },
         "name": "MLP + Pruning",
         "showlegend": false,
         "type": "scatter",
         "x": [
          "40%",
          "50%",
          "60%",
          "70%",
          "80%",
          "90%",
          "100%"
         ],
         "xaxis": "x8",
         "y": [
          0.1001510620117187,
          0.0990970134735107,
          0.1001887321472168,
          0.1046216487884521,
          0.1029067039489746,
          0.1024727821350097,
          0
         ],
         "yaxis": "y8"
        },
        {
         "error_y": {
          "array": [
           0.0065345656300645,
           0.0072630319345703,
           0.0082086747090777,
           0.0063251276576301,
           0.0022718165472424,
           0.0032885385534181,
           0.0055595317958259
          ],
          "type": "data",
          "visible": true
         },
         "legendgroup": "mlp/simple_nd",
         "line": {
          "color": "#EF553B"
         },
         "name": "mlp/simple_nd",
         "showlegend": false,
         "type": "scatter",
         "x": [
          "40%",
          "50%",
          "60%",
          "70%",
          "80%",
          "90%",
          "100%"
         ],
         "xaxis": "x7",
         "y": [
          0.9239399021712033,
          0.9263759623864468,
          0.931266563443317,
          0.9273694596932082,
          0.9283522226518708,
          0.927133888730326,
          0.9234627591772708
         ],
         "yaxis": "y7"
        },
        {
         "legendgroup": "mlp/simple_nd",
         "line": {
          "color": "#EF553B"
         },
         "name": "mlp/simple_nd",
         "showlegend": false,
         "type": "scatter",
         "x": [
          "40%",
          "50%",
          "60%",
          "70%",
          "80%",
          "90%",
          "100%"
         ],
         "xaxis": "x8",
         "y": [
          0.0930392742156982,
          0.0986027717590332,
          0.0929510593414306,
          0.0932085514068603,
          0.0956790447235107,
          0.094940185546875,
          0
         ],
         "yaxis": "y8"
        },
        {
         "error_y": {
          "array": [
           0.0114302506580098,
           0.0121989831345961,
           0.0126107516387362,
           0.0113098882114334,
           0.0107000474312934,
           0.0103522892599173,
           0.0099339122095401
          ],
          "type": "data",
          "visible": true
         },
         "legendgroup": "mlp/simple_nd_nn",
         "line": {
          "color": "#00CC96"
         },
         "name": "mlp/simple_nd_nn",
         "showlegend": false,
         "type": "scatter",
         "x": [
          "40%",
          "50%",
          "60%",
          "70%",
          "80%",
          "90%",
          "100%"
         ],
         "xaxis": "x7",
         "y": [
          0.9162135129118404,
          0.9162135303660648,
          0.9171867837450864,
          0.9149892386509378,
          0.9140112347925672,
          0.914496662937425,
          0.9137661280050056
         ],
         "yaxis": "y7"
        },
        {
         "legendgroup": "mlp/simple_nd_nn",
         "line": {
          "color": "#00CC96"
         },
         "name": "mlp/simple_nd_nn",
         "showlegend": false,
         "type": "scatter",
         "x": [
          "40%",
          "50%",
          "60%",
          "70%",
          "80%",
          "90%",
          "100%"
         ],
         "xaxis": "x8",
         "y": [
          0.0805613994598388,
          0.0820703506469726,
          0.082179307937622,
          0.0811967849731445,
          0.0833351612091064,
          0.0812194347381591,
          0
         ],
         "yaxis": "y8"
        },
        {
         "error_y": {
          "array": [
           0.006593112834916,
           0.0091985571980927,
           0.0101046517899453,
           0.0095107456138546,
           0.0107598787351252,
           0.0121732448951482,
           0.0040443647168101
          ],
          "type": "data",
          "visible": true
         },
         "legendgroup": "transformer/cls",
         "line": {
          "color": "#AB63FA"
         },
         "name": "FT-Transformer",
         "showlegend": false,
         "type": "scatter",
         "x": [
          "40%",
          "50%",
          "60%",
          "70%",
          "80%",
          "90%",
          "100%"
         ],
         "xaxis": "x7",
         "y": [
          0.9413322400295854,
          0.943044912668726,
          0.943529750342688,
          0.9408456046129624,
          0.9454923235233252,
          0.9432959682042498,
          0.9489022015133186
         ],
         "yaxis": "y7"
        },
        {
         "legendgroup": "transformer/cls",
         "line": {
          "color": "#AB63FA"
         },
         "name": "FT-Transformer",
         "showlegend": false,
         "type": "scatter",
         "x": [
          "40%",
          "50%",
          "60%",
          "70%",
          "80%",
          "90%",
          "100%"
         ],
         "xaxis": "x8",
         "y": [
          0.550870418548584,
          0.5537593364715576,
          0.6103973388671875,
          0.5237472057342529,
          0.5350468158721924,
          0.5420365333557129,
          0
         ],
         "yaxis": "y8"
        },
        {
         "error_y": {
          "array": [
           0.0050499406507988,
           0.0056680188658231,
           0.0068311915892583,
           0.0041548962404373,
           0.0060094944462677,
           0.0070791820179231,
           0.0062324745799163
          ],
          "type": "data",
          "visible": true
         },
         "legendgroup": "xgboost",
         "line": {
          "color": "#FFA15A"
         },
         "name": "XGBoost + HS",
         "showlegend": false,
         "type": "scatter",
         "x": [
          "40%",
          "50%",
          "60%",
          "70%",
          "80%",
          "90%",
          "100%"
         ],
         "xaxis": "x7",
         "y": [
          0.952097421249503,
          0.9520992190770996,
          0.9474543065303408,
          0.9472008538205756,
          0.9467100671863128,
          0.9459777519229892,
          0.9442716275058588
         ],
         "yaxis": "y7"
        },
        {
         "legendgroup": "xgboost",
         "line": {
          "color": "#FFA15A"
         },
         "name": "XGBoost + HS",
         "showlegend": false,
         "type": "scatter",
         "x": [
          "40%",
          "50%",
          "60%",
          "70%",
          "80%",
          "90%",
          "100%"
         ],
         "xaxis": "x8",
         "y": [
          2.164064407348633,
          2.2729043960571285,
          2.7948687076568604,
          2.555449485778808,
          3.1719233989715576,
          2.8875067234039307,
          0
         ],
         "yaxis": "y8"
        },
        {
         "error_y": {
          "array": [
           0.0046034217693199,
           0.0047529065145226,
           0.0068311915892583,
           0.0041548962404373,
           0.0097521732247499,
           0.0075775174037392,
           0.0062324745799163
          ],
          "type": "data",
          "visible": true
         },
         "legendgroup": "xgboost/best",
         "line": {
          "color": "#19D3F3"
         },
         "name": "XGBoost",
         "showlegend": false,
         "type": "scatter",
         "x": [
          "40%",
          "50%",
          "60%",
          "70%",
          "80%",
          "90%",
          "100%"
         ],
         "xaxis": "x7",
         "y": [
          0.9503817437658072,
          0.9501360551707604,
          0.9474543065303408,
          0.9472008538205756,
          0.9449985756588348,
          0.9447636039151944,
          0.9442716275058588
         ],
         "yaxis": "y7"
        },
        {
         "legendgroup": "xgboost/best",
         "line": {
          "color": "#19D3F3"
         },
         "name": "XGBoost",
         "showlegend": false,
         "type": "scatter",
         "x": [
          "40%",
          "50%",
          "60%",
          "70%",
          "80%",
          "90%",
          "100%"
         ],
         "xaxis": "x8",
         "y": [
          0.5776875019073486,
          0.6150519847869872,
          0.78485107421875,
          0.7202284336090087,
          0.8566913604736327,
          0.8133463859558104,
          0
         ],
         "yaxis": "y8"
        },
        {
         "error_y": {
          "array": [
           0.0732166269356317,
           0.0125985824819709,
           0.0087997900036531,
           0.0064944351150389,
           0.0186804397142424,
           0.0117299788554154,
           0.0222816930936095
          ],
          "type": "data",
          "visible": true
         },
         "legendgroup": "mlp/simple",
         "line": {
          "color": "#636EFA"
         },
         "name": "MLP + Pruning",
         "showlegend": false,
         "type": "scatter",
         "x": [
          "40%",
          "50%",
          "60%",
          "70%",
          "80%",
          "90%",
          "100%"
         ],
         "xaxis": "x9",
         "y": [
          0.8107752727743662,
          0.8519553200444641,
          0.8515130316536978,
          0.8498472463549142,
          0.854111225029409,
          0.8532818398644493,
          0.8578485414260892
         ],
         "yaxis": "y9"
        },
        {
         "legendgroup": "mlp/simple",
         "line": {
          "color": "#636EFA"
         },
         "name": "MLP + Pruning",
         "showlegend": false,
         "type": "scatter",
         "x": [
          "40%",
          "50%",
          "60%",
          "70%",
          "80%",
          "90%",
          "100%"
         ],
         "xaxis": "x10",
         "y": [
          0.021634817123413,
          0.021346092224121,
          0.0223486423492431,
          0.0224397182464599,
          0.0230329036712646,
          0.0229101181030273,
          0
         ],
         "yaxis": "y10"
        },
        {
         "error_y": {
          "array": [
           0.0833030712384819,
           0.0163689898546811,
           0.0202401512570449,
           0.0167352602577482,
           0.0192278036183968,
           0.0166526420575452,
           0.0260254268999879
          ],
          "type": "data",
          "visible": true
         },
         "legendgroup": "mlp/simple_nd",
         "line": {
          "color": "#EF553B"
         },
         "name": "mlp/simple_nd",
         "showlegend": false,
         "type": "scatter",
         "x": [
          "40%",
          "50%",
          "60%",
          "70%",
          "80%",
          "90%",
          "100%"
         ],
         "xaxis": "x9",
         "y": [
          0.8023757649014127,
          0.8454072675077434,
          0.8494022167301611,
          0.8493878414401191,
          0.860062616691309,
          0.8621298740543282,
          0.847512254610993
         ],
         "yaxis": "y9"
        },
        {
         "legendgroup": "mlp/simple_nd",
         "line": {
          "color": "#EF553B"
         },
         "name": "mlp/simple_nd",
         "showlegend": false,
         "type": "scatter",
         "x": [
          "40%",
          "50%",
          "60%",
          "70%",
          "80%",
          "90%",
          "100%"
         ],
         "xaxis": "x10",
         "y": [
          0.0168006420135498,
          0.0162570476531982,
          0.0162162780761718,
          0.0169670581817626,
          0.0161225795745849,
          0.0183312892913818,
          0
         ],
         "yaxis": "y10"
        },
        {
         "error_y": {
          "array": [
           0.0641992664396134,
           0.0175681854069636,
           0.0136789262437422,
           0.0102735531611494,
           0.0200138668387121,
           0.0088466240695938,
           0.0242649371958881
          ],
          "type": "data",
          "visible": true
         },
         "legendgroup": "mlp/simple_nd_nn",
         "line": {
          "color": "#00CC96"
         },
         "name": "mlp/simple_nd_nn",
         "showlegend": false,
         "type": "scatter",
         "x": [
          "40%",
          "50%",
          "60%",
          "70%",
          "80%",
          "90%",
          "100%"
         ],
         "xaxis": "x9",
         "y": [
          0.8191065088118801,
          0.8600248869510786,
          0.8653443918021994,
          0.8633035754756688,
          0.8720720491263666,
          0.8683845282163632,
          0.8581563150908169
         ],
         "yaxis": "y9"
        },
        {
         "legendgroup": "mlp/simple_nd_nn",
         "line": {
          "color": "#00CC96"
         },
         "name": "mlp/simple_nd_nn",
         "showlegend": false,
         "type": "scatter",
         "x": [
          "40%",
          "50%",
          "60%",
          "70%",
          "80%",
          "90%",
          "100%"
         ],
         "xaxis": "x10",
         "y": [
          0.0145463943481445,
          0.0142269134521484,
          0.0136859416961669,
          0.0139803886413574,
          0.0139036178588867,
          0.0148794651031494,
          0
         ],
         "yaxis": "y10"
        },
        {
         "error_y": {
          "array": [
           0.0787160734571051,
           0.0087701330368178,
           0.0085882387862869,
           0.0086806934716526,
           0.0121151076953782,
           0.0265152114761446,
           0.0342219643308065
          ],
          "type": "data",
          "visible": true
         },
         "legendgroup": "transformer/cls",
         "line": {
          "color": "#AB63FA"
         },
         "name": "FT-Transformer",
         "showlegend": false,
         "type": "scatter",
         "x": [
          "40%",
          "50%",
          "60%",
          "70%",
          "80%",
          "90%",
          "100%"
         ],
         "xaxis": "x9",
         "y": [
          0.8165387927778198,
          0.8592553988279606,
          0.859228957791472,
          0.8571881414649415,
          0.8736367757044647,
          0.8566227349744763,
          0.8719538738816521
         ],
         "yaxis": "y9"
        },
        {
         "legendgroup": "transformer/cls",
         "line": {
          "color": "#AB63FA"
         },
         "name": "FT-Transformer",
         "showlegend": false,
         "type": "scatter",
         "x": [
          "40%",
          "50%",
          "60%",
          "70%",
          "80%",
          "90%",
          "100%"
         ],
         "xaxis": "x10",
         "y": [
          0.0956358909606933,
          0.0956969261169433,
          0.0945017337799072,
          0.0927715301513671,
          0.0976369380950927,
          0.1001276969909668,
          0
         ],
         "yaxis": "y10"
        },
        {
         "error_y": {
          "array": [
           0.0739568931664551,
           0.0487039448678069,
           0.0330116716318555,
           0.0412423548359727,
           0.0162631794675262,
           0.026188475487018,
           0.0286559374868908
          ],
          "type": "data",
          "visible": true
         },
         "legendgroup": "xgboost",
         "line": {
          "color": "#FFA15A"
         },
         "name": "XGBoost + HS",
         "showlegend": false,
         "type": "scatter",
         "x": [
          "40%",
          "50%",
          "60%",
          "70%",
          "80%",
          "90%",
          "100%"
         ],
         "xaxis": "x9",
         "y": [
          0.8100754378959409,
          0.8337411368566464,
          0.8320730420142674,
          0.8349381927281753,
          0.864584228191541,
          0.8700331969911179,
          0.8565982581292696
         ],
         "yaxis": "y9"
        },
        {
         "legendgroup": "xgboost",
         "line": {
          "color": "#FFA15A"
         },
         "name": "XGBoost + HS",
         "showlegend": false,
         "type": "scatter",
         "x": [
          "40%",
          "50%",
          "60%",
          "70%",
          "80%",
          "90%",
          "100%"
         ],
         "xaxis": "x10",
         "y": [
          0.5681929588317867,
          0.5558414459228515,
          0.5847852230072019,
          0.6023807525634762,
          0.6714065074920651,
          0.7002396583557124,
          0
         ],
         "yaxis": "y10"
        },
        {
         "error_y": {
          "array": [
           0.0649157893562319,
           0.0487039448678069,
           0.0330116716318555,
           0.0412423548359727,
           0.0162631794675262,
           0.026188475487018,
           0.0286559374868908
          ],
          "type": "data",
          "visible": true
         },
         "legendgroup": "xgboost/best",
         "line": {
          "color": "#19D3F3"
         },
         "name": "XGBoost",
         "showlegend": false,
         "type": "scatter",
         "x": [
          "40%",
          "50%",
          "60%",
          "70%",
          "80%",
          "90%",
          "100%"
         ],
         "xaxis": "x9",
         "y": [
          0.8097050259553848,
          0.8337411368566464,
          0.8320730420142674,
          0.8349381927281753,
          0.864584228191541,
          0.8700331969911179,
          0.8565982581292696
         ],
         "yaxis": "y9"
        },
        {
         "legendgroup": "xgboost/best",
         "line": {
          "color": "#19D3F3"
         },
         "name": "XGBoost",
         "showlegend": false,
         "type": "scatter",
         "x": [
          "40%",
          "50%",
          "60%",
          "70%",
          "80%",
          "90%",
          "100%"
         ],
         "xaxis": "x10",
         "y": [
          0.1157224178314208,
          0.113152265548706,
          0.1236507892608642,
          0.1190090179443358,
          0.1509082317352294,
          0.1602578163146971,
          0
         ],
         "yaxis": "y10"
        }
       ],
       "layout": {
        "annotations": [
         {
          "font": {
           "size": 16
          },
          "showarrow": false,
          "text": "jasmine",
          "textangle": 90,
          "x": 0.98,
          "xanchor": "left",
          "xref": "paper",
          "y": 0.9079999999999999,
          "yanchor": "middle",
          "yref": "paper"
         },
         {
          "font": {
           "size": 16
          },
          "showarrow": false,
          "text": "nomao",
          "textangle": 90,
          "x": 0.98,
          "xanchor": "left",
          "xref": "paper",
          "y": 0.7040000000000001,
          "yanchor": "middle",
          "yref": "paper"
         },
         {
          "font": {
           "size": 16
          },
          "showarrow": false,
          "text": "kr-vs-kp",
          "textangle": 90,
          "x": 0.98,
          "xanchor": "left",
          "xref": "paper",
          "y": 0.5,
          "yanchor": "middle",
          "yref": "paper"
         },
         {
          "font": {
           "size": 16
          },
          "showarrow": false,
          "text": "sylvine",
          "textangle": 90,
          "x": 0.98,
          "xanchor": "left",
          "xref": "paper",
          "y": 0.296,
          "yanchor": "middle",
          "yref": "paper"
         },
         {
          "font": {
           "size": 16
          },
          "showarrow": false,
          "text": "australian",
          "textangle": 90,
          "x": 0.98,
          "xanchor": "left",
          "xref": "paper",
          "y": 0.092,
          "yanchor": "middle",
          "yref": "paper"
         },
         {
          "font": {
           "size": 16
          },
          "showarrow": false,
          "text": "Features percent",
          "x": 0.49,
          "xanchor": "center",
          "xref": "paper",
          "y": 0,
          "yanchor": "top",
          "yref": "paper",
          "yshift": -30
         },
         {
          "font": {
           "size": 14
          },
          "showarrow": false,
          "text": "Balanced accuracy",
          "textangle": -90,
          "x": -0.1,
          "xref": "paper",
          "yanchor": "middle",
          "yref": "paper"
         },
         {
          "font": {
           "size": 14
          },
          "showarrow": false,
          "text": "Time (sec)",
          "textangle": -90,
          "x": 0.48,
          "xref": "paper",
          "yanchor": "middle",
          "yref": "paper"
         }
        ],
        "boxmode": "group",
        "font": {
         "size": 11
        },
        "height": 1000,
        "legend": {
         "orientation": "h",
         "x": -0.02,
         "xanchor": "left",
         "y": 1.02,
         "yanchor": "bottom"
        },
        "margin": {
         "b": 60,
         "l": 60,
         "r": 20,
         "t": 40
        },
        "template": {
         "data": {
          "bar": [
           {
            "error_x": {
             "color": "#2a3f5f"
            },
            "error_y": {
             "color": "#2a3f5f"
            },
            "marker": {
             "line": {
              "color": "white",
              "width": 0.5
             },
             "pattern": {
              "fillmode": "overlay",
              "size": 10,
              "solidity": 0.2
             }
            },
            "type": "bar"
           }
          ],
          "barpolar": [
           {
            "marker": {
             "line": {
              "color": "white",
              "width": 0.5
             },
             "pattern": {
              "fillmode": "overlay",
              "size": 10,
              "solidity": 0.2
             }
            },
            "type": "barpolar"
           }
          ],
          "carpet": [
           {
            "aaxis": {
             "endlinecolor": "#2a3f5f",
             "gridcolor": "#C8D4E3",
             "linecolor": "#C8D4E3",
             "minorgridcolor": "#C8D4E3",
             "startlinecolor": "#2a3f5f"
            },
            "baxis": {
             "endlinecolor": "#2a3f5f",
             "gridcolor": "#C8D4E3",
             "linecolor": "#C8D4E3",
             "minorgridcolor": "#C8D4E3",
             "startlinecolor": "#2a3f5f"
            },
            "type": "carpet"
           }
          ],
          "choropleth": [
           {
            "colorbar": {
             "outlinewidth": 0,
             "ticks": ""
            },
            "type": "choropleth"
           }
          ],
          "contour": [
           {
            "colorbar": {
             "outlinewidth": 0,
             "ticks": ""
            },
            "colorscale": [
             [
              0,
              "#0d0887"
             ],
             [
              0.1111111111111111,
              "#46039f"
             ],
             [
              0.2222222222222222,
              "#7201a8"
             ],
             [
              0.3333333333333333,
              "#9c179e"
             ],
             [
              0.4444444444444444,
              "#bd3786"
             ],
             [
              0.5555555555555556,
              "#d8576b"
             ],
             [
              0.6666666666666666,
              "#ed7953"
             ],
             [
              0.7777777777777778,
              "#fb9f3a"
             ],
             [
              0.8888888888888888,
              "#fdca26"
             ],
             [
              1,
              "#f0f921"
             ]
            ],
            "type": "contour"
           }
          ],
          "contourcarpet": [
           {
            "colorbar": {
             "outlinewidth": 0,
             "ticks": ""
            },
            "type": "contourcarpet"
           }
          ],
          "heatmap": [
           {
            "colorbar": {
             "outlinewidth": 0,
             "ticks": ""
            },
            "colorscale": [
             [
              0,
              "#0d0887"
             ],
             [
              0.1111111111111111,
              "#46039f"
             ],
             [
              0.2222222222222222,
              "#7201a8"
             ],
             [
              0.3333333333333333,
              "#9c179e"
             ],
             [
              0.4444444444444444,
              "#bd3786"
             ],
             [
              0.5555555555555556,
              "#d8576b"
             ],
             [
              0.6666666666666666,
              "#ed7953"
             ],
             [
              0.7777777777777778,
              "#fb9f3a"
             ],
             [
              0.8888888888888888,
              "#fdca26"
             ],
             [
              1,
              "#f0f921"
             ]
            ],
            "type": "heatmap"
           }
          ],
          "heatmapgl": [
           {
            "colorbar": {
             "outlinewidth": 0,
             "ticks": ""
            },
            "colorscale": [
             [
              0,
              "#0d0887"
             ],
             [
              0.1111111111111111,
              "#46039f"
             ],
             [
              0.2222222222222222,
              "#7201a8"
             ],
             [
              0.3333333333333333,
              "#9c179e"
             ],
             [
              0.4444444444444444,
              "#bd3786"
             ],
             [
              0.5555555555555556,
              "#d8576b"
             ],
             [
              0.6666666666666666,
              "#ed7953"
             ],
             [
              0.7777777777777778,
              "#fb9f3a"
             ],
             [
              0.8888888888888888,
              "#fdca26"
             ],
             [
              1,
              "#f0f921"
             ]
            ],
            "type": "heatmapgl"
           }
          ],
          "histogram": [
           {
            "marker": {
             "pattern": {
              "fillmode": "overlay",
              "size": 10,
              "solidity": 0.2
             }
            },
            "type": "histogram"
           }
          ],
          "histogram2d": [
           {
            "colorbar": {
             "outlinewidth": 0,
             "ticks": ""
            },
            "colorscale": [
             [
              0,
              "#0d0887"
             ],
             [
              0.1111111111111111,
              "#46039f"
             ],
             [
              0.2222222222222222,
              "#7201a8"
             ],
             [
              0.3333333333333333,
              "#9c179e"
             ],
             [
              0.4444444444444444,
              "#bd3786"
             ],
             [
              0.5555555555555556,
              "#d8576b"
             ],
             [
              0.6666666666666666,
              "#ed7953"
             ],
             [
              0.7777777777777778,
              "#fb9f3a"
             ],
             [
              0.8888888888888888,
              "#fdca26"
             ],
             [
              1,
              "#f0f921"
             ]
            ],
            "type": "histogram2d"
           }
          ],
          "histogram2dcontour": [
           {
            "colorbar": {
             "outlinewidth": 0,
             "ticks": ""
            },
            "colorscale": [
             [
              0,
              "#0d0887"
             ],
             [
              0.1111111111111111,
              "#46039f"
             ],
             [
              0.2222222222222222,
              "#7201a8"
             ],
             [
              0.3333333333333333,
              "#9c179e"
             ],
             [
              0.4444444444444444,
              "#bd3786"
             ],
             [
              0.5555555555555556,
              "#d8576b"
             ],
             [
              0.6666666666666666,
              "#ed7953"
             ],
             [
              0.7777777777777778,
              "#fb9f3a"
             ],
             [
              0.8888888888888888,
              "#fdca26"
             ],
             [
              1,
              "#f0f921"
             ]
            ],
            "type": "histogram2dcontour"
           }
          ],
          "mesh3d": [
           {
            "colorbar": {
             "outlinewidth": 0,
             "ticks": ""
            },
            "type": "mesh3d"
           }
          ],
          "parcoords": [
           {
            "line": {
             "colorbar": {
              "outlinewidth": 0,
              "ticks": ""
             }
            },
            "type": "parcoords"
           }
          ],
          "pie": [
           {
            "automargin": true,
            "type": "pie"
           }
          ],
          "scatter": [
           {
            "fillpattern": {
             "fillmode": "overlay",
             "size": 10,
             "solidity": 0.2
            },
            "type": "scatter"
           }
          ],
          "scatter3d": [
           {
            "line": {
             "colorbar": {
              "outlinewidth": 0,
              "ticks": ""
             }
            },
            "marker": {
             "colorbar": {
              "outlinewidth": 0,
              "ticks": ""
             }
            },
            "type": "scatter3d"
           }
          ],
          "scattercarpet": [
           {
            "marker": {
             "colorbar": {
              "outlinewidth": 0,
              "ticks": ""
             }
            },
            "type": "scattercarpet"
           }
          ],
          "scattergeo": [
           {
            "marker": {
             "colorbar": {
              "outlinewidth": 0,
              "ticks": ""
             }
            },
            "type": "scattergeo"
           }
          ],
          "scattergl": [
           {
            "marker": {
             "colorbar": {
              "outlinewidth": 0,
              "ticks": ""
             }
            },
            "type": "scattergl"
           }
          ],
          "scattermapbox": [
           {
            "marker": {
             "colorbar": {
              "outlinewidth": 0,
              "ticks": ""
             }
            },
            "type": "scattermapbox"
           }
          ],
          "scatterpolar": [
           {
            "marker": {
             "colorbar": {
              "outlinewidth": 0,
              "ticks": ""
             }
            },
            "type": "scatterpolar"
           }
          ],
          "scatterpolargl": [
           {
            "marker": {
             "colorbar": {
              "outlinewidth": 0,
              "ticks": ""
             }
            },
            "type": "scatterpolargl"
           }
          ],
          "scatterternary": [
           {
            "marker": {
             "colorbar": {
              "outlinewidth": 0,
              "ticks": ""
             }
            },
            "type": "scatterternary"
           }
          ],
          "surface": [
           {
            "colorbar": {
             "outlinewidth": 0,
             "ticks": ""
            },
            "colorscale": [
             [
              0,
              "#0d0887"
             ],
             [
              0.1111111111111111,
              "#46039f"
             ],
             [
              0.2222222222222222,
              "#7201a8"
             ],
             [
              0.3333333333333333,
              "#9c179e"
             ],
             [
              0.4444444444444444,
              "#bd3786"
             ],
             [
              0.5555555555555556,
              "#d8576b"
             ],
             [
              0.6666666666666666,
              "#ed7953"
             ],
             [
              0.7777777777777778,
              "#fb9f3a"
             ],
             [
              0.8888888888888888,
              "#fdca26"
             ],
             [
              1,
              "#f0f921"
             ]
            ],
            "type": "surface"
           }
          ],
          "table": [
           {
            "cells": {
             "fill": {
              "color": "#EBF0F8"
             },
             "line": {
              "color": "white"
             }
            },
            "header": {
             "fill": {
              "color": "#C8D4E3"
             },
             "line": {
              "color": "white"
             }
            },
            "type": "table"
           }
          ]
         },
         "layout": {
          "annotationdefaults": {
           "arrowcolor": "#2a3f5f",
           "arrowhead": 0,
           "arrowwidth": 1
          },
          "autotypenumbers": "strict",
          "coloraxis": {
           "colorbar": {
            "outlinewidth": 0,
            "ticks": ""
           }
          },
          "colorscale": {
           "diverging": [
            [
             0,
             "#8e0152"
            ],
            [
             0.1,
             "#c51b7d"
            ],
            [
             0.2,
             "#de77ae"
            ],
            [
             0.3,
             "#f1b6da"
            ],
            [
             0.4,
             "#fde0ef"
            ],
            [
             0.5,
             "#f7f7f7"
            ],
            [
             0.6,
             "#e6f5d0"
            ],
            [
             0.7,
             "#b8e186"
            ],
            [
             0.8,
             "#7fbc41"
            ],
            [
             0.9,
             "#4d9221"
            ],
            [
             1,
             "#276419"
            ]
           ],
           "sequential": [
            [
             0,
             "#0d0887"
            ],
            [
             0.1111111111111111,
             "#46039f"
            ],
            [
             0.2222222222222222,
             "#7201a8"
            ],
            [
             0.3333333333333333,
             "#9c179e"
            ],
            [
             0.4444444444444444,
             "#bd3786"
            ],
            [
             0.5555555555555556,
             "#d8576b"
            ],
            [
             0.6666666666666666,
             "#ed7953"
            ],
            [
             0.7777777777777778,
             "#fb9f3a"
            ],
            [
             0.8888888888888888,
             "#fdca26"
            ],
            [
             1,
             "#f0f921"
            ]
           ],
           "sequentialminus": [
            [
             0,
             "#0d0887"
            ],
            [
             0.1111111111111111,
             "#46039f"
            ],
            [
             0.2222222222222222,
             "#7201a8"
            ],
            [
             0.3333333333333333,
             "#9c179e"
            ],
            [
             0.4444444444444444,
             "#bd3786"
            ],
            [
             0.5555555555555556,
             "#d8576b"
            ],
            [
             0.6666666666666666,
             "#ed7953"
            ],
            [
             0.7777777777777778,
             "#fb9f3a"
            ],
            [
             0.8888888888888888,
             "#fdca26"
            ],
            [
             1,
             "#f0f921"
            ]
           ]
          },
          "colorway": [
           "#636efa",
           "#EF553B",
           "#00cc96",
           "#ab63fa",
           "#FFA15A",
           "#19d3f3",
           "#FF6692",
           "#B6E880",
           "#FF97FF",
           "#FECB52"
          ],
          "font": {
           "color": "#2a3f5f"
          },
          "geo": {
           "bgcolor": "white",
           "lakecolor": "white",
           "landcolor": "white",
           "showlakes": true,
           "showland": true,
           "subunitcolor": "#C8D4E3"
          },
          "hoverlabel": {
           "align": "left"
          },
          "hovermode": "closest",
          "mapbox": {
           "style": "light"
          },
          "paper_bgcolor": "white",
          "plot_bgcolor": "white",
          "polar": {
           "angularaxis": {
            "gridcolor": "#EBF0F8",
            "linecolor": "#EBF0F8",
            "ticks": ""
           },
           "bgcolor": "white",
           "radialaxis": {
            "gridcolor": "#EBF0F8",
            "linecolor": "#EBF0F8",
            "ticks": ""
           }
          },
          "scene": {
           "xaxis": {
            "backgroundcolor": "white",
            "gridcolor": "#DFE8F3",
            "gridwidth": 2,
            "linecolor": "#EBF0F8",
            "showbackground": true,
            "ticks": "",
            "zerolinecolor": "#EBF0F8"
           },
           "yaxis": {
            "backgroundcolor": "white",
            "gridcolor": "#DFE8F3",
            "gridwidth": 2,
            "linecolor": "#EBF0F8",
            "showbackground": true,
            "ticks": "",
            "zerolinecolor": "#EBF0F8"
           },
           "zaxis": {
            "backgroundcolor": "white",
            "gridcolor": "#DFE8F3",
            "gridwidth": 2,
            "linecolor": "#EBF0F8",
            "showbackground": true,
            "ticks": "",
            "zerolinecolor": "#EBF0F8"
           }
          },
          "shapedefaults": {
           "line": {
            "color": "#2a3f5f"
           }
          },
          "ternary": {
           "aaxis": {
            "gridcolor": "#DFE8F3",
            "linecolor": "#A2B1C6",
            "ticks": ""
           },
           "baxis": {
            "gridcolor": "#DFE8F3",
            "linecolor": "#A2B1C6",
            "ticks": ""
           },
           "bgcolor": "white",
           "caxis": {
            "gridcolor": "#DFE8F3",
            "linecolor": "#A2B1C6",
            "ticks": ""
           }
          },
          "title": {
           "x": 0.05
          },
          "xaxis": {
           "automargin": true,
           "gridcolor": "#EBF0F8",
           "linecolor": "#EBF0F8",
           "ticks": "",
           "title": {
            "standoff": 15
           },
           "zerolinecolor": "#EBF0F8",
           "zerolinewidth": 2
          },
          "yaxis": {
           "automargin": true,
           "gridcolor": "#EBF0F8",
           "linecolor": "#EBF0F8",
           "ticks": "",
           "title": {
            "standoff": 15
           },
           "zerolinecolor": "#EBF0F8",
           "zerolinewidth": 2
          }
         }
        },
        "xaxis": {
         "anchor": "y",
         "autorange": "reversed",
         "domain": [
          0,
          0.43
         ],
         "matches": "x9",
         "showticklabels": false
        },
        "xaxis10": {
         "anchor": "y10",
         "autorange": "reversed",
         "domain": [
          0.55,
          0.98
         ]
        },
        "xaxis2": {
         "anchor": "y2",
         "autorange": "reversed",
         "domain": [
          0.55,
          0.98
         ],
         "matches": "x10",
         "showticklabels": false
        },
        "xaxis3": {
         "anchor": "y3",
         "autorange": "reversed",
         "domain": [
          0,
          0.43
         ],
         "matches": "x9",
         "showticklabels": false
        },
        "xaxis4": {
         "anchor": "y4",
         "autorange": "reversed",
         "domain": [
          0.55,
          0.98
         ],
         "matches": "x10",
         "showticklabels": false
        },
        "xaxis5": {
         "anchor": "y5",
         "autorange": "reversed",
         "domain": [
          0,
          0.43
         ],
         "matches": "x9",
         "showticklabels": false
        },
        "xaxis6": {
         "anchor": "y6",
         "autorange": "reversed",
         "domain": [
          0.55,
          0.98
         ],
         "matches": "x10",
         "showticklabels": false
        },
        "xaxis7": {
         "anchor": "y7",
         "autorange": "reversed",
         "domain": [
          0,
          0.43
         ],
         "matches": "x9",
         "showticklabels": false
        },
        "xaxis8": {
         "anchor": "y8",
         "autorange": "reversed",
         "domain": [
          0.55,
          0.98
         ],
         "matches": "x10",
         "showticklabels": false
        },
        "xaxis9": {
         "anchor": "y9",
         "autorange": "reversed",
         "domain": [
          0,
          0.43
         ]
        },
        "yaxis": {
         "anchor": "x",
         "domain": [
          0.816,
          1
         ]
        },
        "yaxis10": {
         "anchor": "x10",
         "domain": [
          0,
          0.184
         ]
        },
        "yaxis2": {
         "anchor": "x2",
         "domain": [
          0.816,
          1
         ]
        },
        "yaxis3": {
         "anchor": "x3",
         "domain": [
          0.6120000000000001,
          0.796
         ]
        },
        "yaxis4": {
         "anchor": "x4",
         "domain": [
          0.6120000000000001,
          0.796
         ]
        },
        "yaxis5": {
         "anchor": "x5",
         "domain": [
          0.408,
          0.592
         ]
        },
        "yaxis6": {
         "anchor": "x6",
         "domain": [
          0.408,
          0.592
         ]
        },
        "yaxis7": {
         "anchor": "x7",
         "domain": [
          0.204,
          0.388
         ]
        },
        "yaxis8": {
         "anchor": "x8",
         "domain": [
          0.204,
          0.388
         ]
        },
        "yaxis9": {
         "anchor": "x9",
         "domain": [
          0,
          0.184
         ]
        }
       }
      },
      "text/html": [
       "<div>                            <div id=\"44d9c8bc-4577-4b96-8090-bf2b380fbbce\" class=\"plotly-graph-div\" style=\"height:1000px; width:100%;\"></div>            <script type=\"text/javascript\">                require([\"plotly\"], function(Plotly) {                    window.PLOTLYENV=window.PLOTLYENV || {};                                    if (document.getElementById(\"44d9c8bc-4577-4b96-8090-bf2b380fbbce\")) {                    Plotly.newPlot(                        \"44d9c8bc-4577-4b96-8090-bf2b380fbbce\",                        [{\"error_y\":{\"array\":[0.0128660100409771,0.0139088032250935,0.0107976170930112,0.0115356770336265,0.012044295114099,0.0138177771983529,0.0158519591319365],\"type\":\"data\",\"visible\":true},\"legendgroup\":\"mlp\\u002fsimple\",\"line\":{\"color\":\"#636EFA\"},\"name\":\"MLP + Pruning\",\"showlegend\":true,\"x\":[\"40%\",\"50%\",\"60%\",\"70%\",\"80%\",\"90%\",\"100%\"],\"y\":[0.7792347430172489,0.7747092737400065,0.7769220666383786,0.7823040552827787,0.7853331582173191,0.7872026563752332,0.7889746283836118],\"type\":\"scatter\",\"xaxis\":\"x\",\"yaxis\":\"y\"},{\"legendgroup\":\"mlp\\u002fsimple\",\"line\":{\"color\":\"#636EFA\"},\"name\":\"MLP + Pruning\",\"showlegend\":false,\"x\":[\"40%\",\"50%\",\"60%\",\"70%\",\"80%\",\"90%\",\"100%\"],\"y\":[0.0591201782226562,0.0606117248535156,0.0633869171142578,0.0617978572845459,0.0620739459991455,0.0604522228240966,0.0],\"type\":\"scatter\",\"xaxis\":\"x2\",\"yaxis\":\"y2\"},{\"error_y\":{\"array\":[0.014866113820707,0.0185102781545169,0.0166372396421098,0.0158082046209189,0.0102428707117972,0.0169024206911577,0.0193646043720811],\"type\":\"data\",\"visible\":true},\"legendgroup\":\"mlp\\u002fsimple_nd\",\"line\":{\"color\":\"#EF553B\"},\"name\":\"mlp\\u002fsimple_nd\",\"showlegend\":true,\"x\":[\"40%\",\"50%\",\"60%\",\"70%\",\"80%\",\"90%\",\"100%\"],\"y\":[0.781630936264506,0.7804773258437561,0.7903635004344224,0.7936258444296269,0.7958422743529127,0.7928046176745941,0.7961199005879858],\"type\":\"scatter\",\"xaxis\":\"x\",\"yaxis\":\"y\"},{\"legendgroup\":\"mlp\\u002fsimple_nd\",\"line\":{\"color\":\"#EF553B\"},\"name\":\"mlp\\u002fsimple_nd\",\"showlegend\":false,\"x\":[\"40%\",\"50%\",\"60%\",\"70%\",\"80%\",\"90%\",\"100%\"],\"y\":[0.0559301376342773,0.0612425804138183,0.0596685409545898,0.060122013092041,0.0586850643157959,0.0607342720031738,0.0],\"type\":\"scatter\",\"xaxis\":\"x2\",\"yaxis\":\"y2\"},{\"error_y\":{\"array\":[0.0251331649927161,0.0158886021785878,0.0069471798576538,0.0151372087811619,0.0113600815904581,0.0128492623097019,0.014609529671937],\"type\":\"data\",\"visible\":true},\"legendgroup\":\"mlp\\u002fsimple_nd_nn\",\"line\":{\"color\":\"#00CC96\"},\"name\":\"mlp\\u002fsimple_nd_nn\",\"showlegend\":true,\"x\":[\"40%\",\"50%\",\"60%\",\"70%\",\"80%\",\"90%\",\"100%\"],\"y\":[0.7680701541694449,0.7638192129208677,0.7694806463127976,0.7758244933422238,0.7798276454304822,0.7772435392293549,0.782831828009133],\"type\":\"scatter\",\"xaxis\":\"x\",\"yaxis\":\"y\"},{\"legendgroup\":\"mlp\\u002fsimple_nd_nn\",\"line\":{\"color\":\"#00CC96\"},\"name\":\"mlp\\u002fsimple_nd_nn\",\"showlegend\":false,\"x\":[\"40%\",\"50%\",\"60%\",\"70%\",\"80%\",\"90%\",\"100%\"],\"y\":[0.0488197803497314,0.0490620136260986,0.0501987934112548,0.050607681274414,0.0492849349975585,0.0510504245758056,0.0],\"type\":\"scatter\",\"xaxis\":\"x2\",\"yaxis\":\"y2\"},{\"error_y\":{\"array\":[0.0357427638380056,0.0361659908098278,0.0310098679809029,0.0246448428213767,0.0182203902704912,0.0213866110935704,0.0214858759523037],\"type\":\"data\",\"visible\":true},\"legendgroup\":\"transformer\\u002fcls\",\"line\":{\"color\":\"#AB63FA\"},\"name\":\"FT-Transformer\",\"showlegend\":true,\"x\":[\"40%\",\"50%\",\"60%\",\"70%\",\"80%\",\"90%\",\"100%\"],\"y\":[0.7856302492709112,0.7831660301873068,0.7920033945565861,0.7950636142598317,0.8088179669030733,0.8100945626477541,0.8188966344049087],\"type\":\"scatter\",\"xaxis\":\"x\",\"yaxis\":\"y\"},{\"legendgroup\":\"transformer\\u002fcls\",\"line\":{\"color\":\"#AB63FA\"},\"name\":\"FT-Transformer\",\"showlegend\":false,\"x\":[\"40%\",\"50%\",\"60%\",\"70%\",\"80%\",\"90%\",\"100%\"],\"y\":[0.2001123428344726,0.2571408748626709,0.2863972187042236,0.318232774734497,0.3588943481445312,0.4428045749664306,0.0],\"type\":\"scatter\",\"xaxis\":\"x2\",\"yaxis\":\"y2\"},{\"error_y\":{\"array\":[0.0151742840558764,0.0123032299030652,0.0198136371783497,0.0187467302346873,0.0067559104401625,0.0051500024485963,0.0110525999933009],\"type\":\"data\",\"visible\":true},\"legendgroup\":\"xgboost\",\"line\":{\"color\":\"#FFA15A\"},\"name\":\"XGBoost + HS\",\"showlegend\":true,\"x\":[\"40%\",\"50%\",\"60%\",\"70%\",\"80%\",\"90%\",\"100%\"],\"y\":[0.8073503599981141,0.8080960848100329,0.8117761478517981,0.8134064105931718,0.8138952536824877,0.8131433324577533,0.817069904965886],\"type\":\"scatter\",\"xaxis\":\"x\",\"yaxis\":\"y\"},{\"legendgroup\":\"xgboost\",\"line\":{\"color\":\"#FFA15A\"},\"name\":\"XGBoost + HS\",\"showlegend\":false,\"x\":[\"40%\",\"50%\",\"60%\",\"70%\",\"80%\",\"90%\",\"100%\"],\"y\":[1.5103738307952879,1.578972816467285,1.893264293670654,1.9147195816040037,2.285344123840332,2.093585729598999,0.0],\"type\":\"scatter\",\"xaxis\":\"x2\",\"yaxis\":\"y2\"},{\"error_y\":{\"array\":[0.0180678983091205,0.0232288802323077,0.0173482004414527,0.0247228717451696,0.0067559104401625,0.0075811584453813,0.0110525999933009],\"type\":\"data\",\"visible\":true},\"legendgroup\":\"xgboost\\u002fbest\",\"line\":{\"color\":\"#19D3F3\"},\"name\":\"XGBoost\",\"showlegend\":true,\"x\":[\"40%\",\"50%\",\"60%\",\"70%\",\"80%\",\"90%\",\"100%\"],\"y\":[0.8027055424218545,0.8042561273766948,0.8029569686070868,0.8068165929158837,0.8138952536824877,0.8108970654597132,0.817069904965886],\"type\":\"scatter\",\"xaxis\":\"x\",\"yaxis\":\"y\"},{\"legendgroup\":\"xgboost\\u002fbest\",\"line\":{\"color\":\"#19D3F3\"},\"name\":\"XGBoost\",\"showlegend\":false,\"x\":[\"40%\",\"50%\",\"60%\",\"70%\",\"80%\",\"90%\",\"100%\"],\"y\":[0.4578886032104492,0.4717321395874022,0.5708532333374023,0.5438611507415771,0.6662399768829345,0.6039924621582031,0.0],\"type\":\"scatter\",\"xaxis\":\"x2\",\"yaxis\":\"y2\"},{\"error_y\":{\"array\":[0.0075149380904508,0.0158563234532736,0.0241647506405432,0.0163562826921842,0.0096540097780044,0.0149047544024827,0.0077531169530006],\"type\":\"data\",\"visible\":true},\"legendgroup\":\"mlp\\u002fsimple\",\"line\":{\"color\":\"#636EFA\"},\"name\":\"MLP + Pruning\",\"showlegend\":false,\"x\":[\"40%\",\"50%\",\"60%\",\"70%\",\"80%\",\"90%\",\"100%\"],\"y\":[0.8546852449393054,0.8694445752577847,0.8928944708978284,0.9082101211713552,0.921474354754001,0.9339844877709134,0.939123989686676],\"type\":\"scatter\",\"xaxis\":\"x3\",\"yaxis\":\"y3\"},{\"legendgroup\":\"mlp\\u002fsimple\",\"line\":{\"color\":\"#636EFA\"},\"name\":\"MLP + Pruning\",\"showlegend\":false,\"x\":[\"40%\",\"50%\",\"60%\",\"70%\",\"80%\",\"90%\",\"100%\"],\"y\":[0.5954294204711914,0.6040639877319336,0.5937082767486572,0.5767486095428467,0.6017589569091797,0.5818426609039307,0.0],\"type\":\"scatter\",\"xaxis\":\"x4\",\"yaxis\":\"y4\"},{\"error_y\":{\"array\":[0.013424910380224,0.0131089675560938,0.0281680770692624,0.0150370518006218,0.0177219969420504,0.0196800670084609,0.0078495068175611],\"type\":\"data\",\"visible\":true},\"legendgroup\":\"mlp\\u002fsimple_nd\",\"line\":{\"color\":\"#EF553B\"},\"name\":\"mlp\\u002fsimple_nd\",\"showlegend\":false,\"x\":[\"40%\",\"50%\",\"60%\",\"70%\",\"80%\",\"90%\",\"100%\"],\"y\":[0.852709647629308,0.8694092438761836,0.8892645407144883,0.9061227675095764,0.9162127777076918,0.9283612398422876,0.9327229371507284],\"type\":\"scatter\",\"xaxis\":\"x3\",\"yaxis\":\"y3\"},{\"legendgroup\":\"mlp\\u002fsimple_nd\",\"line\":{\"color\":\"#EF553B\"},\"name\":\"mlp\\u002fsimple_nd\",\"showlegend\":false,\"x\":[\"40%\",\"50%\",\"60%\",\"70%\",\"80%\",\"90%\",\"100%\"],\"y\":[0.7877011299133301,0.8148548603057861,0.813762903213501,0.8458552360534668,0.8196213245391846,0.7916591167449951,0.0],\"type\":\"scatter\",\"xaxis\":\"x4\",\"yaxis\":\"y4\"},{\"error_y\":{\"array\":[0.0194965610428661,0.0156798167080584,0.0264785137804415,0.0191628986239446,0.0191335494795714,0.0235678927995554,0.0033290557269307],\"type\":\"data\",\"visible\":true},\"legendgroup\":\"mlp\\u002fsimple_nd_nn\",\"line\":{\"color\":\"#00CC96\"},\"name\":\"mlp\\u002fsimple_nd_nn\",\"showlegend\":false,\"x\":[\"40%\",\"50%\",\"60%\",\"70%\",\"80%\",\"90%\",\"100%\"],\"y\":[0.8336108980940358,0.8512036295738845,0.8759161529763346,0.8943195226835978,0.9056371127018286,0.913358084622486,0.9284217432216144],\"type\":\"scatter\",\"xaxis\":\"x3\",\"yaxis\":\"y3\"},{\"legendgroup\":\"mlp\\u002fsimple_nd_nn\",\"line\":{\"color\":\"#00CC96\"},\"name\":\"mlp\\u002fsimple_nd_nn\",\"showlegend\":false,\"x\":[\"40%\",\"50%\",\"60%\",\"70%\",\"80%\",\"90%\",\"100%\"],\"y\":[0.6483502388000488,0.6584146022796631,0.6512653827667236,0.672579288482666,0.6694786548614502,0.6382932662963867,0.0],\"type\":\"scatter\",\"xaxis\":\"x4\",\"yaxis\":\"y4\"},{\"error_y\":{\"array\":[0.0671904276878262,0.0526972758729694,0.0191123524913595,0.0136462447926337,0.00891661357975,0.0122677645723312,0.0039260374026758],\"type\":\"data\",\"visible\":true},\"legendgroup\":\"transformer\\u002fcls\",\"line\":{\"color\":\"#AB63FA\"},\"name\":\"FT-Transformer\",\"showlegend\":false,\"x\":[\"40%\",\"50%\",\"60%\",\"70%\",\"80%\",\"90%\",\"100%\"],\"y\":[0.8361415977130637,0.8550575812108863,0.883914657640316,0.9083023731114144,0.9264697236648576,0.9374452756933772,0.9515906614413944],\"type\":\"scatter\",\"xaxis\":\"x3\",\"yaxis\":\"y3\"},{\"legendgroup\":\"transformer\\u002fcls\",\"line\":{\"color\":\"#AB63FA\"},\"name\":\"FT-Transformer\",\"showlegend\":false,\"x\":[\"40%\",\"50%\",\"60%\",\"70%\",\"80%\",\"90%\",\"100%\"],\"y\":[2.0784597396850586,2.270930528640747,2.8707661628723145,3.199491262435913,3.7189512252807617,4.164136171340942,0.0],\"type\":\"scatter\",\"xaxis\":\"x4\",\"yaxis\":\"y4\"},{\"error_y\":{\"array\":[0.0036743921884428,0.004857546326332,0.0039493179342839,0.004453431303619,0.0037536780994993,0.0033107253802501,0.0029036682691582],\"type\":\"data\",\"visible\":true},\"legendgroup\":\"xgboost\",\"line\":{\"color\":\"#FFA15A\"},\"name\":\"XGBoost + HS\",\"showlegend\":false,\"x\":[\"40%\",\"50%\",\"60%\",\"70%\",\"80%\",\"90%\",\"100%\"],\"y\":[0.958669501254376,0.9601280311036214,0.9593297794460198,0.9599241583705272,0.9617586678570592,0.9617102925737958,0.9616603466994716],\"type\":\"scatter\",\"xaxis\":\"x3\",\"yaxis\":\"y3\"},{\"legendgroup\":\"xgboost\",\"line\":{\"color\":\"#FFA15A\"},\"name\":\"XGBoost + HS\",\"showlegend\":false,\"x\":[\"40%\",\"50%\",\"60%\",\"70%\",\"80%\",\"90%\",\"100%\"],\"y\":[13.713891506195068,16.020349979400635,18.73860192298889,19.089399814605713,23.159655570983887,24.00521421432495,0.0],\"type\":\"scatter\",\"xaxis\":\"x4\",\"yaxis\":\"y4\"},{\"error_y\":{\"array\":[0.0041711239155349,0.0030268025650567,0.0044701580012521,0.0027719680814697,0.0036762697699708,0.0034798945738447,0.0029036682691582],\"type\":\"data\",\"visible\":true},\"legendgroup\":\"xgboost\\u002fbest\",\"line\":{\"color\":\"#19D3F3\"},\"name\":\"XGBoost\",\"showlegend\":false,\"x\":[\"40%\",\"50%\",\"60%\",\"70%\",\"80%\",\"90%\",\"100%\"],\"y\":[0.957836684009178,0.9588872086736416,0.9585588518873894,0.9597731514654396,0.960481825522884,0.960571043287414,0.9616603466994716],\"type\":\"scatter\",\"xaxis\":\"x3\",\"yaxis\":\"y3\"},{\"legendgroup\":\"xgboost\\u002fbest\",\"line\":{\"color\":\"#19D3F3\"},\"name\":\"XGBoost\",\"showlegend\":false,\"x\":[\"40%\",\"50%\",\"60%\",\"70%\",\"80%\",\"90%\",\"100%\"],\"y\":[4.589039325714111,5.407276630401611,6.081858158111572,6.374051332473755,7.5460264682769775,7.724113941192627,0.0],\"type\":\"scatter\",\"xaxis\":\"x4\",\"yaxis\":\"y4\"},{\"error_y\":{\"array\":[0.003799569765736,0.0055858327872489,0.0098826231993549,0.0077217716035722,0.003141138670311,0.0028897271278467,0.0017257331657692],\"type\":\"data\",\"visible\":true},\"legendgroup\":\"mlp\\u002fsimple\",\"line\":{\"color\":\"#636EFA\"},\"name\":\"MLP + Pruning\",\"showlegend\":false,\"x\":[\"40%\",\"50%\",\"60%\",\"70%\",\"80%\",\"90%\",\"100%\"],\"y\":[0.976383401435784,0.9804612874264784,0.9808330346383742,0.982523113300403,0.9919014409044824,0.9944637316046576,0.996818642661833],\"type\":\"scatter\",\"xaxis\":\"x5\",\"yaxis\":\"y5\"},{\"legendgroup\":\"mlp\\u002fsimple\",\"line\":{\"color\":\"#636EFA\"},\"name\":\"MLP + Pruning\",\"showlegend\":false,\"x\":[\"40%\",\"50%\",\"60%\",\"70%\",\"80%\",\"90%\",\"100%\"],\"y\":[0.055783987045288,0.0577948093414306,0.0586235523223876,0.0578052997589111,0.0627408027648925,0.0627825260162353,0.0],\"type\":\"scatter\",\"xaxis\":\"x6\",\"yaxis\":\"y6\"},{\"error_y\":{\"array\":[0.0037319785939009,0.0022140998060871,0.0047751644141504,0.0067214498352528,0.0028192287775262,0.0024038849322489,0.0029561293270624],\"type\":\"data\",\"visible\":true},\"legendgroup\":\"mlp\\u002fsimple_nd\",\"line\":{\"color\":\"#EF553B\"},\"name\":\"mlp\\u002fsimple_nd\",\"showlegend\":false,\"x\":[\"40%\",\"50%\",\"60%\",\"70%\",\"80%\",\"90%\",\"100%\"],\"y\":[0.9740284903786088,0.9814980263374992,0.9823244726184908,0.9796778532195904,0.9902569686956304,0.993557087149517,0.9971903898737288],\"type\":\"scatter\",\"xaxis\":\"x5\",\"yaxis\":\"y5\"},{\"legendgroup\":\"mlp\\u002fsimple_nd\",\"line\":{\"color\":\"#EF553B\"},\"name\":\"mlp\\u002fsimple_nd\",\"showlegend\":false,\"x\":[\"40%\",\"50%\",\"60%\",\"70%\",\"80%\",\"90%\",\"100%\"],\"y\":[0.0609545707702636,0.0664882659912109,0.0580799579620361,0.0599377155303955,0.0560424327850341,0.0600335597991943,0.0],\"type\":\"scatter\",\"xaxis\":\"x6\",\"yaxis\":\"y6\"},{\"error_y\":{\"array\":[0.0129764594971262,0.0105443653632088,0.0122354507154591,0.0171310064951519,0.0124877563749027,0.0128817469958076,0.0072061708684216],\"type\":\"data\",\"visible\":true},\"legendgroup\":\"mlp\\u002fsimple_nd_nn\",\"line\":{\"color\":\"#00CC96\"},\"name\":\"mlp\\u002fsimple_nd_nn\",\"showlegend\":false,\"x\":[\"40%\",\"50%\",\"60%\",\"70%\",\"80%\",\"90%\",\"100%\"],\"y\":[0.9614257933622584,0.9556005703082416,0.9440232788627516,0.9384412447102544,0.9591010248935224,0.9618292193080974,0.9707612681962126],\"type\":\"scatter\",\"xaxis\":\"x5\",\"yaxis\":\"y5\"},{\"legendgroup\":\"mlp\\u002fsimple_nd_nn\",\"line\":{\"color\":\"#00CC96\"},\"name\":\"mlp\\u002fsimple_nd_nn\",\"showlegend\":false,\"x\":[\"40%\",\"50%\",\"60%\",\"70%\",\"80%\",\"90%\",\"100%\"],\"y\":[0.0621533393859863,0.0641872882843017,0.0659294128417968,0.06394624710083,0.0656807422637939,0.062852144241333,0.0],\"type\":\"scatter\",\"xaxis\":\"x6\",\"yaxis\":\"y6\"},{\"error_y\":{\"array\":[0.0384674720066998,0.0142115234737539,0.0117984582685664,0.0206262447475325,0.0054338272951215,0.0018152485887774,0.0016552047995406],\"type\":\"data\",\"visible\":true},\"legendgroup\":\"transformer\\u002fcls\",\"line\":{\"color\":\"#AB63FA\"},\"name\":\"FT-Transformer\",\"showlegend\":false,\"x\":[\"40%\",\"50%\",\"60%\",\"70%\",\"80%\",\"90%\",\"100%\"],\"y\":[0.9318387320313648,0.9626884025566012,0.965124888629451,0.96913269224861,0.993967556606962,0.997148913945129,0.9983885833666164],\"type\":\"scatter\",\"xaxis\":\"x5\",\"yaxis\":\"y5\"},{\"legendgroup\":\"transformer\\u002fcls\",\"line\":{\"color\":\"#AB63FA\"},\"name\":\"FT-Transformer\",\"showlegend\":false,\"x\":[\"40%\",\"50%\",\"60%\",\"70%\",\"80%\",\"90%\",\"100%\"],\"y\":[0.2752139568328857,0.28619384765625,0.2787444591522217,0.2734544277191162,0.307605504989624,0.2756044864654541,0.0],\"type\":\"scatter\",\"xaxis\":\"x6\",\"yaxis\":\"y6\"},{\"error_y\":{\"array\":[0.0043696701607844,0.0035981569460021,0.0030684932685904,0.0036191438339314,0.0025000703181729,0.0018645114365363,0.0020476882946097],\"type\":\"data\",\"visible\":true},\"legendgroup\":\"xgboost\",\"line\":{\"color\":\"#FFA15A\"},\"name\":\"XGBoost + HS\",\"showlegend\":false,\"x\":[\"40%\",\"50%\",\"60%\",\"70%\",\"80%\",\"90%\",\"100%\"],\"y\":[0.9792301976621004,0.9870300049042868,0.989467867818662,0.9917799261057118,0.9944222556760576,0.9940090325355616,0.9936787612522656],\"type\":\"scatter\",\"xaxis\":\"x5\",\"yaxis\":\"y5\"},{\"legendgroup\":\"xgboost\",\"line\":{\"color\":\"#FFA15A\"},\"name\":\"XGBoost + HS\",\"showlegend\":false,\"x\":[\"40%\",\"50%\",\"60%\",\"70%\",\"80%\",\"90%\",\"100%\"],\"y\":[1.3263609409332273,1.3913381099700926,1.621930122375488,1.4822919368743896,1.8494210243225093,1.6020474433898924,0.0],\"type\":\"scatter\",\"xaxis\":\"x6\",\"yaxis\":\"y6\"},{\"error_y\":{\"array\":[0.0049303139041921,0.0035981569460021,0.0031256339608252,0.0041482559709829,0.0022783658335483,0.0020476882946097,0.0020476882946097],\"type\":\"data\",\"visible\":true},\"legendgroup\":\"xgboost\\u002fbest\",\"line\":{\"color\":\"#19D3F3\"},\"name\":\"XGBoost\",\"showlegend\":false,\"x\":[\"40%\",\"50%\",\"60%\",\"70%\",\"80%\",\"90%\",\"100%\"],\"y\":[0.97885982729173,0.9870300049042868,0.989096120606766,0.9890131687495662,0.9940505084641618,0.9936787612522656,0.9936787612522656],\"type\":\"scatter\",\"xaxis\":\"x5\",\"yaxis\":\"y5\"},{\"legendgroup\":\"xgboost\\u002fbest\",\"line\":{\"color\":\"#19D3F3\"},\"name\":\"XGBoost\",\"showlegend\":false,\"x\":[\"40%\",\"50%\",\"60%\",\"70%\",\"80%\",\"90%\",\"100%\"],\"y\":[0.2873814105987549,0.3038392066955566,0.3550183773040771,0.3087327480316162,0.38178825378417963,0.3324794769287108,0.0],\"type\":\"scatter\",\"xaxis\":\"x6\",\"yaxis\":\"y6\"},{\"error_y\":{\"array\":[0.003695420456107,0.0034549767152934,0.0058097161812468,0.0041023160774609,0.0039510444183405,0.0035846378116915,0.005592043733897],\"type\":\"data\",\"visible\":true},\"legendgroup\":\"mlp\\u002fsimple\",\"line\":{\"color\":\"#636EFA\"},\"name\":\"MLP + Pruning\",\"showlegend\":false,\"x\":[\"40%\",\"50%\",\"60%\",\"70%\",\"80%\",\"90%\",\"100%\"],\"y\":[0.9246781925549306,0.9258977339605792,0.92883294405911,0.923947701279306,0.927863259920372,0.9266484866606356,0.9281101122577924],\"type\":\"scatter\",\"xaxis\":\"x7\",\"yaxis\":\"y7\"},{\"legendgroup\":\"mlp\\u002fsimple\",\"line\":{\"color\":\"#636EFA\"},\"name\":\"MLP + Pruning\",\"showlegend\":false,\"x\":[\"40%\",\"50%\",\"60%\",\"70%\",\"80%\",\"90%\",\"100%\"],\"y\":[0.1001510620117187,0.0990970134735107,0.1001887321472168,0.1046216487884521,0.1029067039489746,0.1024727821350097,0.0],\"type\":\"scatter\",\"xaxis\":\"x8\",\"yaxis\":\"y8\"},{\"error_y\":{\"array\":[0.0065345656300645,0.0072630319345703,0.0082086747090777,0.0063251276576301,0.0022718165472424,0.0032885385534181,0.0055595317958259],\"type\":\"data\",\"visible\":true},\"legendgroup\":\"mlp\\u002fsimple_nd\",\"line\":{\"color\":\"#EF553B\"},\"name\":\"mlp\\u002fsimple_nd\",\"showlegend\":false,\"x\":[\"40%\",\"50%\",\"60%\",\"70%\",\"80%\",\"90%\",\"100%\"],\"y\":[0.9239399021712033,0.9263759623864468,0.931266563443317,0.9273694596932082,0.9283522226518708,0.927133888730326,0.9234627591772708],\"type\":\"scatter\",\"xaxis\":\"x7\",\"yaxis\":\"y7\"},{\"legendgroup\":\"mlp\\u002fsimple_nd\",\"line\":{\"color\":\"#EF553B\"},\"name\":\"mlp\\u002fsimple_nd\",\"showlegend\":false,\"x\":[\"40%\",\"50%\",\"60%\",\"70%\",\"80%\",\"90%\",\"100%\"],\"y\":[0.0930392742156982,0.0986027717590332,0.0929510593414306,0.0932085514068603,0.0956790447235107,0.094940185546875,0.0],\"type\":\"scatter\",\"xaxis\":\"x8\",\"yaxis\":\"y8\"},{\"error_y\":{\"array\":[0.0114302506580098,0.0121989831345961,0.0126107516387362,0.0113098882114334,0.0107000474312934,0.0103522892599173,0.0099339122095401],\"type\":\"data\",\"visible\":true},\"legendgroup\":\"mlp\\u002fsimple_nd_nn\",\"line\":{\"color\":\"#00CC96\"},\"name\":\"mlp\\u002fsimple_nd_nn\",\"showlegend\":false,\"x\":[\"40%\",\"50%\",\"60%\",\"70%\",\"80%\",\"90%\",\"100%\"],\"y\":[0.9162135129118404,0.9162135303660648,0.9171867837450864,0.9149892386509378,0.9140112347925672,0.914496662937425,0.9137661280050056],\"type\":\"scatter\",\"xaxis\":\"x7\",\"yaxis\":\"y7\"},{\"legendgroup\":\"mlp\\u002fsimple_nd_nn\",\"line\":{\"color\":\"#00CC96\"},\"name\":\"mlp\\u002fsimple_nd_nn\",\"showlegend\":false,\"x\":[\"40%\",\"50%\",\"60%\",\"70%\",\"80%\",\"90%\",\"100%\"],\"y\":[0.0805613994598388,0.0820703506469726,0.082179307937622,0.0811967849731445,0.0833351612091064,0.0812194347381591,0.0],\"type\":\"scatter\",\"xaxis\":\"x8\",\"yaxis\":\"y8\"},{\"error_y\":{\"array\":[0.006593112834916,0.0091985571980927,0.0101046517899453,0.0095107456138546,0.0107598787351252,0.0121732448951482,0.0040443647168101],\"type\":\"data\",\"visible\":true},\"legendgroup\":\"transformer\\u002fcls\",\"line\":{\"color\":\"#AB63FA\"},\"name\":\"FT-Transformer\",\"showlegend\":false,\"x\":[\"40%\",\"50%\",\"60%\",\"70%\",\"80%\",\"90%\",\"100%\"],\"y\":[0.9413322400295854,0.943044912668726,0.943529750342688,0.9408456046129624,0.9454923235233252,0.9432959682042498,0.9489022015133186],\"type\":\"scatter\",\"xaxis\":\"x7\",\"yaxis\":\"y7\"},{\"legendgroup\":\"transformer\\u002fcls\",\"line\":{\"color\":\"#AB63FA\"},\"name\":\"FT-Transformer\",\"showlegend\":false,\"x\":[\"40%\",\"50%\",\"60%\",\"70%\",\"80%\",\"90%\",\"100%\"],\"y\":[0.550870418548584,0.5537593364715576,0.6103973388671875,0.5237472057342529,0.5350468158721924,0.5420365333557129,0.0],\"type\":\"scatter\",\"xaxis\":\"x8\",\"yaxis\":\"y8\"},{\"error_y\":{\"array\":[0.0050499406507988,0.0056680188658231,0.0068311915892583,0.0041548962404373,0.0060094944462677,0.0070791820179231,0.0062324745799163],\"type\":\"data\",\"visible\":true},\"legendgroup\":\"xgboost\",\"line\":{\"color\":\"#FFA15A\"},\"name\":\"XGBoost + HS\",\"showlegend\":false,\"x\":[\"40%\",\"50%\",\"60%\",\"70%\",\"80%\",\"90%\",\"100%\"],\"y\":[0.952097421249503,0.9520992190770996,0.9474543065303408,0.9472008538205756,0.9467100671863128,0.9459777519229892,0.9442716275058588],\"type\":\"scatter\",\"xaxis\":\"x7\",\"yaxis\":\"y7\"},{\"legendgroup\":\"xgboost\",\"line\":{\"color\":\"#FFA15A\"},\"name\":\"XGBoost + HS\",\"showlegend\":false,\"x\":[\"40%\",\"50%\",\"60%\",\"70%\",\"80%\",\"90%\",\"100%\"],\"y\":[2.164064407348633,2.2729043960571285,2.7948687076568604,2.555449485778808,3.1719233989715576,2.8875067234039307,0.0],\"type\":\"scatter\",\"xaxis\":\"x8\",\"yaxis\":\"y8\"},{\"error_y\":{\"array\":[0.0046034217693199,0.0047529065145226,0.0068311915892583,0.0041548962404373,0.0097521732247499,0.0075775174037392,0.0062324745799163],\"type\":\"data\",\"visible\":true},\"legendgroup\":\"xgboost\\u002fbest\",\"line\":{\"color\":\"#19D3F3\"},\"name\":\"XGBoost\",\"showlegend\":false,\"x\":[\"40%\",\"50%\",\"60%\",\"70%\",\"80%\",\"90%\",\"100%\"],\"y\":[0.9503817437658072,0.9501360551707604,0.9474543065303408,0.9472008538205756,0.9449985756588348,0.9447636039151944,0.9442716275058588],\"type\":\"scatter\",\"xaxis\":\"x7\",\"yaxis\":\"y7\"},{\"legendgroup\":\"xgboost\\u002fbest\",\"line\":{\"color\":\"#19D3F3\"},\"name\":\"XGBoost\",\"showlegend\":false,\"x\":[\"40%\",\"50%\",\"60%\",\"70%\",\"80%\",\"90%\",\"100%\"],\"y\":[0.5776875019073486,0.6150519847869872,0.78485107421875,0.7202284336090087,0.8566913604736327,0.8133463859558104,0.0],\"type\":\"scatter\",\"xaxis\":\"x8\",\"yaxis\":\"y8\"},{\"error_y\":{\"array\":[0.0732166269356317,0.0125985824819709,0.0087997900036531,0.0064944351150389,0.0186804397142424,0.0117299788554154,0.0222816930936095],\"type\":\"data\",\"visible\":true},\"legendgroup\":\"mlp\\u002fsimple\",\"line\":{\"color\":\"#636EFA\"},\"name\":\"MLP + Pruning\",\"showlegend\":false,\"x\":[\"40%\",\"50%\",\"60%\",\"70%\",\"80%\",\"90%\",\"100%\"],\"y\":[0.8107752727743662,0.8519553200444641,0.8515130316536978,0.8498472463549142,0.854111225029409,0.8532818398644493,0.8578485414260892],\"type\":\"scatter\",\"xaxis\":\"x9\",\"yaxis\":\"y9\"},{\"legendgroup\":\"mlp\\u002fsimple\",\"line\":{\"color\":\"#636EFA\"},\"name\":\"MLP + Pruning\",\"showlegend\":false,\"x\":[\"40%\",\"50%\",\"60%\",\"70%\",\"80%\",\"90%\",\"100%\"],\"y\":[0.021634817123413,0.021346092224121,0.0223486423492431,0.0224397182464599,0.0230329036712646,0.0229101181030273,0.0],\"type\":\"scatter\",\"xaxis\":\"x10\",\"yaxis\":\"y10\"},{\"error_y\":{\"array\":[0.0833030712384819,0.0163689898546811,0.0202401512570449,0.0167352602577482,0.0192278036183968,0.0166526420575452,0.0260254268999879],\"type\":\"data\",\"visible\":true},\"legendgroup\":\"mlp\\u002fsimple_nd\",\"line\":{\"color\":\"#EF553B\"},\"name\":\"mlp\\u002fsimple_nd\",\"showlegend\":false,\"x\":[\"40%\",\"50%\",\"60%\",\"70%\",\"80%\",\"90%\",\"100%\"],\"y\":[0.8023757649014127,0.8454072675077434,0.8494022167301611,0.8493878414401191,0.860062616691309,0.8621298740543282,0.847512254610993],\"type\":\"scatter\",\"xaxis\":\"x9\",\"yaxis\":\"y9\"},{\"legendgroup\":\"mlp\\u002fsimple_nd\",\"line\":{\"color\":\"#EF553B\"},\"name\":\"mlp\\u002fsimple_nd\",\"showlegend\":false,\"x\":[\"40%\",\"50%\",\"60%\",\"70%\",\"80%\",\"90%\",\"100%\"],\"y\":[0.0168006420135498,0.0162570476531982,0.0162162780761718,0.0169670581817626,0.0161225795745849,0.0183312892913818,0.0],\"type\":\"scatter\",\"xaxis\":\"x10\",\"yaxis\":\"y10\"},{\"error_y\":{\"array\":[0.0641992664396134,0.0175681854069636,0.0136789262437422,0.0102735531611494,0.0200138668387121,0.0088466240695938,0.0242649371958881],\"type\":\"data\",\"visible\":true},\"legendgroup\":\"mlp\\u002fsimple_nd_nn\",\"line\":{\"color\":\"#00CC96\"},\"name\":\"mlp\\u002fsimple_nd_nn\",\"showlegend\":false,\"x\":[\"40%\",\"50%\",\"60%\",\"70%\",\"80%\",\"90%\",\"100%\"],\"y\":[0.8191065088118801,0.8600248869510786,0.8653443918021994,0.8633035754756688,0.8720720491263666,0.8683845282163632,0.8581563150908169],\"type\":\"scatter\",\"xaxis\":\"x9\",\"yaxis\":\"y9\"},{\"legendgroup\":\"mlp\\u002fsimple_nd_nn\",\"line\":{\"color\":\"#00CC96\"},\"name\":\"mlp\\u002fsimple_nd_nn\",\"showlegend\":false,\"x\":[\"40%\",\"50%\",\"60%\",\"70%\",\"80%\",\"90%\",\"100%\"],\"y\":[0.0145463943481445,0.0142269134521484,0.0136859416961669,0.0139803886413574,0.0139036178588867,0.0148794651031494,0.0],\"type\":\"scatter\",\"xaxis\":\"x10\",\"yaxis\":\"y10\"},{\"error_y\":{\"array\":[0.0787160734571051,0.0087701330368178,0.0085882387862869,0.0086806934716526,0.0121151076953782,0.0265152114761446,0.0342219643308065],\"type\":\"data\",\"visible\":true},\"legendgroup\":\"transformer\\u002fcls\",\"line\":{\"color\":\"#AB63FA\"},\"name\":\"FT-Transformer\",\"showlegend\":false,\"x\":[\"40%\",\"50%\",\"60%\",\"70%\",\"80%\",\"90%\",\"100%\"],\"y\":[0.8165387927778198,0.8592553988279606,0.859228957791472,0.8571881414649415,0.8736367757044647,0.8566227349744763,0.8719538738816521],\"type\":\"scatter\",\"xaxis\":\"x9\",\"yaxis\":\"y9\"},{\"legendgroup\":\"transformer\\u002fcls\",\"line\":{\"color\":\"#AB63FA\"},\"name\":\"FT-Transformer\",\"showlegend\":false,\"x\":[\"40%\",\"50%\",\"60%\",\"70%\",\"80%\",\"90%\",\"100%\"],\"y\":[0.0956358909606933,0.0956969261169433,0.0945017337799072,0.0927715301513671,0.0976369380950927,0.1001276969909668,0.0],\"type\":\"scatter\",\"xaxis\":\"x10\",\"yaxis\":\"y10\"},{\"error_y\":{\"array\":[0.0739568931664551,0.0487039448678069,0.0330116716318555,0.0412423548359727,0.0162631794675262,0.026188475487018,0.0286559374868908],\"type\":\"data\",\"visible\":true},\"legendgroup\":\"xgboost\",\"line\":{\"color\":\"#FFA15A\"},\"name\":\"XGBoost + HS\",\"showlegend\":false,\"x\":[\"40%\",\"50%\",\"60%\",\"70%\",\"80%\",\"90%\",\"100%\"],\"y\":[0.8100754378959409,0.8337411368566464,0.8320730420142674,0.8349381927281753,0.864584228191541,0.8700331969911179,0.8565982581292696],\"type\":\"scatter\",\"xaxis\":\"x9\",\"yaxis\":\"y9\"},{\"legendgroup\":\"xgboost\",\"line\":{\"color\":\"#FFA15A\"},\"name\":\"XGBoost + HS\",\"showlegend\":false,\"x\":[\"40%\",\"50%\",\"60%\",\"70%\",\"80%\",\"90%\",\"100%\"],\"y\":[0.5681929588317867,0.5558414459228515,0.5847852230072019,0.6023807525634762,0.6714065074920651,0.7002396583557124,0.0],\"type\":\"scatter\",\"xaxis\":\"x10\",\"yaxis\":\"y10\"},{\"error_y\":{\"array\":[0.0649157893562319,0.0487039448678069,0.0330116716318555,0.0412423548359727,0.0162631794675262,0.026188475487018,0.0286559374868908],\"type\":\"data\",\"visible\":true},\"legendgroup\":\"xgboost\\u002fbest\",\"line\":{\"color\":\"#19D3F3\"},\"name\":\"XGBoost\",\"showlegend\":false,\"x\":[\"40%\",\"50%\",\"60%\",\"70%\",\"80%\",\"90%\",\"100%\"],\"y\":[0.8097050259553848,0.8337411368566464,0.8320730420142674,0.8349381927281753,0.864584228191541,0.8700331969911179,0.8565982581292696],\"type\":\"scatter\",\"xaxis\":\"x9\",\"yaxis\":\"y9\"},{\"legendgroup\":\"xgboost\\u002fbest\",\"line\":{\"color\":\"#19D3F3\"},\"name\":\"XGBoost\",\"showlegend\":false,\"x\":[\"40%\",\"50%\",\"60%\",\"70%\",\"80%\",\"90%\",\"100%\"],\"y\":[0.1157224178314208,0.113152265548706,0.1236507892608642,0.1190090179443358,0.1509082317352294,0.1602578163146971,0.0],\"type\":\"scatter\",\"xaxis\":\"x10\",\"yaxis\":\"y10\"}],                        {\"template\":{\"data\":{\"barpolar\":[{\"marker\":{\"line\":{\"color\":\"white\",\"width\":0.5},\"pattern\":{\"fillmode\":\"overlay\",\"size\":10,\"solidity\":0.2}},\"type\":\"barpolar\"}],\"bar\":[{\"error_x\":{\"color\":\"#2a3f5f\"},\"error_y\":{\"color\":\"#2a3f5f\"},\"marker\":{\"line\":{\"color\":\"white\",\"width\":0.5},\"pattern\":{\"fillmode\":\"overlay\",\"size\":10,\"solidity\":0.2}},\"type\":\"bar\"}],\"carpet\":[{\"aaxis\":{\"endlinecolor\":\"#2a3f5f\",\"gridcolor\":\"#C8D4E3\",\"linecolor\":\"#C8D4E3\",\"minorgridcolor\":\"#C8D4E3\",\"startlinecolor\":\"#2a3f5f\"},\"baxis\":{\"endlinecolor\":\"#2a3f5f\",\"gridcolor\":\"#C8D4E3\",\"linecolor\":\"#C8D4E3\",\"minorgridcolor\":\"#C8D4E3\",\"startlinecolor\":\"#2a3f5f\"},\"type\":\"carpet\"}],\"choropleth\":[{\"colorbar\":{\"outlinewidth\":0,\"ticks\":\"\"},\"type\":\"choropleth\"}],\"contourcarpet\":[{\"colorbar\":{\"outlinewidth\":0,\"ticks\":\"\"},\"type\":\"contourcarpet\"}],\"contour\":[{\"colorbar\":{\"outlinewidth\":0,\"ticks\":\"\"},\"colorscale\":[[0.0,\"#0d0887\"],[0.1111111111111111,\"#46039f\"],[0.2222222222222222,\"#7201a8\"],[0.3333333333333333,\"#9c179e\"],[0.4444444444444444,\"#bd3786\"],[0.5555555555555556,\"#d8576b\"],[0.6666666666666666,\"#ed7953\"],[0.7777777777777778,\"#fb9f3a\"],[0.8888888888888888,\"#fdca26\"],[1.0,\"#f0f921\"]],\"type\":\"contour\"}],\"heatmapgl\":[{\"colorbar\":{\"outlinewidth\":0,\"ticks\":\"\"},\"colorscale\":[[0.0,\"#0d0887\"],[0.1111111111111111,\"#46039f\"],[0.2222222222222222,\"#7201a8\"],[0.3333333333333333,\"#9c179e\"],[0.4444444444444444,\"#bd3786\"],[0.5555555555555556,\"#d8576b\"],[0.6666666666666666,\"#ed7953\"],[0.7777777777777778,\"#fb9f3a\"],[0.8888888888888888,\"#fdca26\"],[1.0,\"#f0f921\"]],\"type\":\"heatmapgl\"}],\"heatmap\":[{\"colorbar\":{\"outlinewidth\":0,\"ticks\":\"\"},\"colorscale\":[[0.0,\"#0d0887\"],[0.1111111111111111,\"#46039f\"],[0.2222222222222222,\"#7201a8\"],[0.3333333333333333,\"#9c179e\"],[0.4444444444444444,\"#bd3786\"],[0.5555555555555556,\"#d8576b\"],[0.6666666666666666,\"#ed7953\"],[0.7777777777777778,\"#fb9f3a\"],[0.8888888888888888,\"#fdca26\"],[1.0,\"#f0f921\"]],\"type\":\"heatmap\"}],\"histogram2dcontour\":[{\"colorbar\":{\"outlinewidth\":0,\"ticks\":\"\"},\"colorscale\":[[0.0,\"#0d0887\"],[0.1111111111111111,\"#46039f\"],[0.2222222222222222,\"#7201a8\"],[0.3333333333333333,\"#9c179e\"],[0.4444444444444444,\"#bd3786\"],[0.5555555555555556,\"#d8576b\"],[0.6666666666666666,\"#ed7953\"],[0.7777777777777778,\"#fb9f3a\"],[0.8888888888888888,\"#fdca26\"],[1.0,\"#f0f921\"]],\"type\":\"histogram2dcontour\"}],\"histogram2d\":[{\"colorbar\":{\"outlinewidth\":0,\"ticks\":\"\"},\"colorscale\":[[0.0,\"#0d0887\"],[0.1111111111111111,\"#46039f\"],[0.2222222222222222,\"#7201a8\"],[0.3333333333333333,\"#9c179e\"],[0.4444444444444444,\"#bd3786\"],[0.5555555555555556,\"#d8576b\"],[0.6666666666666666,\"#ed7953\"],[0.7777777777777778,\"#fb9f3a\"],[0.8888888888888888,\"#fdca26\"],[1.0,\"#f0f921\"]],\"type\":\"histogram2d\"}],\"histogram\":[{\"marker\":{\"pattern\":{\"fillmode\":\"overlay\",\"size\":10,\"solidity\":0.2}},\"type\":\"histogram\"}],\"mesh3d\":[{\"colorbar\":{\"outlinewidth\":0,\"ticks\":\"\"},\"type\":\"mesh3d\"}],\"parcoords\":[{\"line\":{\"colorbar\":{\"outlinewidth\":0,\"ticks\":\"\"}},\"type\":\"parcoords\"}],\"pie\":[{\"automargin\":true,\"type\":\"pie\"}],\"scatter3d\":[{\"line\":{\"colorbar\":{\"outlinewidth\":0,\"ticks\":\"\"}},\"marker\":{\"colorbar\":{\"outlinewidth\":0,\"ticks\":\"\"}},\"type\":\"scatter3d\"}],\"scattercarpet\":[{\"marker\":{\"colorbar\":{\"outlinewidth\":0,\"ticks\":\"\"}},\"type\":\"scattercarpet\"}],\"scattergeo\":[{\"marker\":{\"colorbar\":{\"outlinewidth\":0,\"ticks\":\"\"}},\"type\":\"scattergeo\"}],\"scattergl\":[{\"marker\":{\"colorbar\":{\"outlinewidth\":0,\"ticks\":\"\"}},\"type\":\"scattergl\"}],\"scattermapbox\":[{\"marker\":{\"colorbar\":{\"outlinewidth\":0,\"ticks\":\"\"}},\"type\":\"scattermapbox\"}],\"scatterpolargl\":[{\"marker\":{\"colorbar\":{\"outlinewidth\":0,\"ticks\":\"\"}},\"type\":\"scatterpolargl\"}],\"scatterpolar\":[{\"marker\":{\"colorbar\":{\"outlinewidth\":0,\"ticks\":\"\"}},\"type\":\"scatterpolar\"}],\"scatter\":[{\"fillpattern\":{\"fillmode\":\"overlay\",\"size\":10,\"solidity\":0.2},\"type\":\"scatter\"}],\"scatterternary\":[{\"marker\":{\"colorbar\":{\"outlinewidth\":0,\"ticks\":\"\"}},\"type\":\"scatterternary\"}],\"surface\":[{\"colorbar\":{\"outlinewidth\":0,\"ticks\":\"\"},\"colorscale\":[[0.0,\"#0d0887\"],[0.1111111111111111,\"#46039f\"],[0.2222222222222222,\"#7201a8\"],[0.3333333333333333,\"#9c179e\"],[0.4444444444444444,\"#bd3786\"],[0.5555555555555556,\"#d8576b\"],[0.6666666666666666,\"#ed7953\"],[0.7777777777777778,\"#fb9f3a\"],[0.8888888888888888,\"#fdca26\"],[1.0,\"#f0f921\"]],\"type\":\"surface\"}],\"table\":[{\"cells\":{\"fill\":{\"color\":\"#EBF0F8\"},\"line\":{\"color\":\"white\"}},\"header\":{\"fill\":{\"color\":\"#C8D4E3\"},\"line\":{\"color\":\"white\"}},\"type\":\"table\"}]},\"layout\":{\"annotationdefaults\":{\"arrowcolor\":\"#2a3f5f\",\"arrowhead\":0,\"arrowwidth\":1},\"autotypenumbers\":\"strict\",\"coloraxis\":{\"colorbar\":{\"outlinewidth\":0,\"ticks\":\"\"}},\"colorscale\":{\"diverging\":[[0,\"#8e0152\"],[0.1,\"#c51b7d\"],[0.2,\"#de77ae\"],[0.3,\"#f1b6da\"],[0.4,\"#fde0ef\"],[0.5,\"#f7f7f7\"],[0.6,\"#e6f5d0\"],[0.7,\"#b8e186\"],[0.8,\"#7fbc41\"],[0.9,\"#4d9221\"],[1,\"#276419\"]],\"sequential\":[[0.0,\"#0d0887\"],[0.1111111111111111,\"#46039f\"],[0.2222222222222222,\"#7201a8\"],[0.3333333333333333,\"#9c179e\"],[0.4444444444444444,\"#bd3786\"],[0.5555555555555556,\"#d8576b\"],[0.6666666666666666,\"#ed7953\"],[0.7777777777777778,\"#fb9f3a\"],[0.8888888888888888,\"#fdca26\"],[1.0,\"#f0f921\"]],\"sequentialminus\":[[0.0,\"#0d0887\"],[0.1111111111111111,\"#46039f\"],[0.2222222222222222,\"#7201a8\"],[0.3333333333333333,\"#9c179e\"],[0.4444444444444444,\"#bd3786\"],[0.5555555555555556,\"#d8576b\"],[0.6666666666666666,\"#ed7953\"],[0.7777777777777778,\"#fb9f3a\"],[0.8888888888888888,\"#fdca26\"],[1.0,\"#f0f921\"]]},\"colorway\":[\"#636efa\",\"#EF553B\",\"#00cc96\",\"#ab63fa\",\"#FFA15A\",\"#19d3f3\",\"#FF6692\",\"#B6E880\",\"#FF97FF\",\"#FECB52\"],\"font\":{\"color\":\"#2a3f5f\"},\"geo\":{\"bgcolor\":\"white\",\"lakecolor\":\"white\",\"landcolor\":\"white\",\"showlakes\":true,\"showland\":true,\"subunitcolor\":\"#C8D4E3\"},\"hoverlabel\":{\"align\":\"left\"},\"hovermode\":\"closest\",\"mapbox\":{\"style\":\"light\"},\"paper_bgcolor\":\"white\",\"plot_bgcolor\":\"white\",\"polar\":{\"angularaxis\":{\"gridcolor\":\"#EBF0F8\",\"linecolor\":\"#EBF0F8\",\"ticks\":\"\"},\"bgcolor\":\"white\",\"radialaxis\":{\"gridcolor\":\"#EBF0F8\",\"linecolor\":\"#EBF0F8\",\"ticks\":\"\"}},\"scene\":{\"xaxis\":{\"backgroundcolor\":\"white\",\"gridcolor\":\"#DFE8F3\",\"gridwidth\":2,\"linecolor\":\"#EBF0F8\",\"showbackground\":true,\"ticks\":\"\",\"zerolinecolor\":\"#EBF0F8\"},\"yaxis\":{\"backgroundcolor\":\"white\",\"gridcolor\":\"#DFE8F3\",\"gridwidth\":2,\"linecolor\":\"#EBF0F8\",\"showbackground\":true,\"ticks\":\"\",\"zerolinecolor\":\"#EBF0F8\"},\"zaxis\":{\"backgroundcolor\":\"white\",\"gridcolor\":\"#DFE8F3\",\"gridwidth\":2,\"linecolor\":\"#EBF0F8\",\"showbackground\":true,\"ticks\":\"\",\"zerolinecolor\":\"#EBF0F8\"}},\"shapedefaults\":{\"line\":{\"color\":\"#2a3f5f\"}},\"ternary\":{\"aaxis\":{\"gridcolor\":\"#DFE8F3\",\"linecolor\":\"#A2B1C6\",\"ticks\":\"\"},\"baxis\":{\"gridcolor\":\"#DFE8F3\",\"linecolor\":\"#A2B1C6\",\"ticks\":\"\"},\"bgcolor\":\"white\",\"caxis\":{\"gridcolor\":\"#DFE8F3\",\"linecolor\":\"#A2B1C6\",\"ticks\":\"\"}},\"title\":{\"x\":0.05},\"xaxis\":{\"automargin\":true,\"gridcolor\":\"#EBF0F8\",\"linecolor\":\"#EBF0F8\",\"ticks\":\"\",\"title\":{\"standoff\":15},\"zerolinecolor\":\"#EBF0F8\",\"zerolinewidth\":2},\"yaxis\":{\"automargin\":true,\"gridcolor\":\"#EBF0F8\",\"linecolor\":\"#EBF0F8\",\"ticks\":\"\",\"title\":{\"standoff\":15},\"zerolinecolor\":\"#EBF0F8\",\"zerolinewidth\":2}}},\"xaxis\":{\"anchor\":\"y\",\"domain\":[0.0,0.43],\"matches\":\"x9\",\"showticklabels\":false,\"autorange\":\"reversed\"},\"yaxis\":{\"anchor\":\"x\",\"domain\":[0.816,1.0]},\"xaxis2\":{\"anchor\":\"y2\",\"domain\":[0.55,0.98],\"matches\":\"x10\",\"showticklabels\":false,\"autorange\":\"reversed\"},\"yaxis2\":{\"anchor\":\"x2\",\"domain\":[0.816,1.0]},\"xaxis3\":{\"anchor\":\"y3\",\"domain\":[0.0,0.43],\"matches\":\"x9\",\"showticklabels\":false,\"autorange\":\"reversed\"},\"yaxis3\":{\"anchor\":\"x3\",\"domain\":[0.6120000000000001,0.796]},\"xaxis4\":{\"anchor\":\"y4\",\"domain\":[0.55,0.98],\"matches\":\"x10\",\"showticklabels\":false,\"autorange\":\"reversed\"},\"yaxis4\":{\"anchor\":\"x4\",\"domain\":[0.6120000000000001,0.796]},\"xaxis5\":{\"anchor\":\"y5\",\"domain\":[0.0,0.43],\"matches\":\"x9\",\"showticklabels\":false,\"autorange\":\"reversed\"},\"yaxis5\":{\"anchor\":\"x5\",\"domain\":[0.408,0.592]},\"xaxis6\":{\"anchor\":\"y6\",\"domain\":[0.55,0.98],\"matches\":\"x10\",\"showticklabels\":false,\"autorange\":\"reversed\"},\"yaxis6\":{\"anchor\":\"x6\",\"domain\":[0.408,0.592]},\"xaxis7\":{\"anchor\":\"y7\",\"domain\":[0.0,0.43],\"matches\":\"x9\",\"showticklabels\":false,\"autorange\":\"reversed\"},\"yaxis7\":{\"anchor\":\"x7\",\"domain\":[0.204,0.388]},\"xaxis8\":{\"anchor\":\"y8\",\"domain\":[0.55,0.98],\"matches\":\"x10\",\"showticklabels\":false,\"autorange\":\"reversed\"},\"yaxis8\":{\"anchor\":\"x8\",\"domain\":[0.204,0.388]},\"xaxis9\":{\"anchor\":\"y9\",\"domain\":[0.0,0.43],\"autorange\":\"reversed\"},\"yaxis9\":{\"anchor\":\"x9\",\"domain\":[0.0,0.184]},\"xaxis10\":{\"anchor\":\"y10\",\"domain\":[0.55,0.98],\"autorange\":\"reversed\"},\"yaxis10\":{\"anchor\":\"x10\",\"domain\":[0.0,0.184]},\"annotations\":[{\"font\":{\"size\":16},\"showarrow\":false,\"text\":\"jasmine\",\"textangle\":90,\"x\":0.98,\"xanchor\":\"left\",\"xref\":\"paper\",\"y\":0.9079999999999999,\"yanchor\":\"middle\",\"yref\":\"paper\"},{\"font\":{\"size\":16},\"showarrow\":false,\"text\":\"nomao\",\"textangle\":90,\"x\":0.98,\"xanchor\":\"left\",\"xref\":\"paper\",\"y\":0.7040000000000001,\"yanchor\":\"middle\",\"yref\":\"paper\"},{\"font\":{\"size\":16},\"showarrow\":false,\"text\":\"kr-vs-kp\",\"textangle\":90,\"x\":0.98,\"xanchor\":\"left\",\"xref\":\"paper\",\"y\":0.5,\"yanchor\":\"middle\",\"yref\":\"paper\"},{\"font\":{\"size\":16},\"showarrow\":false,\"text\":\"sylvine\",\"textangle\":90,\"x\":0.98,\"xanchor\":\"left\",\"xref\":\"paper\",\"y\":0.296,\"yanchor\":\"middle\",\"yref\":\"paper\"},{\"font\":{\"size\":16},\"showarrow\":false,\"text\":\"australian\",\"textangle\":90,\"x\":0.98,\"xanchor\":\"left\",\"xref\":\"paper\",\"y\":0.092,\"yanchor\":\"middle\",\"yref\":\"paper\"},{\"font\":{\"size\":16},\"showarrow\":false,\"text\":\"Features percent\",\"x\":0.49,\"xanchor\":\"center\",\"xref\":\"paper\",\"y\":0,\"yanchor\":\"top\",\"yref\":\"paper\",\"yshift\":-30},{\"font\":{\"size\":14},\"showarrow\":false,\"text\":\"Balanced accuracy\",\"textangle\":-90,\"x\":-0.1,\"xref\":\"paper\",\"yanchor\":\"middle\",\"yref\":\"paper\"},{\"font\":{\"size\":14},\"showarrow\":false,\"text\":\"Time (sec)\",\"textangle\":-90,\"x\":0.48,\"xref\":\"paper\",\"yanchor\":\"middle\",\"yref\":\"paper\"}],\"margin\":{\"l\":60,\"r\":20,\"b\":60,\"t\":40},\"font\":{\"size\":11},\"legend\":{\"orientation\":\"h\",\"yanchor\":\"bottom\",\"y\":1.02,\"xanchor\":\"left\",\"x\":-0.02},\"height\":1000,\"boxmode\":\"group\"},                        {\"responsive\": true}                    ).then(function(){\n",
       "                            \n",
       "var gd = document.getElementById('44d9c8bc-4577-4b96-8090-bf2b380fbbce');\n",
       "var x = new MutationObserver(function (mutations, observer) {{\n",
       "        var display = window.getComputedStyle(gd).display;\n",
       "        if (!display || display === 'none') {{\n",
       "            console.log([gd, 'removed!']);\n",
       "            Plotly.purge(gd);\n",
       "            observer.disconnect();\n",
       "        }}\n",
       "}});\n",
       "\n",
       "// Listen for the removal of the full notebook cells\n",
       "var notebookContainer = gd.closest('#notebook-container');\n",
       "if (notebookContainer) {{\n",
       "    x.observe(notebookContainer, {childList: true});\n",
       "}}\n",
       "\n",
       "// Listen for the clearing of the current output cell\n",
       "var outputEl = gd.closest('.output');\n",
       "if (outputEl) {{\n",
       "    x.observe(outputEl, {childList: true});\n",
       "}}\n",
       "\n",
       "                        })                };                });            </script>        </div>"
      ]
     },
     "metadata": {},
     "output_type": "display_data"
    }
   ],
   "source": [
    "#kr-vs-kp\n",
    "#sylvine\n",
    "# volkert takes much time (consider)\n",
    "\n",
    "fs_method = \"decision_tree\"\n",
    "\n",
    "datasets = scores_df[\"dataset\"].unique()\n",
    "datasets = [\"jasmine\", \"nomao\", \"kr-vs-kp\", \"sylvine\", \"australian\"]\n",
    "\n",
    "datasets = sorted(datasets, key=lambda x: DATASET_ORDER.index(x))\n",
    "\n",
    "\n",
    "fig = subplots.make_subplots(\n",
    "            len(datasets), 2, \n",
    "            shared_xaxes=True, \n",
    "            x_title=\"Features percent\",\n",
    "            row_titles=datasets,\n",
    "            horizontal_spacing=0.12,\n",
    "            vertical_spacing=0.02\n",
    ")\n",
    "\n",
    "for d_i, dataset in enumerate(datasets):\n",
    "    # Select dataset and feature selection info\n",
    "    cos_df = scores_df.query(\n",
    "        \"dataset==@dataset \"\n",
    "        \"and fs_method==@fs_method\"\n",
    "    )\n",
    "\n",
    "    # For each model\n",
    "    #for m_i, m in enumerate(cos_df[\"model\"].unique()):\n",
    "    for m_i, m in enumerate(scores_df[\"model\"].unique()):\n",
    "        \n",
    "        plot_df = cos_df.query(\"model==@m\")\n",
    "\n",
    "        # Computes the times needed to perform the experiment\n",
    "        times_df = plot_df.groupby([\"fs_percent\"], as_index=False).sum()[[\"fs_percent\", \"training_time_sum\", \"inference_time_sum\"]]\n",
    "                             \n",
    "        # Selects the best architecture for each featue selection percentage\n",
    "        idx_max = plot_df.groupby([\"fs_percent\"])[\"balanced_accuracy_mean\"].idxmax()\n",
    "        plot_df = plot_df.loc[idx_max]\n",
    "                             \n",
    "        # Adds the best architectures information to the plot\n",
    "        fig.add_trace(go.Scatter(\n",
    "            x=(plot_df[\"fs_percent\"] * 100).apply(lambda x: str(int(x)) + \"%\"),\n",
    "            y=plot_df[\"balanced_accuracy_mean\"],\n",
    "            name=df_replacements[\"model\"].get(m, m),\n",
    "            legendgroup=m,\n",
    "            line=dict(color=COLORS[m_i]),\n",
    "            showlegend=True if d_i == 0 else False,\n",
    "             error_y=dict(\n",
    "                 type=\"data\",\n",
    "                 array=plot_df[\"balanced_accuracy_std\"],\n",
    "                 visible=True\n",
    "             )\n",
    "        ), row=d_i + 1, col=1)\n",
    "        \n",
    "        fig.update_xaxes(row=d_i + 1, col=1, autorange=\"reversed\")\n",
    "        \n",
    "        \n",
    "        plot_df = cos_df.query(\n",
    "                \"model==@m \"\n",
    "            )\n",
    "    \n",
    "    \n",
    "        # For pruned models set the training time in 0\n",
    "        if m in [\"transformer/cls\", \"mlp/simple\"]:\n",
    "            times_df[\"training_time_sum\"] = 0\n",
    "\n",
    "        # For initial models reset the time\n",
    "        times_df.loc[times_df[\"fs_percent\"] == 1, \"training_time_sum\"] = 0\n",
    "        times_df.loc[times_df[\"fs_percent\"] == 1, \"inference_time_sum\"] = 0\n",
    "\n",
    "        # Plot the elapsed time for each feature selection\n",
    "        fig.add_trace(go.Scatter(\n",
    "            x=(times_df[\"fs_percent\"] * 100).apply(lambda x: str(int(x)) + \"%\"),\n",
    "            # Sums 1 beacuse log scale\n",
    "            y=times_df[\"training_time_sum\"] + times_df[\"inference_time_sum\"],\n",
    "            line=dict(color=COLORS[m_i]),\n",
    "            legendgroup=m,\n",
    "            name=df_replacements[\"model\"].get(m, m),\n",
    "            showlegend=False\n",
    "        ), row=d_i + 1, col=2)\n",
    "        \n",
    "        fig.update_xaxes(row=d_i + 1, col=2, autorange=\"reversed\")\n",
    "        fig.update_yaxes(row=d_i + 1, col=2)\n",
    "        \n",
    "\n",
    "\n",
    "fig.add_annotation(\n",
    "    x=-0.1, yanchor=\"middle\",  textangle=-90, text=\"Balanced accuracy\", \n",
    "    showarrow=False, xref=\"paper\", yref=\"paper\",\n",
    "    font=dict(size=14)\n",
    ")\n",
    "\n",
    "fig.add_annotation(\n",
    "    x=0.5 - 0.02, yanchor=\"middle\",  textangle=-90, text=\"Time (sec)\", \n",
    "    showarrow=False, xref=\"paper\", yref=\"paper\",\n",
    "    font=dict(size=14)\n",
    ")\n",
    "        \n",
    "fig.update_layout(\n",
    "    height=len(datasets) * 200,\n",
    "    margin={\"l\": 60, \"r\": 20, \"b\": 60, \"t\": 40},    \n",
    "    template=\"plotly_white\",\n",
    "    font={\"size\": 11},\n",
    "    boxmode=\"group\",\n",
    "    legend=dict(\n",
    "                orientation=\"h\",\n",
    "                yanchor=\"bottom\",\n",
    "                y=1.02,\n",
    "                xanchor=\"left\",\n",
    "                x=-0.02\n",
    "            )\n",
    ")\n",
    "\n",
    "\n",
    "fig.show()\n",
    "\n",
    "fig.write_image(os.path.join(ASSETS_DIR, \"fs_datasets_comparison_app.png\"), scale=IMG_SCALE)"
   ]
  },
  {
   "cell_type": "markdown",
   "id": "cf9a37e6",
   "metadata": {},
   "source": [
    "# Speed information"
   ]
  },
  {
   "cell_type": "code",
   "execution_count": 22,
   "id": "25ad2f3d",
   "metadata": {},
   "outputs": [
    {
     "data": {
      "text/html": [
       "<div>\n",
       "<style scoped>\n",
       "    .dataframe tbody tr th:only-of-type {\n",
       "        vertical-align: middle;\n",
       "    }\n",
       "\n",
       "    .dataframe tbody tr th {\n",
       "        vertical-align: top;\n",
       "    }\n",
       "\n",
       "    .dataframe thead th {\n",
       "        text-align: right;\n",
       "    }\n",
       "</style>\n",
       "<table border=\"1\" class=\"dataframe\">\n",
       "  <thead>\n",
       "    <tr style=\"text-align: right;\">\n",
       "      <th></th>\n",
       "      <th>Dataset</th>\n",
       "      <th>FT-Transformer</th>\n",
       "      <th>XGBoost + HS</th>\n",
       "      <th>XGBoost</th>\n",
       "    </tr>\n",
       "  </thead>\n",
       "  <tbody>\n",
       "    <tr>\n",
       "      <th>6</th>\n",
       "      <td>volkert</td>\n",
       "      <td>$\\times 7.6 - \\times 18.2$</td>\n",
       "      <td>$\\times 905.6 - \\times 1533.5$</td>\n",
       "      <td>$\\times 366.8 - \\times 621.4$</td>\n",
       "    </tr>\n",
       "    <tr>\n",
       "      <th>2</th>\n",
       "      <td>jasmine</td>\n",
       "      <td>$\\times 3.4 - \\times 7.3$</td>\n",
       "      <td>$\\times 25.5 - \\times 36.8$</td>\n",
       "      <td>$\\times 7.7 - \\times 10.7$</td>\n",
       "    </tr>\n",
       "    <tr>\n",
       "      <th>4</th>\n",
       "      <td>nomao</td>\n",
       "      <td>$\\times 3.5 - \\times 7.2$</td>\n",
       "      <td>$\\times 23.0 - \\times 41.3$</td>\n",
       "      <td>$\\times 7.7 - \\times 13.3$</td>\n",
       "    </tr>\n",
       "    <tr>\n",
       "      <th>3</th>\n",
       "      <td>kr-vs-kp</td>\n",
       "      <td>$\\times 4.4 - \\times 5.0$</td>\n",
       "      <td>$\\times 23.8 - \\times 29.5$</td>\n",
       "      <td>$\\times 5.2 - \\times 6.1$</td>\n",
       "    </tr>\n",
       "    <tr>\n",
       "      <th>5</th>\n",
       "      <td>sylvine</td>\n",
       "      <td>$\\times 5.0 - \\times 6.1$</td>\n",
       "      <td>$\\times 21.6 - \\times 30.8$</td>\n",
       "      <td>$\\times 5.8 - \\times 8.3$</td>\n",
       "    </tr>\n",
       "    <tr>\n",
       "      <th>1</th>\n",
       "      <td>australian</td>\n",
       "      <td>$\\times 4.1 - \\times 4.5$</td>\n",
       "      <td>$\\times 26.0 - \\times 30.6$</td>\n",
       "      <td>$\\times 5.3 - \\times 7.0$</td>\n",
       "    </tr>\n",
       "    <tr>\n",
       "      <th>0</th>\n",
       "      <td>adult</td>\n",
       "      <td>$\\times 5.1 - \\times 5.4$</td>\n",
       "      <td>$\\times 4.9 - \\times 8.2$</td>\n",
       "      <td>$\\times 1.2 - \\times 1.5$</td>\n",
       "    </tr>\n",
       "  </tbody>\n",
       "</table>\n",
       "</div>"
      ],
      "text/plain": [
       "      Dataset              FT-Transformer                    XGBoost + HS  \\\n",
       "6     volkert  $\\times 7.6 - \\times 18.2$  $\\times 905.6 - \\times 1533.5$   \n",
       "2     jasmine   $\\times 3.4 - \\times 7.3$     $\\times 25.5 - \\times 36.8$   \n",
       "4       nomao   $\\times 3.5 - \\times 7.2$     $\\times 23.0 - \\times 41.3$   \n",
       "3    kr-vs-kp   $\\times 4.4 - \\times 5.0$     $\\times 23.8 - \\times 29.5$   \n",
       "5     sylvine   $\\times 5.0 - \\times 6.1$     $\\times 21.6 - \\times 30.8$   \n",
       "1  australian   $\\times 4.1 - \\times 4.5$     $\\times 26.0 - \\times 30.6$   \n",
       "0       adult   $\\times 5.1 - \\times 5.4$       $\\times 4.9 - \\times 8.2$   \n",
       "\n",
       "                         XGBoost  \n",
       "6  $\\times 366.8 - \\times 621.4$  \n",
       "2     $\\times 7.7 - \\times 10.7$  \n",
       "4     $\\times 7.7 - \\times 13.3$  \n",
       "3      $\\times 5.2 - \\times 6.1$  \n",
       "5      $\\times 5.8 - \\times 8.3$  \n",
       "1      $\\times 5.3 - \\times 7.0$  \n",
       "0      $\\times 1.2 - \\times 1.5$  "
      ]
     },
     "execution_count": 22,
     "metadata": {},
     "output_type": "execute_result"
    }
   ],
   "source": [
    "fs_method = \"decision_tree\"\n",
    "\n",
    "cos_df = scores_df.query(\"fs_method==@fs_method\")\n",
    "times_df = cos_df.groupby([\"dataset\", \"model\", \"fs_percent\"], as_index=False) \\\n",
    "                .sum()[[\"dataset\", \"model\", \"fs_percent\", \"training_time_sum\", \"inference_time_sum\"]]\n",
    "\n",
    "# For initial models reset the time\n",
    "times_df.loc[times_df[\"model\"] == \"transformer/cls\", \"training_time_sum\"] = 0\n",
    "times_df.loc[times_df[\"model\"] == \"mlp/simple\", \"training_time_sum\"] = 0\n",
    "times_df.loc[times_df[\"fs_percent\"] == 1, \"training_time_sum\"] = 0\n",
    "times_df.loc[times_df[\"fs_percent\"] == 1, \"inference_time_sum\"] = 0\n",
    "\n",
    "times_df[\"total_time\"] = times_df[\"training_time_sum\"] + times_df[\"inference_time_sum\"]\n",
    "times_df = times_df.merge(\n",
    "    times_df.query(\"model == 'mlp/simple'\")[[\"dataset\", \"fs_percent\", \"total_time\"]],\n",
    "    on=[\"dataset\", \"fs_percent\"],\n",
    "    suffixes=[\"\", \"_base\"]\n",
    ")\n",
    "times_df[\"time_ratio\"] = times_df[\"total_time\"] /  times_df[\"total_time_base\"]\n",
    "times_df = times_df[[\"dataset\", \"model\", \"time_ratio\"]]\n",
    "times_df = times_df.groupby([\"dataset\", \"model\"], as_index=False).agg([\"min\", \"max\"])\n",
    "times_df.columns = [col[0] + (\"_\" + col[1] if col[1] else \"\") for col in times_df.columns]\n",
    "times_df[\"elapsed_time\"] = \"$\\\\times \" + times_df[\"time_ratio_min\"].apply(lambda x: \"{0:.1f}\".format(x)).astype(\"string\") \\\n",
    "                        + \" - \\\\times \" + times_df[\"time_ratio_max\"].apply(lambda x: \"{0:.1f}\".format(x)).astype(\"string\") + \"$\"\n",
    "times_df = times_df[[\"dataset\", \"model\", \"elapsed_time\"]]\n",
    "times_df = times_df.replace(df_replacements).pivot(index=\"dataset\", columns=\"model\").reset_index()\n",
    "times_df.columns = [\"Dataset\"] + [col[1] for col in times_df.columns][1:]\n",
    "times_df = times_df.sort_values(\"Dataset\", key=lambda x: [DATASET_ORDER.index(i) for i in x])\n",
    "\n",
    "times_df = times_df[[\"Dataset\", \"FT-Transformer\", \"XGBoost + HS\", \"XGBoost\"]]\n",
    "\n",
    "with open(os.path.join(ASSETS_DIR, \"fs_times_results.tex\"), \"w\") as f:\n",
    "    f.write(times_df.to_latex(index=False))    \n",
    "\n",
    "times_df"
   ]
  },
  {
   "cell_type": "markdown",
   "id": "b6d8cead",
   "metadata": {},
   "source": [
    "# Rough degradation information"
   ]
  },
  {
   "cell_type": "code",
   "execution_count": 39,
   "id": "01b1e083",
   "metadata": {},
   "outputs": [
    {
     "data": {
      "text/html": [
       "<div>\n",
       "<style scoped>\n",
       "    .dataframe tbody tr th:only-of-type {\n",
       "        vertical-align: middle;\n",
       "    }\n",
       "\n",
       "    .dataframe tbody tr th {\n",
       "        vertical-align: top;\n",
       "    }\n",
       "\n",
       "    .dataframe thead th {\n",
       "        text-align: right;\n",
       "    }\n",
       "</style>\n",
       "<table border=\"1\" class=\"dataframe\">\n",
       "  <thead>\n",
       "    <tr style=\"text-align: right;\">\n",
       "      <th></th>\n",
       "      <th>Dataset</th>\n",
       "      <th>FT-Transformer</th>\n",
       "      <th>MLP + Pruning</th>\n",
       "      <th>XGBoost</th>\n",
       "      <th>XGBoost + HS</th>\n",
       "    </tr>\n",
       "  </thead>\n",
       "  <tbody>\n",
       "    <tr>\n",
       "      <th>6</th>\n",
       "      <td>volkert</td>\n",
       "      <td>$6.330 \\pm 7.541$</td>\n",
       "      <td>$9.604 \\pm 11.250$</td>\n",
       "      <td>$0.553 \\pm 0.504$</td>\n",
       "      <td>$0.525 \\pm 0.499$</td>\n",
       "    </tr>\n",
       "    <tr>\n",
       "      <th>2</th>\n",
       "      <td>jasmine</td>\n",
       "      <td>$2.418 \\pm 1.660$</td>\n",
       "      <td>$0.872 \\pm 0.681$</td>\n",
       "      <td>$1.065 \\pm 0.695$</td>\n",
       "      <td>$0.608 \\pm 0.416$</td>\n",
       "    </tr>\n",
       "    <tr>\n",
       "      <th>4</th>\n",
       "      <td>nomao</td>\n",
       "      <td>$5.438 \\pm 4.538$</td>\n",
       "      <td>$3.865 \\pm 3.422$</td>\n",
       "      <td>$0.206 \\pm 0.139$</td>\n",
       "      <td>$0.125 \\pm 0.131$</td>\n",
       "    </tr>\n",
       "    <tr>\n",
       "      <th>3</th>\n",
       "      <td>kr-vs-kp</td>\n",
       "      <td>$2.439 \\pm 2.432$</td>\n",
       "      <td>$1.065 \\pm 0.804$</td>\n",
       "      <td>$0.436 \\pm 0.544$</td>\n",
       "      <td>$0.376 \\pm 0.547$</td>\n",
       "    </tr>\n",
       "    <tr>\n",
       "      <th>5</th>\n",
       "      <td>sylvine</td>\n",
       "      <td>$0.540 \\pm 0.287$</td>\n",
       "      <td>$0.166 \\pm 0.197$</td>\n",
       "      <td>$-0.292 \\pm 0.266$</td>\n",
       "      <td>$-0.392 \\pm 0.318$</td>\n",
       "    </tr>\n",
       "    <tr>\n",
       "      <th>1</th>\n",
       "      <td>australian</td>\n",
       "      <td>$1.790 \\pm 2.168$</td>\n",
       "      <td>$1.259 \\pm 1.887$</td>\n",
       "      <td>$1.576 \\pm 2.504$</td>\n",
       "      <td>$1.570 \\pm 2.493$</td>\n",
       "    </tr>\n",
       "    <tr>\n",
       "      <th>0</th>\n",
       "      <td>adult</td>\n",
       "      <td>$5.426 \\pm 5.646$</td>\n",
       "      <td>$8.303 \\pm 9.424$</td>\n",
       "      <td>$5.834 \\pm 4.383$</td>\n",
       "      <td>$5.820 \\pm 4.348$</td>\n",
       "    </tr>\n",
       "  </tbody>\n",
       "</table>\n",
       "</div>"
      ],
      "text/plain": [
       "      Dataset     FT-Transformer       MLP + Pruning             XGBoost  \\\n",
       "6     volkert  $6.330 \\pm 7.541$  $9.604 \\pm 11.250$   $0.553 \\pm 0.504$   \n",
       "2     jasmine  $2.418 \\pm 1.660$   $0.872 \\pm 0.681$   $1.065 \\pm 0.695$   \n",
       "4       nomao  $5.438 \\pm 4.538$   $3.865 \\pm 3.422$   $0.206 \\pm 0.139$   \n",
       "3    kr-vs-kp  $2.439 \\pm 2.432$   $1.065 \\pm 0.804$   $0.436 \\pm 0.544$   \n",
       "5     sylvine  $0.540 \\pm 0.287$   $0.166 \\pm 0.197$  $-0.292 \\pm 0.266$   \n",
       "1  australian  $1.790 \\pm 2.168$   $1.259 \\pm 1.887$   $1.576 \\pm 2.504$   \n",
       "0       adult  $5.426 \\pm 5.646$   $8.303 \\pm 9.424$   $5.834 \\pm 4.383$   \n",
       "\n",
       "         XGBoost + HS  \n",
       "6   $0.525 \\pm 0.499$  \n",
       "2   $0.608 \\pm 0.416$  \n",
       "4   $0.125 \\pm 0.131$  \n",
       "3   $0.376 \\pm 0.547$  \n",
       "5  $-0.392 \\pm 0.318$  \n",
       "1   $1.570 \\pm 2.493$  \n",
       "0   $5.820 \\pm 4.348$  "
      ]
     },
     "execution_count": 39,
     "metadata": {},
     "output_type": "execute_result"
    }
   ],
   "source": [
    "fs_method = \"decision_tree\"\n",
    "\n",
    "\n",
    "indices_best = scores_df.groupby([\n",
    "    \"dataset\", \"model\", \"fs_method\", \n",
    "    \"fs_percent\", \"fs_n_features\"\n",
    "    ])[\"balanced_accuracy_mean\"].idxmax()\n",
    "\n",
    "\n",
    "best_scores_df = scores_df.loc[indices_best].query(\"fs_percent==1\").groupby([\"dataset\", \"model\"], as_index=False)[\"balanced_accuracy_mean\"].max()\n",
    "best_scores_df.columns = [\"dataset\", \"model\", \"balanced_accuracy_mean_max\"]\n",
    "\n",
    "best_scores_df = scores_df.loc[indices_best].merge(\n",
    "    best_scores_df,\n",
    "    how=\"left\",\n",
    "    on=[\"dataset\", \"model\"]\n",
    "    )\n",
    "\n",
    "best_scores_df[\"degradation\"] = 1 - best_scores_df[\"balanced_accuracy_mean\"] / best_scores_df[\"balanced_accuracy_mean_max\"]\n",
    "best_scores_df = best_scores_df.query(\"fs_method==@fs_method\")[[\"dataset\", \"model\", \"degradation\"]]\n",
    "best_scores_df = best_scores_df.groupby([\"dataset\", \"model\"], as_index=False).agg([\"mean\", \"std\"])\n",
    "\n",
    "best_scores_df.columns = [col[0] + (\"_\" + col[1] if col[1] else \"\") for col in best_scores_df.columns]\n",
    "best_scores_df[\"degradation\"] = \"$\" + (best_scores_df[\"degradation_mean\"] * 100).apply(num_as_str).astype(\"string\") \\\n",
    "                        + \" \\pm \" + (best_scores_df[\"degradation_std\"] * 100).apply(num_as_str).astype(\"string\") + \"$\"\n",
    "best_scores_df = best_scores_df[[\"dataset\", \"model\", \"degradation\"]]\n",
    "best_scores_df = best_scores_df.replace(df_replacements).pivot(index=\"dataset\", columns=\"model\").reset_index()\n",
    "best_scores_df.columns = [\"Dataset\"] + [col[1] for col in best_scores_df.columns][1:]\n",
    "best_scores_df = best_scores_df.sort_values(\"Dataset\", key=lambda x: [DATASET_ORDER.index(i) for i in x])\n",
    "\n",
    "with open(os.path.join(ASSETS_DIR, \"fs_degradation_results.tex\"), \"w\") as f:\n",
    "    f.write(best_scores_df.to_latex(index=False))  \n",
    "\n",
    "best_scores_df"
   ]
  },
  {
   "cell_type": "markdown",
   "id": "364a02fb",
   "metadata": {},
   "source": [
    "# Degradation per feature selector"
   ]
  },
  {
   "cell_type": "code",
   "execution_count": 40,
   "id": "9d42fb25",
   "metadata": {},
   "outputs": [
    {
     "data": {
      "application/vnd.plotly.v1+json": {
       "config": {
        "plotlyServerURL": "https://plot.ly"
       },
       "data": [
        {
         "name": "Decision tree",
         "type": "box",
         "x": [
          "40%",
          "50%",
          "60%",
          "70%",
          "80%",
          "90%",
          "100%",
          "40%",
          "50%",
          "60%",
          "70%",
          "80%",
          "90%",
          "100%",
          "40%",
          "50%",
          "60%",
          "70%",
          "80%",
          "90%",
          "100%",
          "40%",
          "50%",
          "60%",
          "70%",
          "80%",
          "90%",
          "100%",
          "40%",
          "50%",
          "60%",
          "70%",
          "80%",
          "90%",
          "100%",
          "40%",
          "50%",
          "60%",
          "70%",
          "80%",
          "90%",
          "100%",
          "40%",
          "50%",
          "60%",
          "70%",
          "80%",
          "90%",
          "100%",
          "40%",
          "50%",
          "60%",
          "70%",
          "80%",
          "90%",
          "100%",
          "40%",
          "50%",
          "60%",
          "70%",
          "80%",
          "90%",
          "100%",
          "40%",
          "50%",
          "60%",
          "70%",
          "80%",
          "90%",
          "100%",
          "40%",
          "50%",
          "60%",
          "70%",
          "80%",
          "90%",
          "100%",
          "40%",
          "50%",
          "60%",
          "70%",
          "80%",
          "90%",
          "100%",
          "40%",
          "50%",
          "60%",
          "70%",
          "80%",
          "90%",
          "100%",
          "40%",
          "50%",
          "60%",
          "70%",
          "80%",
          "90%",
          "100%",
          "40%",
          "50%",
          "60%",
          "70%",
          "80%",
          "90%",
          "100%",
          "40%",
          "50%",
          "60%",
          "70%",
          "80%",
          "90%",
          "100%",
          "40%",
          "50%",
          "60%",
          "70%",
          "80%",
          "90%",
          "100%",
          "40%",
          "50%",
          "60%",
          "70%",
          "80%",
          "90%",
          "100%",
          "40%",
          "50%",
          "60%",
          "70%",
          "80%",
          "90%",
          "100%",
          "40%",
          "50%",
          "60%",
          "70%",
          "80%",
          "90%",
          "100%",
          "40%",
          "50%",
          "60%",
          "70%",
          "80%",
          "90%",
          "100%",
          "40%",
          "50%",
          "60%",
          "70%",
          "80%",
          "90%",
          "100%",
          "40%",
          "50%",
          "60%",
          "70%",
          "80%",
          "90%",
          "100%",
          "40%",
          "50%",
          "60%",
          "70%",
          "80%",
          "90%",
          "100%",
          "40%",
          "50%",
          "60%",
          "70%",
          "80%",
          "90%",
          "100%",
          "40%",
          "50%",
          "60%",
          "70%",
          "80%",
          "90%",
          "100%",
          "40%",
          "50%",
          "60%",
          "70%",
          "80%",
          "90%",
          "100%",
          "40%",
          "50%",
          "60%",
          "70%",
          "80%",
          "90%",
          "100%"
         ],
         "y": [
          28.734845551544062,
          8.010814692695423,
          8.091191147715582,
          5.334732670379038,
          3.9657894455798592,
          3.982001322317086,
          0,
          17.584078104336033,
          4.383434806847264,
          4.65292003081379,
          5.4681216624680395,
          3.0988304637104003,
          2.7965822723600042,
          0,
          14.547367860215077,
          5.840969052495781,
          5.606671290835685,
          5.626001992581808,
          4.812929608304362,
          4.303134552505017,
          0,
          14.650616875237855,
          5.840969052495781,
          5.606671290835685,
          5.626001992581808,
          4.812929608304362,
          4.303134552505017,
          0,
          5.487363605406181,
          0.686976907581871,
          0.7385347723339653,
          0.9327165210159083,
          0.435661566838752,
          0.5323435712845326,
          0,
          6.355276668150179,
          1.4563241742550082,
          1.4593565636141892,
          1.693407513745937,
          -0.1930035375977912,
          1.7582511376349141,
          0,
          5.431113102533047,
          2.668359532103304,
          2.8630943248195484,
          2.528614224408754,
          -0.9322888514520233,
          -1.5684060449981496,
          0,
          5.474355303534606,
          2.668359532103304,
          2.8630943248195484,
          2.528614224408754,
          -0.9322888514520233,
          -1.5684060449981496,
          0,
          1.2344991861547139,
          1.8080878814608958,
          1.5276234889739726,
          0.8454737149785396,
          0.46154464735488343,
          0.22459176057522123,
          0,
          4.062342392965402,
          4.363261822851094,
          3.2840823515981166,
          2.9103819876358794,
          1.2307618664423425,
          1.0748696950685366,
          0,
          1.1895610043522242,
          1.0982928267597614,
          0.6478952513015335,
          0.4483697600962566,
          0.38854096376623737,
          0.48056751133144227,
          0,
          1.7580334873099068,
          1.5682596447761932,
          1.727261801349611,
          1.2548879829848092,
          0.38854096376623737,
          0.7554848696122995,
          0,
          2.050046051654908,
          1.6409559909187688,
          1.603662626209712,
          1.4341153695978437,
          0.49328950592456566,
          0.2362426780950777,
          0,
          6.6657263959131186,
          3.57578015261677,
          3.3317382922187,
          2.9303110637898255,
          0.4428162374159439,
          0.12416702696130821,
          0,
          1.4540477419439535,
          0.6691052085685989,
          0.42376808258404175,
          0.19109144932925037,
          -0.07482241271363765,
          -0.03323722878807445,
          0,
          1.4913203882772175,
          0.6691052085685989,
          0.4611792889408717,
          0.46952724407832713,
          -0.03741120635682993,
          0,
          0,
          8.991224340413472,
          7.419618196755751,
          4.922621431944396,
          3.291777108753735,
          1.8793721730571034,
          0.5472655338596311,
          0,
          12.132219073425698,
          10.144391295758137,
          7.1118818777149535,
          4.549045097228078,
          2.6398890609629966,
          1.4864990085748486,
          0,
          0.31100850267566926,
          0.1593406238605266,
          0.242348274154236,
          0.1805407007685389,
          -0.01022410437583332,
          -0.005193712571749387,
          0,
          0.39761051845559336,
          0.28836980076674124,
          0.3225145783255945,
          0.19624342841099152,
          0.12255066777292489,
          0.11327319627935095,
          0,
          0.36977505767209484,
          0.23837454931195934,
          -0.07788211676298396,
          0.4484824508980467,
          0.02659731147847122,
          0.15748407197084813,
          0,
          0.7977599242219635,
          0.6172700237444206,
          0.5661754353675774,
          0.8490439675982953,
          0.35934978173254306,
          0.5908125516125851,
          0,
          -0.8287651048369149,
          -0.8289554978916591,
          -0.33705121829070706,
          -0.310210137569622,
          -0.25823498339081485,
          -0.18068152927954717,
          0,
          -0.6470718892706007,
          -0.621053041738806,
          -0.33705121829070706,
          -0.310210137569622,
          -0.07698506783435644,
          -0.05210115341864885,
          0,
          28.030960207335564,
          20.14515808918539,
          13.444690189299047,
          5.715482173405406,
          -0.11000312412055013,
          0,
          0,
          17.108588739285548,
          14.257798798971011,
          10.68921143288215,
          3.301055867103564,
          -0.4105293991656378,
          -0.6340111692188843,
          0,
          0.515458415916803,
          1.1438551948248277,
          1.1825788415055105,
          0.6410615251137286,
          0.19069369842987793,
          0,
          0,
          0.7155608224600707,
          1.1438551948248277,
          1.1825788415055105,
          0.6410615251137286,
          0.19069369842987793,
          0,
          0
         ]
        },
        {
         "name": "F-score",
         "type": "box",
         "x": [
          "40%",
          "50%",
          "60%",
          "70%",
          "80%",
          "90%",
          "100%",
          "40%",
          "50%",
          "60%",
          "70%",
          "80%",
          "90%",
          "100%",
          "40%",
          "50%",
          "60%",
          "70%",
          "80%",
          "90%",
          "100%",
          "40%",
          "50%",
          "60%",
          "70%",
          "80%",
          "90%",
          "100%",
          "40%",
          "50%",
          "60%",
          "70%",
          "80%",
          "90%",
          "100%",
          "40%",
          "50%",
          "60%",
          "70%",
          "80%",
          "90%",
          "100%",
          "40%",
          "50%",
          "60%",
          "70%",
          "80%",
          "90%",
          "100%",
          "40%",
          "50%",
          "60%",
          "70%",
          "80%",
          "90%",
          "100%",
          "40%",
          "50%",
          "60%",
          "70%",
          "80%",
          "90%",
          "100%",
          "40%",
          "50%",
          "60%",
          "70%",
          "80%",
          "90%",
          "100%",
          "40%",
          "50%",
          "60%",
          "70%",
          "80%",
          "90%",
          "100%",
          "40%",
          "50%",
          "60%",
          "70%",
          "80%",
          "90%",
          "100%",
          "40%",
          "50%",
          "60%",
          "70%",
          "80%",
          "90%",
          "100%",
          "40%",
          "50%",
          "60%",
          "70%",
          "80%",
          "90%",
          "100%",
          "40%",
          "50%",
          "60%",
          "70%",
          "80%",
          "90%",
          "100%",
          "40%",
          "50%",
          "60%",
          "70%",
          "80%",
          "90%",
          "100%",
          "40%",
          "50%",
          "60%",
          "70%",
          "80%",
          "90%",
          "100%",
          "40%",
          "50%",
          "60%",
          "70%",
          "80%",
          "90%",
          "100%",
          "40%",
          "50%",
          "60%",
          "70%",
          "80%",
          "90%",
          "100%",
          "40%",
          "50%",
          "60%",
          "70%",
          "80%",
          "90%",
          "100%",
          "40%",
          "50%",
          "60%",
          "70%",
          "80%",
          "90%",
          "100%",
          "40%",
          "50%",
          "60%",
          "70%",
          "80%",
          "90%",
          "100%",
          "40%",
          "50%",
          "60%",
          "70%",
          "80%",
          "90%",
          "100%",
          "40%",
          "50%",
          "60%",
          "70%",
          "80%",
          "90%",
          "100%",
          "40%",
          "50%",
          "60%",
          "70%",
          "80%",
          "90%",
          "100%",
          "40%",
          "50%",
          "60%",
          "70%",
          "80%",
          "90%",
          "100%",
          "40%",
          "50%",
          "60%",
          "70%",
          "80%",
          "90%",
          "100%",
          "40%",
          "50%",
          "60%",
          "70%",
          "80%",
          "90%",
          "100%"
         ],
         "y": [
          18.059303426155815,
          17.52914748267799,
          17.79426981520247,
          14.268700313246308,
          2.3166251217542233,
          1.1715548022772637,
          0,
          8.315622066669548,
          9.807165548649355,
          11.109227847393067,
          3.0551181010681994,
          0.14216417826472538,
          -0.7636248694032455,
          0,
          9.082786252999709,
          8.040948850111418,
          7.9114852623445975,
          2.3641623606639572,
          1.8673965922986202,
          1.3677577531471807,
          0,
          9.217636517004912,
          8.040948850111418,
          7.9114852623445975,
          2.3641623606639572,
          1.8673965922986202,
          1.3677577531471807,
          0,
          18.384886417452783,
          16.772914968598553,
          16.08051330105349,
          14.434596844470471,
          7.108355353178797,
          0.2535798509318177,
          0,
          17.508803273851715,
          17.924797585534858,
          18.030082144085934,
          17.66204414183592,
          8.891787440546295,
          0.2800937599937381,
          0,
          14.393643222586904,
          14.866190447260818,
          13.490022078191299,
          11.889632275992923,
          4.771375351199558,
          -0.7559838389423756,
          0,
          14.393643222586904,
          14.866190447260818,
          13.490022078191299,
          11.889632275992923,
          4.92232870679663,
          -0.7559838389423756,
          0,
          1.5680020296832575,
          1.5592177763238735,
          0.7705813391555738,
          0.5688849794645567,
          1.1211917081770273,
          0.6459712844550269,
          0,
          4.780462962079568,
          4.190730954490429,
          3.4192481184208146,
          2.5653860490241986,
          1.3136510351194342,
          0.6217016641328899,
          0,
          1.582289489272437,
          0.7621206068740283,
          -0.5921633014548622,
          -1.0397994210339823,
          -0.11048296461990681,
          0.5935893667297409,
          0,
          3.9465573382928554,
          1.5278929300299726,
          -0.1266477854525272,
          -0.21419830154800756,
          0.14842619271401292,
          0.9125498854943737,
          0,
          3.7358944868318367,
          4.092907394479727,
          4.500402755782151,
          4.354545404214938,
          3.210625378448606,
          1.259960949840433,
          0,
          5.655820899962194,
          4.463848213630861,
          5.134258981451989,
          4.0538525542625825,
          2.870172486116307,
          1.7917446165367834,
          0,
          2.368490076497143,
          2.144161398379796,
          2.5762774361013263,
          2.6138272024817,
          1.998690550521287,
          0.9935772848590374,
          0,
          2.4890716507050437,
          2.539143349791617,
          2.883637922046234,
          2.7180060182000254,
          2.1568218911095505,
          1.0848024560622616,
          0,
          15.589154253625004,
          17.825467364617996,
          14.420076120380287,
          6.305642066443085,
          4.933847516997691,
          0.2493847565645746,
          0,
          16.301634748695715,
          16.46723584222043,
          14.898560981585884,
          6.104755084728608,
          4.077866342917968,
          0.20551576093013058,
          0,
          2.1514640439691757,
          1.9392326526740389,
          0.14468923007554535,
          0.14749529834838793,
          0.04743234883126668,
          -0.019411409483760522,
          0,
          2.3015418093694007,
          2.1198227395644587,
          0.17386640575094425,
          0.17373865354378681,
          0.059181714832512444,
          0.040718450731136446,
          0,
          0.7657000771959077,
          0.6596823292348897,
          0.5009743030846892,
          0.1325514432348407,
          0.2626016526956487,
          0.07864566679278706,
          0,
          2.6233102534408026,
          2.3890862436274807,
          1.6693707695732307,
          0.593266296396755,
          0.5414797980611397,
          0.33541010710983477,
          0,
          -0.2328516818536075,
          -0.23329130298788137,
          0.10363206313293016,
          -0.43948581192012615,
          -0.4134053544658567,
          -0.05235407386599,
          0,
          -0.15561461553952327,
          -0.02671601244361721,
          0.20669944135153218,
          -0.43929819826040717,
          -0.36155620852178494,
          -0.026207387656529413,
          0,
          44.89762251940361,
          41.105157648665646,
          22.18666334334297,
          7.018929288193831,
          2.2607546982948423,
          0,
          0,
          46.20286077581922,
          42.56272546932549,
          23.16411487010527,
          7.478589743857245,
          1.744552012152012,
          -0.28642585973090995,
          0,
          27.187318185777563,
          27.727747298224603,
          8.12674163195103,
          2.2071659546071154,
          0.614198340619343,
          0,
          0,
          27.187318185777563,
          27.727747298224603,
          8.12674163195103,
          2.2071659546071154,
          0.614198340619343,
          0,
          0
         ]
        },
        {
         "name": "Linear model",
         "type": "box",
         "x": [
          "40%",
          "50%",
          "60%",
          "70%",
          "80%",
          "90%",
          "100%",
          "40%",
          "50%",
          "60%",
          "70%",
          "80%",
          "90%",
          "100%",
          "40%",
          "50%",
          "60%",
          "70%",
          "80%",
          "90%",
          "100%",
          "40%",
          "50%",
          "60%",
          "70%",
          "80%",
          "90%",
          "100%",
          "40%",
          "50%",
          "60%",
          "70%",
          "80%",
          "90%",
          "100%",
          "40%",
          "50%",
          "60%",
          "70%",
          "80%",
          "90%",
          "100%",
          "40%",
          "50%",
          "60%",
          "70%",
          "80%",
          "90%",
          "100%",
          "40%",
          "50%",
          "60%",
          "70%",
          "80%",
          "90%",
          "100%",
          "40%",
          "50%",
          "60%",
          "70%",
          "80%",
          "90%",
          "100%",
          "40%",
          "50%",
          "60%",
          "70%",
          "80%",
          "90%",
          "100%",
          "40%",
          "50%",
          "60%",
          "70%",
          "80%",
          "90%",
          "100%",
          "40%",
          "50%",
          "60%",
          "70%",
          "80%",
          "90%",
          "100%",
          "40%",
          "50%",
          "60%",
          "70%",
          "80%",
          "90%",
          "100%",
          "40%",
          "50%",
          "60%",
          "70%",
          "80%",
          "90%",
          "100%",
          "40%",
          "50%",
          "60%",
          "70%",
          "80%",
          "90%",
          "100%",
          "40%",
          "50%",
          "60%",
          "70%",
          "80%",
          "90%",
          "100%",
          "40%",
          "50%",
          "60%",
          "70%",
          "80%",
          "90%",
          "100%",
          "40%",
          "50%",
          "60%",
          "70%",
          "80%",
          "90%",
          "100%",
          "40%",
          "50%",
          "60%",
          "70%",
          "80%",
          "90%",
          "100%",
          "40%",
          "50%",
          "60%",
          "70%",
          "80%",
          "90%",
          "100%",
          "40%",
          "50%",
          "60%",
          "70%",
          "80%",
          "90%",
          "100%",
          "40%",
          "50%",
          "60%",
          "70%",
          "80%",
          "90%",
          "100%",
          "40%",
          "50%",
          "60%",
          "70%",
          "80%",
          "90%",
          "100%",
          "40%",
          "50%",
          "60%",
          "70%",
          "80%",
          "90%",
          "100%",
          "40%",
          "50%",
          "60%",
          "70%",
          "80%",
          "90%",
          "100%",
          "40%",
          "50%",
          "60%",
          "70%",
          "80%",
          "90%",
          "100%",
          "40%",
          "50%",
          "60%",
          "70%",
          "80%",
          "90%",
          "100%",
          "40%",
          "50%",
          "60%",
          "70%",
          "80%",
          "90%",
          "100%"
         ],
         "y": [
          22.70046099811598,
          18.01941437711213,
          16.1928178693312,
          12.464289596510337,
          7.5211141557817385,
          5.79102794488684,
          0,
          23.623717837353574,
          20.683881983764696,
          19.403533418682684,
          12.484018864253832,
          5.037283968786966,
          1.455798125691088,
          0,
          17.187101986637522,
          15.26205338686768,
          13.955079778051793,
          6.924319819753788,
          2.772306021040738,
          1.5700702769564479,
          0,
          17.187101986637522,
          15.553294545794326,
          14.388987583080548,
          6.924319819753788,
          2.772306021040738,
          1.5700702769564479,
          0,
          15.440565237846283,
          15.54297393694708,
          7.764328600154791,
          0.7702429472207672,
          0.061302806930818576,
          -0.27268980080210614,
          0,
          18.842712983951092,
          18.06477267835507,
          7.829698637184812,
          1.4572178008335102,
          0.9786349727767041,
          0.32555732160260975,
          0,
          12.494113444040856,
          8.492238111853123,
          5.488380482182409,
          1.145773438332498,
          0.29773141097504396,
          0.38978959939014457,
          0,
          12.494113444040856,
          8.492238111853123,
          5.759200483175708,
          2.290138311292389,
          0.7178265841339626,
          0.5859329574790184,
          0,
          1.3488737503033588,
          1.2654702951807817,
          0.38540591488424036,
          0.517050201623781,
          0.453844553545224,
          0.19706093736433505,
          0,
          5.119306777435595,
          5.0718087670059475,
          5.476368444410962,
          5.257959844071647,
          3.4089836133097684,
          1.1957490473256116,
          0,
          2.321898048367854,
          0.795587803498421,
          1.4067433268800444,
          1.239415586909931,
          -0.013782549939911348,
          -0.030013315987553746,
          0,
          3.03975292965738,
          2.0683551829064672,
          1.4067433268800444,
          1.7125889910068914,
          0.8008634207002929,
          1.4003960999340204,
          0,
          1.818102327079707,
          1.6481247185090142,
          1.4410078500420864,
          1.1057819383794132,
          0.9989073968769357,
          0.5595545754489395,
          0,
          11.526332396424744,
          7.226305561667301,
          3.530374762859434,
          1.8292711072406154,
          1.150583677344219,
          1.1050403812096876,
          0,
          1.1793542129547196,
          0.9760339827045938,
          0.8145760564271076,
          0.7481015988509809,
          0.24533712598452384,
          0.004173977568699971,
          0,
          1.2625245808058017,
          1.0423698802572101,
          1.1217979823484714,
          0.8475361651681057,
          0.3034636284232173,
          0.1912300093527719,
          0,
          4.926660395772487,
          3.6577520602936175,
          2.2038890035738112,
          0.8552372074743242,
          1.0946284943085027,
          0.7694670115984681,
          0,
          4.979837885695771,
          3.116949822455517,
          2.324963609449693,
          1.671214464977655,
          0.8169168298397311,
          0.30374952167618874,
          0,
          0.13334820174326634,
          0.17003480169633933,
          0.10934335679516627,
          0.034483613658431445,
          0.039605807399845094,
          -0.04210134711610802,
          0,
          0.5305508872907816,
          0.37253116536651865,
          0.19994245026453417,
          0.16980049891246463,
          0.13952407114995458,
          -0.04210134711610802,
          0,
          2.723172848305977,
          1.8501646066686583,
          2.0866854823657244,
          0.7402603079286307,
          0.792687610464271,
          0.6328276976900971,
          0,
          4.275249605602416,
          4.377880845513415,
          3.661301855992938,
          1.4370294139929962,
          1.7681717934809882,
          1.1541645471607076,
          0,
          0.8268134748345091,
          0.36136765940224524,
          0.8780951474744336,
          0.23259782594644562,
          0.28469897936507227,
          0.12820513055185057,
          0,
          0.8268162407372937,
          0.4393000421955895,
          0.9043034615959678,
          0.6202381797928647,
          0.28469897936507227,
          0.12820513055185057,
          0,
          37.373328617845324,
          26.13730902859247,
          16.681091512044066,
          6.698164587656786,
          0.7534920468944772,
          0,
          0,
          29.70984576806859,
          17.32582420087313,
          9.979531788220031,
          3.951563725757601,
          -0.5882404679651954,
          -0.6340111692188843,
          0,
          -0.5056940322989645,
          -1.6452117817045364,
          -1.1175322997543313,
          -0.8255542553854411,
          -0.27171662084291004,
          0,
          0,
          -0.5056940322989645,
          -1.6452117817045364,
          -1.1175322997543313,
          -0.8255542553854411,
          -0.27171662084291004,
          0,
          0
         ]
        }
       ],
       "layout": {
        "boxmode": "group",
        "font": {
         "size": 18
        },
        "legend": {
         "orientation": "h",
         "x": 1,
         "xanchor": "right",
         "y": 1.02,
         "yanchor": "bottom"
        },
        "margin": {
         "b": 70,
         "l": 70,
         "r": 0,
         "t": 0
        },
        "template": {
         "data": {
          "bar": [
           {
            "error_x": {
             "color": "#2a3f5f"
            },
            "error_y": {
             "color": "#2a3f5f"
            },
            "marker": {
             "line": {
              "color": "white",
              "width": 0.5
             },
             "pattern": {
              "fillmode": "overlay",
              "size": 10,
              "solidity": 0.2
             }
            },
            "type": "bar"
           }
          ],
          "barpolar": [
           {
            "marker": {
             "line": {
              "color": "white",
              "width": 0.5
             },
             "pattern": {
              "fillmode": "overlay",
              "size": 10,
              "solidity": 0.2
             }
            },
            "type": "barpolar"
           }
          ],
          "carpet": [
           {
            "aaxis": {
             "endlinecolor": "#2a3f5f",
             "gridcolor": "#C8D4E3",
             "linecolor": "#C8D4E3",
             "minorgridcolor": "#C8D4E3",
             "startlinecolor": "#2a3f5f"
            },
            "baxis": {
             "endlinecolor": "#2a3f5f",
             "gridcolor": "#C8D4E3",
             "linecolor": "#C8D4E3",
             "minorgridcolor": "#C8D4E3",
             "startlinecolor": "#2a3f5f"
            },
            "type": "carpet"
           }
          ],
          "choropleth": [
           {
            "colorbar": {
             "outlinewidth": 0,
             "ticks": ""
            },
            "type": "choropleth"
           }
          ],
          "contour": [
           {
            "colorbar": {
             "outlinewidth": 0,
             "ticks": ""
            },
            "colorscale": [
             [
              0,
              "#0d0887"
             ],
             [
              0.1111111111111111,
              "#46039f"
             ],
             [
              0.2222222222222222,
              "#7201a8"
             ],
             [
              0.3333333333333333,
              "#9c179e"
             ],
             [
              0.4444444444444444,
              "#bd3786"
             ],
             [
              0.5555555555555556,
              "#d8576b"
             ],
             [
              0.6666666666666666,
              "#ed7953"
             ],
             [
              0.7777777777777778,
              "#fb9f3a"
             ],
             [
              0.8888888888888888,
              "#fdca26"
             ],
             [
              1,
              "#f0f921"
             ]
            ],
            "type": "contour"
           }
          ],
          "contourcarpet": [
           {
            "colorbar": {
             "outlinewidth": 0,
             "ticks": ""
            },
            "type": "contourcarpet"
           }
          ],
          "heatmap": [
           {
            "colorbar": {
             "outlinewidth": 0,
             "ticks": ""
            },
            "colorscale": [
             [
              0,
              "#0d0887"
             ],
             [
              0.1111111111111111,
              "#46039f"
             ],
             [
              0.2222222222222222,
              "#7201a8"
             ],
             [
              0.3333333333333333,
              "#9c179e"
             ],
             [
              0.4444444444444444,
              "#bd3786"
             ],
             [
              0.5555555555555556,
              "#d8576b"
             ],
             [
              0.6666666666666666,
              "#ed7953"
             ],
             [
              0.7777777777777778,
              "#fb9f3a"
             ],
             [
              0.8888888888888888,
              "#fdca26"
             ],
             [
              1,
              "#f0f921"
             ]
            ],
            "type": "heatmap"
           }
          ],
          "heatmapgl": [
           {
            "colorbar": {
             "outlinewidth": 0,
             "ticks": ""
            },
            "colorscale": [
             [
              0,
              "#0d0887"
             ],
             [
              0.1111111111111111,
              "#46039f"
             ],
             [
              0.2222222222222222,
              "#7201a8"
             ],
             [
              0.3333333333333333,
              "#9c179e"
             ],
             [
              0.4444444444444444,
              "#bd3786"
             ],
             [
              0.5555555555555556,
              "#d8576b"
             ],
             [
              0.6666666666666666,
              "#ed7953"
             ],
             [
              0.7777777777777778,
              "#fb9f3a"
             ],
             [
              0.8888888888888888,
              "#fdca26"
             ],
             [
              1,
              "#f0f921"
             ]
            ],
            "type": "heatmapgl"
           }
          ],
          "histogram": [
           {
            "marker": {
             "pattern": {
              "fillmode": "overlay",
              "size": 10,
              "solidity": 0.2
             }
            },
            "type": "histogram"
           }
          ],
          "histogram2d": [
           {
            "colorbar": {
             "outlinewidth": 0,
             "ticks": ""
            },
            "colorscale": [
             [
              0,
              "#0d0887"
             ],
             [
              0.1111111111111111,
              "#46039f"
             ],
             [
              0.2222222222222222,
              "#7201a8"
             ],
             [
              0.3333333333333333,
              "#9c179e"
             ],
             [
              0.4444444444444444,
              "#bd3786"
             ],
             [
              0.5555555555555556,
              "#d8576b"
             ],
             [
              0.6666666666666666,
              "#ed7953"
             ],
             [
              0.7777777777777778,
              "#fb9f3a"
             ],
             [
              0.8888888888888888,
              "#fdca26"
             ],
             [
              1,
              "#f0f921"
             ]
            ],
            "type": "histogram2d"
           }
          ],
          "histogram2dcontour": [
           {
            "colorbar": {
             "outlinewidth": 0,
             "ticks": ""
            },
            "colorscale": [
             [
              0,
              "#0d0887"
             ],
             [
              0.1111111111111111,
              "#46039f"
             ],
             [
              0.2222222222222222,
              "#7201a8"
             ],
             [
              0.3333333333333333,
              "#9c179e"
             ],
             [
              0.4444444444444444,
              "#bd3786"
             ],
             [
              0.5555555555555556,
              "#d8576b"
             ],
             [
              0.6666666666666666,
              "#ed7953"
             ],
             [
              0.7777777777777778,
              "#fb9f3a"
             ],
             [
              0.8888888888888888,
              "#fdca26"
             ],
             [
              1,
              "#f0f921"
             ]
            ],
            "type": "histogram2dcontour"
           }
          ],
          "mesh3d": [
           {
            "colorbar": {
             "outlinewidth": 0,
             "ticks": ""
            },
            "type": "mesh3d"
           }
          ],
          "parcoords": [
           {
            "line": {
             "colorbar": {
              "outlinewidth": 0,
              "ticks": ""
             }
            },
            "type": "parcoords"
           }
          ],
          "pie": [
           {
            "automargin": true,
            "type": "pie"
           }
          ],
          "scatter": [
           {
            "fillpattern": {
             "fillmode": "overlay",
             "size": 10,
             "solidity": 0.2
            },
            "type": "scatter"
           }
          ],
          "scatter3d": [
           {
            "line": {
             "colorbar": {
              "outlinewidth": 0,
              "ticks": ""
             }
            },
            "marker": {
             "colorbar": {
              "outlinewidth": 0,
              "ticks": ""
             }
            },
            "type": "scatter3d"
           }
          ],
          "scattercarpet": [
           {
            "marker": {
             "colorbar": {
              "outlinewidth": 0,
              "ticks": ""
             }
            },
            "type": "scattercarpet"
           }
          ],
          "scattergeo": [
           {
            "marker": {
             "colorbar": {
              "outlinewidth": 0,
              "ticks": ""
             }
            },
            "type": "scattergeo"
           }
          ],
          "scattergl": [
           {
            "marker": {
             "colorbar": {
              "outlinewidth": 0,
              "ticks": ""
             }
            },
            "type": "scattergl"
           }
          ],
          "scattermapbox": [
           {
            "marker": {
             "colorbar": {
              "outlinewidth": 0,
              "ticks": ""
             }
            },
            "type": "scattermapbox"
           }
          ],
          "scatterpolar": [
           {
            "marker": {
             "colorbar": {
              "outlinewidth": 0,
              "ticks": ""
             }
            },
            "type": "scatterpolar"
           }
          ],
          "scatterpolargl": [
           {
            "marker": {
             "colorbar": {
              "outlinewidth": 0,
              "ticks": ""
             }
            },
            "type": "scatterpolargl"
           }
          ],
          "scatterternary": [
           {
            "marker": {
             "colorbar": {
              "outlinewidth": 0,
              "ticks": ""
             }
            },
            "type": "scatterternary"
           }
          ],
          "surface": [
           {
            "colorbar": {
             "outlinewidth": 0,
             "ticks": ""
            },
            "colorscale": [
             [
              0,
              "#0d0887"
             ],
             [
              0.1111111111111111,
              "#46039f"
             ],
             [
              0.2222222222222222,
              "#7201a8"
             ],
             [
              0.3333333333333333,
              "#9c179e"
             ],
             [
              0.4444444444444444,
              "#bd3786"
             ],
             [
              0.5555555555555556,
              "#d8576b"
             ],
             [
              0.6666666666666666,
              "#ed7953"
             ],
             [
              0.7777777777777778,
              "#fb9f3a"
             ],
             [
              0.8888888888888888,
              "#fdca26"
             ],
             [
              1,
              "#f0f921"
             ]
            ],
            "type": "surface"
           }
          ],
          "table": [
           {
            "cells": {
             "fill": {
              "color": "#EBF0F8"
             },
             "line": {
              "color": "white"
             }
            },
            "header": {
             "fill": {
              "color": "#C8D4E3"
             },
             "line": {
              "color": "white"
             }
            },
            "type": "table"
           }
          ]
         },
         "layout": {
          "annotationdefaults": {
           "arrowcolor": "#2a3f5f",
           "arrowhead": 0,
           "arrowwidth": 1
          },
          "autotypenumbers": "strict",
          "coloraxis": {
           "colorbar": {
            "outlinewidth": 0,
            "ticks": ""
           }
          },
          "colorscale": {
           "diverging": [
            [
             0,
             "#8e0152"
            ],
            [
             0.1,
             "#c51b7d"
            ],
            [
             0.2,
             "#de77ae"
            ],
            [
             0.3,
             "#f1b6da"
            ],
            [
             0.4,
             "#fde0ef"
            ],
            [
             0.5,
             "#f7f7f7"
            ],
            [
             0.6,
             "#e6f5d0"
            ],
            [
             0.7,
             "#b8e186"
            ],
            [
             0.8,
             "#7fbc41"
            ],
            [
             0.9,
             "#4d9221"
            ],
            [
             1,
             "#276419"
            ]
           ],
           "sequential": [
            [
             0,
             "#0d0887"
            ],
            [
             0.1111111111111111,
             "#46039f"
            ],
            [
             0.2222222222222222,
             "#7201a8"
            ],
            [
             0.3333333333333333,
             "#9c179e"
            ],
            [
             0.4444444444444444,
             "#bd3786"
            ],
            [
             0.5555555555555556,
             "#d8576b"
            ],
            [
             0.6666666666666666,
             "#ed7953"
            ],
            [
             0.7777777777777778,
             "#fb9f3a"
            ],
            [
             0.8888888888888888,
             "#fdca26"
            ],
            [
             1,
             "#f0f921"
            ]
           ],
           "sequentialminus": [
            [
             0,
             "#0d0887"
            ],
            [
             0.1111111111111111,
             "#46039f"
            ],
            [
             0.2222222222222222,
             "#7201a8"
            ],
            [
             0.3333333333333333,
             "#9c179e"
            ],
            [
             0.4444444444444444,
             "#bd3786"
            ],
            [
             0.5555555555555556,
             "#d8576b"
            ],
            [
             0.6666666666666666,
             "#ed7953"
            ],
            [
             0.7777777777777778,
             "#fb9f3a"
            ],
            [
             0.8888888888888888,
             "#fdca26"
            ],
            [
             1,
             "#f0f921"
            ]
           ]
          },
          "colorway": [
           "#636efa",
           "#EF553B",
           "#00cc96",
           "#ab63fa",
           "#FFA15A",
           "#19d3f3",
           "#FF6692",
           "#B6E880",
           "#FF97FF",
           "#FECB52"
          ],
          "font": {
           "color": "#2a3f5f"
          },
          "geo": {
           "bgcolor": "white",
           "lakecolor": "white",
           "landcolor": "white",
           "showlakes": true,
           "showland": true,
           "subunitcolor": "#C8D4E3"
          },
          "hoverlabel": {
           "align": "left"
          },
          "hovermode": "closest",
          "mapbox": {
           "style": "light"
          },
          "paper_bgcolor": "white",
          "plot_bgcolor": "white",
          "polar": {
           "angularaxis": {
            "gridcolor": "#EBF0F8",
            "linecolor": "#EBF0F8",
            "ticks": ""
           },
           "bgcolor": "white",
           "radialaxis": {
            "gridcolor": "#EBF0F8",
            "linecolor": "#EBF0F8",
            "ticks": ""
           }
          },
          "scene": {
           "xaxis": {
            "backgroundcolor": "white",
            "gridcolor": "#DFE8F3",
            "gridwidth": 2,
            "linecolor": "#EBF0F8",
            "showbackground": true,
            "ticks": "",
            "zerolinecolor": "#EBF0F8"
           },
           "yaxis": {
            "backgroundcolor": "white",
            "gridcolor": "#DFE8F3",
            "gridwidth": 2,
            "linecolor": "#EBF0F8",
            "showbackground": true,
            "ticks": "",
            "zerolinecolor": "#EBF0F8"
           },
           "zaxis": {
            "backgroundcolor": "white",
            "gridcolor": "#DFE8F3",
            "gridwidth": 2,
            "linecolor": "#EBF0F8",
            "showbackground": true,
            "ticks": "",
            "zerolinecolor": "#EBF0F8"
           }
          },
          "shapedefaults": {
           "line": {
            "color": "#2a3f5f"
           }
          },
          "ternary": {
           "aaxis": {
            "gridcolor": "#DFE8F3",
            "linecolor": "#A2B1C6",
            "ticks": ""
           },
           "baxis": {
            "gridcolor": "#DFE8F3",
            "linecolor": "#A2B1C6",
            "ticks": ""
           },
           "bgcolor": "white",
           "caxis": {
            "gridcolor": "#DFE8F3",
            "linecolor": "#A2B1C6",
            "ticks": ""
           }
          },
          "title": {
           "x": 0.05
          },
          "xaxis": {
           "automargin": true,
           "gridcolor": "#EBF0F8",
           "linecolor": "#EBF0F8",
           "ticks": "",
           "title": {
            "standoff": 15
           },
           "zerolinecolor": "#EBF0F8",
           "zerolinewidth": 2
          },
          "yaxis": {
           "automargin": true,
           "gridcolor": "#EBF0F8",
           "linecolor": "#EBF0F8",
           "ticks": "",
           "title": {
            "standoff": 15
           },
           "zerolinecolor": "#EBF0F8",
           "zerolinewidth": 2
          }
         }
        },
        "xaxis": {
         "autorange": "reversed",
         "title": {
          "text": "Features percentage"
         }
        },
        "yaxis": {
         "tickmode": "array",
         "ticktext": [
          "0%",
          "10%",
          "20%",
          "30%",
          "40%"
         ],
         "tickvals": [
          0,
          10,
          20,
          30,
          40
         ],
         "title": {
          "text": "Degradation percentage"
         }
        }
       }
      },
      "text/html": [
       "<div>                            <div id=\"e6734d65-5232-4052-9358-6e58e3897521\" class=\"plotly-graph-div\" style=\"height:525px; width:100%;\"></div>            <script type=\"text/javascript\">                require([\"plotly\"], function(Plotly) {                    window.PLOTLYENV=window.PLOTLYENV || {};                                    if (document.getElementById(\"e6734d65-5232-4052-9358-6e58e3897521\")) {                    Plotly.newPlot(                        \"e6734d65-5232-4052-9358-6e58e3897521\",                        [{\"name\":\"Decision tree\",\"x\":[\"40%\",\"50%\",\"60%\",\"70%\",\"80%\",\"90%\",\"100%\",\"40%\",\"50%\",\"60%\",\"70%\",\"80%\",\"90%\",\"100%\",\"40%\",\"50%\",\"60%\",\"70%\",\"80%\",\"90%\",\"100%\",\"40%\",\"50%\",\"60%\",\"70%\",\"80%\",\"90%\",\"100%\",\"40%\",\"50%\",\"60%\",\"70%\",\"80%\",\"90%\",\"100%\",\"40%\",\"50%\",\"60%\",\"70%\",\"80%\",\"90%\",\"100%\",\"40%\",\"50%\",\"60%\",\"70%\",\"80%\",\"90%\",\"100%\",\"40%\",\"50%\",\"60%\",\"70%\",\"80%\",\"90%\",\"100%\",\"40%\",\"50%\",\"60%\",\"70%\",\"80%\",\"90%\",\"100%\",\"40%\",\"50%\",\"60%\",\"70%\",\"80%\",\"90%\",\"100%\",\"40%\",\"50%\",\"60%\",\"70%\",\"80%\",\"90%\",\"100%\",\"40%\",\"50%\",\"60%\",\"70%\",\"80%\",\"90%\",\"100%\",\"40%\",\"50%\",\"60%\",\"70%\",\"80%\",\"90%\",\"100%\",\"40%\",\"50%\",\"60%\",\"70%\",\"80%\",\"90%\",\"100%\",\"40%\",\"50%\",\"60%\",\"70%\",\"80%\",\"90%\",\"100%\",\"40%\",\"50%\",\"60%\",\"70%\",\"80%\",\"90%\",\"100%\",\"40%\",\"50%\",\"60%\",\"70%\",\"80%\",\"90%\",\"100%\",\"40%\",\"50%\",\"60%\",\"70%\",\"80%\",\"90%\",\"100%\",\"40%\",\"50%\",\"60%\",\"70%\",\"80%\",\"90%\",\"100%\",\"40%\",\"50%\",\"60%\",\"70%\",\"80%\",\"90%\",\"100%\",\"40%\",\"50%\",\"60%\",\"70%\",\"80%\",\"90%\",\"100%\",\"40%\",\"50%\",\"60%\",\"70%\",\"80%\",\"90%\",\"100%\",\"40%\",\"50%\",\"60%\",\"70%\",\"80%\",\"90%\",\"100%\",\"40%\",\"50%\",\"60%\",\"70%\",\"80%\",\"90%\",\"100%\",\"40%\",\"50%\",\"60%\",\"70%\",\"80%\",\"90%\",\"100%\",\"40%\",\"50%\",\"60%\",\"70%\",\"80%\",\"90%\",\"100%\",\"40%\",\"50%\",\"60%\",\"70%\",\"80%\",\"90%\",\"100%\",\"40%\",\"50%\",\"60%\",\"70%\",\"80%\",\"90%\",\"100%\"],\"y\":[28.734845551544062,8.010814692695423,8.091191147715582,5.334732670379038,3.9657894455798592,3.982001322317086,0.0,17.584078104336033,4.383434806847264,4.65292003081379,5.4681216624680395,3.0988304637104003,2.7965822723600042,0.0,14.547367860215077,5.840969052495781,5.606671290835685,5.626001992581808,4.812929608304362,4.303134552505017,0.0,14.650616875237855,5.840969052495781,5.606671290835685,5.626001992581808,4.812929608304362,4.303134552505017,0.0,5.487363605406181,0.686976907581871,0.7385347723339653,0.9327165210159083,0.435661566838752,0.5323435712845326,0.0,6.355276668150179,1.4563241742550082,1.4593565636141892,1.693407513745937,-0.1930035375977912,1.7582511376349141,0.0,5.431113102533047,2.668359532103304,2.8630943248195484,2.528614224408754,-0.9322888514520233,-1.5684060449981496,0.0,5.474355303534606,2.668359532103304,2.8630943248195484,2.528614224408754,-0.9322888514520233,-1.5684060449981496,0.0,1.2344991861547139,1.8080878814608958,1.5276234889739726,0.8454737149785396,0.46154464735488343,0.22459176057522123,0.0,4.062342392965402,4.363261822851094,3.2840823515981166,2.9103819876358794,1.2307618664423425,1.0748696950685366,0.0,1.1895610043522242,1.0982928267597614,0.6478952513015335,0.4483697600962566,0.38854096376623737,0.48056751133144227,0.0,1.7580334873099068,1.5682596447761932,1.727261801349611,1.2548879829848092,0.38854096376623737,0.7554848696122995,0.0,2.050046051654908,1.6409559909187688,1.603662626209712,1.4341153695978437,0.49328950592456566,0.2362426780950777,0.0,6.6657263959131186,3.57578015261677,3.3317382922187,2.9303110637898255,0.4428162374159439,0.12416702696130821,0.0,1.4540477419439535,0.6691052085685989,0.42376808258404175,0.19109144932925037,-0.07482241271363765,-0.03323722878807445,0.0,1.4913203882772175,0.6691052085685989,0.4611792889408717,0.46952724407832713,-0.03741120635682993,0.0,0.0,8.991224340413472,7.419618196755751,4.922621431944396,3.291777108753735,1.8793721730571034,0.5472655338596311,0.0,12.132219073425698,10.144391295758137,7.1118818777149535,4.549045097228078,2.6398890609629966,1.4864990085748486,0.0,0.31100850267566926,0.1593406238605266,0.242348274154236,0.1805407007685389,-0.01022410437583332,-0.005193712571749387,0.0,0.39761051845559336,0.28836980076674124,0.3225145783255945,0.19624342841099152,0.12255066777292489,0.11327319627935095,0.0,0.36977505767209484,0.23837454931195934,-0.07788211676298396,0.4484824508980467,0.02659731147847122,0.15748407197084813,0.0,0.7977599242219635,0.6172700237444206,0.5661754353675774,0.8490439675982953,0.35934978173254306,0.5908125516125851,0.0,-0.8287651048369149,-0.8289554978916591,-0.33705121829070706,-0.310210137569622,-0.25823498339081485,-0.18068152927954717,0.0,-0.6470718892706007,-0.621053041738806,-0.33705121829070706,-0.310210137569622,-0.07698506783435644,-0.05210115341864885,0.0,28.030960207335564,20.14515808918539,13.444690189299047,5.715482173405406,-0.11000312412055013,0.0,0.0,17.108588739285548,14.257798798971011,10.68921143288215,3.301055867103564,-0.4105293991656378,-0.6340111692188843,0.0,0.515458415916803,1.1438551948248277,1.1825788415055105,0.6410615251137286,0.19069369842987793,0.0,0.0,0.7155608224600707,1.1438551948248277,1.1825788415055105,0.6410615251137286,0.19069369842987793,0.0,0.0],\"type\":\"box\"},{\"name\":\"F-score\",\"x\":[\"40%\",\"50%\",\"60%\",\"70%\",\"80%\",\"90%\",\"100%\",\"40%\",\"50%\",\"60%\",\"70%\",\"80%\",\"90%\",\"100%\",\"40%\",\"50%\",\"60%\",\"70%\",\"80%\",\"90%\",\"100%\",\"40%\",\"50%\",\"60%\",\"70%\",\"80%\",\"90%\",\"100%\",\"40%\",\"50%\",\"60%\",\"70%\",\"80%\",\"90%\",\"100%\",\"40%\",\"50%\",\"60%\",\"70%\",\"80%\",\"90%\",\"100%\",\"40%\",\"50%\",\"60%\",\"70%\",\"80%\",\"90%\",\"100%\",\"40%\",\"50%\",\"60%\",\"70%\",\"80%\",\"90%\",\"100%\",\"40%\",\"50%\",\"60%\",\"70%\",\"80%\",\"90%\",\"100%\",\"40%\",\"50%\",\"60%\",\"70%\",\"80%\",\"90%\",\"100%\",\"40%\",\"50%\",\"60%\",\"70%\",\"80%\",\"90%\",\"100%\",\"40%\",\"50%\",\"60%\",\"70%\",\"80%\",\"90%\",\"100%\",\"40%\",\"50%\",\"60%\",\"70%\",\"80%\",\"90%\",\"100%\",\"40%\",\"50%\",\"60%\",\"70%\",\"80%\",\"90%\",\"100%\",\"40%\",\"50%\",\"60%\",\"70%\",\"80%\",\"90%\",\"100%\",\"40%\",\"50%\",\"60%\",\"70%\",\"80%\",\"90%\",\"100%\",\"40%\",\"50%\",\"60%\",\"70%\",\"80%\",\"90%\",\"100%\",\"40%\",\"50%\",\"60%\",\"70%\",\"80%\",\"90%\",\"100%\",\"40%\",\"50%\",\"60%\",\"70%\",\"80%\",\"90%\",\"100%\",\"40%\",\"50%\",\"60%\",\"70%\",\"80%\",\"90%\",\"100%\",\"40%\",\"50%\",\"60%\",\"70%\",\"80%\",\"90%\",\"100%\",\"40%\",\"50%\",\"60%\",\"70%\",\"80%\",\"90%\",\"100%\",\"40%\",\"50%\",\"60%\",\"70%\",\"80%\",\"90%\",\"100%\",\"40%\",\"50%\",\"60%\",\"70%\",\"80%\",\"90%\",\"100%\",\"40%\",\"50%\",\"60%\",\"70%\",\"80%\",\"90%\",\"100%\",\"40%\",\"50%\",\"60%\",\"70%\",\"80%\",\"90%\",\"100%\",\"40%\",\"50%\",\"60%\",\"70%\",\"80%\",\"90%\",\"100%\",\"40%\",\"50%\",\"60%\",\"70%\",\"80%\",\"90%\",\"100%\"],\"y\":[18.059303426155815,17.52914748267799,17.79426981520247,14.268700313246308,2.3166251217542233,1.1715548022772637,0.0,8.315622066669548,9.807165548649355,11.109227847393067,3.0551181010681994,0.14216417826472538,-0.7636248694032455,0.0,9.082786252999709,8.040948850111418,7.9114852623445975,2.3641623606639572,1.8673965922986202,1.3677577531471807,0.0,9.217636517004912,8.040948850111418,7.9114852623445975,2.3641623606639572,1.8673965922986202,1.3677577531471807,0.0,18.384886417452783,16.772914968598553,16.08051330105349,14.434596844470471,7.108355353178797,0.2535798509318177,0.0,17.508803273851715,17.924797585534858,18.030082144085934,17.66204414183592,8.891787440546295,0.2800937599937381,0.0,14.393643222586904,14.866190447260818,13.490022078191299,11.889632275992923,4.771375351199558,-0.7559838389423756,0.0,14.393643222586904,14.866190447260818,13.490022078191299,11.889632275992923,4.92232870679663,-0.7559838389423756,0.0,1.5680020296832575,1.5592177763238735,0.7705813391555738,0.5688849794645567,1.1211917081770273,0.6459712844550269,0.0,4.780462962079568,4.190730954490429,3.4192481184208146,2.5653860490241986,1.3136510351194342,0.6217016641328899,0.0,1.582289489272437,0.7621206068740283,-0.5921633014548622,-1.0397994210339823,-0.11048296461990681,0.5935893667297409,0.0,3.9465573382928554,1.5278929300299726,-0.1266477854525272,-0.21419830154800756,0.14842619271401292,0.9125498854943737,0.0,3.7358944868318367,4.092907394479727,4.500402755782151,4.354545404214938,3.210625378448606,1.259960949840433,0.0,5.655820899962194,4.463848213630861,5.134258981451989,4.0538525542625825,2.870172486116307,1.7917446165367834,0.0,2.368490076497143,2.144161398379796,2.5762774361013263,2.6138272024817,1.998690550521287,0.9935772848590374,0.0,2.4890716507050437,2.539143349791617,2.883637922046234,2.7180060182000254,2.1568218911095505,1.0848024560622616,0.0,15.589154253625004,17.825467364617996,14.420076120380287,6.305642066443085,4.933847516997691,0.2493847565645746,0.0,16.301634748695715,16.46723584222043,14.898560981585884,6.104755084728608,4.077866342917968,0.20551576093013058,0.0,2.1514640439691757,1.9392326526740389,0.14468923007554535,0.14749529834838793,0.04743234883126668,-0.019411409483760522,0.0,2.3015418093694007,2.1198227395644587,0.17386640575094425,0.17373865354378681,0.059181714832512444,0.040718450731136446,0.0,0.7657000771959077,0.6596823292348897,0.5009743030846892,0.1325514432348407,0.2626016526956487,0.07864566679278706,0.0,2.6233102534408026,2.3890862436274807,1.6693707695732307,0.593266296396755,0.5414797980611397,0.33541010710983477,0.0,-0.2328516818536075,-0.23329130298788137,0.10363206313293016,-0.43948581192012615,-0.4134053544658567,-0.05235407386599,0.0,-0.15561461553952327,-0.02671601244361721,0.20669944135153218,-0.43929819826040717,-0.36155620852178494,-0.026207387656529413,0.0,44.89762251940361,41.105157648665646,22.18666334334297,7.018929288193831,2.2607546982948423,0.0,0.0,46.20286077581922,42.56272546932549,23.16411487010527,7.478589743857245,1.744552012152012,-0.28642585973090995,0.0,27.187318185777563,27.727747298224603,8.12674163195103,2.2071659546071154,0.614198340619343,0.0,0.0,27.187318185777563,27.727747298224603,8.12674163195103,2.2071659546071154,0.614198340619343,0.0,0.0],\"type\":\"box\"},{\"name\":\"Linear model\",\"x\":[\"40%\",\"50%\",\"60%\",\"70%\",\"80%\",\"90%\",\"100%\",\"40%\",\"50%\",\"60%\",\"70%\",\"80%\",\"90%\",\"100%\",\"40%\",\"50%\",\"60%\",\"70%\",\"80%\",\"90%\",\"100%\",\"40%\",\"50%\",\"60%\",\"70%\",\"80%\",\"90%\",\"100%\",\"40%\",\"50%\",\"60%\",\"70%\",\"80%\",\"90%\",\"100%\",\"40%\",\"50%\",\"60%\",\"70%\",\"80%\",\"90%\",\"100%\",\"40%\",\"50%\",\"60%\",\"70%\",\"80%\",\"90%\",\"100%\",\"40%\",\"50%\",\"60%\",\"70%\",\"80%\",\"90%\",\"100%\",\"40%\",\"50%\",\"60%\",\"70%\",\"80%\",\"90%\",\"100%\",\"40%\",\"50%\",\"60%\",\"70%\",\"80%\",\"90%\",\"100%\",\"40%\",\"50%\",\"60%\",\"70%\",\"80%\",\"90%\",\"100%\",\"40%\",\"50%\",\"60%\",\"70%\",\"80%\",\"90%\",\"100%\",\"40%\",\"50%\",\"60%\",\"70%\",\"80%\",\"90%\",\"100%\",\"40%\",\"50%\",\"60%\",\"70%\",\"80%\",\"90%\",\"100%\",\"40%\",\"50%\",\"60%\",\"70%\",\"80%\",\"90%\",\"100%\",\"40%\",\"50%\",\"60%\",\"70%\",\"80%\",\"90%\",\"100%\",\"40%\",\"50%\",\"60%\",\"70%\",\"80%\",\"90%\",\"100%\",\"40%\",\"50%\",\"60%\",\"70%\",\"80%\",\"90%\",\"100%\",\"40%\",\"50%\",\"60%\",\"70%\",\"80%\",\"90%\",\"100%\",\"40%\",\"50%\",\"60%\",\"70%\",\"80%\",\"90%\",\"100%\",\"40%\",\"50%\",\"60%\",\"70%\",\"80%\",\"90%\",\"100%\",\"40%\",\"50%\",\"60%\",\"70%\",\"80%\",\"90%\",\"100%\",\"40%\",\"50%\",\"60%\",\"70%\",\"80%\",\"90%\",\"100%\",\"40%\",\"50%\",\"60%\",\"70%\",\"80%\",\"90%\",\"100%\",\"40%\",\"50%\",\"60%\",\"70%\",\"80%\",\"90%\",\"100%\",\"40%\",\"50%\",\"60%\",\"70%\",\"80%\",\"90%\",\"100%\",\"40%\",\"50%\",\"60%\",\"70%\",\"80%\",\"90%\",\"100%\",\"40%\",\"50%\",\"60%\",\"70%\",\"80%\",\"90%\",\"100%\"],\"y\":[22.70046099811598,18.01941437711213,16.1928178693312,12.464289596510337,7.5211141557817385,5.79102794488684,0.0,23.623717837353574,20.683881983764696,19.403533418682684,12.484018864253832,5.037283968786966,1.455798125691088,0.0,17.187101986637522,15.26205338686768,13.955079778051793,6.924319819753788,2.772306021040738,1.5700702769564479,0.0,17.187101986637522,15.553294545794326,14.388987583080548,6.924319819753788,2.772306021040738,1.5700702769564479,0.0,15.440565237846283,15.54297393694708,7.764328600154791,0.7702429472207672,0.061302806930818576,-0.27268980080210614,0.0,18.842712983951092,18.06477267835507,7.829698637184812,1.4572178008335102,0.9786349727767041,0.32555732160260975,0.0,12.494113444040856,8.492238111853123,5.488380482182409,1.145773438332498,0.29773141097504396,0.38978959939014457,0.0,12.494113444040856,8.492238111853123,5.759200483175708,2.290138311292389,0.7178265841339626,0.5859329574790184,0.0,1.3488737503033588,1.2654702951807817,0.38540591488424036,0.517050201623781,0.453844553545224,0.19706093736433505,0.0,5.119306777435595,5.0718087670059475,5.476368444410962,5.257959844071647,3.4089836133097684,1.1957490473256116,0.0,2.321898048367854,0.795587803498421,1.4067433268800444,1.239415586909931,-0.013782549939911348,-0.030013315987553746,0.0,3.03975292965738,2.0683551829064672,1.4067433268800444,1.7125889910068914,0.8008634207002929,1.4003960999340204,0.0,1.818102327079707,1.6481247185090142,1.4410078500420864,1.1057819383794132,0.9989073968769357,0.5595545754489395,0.0,11.526332396424744,7.226305561667301,3.530374762859434,1.8292711072406154,1.150583677344219,1.1050403812096876,0.0,1.1793542129547196,0.9760339827045938,0.8145760564271076,0.7481015988509809,0.24533712598452384,0.004173977568699971,0.0,1.2625245808058017,1.0423698802572101,1.1217979823484714,0.8475361651681057,0.3034636284232173,0.1912300093527719,0.0,4.926660395772487,3.6577520602936175,2.2038890035738112,0.8552372074743242,1.0946284943085027,0.7694670115984681,0.0,4.979837885695771,3.116949822455517,2.324963609449693,1.671214464977655,0.8169168298397311,0.30374952167618874,0.0,0.13334820174326634,0.17003480169633933,0.10934335679516627,0.034483613658431445,0.039605807399845094,-0.04210134711610802,0.0,0.5305508872907816,0.37253116536651865,0.19994245026453417,0.16980049891246463,0.13952407114995458,-0.04210134711610802,0.0,2.723172848305977,1.8501646066686583,2.0866854823657244,0.7402603079286307,0.792687610464271,0.6328276976900971,0.0,4.275249605602416,4.377880845513415,3.661301855992938,1.4370294139929962,1.7681717934809882,1.1541645471607076,0.0,0.8268134748345091,0.36136765940224524,0.8780951474744336,0.23259782594644562,0.28469897936507227,0.12820513055185057,0.0,0.8268162407372937,0.4393000421955895,0.9043034615959678,0.6202381797928647,0.28469897936507227,0.12820513055185057,0.0,37.373328617845324,26.13730902859247,16.681091512044066,6.698164587656786,0.7534920468944772,0.0,0.0,29.70984576806859,17.32582420087313,9.979531788220031,3.951563725757601,-0.5882404679651954,-0.6340111692188843,0.0,-0.5056940322989645,-1.6452117817045364,-1.1175322997543313,-0.8255542553854411,-0.27171662084291004,0.0,0.0,-0.5056940322989645,-1.6452117817045364,-1.1175322997543313,-0.8255542553854411,-0.27171662084291004,0.0,0.0],\"type\":\"box\"}],                        {\"font\":{\"size\":18},\"margin\":{\"b\":70,\"l\":70,\"r\":0,\"t\":0},\"template\":{\"data\":{\"barpolar\":[{\"marker\":{\"line\":{\"color\":\"white\",\"width\":0.5},\"pattern\":{\"fillmode\":\"overlay\",\"size\":10,\"solidity\":0.2}},\"type\":\"barpolar\"}],\"bar\":[{\"error_x\":{\"color\":\"#2a3f5f\"},\"error_y\":{\"color\":\"#2a3f5f\"},\"marker\":{\"line\":{\"color\":\"white\",\"width\":0.5},\"pattern\":{\"fillmode\":\"overlay\",\"size\":10,\"solidity\":0.2}},\"type\":\"bar\"}],\"carpet\":[{\"aaxis\":{\"endlinecolor\":\"#2a3f5f\",\"gridcolor\":\"#C8D4E3\",\"linecolor\":\"#C8D4E3\",\"minorgridcolor\":\"#C8D4E3\",\"startlinecolor\":\"#2a3f5f\"},\"baxis\":{\"endlinecolor\":\"#2a3f5f\",\"gridcolor\":\"#C8D4E3\",\"linecolor\":\"#C8D4E3\",\"minorgridcolor\":\"#C8D4E3\",\"startlinecolor\":\"#2a3f5f\"},\"type\":\"carpet\"}],\"choropleth\":[{\"colorbar\":{\"outlinewidth\":0,\"ticks\":\"\"},\"type\":\"choropleth\"}],\"contourcarpet\":[{\"colorbar\":{\"outlinewidth\":0,\"ticks\":\"\"},\"type\":\"contourcarpet\"}],\"contour\":[{\"colorbar\":{\"outlinewidth\":0,\"ticks\":\"\"},\"colorscale\":[[0.0,\"#0d0887\"],[0.1111111111111111,\"#46039f\"],[0.2222222222222222,\"#7201a8\"],[0.3333333333333333,\"#9c179e\"],[0.4444444444444444,\"#bd3786\"],[0.5555555555555556,\"#d8576b\"],[0.6666666666666666,\"#ed7953\"],[0.7777777777777778,\"#fb9f3a\"],[0.8888888888888888,\"#fdca26\"],[1.0,\"#f0f921\"]],\"type\":\"contour\"}],\"heatmapgl\":[{\"colorbar\":{\"outlinewidth\":0,\"ticks\":\"\"},\"colorscale\":[[0.0,\"#0d0887\"],[0.1111111111111111,\"#46039f\"],[0.2222222222222222,\"#7201a8\"],[0.3333333333333333,\"#9c179e\"],[0.4444444444444444,\"#bd3786\"],[0.5555555555555556,\"#d8576b\"],[0.6666666666666666,\"#ed7953\"],[0.7777777777777778,\"#fb9f3a\"],[0.8888888888888888,\"#fdca26\"],[1.0,\"#f0f921\"]],\"type\":\"heatmapgl\"}],\"heatmap\":[{\"colorbar\":{\"outlinewidth\":0,\"ticks\":\"\"},\"colorscale\":[[0.0,\"#0d0887\"],[0.1111111111111111,\"#46039f\"],[0.2222222222222222,\"#7201a8\"],[0.3333333333333333,\"#9c179e\"],[0.4444444444444444,\"#bd3786\"],[0.5555555555555556,\"#d8576b\"],[0.6666666666666666,\"#ed7953\"],[0.7777777777777778,\"#fb9f3a\"],[0.8888888888888888,\"#fdca26\"],[1.0,\"#f0f921\"]],\"type\":\"heatmap\"}],\"histogram2dcontour\":[{\"colorbar\":{\"outlinewidth\":0,\"ticks\":\"\"},\"colorscale\":[[0.0,\"#0d0887\"],[0.1111111111111111,\"#46039f\"],[0.2222222222222222,\"#7201a8\"],[0.3333333333333333,\"#9c179e\"],[0.4444444444444444,\"#bd3786\"],[0.5555555555555556,\"#d8576b\"],[0.6666666666666666,\"#ed7953\"],[0.7777777777777778,\"#fb9f3a\"],[0.8888888888888888,\"#fdca26\"],[1.0,\"#f0f921\"]],\"type\":\"histogram2dcontour\"}],\"histogram2d\":[{\"colorbar\":{\"outlinewidth\":0,\"ticks\":\"\"},\"colorscale\":[[0.0,\"#0d0887\"],[0.1111111111111111,\"#46039f\"],[0.2222222222222222,\"#7201a8\"],[0.3333333333333333,\"#9c179e\"],[0.4444444444444444,\"#bd3786\"],[0.5555555555555556,\"#d8576b\"],[0.6666666666666666,\"#ed7953\"],[0.7777777777777778,\"#fb9f3a\"],[0.8888888888888888,\"#fdca26\"],[1.0,\"#f0f921\"]],\"type\":\"histogram2d\"}],\"histogram\":[{\"marker\":{\"pattern\":{\"fillmode\":\"overlay\",\"size\":10,\"solidity\":0.2}},\"type\":\"histogram\"}],\"mesh3d\":[{\"colorbar\":{\"outlinewidth\":0,\"ticks\":\"\"},\"type\":\"mesh3d\"}],\"parcoords\":[{\"line\":{\"colorbar\":{\"outlinewidth\":0,\"ticks\":\"\"}},\"type\":\"parcoords\"}],\"pie\":[{\"automargin\":true,\"type\":\"pie\"}],\"scatter3d\":[{\"line\":{\"colorbar\":{\"outlinewidth\":0,\"ticks\":\"\"}},\"marker\":{\"colorbar\":{\"outlinewidth\":0,\"ticks\":\"\"}},\"type\":\"scatter3d\"}],\"scattercarpet\":[{\"marker\":{\"colorbar\":{\"outlinewidth\":0,\"ticks\":\"\"}},\"type\":\"scattercarpet\"}],\"scattergeo\":[{\"marker\":{\"colorbar\":{\"outlinewidth\":0,\"ticks\":\"\"}},\"type\":\"scattergeo\"}],\"scattergl\":[{\"marker\":{\"colorbar\":{\"outlinewidth\":0,\"ticks\":\"\"}},\"type\":\"scattergl\"}],\"scattermapbox\":[{\"marker\":{\"colorbar\":{\"outlinewidth\":0,\"ticks\":\"\"}},\"type\":\"scattermapbox\"}],\"scatterpolargl\":[{\"marker\":{\"colorbar\":{\"outlinewidth\":0,\"ticks\":\"\"}},\"type\":\"scatterpolargl\"}],\"scatterpolar\":[{\"marker\":{\"colorbar\":{\"outlinewidth\":0,\"ticks\":\"\"}},\"type\":\"scatterpolar\"}],\"scatter\":[{\"fillpattern\":{\"fillmode\":\"overlay\",\"size\":10,\"solidity\":0.2},\"type\":\"scatter\"}],\"scatterternary\":[{\"marker\":{\"colorbar\":{\"outlinewidth\":0,\"ticks\":\"\"}},\"type\":\"scatterternary\"}],\"surface\":[{\"colorbar\":{\"outlinewidth\":0,\"ticks\":\"\"},\"colorscale\":[[0.0,\"#0d0887\"],[0.1111111111111111,\"#46039f\"],[0.2222222222222222,\"#7201a8\"],[0.3333333333333333,\"#9c179e\"],[0.4444444444444444,\"#bd3786\"],[0.5555555555555556,\"#d8576b\"],[0.6666666666666666,\"#ed7953\"],[0.7777777777777778,\"#fb9f3a\"],[0.8888888888888888,\"#fdca26\"],[1.0,\"#f0f921\"]],\"type\":\"surface\"}],\"table\":[{\"cells\":{\"fill\":{\"color\":\"#EBF0F8\"},\"line\":{\"color\":\"white\"}},\"header\":{\"fill\":{\"color\":\"#C8D4E3\"},\"line\":{\"color\":\"white\"}},\"type\":\"table\"}]},\"layout\":{\"annotationdefaults\":{\"arrowcolor\":\"#2a3f5f\",\"arrowhead\":0,\"arrowwidth\":1},\"autotypenumbers\":\"strict\",\"coloraxis\":{\"colorbar\":{\"outlinewidth\":0,\"ticks\":\"\"}},\"colorscale\":{\"diverging\":[[0,\"#8e0152\"],[0.1,\"#c51b7d\"],[0.2,\"#de77ae\"],[0.3,\"#f1b6da\"],[0.4,\"#fde0ef\"],[0.5,\"#f7f7f7\"],[0.6,\"#e6f5d0\"],[0.7,\"#b8e186\"],[0.8,\"#7fbc41\"],[0.9,\"#4d9221\"],[1,\"#276419\"]],\"sequential\":[[0.0,\"#0d0887\"],[0.1111111111111111,\"#46039f\"],[0.2222222222222222,\"#7201a8\"],[0.3333333333333333,\"#9c179e\"],[0.4444444444444444,\"#bd3786\"],[0.5555555555555556,\"#d8576b\"],[0.6666666666666666,\"#ed7953\"],[0.7777777777777778,\"#fb9f3a\"],[0.8888888888888888,\"#fdca26\"],[1.0,\"#f0f921\"]],\"sequentialminus\":[[0.0,\"#0d0887\"],[0.1111111111111111,\"#46039f\"],[0.2222222222222222,\"#7201a8\"],[0.3333333333333333,\"#9c179e\"],[0.4444444444444444,\"#bd3786\"],[0.5555555555555556,\"#d8576b\"],[0.6666666666666666,\"#ed7953\"],[0.7777777777777778,\"#fb9f3a\"],[0.8888888888888888,\"#fdca26\"],[1.0,\"#f0f921\"]]},\"colorway\":[\"#636efa\",\"#EF553B\",\"#00cc96\",\"#ab63fa\",\"#FFA15A\",\"#19d3f3\",\"#FF6692\",\"#B6E880\",\"#FF97FF\",\"#FECB52\"],\"font\":{\"color\":\"#2a3f5f\"},\"geo\":{\"bgcolor\":\"white\",\"lakecolor\":\"white\",\"landcolor\":\"white\",\"showlakes\":true,\"showland\":true,\"subunitcolor\":\"#C8D4E3\"},\"hoverlabel\":{\"align\":\"left\"},\"hovermode\":\"closest\",\"mapbox\":{\"style\":\"light\"},\"paper_bgcolor\":\"white\",\"plot_bgcolor\":\"white\",\"polar\":{\"angularaxis\":{\"gridcolor\":\"#EBF0F8\",\"linecolor\":\"#EBF0F8\",\"ticks\":\"\"},\"bgcolor\":\"white\",\"radialaxis\":{\"gridcolor\":\"#EBF0F8\",\"linecolor\":\"#EBF0F8\",\"ticks\":\"\"}},\"scene\":{\"xaxis\":{\"backgroundcolor\":\"white\",\"gridcolor\":\"#DFE8F3\",\"gridwidth\":2,\"linecolor\":\"#EBF0F8\",\"showbackground\":true,\"ticks\":\"\",\"zerolinecolor\":\"#EBF0F8\"},\"yaxis\":{\"backgroundcolor\":\"white\",\"gridcolor\":\"#DFE8F3\",\"gridwidth\":2,\"linecolor\":\"#EBF0F8\",\"showbackground\":true,\"ticks\":\"\",\"zerolinecolor\":\"#EBF0F8\"},\"zaxis\":{\"backgroundcolor\":\"white\",\"gridcolor\":\"#DFE8F3\",\"gridwidth\":2,\"linecolor\":\"#EBF0F8\",\"showbackground\":true,\"ticks\":\"\",\"zerolinecolor\":\"#EBF0F8\"}},\"shapedefaults\":{\"line\":{\"color\":\"#2a3f5f\"}},\"ternary\":{\"aaxis\":{\"gridcolor\":\"#DFE8F3\",\"linecolor\":\"#A2B1C6\",\"ticks\":\"\"},\"baxis\":{\"gridcolor\":\"#DFE8F3\",\"linecolor\":\"#A2B1C6\",\"ticks\":\"\"},\"bgcolor\":\"white\",\"caxis\":{\"gridcolor\":\"#DFE8F3\",\"linecolor\":\"#A2B1C6\",\"ticks\":\"\"}},\"title\":{\"x\":0.05},\"xaxis\":{\"automargin\":true,\"gridcolor\":\"#EBF0F8\",\"linecolor\":\"#EBF0F8\",\"ticks\":\"\",\"title\":{\"standoff\":15},\"zerolinecolor\":\"#EBF0F8\",\"zerolinewidth\":2},\"yaxis\":{\"automargin\":true,\"gridcolor\":\"#EBF0F8\",\"linecolor\":\"#EBF0F8\",\"ticks\":\"\",\"title\":{\"standoff\":15},\"zerolinecolor\":\"#EBF0F8\",\"zerolinewidth\":2}}},\"xaxis\":{\"title\":{\"text\":\"Features percentage\"},\"autorange\":\"reversed\"},\"yaxis\":{\"title\":{\"text\":\"Degradation percentage\"},\"tickmode\":\"array\",\"tickvals\":[0,10,20,30,40],\"ticktext\":[\"0%\",\"10%\",\"20%\",\"30%\",\"40%\"]},\"legend\":{\"orientation\":\"h\",\"yanchor\":\"bottom\",\"y\":1.02,\"xanchor\":\"right\",\"x\":1},\"boxmode\":\"group\"},                        {\"responsive\": true}                    ).then(function(){\n",
       "                            \n",
       "var gd = document.getElementById('e6734d65-5232-4052-9358-6e58e3897521');\n",
       "var x = new MutationObserver(function (mutations, observer) {{\n",
       "        var display = window.getComputedStyle(gd).display;\n",
       "        if (!display || display === 'none') {{\n",
       "            console.log([gd, 'removed!']);\n",
       "            Plotly.purge(gd);\n",
       "            observer.disconnect();\n",
       "        }}\n",
       "}});\n",
       "\n",
       "// Listen for the removal of the full notebook cells\n",
       "var notebookContainer = gd.closest('#notebook-container');\n",
       "if (notebookContainer) {{\n",
       "    x.observe(notebookContainer, {childList: true});\n",
       "}}\n",
       "\n",
       "// Listen for the clearing of the current output cell\n",
       "var outputEl = gd.closest('.output');\n",
       "if (outputEl) {{\n",
       "    x.observe(outputEl, {childList: true});\n",
       "}}\n",
       "\n",
       "                        })                };                });            </script>        </div>"
      ]
     },
     "metadata": {},
     "output_type": "display_data"
    }
   ],
   "source": [
    "# Select best architecture on each feature selection percentage\n",
    "indices_best = scores_df.groupby([\n",
    "    \"dataset\", \"model\", \"fs_method\", \n",
    "    \"fs_percent\", \"fs_n_features\"\n",
    "    ])[\"balanced_accuracy_mean\"].idxmax()\n",
    "\n",
    "\n",
    "best_scores_df = scores_df.loc[indices_best].query(\"fs_percent==1\").groupby([\"dataset\", \"model\"], as_index=False)[\"balanced_accuracy_mean\"].max()\n",
    "best_scores_df.columns = [\"dataset\", \"model\", \"balanced_accuracy_mean_max\"]\n",
    "\n",
    "best_scores_df = scores_df.loc[indices_best].merge(\n",
    "    best_scores_df,\n",
    "    how=\"left\",\n",
    "    on=[\"dataset\", \"model\"]\n",
    "    )\n",
    "\n",
    "best_scores_df[\"degradation\"] = 1 - best_scores_df[\"balanced_accuracy_mean\"] / best_scores_df[\"balanced_accuracy_mean_max\"]\n",
    "best_scores_df = best_scores_df.replace(df_replacements)\n",
    "\n",
    "\n",
    "\n",
    "fig = go.Figure(layout=go.Layout(\n",
    "    margin={\"l\": 70, \"r\": 0, \"b\": 70, \"t\": 0},    \n",
    "    template=\"plotly_white\",\n",
    "    font={\"size\": 18}\n",
    ")\n",
    ")\n",
    "\n",
    "for fs_m in best_scores_df[\"fs_method\"].unique():\n",
    "    if fs_m.startswith(\"random\"):\n",
    "        continue \n",
    "        \n",
    "    plot_df = best_scores_df.query(\"fs_method==@fs_m\")[[\"fs_percent\", \"degradation\"]]\n",
    "    fig.add_trace(go.Box(\n",
    "        x=(plot_df[\"fs_percent\"] * 100).apply(lambda x: str(int(x)) + \"%\"),\n",
    "        y=(plot_df[\"degradation\"] * 100),\n",
    "        name=fs_m,\n",
    "        #boxpoints=False\n",
    "    ))\n",
    "\n",
    "    \n",
    "fig.update_layout(\n",
    "    yaxis_title=\"Degradation percentage\",\n",
    "    xaxis_title=\"Features percentage\",\n",
    "    xaxis=dict(autorange=\"reversed\"),\n",
    "    yaxis=dict(\n",
    "        tickmode = \"array\",\n",
    "        tickvals = np.arange(0, 50, 10),\n",
    "        ticktext = [f\"{i}%\" for i in np.arange(0, 50, 10)]\n",
    "    ),\n",
    "    boxmode=\"group\",\n",
    "    legend=dict(\n",
    "                orientation=\"h\",\n",
    "                yanchor=\"bottom\",\n",
    "                y=1.02,\n",
    "                xanchor=\"right\",\n",
    "                x=1\n",
    "            )\n",
    ")\n",
    "\n",
    "\n",
    "fig.show()\n",
    "fig.write_image(os.path.join(ASSETS_DIR, \"fs_degradation_ratio.png\"), scale=IMG_SCALE)"
   ]
  },
  {
   "cell_type": "markdown",
   "id": "80ad933b",
   "metadata": {},
   "source": [
    "# Test results"
   ]
  },
  {
   "cell_type": "code",
   "execution_count": 83,
   "id": "be2118ac",
   "metadata": {},
   "outputs": [
    {
     "data": {
      "text/html": [
       "<div>\n",
       "<style scoped>\n",
       "    .dataframe tbody tr th:only-of-type {\n",
       "        vertical-align: middle;\n",
       "    }\n",
       "\n",
       "    .dataframe tbody tr th {\n",
       "        vertical-align: top;\n",
       "    }\n",
       "\n",
       "    .dataframe thead th {\n",
       "        text-align: right;\n",
       "    }\n",
       "</style>\n",
       "<table border=\"1\" class=\"dataframe\">\n",
       "  <thead>\n",
       "    <tr style=\"text-align: right;\">\n",
       "      <th></th>\n",
       "      <th>dataset</th>\n",
       "      <th>model</th>\n",
       "      <th>architecture_name</th>\n",
       "      <th>fs_method</th>\n",
       "      <th>fs_percent</th>\n",
       "      <th>balanced_accuracy</th>\n",
       "      <th>accuracy</th>\n",
       "      <th>log_loss</th>\n",
       "      <th>roc_auc</th>\n",
       "      <th>f1</th>\n",
       "      <th>precision</th>\n",
       "      <th>recall</th>\n",
       "      <th>training_time</th>\n",
       "      <th>inference_time</th>\n",
       "      <th>fs_n_features</th>\n",
       "    </tr>\n",
       "  </thead>\n",
       "  <tbody>\n",
       "    <tr>\n",
       "      <th>0</th>\n",
       "      <td>adult</td>\n",
       "      <td>mlp/full</td>\n",
       "      <td>A0</td>\n",
       "      <td>decision_tree</td>\n",
       "      <td>1.0</td>\n",
       "      <td>0.787742</td>\n",
       "      <td>0.850445</td>\n",
       "      <td>0.338507</td>\n",
       "      <td>0.787742</td>\n",
       "      <td>0.902503</td>\n",
       "      <td>0.898247</td>\n",
       "      <td>0.906799</td>\n",
       "      <td>133.980073</td>\n",
       "      <td>0.194351</td>\n",
       "      <td>14</td>\n",
       "    </tr>\n",
       "    <tr>\n",
       "      <th>1</th>\n",
       "      <td>adult</td>\n",
       "      <td>mlp/full</td>\n",
       "      <td>A0</td>\n",
       "      <td>f_classif</td>\n",
       "      <td>1.0</td>\n",
       "      <td>0.787742</td>\n",
       "      <td>0.850445</td>\n",
       "      <td>0.338507</td>\n",
       "      <td>0.787742</td>\n",
       "      <td>0.902503</td>\n",
       "      <td>0.898247</td>\n",
       "      <td>0.906799</td>\n",
       "      <td>133.980073</td>\n",
       "      <td>0.194351</td>\n",
       "      <td>14</td>\n",
       "    </tr>\n",
       "    <tr>\n",
       "      <th>2</th>\n",
       "      <td>adult</td>\n",
       "      <td>mlp/full</td>\n",
       "      <td>A0</td>\n",
       "      <td>linear_model</td>\n",
       "      <td>1.0</td>\n",
       "      <td>0.787742</td>\n",
       "      <td>0.850445</td>\n",
       "      <td>0.338507</td>\n",
       "      <td>0.787742</td>\n",
       "      <td>0.902503</td>\n",
       "      <td>0.898247</td>\n",
       "      <td>0.906799</td>\n",
       "      <td>133.980073</td>\n",
       "      <td>0.194351</td>\n",
       "      <td>14</td>\n",
       "    </tr>\n",
       "    <tr>\n",
       "      <th>3</th>\n",
       "      <td>adult</td>\n",
       "      <td>mlp/full</td>\n",
       "      <td>A0</td>\n",
       "      <td>random_1</td>\n",
       "      <td>1.0</td>\n",
       "      <td>0.787742</td>\n",
       "      <td>0.850445</td>\n",
       "      <td>0.338507</td>\n",
       "      <td>0.787742</td>\n",
       "      <td>0.902503</td>\n",
       "      <td>0.898247</td>\n",
       "      <td>0.906799</td>\n",
       "      <td>133.980073</td>\n",
       "      <td>0.194351</td>\n",
       "      <td>14</td>\n",
       "    </tr>\n",
       "    <tr>\n",
       "      <th>4</th>\n",
       "      <td>adult</td>\n",
       "      <td>mlp/full</td>\n",
       "      <td>A0</td>\n",
       "      <td>random_2</td>\n",
       "      <td>1.0</td>\n",
       "      <td>0.787742</td>\n",
       "      <td>0.850445</td>\n",
       "      <td>0.338507</td>\n",
       "      <td>0.787742</td>\n",
       "      <td>0.902503</td>\n",
       "      <td>0.898247</td>\n",
       "      <td>0.906799</td>\n",
       "      <td>133.980073</td>\n",
       "      <td>0.194351</td>\n",
       "      <td>14</td>\n",
       "    </tr>\n",
       "  </tbody>\n",
       "</table>\n",
       "</div>"
      ],
      "text/plain": [
       "  dataset     model architecture_name      fs_method  fs_percent  \\\n",
       "0   adult  mlp/full                A0  decision_tree         1.0   \n",
       "1   adult  mlp/full                A0      f_classif         1.0   \n",
       "2   adult  mlp/full                A0   linear_model         1.0   \n",
       "3   adult  mlp/full                A0       random_1         1.0   \n",
       "4   adult  mlp/full                A0       random_2         1.0   \n",
       "\n",
       "   balanced_accuracy  accuracy  log_loss   roc_auc        f1  precision  \\\n",
       "0           0.787742  0.850445  0.338507  0.787742  0.902503   0.898247   \n",
       "1           0.787742  0.850445  0.338507  0.787742  0.902503   0.898247   \n",
       "2           0.787742  0.850445  0.338507  0.787742  0.902503   0.898247   \n",
       "3           0.787742  0.850445  0.338507  0.787742  0.902503   0.898247   \n",
       "4           0.787742  0.850445  0.338507  0.787742  0.902503   0.898247   \n",
       "\n",
       "     recall  training_time  inference_time  fs_n_features  \n",
       "0  0.906799     133.980073        0.194351             14  \n",
       "1  0.906799     133.980073        0.194351             14  \n",
       "2  0.906799     133.980073        0.194351             14  \n",
       "3  0.906799     133.980073        0.194351             14  \n",
       "4  0.906799     133.980073        0.194351             14  "
      ]
     },
     "execution_count": 83,
     "metadata": {},
     "output_type": "execute_result"
    }
   ],
   "source": [
    "test_scores_df = pd.read_csv(\"fs_efficency/test_scores.csv\")\n",
    "test_scores_df = test_scores_df.query(\n",
    "    \"dataset not in ['anneal', 'ldpa'] \"  \n",
    "    #\"and fs_percent>=0.5 \"                \n",
    ")\n",
    "test_scores_df.head()"
   ]
  },
  {
   "cell_type": "code",
   "execution_count": 84,
   "id": "6d29abb3",
   "metadata": {},
   "outputs": [
    {
     "data": {
      "text/plain": [
       "array(['mlp/simple', 'mlp/simple_nd', 'mlp/simple_nd_nn',\n",
       "       'transformer/cls', 'xgboost/best'], dtype=object)"
      ]
     },
     "execution_count": 84,
     "metadata": {},
     "output_type": "execute_result"
    }
   ],
   "source": [
    "ignored_models = [\n",
    "    \"mlp/full\", \n",
    "    \"mlp/full/best\", \n",
    "    \"mlp/full_nd\", \n",
    "    \"mlp/full_nd/best\", \n",
    "    \"mlp/full_nd_nn\", \n",
    "    \"mlp/full_nd_nn/best\",\n",
    "    \"xgboost/best\"\n",
    "]\n",
    "test_scores_df = test_scores_df.query(\"model not in @ignored_models\")\n",
    "test_scores_df[\"model\"].unique()"
   ]
  },
  {
   "cell_type": "markdown",
   "id": "bf80fdac",
   "metadata": {},
   "source": [
    "## General results"
   ]
  },
  {
   "cell_type": "code",
   "execution_count": 91,
   "id": "a803202e",
   "metadata": {},
   "outputs": [
    {
     "data": {
      "text/html": [
       "<div>\n",
       "<style scoped>\n",
       "    .dataframe tbody tr th:only-of-type {\n",
       "        vertical-align: middle;\n",
       "    }\n",
       "\n",
       "    .dataframe tbody tr th {\n",
       "        vertical-align: top;\n",
       "    }\n",
       "\n",
       "    .dataframe thead th {\n",
       "        text-align: right;\n",
       "    }\n",
       "</style>\n",
       "<table border=\"1\" class=\"dataframe\">\n",
       "  <thead>\n",
       "    <tr style=\"text-align: right;\">\n",
       "      <th></th>\n",
       "      <th>Dataset</th>\n",
       "      <th>FT-Transformer</th>\n",
       "      <th>MLP + Pruning</th>\n",
       "      <th>XGBoost</th>\n",
       "    </tr>\n",
       "  </thead>\n",
       "  <tbody>\n",
       "    <tr>\n",
       "      <th>6</th>\n",
       "      <td>volkert</td>\n",
       "      <td>63.578</td>\n",
       "      <td>60.139</td>\n",
       "      <td>59.494</td>\n",
       "    </tr>\n",
       "    <tr>\n",
       "      <th>2</th>\n",
       "      <td>jasmine</td>\n",
       "      <td>80.477</td>\n",
       "      <td>77.255</td>\n",
       "      <td>80.560</td>\n",
       "    </tr>\n",
       "    <tr>\n",
       "      <th>4</th>\n",
       "      <td>nomao</td>\n",
       "      <td>94.813</td>\n",
       "      <td>94.010</td>\n",
       "      <td>96.217</td>\n",
       "    </tr>\n",
       "    <tr>\n",
       "      <th>3</th>\n",
       "      <td>kr-vs-kp</td>\n",
       "      <td>99.685</td>\n",
       "      <td>99.211</td>\n",
       "      <td>97.348</td>\n",
       "    </tr>\n",
       "    <tr>\n",
       "      <th>5</th>\n",
       "      <td>sylvine</td>\n",
       "      <td>94.123</td>\n",
       "      <td>92.955</td>\n",
       "      <td>94.689</td>\n",
       "    </tr>\n",
       "    <tr>\n",
       "      <th>1</th>\n",
       "      <td>australian</td>\n",
       "      <td>85.448</td>\n",
       "      <td>86.129</td>\n",
       "      <td>89.067</td>\n",
       "    </tr>\n",
       "    <tr>\n",
       "      <th>0</th>\n",
       "      <td>adult</td>\n",
       "      <td>79.187</td>\n",
       "      <td>78.774</td>\n",
       "      <td>76.816</td>\n",
       "    </tr>\n",
       "  </tbody>\n",
       "</table>\n",
       "</div>"
      ],
      "text/plain": [
       "      Dataset FT-Transformer MLP + Pruning XGBoost\n",
       "6     volkert         63.578        60.139  59.494\n",
       "2     jasmine         80.477        77.255  80.560\n",
       "4       nomao         94.813        94.010  96.217\n",
       "3    kr-vs-kp         99.685        99.211  97.348\n",
       "5     sylvine         94.123        92.955  94.689\n",
       "1  australian         85.448        86.129  89.067\n",
       "0       adult         79.187        78.774  76.816"
      ]
     },
     "execution_count": 91,
     "metadata": {},
     "output_type": "execute_result"
    }
   ],
   "source": [
    "indices_best = test_scores_df.groupby([\n",
    "    \"dataset\", \"model\", \"fs_method\", \n",
    "    \"fs_percent\", \"fs_n_features\"\n",
    "    ])[\"balanced_accuracy\"].idxmax()\n",
    "\n",
    "\n",
    "best_scores_df = test_scores_df.loc[indices_best].query(\"fs_percent==1 \"\n",
    "                                                   \"and fs_method=='decision_tree' \"\n",
    "                                                  \"and model in ['transformer/cls','mlp/simple','xgboost/best']\"\n",
    "                                                  )\n",
    "best_scores_df[\"balanced_accuracy\"] = (best_scores_df[\"balanced_accuracy\"] * 100).apply(num_as_str)\n",
    "\n",
    "\n",
    "best_scores_df = best_scores_df.replace(df_replacements)[[\"dataset\", \"model\", \"balanced_accuracy\"]] \\\n",
    "                        .pivot(index=\"dataset\", columns=\"model\") \\\n",
    "                        .reset_index()\n",
    "\n",
    "\n",
    "best_scores_df.columns = [\"Dataset\"] + [col[1] for col in best_scores_df.columns][1:]\n",
    "\n",
    "\n",
    "best_scores_df = best_scores_df.sort_values(\"Dataset\", key=lambda x: [DATASET_ORDER.index(i) for i in x])\n",
    "\n",
    "with open(os.path.join(ASSETS_DIR, \"fs_test_general_results.tex\"), \"w\") as f:\n",
    "    f.write(best_scores_df.to_latex(index=False))    \n",
    "    \n",
    "best_scores_df\n",
    "\n"
   ]
  },
  {
   "cell_type": "markdown",
   "id": "8aab1754",
   "metadata": {},
   "source": [
    "## Correlations"
   ]
  },
  {
   "cell_type": "code",
   "execution_count": 88,
   "id": "f5361536",
   "metadata": {},
   "outputs": [
    {
     "name": "stdout",
     "output_type": "stream",
     "text": [
      "======= accuracy\n",
      "MLP + Pruning : SignificanceResult(statistic=0.951747870176691, pvalue=2.0375076925918082e-173)\n",
      "MLP + Pruning - Dropout : SignificanceResult(statistic=0.8205412431435823, pvalue=3.8958383930520075e-83)\n",
      "MLP + Pruning - Dropout - Non-linearity : SignificanceResult(statistic=0.8053972100220989, pvalue=7.388900857705384e-78)\n",
      "FT-Transformer : SignificanceResult(statistic=0.9509329411674544, pvalue=3.117888819501114e-172)\n",
      "======= log_loss\n",
      "MLP + Pruning : SignificanceResult(statistic=0.8225677641106275, pvalue=7.023628516072935e-84)\n",
      "MLP + Pruning - Dropout : SignificanceResult(statistic=0.7018033202808204, pvalue=3.9449088921865913e-51)\n",
      "MLP + Pruning - Dropout - Non-linearity : SignificanceResult(statistic=0.5129073873368291, pvalue=6.1086215116870984e-24)\n",
      "FT-Transformer : SignificanceResult(statistic=0.8029657796481484, pvalue=4.706547219187237e-77)\n",
      "======= balanced_accuracy\n",
      "MLP + Pruning : SignificanceResult(statistic=0.9318170585464391, pvalue=4.470788330511702e-149)\n",
      "MLP + Pruning - Dropout : SignificanceResult(statistic=0.8272635948007396, pvalue=1.2173400900368944e-85)\n",
      "MLP + Pruning - Dropout - Non-linearity : SignificanceResult(statistic=0.8233931862755204, pvalue=3.4736209614092305e-84)\n",
      "FT-Transformer : SignificanceResult(statistic=0.9141059899114587, pvalue=5.477861840086328e-133)\n"
     ]
    }
   ],
   "source": [
    "for metric in [\"accuracy\", \"log_loss\", \"balanced_accuracy\"]:\n",
    "    full_cos_df = None\n",
    "\n",
    "    for ds in test_scores_df[\"dataset\"].unique():\n",
    "\n",
    "        cos_df = None\n",
    "\n",
    "        for g_d, g in test_scores_df.query(\n",
    "                \"fs_percent<1 \"\n",
    "                #\"and model in ['transformer/cls', 'mlp/simple', 'xgboost/best'] \"\n",
    "                \"and dataset==@ds \"\n",
    "            ).groupby([\"model\", \"architecture_name\"], as_index=False):\n",
    "            \n",
    "            model_name = \"{}_{}\".format(*g_d) if g_d[0] == \"xgboost\" else g_d[0]\n",
    "            \n",
    "            mod_g = g[[\"dataset\", \"fs_method\", \"fs_percent\", f\"{metric}\"]]\n",
    "            mod_g.columns = [\"dataset\", \"fs_method\", \"fs_percent\", model_name ]\n",
    "            \n",
    "            if cos_df is None:\n",
    "                cos_df = mod_g\n",
    "                continue\n",
    "                \n",
    "            cos_df = cos_df.merge(\n",
    "                mod_g,\n",
    "                on = [\"dataset\", \"fs_method\", \"fs_percent\"]\n",
    "            )\n",
    "            \n",
    "            \n",
    "        if full_cos_df is None:\n",
    "            full_cos_df = cos_df.copy()\n",
    "            continue\n",
    "\n",
    "        full_cos_df = pd.concat([full_cos_df, cos_df], axis=0)\n",
    "        \n",
    "        \n",
    "    print(\"=======\", metric)\n",
    "    for m in scores_df[\"model\"].unique():\n",
    "        if \"xgboost\" in m:\n",
    "            continue\n",
    "            \n",
    "        print(df_replacements[\"model\"][m], \":\", spearmanr(full_cos_df[m], full_cos_df[\"xgboost/best\"]))"
   ]
  },
  {
   "cell_type": "markdown",
   "id": "d00cfb36",
   "metadata": {},
   "source": [
    "## Selecting 80% of features"
   ]
  },
  {
   "cell_type": "code",
   "execution_count": 94,
   "id": "61387e0e",
   "metadata": {},
   "outputs": [
    {
     "data": {
      "text/html": [
       "<div>\n",
       "<style scoped>\n",
       "    .dataframe tbody tr th:only-of-type {\n",
       "        vertical-align: middle;\n",
       "    }\n",
       "\n",
       "    .dataframe tbody tr th {\n",
       "        vertical-align: top;\n",
       "    }\n",
       "\n",
       "    .dataframe thead th {\n",
       "        text-align: right;\n",
       "    }\n",
       "</style>\n",
       "<table border=\"1\" class=\"dataframe\">\n",
       "  <thead>\n",
       "    <tr style=\"text-align: right;\">\n",
       "      <th></th>\n",
       "      <th>Dataset</th>\n",
       "      <th>FT-Transformer</th>\n",
       "      <th>MLP + Pruning</th>\n",
       "      <th>XGBoost</th>\n",
       "    </tr>\n",
       "  </thead>\n",
       "  <tbody>\n",
       "    <tr>\n",
       "      <th>6</th>\n",
       "      <td>volkert</td>\n",
       "      <td>63.611</td>\n",
       "      <td>60.178</td>\n",
       "      <td>60.126</td>\n",
       "    </tr>\n",
       "    <tr>\n",
       "      <th>2</th>\n",
       "      <td>jasmine</td>\n",
       "      <td>80.606</td>\n",
       "      <td>77.602</td>\n",
       "      <td>80.848</td>\n",
       "    </tr>\n",
       "    <tr>\n",
       "      <th>4</th>\n",
       "      <td>nomao</td>\n",
       "      <td>94.189</td>\n",
       "      <td>94.639</td>\n",
       "      <td>96.320</td>\n",
       "    </tr>\n",
       "    <tr>\n",
       "      <th>3</th>\n",
       "      <td>kr-vs-kp</td>\n",
       "      <td>99.369</td>\n",
       "      <td>98.429</td>\n",
       "      <td>97.190</td>\n",
       "    </tr>\n",
       "    <tr>\n",
       "      <th>5</th>\n",
       "      <td>sylvine</td>\n",
       "      <td>93.931</td>\n",
       "      <td>93.051</td>\n",
       "      <td>95.370</td>\n",
       "    </tr>\n",
       "    <tr>\n",
       "      <th>1</th>\n",
       "      <td>australian</td>\n",
       "      <td>87.428</td>\n",
       "      <td>82.063</td>\n",
       "      <td>89.067</td>\n",
       "    </tr>\n",
       "    <tr>\n",
       "      <th>0</th>\n",
       "      <td>adult</td>\n",
       "      <td>75.731</td>\n",
       "      <td>74.390</td>\n",
       "      <td>73.676</td>\n",
       "    </tr>\n",
       "  </tbody>\n",
       "</table>\n",
       "</div>"
      ],
      "text/plain": [
       "      Dataset FT-Transformer MLP + Pruning XGBoost\n",
       "6     volkert         63.611        60.178  60.126\n",
       "2     jasmine         80.606        77.602  80.848\n",
       "4       nomao         94.189        94.639  96.320\n",
       "3    kr-vs-kp         99.369        98.429  97.190\n",
       "5     sylvine         93.931        93.051  95.370\n",
       "1  australian         87.428        82.063  89.067\n",
       "0       adult         75.731        74.390  73.676"
      ]
     },
     "execution_count": 94,
     "metadata": {},
     "output_type": "execute_result"
    }
   ],
   "source": [
    "indices_best = test_scores_df.groupby([\n",
    "    \"dataset\", \"model\", \"fs_method\", \n",
    "    \"fs_percent\", \"fs_n_features\"\n",
    "    ])[\"balanced_accuracy\"].idxmax()\n",
    "\n",
    "\n",
    "best_scores_df = test_scores_df.loc[indices_best].query(\"fs_percent==0.8 \"\n",
    "                                                   \"and fs_method=='decision_tree' \"\n",
    "                                                  \"and model in ['transformer/cls','mlp/simple','xgboost/best']\"\n",
    "                                                  )\n",
    "best_scores_df[\"balanced_accuracy\"] = (best_scores_df[\"balanced_accuracy\"] * 100).apply(num_as_str)\n",
    "\n",
    "\n",
    "best_scores_df = best_scores_df.replace(df_replacements)[[\"dataset\", \"model\", \"balanced_accuracy\"]] \\\n",
    "                        .pivot(index=\"dataset\", columns=\"model\") \\\n",
    "                        .reset_index()\n",
    "\n",
    "\n",
    "best_scores_df.columns = [\"Dataset\"] + [col[1] for col in best_scores_df.columns][1:]\n",
    "\n",
    "\n",
    "best_scores_df = best_scores_df.sort_values(\"Dataset\", key=lambda x: [DATASET_ORDER.index(i) for i in x])\n",
    "\n",
    "with open(os.path.join(ASSETS_DIR, \"fs_test_general_results_0.8.tex\"), \"w\") as f:\n",
    "    f.write(best_scores_df.to_latex(index=False))    \n",
    "    \n",
    "best_scores_df\n",
    "\n"
   ]
  },
  {
   "cell_type": "code",
   "execution_count": null,
   "id": "48152d78",
   "metadata": {},
   "outputs": [],
   "source": []
  }
 ],
 "metadata": {
  "kernelspec": {
   "display_name": "Python 3 (ipykernel)",
   "language": "python",
   "name": "python3"
  },
  "language_info": {
   "codemirror_mode": {
    "name": "ipython",
    "version": 3
   },
   "file_extension": ".py",
   "mimetype": "text/x-python",
   "name": "python",
   "nbconvert_exporter": "python",
   "pygments_lexer": "ipython3",
   "version": "3.11.7"
  }
 },
 "nbformat": 4,
 "nbformat_minor": 5
}
