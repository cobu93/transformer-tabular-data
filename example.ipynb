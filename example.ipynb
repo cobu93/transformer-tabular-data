{
 "cells": [
  {
   "cell_type": "markdown",
   "id": "1866f88e",
   "metadata": {},
   "source": [
    "# Usage example"
   ]
  },
  {
   "cell_type": "markdown",
   "id": "7be514d3",
   "metadata": {},
   "source": [
    "This notebook aims to simulate a complete pipeline for training, evaluating and testing a Transformer for tabular data using the developed architecture.\n",
    "\n",
    "Additionally, we also include an example of how to extract the attention cubes and compute the cumulative attention. "
   ]
  },
  {
   "cell_type": "code",
   "execution_count": 1,
   "id": "6683f63a",
   "metadata": {},
   "outputs": [],
   "source": [
    "import numpy as np\n",
    "import torch\n",
    "import torch.nn as nn\n",
    "from utils import training, callback, evaluating, attention\n",
    "from sklearn import datasets, model_selection\n",
    "import skorch"
   ]
  },
  {
   "cell_type": "markdown",
   "id": "96fb0fcc",
   "metadata": {},
   "source": [
    "## Data simulation"
   ]
  },
  {
   "cell_type": "markdown",
   "id": "b36fa6b0",
   "metadata": {},
   "source": [
    "Firstly, we simulate a dataset containing numerical and categorical features. This dataset is equivalent to you importing your dataset and preprocessing. It is important to notice that we simulate categorical variables as if they were ordinal encoded, which is required by the architecture."
   ]
  },
  {
   "cell_type": "code",
   "execution_count": 2,
   "id": "2c4f09f6",
   "metadata": {},
   "outputs": [],
   "source": [
    "\"\"\"\n",
    "Dataset metadata definition.\n",
    "\n",
    "    n_instances: Number of instances (rows) in your dataset.\n",
    "    n_numerical: Number of numerical features in your dataset.\n",
    "    n_categorical: List of the number of categories for each categorical column.\n",
    "    n_labels: Number of classification labels.\n",
    "    \n",
    "\"\"\"\n",
    "\n",
    "n_instances = 100\n",
    "n_numerical = 3\n",
    "n_categorical = [2, 5, 8]\n",
    "n_labels = 3"
   ]
  },
  {
   "cell_type": "code",
   "execution_count": 3,
   "id": "48419fac",
   "metadata": {},
   "outputs": [
    {
     "name": "stdout",
     "output_type": "stream",
     "text": [
      "Example of simulated features: [0.37432988 0.1293632  0.81723612 1.         0.         6.        ]\n",
      "\n",
      "Example of simulated labels: 2\n"
     ]
    }
   ],
   "source": [
    "\"\"\"\n",
    "Data simulation.\n",
    "\n",
    "It is important that the numerical columns be the first columns. \n",
    "\"\"\"\n",
    "\n",
    "X = np.random.rand(n_instances, n_numerical)\n",
    "\n",
    "for n_cat in n_categorical:\n",
    "    X_category = np.random.randint(0, n_cat, size=(n_instances, 1), dtype=np.int32)\n",
    "    X = np.concatenate([X, X_category], axis=1)\n",
    "    \n",
    "y = np.random.randint(0, n_labels, size=n_instances, dtype=np.int32)\n",
    "\n",
    "print(\"Example of simulated features:\", X[0])\n",
    "print(\"\\nExample of simulated labels:\", y[0])"
   ]
  },
  {
   "cell_type": "code",
   "execution_count": 4,
   "id": "8cc06391",
   "metadata": {},
   "outputs": [],
   "source": [
    "\"\"\"\n",
    "Data spliting.\n",
    "\"\"\"\n",
    "\n",
    "X_train, X_test, y_train, y_test = model_selection.train_test_split(X, y, test_size=0.1)\n",
    "train_indices, val_indices = model_selection.train_test_split(np.arange(X_train.shape[0]), test_size=0.1)"
   ]
  },
  {
   "cell_type": "markdown",
   "id": "0646bf0b",
   "metadata": {},
   "source": [
    "## Training Transformer for tabular data"
   ]
  },
  {
   "cell_type": "code",
   "execution_count": 5,
   "id": "e3b876d8",
   "metadata": {},
   "outputs": [],
   "source": [
    "\"\"\"\n",
    "Transformer hyperparameters definition.\n",
    "\n",
    "n_heads: Number of heads oneach Transformer Encoder.\n",
    "embed_dim: The embeddings' dimension.\n",
    "n_layers: Number of stacked Transformer Encoders.\n",
    "ff_pw_size: Position-wise Feed Forward network hidden layer size.\n",
    "attn_dropout: Dropout applied in the Multi-head self-attention mechanism.\n",
    "ff_dropout: Position-wise Feed Forward network dropout.\n",
    "aggregator: Aggregator to use. Must be in {concatenate, cls, max, mean, sum, rnn}\n",
    "aggregator_parameters: If the aggregator is different from rnn, set to None. Otherwise, a dictionary expecting:\n",
    "                        cell: Cellused in the RNN. Must be one of {GRU, LSTM}\n",
    "                        output_size: Recurrent neural network hidden size \n",
    "                        num_layers: Number of stacked layers in the RNN\n",
    "                        dropout: Dropout applied to the RNN\n",
    "    }\n",
    "decoder_hidden_units: List of hidden layer's sizes of the decoder MLP.\n",
    "decoder_activation_fn: Activation function used in the hidden layers\n",
    "need_weights: Set True if you require the attention cubes. During training is recommended to set it to False.\n",
    "numerical_passthrough: False if numerical features will be processed by the Multi-head self-attention mechanism.\n",
    "\"\"\"\n",
    "\n",
    "n_heads = 4\n",
    "embed_dim = 32\n",
    "n_layers = 2\n",
    "ff_pw_size = 128\n",
    "attn_dropout = 0.1\n",
    "ff_dropout = 0.2\n",
    "aggregator = \"rnn\"\n",
    "aggregator_parameters = {\n",
    "        \"cell\": \"GRU\",\n",
    "        \"output_size\": 8,\n",
    "        \"num_layers\":  2,\n",
    "        \"dropout\":  0.1\n",
    "    }\n",
    "decoder_hidden_units = [16, 4, 4]\n",
    "decoder_activation_fn=nn.ReLU()\n",
    "need_weights = False\n",
    "numerical_passthrough = False"
   ]
  },
  {
   "cell_type": "code",
   "execution_count": 6,
   "id": "67e80927",
   "metadata": {},
   "outputs": [
    {
     "name": "stdout",
     "output_type": "stream",
     "text": [
      "TabularTransformer(\n",
      "  (numerical_encoder): NumericalEncoder()\n",
      "  (transformer_encoder): TTransformerEncoder(\n",
      "    (layers): ModuleList(\n",
      "      (0-1): 2 x TTransformerEncoderLayer(\n",
      "        (pre_norm_1): LayerNorm((32,), eps=1e-05, elementwise_affine=True)\n",
      "        (pre_norm_2): LayerNorm((32,), eps=1e-05, elementwise_affine=True)\n",
      "        (self_attn): MultiheadAttentionContainer(\n",
      "          (in_proj_container): InProjContainer(\n",
      "            (query_proj): Linear(in_features=32, out_features=32, bias=True)\n",
      "            (key_proj): Linear(in_features=32, out_features=32, bias=True)\n",
      "            (value_proj): Linear(in_features=32, out_features=32, bias=True)\n",
      "          )\n",
      "          (attention_layer): ScaledDotProduct()\n",
      "          (out_proj): Linear(in_features=32, out_features=32, bias=True)\n",
      "        )\n",
      "        (ff_network): Sequential(\n",
      "          (0): Linear(in_features=32, out_features=128, bias=True)\n",
      "          (1): ReLU()\n",
      "          (2): Dropout(p=0.2, inplace=False)\n",
      "          (3): Linear(in_features=128, out_features=32, bias=True)\n",
      "        )\n",
      "      )\n",
      "    )\n",
      "  )\n",
      "  (aggregator): RNNAggregator(\n",
      "    (rnn): GRU(32, 8, num_layers=2, batch_first=True, dropout=0.1)\n",
      "  )\n",
      "  (categorical_encoder): Embedding(18, 32, norm_type=1.0)\n",
      "  (decoder): Sequential(\n",
      "    (0): Linear(in_features=8, out_features=16, bias=True)\n",
      "    (1): ReLU()\n",
      "    (2): Linear(in_features=16, out_features=4, bias=True)\n",
      "    (3): ReLU()\n",
      "    (4): Linear(in_features=4, out_features=4, bias=True)\n",
      "    (5): ReLU()\n",
      "    (6): Linear(in_features=4, out_features=3, bias=True)\n",
      "  )\n",
      ")\n"
     ]
    },
    {
     "name": "stderr",
     "output_type": "stream",
     "text": [
      "/home/uriel/Miniconda3/envs/TT/lib/python3.11/site-packages/torch/nn/modules/transformer.py:286: UserWarning: enable_nested_tensor is True, but self.use_nested_tensor is False because encoder_layer was not TransformerEncoderLayer\n",
      "  warnings.warn(f\"enable_nested_tensor is True, but self.use_nested_tensor is False because {why_not_sparsity_fast_path}\")\n"
     ]
    }
   ],
   "source": [
    "\"\"\"\n",
    "Building PyTorch module.\n",
    "\n",
    "We provide a wrapper function for building the PyTorch module.\n",
    "The function is utils.training.build_module.\n",
    "\"\"\"\n",
    "\n",
    "module = training.build_module(\n",
    "    n_categorical, # List of number of categories\n",
    "    n_numerical, # Number of numerical features\n",
    "    n_heads, # Number of heads per layer\n",
    "    ff_pw_size, # Size of the MLP inside each transformer encoder layer\n",
    "    n_layers, # Number of transformer encoder layers    \n",
    "    n_labels, # Number of output neurons\n",
    "    embed_dim,\n",
    "    attn_dropout, \n",
    "    ff_dropout, \n",
    "    aggregator, # The aggregator for output vectors before decoder\n",
    "    rnn_aggregator_parameters=aggregator_parameters,\n",
    "    decoder_hidden_units=decoder_hidden_units,\n",
    "    decoder_activation_fn=decoder_activation_fn,\n",
    "    need_weights=need_weights,\n",
    "    numerical_passthrough=numerical_passthrough\n",
    ")\n",
    "\n",
    "print(module)"
   ]
  },
  {
   "cell_type": "code",
   "execution_count": 7,
   "id": "a283d0da",
   "metadata": {},
   "outputs": [],
   "source": [
    "\"\"\"\n",
    "Wrapping module in skorch.\n",
    "\n",
    "The PyTorch module can be used for a custom training.\n",
    "\n",
    "However, in this example we use the skorch library,\n",
    "which avoid the implementation of a custom training loop.\n",
    "\"\"\"\n",
    "\n",
    "model = skorch.NeuralNetClassifier(\n",
    "            module=module,\n",
    "            criterion=torch.nn.CrossEntropyLoss,\n",
    "            optimizer=torch.optim.AdamW,\n",
    "            device=\"cuda\" if torch.cuda.is_available() else \"cpu\",\n",
    "            batch_size=8,\n",
    "            max_epochs=5,\n",
    "            train_split=skorch.dataset.ValidSplit(((train_indices, val_indices),)),\n",
    "            callbacks=[\n",
    "                (\"balanced_accuracy\", skorch.callbacks.EpochScoring(\"balanced_accuracy\", lower_is_better=False)),\n",
    "                (\"accuracy\", skorch.callbacks.EpochScoring(\"accuracy\", lower_is_better=False)),\n",
    "                (\"duration\", skorch.callbacks.EpochTimer())\n",
    "            ],\n",
    "            optimizer__lr=1e-4,\n",
    "            optimizer__weight_decay=1e-4\n",
    "        )\n",
    "    "
   ]
  },
  {
   "cell_type": "code",
   "execution_count": 8,
   "id": "e19354a7",
   "metadata": {},
   "outputs": [
    {
     "name": "stdout",
     "output_type": "stream",
     "text": [
      "  epoch    accuracy    balanced_accuracy    train_loss    valid_acc    valid_loss     dur\n",
      "-------  ----------  -------------------  ------------  -----------  ------------  ------\n",
      "      1      \u001b[36m0.2222\u001b[0m               \u001b[32m0.3333\u001b[0m        \u001b[35m1.1290\u001b[0m       \u001b[31m0.2222\u001b[0m        \u001b[94m1.1684\u001b[0m  0.2985\n",
      "      2      0.2222               0.3333        \u001b[35m1.1279\u001b[0m       0.2222        \u001b[94m1.1682\u001b[0m  0.1452\n",
      "      3      0.2222               0.3333        \u001b[35m1.1270\u001b[0m       0.2222        \u001b[94m1.1682\u001b[0m  0.1358\n",
      "      4      0.2222               0.3333        \u001b[35m1.1267\u001b[0m       0.2222        1.1683  0.1279\n",
      "      5      0.2222               0.3333        \u001b[35m1.1264\u001b[0m       0.2222        1.1684  0.1295\n"
     ]
    }
   ],
   "source": [
    "\"\"\"\n",
    "Training and validation\n",
    "\"\"\"\n",
    "\n",
    "model = model.fit(X={\n",
    "        \"x_numerical\": X_train[:, :n_numerical].astype(np.float32),\n",
    "        \"x_categorical\": X_train[:, n_numerical:].astype(np.int32)\n",
    "        }, \n",
    "        y=y_train.astype(np.int64)\n",
    "    )"
   ]
  },
  {
   "cell_type": "code",
   "execution_count": 9,
   "id": "11332b52",
   "metadata": {},
   "outputs": [
    {
     "name": "stdout",
     "output_type": "stream",
     "text": [
      "Test results:\n",
      "\n"
     ]
    },
    {
     "data": {
      "text/plain": [
       "{'balanced_accuracy': 0.3333333333333333,\n",
       " 'accuracy': 0.4,\n",
       " 'log_loss': 1.0904202886059424}"
      ]
     },
     "execution_count": 9,
     "metadata": {},
     "output_type": "execute_result"
    }
   ],
   "source": [
    "\"\"\"\n",
    "Testing\n",
    "\"\"\"\n",
    "\n",
    "predictions = model.predict_proba(X={\n",
    "        \"x_numerical\": X_test[:, :n_numerical].astype(np.float32),\n",
    "        \"x_categorical\": X_test[:, n_numerical:].astype(np.int32)\n",
    "        }\n",
    "    )\n",
    "\n",
    "print(\"Test results:\\n\")\n",
    "evaluating.get_default_scores(y_test, predictions, multiclass=True)"
   ]
  },
  {
   "cell_type": "markdown",
   "id": "461c510d",
   "metadata": {},
   "source": [
    "## Extracting attention cubes"
   ]
  },
  {
   "cell_type": "markdown",
   "id": "e431c922",
   "metadata": {},
   "source": [
    "Once the Transformer was trained, you could extract the attention cubes. Using the attention cubes you are able to compute the cumulative attention."
   ]
  },
  {
   "cell_type": "code",
   "execution_count": 10,
   "id": "018fb89a",
   "metadata": {},
   "outputs": [],
   "source": [
    "\"\"\"\n",
    "Eneabling and extracting the attention cubes.\n",
    "\n",
    "To eneable the attention cubes recovering, the only requirement is to \n",
    "set the PyTorch module need_weights=True. When the cubes are required the\n",
    "new output will be:\n",
    "\n",
    "    - predictions: The predictionsfor the given instances\n",
    "    - layer outputs: The output of each encoder layer\n",
    "    - weights: The attention cube of each encoder\n",
    "\n",
    "In skorch, the trained PyTorch module is saved in the variable .module_.\n",
    "\n",
    "When using skorch, the only way to recover multiple outputs is by\n",
    "using the forward/forward_iter method.\n",
    "\"\"\"\n",
    "\n",
    "model.module_.need_weights = True\n",
    "n_features = n_numerical + len(n_categorical)\n",
    "\n",
    "cumulative_attns = []\n",
    "\n",
    "for X_inst, y_inst in zip(X_test, y_test):\n",
    "    pred, layer_outputs, attn = model.forward(X={\n",
    "        \"x_numerical\": X_inst[None, :n_numerical].astype(np.float32),\n",
    "        \"x_categorical\": X_inst[None, n_numerical:].astype(np.int32)\n",
    "        })\n",
    "    \n",
    "    \"\"\"\n",
    "    The attention cubes dimensions are:\n",
    "    \n",
    "    (num. layers, batch size, num. heads, num. features, num. features)\n",
    "    \"\"\"\n",
    "    assert attn.shape == (n_layers, 1, n_heads, n_features, n_features) \n",
    "    \n",
    "    \"\"\"\n",
    "    To compute the cumulative attention we provide a function in:\n",
    "    \n",
    "        utils.attention.compute_std_attentions(attention, aggregator)\n",
    "        \n",
    "    The function returns:\n",
    "        The inidivual attention (non cumulative) of each layer. Shape:  (num layers, batch size, num. features)\n",
    "        The cumulative attention at each layer. Shape: (num layers, batch size, num. features)\n",
    "        \n",
    "    The last layerof the cumulative attention represents the cumulative attention over all\n",
    "    Transformer Encoders.\n",
    "    \"\"\"\n",
    "    \n",
    "    ind_attn, cum_attn = attention.compute_std_attentions(attn, aggregator)\n",
    "    \n",
    "    assert ind_attn.shape == (n_layers, 1, n_features)\n",
    "    assert cum_attn.shape == (n_layers, 1, n_features)\n",
    "    \n",
    "    cumulative_attns.append( cum_attn[-1, 0])\n",
    "    \n",
    "cumulative_attns = np.array(cumulative_attns)"
   ]
  },
  {
   "cell_type": "markdown",
   "id": "3c007789",
   "metadata": {},
   "source": [
    "## Cumulative attention visualization"
   ]
  },
  {
   "cell_type": "code",
   "execution_count": 13,
   "id": "344b4d6e",
   "metadata": {},
   "outputs": [
    {
     "data": {
      "application/vnd.plotly.v1+json": {
       "config": {
        "plotlyServerURL": "https://plot.ly"
       },
       "data": [
        {
         "coloraxis": "coloraxis",
         "hovertemplate": "x: %{x}<br>y: %{y}<br>color: %{z}<extra></extra>",
         "name": "0",
         "type": "heatmap",
         "xaxis": "x",
         "yaxis": "y",
         "z": [
          [
           0.1682356745004654,
           0.153471902012825,
           0.1677439957857132,
           0.15746237337589264,
           0.1786605566740036,
           0.17442552745342255
          ],
          [
           0.16668806970119476,
           0.15412187576293945,
           0.17400461435317993,
           0.17236940562725067,
           0.17375607788562775,
           0.15905995666980743
          ],
          [
           0.17620988190174103,
           0.14440932869911194,
           0.15464188158512115,
           0.17619168758392334,
           0.1836414933204651,
           0.16490571200847626
          ],
          [
           0.16374115645885468,
           0.16016778349876404,
           0.15992526710033417,
           0.16756904125213623,
           0.18155203759670258,
           0.16704469919204712
          ],
          [
           0.17293311655521393,
           0.14663155376911163,
           0.17497463524341583,
           0.1655210256576538,
           0.17520247399806976,
           0.16473719477653503
          ],
          [
           0.1700754165649414,
           0.15800055861473083,
           0.1553594321012497,
           0.17039842903614044,
           0.1863759607076645,
           0.15979023277759552
          ],
          [
           0.17190079391002655,
           0.15608933568000793,
           0.1770971566438675,
           0.16351936757564545,
           0.1763335019350052,
           0.15505988895893097
          ],
          [
           0.16030599176883698,
           0.16703681647777557,
           0.16426979005336761,
           0.16371841728687286,
           0.18283754587173462,
           0.16183145344257355
          ],
          [
           0.17461293935775757,
           0.15862564742565155,
           0.17410241067409515,
           0.15945973992347717,
           0.1785324662923813,
           0.15466676652431488
          ],
          [
           0.16849233210086823,
           0.1554020792245865,
           0.1769264191389084,
           0.166293665766716,
           0.17683054506778717,
           0.15605495870113373
          ]
         ]
        }
       ],
       "layout": {
        "coloraxis": {
         "colorscale": [
          [
           0,
           "#0d0887"
          ],
          [
           0.1111111111111111,
           "#46039f"
          ],
          [
           0.2222222222222222,
           "#7201a8"
          ],
          [
           0.3333333333333333,
           "#9c179e"
          ],
          [
           0.4444444444444444,
           "#bd3786"
          ],
          [
           0.5555555555555556,
           "#d8576b"
          ],
          [
           0.6666666666666666,
           "#ed7953"
          ],
          [
           0.7777777777777778,
           "#fb9f3a"
          ],
          [
           0.8888888888888888,
           "#fdca26"
          ],
          [
           1,
           "#f0f921"
          ]
         ]
        },
        "margin": {
         "t": 60
        },
        "template": {
         "data": {
          "bar": [
           {
            "error_x": {
             "color": "#2a3f5f"
            },
            "error_y": {
             "color": "#2a3f5f"
            },
            "marker": {
             "line": {
              "color": "#E5ECF6",
              "width": 0.5
             },
             "pattern": {
              "fillmode": "overlay",
              "size": 10,
              "solidity": 0.2
             }
            },
            "type": "bar"
           }
          ],
          "barpolar": [
           {
            "marker": {
             "line": {
              "color": "#E5ECF6",
              "width": 0.5
             },
             "pattern": {
              "fillmode": "overlay",
              "size": 10,
              "solidity": 0.2
             }
            },
            "type": "barpolar"
           }
          ],
          "carpet": [
           {
            "aaxis": {
             "endlinecolor": "#2a3f5f",
             "gridcolor": "white",
             "linecolor": "white",
             "minorgridcolor": "white",
             "startlinecolor": "#2a3f5f"
            },
            "baxis": {
             "endlinecolor": "#2a3f5f",
             "gridcolor": "white",
             "linecolor": "white",
             "minorgridcolor": "white",
             "startlinecolor": "#2a3f5f"
            },
            "type": "carpet"
           }
          ],
          "choropleth": [
           {
            "colorbar": {
             "outlinewidth": 0,
             "ticks": ""
            },
            "type": "choropleth"
           }
          ],
          "contour": [
           {
            "colorbar": {
             "outlinewidth": 0,
             "ticks": ""
            },
            "colorscale": [
             [
              0,
              "#0d0887"
             ],
             [
              0.1111111111111111,
              "#46039f"
             ],
             [
              0.2222222222222222,
              "#7201a8"
             ],
             [
              0.3333333333333333,
              "#9c179e"
             ],
             [
              0.4444444444444444,
              "#bd3786"
             ],
             [
              0.5555555555555556,
              "#d8576b"
             ],
             [
              0.6666666666666666,
              "#ed7953"
             ],
             [
              0.7777777777777778,
              "#fb9f3a"
             ],
             [
              0.8888888888888888,
              "#fdca26"
             ],
             [
              1,
              "#f0f921"
             ]
            ],
            "type": "contour"
           }
          ],
          "contourcarpet": [
           {
            "colorbar": {
             "outlinewidth": 0,
             "ticks": ""
            },
            "type": "contourcarpet"
           }
          ],
          "heatmap": [
           {
            "colorbar": {
             "outlinewidth": 0,
             "ticks": ""
            },
            "colorscale": [
             [
              0,
              "#0d0887"
             ],
             [
              0.1111111111111111,
              "#46039f"
             ],
             [
              0.2222222222222222,
              "#7201a8"
             ],
             [
              0.3333333333333333,
              "#9c179e"
             ],
             [
              0.4444444444444444,
              "#bd3786"
             ],
             [
              0.5555555555555556,
              "#d8576b"
             ],
             [
              0.6666666666666666,
              "#ed7953"
             ],
             [
              0.7777777777777778,
              "#fb9f3a"
             ],
             [
              0.8888888888888888,
              "#fdca26"
             ],
             [
              1,
              "#f0f921"
             ]
            ],
            "type": "heatmap"
           }
          ],
          "heatmapgl": [
           {
            "colorbar": {
             "outlinewidth": 0,
             "ticks": ""
            },
            "colorscale": [
             [
              0,
              "#0d0887"
             ],
             [
              0.1111111111111111,
              "#46039f"
             ],
             [
              0.2222222222222222,
              "#7201a8"
             ],
             [
              0.3333333333333333,
              "#9c179e"
             ],
             [
              0.4444444444444444,
              "#bd3786"
             ],
             [
              0.5555555555555556,
              "#d8576b"
             ],
             [
              0.6666666666666666,
              "#ed7953"
             ],
             [
              0.7777777777777778,
              "#fb9f3a"
             ],
             [
              0.8888888888888888,
              "#fdca26"
             ],
             [
              1,
              "#f0f921"
             ]
            ],
            "type": "heatmapgl"
           }
          ],
          "histogram": [
           {
            "marker": {
             "pattern": {
              "fillmode": "overlay",
              "size": 10,
              "solidity": 0.2
             }
            },
            "type": "histogram"
           }
          ],
          "histogram2d": [
           {
            "colorbar": {
             "outlinewidth": 0,
             "ticks": ""
            },
            "colorscale": [
             [
              0,
              "#0d0887"
             ],
             [
              0.1111111111111111,
              "#46039f"
             ],
             [
              0.2222222222222222,
              "#7201a8"
             ],
             [
              0.3333333333333333,
              "#9c179e"
             ],
             [
              0.4444444444444444,
              "#bd3786"
             ],
             [
              0.5555555555555556,
              "#d8576b"
             ],
             [
              0.6666666666666666,
              "#ed7953"
             ],
             [
              0.7777777777777778,
              "#fb9f3a"
             ],
             [
              0.8888888888888888,
              "#fdca26"
             ],
             [
              1,
              "#f0f921"
             ]
            ],
            "type": "histogram2d"
           }
          ],
          "histogram2dcontour": [
           {
            "colorbar": {
             "outlinewidth": 0,
             "ticks": ""
            },
            "colorscale": [
             [
              0,
              "#0d0887"
             ],
             [
              0.1111111111111111,
              "#46039f"
             ],
             [
              0.2222222222222222,
              "#7201a8"
             ],
             [
              0.3333333333333333,
              "#9c179e"
             ],
             [
              0.4444444444444444,
              "#bd3786"
             ],
             [
              0.5555555555555556,
              "#d8576b"
             ],
             [
              0.6666666666666666,
              "#ed7953"
             ],
             [
              0.7777777777777778,
              "#fb9f3a"
             ],
             [
              0.8888888888888888,
              "#fdca26"
             ],
             [
              1,
              "#f0f921"
             ]
            ],
            "type": "histogram2dcontour"
           }
          ],
          "mesh3d": [
           {
            "colorbar": {
             "outlinewidth": 0,
             "ticks": ""
            },
            "type": "mesh3d"
           }
          ],
          "parcoords": [
           {
            "line": {
             "colorbar": {
              "outlinewidth": 0,
              "ticks": ""
             }
            },
            "type": "parcoords"
           }
          ],
          "pie": [
           {
            "automargin": true,
            "type": "pie"
           }
          ],
          "scatter": [
           {
            "fillpattern": {
             "fillmode": "overlay",
             "size": 10,
             "solidity": 0.2
            },
            "type": "scatter"
           }
          ],
          "scatter3d": [
           {
            "line": {
             "colorbar": {
              "outlinewidth": 0,
              "ticks": ""
             }
            },
            "marker": {
             "colorbar": {
              "outlinewidth": 0,
              "ticks": ""
             }
            },
            "type": "scatter3d"
           }
          ],
          "scattercarpet": [
           {
            "marker": {
             "colorbar": {
              "outlinewidth": 0,
              "ticks": ""
             }
            },
            "type": "scattercarpet"
           }
          ],
          "scattergeo": [
           {
            "marker": {
             "colorbar": {
              "outlinewidth": 0,
              "ticks": ""
             }
            },
            "type": "scattergeo"
           }
          ],
          "scattergl": [
           {
            "marker": {
             "colorbar": {
              "outlinewidth": 0,
              "ticks": ""
             }
            },
            "type": "scattergl"
           }
          ],
          "scattermapbox": [
           {
            "marker": {
             "colorbar": {
              "outlinewidth": 0,
              "ticks": ""
             }
            },
            "type": "scattermapbox"
           }
          ],
          "scatterpolar": [
           {
            "marker": {
             "colorbar": {
              "outlinewidth": 0,
              "ticks": ""
             }
            },
            "type": "scatterpolar"
           }
          ],
          "scatterpolargl": [
           {
            "marker": {
             "colorbar": {
              "outlinewidth": 0,
              "ticks": ""
             }
            },
            "type": "scatterpolargl"
           }
          ],
          "scatterternary": [
           {
            "marker": {
             "colorbar": {
              "outlinewidth": 0,
              "ticks": ""
             }
            },
            "type": "scatterternary"
           }
          ],
          "surface": [
           {
            "colorbar": {
             "outlinewidth": 0,
             "ticks": ""
            },
            "colorscale": [
             [
              0,
              "#0d0887"
             ],
             [
              0.1111111111111111,
              "#46039f"
             ],
             [
              0.2222222222222222,
              "#7201a8"
             ],
             [
              0.3333333333333333,
              "#9c179e"
             ],
             [
              0.4444444444444444,
              "#bd3786"
             ],
             [
              0.5555555555555556,
              "#d8576b"
             ],
             [
              0.6666666666666666,
              "#ed7953"
             ],
             [
              0.7777777777777778,
              "#fb9f3a"
             ],
             [
              0.8888888888888888,
              "#fdca26"
             ],
             [
              1,
              "#f0f921"
             ]
            ],
            "type": "surface"
           }
          ],
          "table": [
           {
            "cells": {
             "fill": {
              "color": "#EBF0F8"
             },
             "line": {
              "color": "white"
             }
            },
            "header": {
             "fill": {
              "color": "#C8D4E3"
             },
             "line": {
              "color": "white"
             }
            },
            "type": "table"
           }
          ]
         },
         "layout": {
          "annotationdefaults": {
           "arrowcolor": "#2a3f5f",
           "arrowhead": 0,
           "arrowwidth": 1
          },
          "autotypenumbers": "strict",
          "coloraxis": {
           "colorbar": {
            "outlinewidth": 0,
            "ticks": ""
           }
          },
          "colorscale": {
           "diverging": [
            [
             0,
             "#8e0152"
            ],
            [
             0.1,
             "#c51b7d"
            ],
            [
             0.2,
             "#de77ae"
            ],
            [
             0.3,
             "#f1b6da"
            ],
            [
             0.4,
             "#fde0ef"
            ],
            [
             0.5,
             "#f7f7f7"
            ],
            [
             0.6,
             "#e6f5d0"
            ],
            [
             0.7,
             "#b8e186"
            ],
            [
             0.8,
             "#7fbc41"
            ],
            [
             0.9,
             "#4d9221"
            ],
            [
             1,
             "#276419"
            ]
           ],
           "sequential": [
            [
             0,
             "#0d0887"
            ],
            [
             0.1111111111111111,
             "#46039f"
            ],
            [
             0.2222222222222222,
             "#7201a8"
            ],
            [
             0.3333333333333333,
             "#9c179e"
            ],
            [
             0.4444444444444444,
             "#bd3786"
            ],
            [
             0.5555555555555556,
             "#d8576b"
            ],
            [
             0.6666666666666666,
             "#ed7953"
            ],
            [
             0.7777777777777778,
             "#fb9f3a"
            ],
            [
             0.8888888888888888,
             "#fdca26"
            ],
            [
             1,
             "#f0f921"
            ]
           ],
           "sequentialminus": [
            [
             0,
             "#0d0887"
            ],
            [
             0.1111111111111111,
             "#46039f"
            ],
            [
             0.2222222222222222,
             "#7201a8"
            ],
            [
             0.3333333333333333,
             "#9c179e"
            ],
            [
             0.4444444444444444,
             "#bd3786"
            ],
            [
             0.5555555555555556,
             "#d8576b"
            ],
            [
             0.6666666666666666,
             "#ed7953"
            ],
            [
             0.7777777777777778,
             "#fb9f3a"
            ],
            [
             0.8888888888888888,
             "#fdca26"
            ],
            [
             1,
             "#f0f921"
            ]
           ]
          },
          "colorway": [
           "#636efa",
           "#EF553B",
           "#00cc96",
           "#ab63fa",
           "#FFA15A",
           "#19d3f3",
           "#FF6692",
           "#B6E880",
           "#FF97FF",
           "#FECB52"
          ],
          "font": {
           "color": "#2a3f5f"
          },
          "geo": {
           "bgcolor": "white",
           "lakecolor": "white",
           "landcolor": "#E5ECF6",
           "showlakes": true,
           "showland": true,
           "subunitcolor": "white"
          },
          "hoverlabel": {
           "align": "left"
          },
          "hovermode": "closest",
          "mapbox": {
           "style": "light"
          },
          "paper_bgcolor": "white",
          "plot_bgcolor": "#E5ECF6",
          "polar": {
           "angularaxis": {
            "gridcolor": "white",
            "linecolor": "white",
            "ticks": ""
           },
           "bgcolor": "#E5ECF6",
           "radialaxis": {
            "gridcolor": "white",
            "linecolor": "white",
            "ticks": ""
           }
          },
          "scene": {
           "xaxis": {
            "backgroundcolor": "#E5ECF6",
            "gridcolor": "white",
            "gridwidth": 2,
            "linecolor": "white",
            "showbackground": true,
            "ticks": "",
            "zerolinecolor": "white"
           },
           "yaxis": {
            "backgroundcolor": "#E5ECF6",
            "gridcolor": "white",
            "gridwidth": 2,
            "linecolor": "white",
            "showbackground": true,
            "ticks": "",
            "zerolinecolor": "white"
           },
           "zaxis": {
            "backgroundcolor": "#E5ECF6",
            "gridcolor": "white",
            "gridwidth": 2,
            "linecolor": "white",
            "showbackground": true,
            "ticks": "",
            "zerolinecolor": "white"
           }
          },
          "shapedefaults": {
           "line": {
            "color": "#2a3f5f"
           }
          },
          "ternary": {
           "aaxis": {
            "gridcolor": "white",
            "linecolor": "white",
            "ticks": ""
           },
           "baxis": {
            "gridcolor": "white",
            "linecolor": "white",
            "ticks": ""
           },
           "bgcolor": "#E5ECF6",
           "caxis": {
            "gridcolor": "white",
            "linecolor": "white",
            "ticks": ""
           }
          },
          "title": {
           "x": 0.05
          },
          "xaxis": {
           "automargin": true,
           "gridcolor": "white",
           "linecolor": "white",
           "ticks": "",
           "title": {
            "standoff": 15
           },
           "zerolinecolor": "white",
           "zerolinewidth": 2
          },
          "yaxis": {
           "automargin": true,
           "gridcolor": "white",
           "linecolor": "white",
           "ticks": "",
           "title": {
            "standoff": 15
           },
           "zerolinecolor": "white",
           "zerolinewidth": 2
          }
         }
        },
        "xaxis": {
         "anchor": "y",
         "constrain": "domain",
         "domain": [
          0,
          1
         ],
         "scaleanchor": "y"
        },
        "yaxis": {
         "anchor": "x",
         "autorange": "reversed",
         "constrain": "domain",
         "domain": [
          0,
          1
         ]
        }
       }
      },
      "text/html": [
       "<div>                            <div id=\"966589d8-e677-48e9-981b-ac62d5903a0e\" class=\"plotly-graph-div\" style=\"height:525px; width:100%;\"></div>            <script type=\"text/javascript\">                require([\"plotly\"], function(Plotly) {                    window.PLOTLYENV=window.PLOTLYENV || {};                                    if (document.getElementById(\"966589d8-e677-48e9-981b-ac62d5903a0e\")) {                    Plotly.newPlot(                        \"966589d8-e677-48e9-981b-ac62d5903a0e\",                        [{\"coloraxis\":\"coloraxis\",\"name\":\"0\",\"z\":[[0.1682356745004654,0.153471902012825,0.1677439957857132,0.15746237337589264,0.1786605566740036,0.17442552745342255],[0.16668806970119476,0.15412187576293945,0.17400461435317993,0.17236940562725067,0.17375607788562775,0.15905995666980743],[0.17620988190174103,0.14440932869911194,0.15464188158512115,0.17619168758392334,0.1836414933204651,0.16490571200847626],[0.16374115645885468,0.16016778349876404,0.15992526710033417,0.16756904125213623,0.18155203759670258,0.16704469919204712],[0.17293311655521393,0.14663155376911163,0.17497463524341583,0.1655210256576538,0.17520247399806976,0.16473719477653503],[0.1700754165649414,0.15800055861473083,0.1553594321012497,0.17039842903614044,0.1863759607076645,0.15979023277759552],[0.17190079391002655,0.15608933568000793,0.1770971566438675,0.16351936757564545,0.1763335019350052,0.15505988895893097],[0.16030599176883698,0.16703681647777557,0.16426979005336761,0.16371841728687286,0.18283754587173462,0.16183145344257355],[0.17461293935775757,0.15862564742565155,0.17410241067409515,0.15945973992347717,0.1785324662923813,0.15466676652431488],[0.16849233210086823,0.1554020792245865,0.1769264191389084,0.166293665766716,0.17683054506778717,0.15605495870113373]],\"type\":\"heatmap\",\"xaxis\":\"x\",\"yaxis\":\"y\",\"hovertemplate\":\"x: %{x}\\u003cbr\\u003ey: %{y}\\u003cbr\\u003ecolor: %{z}\\u003cextra\\u003e\\u003c\\u002fextra\\u003e\"}],                        {\"template\":{\"data\":{\"histogram2dcontour\":[{\"type\":\"histogram2dcontour\",\"colorbar\":{\"outlinewidth\":0,\"ticks\":\"\"},\"colorscale\":[[0.0,\"#0d0887\"],[0.1111111111111111,\"#46039f\"],[0.2222222222222222,\"#7201a8\"],[0.3333333333333333,\"#9c179e\"],[0.4444444444444444,\"#bd3786\"],[0.5555555555555556,\"#d8576b\"],[0.6666666666666666,\"#ed7953\"],[0.7777777777777778,\"#fb9f3a\"],[0.8888888888888888,\"#fdca26\"],[1.0,\"#f0f921\"]]}],\"choropleth\":[{\"type\":\"choropleth\",\"colorbar\":{\"outlinewidth\":0,\"ticks\":\"\"}}],\"histogram2d\":[{\"type\":\"histogram2d\",\"colorbar\":{\"outlinewidth\":0,\"ticks\":\"\"},\"colorscale\":[[0.0,\"#0d0887\"],[0.1111111111111111,\"#46039f\"],[0.2222222222222222,\"#7201a8\"],[0.3333333333333333,\"#9c179e\"],[0.4444444444444444,\"#bd3786\"],[0.5555555555555556,\"#d8576b\"],[0.6666666666666666,\"#ed7953\"],[0.7777777777777778,\"#fb9f3a\"],[0.8888888888888888,\"#fdca26\"],[1.0,\"#f0f921\"]]}],\"heatmap\":[{\"type\":\"heatmap\",\"colorbar\":{\"outlinewidth\":0,\"ticks\":\"\"},\"colorscale\":[[0.0,\"#0d0887\"],[0.1111111111111111,\"#46039f\"],[0.2222222222222222,\"#7201a8\"],[0.3333333333333333,\"#9c179e\"],[0.4444444444444444,\"#bd3786\"],[0.5555555555555556,\"#d8576b\"],[0.6666666666666666,\"#ed7953\"],[0.7777777777777778,\"#fb9f3a\"],[0.8888888888888888,\"#fdca26\"],[1.0,\"#f0f921\"]]}],\"heatmapgl\":[{\"type\":\"heatmapgl\",\"colorbar\":{\"outlinewidth\":0,\"ticks\":\"\"},\"colorscale\":[[0.0,\"#0d0887\"],[0.1111111111111111,\"#46039f\"],[0.2222222222222222,\"#7201a8\"],[0.3333333333333333,\"#9c179e\"],[0.4444444444444444,\"#bd3786\"],[0.5555555555555556,\"#d8576b\"],[0.6666666666666666,\"#ed7953\"],[0.7777777777777778,\"#fb9f3a\"],[0.8888888888888888,\"#fdca26\"],[1.0,\"#f0f921\"]]}],\"contourcarpet\":[{\"type\":\"contourcarpet\",\"colorbar\":{\"outlinewidth\":0,\"ticks\":\"\"}}],\"contour\":[{\"type\":\"contour\",\"colorbar\":{\"outlinewidth\":0,\"ticks\":\"\"},\"colorscale\":[[0.0,\"#0d0887\"],[0.1111111111111111,\"#46039f\"],[0.2222222222222222,\"#7201a8\"],[0.3333333333333333,\"#9c179e\"],[0.4444444444444444,\"#bd3786\"],[0.5555555555555556,\"#d8576b\"],[0.6666666666666666,\"#ed7953\"],[0.7777777777777778,\"#fb9f3a\"],[0.8888888888888888,\"#fdca26\"],[1.0,\"#f0f921\"]]}],\"surface\":[{\"type\":\"surface\",\"colorbar\":{\"outlinewidth\":0,\"ticks\":\"\"},\"colorscale\":[[0.0,\"#0d0887\"],[0.1111111111111111,\"#46039f\"],[0.2222222222222222,\"#7201a8\"],[0.3333333333333333,\"#9c179e\"],[0.4444444444444444,\"#bd3786\"],[0.5555555555555556,\"#d8576b\"],[0.6666666666666666,\"#ed7953\"],[0.7777777777777778,\"#fb9f3a\"],[0.8888888888888888,\"#fdca26\"],[1.0,\"#f0f921\"]]}],\"mesh3d\":[{\"type\":\"mesh3d\",\"colorbar\":{\"outlinewidth\":0,\"ticks\":\"\"}}],\"scatter\":[{\"fillpattern\":{\"fillmode\":\"overlay\",\"size\":10,\"solidity\":0.2},\"type\":\"scatter\"}],\"parcoords\":[{\"type\":\"parcoords\",\"line\":{\"colorbar\":{\"outlinewidth\":0,\"ticks\":\"\"}}}],\"scatterpolargl\":[{\"type\":\"scatterpolargl\",\"marker\":{\"colorbar\":{\"outlinewidth\":0,\"ticks\":\"\"}}}],\"bar\":[{\"error_x\":{\"color\":\"#2a3f5f\"},\"error_y\":{\"color\":\"#2a3f5f\"},\"marker\":{\"line\":{\"color\":\"#E5ECF6\",\"width\":0.5},\"pattern\":{\"fillmode\":\"overlay\",\"size\":10,\"solidity\":0.2}},\"type\":\"bar\"}],\"scattergeo\":[{\"type\":\"scattergeo\",\"marker\":{\"colorbar\":{\"outlinewidth\":0,\"ticks\":\"\"}}}],\"scatterpolar\":[{\"type\":\"scatterpolar\",\"marker\":{\"colorbar\":{\"outlinewidth\":0,\"ticks\":\"\"}}}],\"histogram\":[{\"marker\":{\"pattern\":{\"fillmode\":\"overlay\",\"size\":10,\"solidity\":0.2}},\"type\":\"histogram\"}],\"scattergl\":[{\"type\":\"scattergl\",\"marker\":{\"colorbar\":{\"outlinewidth\":0,\"ticks\":\"\"}}}],\"scatter3d\":[{\"type\":\"scatter3d\",\"line\":{\"colorbar\":{\"outlinewidth\":0,\"ticks\":\"\"}},\"marker\":{\"colorbar\":{\"outlinewidth\":0,\"ticks\":\"\"}}}],\"scattermapbox\":[{\"type\":\"scattermapbox\",\"marker\":{\"colorbar\":{\"outlinewidth\":0,\"ticks\":\"\"}}}],\"scatterternary\":[{\"type\":\"scatterternary\",\"marker\":{\"colorbar\":{\"outlinewidth\":0,\"ticks\":\"\"}}}],\"scattercarpet\":[{\"type\":\"scattercarpet\",\"marker\":{\"colorbar\":{\"outlinewidth\":0,\"ticks\":\"\"}}}],\"carpet\":[{\"aaxis\":{\"endlinecolor\":\"#2a3f5f\",\"gridcolor\":\"white\",\"linecolor\":\"white\",\"minorgridcolor\":\"white\",\"startlinecolor\":\"#2a3f5f\"},\"baxis\":{\"endlinecolor\":\"#2a3f5f\",\"gridcolor\":\"white\",\"linecolor\":\"white\",\"minorgridcolor\":\"white\",\"startlinecolor\":\"#2a3f5f\"},\"type\":\"carpet\"}],\"table\":[{\"cells\":{\"fill\":{\"color\":\"#EBF0F8\"},\"line\":{\"color\":\"white\"}},\"header\":{\"fill\":{\"color\":\"#C8D4E3\"},\"line\":{\"color\":\"white\"}},\"type\":\"table\"}],\"barpolar\":[{\"marker\":{\"line\":{\"color\":\"#E5ECF6\",\"width\":0.5},\"pattern\":{\"fillmode\":\"overlay\",\"size\":10,\"solidity\":0.2}},\"type\":\"barpolar\"}],\"pie\":[{\"automargin\":true,\"type\":\"pie\"}]},\"layout\":{\"autotypenumbers\":\"strict\",\"colorway\":[\"#636efa\",\"#EF553B\",\"#00cc96\",\"#ab63fa\",\"#FFA15A\",\"#19d3f3\",\"#FF6692\",\"#B6E880\",\"#FF97FF\",\"#FECB52\"],\"font\":{\"color\":\"#2a3f5f\"},\"hovermode\":\"closest\",\"hoverlabel\":{\"align\":\"left\"},\"paper_bgcolor\":\"white\",\"plot_bgcolor\":\"#E5ECF6\",\"polar\":{\"bgcolor\":\"#E5ECF6\",\"angularaxis\":{\"gridcolor\":\"white\",\"linecolor\":\"white\",\"ticks\":\"\"},\"radialaxis\":{\"gridcolor\":\"white\",\"linecolor\":\"white\",\"ticks\":\"\"}},\"ternary\":{\"bgcolor\":\"#E5ECF6\",\"aaxis\":{\"gridcolor\":\"white\",\"linecolor\":\"white\",\"ticks\":\"\"},\"baxis\":{\"gridcolor\":\"white\",\"linecolor\":\"white\",\"ticks\":\"\"},\"caxis\":{\"gridcolor\":\"white\",\"linecolor\":\"white\",\"ticks\":\"\"}},\"coloraxis\":{\"colorbar\":{\"outlinewidth\":0,\"ticks\":\"\"}},\"colorscale\":{\"sequential\":[[0.0,\"#0d0887\"],[0.1111111111111111,\"#46039f\"],[0.2222222222222222,\"#7201a8\"],[0.3333333333333333,\"#9c179e\"],[0.4444444444444444,\"#bd3786\"],[0.5555555555555556,\"#d8576b\"],[0.6666666666666666,\"#ed7953\"],[0.7777777777777778,\"#fb9f3a\"],[0.8888888888888888,\"#fdca26\"],[1.0,\"#f0f921\"]],\"sequentialminus\":[[0.0,\"#0d0887\"],[0.1111111111111111,\"#46039f\"],[0.2222222222222222,\"#7201a8\"],[0.3333333333333333,\"#9c179e\"],[0.4444444444444444,\"#bd3786\"],[0.5555555555555556,\"#d8576b\"],[0.6666666666666666,\"#ed7953\"],[0.7777777777777778,\"#fb9f3a\"],[0.8888888888888888,\"#fdca26\"],[1.0,\"#f0f921\"]],\"diverging\":[[0,\"#8e0152\"],[0.1,\"#c51b7d\"],[0.2,\"#de77ae\"],[0.3,\"#f1b6da\"],[0.4,\"#fde0ef\"],[0.5,\"#f7f7f7\"],[0.6,\"#e6f5d0\"],[0.7,\"#b8e186\"],[0.8,\"#7fbc41\"],[0.9,\"#4d9221\"],[1,\"#276419\"]]},\"xaxis\":{\"gridcolor\":\"white\",\"linecolor\":\"white\",\"ticks\":\"\",\"title\":{\"standoff\":15},\"zerolinecolor\":\"white\",\"automargin\":true,\"zerolinewidth\":2},\"yaxis\":{\"gridcolor\":\"white\",\"linecolor\":\"white\",\"ticks\":\"\",\"title\":{\"standoff\":15},\"zerolinecolor\":\"white\",\"automargin\":true,\"zerolinewidth\":2},\"scene\":{\"xaxis\":{\"backgroundcolor\":\"#E5ECF6\",\"gridcolor\":\"white\",\"linecolor\":\"white\",\"showbackground\":true,\"ticks\":\"\",\"zerolinecolor\":\"white\",\"gridwidth\":2},\"yaxis\":{\"backgroundcolor\":\"#E5ECF6\",\"gridcolor\":\"white\",\"linecolor\":\"white\",\"showbackground\":true,\"ticks\":\"\",\"zerolinecolor\":\"white\",\"gridwidth\":2},\"zaxis\":{\"backgroundcolor\":\"#E5ECF6\",\"gridcolor\":\"white\",\"linecolor\":\"white\",\"showbackground\":true,\"ticks\":\"\",\"zerolinecolor\":\"white\",\"gridwidth\":2}},\"shapedefaults\":{\"line\":{\"color\":\"#2a3f5f\"}},\"annotationdefaults\":{\"arrowcolor\":\"#2a3f5f\",\"arrowhead\":0,\"arrowwidth\":1},\"geo\":{\"bgcolor\":\"white\",\"landcolor\":\"#E5ECF6\",\"subunitcolor\":\"white\",\"showland\":true,\"showlakes\":true,\"lakecolor\":\"white\"},\"title\":{\"x\":0.05},\"mapbox\":{\"style\":\"light\"}}},\"xaxis\":{\"anchor\":\"y\",\"domain\":[0.0,1.0],\"scaleanchor\":\"y\",\"constrain\":\"domain\"},\"yaxis\":{\"anchor\":\"x\",\"domain\":[0.0,1.0],\"autorange\":\"reversed\",\"constrain\":\"domain\"},\"coloraxis\":{\"colorscale\":[[0.0,\"#0d0887\"],[0.1111111111111111,\"#46039f\"],[0.2222222222222222,\"#7201a8\"],[0.3333333333333333,\"#9c179e\"],[0.4444444444444444,\"#bd3786\"],[0.5555555555555556,\"#d8576b\"],[0.6666666666666666,\"#ed7953\"],[0.7777777777777778,\"#fb9f3a\"],[0.8888888888888888,\"#fdca26\"],[1.0,\"#f0f921\"]]},\"margin\":{\"t\":60}},                        {\"responsive\": true}                    ).then(function(){\n",
       "                            \n",
       "var gd = document.getElementById('966589d8-e677-48e9-981b-ac62d5903a0e');\n",
       "var x = new MutationObserver(function (mutations, observer) {{\n",
       "        var display = window.getComputedStyle(gd).display;\n",
       "        if (!display || display === 'none') {{\n",
       "            console.log([gd, 'removed!']);\n",
       "            Plotly.purge(gd);\n",
       "            observer.disconnect();\n",
       "        }}\n",
       "}});\n",
       "\n",
       "// Listen for the removal of the full notebook cells\n",
       "var notebookContainer = gd.closest('#notebook-container');\n",
       "if (notebookContainer) {{\n",
       "    x.observe(notebookContainer, {childList: true});\n",
       "}}\n",
       "\n",
       "// Listen for the clearing of the current output cell\n",
       "var outputEl = gd.closest('.output');\n",
       "if (outputEl) {{\n",
       "    x.observe(outputEl, {childList: true});\n",
       "}}\n",
       "\n",
       "                        })                };                });            </script>        </div>"
      ]
     },
     "metadata": {},
     "output_type": "display_data"
    }
   ],
   "source": [
    "import plotly.express as px\n",
    "\n",
    "\"\"\"\n",
    "Each row represents a test instance, while each column\n",
    "represents a feature.\n",
    "\"\"\"\n",
    "\n",
    "fig = px.imshow(cumulative_attns)\n",
    "fig.show()"
   ]
  },
  {
   "cell_type": "code",
   "execution_count": null,
   "id": "d5183dbc",
   "metadata": {},
   "outputs": [],
   "source": []
  }
 ],
 "metadata": {
  "kernelspec": {
   "display_name": "Python 3 (ipykernel)",
   "language": "python",
   "name": "python3"
  },
  "language_info": {
   "codemirror_mode": {
    "name": "ipython",
    "version": 3
   },
   "file_extension": ".py",
   "mimetype": "text/x-python",
   "name": "python",
   "nbconvert_exporter": "python",
   "pygments_lexer": "ipython3",
   "version": "3.11.7"
  }
 },
 "nbformat": 4,
 "nbformat_minor": 5
}
