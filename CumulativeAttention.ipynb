{
 "cells": [
  {
   "cell_type": "markdown",
   "metadata": {},
   "source": [
    "# Cumulative Attention Calculation"
   ]
  },
  {
   "cell_type": "code",
   "execution_count": 1,
   "metadata": {},
   "outputs": [],
   "source": [
    "import torch\n",
    "import numpy as np"
   ]
  },
  {
   "cell_type": "code",
   "execution_count": 24,
   "metadata": {},
   "outputs": [
    {
     "data": {
      "text/plain": [
       "(2, 4, 4)"
      ]
     },
     "execution_count": 24,
     "metadata": {},
     "output_type": "execute_result"
    }
   ],
   "source": [
    "A1 = np.array([\n",
    "    [\n",
    "        [0.8, 0.0, 0.2, 0.0],\n",
    "        [1.0, 0.0, 0.0, 0.0],\n",
    "        [0.5, 0.5, 0.0, 0.0],\n",
    "        [0.0, 0.0, 0.9, 0.1]\n",
    "    ],\n",
    "    [\n",
    "        [1.0, 0.0, 0.0, 0.0],\n",
    "        [0.0, 0.0, 1.0, 0.0],\n",
    "        [1.0, 0.0, 0.0, 0.0],\n",
    "        [0.0, 0.0, 0.1, 0.9]\n",
    "    ]\n",
    "])\n",
    "A1.shape"
   ]
  },
  {
   "cell_type": "code",
   "execution_count": 67,
   "metadata": {},
   "outputs": [
    {
     "data": {
      "text/plain": [
       "(2, 4, 4)"
      ]
     },
     "execution_count": 67,
     "metadata": {},
     "output_type": "execute_result"
    }
   ],
   "source": [
    "A2 = np.array([\n",
    "    [\n",
    "        [0.1, 0.9, 0.0, 0.0],\n",
    "        [0.0, 0.0, 1.0, 0.0],\n",
    "        [1.0, 0.0, 0.0, 0.0],\n",
    "        [0.0, 1.0, 0.0, 0.0]\n",
    "    ],\n",
    "    [\n",
    "        [1.0, 0.0, 0.0, 0.0],\n",
    "        [0.0, 0.0, 0.0, 1.0],\n",
    "        [0.0, 0.0, 1.0, 0.0],\n",
    "        [0.0, 0.5, 0.0, 0.5]\n",
    "    ]\n",
    "])\n",
    "A2.shape"
   ]
  },
  {
   "cell_type": "code",
   "execution_count": 71,
   "metadata": {},
   "outputs": [],
   "source": [
    "A3 = np.array([\n",
    "    [\n",
    "        [0.0, 0.0, 1.0, 0.0],\n",
    "        [1.0, 0.0, 0.0, 0.0],\n",
    "        [0.5, 0.5, 0.0, 0.0],\n",
    "        [0.0, 0.0, 0.9, 0.1]\n",
    "    ]\n",
    "])"
   ]
  },
  {
   "cell_type": "code",
   "execution_count": 25,
   "metadata": {},
   "outputs": [
    {
     "data": {
      "text/plain": [
       "array([[0.225 , 0.    , 0.025 , 0.    ],\n",
       "       [0.125 , 0.    , 0.125 , 0.    ],\n",
       "       [0.1875, 0.0625, 0.    , 0.    ],\n",
       "       [0.    , 0.    , 0.125 , 0.125 ]])"
      ]
     },
     "execution_count": 25,
     "metadata": {},
     "output_type": "execute_result"
    }
   ],
   "source": [
    "ans = A1.sum(axis=0)/(A1.shape[0]*4.0)\n",
    "ans"
   ]
  },
  {
   "cell_type": "code",
   "execution_count": 49,
   "metadata": {},
   "outputs": [
    {
     "data": {
      "text/plain": [
       "array([0.5375, 0.0625, 0.275 , 0.125 ])"
      ]
     },
     "execution_count": 49,
     "metadata": {},
     "output_type": "execute_result"
    }
   ],
   "source": [
    "ans.sum(axis=0)"
   ]
  },
  {
   "cell_type": "code",
   "execution_count": 52,
   "metadata": {},
   "outputs": [],
   "source": [
    "def CumulativeAttention(Atts):\n",
    "    l = Atts.__len__()\n",
    "    s = Atts[1].shape[-1]\n",
    "    As = np.zeros(shape=(l, s, s))\n",
    "    C = np.zeros(shape=(l,s))\n",
    "\n",
    "    i = 0\n",
    "    for A in Atts:\n",
    "        As[i] = A.sum(axis=0)/(A.shape[0])\n",
    "        if i > 0:\n",
    "            As[i] = np.matmul(As[i],As[i-1])\n",
    "        C[i] = As[i].sum(axis=0)/s\n",
    "        i = i+1\n",
    "\n",
    "    return (As, C)"
   ]
  },
  {
   "cell_type": "code",
   "execution_count": 72,
   "metadata": {},
   "outputs": [
    {
     "data": {
      "text/plain": [
       "array([[0.5375  , 0.0625  , 0.275   , 0.125   ],\n",
       "       [0.57375 , 0.0625  , 0.27    , 0.09375 ],\n",
       "       [0.718125, 0.075   , 0.1725  , 0.034375]])"
      ]
     },
     "execution_count": 72,
     "metadata": {},
     "output_type": "execute_result"
    }
   ],
   "source": [
    "As = [A1, A2, A3]\n",
    "(A, C) = CumulativeAttention(As)\n",
    "C"
   ]
  },
  {
   "cell_type": "code",
   "execution_count": 54,
   "metadata": {},
   "outputs": [
    {
     "data": {
      "text/plain": [
       "array([1., 1., 1.])"
      ]
     },
     "execution_count": 54,
     "metadata": {},
     "output_type": "execute_result"
    }
   ],
   "source": [
    "C.sum(axis=1)"
   ]
  },
  {
   "cell_type": "code",
   "execution_count": 76,
   "metadata": {},
   "outputs": [
    {
     "data": {
      "text/plain": [
       "0.034375"
      ]
     },
     "execution_count": 76,
     "metadata": {},
     "output_type": "execute_result"
    }
   ],
   "source": [
    "c_4 = 0.9*1.0*0.5 + 0.9*0.5*0.1 + 0.1*1.0*0.5 + 0.1*0.5*0.1\n",
    "c_4*0.5*0.5/4.0"
   ]
  },
  {
   "cell_type": "code",
   "execution_count": 78,
   "metadata": {},
   "outputs": [
    {
     "data": {
      "text/plain": [
       "0.5375"
      ]
     },
     "execution_count": 78,
     "metadata": {},
     "output_type": "execute_result"
    }
   ],
   "source": [
    "4.3/8"
   ]
  },
  {
   "cell_type": "code",
   "execution_count": null,
   "metadata": {},
   "outputs": [],
   "source": []
  }
 ],
 "metadata": {
  "kernelspec": {
   "display_name": "Python 3 (ipykernel)",
   "language": "python",
   "name": "python3"
  },
  "language_info": {
   "codemirror_mode": {
    "name": "ipython",
    "version": 3
   },
   "file_extension": ".py",
   "mimetype": "text/x-python",
   "name": "python",
   "nbconvert_exporter": "python",
   "pygments_lexer": "ipython3",
   "version": "3.11.7"
  }
 },
 "nbformat": 4,
 "nbformat_minor": 2
}
