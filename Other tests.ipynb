{
 "cells": [
  {
   "cell_type": "code",
   "execution_count": 10,
   "id": "9eb7d600",
   "metadata": {},
   "outputs": [],
   "source": [
    "import json\n",
    "import os\n",
    "import numpy as np\n",
    "from utils import attention\n",
    "import torch"
   ]
  },
  {
   "cell_type": "markdown",
   "id": "a8e6fb37",
   "metadata": {},
   "source": [
    "# Validate cumulative attention"
   ]
  },
  {
   "cell_type": "code",
   "execution_count": 2,
   "id": "f234c018",
   "metadata": {},
   "outputs": [
    {
     "data": {
      "text/plain": [
       "(2, 4, 4)"
      ]
     },
     "execution_count": 2,
     "metadata": {},
     "output_type": "execute_result"
    }
   ],
   "source": [
    "A1 = np.array([\n",
    "    [\n",
    "        [0.8, 0.0, 0.2, 0.0],\n",
    "        [1.0, 0.0, 0.0, 0.0],\n",
    "        [0.5, 0.5, 0.0, 0.0],\n",
    "        [0.0, 0.0, 0.9, 0.1]\n",
    "    ],\n",
    "    [\n",
    "        [1.0, 0.0, 0.0, 0.0],\n",
    "        [0.0, 0.0, 1.0, 0.0],\n",
    "        [1.0, 0.0, 0.0, 0.0],\n",
    "        [0.0, 0.0, 0.1, 0.9]\n",
    "    ]\n",
    "])\n",
    "A1.shape"
   ]
  },
  {
   "cell_type": "code",
   "execution_count": 3,
   "id": "6882f4c2",
   "metadata": {},
   "outputs": [
    {
     "data": {
      "text/plain": [
       "(2, 4, 4)"
      ]
     },
     "execution_count": 3,
     "metadata": {},
     "output_type": "execute_result"
    }
   ],
   "source": [
    "A2 = np.array([\n",
    "    [\n",
    "        [0.1, 0.9, 0.0, 0.0],\n",
    "        [0.0, 0.0, 1.0, 0.0],\n",
    "        [1.0, 0.0, 0.0, 0.0],\n",
    "        [0.0, 1.0, 0.0, 0.0]\n",
    "    ],\n",
    "    [\n",
    "        [1.0, 0.0, 0.0, 0.0],\n",
    "        [0.0, 0.0, 0.0, 1.0],\n",
    "        [0.0, 0.0, 1.0, 0.0],\n",
    "        [0.0, 0.5, 0.0, 0.5]\n",
    "    ]\n",
    "])\n",
    "A2.shape"
   ]
  },
  {
   "cell_type": "code",
   "execution_count": 5,
   "id": "3eb23cbb",
   "metadata": {},
   "outputs": [
    {
     "data": {
      "text/plain": [
       "(2, 4, 4)"
      ]
     },
     "execution_count": 5,
     "metadata": {},
     "output_type": "execute_result"
    }
   ],
   "source": [
    "A3 = np.array([\n",
    "    [\n",
    "        [0.0, 0.0, 1.0, 0.0],\n",
    "        [1.0, 0.0, 0.0, 0.0],\n",
    "        [0.5, 0.5, 0.0, 0.0],\n",
    "        [0.0, 0.0, 0.9, 0.1]\n",
    "    ], \n",
    "    [\n",
    "        [0.0, 0.0, 1.0, 0.0],\n",
    "        [1.0, 0.0, 0.0, 0.0],\n",
    "        [0.5, 0.5, 0.0, 0.0],\n",
    "        [0.0, 0.0, 0.9, 0.1]\n",
    "    ]\n",
    "])\n",
    "A3.shape"
   ]
  },
  {
   "cell_type": "code",
   "execution_count": 8,
   "id": "c073182e",
   "metadata": {},
   "outputs": [
    {
     "data": {
      "text/plain": [
       "(3, 1, 2, 4, 4)"
      ]
     },
     "execution_count": 8,
     "metadata": {},
     "output_type": "execute_result"
    }
   ],
   "source": [
    "# Shape: layers, batch, heads, o_features, i_features\n",
    "As = np.array([A1, A2, A3])[:, None]\n",
    "\n",
    "assert np.allclose(As.sum(axis=-1), 1), \"Wrong attention\"\n",
    "\n",
    "As.shape"
   ]
  },
  {
   "cell_type": "code",
   "execution_count": 14,
   "id": "d2f212b6",
   "metadata": {},
   "outputs": [
    {
     "data": {
      "text/plain": [
       "array([[[0.5375    , 0.0625    , 0.275     , 0.125     ]],\n",
       "\n",
       "       [[0.57375   , 0.0625    , 0.26999998, 0.09375   ]],\n",
       "\n",
       "       [[0.71812505, 0.075     , 0.17250001, 0.034375  ]]], dtype=float32)"
      ]
     },
     "execution_count": 14,
     "metadata": {},
     "output_type": "execute_result"
    }
   ],
   "source": [
    "single_attns, cum_attns = attention.compute_std_attentions(torch.Tensor(As), \"other\")\n",
    "cum_attns.detach().numpy()"
   ]
  },
  {
   "cell_type": "markdown",
   "id": "3e3cb841",
   "metadata": {},
   "source": [
    "# How many epochs to run the models?"
   ]
  },
  {
   "cell_type": "code",
   "execution_count": 7,
   "id": "62cc8640",
   "metadata": {},
   "outputs": [],
   "source": [
    "datasets = [\"adult\", \"anneal\", \"australian\", \"jasmine\", \"kr-vs-kp\", \"ldpa\", \"sylvine\", \"volkert\"]\n",
    "metrics = [\"balanced_accuracy\", \"log_loss\"]\n",
    "trials = 5"
   ]
  },
  {
   "cell_type": "code",
   "execution_count": 8,
   "id": "fabb32dc",
   "metadata": {},
   "outputs": [
    {
     "name": "stdout",
     "output_type": "stream",
     "text": [
      "Dataset: adult   Metrics: balanced_accuracy   Epochs:[19, 20, 19, 20, 19]   Mean:19.4  Std:0.4898979485566356\n",
      "Dataset: adult   Metrics: log_loss   Epochs:[38, 33, 31, 34, 31]   Mean:33.4  Std:2.5768197453450252\n",
      "Dataset: anneal   Metrics: balanced_accuracy   Epochs:[62, 67, 61, 71, 48]   Mean:61.8  Std:7.782030583337488\n",
      "Dataset: anneal   Metrics: log_loss   Epochs:[61, 51, 88, 84, 99]   Mean:76.6  Std:17.805617091243988\n",
      "Dataset: australian   Metrics: balanced_accuracy   Epochs:[145, 144, 148, 106, 139]   Mean:136.4  Std:15.47384890710776\n",
      "Dataset: australian   Metrics: log_loss   Epochs:[22, 25, 21, 22, 23]   Mean:22.6  Std:1.3564659966250536\n",
      "Dataset: jasmine   Metrics: balanced_accuracy   Epochs:[30, 32, 28, 27, 34]   Mean:30.2  Std:2.5612496949731396\n",
      "Dataset: jasmine   Metrics: log_loss   Epochs:[34, 33, 34, 37, 35]   Mean:34.6  Std:1.3564659966250536\n",
      "Dataset: kr-vs-kp   Metrics: balanced_accuracy   Epochs:[59, 70, 126, 69, 49]   Mean:74.6  Std:26.80746164783231\n",
      "Dataset: kr-vs-kp   Metrics: log_loss   Epochs:[76, 50, 77, 82, 60]   Mean:69.0  Std:12.033287165193059\n",
      "Dataset: ldpa   Metrics: balanced_accuracy   Epochs:[]   Mean:nan  Std:nan\n",
      "Dataset: ldpa   Metrics: log_loss   Epochs:[]   Mean:nan  Std:nan\n",
      "Dataset: sylvine   Metrics: balanced_accuracy   Epochs:[41, 44, 41, 41, 35]   Mean:40.4  Std:2.939387691339814\n",
      "Dataset: sylvine   Metrics: log_loss   Epochs:[38, 44, 39, 40, 37]   Mean:39.6  Std:2.4166091947189146\n",
      "Dataset: volkert   Metrics: balanced_accuracy   Epochs:[]   Mean:nan  Std:nan\n",
      "Dataset: volkert   Metrics: log_loss   Epochs:[]   Mean:nan  Std:nan\n"
     ]
    },
    {
     "name": "stderr",
     "output_type": "stream",
     "text": [
      "/home/uriel/Miniconda3/envs/TT/lib/python3.11/site-packages/numpy/core/fromnumeric.py:3504: RuntimeWarning: Mean of empty slice.\n",
      "  return _methods._mean(a, axis=axis, dtype=dtype,\n",
      "/home/uriel/Miniconda3/envs/TT/lib/python3.11/site-packages/numpy/core/_methods.py:129: RuntimeWarning: invalid value encountered in scalar divide\n",
      "  ret = ret.dtype.type(ret / rcount)\n",
      "/home/uriel/Miniconda3/envs/TT/lib/python3.11/site-packages/numpy/core/_methods.py:206: RuntimeWarning: Degrees of freedom <= 0 for slice\n",
      "  ret = _var(a, axis=axis, dtype=dtype, out=out, ddof=ddof,\n",
      "/home/uriel/Miniconda3/envs/TT/lib/python3.11/site-packages/numpy/core/_methods.py:163: RuntimeWarning: invalid value encountered in divide\n",
      "  arrmean = um.true_divide(arrmean, div, out=arrmean,\n",
      "/home/uriel/Miniconda3/envs/TT/lib/python3.11/site-packages/numpy/core/_methods.py:198: RuntimeWarning: invalid value encountered in scalar divide\n",
      "  ret = ret.dtype.type(ret / rcount)\n"
     ]
    }
   ],
   "source": [
    "for d in datasets:\n",
    "    for m in metrics:\n",
    "        trials_epochs = []\n",
    "        for t in range(trials):\n",
    "            hist_file =  os.path.join(\"checkpoint\", d, \"best\", m, f\"T{t}\", \"model\", \"history.json\")\n",
    "            if os.path.exists(hist_file):\n",
    "                with open(hist_file, \"r\") as f:\n",
    "                    history = json.load(f)\n",
    "                    \n",
    "                trials_epochs.append(len(history))\n",
    "                \n",
    "        print(f\"Dataset: {d}   Metrics: {m}   Epochs:{trials_epochs}   Mean:{np.mean(trials_epochs)}  Std:{np.std(trials_epochs)}\")\n",
    "                    \n",
    "                "
   ]
  },
  {
   "cell_type": "code",
   "execution_count": null,
   "id": "2b917bd0",
   "metadata": {},
   "outputs": [],
   "source": []
  },
  {
   "cell_type": "code",
   "execution_count": null,
   "id": "bf9e1f9a",
   "metadata": {},
   "outputs": [],
   "source": []
  }
 ],
 "metadata": {
  "kernelspec": {
   "display_name": "Python 3 (ipykernel)",
   "language": "python",
   "name": "python3"
  },
  "language_info": {
   "codemirror_mode": {
    "name": "ipython",
    "version": 3
   },
   "file_extension": ".py",
   "mimetype": "text/x-python",
   "name": "python",
   "nbconvert_exporter": "python",
   "pygments_lexer": "ipython3",
   "version": "3.11.7"
  }
 },
 "nbformat": 4,
 "nbformat_minor": 5
}
